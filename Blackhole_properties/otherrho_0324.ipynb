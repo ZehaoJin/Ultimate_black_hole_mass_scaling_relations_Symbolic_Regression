{
 "cells": [
  {
   "cell_type": "code",
   "execution_count": 17,
   "id": "2b89024e",
   "metadata": {},
   "outputs": [],
   "source": [
    "import numpy as np\n",
    "import pandas as pd\n",
    "from pysr import PySRRegressor\n",
    "from IPython.display import HTML\n",
    "from matplotlib import pyplot as plt\n",
    "\n",
    "from hyperfit.linfit import LinFit"
   ]
  },
  {
   "cell_type": "code",
   "execution_count": 2,
   "id": "4c3ed5fc",
   "metadata": {},
   "outputs": [],
   "source": [
    "df_clean = pd.read_csv('clean_table_MBH_0303.csv')"
   ]
  },
  {
   "cell_type": "code",
   "execution_count": 3,
   "id": "1d5a6fbd",
   "metadata": {},
   "outputs": [
    {
     "name": "stdout",
     "output_type": "stream",
     "text": [
      "Index(['ETG', 'T-type', 'Bar', 'Disk', 'Ring', 'Core', 'Multiple',\n",
      "       'Compactness', 'AGN', 'Pseudobulge', 'BCG', 'cD', 'M_BH', 'M_BH_std',\n",
      "       'M*_sph', 'M*_gal', 'log_B/T', 'log_sigma0', 'log_R_e_sph_maj',\n",
      "       'log_R_e_sph_eq_kpc', 'log_n_sph_maj', 'log_n_sph_eq',\n",
      "       'log(I_e,sph,maj/M_Sun/pc^2)', 'log(I_e,sph,eq/M_Sun/pc^2)',\n",
      "       'Concentration_Index', 'avg_Rho_1kpc_Exact_All', 'r1_density_approx',\n",
      "       'log10(R10_kpc)', 'logRho_R10_approx', 'log_rho10_Exact',\n",
      "       'log10(R90_kpc)', 'logRho_R90_approx', 'log_rho_90_Exact_all',\n",
      "       'Rho_re_spatial', 'SR_pc_All', 'Rho_SR_pc_All', 'CR_def1_approx_new',\n",
      "       'Rho_cr_def1_approx_new', 'CR_def2_approx_new',\n",
      "       'Rho_CR_def2_approx_new', 'Sr(pc)_2_using_Falserm_drho',\n",
      "       'Log_Approx_Avg_density_10pc', 'log_Rho_e_Exact_new',\n",
      "       'logRho_e_approx_New', 'logRho_soi_approx_new', 'log_Rho_soi_exact_new',\n",
      "       'Avg_Rho_Re_Exact_all', 'Avg_Rho_soi_exact_all', 'Avg_Rho_re_Exact_all',\n",
      "       'Rho_re_Exact_all', 'r_soi_2BH_approx', 'Rho_r_soi_2BH_approx',\n",
      "       'Log_Avg_Rho_10kpc_approx', 'Log_Avg_Rho_10kpc_exact_final',\n",
      "       'Log_Avg_Rho_100pc_approx', 'Log_Avg_Rho_5kpc_approx',\n",
      "       'Log_Avg_rho_5kpc_exact_all', 'ube', 'bve', 'dc', 'bvtc', 'bri25',\n",
      "       'mabs', 'logblum'],\n",
      "      dtype='object')\n",
      "64\n"
     ]
    }
   ],
   "source": [
    "nanpercent=0.16\n",
    "cols_to_delete = df_clean.columns[df_clean.isnull().sum()/len(df_clean) > nanpercent]\n",
    "df_lessnan=df_clean.drop(cols_to_delete, axis = 1)\n",
    "df_purge=df_lessnan.dropna(axis='index',how='any')\n",
    "print(df_purge.columns)\n",
    "print(len(df_purge.columns))\n",
    "#HTML(df_purge.to_html())"
   ]
  },
  {
   "cell_type": "code",
   "execution_count": 4,
   "id": "e3b85017",
   "metadata": {},
   "outputs": [],
   "source": [
    "## useful functions\n",
    "def x2name(feature_list,df_handson):\n",
    "    for ind in feature_list:\n",
    "        i=int(ind[1:])\n",
    "        print('x',i,':',df_handson.columns[i])\n",
    "\n",
    "def rmse(y,y_pred,w):\n",
    "    return np.sqrt(np.average((y-y_pred)**2,weights=w))\n",
    "\n",
    "def df2name(df):\n",
    "    for i in range(len(df.columns)):\n",
    "        print('x',i,':',df.columns[i])\n",
    "        \n",
    "def test_relation(df,operator='simp',ncyclesperiteration=550,niterations=40,denoise=False,adaptive_parsimony_scaling=20,verbosity=0,colname=False):\n",
    "    y = df_purge['M_BH'].to_numpy()\n",
    "    w = 1/df_purge['M_BH_std'].to_numpy()**2\n",
    "\n",
    "    #df_handson = df\n",
    "    if colname:\n",
    "        X = df\n",
    "    else:\n",
    "        X = df.to_numpy()\n",
    "        #X = df_handson\n",
    "\n",
    "    if operator=='adv':\n",
    "        model = PySRRegressor(\n",
    "            binary_operators=[\"+\", \"-\", \"*\", \"/\",\"pow\"],\n",
    "            unary_operators=[\"exp\",\"log10\"],\n",
    "            warm_start=False,\n",
    "            denoise=denoise,\n",
    "            niterations=niterations,\n",
    "            ncyclesperiteration=ncyclesperiteration,\n",
    "            adaptive_parsimony_scaling=adaptive_parsimony_scaling,\n",
    "            verbosity=verbosity,\n",
    "            precision=64,\n",
    "        )\n",
    "    if operator=='simp':\n",
    "        model = PySRRegressor(\n",
    "            binary_operators=[\"+\", \"-\", \"*\", \"/\", \"pow\"],\n",
    "            warm_start=False,\n",
    "            denoise=denoise,\n",
    "            niterations=niterations,\n",
    "            ncyclesperiteration=ncyclesperiteration,\n",
    "            adaptive_parsimony_scaling=adaptive_parsimony_scaling,\n",
    "            verbosity=verbosity,\n",
    "            precision=64,\n",
    "        )\n",
    "        \n",
    "    if operator=='basic':\n",
    "        model = PySRRegressor(\n",
    "            binary_operators=[\"+\", \"-\", \"*\", \"/\"],\n",
    "            warm_start=False,\n",
    "            denoise=denoise,\n",
    "            niterations=niterations,\n",
    "            ncyclesperiteration=ncyclesperiteration,\n",
    "            adaptive_parsimony_scaling=adaptive_parsimony_scaling,\n",
    "            verbosity=verbosity,\n",
    "            precision=64,\n",
    "        )\n",
    "\n",
    "\n",
    "\n",
    "    model.fit(X=X, y=y, weights=w)\n",
    "\n",
    "    print('parameters:')\n",
    "    df2name(df)\n",
    "    \n",
    "    print('Eq. selected rmse:',rmse(y,model.predict(X),w))\n",
    "    display(model.sympy())\n",
    "    \n",
    "    for i in range(len(model.equations_)):\n",
    "        print('Eq.',i,'rmse:',rmse(y,model.predict(X,index=i),w))\n",
    "        display(model.sympy(index=i))"
   ]
  },
  {
   "cell_type": "code",
   "execution_count": 5,
   "id": "92c6498f",
   "metadata": {},
   "outputs": [
    {
     "data": {
      "text/plain": [
       "Index(['ETG', 'T-type', 'Bar', 'Disk', 'Ring', 'Core', 'Multiple',\n",
       "       'Compactness', 'AGN', 'Pseudobulge', 'BCG', 'cD', 'M_BH', 'M_BH_std',\n",
       "       'M*_sph', 'M*_gal', 'log_B/T', 'log_sigma0', 'log_R_e_sph_maj',\n",
       "       'log_R_e_sph_eq_kpc', 'log_n_sph_maj', 'log_n_sph_eq',\n",
       "       'log(I_e,sph,maj/M_Sun/pc^2)', 'log(I_e,sph,eq/M_Sun/pc^2)',\n",
       "       'Concentration_Index', 'avg_Rho_1kpc_Exact_All', 'r1_density_approx',\n",
       "       'log10(R10_kpc)', 'logRho_R10_approx', 'log_rho10_Exact',\n",
       "       'log10(R90_kpc)', 'logRho_R90_approx', 'log_rho_90_Exact_all',\n",
       "       'Rho_re_spatial', 'SR_pc_All', 'Rho_SR_pc_All', 'CR_def1_approx_new',\n",
       "       'Rho_cr_def1_approx_new', 'CR_def2_approx_new',\n",
       "       'Rho_CR_def2_approx_new', 'Sr(pc)_2_using_Falserm_drho',\n",
       "       'Log_Approx_Avg_density_10pc', 'log_Rho_e_Exact_new',\n",
       "       'logRho_e_approx_New', 'logRho_soi_approx_new', 'log_Rho_soi_exact_new',\n",
       "       'Avg_Rho_Re_Exact_all', 'Avg_Rho_soi_exact_all', 'Avg_Rho_re_Exact_all',\n",
       "       'Rho_re_Exact_all', 'r_soi_2BH_approx', 'Rho_r_soi_2BH_approx',\n",
       "       'Log_Avg_Rho_10kpc_approx', 'Log_Avg_Rho_10kpc_exact_final',\n",
       "       'Log_Avg_Rho_100pc_approx', 'Log_Avg_Rho_5kpc_approx',\n",
       "       'Log_Avg_rho_5kpc_exact_all', 'ube', 'bve', 'dc', 'bvtc', 'bri25',\n",
       "       'mabs', 'logblum'],\n",
       "      dtype='object')"
      ]
     },
     "execution_count": 5,
     "metadata": {},
     "output_type": "execute_result"
    }
   ],
   "source": [
    "df_purge.columns"
   ]
  },
  {
   "cell_type": "code",
   "execution_count": 6,
   "id": "318b02e6",
   "metadata": {},
   "outputs": [],
   "source": [
    "#test_relation(df_purge[['log_sigma0','log_B/T','logRho_soi_approx_new','Core', 'Pseudobulge']],\n",
    "#             operator='basic',ncyclesperiteration=250,niterations=100,adaptive_parsimony_scaling=100)"
   ]
  },
  {
   "cell_type": "code",
   "execution_count": 7,
   "id": "8ac8ffae",
   "metadata": {},
   "outputs": [
    {
     "name": "stderr",
     "output_type": "stream",
     "text": [
      "/home/zj448/miniconda3/lib/python3.9/site-packages/pysr/sr.py:1257: UserWarning: Note: it looks like you are running in Jupyter. The progress bar will be turned off.\n",
      "  warnings.warn(\n",
      "WARNING: method definition for OneHotArray at /home/zj448/miniconda3/share/pysr/depot/packages/MicroCollections/yJPLe/src/onehot.jl:79 declares type variable N but does not use it.\n"
     ]
    },
    {
     "name": "stdout",
     "output_type": "stream",
     "text": [
      "parameters:\n",
      "x 0 : log_sigma0\n",
      "x 1 : log_B/T\n",
      "x 2 : logRho_R10_approx\n",
      "Eq. selected rmse: 0.35070722610782995\n"
     ]
    },
    {
     "data": {
      "text/latex": [
       "$\\displaystyle 3.8254245537788885 x_{0} + x_{1}$"
      ],
      "text/plain": [
       "3.8254245537788885*x0 + x1"
      ]
     },
     "metadata": {},
     "output_type": "display_data"
    },
    {
     "name": "stdout",
     "output_type": "stream",
     "text": [
      "Eq. 0 rmse: 0.9082611474700465\n"
     ]
    },
    {
     "data": {
      "text/latex": [
       "$\\displaystyle 8.233873226497941$"
      ],
      "text/plain": [
       "8.233873226497941"
      ]
     },
     "metadata": {},
     "output_type": "display_data"
    },
    {
     "name": "stdout",
     "output_type": "stream",
     "text": [
      "Eq. 1 rmse: 0.4380087731031836\n"
     ]
    },
    {
     "data": {
      "text/latex": [
       "$\\displaystyle 3.6607788794718945 x_{0}$"
      ],
      "text/plain": [
       "3.6607788794718945*x0"
      ]
     },
     "metadata": {},
     "output_type": "display_data"
    },
    {
     "name": "stdout",
     "output_type": "stream",
     "text": [
      "Eq. 2 rmse: 0.35070722610782995\n"
     ]
    },
    {
     "data": {
      "text/latex": [
       "$\\displaystyle 3.8254245537788885 x_{0} + x_{1}$"
      ],
      "text/plain": [
       "3.8254245537788885*x0 + x1"
      ]
     },
     "metadata": {},
     "output_type": "display_data"
    },
    {
     "name": "stdout",
     "output_type": "stream",
     "text": [
      "Eq. 3 rmse: 0.3416990204291537\n"
     ]
    },
    {
     "data": {
      "text/latex": [
       "$\\displaystyle x_{0} \\cdot \\left(0.39608063589727677 x_{1} + 3.8015844064523336\\right)$"
      ],
      "text/plain": [
       "x0*(0.39608063589727677*x1 + 3.8015844064523336)"
      ]
     },
     "metadata": {},
     "output_type": "display_data"
    },
    {
     "name": "stdout",
     "output_type": "stream",
     "text": [
      "Eq. 4 rmse: 0.33237285446612436\n"
     ]
    },
    {
     "data": {
      "text/latex": [
       "$\\displaystyle x_{0}^{2} - 0.2627022381477806 x_{2} + 3.408678598111484$"
      ],
      "text/plain": [
       "x0**2 - 0.2627022381477806*x2 + 3.408678598111484"
      ]
     },
     "metadata": {},
     "output_type": "display_data"
    },
    {
     "name": "stdout",
     "output_type": "stream",
     "text": [
      "Eq. 5 rmse: 0.3167239866857892\n"
     ]
    },
    {
     "data": {
      "text/latex": [
       "$\\displaystyle x_{0}^{2} + 0.4050240413638662 x_{1} x_{2} + 3.331286861386634$"
      ],
      "text/plain": [
       "x0**2 + 0.4050240413638662*x1*x2 + 3.331286861386634"
      ]
     },
     "metadata": {},
     "output_type": "display_data"
    },
    {
     "name": "stdout",
     "output_type": "stream",
     "text": [
      "Eq. 6 rmse: 0.3115228746417069\n"
     ]
    },
    {
     "data": {
      "text/latex": [
       "$\\displaystyle x_{0}^{2} + 0.20103801129761772 x_{0} x_{1} x_{2} + 3.345305794225909$"
      ],
      "text/plain": [
       "x0**2 + 0.20103801129761772*x0*x1*x2 + 3.345305794225909"
      ]
     },
     "metadata": {},
     "output_type": "display_data"
    },
    {
     "name": "stdout",
     "output_type": "stream",
     "text": [
      "Eq. 7 rmse: 0.30770007595483184\n"
     ]
    },
    {
     "data": {
      "text/latex": [
       "$\\displaystyle 0.09704862516164223 x_{0}^{2} x_{1} x_{2} + x_{0}^{2} + 3.354609169058951$"
      ],
      "text/plain": [
       "0.09704862516164223*x0**2*x1*x2 + x0**2 + 3.354609169058951"
      ]
     },
     "metadata": {},
     "output_type": "display_data"
    },
    {
     "name": "stdout",
     "output_type": "stream",
     "text": [
      "Eq. 8 rmse: 0.3007854408581123\n"
     ]
    },
    {
     "data": {
      "text/latex": [
       "$\\displaystyle x_{0}^{2} + 0.4366142690220971 x_{1} \\left(x_{2} \\left(x_{0} + x_{1}\\right) - 0.48697946313038387\\right) + 3.3538028436777823$"
      ],
      "text/plain": [
       "x0**2 + 0.4366142690220971*x1*(x2*(x0 + x1) - 0.48697946313038387) + 3.3538028436777823"
      ]
     },
     "metadata": {},
     "output_type": "display_data"
    },
    {
     "name": "stdout",
     "output_type": "stream",
     "text": [
      "Eq. 9 rmse: 0.2992720326227293\n"
     ]
    },
    {
     "data": {
      "text/latex": [
       "$\\displaystyle x_{0}^{2} - 0.1992198038513852 x_{1} - 0.1992198038513852 x_{2} \\left(- x_{1} \\left(x_{0}^{2} + x_{1}\\right) + x_{1}\\right) + 3.352073143196107$"
      ],
      "text/plain": [
       "x0**2 - 0.1992198038513852*x1 - 0.1992198038513852*x2*(-x1*(x0**2 + x1) + x1) + 3.352073143196107"
      ]
     },
     "metadata": {},
     "output_type": "display_data"
    }
   ],
   "source": [
    "test_relation(df_purge[['log_sigma0','log_B/T','logRho_R10_approx']],\n",
    "             operator='basic',ncyclesperiteration=250,niterations=100,adaptive_parsimony_scaling=100)"
   ]
  },
  {
   "cell_type": "code",
   "execution_count": 8,
   "id": "87d7b4ac",
   "metadata": {},
   "outputs": [
    {
     "name": "stderr",
     "output_type": "stream",
     "text": [
      "/home/zj448/miniconda3/lib/python3.9/site-packages/pysr/sr.py:1257: UserWarning: Note: it looks like you are running in Jupyter. The progress bar will be turned off.\n",
      "  warnings.warn(\n"
     ]
    },
    {
     "name": "stdout",
     "output_type": "stream",
     "text": [
      "parameters:\n",
      "x 0 : log_sigma0\n",
      "x 1 : log_B/T\n",
      "x 2 : logRho_e_approx_New\n",
      "Eq. selected rmse: 0.35070722610783\n"
     ]
    },
    {
     "data": {
      "text/latex": [
       "$\\displaystyle 3.8254245537809535 x_{0} + x_{1}$"
      ],
      "text/plain": [
       "3.8254245537809535*x0 + x1"
      ]
     },
     "metadata": {},
     "output_type": "display_data"
    },
    {
     "name": "stdout",
     "output_type": "stream",
     "text": [
      "Eq. 0 rmse: 0.9082611474700465\n"
     ]
    },
    {
     "data": {
      "text/latex": [
       "$\\displaystyle 8.23387322649901$"
      ],
      "text/plain": [
       "8.23387322649901"
      ]
     },
     "metadata": {},
     "output_type": "display_data"
    },
    {
     "name": "stdout",
     "output_type": "stream",
     "text": [
      "Eq. 1 rmse: 0.4380087731031836\n"
     ]
    },
    {
     "data": {
      "text/latex": [
       "$\\displaystyle 3.660778879472187 x_{0}$"
      ],
      "text/plain": [
       "3.660778879472187*x0"
      ]
     },
     "metadata": {},
     "output_type": "display_data"
    },
    {
     "name": "stdout",
     "output_type": "stream",
     "text": [
      "Eq. 2 rmse: 0.35070722610783\n"
     ]
    },
    {
     "data": {
      "text/latex": [
       "$\\displaystyle 3.8254245537809535 x_{0} + x_{1}$"
      ],
      "text/plain": [
       "3.8254245537809535*x0 + x1"
      ]
     },
     "metadata": {},
     "output_type": "display_data"
    },
    {
     "name": "stdout",
     "output_type": "stream",
     "text": [
      "Eq. 3 rmse: 0.34726766321902397\n"
     ]
    },
    {
     "data": {
      "text/latex": [
       "$\\displaystyle 3.8168752417349467 x_{0} + 0.90855513879276135 x_{1}$"
      ],
      "text/plain": [
       "3.8168752417349467*x0 + 0.90855513879276135*x1"
      ]
     },
     "metadata": {},
     "output_type": "display_data"
    },
    {
     "name": "stdout",
     "output_type": "stream",
     "text": [
      "Eq. 4 rmse: 0.3443560277615425\n"
     ]
    },
    {
     "data": {
      "text/latex": [
       "$\\displaystyle 3.8168752417349467 x_{0} + x_{1} - \\frac{0.015476602400123395}{x_{2}}$"
      ],
      "text/plain": [
       "3.8168752417349467*x0 + x1 - 0.015476602400123395/x2"
      ]
     },
     "metadata": {},
     "output_type": "display_data"
    },
    {
     "name": "stdout",
     "output_type": "stream",
     "text": [
      "Eq. 5 rmse: 0.3329425991697394\n"
     ]
    },
    {
     "data": {
      "text/latex": [
       "$\\displaystyle 3.8168752417349467 x_{0} + 0.26199441602535944 x_{1} x_{2} + x_{1}$"
      ],
      "text/plain": [
       "3.8168752417349467*x0 + 0.26199441602535944*x1*x2 + x1"
      ]
     },
     "metadata": {},
     "output_type": "display_data"
    },
    {
     "name": "stdout",
     "output_type": "stream",
     "text": [
      "Eq. 6 rmse: 0.3246553089629556\n"
     ]
    },
    {
     "data": {
      "text/latex": [
       "$\\displaystyle 3.792035225139493 x_{0} + x_{1} \\cdot \\left(0.2637106304736961 x_{1} + 0.2637106304736961 x_{2}\\right) + x_{1}$"
      ],
      "text/plain": [
       "3.792035225139493*x0 + x1*(0.2637106304736961*x1 + 0.2637106304736961*x2) + x1"
      ]
     },
     "metadata": {},
     "output_type": "display_data"
    },
    {
     "name": "stdout",
     "output_type": "stream",
     "text": [
      "Eq. 7 rmse: 0.30620942681992436\n"
     ]
    },
    {
     "data": {
      "text/latex": [
       "$\\displaystyle 3.7959374588087806 x_{0} + x_{1} - \\frac{0.2754705277832468}{x_{2} - 0.21366373287517787 + \\frac{0.2754705277832468}{x_{2}}}$"
      ],
      "text/plain": [
       "3.7959374588087806*x0 + x1 - 0.2754705277832468/(x2 - 0.21366373287517787 + 0.2754705277832468/x2)"
      ]
     },
     "metadata": {},
     "output_type": "display_data"
    },
    {
     "name": "stdout",
     "output_type": "stream",
     "text": [
      "Eq. 8 rmse: 0.3008545167216621\n"
     ]
    },
    {
     "data": {
      "text/latex": [
       "$\\displaystyle 3.7959374588087806 x_{0} + x_{1} - \\frac{0.3433919945901635}{x_{2} - 0.801154464688349 + \\frac{0.7505467996914251}{x_{2} \\left(x_{0} - x_{2}\\right)}}$"
      ],
      "text/plain": [
       "3.7959374588087806*x0 + x1 - 0.3433919945901635/(x2 - 0.801154464688349 + 0.7505467996914251/(x2*(x0 - x2)))"
      ]
     },
     "metadata": {},
     "output_type": "display_data"
    },
    {
     "name": "stdout",
     "output_type": "stream",
     "text": [
      "Eq. 9 rmse: 0.2997229828386291\n"
     ]
    },
    {
     "data": {
      "text/latex": [
       "$\\displaystyle 3.7959374588087806 x_{0} + x_{1} + \\frac{0.2760969003407771}{x_{0} - x_{2} - 1.689344502378076 - \\frac{0.25862432864598372}{x_{2}}}$"
      ],
      "text/plain": [
       "3.7959374588087806*x0 + x1 + 0.2760969003407771/(x0 - x2 - 1.689344502378076 - 0.25862432864598372/x2)"
      ]
     },
     "metadata": {},
     "output_type": "display_data"
    }
   ],
   "source": [
    "test_relation(df_purge[['log_sigma0','log_B/T','logRho_e_approx_New']],\n",
    "             operator='basic',ncyclesperiteration=250,niterations=100,adaptive_parsimony_scaling=100)"
   ]
  },
  {
   "cell_type": "code",
   "execution_count": 9,
   "id": "2d1ddec1",
   "metadata": {},
   "outputs": [
    {
     "name": "stderr",
     "output_type": "stream",
     "text": [
      "/home/zj448/miniconda3/lib/python3.9/site-packages/pysr/sr.py:1257: UserWarning: Note: it looks like you are running in Jupyter. The progress bar will be turned off.\n",
      "  warnings.warn(\n"
     ]
    },
    {
     "name": "stdout",
     "output_type": "stream",
     "text": [
      "parameters:\n",
      "x 0 : log_sigma0\n",
      "x 1 : log_B/T\n",
      "x 2 : logRho_R90_approx\n",
      "Eq. selected rmse: 0.3507072261078299\n"
     ]
    },
    {
     "data": {
      "text/latex": [
       "$\\displaystyle 3.82542455377904 x_{0} + x_{1}$"
      ],
      "text/plain": [
       "3.82542455377904*x0 + x1"
      ]
     },
     "metadata": {},
     "output_type": "display_data"
    },
    {
     "name": "stdout",
     "output_type": "stream",
     "text": [
      "Eq. 0 rmse: 0.9082611474700465\n"
     ]
    },
    {
     "data": {
      "text/latex": [
       "$\\displaystyle 8.233873226493778$"
      ],
      "text/plain": [
       "8.233873226493778"
      ]
     },
     "metadata": {},
     "output_type": "display_data"
    },
    {
     "name": "stdout",
     "output_type": "stream",
     "text": [
      "Eq. 1 rmse: 0.4380087731031836\n"
     ]
    },
    {
     "data": {
      "text/latex": [
       "$\\displaystyle 3.6607788794719385 x_{0}$"
      ],
      "text/plain": [
       "3.6607788794719385*x0"
      ]
     },
     "metadata": {},
     "output_type": "display_data"
    },
    {
     "name": "stdout",
     "output_type": "stream",
     "text": [
      "Eq. 2 rmse: 0.3507072261078299\n"
     ]
    },
    {
     "data": {
      "text/latex": [
       "$\\displaystyle 3.82542455377904 x_{0} + x_{1}$"
      ],
      "text/plain": [
       "3.82542455377904*x0 + x1"
      ]
     },
     "metadata": {},
     "output_type": "display_data"
    },
    {
     "name": "stdout",
     "output_type": "stream",
     "text": [
      "Eq. 3 rmse: 0.34576646285603496\n"
     ]
    },
    {
     "data": {
      "text/latex": [
       "$\\displaystyle 3.795937452943263 x_{0} + 0.8209057027196204 x_{1}$"
      ],
      "text/plain": [
       "3.795937452943263*x0 + 0.8209057027196204*x1"
      ]
     },
     "metadata": {},
     "output_type": "display_data"
    },
    {
     "name": "stdout",
     "output_type": "stream",
     "text": [
      "Eq. 4 rmse: 0.3416990204291536\n"
     ]
    },
    {
     "data": {
      "text/latex": [
       "$\\displaystyle 0.39608063601268284 x_{0} x_{1} + 3.801584406523288 x_{0}$"
      ],
      "text/plain": [
       "0.39608063601268284*x0*x1 + 3.801584406523288*x0"
      ]
     },
     "metadata": {},
     "output_type": "display_data"
    },
    {
     "name": "stdout",
     "output_type": "stream",
     "text": [
      "Eq. 5 rmse: 0.3391809603757669\n"
     ]
    },
    {
     "data": {
      "text/latex": [
       "$\\displaystyle 3.676465213428106 x_{0} + 0.6165496469488396 x_{1} - 0.06109415561940943 x_{2}$"
      ],
      "text/plain": [
       "3.676465213428106*x0 + 0.6165496469488396*x1 - 0.06109415561940943*x2"
      ]
     },
     "metadata": {},
     "output_type": "display_data"
    },
    {
     "name": "stdout",
     "output_type": "stream",
     "text": [
      "Eq. 6 rmse: 0.32427988836801924\n"
     ]
    },
    {
     "data": {
      "text/latex": [
       "$\\displaystyle 3.764407645795063 x_{0} + 0.30576308751787473 x_{1} \\left(x_{0}^{2} + x_{2}\\right)$"
      ],
      "text/plain": [
       "3.764407645795063*x0 + 0.30576308751787473*x1*(x0**2 + x2)"
      ]
     },
     "metadata": {},
     "output_type": "display_data"
    },
    {
     "name": "stdout",
     "output_type": "stream",
     "text": [
      "Eq. 7 rmse: 0.3226683513614893\n"
     ]
    },
    {
     "data": {
      "text/latex": [
       "$\\displaystyle 3.764407645795063 x_{0} - \\left(x_{0}^{2} + x_{2}\\right) \\left(- 0.30576308751787473 x_{1} - 0.04811808991039854\\right)$"
      ],
      "text/plain": [
       "3.764407645795063*x0 - (x0**2 + x2)*(-0.30576308751787473*x1 - 0.04811808991039854)"
      ]
     },
     "metadata": {},
     "output_type": "display_data"
    },
    {
     "name": "stdout",
     "output_type": "stream",
     "text": [
      "Eq. 8 rmse: 0.3138613512541186\n"
     ]
    },
    {
     "data": {
      "text/latex": [
       "$\\displaystyle 3.744096312313055 x_{0} - \\left(x_{0}^{2} + x_{2}\\right) \\left(0.02852829797838149 x_{0} x_{2} + 0.23558130250200768\\right)$"
      ],
      "text/plain": [
       "3.744096312313055*x0 - (x0**2 + x2)*(0.02852829797838149*x0*x2 + 0.23558130250200768)"
      ]
     },
     "metadata": {},
     "output_type": "display_data"
    },
    {
     "name": "stdout",
     "output_type": "stream",
     "text": [
      "Eq. 9 rmse: 0.30837275620144733\n"
     ]
    },
    {
     "data": {
      "text/latex": [
       "$\\displaystyle 3.764407645795063 x_{0} - \\left(- 0.30576308751787473 x_{1} - 0.04811808991039854\\right) \\left(x_{0} \\left(x_{0} + x_{1}\\right) + x_{0} + x_{2}\\right)$"
      ],
      "text/plain": [
       "3.764407645795063*x0 - (-0.30576308751787473*x1 - 0.04811808991039854)*(x0*(x0 + x1) + x0 + x2)"
      ]
     },
     "metadata": {},
     "output_type": "display_data"
    },
    {
     "name": "stdout",
     "output_type": "stream",
     "text": [
      "Eq. 10 rmse: 0.29996063336321444\n"
     ]
    },
    {
     "data": {
      "text/latex": [
       "$\\displaystyle 3.764407645795063 x_{0} - \\left(- 0.34106773687654357 x_{1} + 0.02505069364184338 x_{2}\\right) \\left(x_{0} \\left(x_{0} + 0.25315689396871305\\right) + x_{1} + x_{2}\\right)$"
      ],
      "text/plain": [
       "3.764407645795063*x0 - (-0.34106773687654357*x1 + 0.02505069364184338*x2)*(x0*(x0 + 0.25315689396871305) + x1 + x2)"
      ]
     },
     "metadata": {},
     "output_type": "display_data"
    }
   ],
   "source": [
    "test_relation(df_purge[['log_sigma0','log_B/T','logRho_R90_approx']],\n",
    "             operator='basic',ncyclesperiteration=250,niterations=100,adaptive_parsimony_scaling=100)"
   ]
  },
  {
   "cell_type": "code",
   "execution_count": 10,
   "id": "a793ff8c",
   "metadata": {},
   "outputs": [
    {
     "name": "stderr",
     "output_type": "stream",
     "text": [
      "/home/zj448/miniconda3/lib/python3.9/site-packages/pysr/sr.py:1257: UserWarning: Note: it looks like you are running in Jupyter. The progress bar will be turned off.\n",
      "  warnings.warn(\n"
     ]
    },
    {
     "name": "stdout",
     "output_type": "stream",
     "text": [
      "parameters:\n",
      "x 0 : log_sigma0\n",
      "x 1 : log_B/T\n",
      "x 2 : Log_Avg_Rho_10kpc_approx\n",
      "Eq. selected rmse: 0.34514031658545075\n"
     ]
    },
    {
     "data": {
      "text/latex": [
       "$\\displaystyle 5.079838257582654 - \\frac{6.464573164924774}{x_{2}}$"
      ],
      "text/plain": [
       "5.079838257582654 - 6.464573164924774/x2"
      ]
     },
     "metadata": {},
     "output_type": "display_data"
    },
    {
     "name": "stdout",
     "output_type": "stream",
     "text": [
      "Eq. 0 rmse: 0.9082611474700466\n"
     ]
    },
    {
     "data": {
      "text/latex": [
       "$\\displaystyle 8.233873228709005$"
      ],
      "text/plain": [
       "8.233873228709005"
      ]
     },
     "metadata": {},
     "output_type": "display_data"
    },
    {
     "name": "stdout",
     "output_type": "stream",
     "text": [
      "Eq. 1 rmse: 0.43800877310318387\n"
     ]
    },
    {
     "data": {
      "text/latex": [
       "$\\displaystyle 3.6607788783963941 x_{0}$"
      ],
      "text/plain": [
       "3.6607788783963941*x0"
      ]
     },
     "metadata": {},
     "output_type": "display_data"
    },
    {
     "name": "stdout",
     "output_type": "stream",
     "text": [
      "Eq. 2 rmse: 0.34514031658545075\n"
     ]
    },
    {
     "data": {
      "text/latex": [
       "$\\displaystyle 5.079838257582654 - \\frac{6.464573164924774}{x_{2}}$"
      ],
      "text/plain": [
       "5.079838257582654 - 6.464573164924774/x2"
      ]
     },
     "metadata": {},
     "output_type": "display_data"
    },
    {
     "name": "stdout",
     "output_type": "stream",
     "text": [
      "Eq. 3 rmse: 0.31730172767524134\n"
     ]
    },
    {
     "data": {
      "text/latex": [
       "$\\displaystyle x_{0} + 3.3746303717144737 - \\frac{5.339978350440122}{x_{2}}$"
      ],
      "text/plain": [
       "x0 + 3.3746303717144737 - 5.339978350440122/x2"
      ]
     },
     "metadata": {},
     "output_type": "display_data"
    },
    {
     "name": "stdout",
     "output_type": "stream",
     "text": [
      "Eq. 4 rmse: 0.3030849024471204\n"
     ]
    },
    {
     "data": {
      "text/latex": [
       "$\\displaystyle 2 x_{0} + 1.6694224793813461 - \\frac{4.215383549190475}{x_{2}}$"
      ],
      "text/plain": [
       "2*x0 + 1.6694224793813461 - 4.215383549190475/x2"
      ]
     },
     "metadata": {},
     "output_type": "display_data"
    },
    {
     "name": "stdout",
     "output_type": "stream",
     "text": [
      "Eq. 5 rmse: 0.2983256574375879\n"
     ]
    },
    {
     "data": {
      "text/latex": [
       "$\\displaystyle 2 x_{0} + 2.162891378592292 - \\frac{x_{1} + 3.527928660725854}{x_{2}}$"
      ],
      "text/plain": [
       "2*x0 + 2.162891378592292 - (x1 + 3.527928660725854)/x2"
      ]
     },
     "metadata": {},
     "output_type": "display_data"
    },
    {
     "name": "stdout",
     "output_type": "stream",
     "text": [
      "Eq. 6 rmse: 0.2983256574375877\n"
     ]
    },
    {
     "data": {
      "text/latex": [
       "$\\displaystyle 2 x_{0} - \\frac{x_{1}}{x_{2}} + 2.1628913767051709 - \\frac{3.5279286646805854}{x_{2}}$"
      ],
      "text/plain": [
       "2*x0 - x1/x2 + 2.1628913767051709 - 3.5279286646805854/x2"
      ]
     },
     "metadata": {},
     "output_type": "display_data"
    },
    {
     "name": "stdout",
     "output_type": "stream",
     "text": [
      "Eq. 7 rmse: 0.2981309873440246\n"
     ]
    },
    {
     "data": {
      "text/latex": [
       "$\\displaystyle 2 x_{0} + 1.9464210121511618 - \\frac{1.8826353533008515}{x_{1} + x_{2}} - \\frac{1.9686193720584264}{x_{2}}$"
      ],
      "text/plain": [
       "2*x0 + 1.9464210121511618 - 1.8826353533008515/(x1 + x2) - 1.9686193720584264/x2"
      ]
     },
     "metadata": {},
     "output_type": "display_data"
    },
    {
     "name": "stdout",
     "output_type": "stream",
     "text": [
      "Eq. 8 rmse: 0.295726822608959\n"
     ]
    },
    {
     "data": {
      "text/latex": [
       "$\\displaystyle 2 x_{0} - \\frac{x_{0}}{x_{2}} + 0.29946021888399244 x_{1} + 2.362458396500941 - \\frac{0.7416815254300734}{x_{2}}$"
      ],
      "text/plain": [
       "2*x0 - x0/x2 + 0.29946021888399244*x1 + 2.362458396500941 - 0.7416815254300734/x2"
      ]
     },
     "metadata": {},
     "output_type": "display_data"
    }
   ],
   "source": [
    "test_relation(df_purge[['log_sigma0','log_B/T','Log_Avg_Rho_10kpc_approx']],\n",
    "             operator='basic',ncyclesperiteration=250,niterations=100,adaptive_parsimony_scaling=100)"
   ]
  },
  {
   "cell_type": "code",
   "execution_count": 11,
   "id": "ad2c1f90",
   "metadata": {},
   "outputs": [
    {
     "name": "stderr",
     "output_type": "stream",
     "text": [
      "/home/zj448/miniconda3/lib/python3.9/site-packages/pysr/sr.py:1257: UserWarning: Note: it looks like you are running in Jupyter. The progress bar will be turned off.\n",
      "  warnings.warn(\n"
     ]
    },
    {
     "name": "stdout",
     "output_type": "stream",
     "text": [
      "parameters:\n",
      "x 0 : log_sigma0\n",
      "x 1 : log_B/T\n",
      "x 2 : Log_Avg_Rho_100pc_approx\n",
      "Eq. selected rmse: 0.3668907146237445\n"
     ]
    },
    {
     "data": {
      "text/latex": [
       "$\\displaystyle 5.135926771011769 x_{0} - 3.341953236476917$"
      ],
      "text/plain": [
       "5.135926771011769*x0 - 3.341953236476917"
      ]
     },
     "metadata": {},
     "output_type": "display_data"
    },
    {
     "name": "stdout",
     "output_type": "stream",
     "text": [
      "Eq. 0 rmse: 0.9082611474700465\n"
     ]
    },
    {
     "data": {
      "text/latex": [
       "$\\displaystyle 8.233873226495987$"
      ],
      "text/plain": [
       "8.233873226495987"
      ]
     },
     "metadata": {},
     "output_type": "display_data"
    },
    {
     "name": "stdout",
     "output_type": "stream",
     "text": [
      "Eq. 1 rmse: 0.43800877310318354\n"
     ]
    },
    {
     "data": {
      "text/latex": [
       "$\\displaystyle 3.6607788794717253 x_{0}$"
      ],
      "text/plain": [
       "3.6607788794717253*x0"
      ]
     },
     "metadata": {},
     "output_type": "display_data"
    },
    {
     "name": "stdout",
     "output_type": "stream",
     "text": [
      "Eq. 2 rmse: 0.3668907146237445\n"
     ]
    },
    {
     "data": {
      "text/latex": [
       "$\\displaystyle 5.135926771011769 x_{0} - 3.341953236476917$"
      ],
      "text/plain": [
       "5.135926771011769*x0 - 3.341953236476917"
      ]
     },
     "metadata": {},
     "output_type": "display_data"
    },
    {
     "name": "stdout",
     "output_type": "stream",
     "text": [
      "Eq. 3 rmse: 0.3528518748472889\n"
     ]
    },
    {
     "data": {
      "text/latex": [
       "$\\displaystyle 3.8426146925742547 x_{0} + x_{1}$"
      ],
      "text/plain": [
       "3.8426146925742547*x0 + x1"
      ]
     },
     "metadata": {},
     "output_type": "display_data"
    },
    {
     "name": "stdout",
     "output_type": "stream",
     "text": [
      "Eq. 4 rmse: 0.3374559375501375\n"
     ]
    },
    {
     "data": {
      "text/latex": [
       "$\\displaystyle x_{0}^{2} + 0.4980118734167752 x_{1} + 3.3220633056482543$"
      ],
      "text/plain": [
       "x0**2 + 0.4980118734167752*x1 + 3.3220633056482543"
      ]
     },
     "metadata": {},
     "output_type": "display_data"
    },
    {
     "name": "stdout",
     "output_type": "stream",
     "text": [
      "Eq. 5 rmse: 0.3294955977075606\n"
     ]
    },
    {
     "data": {
      "text/latex": [
       "$\\displaystyle x_{0}^{2} + 0.2953589771871615 x_{1} x_{2} + 3.346637102921641$"
      ],
      "text/plain": [
       "x0**2 + 0.2953589771871615*x1*x2 + 3.346637102921641"
      ]
     },
     "metadata": {},
     "output_type": "display_data"
    },
    {
     "name": "stdout",
     "output_type": "stream",
     "text": [
      "Eq. 6 rmse: 0.3264470513780691\n"
     ]
    },
    {
     "data": {
      "text/latex": [
       "$\\displaystyle 1.1493626264986403 x_{0}^{2} - x_{0} + 0.35811803284402915 x_{1} x_{2} + 4.8863753118491156$"
      ],
      "text/plain": [
       "1.1493626264986403*x0**2 - x0 + 0.35811803284402915*x1*x2 + 4.8863753118491156"
      ]
     },
     "metadata": {},
     "output_type": "display_data"
    },
    {
     "name": "stdout",
     "output_type": "stream",
     "text": [
      "Eq. 7 rmse: 0.32497006887321306\n"
     ]
    },
    {
     "data": {
      "text/latex": [
       "$\\displaystyle 1.162231653553481 x_{0}^{2} + 0.16366732140100776 x_{0} x_{1} x_{2} - x_{0} + 4.817538149647355$"
      ],
      "text/plain": [
       "1.162231653553481*x0**2 + 0.16366732140100776*x0*x1*x2 - x0 + 4.817538149647355"
      ]
     },
     "metadata": {},
     "output_type": "display_data"
    },
    {
     "name": "stdout",
     "output_type": "stream",
     "text": [
      "Eq. 8 rmse: 0.3217973507123879\n"
     ]
    },
    {
     "data": {
      "text/latex": [
       "$\\displaystyle 1.1636568329834733 x_{0}^{2} - x_{0} + 0.2529083161981757 x_{1} x_{2} \\left(x_{0} + x_{1}\\right) + 4.837680828939596$"
      ],
      "text/plain": [
       "1.1636568329834733*x0**2 - x0 + 0.2529083161981757*x1*x2*(x0 + x1) + 4.837680828939596"
      ]
     },
     "metadata": {},
     "output_type": "display_data"
    },
    {
     "name": "stdout",
     "output_type": "stream",
     "text": [
      "Eq. 9 rmse: 0.32153587220022245\n"
     ]
    },
    {
     "data": {
      "text/latex": [
       "$\\displaystyle 1.1823409279267831 x_{0}^{2} + 0.11128730864765886 x_{0} x_{1} x_{2} \\left(x_{0} + x_{1}\\right) - x_{0} + 4.729983076935866$"
      ],
      "text/plain": [
       "1.1823409279267831*x0**2 + 0.11128730864765886*x0*x1*x2*(x0 + x1) - x0 + 4.729983076935866"
      ]
     },
     "metadata": {},
     "output_type": "display_data"
    }
   ],
   "source": [
    "test_relation(df_purge[['log_sigma0','log_B/T','Log_Avg_Rho_100pc_approx']],\n",
    "             operator='basic',ncyclesperiteration=250,niterations=100,adaptive_parsimony_scaling=100)"
   ]
  },
  {
   "cell_type": "code",
   "execution_count": 12,
   "id": "ad738a21",
   "metadata": {},
   "outputs": [
    {
     "name": "stderr",
     "output_type": "stream",
     "text": [
      "/home/zj448/miniconda3/lib/python3.9/site-packages/pysr/sr.py:1257: UserWarning: Note: it looks like you are running in Jupyter. The progress bar will be turned off.\n",
      "  warnings.warn(\n"
     ]
    },
    {
     "name": "stdout",
     "output_type": "stream",
     "text": [
      "parameters:\n",
      "x 0 : log_sigma0\n",
      "x 1 : log_B/T\n",
      "x 2 : Log_Avg_Rho_5kpc_approx\n",
      "Eq. selected rmse: 0.3507072261078302\n"
     ]
    },
    {
     "data": {
      "text/latex": [
       "$\\displaystyle 3.8254245537541585 x_{0} + x_{1}$"
      ],
      "text/plain": [
       "3.8254245537541585*x0 + x1"
      ]
     },
     "metadata": {},
     "output_type": "display_data"
    },
    {
     "name": "stdout",
     "output_type": "stream",
     "text": [
      "Eq. 0 rmse: 0.9082611474700465\n"
     ]
    },
    {
     "data": {
      "text/latex": [
       "$\\displaystyle 8.23387322649901$"
      ],
      "text/plain": [
       "8.23387322649901"
      ]
     },
     "metadata": {},
     "output_type": "display_data"
    },
    {
     "name": "stdout",
     "output_type": "stream",
     "text": [
      "Eq. 1 rmse: 0.4380087731031836\n"
     ]
    },
    {
     "data": {
      "text/latex": [
       "$\\displaystyle 3.660778879471979 x_{0}$"
      ],
      "text/plain": [
       "3.660778879471979*x0"
      ]
     },
     "metadata": {},
     "output_type": "display_data"
    },
    {
     "name": "stdout",
     "output_type": "stream",
     "text": [
      "Eq. 2 rmse: 0.3507072261078302\n"
     ]
    },
    {
     "data": {
      "text/latex": [
       "$\\displaystyle 3.8254245537541585 x_{0} + x_{1}$"
      ],
      "text/plain": [
       "3.8254245537541585*x0 + x1"
      ]
     },
     "metadata": {},
     "output_type": "display_data"
    },
    {
     "name": "stdout",
     "output_type": "stream",
     "text": [
      "Eq. 3 rmse: 0.33268260578574566\n"
     ]
    },
    {
     "data": {
      "text/latex": [
       "$\\displaystyle x_{0} + 4.327050290630525 - \\frac{1.9440395505042276}{x_{2}}$"
      ],
      "text/plain": [
       "x0 + 4.327050290630525 - 1.9440395505042276/x2"
      ]
     },
     "metadata": {},
     "output_type": "display_data"
    },
    {
     "name": "stdout",
     "output_type": "stream",
     "text": [
      "Eq. 4 rmse: 0.3117578448835969\n"
     ]
    },
    {
     "data": {
      "text/latex": [
       "$\\displaystyle 3.2200904604218823 x_{0} - \\frac{1.1355659300075576}{x_{2}}$"
      ],
      "text/plain": [
       "3.2200904604218823*x0 - 1.1355659300075576/x2"
      ]
     },
     "metadata": {},
     "output_type": "display_data"
    },
    {
     "name": "stdout",
     "output_type": "stream",
     "text": [
      "Eq. 5 rmse: 0.31061907105817327\n"
     ]
    },
    {
     "data": {
      "text/latex": [
       "$\\displaystyle x_{0} \\cdot \\left(2.2200904604218823 + \\frac{0.03420668817180984}{x_{0}}\\right) + x_{0} - \\frac{1.1062768651890726}{x_{2}}$"
      ],
      "text/plain": [
       "x0*(2.2200904604218823 + 0.03420668817180984/x0) + x0 - 1.1062768651890726/x2"
      ]
     },
     "metadata": {},
     "output_type": "display_data"
    },
    {
     "name": "stdout",
     "output_type": "stream",
     "text": [
      "Eq. 6 rmse: 0.308217205368215\n"
     ]
    },
    {
     "data": {
      "text/latex": [
       "$\\displaystyle 2.311155875861804 x_{0} - \\frac{0.4873134525753283 x_{0}}{x_{2}} + 2.073681474800917$"
      ],
      "text/plain": [
       "2.311155875861804*x0 - 0.4873134525753283*x0/x2 + 2.073681474800917"
      ]
     },
     "metadata": {},
     "output_type": "display_data"
    },
    {
     "name": "stdout",
     "output_type": "stream",
     "text": [
      "Eq. 7 rmse: 0.29887962478349495\n"
     ]
    },
    {
     "data": {
      "text/latex": [
       "$\\displaystyle 2 x_{0} + 0.46793342040875635 x_{1} + 2.870108165598078 - \\frac{1.2215521616581568}{x_{2}}$"
      ],
      "text/plain": [
       "2*x0 + 0.46793342040875635*x1 + 2.870108165598078 - 1.2215521616581568/x2"
      ]
     },
     "metadata": {},
     "output_type": "display_data"
    },
    {
     "name": "stdout",
     "output_type": "stream",
     "text": [
      "Eq. 8 rmse: 0.29545366279027724\n"
     ]
    },
    {
     "data": {
      "text/latex": [
       "$\\displaystyle 2 x_{0} + 0.427773838294253 x_{1} + 3.17046021345492 + \\frac{1.4638464532193984 - x_{0}}{x_{2}}$"
      ],
      "text/plain": [
       "2*x0 + 0.427773838294253*x1 + 3.17046021345492 + (1.4638464532193984 - x0)/x2"
      ]
     },
     "metadata": {},
     "output_type": "display_data"
    }
   ],
   "source": [
    "test_relation(df_purge[['log_sigma0','log_B/T','Log_Avg_Rho_5kpc_approx']],\n",
    "             operator='basic',ncyclesperiteration=250,niterations=100,adaptive_parsimony_scaling=100)"
   ]
  },
  {
   "cell_type": "code",
   "execution_count": 13,
   "id": "d4883197",
   "metadata": {},
   "outputs": [],
   "source": [
    "def fit(paras,bounds,plot=True):\n",
    "    paras.append('M_BH')\n",
    "    stds=[]\n",
    "    for para in paras:\n",
    "        stds.append(para+'_std')\n",
    "    \n",
    "    df_=df[paras+stds].dropna(axis='index',how='any')\n",
    "    xs=np.array(df_[paras]).transpose()\n",
    "    errs=np.array(df_[stds]).transpose()\n",
    "    cov=np.zeros((len(paras),len(paras),len(df_)))\n",
    "    for i in range(len(paras)):\n",
    "        cov[i,i,:]=errs[i]**2\n",
    "\n",
    "    hf = LinFit(xs, cov)\n",
    "\n",
    "    mcmc_samples, mcmc_lnlike = hf.emcee(bounds, verbose=False)\n",
    "    print(np.mean(mcmc_samples, axis=1), np.std(mcmc_samples, axis=1))\n",
    "    \n",
    "    \n",
    "    if plot:\n",
    "        c=np.mean(mcmc_samples, axis=1)\n",
    "        y=xs[-1]\n",
    "        y_pred=0\n",
    "        for i in range(len(c)-2):\n",
    "            y_pred+=c[i]*xs[i]\n",
    "        y_pred+=c[-2]\n",
    "\n",
    "    plt.figure(figsize=(8,6))\n",
    "    plt.scatter(y,y_pred,label='predicted')\n",
    "    plt.plot(np.linspace(y_pred.min(),y_pred.max()),np.linspace(y_pred.min(),y_pred.max()),label='f(x)=x')\n",
    "    plt.xlabel(r'True $\\rm{log} M_{BH}$',fontsize=20)\n",
    "    plt.ylabel(r'Predicted $\\rm{log} M_{BH}$',fontsize=20)\n",
    "    plt.legend()\n",
    "    plt.show()\n",
    "    \n",
    "    w = 1/errs[-1]**2\n",
    "    print('rmse:',np.sqrt(np.average((y-y_pred)**2,weights=w)))\n",
    "    return np.mean(mcmc_samples, axis=1), np.std(mcmc_samples, axis=1)"
   ]
  },
  {
   "cell_type": "code",
   "execution_count": null,
   "id": "acd6c037",
   "metadata": {},
   "outputs": [],
   "source": []
  },
  {
   "cell_type": "code",
   "execution_count": null,
   "id": "3be9e2d7",
   "metadata": {},
   "outputs": [],
   "source": []
  },
  {
   "cell_type": "code",
   "execution_count": 15,
   "id": "077f8d15",
   "metadata": {},
   "outputs": [],
   "source": [
    "df = pd.read_csv('SMBH_Data_0303.csv',header=1)"
   ]
  },
  {
   "cell_type": "code",
   "execution_count": 18,
   "id": "52f3fd81",
   "metadata": {},
   "outputs": [
    {
     "name": "stdout",
     "output_type": "stream",
     "text": [
      "[  8.22982802  -0.64402499   0.02471709 -10.72573902   0.7171132 ] [1.25607885 0.68228477 0.06958352 3.07810675 0.11991005]\n"
     ]
    },
    {
     "data": {
      "image/png": "[encoded data removed]",
      "text/plain": [
       "<Figure size 576x432 with 1 Axes>"
      ]
     },
     "metadata": {
      "needs_background": "light"
     },
     "output_type": "display_data"
    },
    {
     "name": "stdout",
     "output_type": "stream",
     "text": [
      "rmse: 0.6140251737653418\n"
     ]
    },
    {
     "data": {
      "text/plain": [
       "(array([  8.22982802,  -0.64402499,   0.02471709, -10.72573902,\n",
       "          0.7171132 ]),\n",
       " array([1.25607885, 0.68228477, 0.06958352, 3.07810675, 0.11991005]))"
      ]
     },
     "execution_count": 18,
     "metadata": {},
     "output_type": "execute_result"
    }
   ],
   "source": [
    "fit(paras=['log_sigma0','log_B/T','logRho_R90_approx'],bounds = ((3.0, 4.0), (0.0, 1.0), (-1.0, 0.0), (-10.0, 10.0), (1.0e-5, 1.0)),plot=True)"
   ]
  },
  {
   "cell_type": "code",
   "execution_count": 19,
   "id": "a4759cc6",
   "metadata": {},
   "outputs": [
    {
     "name": "stdout",
     "output_type": "stream",
     "text": [
      "[  8.33772024  -0.68781728   0.03978962 -11.03188932   0.73101483] [1.24112128 0.61916959 0.09209896 3.00917749 0.11665036]\n"
     ]
    },
    {
     "data": {
      "image/png": "[encoded data removed]",
      "text/plain": [
       "<Figure size 576x432 with 1 Axes>"
      ]
     },
     "metadata": {
      "needs_background": "light"
     },
     "output_type": "display_data"
    },
    {
     "name": "stdout",
     "output_type": "stream",
     "text": [
      "rmse: 0.624086270998197\n"
     ]
    },
    {
     "data": {
      "text/plain": [
       "(array([  8.33772024,  -0.68781728,   0.03978962, -11.03188932,\n",
       "          0.73101483]),\n",
       " array([1.24112128, 0.61916959, 0.09209896, 3.00917749, 0.11665036]))"
      ]
     },
     "execution_count": 19,
     "metadata": {},
     "output_type": "execute_result"
    }
   ],
   "source": [
    "fit(paras=['log_sigma0','log_B/T','logRho_e_approx_New'],bounds = ((3.0, 4.0), (0.0, 1.0), (-1.0, 0.0), (-10.0, 10.0), (1.0e-5, 1.0)),plot=True)"
   ]
  },
  {
   "cell_type": "code",
   "execution_count": null,
   "id": "1448d250",
   "metadata": {},
   "outputs": [],
   "source": []
  }
 ],
 "metadata": {
  "kernelspec": {
   "display_name": "Python 3 (ipykernel)",
   "language": "python",
   "name": "python3"
  },
  "language_info": {
   "codemirror_mode": {
    "name": "ipython",
    "version": 3
   },
   "file_extension": ".py",
   "mimetype": "text/x-python",
   "name": "python",
   "nbconvert_exporter": "python",
   "pygments_lexer": "ipython3",
   "version": "3.9.5"
  }
 },
 "nbformat": 4,
 "nbformat_minor": 5
}
