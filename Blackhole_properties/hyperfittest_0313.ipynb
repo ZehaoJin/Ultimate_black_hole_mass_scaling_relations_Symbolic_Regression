{
 "cells": [
  {
   "cell_type": "code",
   "execution_count": 1,
   "id": "e5681b35",
   "metadata": {},
   "outputs": [],
   "source": [
    "import numpy as np\n",
    "import pandas as pd\n",
    "from pysr import PySRRegressor\n",
    "from IPython.display import HTML\n",
    "from matplotlib import pyplot as plt\n",
    "\n",
    "from hyperfit.linfit import LinFit"
   ]
  },
  {
   "cell_type": "code",
   "execution_count": 2,
   "id": "78a21f0b",
   "metadata": {
    "scrolled": true
   },
   "outputs": [
    {
     "name": "stdout",
     "output_type": "stream",
     "text": [
      " message: Optimization terminated successfully.\n",
      " success: True\n",
      "     fun: -28922.88444427657\n",
      "       x: [-8.744e-02  1.539e-01 -1.022e-01  4.414e-02]\n",
      "     nit: 350\n",
      "    nfev: 21090\n",
      "     jac: [-1.217e+02 -5.045e+01  1.787e+01 -2.719e+01]\n"
     ]
    },
    {
     "name": "stderr",
     "output_type": "stream",
     "text": [
      "100%|██████████████████████████████████████| 1000/1000 [00:04<00:00, 205.78it/s]\n"
     ]
    },
    {
     "name": "stdout",
     "output_type": "stream",
     "text": [
      "Niterations/Max Iterations:  1000 / 100000\n",
      "Integrated ACT/Min Convergence Iterations:  [60.00618492 59.93658357 59.63891221 45.42443568] / 3000.30924600872\n"
     ]
    },
    {
     "name": "stderr",
     "output_type": "stream",
     "text": [
      "100%|██████████████████████████████████████| 1000/1000 [00:04<00:00, 239.02it/s]\n"
     ]
    },
    {
     "name": "stdout",
     "output_type": "stream",
     "text": [
      "Niterations/Max Iterations:  2000 / 100000\n",
      "Integrated ACT/Min Convergence Iterations:  [73.52913105 73.54043553 73.59419839 45.06881066] / 3679.7099193020576\n"
     ]
    },
    {
     "name": "stderr",
     "output_type": "stream",
     "text": [
      "100%|██████████████████████████████████████| 1000/1000 [00:04<00:00, 235.67it/s]\n"
     ]
    },
    {
     "name": "stdout",
     "output_type": "stream",
     "text": [
      "Niterations/Max Iterations:  3000 / 100000\n",
      "Integrated ACT/Min Convergence Iterations:  [93.79658986 93.67696417 93.36213848 71.12610013] / 4689.8294928012465\n"
     ]
    },
    {
     "name": "stderr",
     "output_type": "stream",
     "text": [
      "100%|██████████████████████████████████████| 1000/1000 [00:03<00:00, 254.35it/s]\n"
     ]
    },
    {
     "name": "stdout",
     "output_type": "stream",
     "text": [
      "Niterations/Max Iterations:  4000 / 100000\n",
      "Integrated ACT/Min Convergence Iterations:  [110.35860331 110.12483586 110.06125186  70.72996623] / 5517.930165679426\n"
     ]
    },
    {
     "name": "stderr",
     "output_type": "stream",
     "text": [
      "100%|██████████████████████████████████████| 1000/1000 [00:03<00:00, 325.01it/s]\n"
     ]
    },
    {
     "name": "stdout",
     "output_type": "stream",
     "text": [
      "Niterations/Max Iterations:  5000 / 100000\n",
      "Integrated ACT/Min Convergence Iterations:  [124.17311876 124.1606898  123.25549386  78.38690009] / 6208.6559380287545\n"
     ]
    },
    {
     "name": "stderr",
     "output_type": "stream",
     "text": [
      "100%|██████████████████████████████████████| 1000/1000 [00:03<00:00, 324.86it/s]\n"
     ]
    },
    {
     "name": "stdout",
     "output_type": "stream",
     "text": [
      "Niterations/Max Iterations:  6000 / 100000\n",
      "Integrated ACT/Min Convergence Iterations:  [159.82720247 159.69538523 159.19532392  78.75012789] / 7991.360123303136\n"
     ]
    },
    {
     "name": "stderr",
     "output_type": "stream",
     "text": [
      "100%|██████████████████████████████████████| 1000/1000 [00:04<00:00, 244.78it/s]\n"
     ]
    },
    {
     "name": "stdout",
     "output_type": "stream",
     "text": [
      "Niterations/Max Iterations:  7000 / 100000\n",
      "Integrated ACT/Min Convergence Iterations:  [157.57698021 156.91950696 155.97552321  71.35035336] / 7878.849010439977\n"
     ]
    },
    {
     "name": "stderr",
     "output_type": "stream",
     "text": [
      "100%|██████████████████████████████████████| 1000/1000 [00:03<00:00, 321.95it/s]\n"
     ]
    },
    {
     "name": "stdout",
     "output_type": "stream",
     "text": [
      "Niterations/Max Iterations:  8000 / 100000\n",
      "Integrated ACT/Min Convergence Iterations:  [177.49533172 177.21268458 177.32984739  71.84130653] / 8874.766585916797\n"
     ]
    },
    {
     "name": "stderr",
     "output_type": "stream",
     "text": [
      "100%|██████████████████████████████████████| 1000/1000 [00:04<00:00, 245.21it/s]\n"
     ]
    },
    {
     "name": "stdout",
     "output_type": "stream",
     "text": [
      "Niterations/Max Iterations:  9000 / 100000\n",
      "Integrated ACT/Min Convergence Iterations:  [170.59005715 170.30255358 171.55124746  68.88578247] / 8577.562372872766\n"
     ]
    },
    {
     "name": "stderr",
     "output_type": "stream",
     "text": [
      "100%|██████████████████████████████████████| 1000/1000 [00:03<00:00, 324.92it/s]\n"
     ]
    },
    {
     "name": "stdout",
     "output_type": "stream",
     "text": [
      "Niterations/Max Iterations:  10000 / 100000\n",
      "Integrated ACT/Min Convergence Iterations:  [152.17997309 152.15763277 152.88404491  61.29531071] / 7644.202245673505\n"
     ]
    },
    {
     "name": "stderr",
     "output_type": "stream",
     "text": [
      "100%|██████████████████████████████████████| 1000/1000 [00:04<00:00, 245.57it/s]\n"
     ]
    },
    {
     "name": "stdout",
     "output_type": "stream",
     "text": [
      "Niterations/Max Iterations:  11000 / 100000\n",
      "Integrated ACT/Min Convergence Iterations:  [146.72155174 146.687151   146.77507847  65.21157977] / 7338.753923452239\n"
     ]
    },
    {
     "name": "stderr",
     "output_type": "stream",
     "text": [
      "100%|██████████████████████████████████████| 1000/1000 [00:03<00:00, 302.88it/s]\n"
     ]
    },
    {
     "name": "stdout",
     "output_type": "stream",
     "text": [
      "Niterations/Max Iterations:  12000 / 100000\n",
      "Integrated ACT/Min Convergence Iterations:  [147.05448682 146.90517925 147.18419307  65.24547957] / 7359.209653297809\n",
      "[-0.85553157  1.5074161  -0.41236631  0.08834935] [0.0046064  0.01255993 0.03070403 0.00102591]\n"
     ]
    }
   ],
   "source": [
    "from hyperfit.data import FP6dFGS\n",
    "\n",
    "# Load the data\n",
    "data = FP6dFGS()\n",
    "hf = LinFit(data.xs, data.cov, weights=data.weights)\n",
    "\n",
    "# Run an MCMC\n",
    "bounds = ((-10.0, 10.0), (-10.0, 10.0), (-10.0, 10.0), (1.0e-5, 1.0))\n",
    "mcmc_samples, mcmc_lnlike = hf.emcee(bounds, verbose=True)\n",
    "print(np.mean(mcmc_samples, axis=1), np.std(mcmc_samples, axis=1))"
   ]
  },
  {
   "cell_type": "code",
   "execution_count": 22,
   "id": "784efde7",
   "metadata": {},
   "outputs": [
    {
     "name": "stdout",
     "output_type": "stream",
     "text": [
      "(array([-0.85585606,  1.50634184, -0.40891807]), 0.08831160394533935, 28922.88461435861)\n"
     ]
    }
   ],
   "source": [
    "print(hf.optimize(bounds, verbose=False))"
   ]
  },
  {
   "cell_type": "code",
   "execution_count": 5,
   "id": "abbef7df",
   "metadata": {},
   "outputs": [
    {
     "data": {
      "text/plain": [
       "(3, 8803)"
      ]
     },
     "execution_count": 5,
     "metadata": {},
     "output_type": "execute_result"
    }
   ],
   "source": [
    "data.xs.shape"
   ]
  },
  {
   "cell_type": "code",
   "execution_count": 11,
   "id": "609c1949",
   "metadata": {},
   "outputs": [
    {
     "data": {
      "text/plain": [
       "(3, 3, 8803)"
      ]
     },
     "execution_count": 11,
     "metadata": {},
     "output_type": "execute_result"
    }
   ],
   "source": [
    "data.cov.shape"
   ]
  },
  {
   "cell_type": "code",
   "execution_count": 12,
   "id": "eabffa1b",
   "metadata": {},
   "outputs": [
    {
     "data": {
      "text/plain": [
       "(8803,)"
      ]
     },
     "execution_count": 12,
     "metadata": {},
     "output_type": "execute_result"
    }
   ],
   "source": [
    "data.weights.shape"
   ]
  },
  {
   "cell_type": "code",
   "execution_count": 30,
   "id": "6582de6f",
   "metadata": {},
   "outputs": [
    {
     "data": {
      "text/plain": [
       "array([[ 0.007056  ,  0.005041  ,  0.0049    , ...,  0.004761  ,\n",
       "         0.0036    ,  0.007921  ],\n",
       "       [ 0.        ,  0.        ,  0.        , ...,  0.        ,\n",
       "         0.        ,  0.        ],\n",
       "       [-0.0045486 , -0.0032376 , -0.0031255 , ..., -0.00308085,\n",
       "        -0.002337  , -0.005073  ]])"
      ]
     },
     "execution_count": 30,
     "metadata": {},
     "output_type": "execute_result"
    }
   ],
   "source": [
    "data.cov[0]"
   ]
  },
  {
   "cell_type": "code",
   "execution_count": 31,
   "id": "5903731b",
   "metadata": {},
   "outputs": [
    {
     "data": {
      "text/plain": [
       "array([[0.      , 0.      , 0.      , ..., 0.      , 0.      , 0.      ],\n",
       "       [0.005329, 0.000529, 0.002025, ..., 0.0049  , 0.001024, 0.001444],\n",
       "       [0.      , 0.      , 0.      , ..., 0.      , 0.      , 0.      ]])"
      ]
     },
     "execution_count": 31,
     "metadata": {},
     "output_type": "execute_result"
    }
   ],
   "source": [
    "data.cov[1]"
   ]
  },
  {
   "cell_type": "code",
   "execution_count": 32,
   "id": "612d010d",
   "metadata": {},
   "outputs": [
    {
     "data": {
      "text/plain": [
       "array([[-0.0045486 , -0.0032376 , -0.0031255 , ..., -0.00308085,\n",
       "        -0.002337  , -0.005073  ],\n",
       "       [ 0.        ,  0.        ,  0.        , ...,  0.        ,\n",
       "         0.        ,  0.        ],\n",
       "       [ 0.003249  ,  0.002304  ,  0.002209  , ...,  0.002209  ,\n",
       "         0.001681  ,  0.0036    ]])"
      ]
     },
     "execution_count": 32,
     "metadata": {},
     "output_type": "execute_result"
    }
   ],
   "source": [
    "data.cov[2]"
   ]
  },
  {
   "cell_type": "code",
   "execution_count": 23,
   "id": "d96e8fb0",
   "metadata": {
    "scrolled": true
   },
   "outputs": [
    {
     "name": "stdout",
     "output_type": "stream",
     "text": [
      " message: Optimization terminated successfully.\n",
      " success: True\n",
      "     fun: -127.63749807335145\n",
      "       x: [-2.690e-01 -2.886e-02  2.346e-02]\n",
      "     nit: 158\n",
      "    nfev: 7175\n",
      "     jac: [ 2.441e-01  3.332e-02 -1.685e-01]\n"
     ]
    },
    {
     "name": "stderr",
     "output_type": "stream",
     "text": [
      "100%|█████████████████████████████████████| 1000/1000 [00:00<00:00, 1958.55it/s]\n"
     ]
    },
    {
     "name": "stdout",
     "output_type": "stream",
     "text": [
      "Niterations/Max Iterations:  1000 / 100000\n",
      "Integrated ACT/Min Convergence Iterations:  [102.35752196 101.90260311  55.14616521] / 5117.876098168342\n"
     ]
    },
    {
     "name": "stderr",
     "output_type": "stream",
     "text": [
      "100%|█████████████████████████████████████| 1000/1000 [00:00<00:00, 2005.13it/s]\n"
     ]
    },
    {
     "name": "stdout",
     "output_type": "stream",
     "text": [
      "Niterations/Max Iterations:  2000 / 100000\n",
      "Integrated ACT/Min Convergence Iterations:  [147.40033371 147.48765946  57.95974758] / 7374.382972987773\n"
     ]
    },
    {
     "name": "stderr",
     "output_type": "stream",
     "text": [
      "100%|█████████████████████████████████████| 1000/1000 [00:00<00:00, 1983.52it/s]\n"
     ]
    },
    {
     "name": "stdout",
     "output_type": "stream",
     "text": [
      "Niterations/Max Iterations:  3000 / 100000\n",
      "Integrated ACT/Min Convergence Iterations:  [151.48762833 151.50168855  68.11621842] / 7575.084427573233\n"
     ]
    },
    {
     "name": "stderr",
     "output_type": "stream",
     "text": [
      "100%|█████████████████████████████████████| 1000/1000 [00:00<00:00, 1997.83it/s]\n"
     ]
    },
    {
     "name": "stdout",
     "output_type": "stream",
     "text": [
      "Niterations/Max Iterations:  4000 / 100000\n",
      "Integrated ACT/Min Convergence Iterations:  [158.42610417 157.91698261  71.58934247] / 7921.305208584374\n"
     ]
    },
    {
     "name": "stderr",
     "output_type": "stream",
     "text": [
      "100%|█████████████████████████████████████| 1000/1000 [00:00<00:00, 2012.60it/s]\n"
     ]
    },
    {
     "name": "stdout",
     "output_type": "stream",
     "text": [
      "Niterations/Max Iterations:  5000 / 100000\n",
      "Integrated ACT/Min Convergence Iterations:  [259.82064845 260.77979614  96.81824311] / 13038.989807125052\n"
     ]
    },
    {
     "name": "stderr",
     "output_type": "stream",
     "text": [
      "100%|█████████████████████████████████████| 1000/1000 [00:00<00:00, 1971.21it/s]\n"
     ]
    },
    {
     "name": "stdout",
     "output_type": "stream",
     "text": [
      "Niterations/Max Iterations:  6000 / 100000\n",
      "Integrated ACT/Min Convergence Iterations:  [319.79542249 320.68510594 105.85051952] / 16034.255296876398\n"
     ]
    },
    {
     "name": "stderr",
     "output_type": "stream",
     "text": [
      "100%|█████████████████████████████████████| 1000/1000 [00:00<00:00, 1986.48it/s]\n"
     ]
    },
    {
     "name": "stdout",
     "output_type": "stream",
     "text": [
      "Niterations/Max Iterations:  7000 / 100000\n",
      "Integrated ACT/Min Convergence Iterations:  [317.82137389 316.7483387  123.18292908] / 15891.06869443882\n"
     ]
    },
    {
     "name": "stderr",
     "output_type": "stream",
     "text": [
      "100%|█████████████████████████████████████| 1000/1000 [00:00<00:00, 1997.52it/s]\n"
     ]
    },
    {
     "name": "stdout",
     "output_type": "stream",
     "text": [
      "Niterations/Max Iterations:  8000 / 100000\n",
      "Integrated ACT/Min Convergence Iterations:  [284.10740031 283.10443689 128.78615158] / 14205.370015740164\n"
     ]
    },
    {
     "name": "stderr",
     "output_type": "stream",
     "text": [
      "100%|█████████████████████████████████████| 1000/1000 [00:00<00:00, 1983.77it/s]\n"
     ]
    },
    {
     "name": "stdout",
     "output_type": "stream",
     "text": [
      "Niterations/Max Iterations:  9000 / 100000\n",
      "Integrated ACT/Min Convergence Iterations:  [311.29512791 309.44724247 134.13969969] / 15564.756395679266\n"
     ]
    },
    {
     "name": "stderr",
     "output_type": "stream",
     "text": [
      "100%|█████████████████████████████████████| 1000/1000 [00:00<00:00, 1982.05it/s]\n"
     ]
    },
    {
     "name": "stdout",
     "output_type": "stream",
     "text": [
      "Niterations/Max Iterations:  10000 / 100000\n",
      "Integrated ACT/Min Convergence Iterations:  [373.85254757 370.82016621 134.777137  ] / 18692.627378310575\n"
     ]
    },
    {
     "name": "stderr",
     "output_type": "stream",
     "text": [
      "100%|█████████████████████████████████████| 1000/1000 [00:00<00:00, 1997.02it/s]\n"
     ]
    },
    {
     "name": "stdout",
     "output_type": "stream",
     "text": [
      "Niterations/Max Iterations:  11000 / 100000\n",
      "Integrated ACT/Min Convergence Iterations:  [388.73873449 385.23595865 139.60057159] / 19436.93672446366\n"
     ]
    },
    {
     "name": "stderr",
     "output_type": "stream",
     "text": [
      "100%|█████████████████████████████████████| 1000/1000 [00:00<00:00, 1507.22it/s]\n"
     ]
    },
    {
     "name": "stdout",
     "output_type": "stream",
     "text": [
      "Niterations/Max Iterations:  12000 / 100000\n",
      "Integrated ACT/Min Convergence Iterations:  [384.44470451 380.69389644 135.15756494] / 19222.23522535881\n"
     ]
    },
    {
     "name": "stderr",
     "output_type": "stream",
     "text": [
      "100%|█████████████████████████████████████| 1000/1000 [00:00<00:00, 1035.29it/s]\n"
     ]
    },
    {
     "name": "stdout",
     "output_type": "stream",
     "text": [
      "Niterations/Max Iterations:  13000 / 100000\n",
      "Integrated ACT/Min Convergence Iterations:  [390.68946619 386.65703416 116.06851062] / 19534.473309402332\n"
     ]
    },
    {
     "name": "stderr",
     "output_type": "stream",
     "text": [
      "100%|█████████████████████████████████████| 1000/1000 [00:00<00:00, 1191.37it/s]\n"
     ]
    },
    {
     "name": "stdout",
     "output_type": "stream",
     "text": [
      "Niterations/Max Iterations:  14000 / 100000\n",
      "Integrated ACT/Min Convergence Iterations:  [414.58605274 411.58792553  98.93367427] / 20729.30263723827\n"
     ]
    },
    {
     "name": "stderr",
     "output_type": "stream",
     "text": [
      "100%|█████████████████████████████████████| 1000/1000 [00:00<00:00, 1828.99it/s]\n"
     ]
    },
    {
     "name": "stdout",
     "output_type": "stream",
     "text": [
      "Niterations/Max Iterations:  15000 / 100000\n",
      "Integrated ACT/Min Convergence Iterations:  [418.9270519  414.57642151  92.19400728] / 20946.352594836713\n"
     ]
    },
    {
     "name": "stderr",
     "output_type": "stream",
     "text": [
      "100%|█████████████████████████████████████| 1000/1000 [00:00<00:00, 1959.59it/s]\n"
     ]
    },
    {
     "name": "stdout",
     "output_type": "stream",
     "text": [
      "Niterations/Max Iterations:  16000 / 100000\n",
      "Integrated ACT/Min Convergence Iterations:  [414.43062148 410.55567734  86.19031424] / 20721.531074091446\n"
     ]
    },
    {
     "name": "stderr",
     "output_type": "stream",
     "text": [
      "100%|█████████████████████████████████████| 1000/1000 [00:00<00:00, 1939.23it/s]\n"
     ]
    },
    {
     "name": "stdout",
     "output_type": "stream",
     "text": [
      "Niterations/Max Iterations:  17000 / 100000\n",
      "Integrated ACT/Min Convergence Iterations:  [420.55950698 416.3584693   87.05684483] / 21027.97534920536\n"
     ]
    },
    {
     "name": "stderr",
     "output_type": "stream",
     "text": [
      "100%|█████████████████████████████████████| 1000/1000 [00:00<00:00, 1938.19it/s]\n"
     ]
    },
    {
     "name": "stdout",
     "output_type": "stream",
     "text": [
      "Niterations/Max Iterations:  18000 / 100000\n",
      "Integrated ACT/Min Convergence Iterations:  [388.21996987 383.76698619  84.4936807 ] / 19410.998493637053\n"
     ]
    },
    {
     "name": "stderr",
     "output_type": "stream",
     "text": [
      "100%|█████████████████████████████████████| 1000/1000 [00:00<00:00, 1938.32it/s]\n"
     ]
    },
    {
     "name": "stdout",
     "output_type": "stream",
     "text": [
      "Niterations/Max Iterations:  19000 / 100000\n",
      "Integrated ACT/Min Convergence Iterations:  [392.19553943 387.68409899  85.70384532] / 19609.776971552306\n"
     ]
    },
    {
     "name": "stderr",
     "output_type": "stream",
     "text": [
      "100%|█████████████████████████████████████| 1000/1000 [00:00<00:00, 1947.90it/s]\n"
     ]
    },
    {
     "name": "stdout",
     "output_type": "stream",
     "text": [
      "Niterations/Max Iterations:  20000 / 100000\n",
      "Integrated ACT/Min Convergence Iterations:  [421.02251575 414.21097704  95.74189045] / 21051.125787726953\n"
     ]
    },
    {
     "name": "stderr",
     "output_type": "stream",
     "text": [
      "100%|█████████████████████████████████████| 1000/1000 [00:00<00:00, 1253.16it/s]\n"
     ]
    },
    {
     "name": "stdout",
     "output_type": "stream",
     "text": [
      "Niterations/Max Iterations:  21000 / 100000\n",
      "Integrated ACT/Min Convergence Iterations:  [478.42342028 469.88360468 101.3104235 ] / 23921.17101402806\n"
     ]
    },
    {
     "name": "stderr",
     "output_type": "stream",
     "text": [
      "100%|█████████████████████████████████████| 1000/1000 [00:00<00:00, 1034.11it/s]\n"
     ]
    },
    {
     "name": "stdout",
     "output_type": "stream",
     "text": [
      "Niterations/Max Iterations:  22000 / 100000\n",
      "Integrated ACT/Min Convergence Iterations:  [418.65686191 411.18647692 102.56039023] / 20932.84309563221\n"
     ]
    },
    {
     "name": "stderr",
     "output_type": "stream",
     "text": [
      "100%|█████████████████████████████████████| 1000/1000 [00:00<00:00, 1433.91it/s]\n"
     ]
    },
    {
     "name": "stdout",
     "output_type": "stream",
     "text": [
      "Niterations/Max Iterations:  23000 / 100000\n",
      "Integrated ACT/Min Convergence Iterations:  [409.05721637 402.93013896  97.68228355] / 20452.86081825794\n",
      "[-9.19542232 -2.82042251  0.23179491] [0.34820875 0.79751893 0.04167579]\n"
     ]
    },
    {
     "data": {
      "image/png": "[encoded data removed]",
      "text/plain": [
       "<Figure size 432x288 with 2 Axes>"
      ]
     },
     "metadata": {
      "needs_background": "light"
     },
     "output_type": "display_data"
    }
   ],
   "source": [
    "from hyperfit.data import TFR\n",
    "\n",
    "# Load the data\n",
    "data = TFR()\n",
    "hf = LinFit(data.xs, data.cov, weights=data.weights)\n",
    "\n",
    "# Run an MCMC\n",
    "bounds = ((-10.0, 10.0), (-1000.0, 1000.0), (1.0e-5, 500.0))\n",
    "mcmc_samples, mcmc_lnlike = hf.emcee(bounds, verbose=True)\n",
    "print(np.mean(mcmc_samples, axis=1), np.std(mcmc_samples, axis=1))\n",
    "\n",
    "# Make the plot\n",
    "data.plot(linfit=hf)"
   ]
  },
  {
   "cell_type": "code",
   "execution_count": 25,
   "id": "c4a3d18a",
   "metadata": {},
   "outputs": [
    {
     "data": {
      "text/plain": [
       "(2, 55)"
      ]
     },
     "execution_count": 25,
     "metadata": {},
     "output_type": "execute_result"
    }
   ],
   "source": [
    "data.xs.shape"
   ]
  },
  {
   "cell_type": "code",
   "execution_count": 27,
   "id": "5c5df27f",
   "metadata": {},
   "outputs": [
    {
     "data": {
      "text/plain": [
       "array([[[1.9600e-04, 3.2400e-04, 1.2100e-04, 3.2400e-04, 1.2100e-04,\n",
       "         1.9600e-04, 1.9600e-04, 1.4400e-04, 1.6900e-04, 1.9600e-04,\n",
       "         1.6900e-04, 3.2400e-04, 1.4400e-04, 1.2100e-04, 1.9600e-04,\n",
       "         2.5600e-04, 1.4400e-04, 4.0000e-04, 1.9600e-04, 2.8900e-04,\n",
       "         1.9600e-04, 1.4400e-04, 2.8900e-04, 7.8400e-04, 3.2400e-04,\n",
       "         1.9600e-04, 3.2400e-04, 3.6100e-04, 2.5600e-04, 1.2100e-04,\n",
       "         4.0000e-04, 1.6900e-04, 4.4100e-04, 8.1000e-05, 1.9600e-04,\n",
       "         1.6900e-04, 2.5600e-04, 1.2100e-04, 3.2400e-04, 3.2400e-04,\n",
       "         2.8900e-04, 2.2500e-04, 1.6900e-04, 1.9600e-04, 1.6900e-04,\n",
       "         2.2500e-04, 1.0000e-04, 2.5600e-04, 1.9600e-04, 2.2500e-04,\n",
       "         2.8900e-04, 1.2100e-04, 1.2100e-04, 1.0000e-04, 1.9600e-04],\n",
       "        [0.0000e+00, 0.0000e+00, 0.0000e+00, 0.0000e+00, 0.0000e+00,\n",
       "         0.0000e+00, 0.0000e+00, 0.0000e+00, 0.0000e+00, 0.0000e+00,\n",
       "         0.0000e+00, 0.0000e+00, 0.0000e+00, 0.0000e+00, 0.0000e+00,\n",
       "         0.0000e+00, 0.0000e+00, 0.0000e+00, 0.0000e+00, 0.0000e+00,\n",
       "         0.0000e+00, 0.0000e+00, 0.0000e+00, 0.0000e+00, 0.0000e+00,\n",
       "         0.0000e+00, 0.0000e+00, 0.0000e+00, 0.0000e+00, 0.0000e+00,\n",
       "         0.0000e+00, 0.0000e+00, 0.0000e+00, 0.0000e+00, 0.0000e+00,\n",
       "         0.0000e+00, 0.0000e+00, 0.0000e+00, 0.0000e+00, 0.0000e+00,\n",
       "         0.0000e+00, 0.0000e+00, 0.0000e+00, 0.0000e+00, 0.0000e+00,\n",
       "         0.0000e+00, 0.0000e+00, 0.0000e+00, 0.0000e+00, 0.0000e+00,\n",
       "         0.0000e+00, 0.0000e+00, 0.0000e+00, 0.0000e+00, 0.0000e+00]],\n",
       "\n",
       "       [[0.0000e+00, 0.0000e+00, 0.0000e+00, 0.0000e+00, 0.0000e+00,\n",
       "         0.0000e+00, 0.0000e+00, 0.0000e+00, 0.0000e+00, 0.0000e+00,\n",
       "         0.0000e+00, 0.0000e+00, 0.0000e+00, 0.0000e+00, 0.0000e+00,\n",
       "         0.0000e+00, 0.0000e+00, 0.0000e+00, 0.0000e+00, 0.0000e+00,\n",
       "         0.0000e+00, 0.0000e+00, 0.0000e+00, 0.0000e+00, 0.0000e+00,\n",
       "         0.0000e+00, 0.0000e+00, 0.0000e+00, 0.0000e+00, 0.0000e+00,\n",
       "         0.0000e+00, 0.0000e+00, 0.0000e+00, 0.0000e+00, 0.0000e+00,\n",
       "         0.0000e+00, 0.0000e+00, 0.0000e+00, 0.0000e+00, 0.0000e+00,\n",
       "         0.0000e+00, 0.0000e+00, 0.0000e+00, 0.0000e+00, 0.0000e+00,\n",
       "         0.0000e+00, 0.0000e+00, 0.0000e+00, 0.0000e+00, 0.0000e+00,\n",
       "         0.0000e+00, 0.0000e+00, 0.0000e+00, 0.0000e+00, 0.0000e+00],\n",
       "        [9.8010e-03, 3.3856e-02, 2.9584e-02, 2.6244e-02, 7.0560e-03,\n",
       "         8.8360e-03, 1.1449e-02, 5.0410e-03, 6.4000e-03, 2.1025e-02,\n",
       "         2.2500e-02, 6.3504e-02, 9.0250e-03, 1.0201e-02, 2.8900e-02,\n",
       "         3.4225e-02, 1.0816e-02, 6.8644e-02, 1.1664e-02, 1.1881e-02,\n",
       "         4.1209e-02, 6.9696e-02, 5.8564e-02, 6.0025e-02, 2.4336e-02,\n",
       "         6.4000e-03, 3.6864e-02, 5.2900e-02, 2.2500e-02, 5.0410e-03,\n",
       "         8.2369e-02, 6.5610e-03, 5.7121e-02, 5.9290e-03, 7.3441e-02,\n",
       "         4.3560e-03, 4.8400e-02, 7.7440e-03, 2.6569e-02, 6.5025e-02,\n",
       "         2.1609e-02, 9.8010e-03, 1.7956e-02, 1.6384e-02, 1.1236e-02,\n",
       "         1.7689e-02, 1.6129e-02, 9.8010e-03, 4.3560e-03, 1.3689e-02,\n",
       "         4.7961e-02, 5.9290e-03, 4.4890e-03, 1.9600e-02, 1.5876e-02]]])"
      ]
     },
     "execution_count": 27,
     "metadata": {},
     "output_type": "execute_result"
    }
   ],
   "source": [
    "data.cov"
   ]
  },
  {
   "cell_type": "code",
   "execution_count": 33,
   "id": "3f5540b7",
   "metadata": {
    "scrolled": true
   },
   "outputs": [
    {
     "name": "stdout",
     "output_type": "stream",
     "text": [
      " message: Optimization terminated successfully.\n",
      " success: True\n",
      "     fun: -51.16735241654734\n",
      "       x: [ 9.213e-03 -9.446e-03 -2.839e-02  1.147e-02]\n",
      "     nit: 97\n",
      "    nfev: 5920\n",
      "     jac: [ 2.129e-01 -1.508e-01 -3.933e-02  9.213e-02]\n"
     ]
    },
    {
     "name": "stderr",
     "output_type": "stream",
     "text": [
      "100%|█████████████████████████████████████| 1000/1000 [00:00<00:00, 1203.82it/s]\n"
     ]
    },
    {
     "name": "stdout",
     "output_type": "stream",
     "text": [
      "Niterations/Max Iterations:  1000 / 100000\n",
      "Integrated ACT/Min Convergence Iterations:  [46.82130869 47.91670217 47.7116218  41.38609533] / 2395.835108392705\n"
     ]
    },
    {
     "name": "stderr",
     "output_type": "stream",
     "text": [
      "100%|██████████████████████████████████████| 1000/1000 [00:01<00:00, 993.14it/s]\n"
     ]
    },
    {
     "name": "stdout",
     "output_type": "stream",
     "text": [
      "Niterations/Max Iterations:  2000 / 100000\n",
      "Integrated ACT/Min Convergence Iterations:  [48.5736227  49.57716434 47.67749259 38.9204496 ] / 2478.8582172220918\n"
     ]
    },
    {
     "name": "stderr",
     "output_type": "stream",
     "text": [
      "100%|██████████████████████████████████████| 1000/1000 [00:01<00:00, 998.34it/s]\n"
     ]
    },
    {
     "name": "stdout",
     "output_type": "stream",
     "text": [
      "Niterations/Max Iterations:  3000 / 100000\n",
      "Integrated ACT/Min Convergence Iterations:  [48.77750655 48.77347751 49.15476821 44.64690069] / 2457.7384103218906\n"
     ]
    },
    {
     "name": "stderr",
     "output_type": "stream",
     "text": [
      "100%|█████████████████████████████████████| 1000/1000 [00:00<00:00, 1047.14it/s]\n"
     ]
    },
    {
     "name": "stdout",
     "output_type": "stream",
     "text": [
      "Niterations/Max Iterations:  4000 / 100000\n",
      "Integrated ACT/Min Convergence Iterations:  [70.7332158  67.33511994 69.47159371 41.86979686] / 3536.6607898370985\n"
     ]
    },
    {
     "name": "stderr",
     "output_type": "stream",
     "text": [
      "100%|█████████████████████████████████████| 1000/1000 [00:00<00:00, 1579.86it/s]\n"
     ]
    },
    {
     "name": "stdout",
     "output_type": "stream",
     "text": [
      "Niterations/Max Iterations:  5000 / 100000\n",
      "Integrated ACT/Min Convergence Iterations:  [60.30717443 58.53985799 59.75575875 46.1479937 ] / 3015.3587213787328\n"
     ]
    },
    {
     "name": "stderr",
     "output_type": "stream",
     "text": [
      "100%|█████████████████████████████████████| 1000/1000 [00:00<00:00, 1916.29it/s]\n"
     ]
    },
    {
     "name": "stdout",
     "output_type": "stream",
     "text": [
      "Niterations/Max Iterations:  6000 / 100000\n",
      "Integrated ACT/Min Convergence Iterations:  [67.27445703 68.17621658 64.89481196 49.47052509] / 3408.8108292208494\n"
     ]
    },
    {
     "name": "stderr",
     "output_type": "stream",
     "text": [
      "100%|█████████████████████████████████████| 1000/1000 [00:00<00:00, 1936.96it/s]\n"
     ]
    },
    {
     "name": "stdout",
     "output_type": "stream",
     "text": [
      "Niterations/Max Iterations:  7000 / 100000\n",
      "Integrated ACT/Min Convergence Iterations:  [65.75895656 65.14604156 63.98063426 54.4082187 ] / 3287.94782822564\n"
     ]
    },
    {
     "name": "stderr",
     "output_type": "stream",
     "text": [
      "100%|█████████████████████████████████████| 1000/1000 [00:00<00:00, 1900.89it/s]\n"
     ]
    },
    {
     "name": "stdout",
     "output_type": "stream",
     "text": [
      "Niterations/Max Iterations:  8000 / 100000\n",
      "Integrated ACT/Min Convergence Iterations:  [59.19298288 58.03752852 57.33441188 53.37829466] / 2959.6491440737304\n"
     ]
    },
    {
     "name": "stderr",
     "output_type": "stream",
     "text": [
      "100%|█████████████████████████████████████| 1000/1000 [00:00<00:00, 1913.06it/s]"
     ]
    },
    {
     "name": "stdout",
     "output_type": "stream",
     "text": [
      "Niterations/Max Iterations:  9000 / 100000\n",
      "Integrated ACT/Min Convergence Iterations:  [58.30199276 56.84256756 55.86112832 53.19475338] / 2915.0996377544084\n",
      "[ 0.34671591 -0.35596999 -0.04719629  0.02015783] [0.03262305 0.0408586  0.01567893 0.01152718]\n"
     ]
    },
    {
     "name": "stderr",
     "output_type": "stream",
     "text": [
      "\n"
     ]
    }
   ],
   "source": [
    "from hyperfit.data import MJB\n",
    "\n",
    "# Load the data\n",
    "data = MJB()\n",
    "hf = LinFit(data.xs, data.cov, weights=data.weights)\n",
    "\n",
    "# Run an MCMC\n",
    "bounds = ((-10.0, 10.0), (-10.0, 10.0), (-10.0, 10.0), (1.0e-5, 1.0))\n",
    "mcmc_samples, mcmc_lnlike = hf.emcee(bounds, verbose=True)\n",
    "print(np.mean(mcmc_samples, axis=1), np.std(mcmc_samples, axis=1))"
   ]
  },
  {
   "cell_type": "code",
   "execution_count": 37,
   "id": "5c467a2e",
   "metadata": {},
   "outputs": [
    {
     "data": {
      "text/plain": [
       "array([[0.004225 , 0.004225 , 0.004225 , 0.004225 , 0.004225 , 0.004225 ,\n",
       "        0.004225 , 0.004225 , 0.004225 , 0.004225 , 0.004225 , 0.004225 ,\n",
       "        0.004225 , 0.004225 , 0.004225 , 0.004225 ],\n",
       "       [0.0016575, 0.0016575, 0.0016575, 0.0016575, 0.0016575, 0.0016575,\n",
       "        0.0016575, 0.0016575, 0.0016575, 0.0016575, 0.0016575, 0.0016575,\n",
       "        0.0016575, 0.0016575, 0.0016575, 0.0016575],\n",
       "       [0.       , 0.       , 0.       , 0.       , 0.       , 0.       ,\n",
       "        0.       , 0.       , 0.       , 0.       , 0.       , 0.       ,\n",
       "        0.       , 0.       , 0.       , 0.       ]])"
      ]
     },
     "execution_count": 37,
     "metadata": {},
     "output_type": "execute_result"
    }
   ],
   "source": [
    "data.cov[0]"
   ]
  },
  {
   "cell_type": "code",
   "execution_count": 38,
   "id": "b45740cd",
   "metadata": {},
   "outputs": [
    {
     "data": {
      "text/plain": [
       "array([[0.0016575, 0.0016575, 0.0016575, 0.0016575, 0.0016575, 0.0016575,\n",
       "        0.0016575, 0.0016575, 0.0016575, 0.0016575, 0.0016575, 0.0016575,\n",
       "        0.0016575, 0.0016575, 0.0016575, 0.0016575],\n",
       "       [0.0009   , 0.0009   , 0.0009   , 0.0009   , 0.0009   , 0.0009   ,\n",
       "        0.0009   , 0.0009   , 0.0009   , 0.0009   , 0.0009   , 0.0009   ,\n",
       "        0.0009   , 0.0009   , 0.0009   , 0.0009   ],\n",
       "       [0.       , 0.       , 0.       , 0.       , 0.       , 0.       ,\n",
       "        0.       , 0.       , 0.       , 0.       , 0.       , 0.       ,\n",
       "        0.       , 0.       , 0.       , 0.       ]])"
      ]
     },
     "execution_count": 38,
     "metadata": {},
     "output_type": "execute_result"
    }
   ],
   "source": [
    "data.cov[1]"
   ]
  },
  {
   "cell_type": "code",
   "execution_count": 39,
   "id": "7f938111",
   "metadata": {},
   "outputs": [
    {
     "data": {
      "text/plain": [
       "array([[0.    , 0.    , 0.    , 0.    , 0.    , 0.    , 0.    , 0.    ,\n",
       "        0.    , 0.    , 0.    , 0.    , 0.    , 0.    , 0.    , 0.    ],\n",
       "       [0.    , 0.    , 0.    , 0.    , 0.    , 0.    , 0.    , 0.    ,\n",
       "        0.    , 0.    , 0.    , 0.    , 0.    , 0.    , 0.    , 0.    ],\n",
       "       [0.0004, 0.0004, 0.0004, 0.0004, 0.0004, 0.0004, 0.0004, 0.0004,\n",
       "        0.0004, 0.0004, 0.0004, 0.0004, 0.0004, 0.0004, 0.0004, 0.0004]])"
      ]
     },
     "execution_count": 39,
     "metadata": {},
     "output_type": "execute_result"
    }
   ],
   "source": [
    "data.cov[2]"
   ]
  },
  {
   "cell_type": "code",
   "execution_count": null,
   "id": "99903679",
   "metadata": {},
   "outputs": [],
   "source": []
  },
  {
   "cell_type": "code",
   "execution_count": null,
   "id": "351b0d13",
   "metadata": {},
   "outputs": [],
   "source": []
  },
  {
   "cell_type": "code",
   "execution_count": null,
   "id": "a7e66eaa",
   "metadata": {},
   "outputs": [],
   "source": []
  },
  {
   "cell_type": "code",
   "execution_count": 47,
   "id": "9cebb22f",
   "metadata": {},
   "outputs": [],
   "source": [
    "df = pd.read_csv('SMBH_Data_0303.csv',header=1)"
   ]
  },
  {
   "cell_type": "code",
   "execution_count": 152,
   "id": "03cf1ba7",
   "metadata": {
    "scrolled": true
   },
   "outputs": [
    {
     "name": "stdout",
     "output_type": "stream",
     "text": [
      " message: Optimization terminated successfully.\n",
      " success: True\n",
      "     fun: -190.40706638663806\n",
      "       x: [-8.750e-01 -3.605e-01  1.134e-01  3.111e-01  2.234e-04]\n",
      "     nit: 103\n",
      "    nfev: 7866\n",
      "     jac: [-4.028e+01 -1.543e-02  9.420e-02  1.549e-01  6.193e-02]\n"
     ]
    },
    {
     "name": "stderr",
     "output_type": "stream",
     "text": [
      "  0%|                                                  | 0/1000 [00:00<?, ?it/s]/home/zj448/miniconda3/lib/python3.9/site-packages/emcee/moves/red_blue.py:99: RuntimeWarning: invalid value encountered in scalar subtract\n",
      "  lnpdiff = f + nlp - state.log_prob[j]\n",
      "100%|█████████████████████████████████████| 1000/1000 [00:00<00:00, 1591.49it/s]\n"
     ]
    },
    {
     "name": "stdout",
     "output_type": "stream",
     "text": [
      "Niterations/Max Iterations:  1000 / 100000\n",
      "Integrated ACT/Min Convergence Iterations:  [46.9972501  44.16940652 44.97170596 44.91000824 99.75793209] / 4987.896604675216\n"
     ]
    },
    {
     "name": "stderr",
     "output_type": "stream",
     "text": [
      "100%|█████████████████████████████████████| 1000/1000 [00:00<00:00, 1598.78it/s]\n"
     ]
    },
    {
     "name": "stdout",
     "output_type": "stream",
     "text": [
      "Niterations/Max Iterations:  2000 / 100000\n",
      "Integrated ACT/Min Convergence Iterations:  [67.69916519 59.21153859 68.32546404 60.42781316 54.43307868] / 3416.273202135954\n"
     ]
    },
    {
     "name": "stderr",
     "output_type": "stream",
     "text": [
      "100%|█████████████████████████████████████| 1000/1000 [00:00<00:00, 1594.93it/s]\n"
     ]
    },
    {
     "name": "stdout",
     "output_type": "stream",
     "text": [
      "Niterations/Max Iterations:  3000 / 100000\n",
      "Integrated ACT/Min Convergence Iterations:  [82.16092818 59.96048001 54.82643916 83.25033059 49.96580438] / 4162.516529572727\n"
     ]
    },
    {
     "name": "stderr",
     "output_type": "stream",
     "text": [
      "100%|█████████████████████████████████████| 1000/1000 [00:00<00:00, 1591.99it/s]\n"
     ]
    },
    {
     "name": "stdout",
     "output_type": "stream",
     "text": [
      "Niterations/Max Iterations:  4000 / 100000\n",
      "Integrated ACT/Min Convergence Iterations:  [78.99460922 64.89994024 57.47713459 80.14468154 54.25885171] / 4007.2340767952496\n"
     ]
    },
    {
     "name": "stderr",
     "output_type": "stream",
     "text": [
      "100%|█████████████████████████████████████| 1000/1000 [00:00<00:00, 1605.39it/s]\n"
     ]
    },
    {
     "name": "stdout",
     "output_type": "stream",
     "text": [
      "Niterations/Max Iterations:  5000 / 100000\n",
      "Integrated ACT/Min Convergence Iterations:  [83.70797184 59.75693916 61.16201319 82.1880524  60.98257412] / 4185.398592156236\n"
     ]
    },
    {
     "name": "stderr",
     "output_type": "stream",
     "text": [
      "100%|█████████████████████████████████████| 1000/1000 [00:00<00:00, 1587.78it/s]\n"
     ]
    },
    {
     "name": "stdout",
     "output_type": "stream",
     "text": [
      "Niterations/Max Iterations:  6000 / 100000\n",
      "Integrated ACT/Min Convergence Iterations:  [87.59024051 64.41542758 69.79599344 86.39762919 62.98577083] / 4379.512025534386\n"
     ]
    },
    {
     "name": "stderr",
     "output_type": "stream",
     "text": [
      "100%|█████████████████████████████████████| 1000/1000 [00:00<00:00, 1587.96it/s]\n"
     ]
    },
    {
     "name": "stdout",
     "output_type": "stream",
     "text": [
      "Niterations/Max Iterations:  7000 / 100000\n",
      "Integrated ACT/Min Convergence Iterations:  [92.77189613 70.62121079 75.32061508 88.57941377 67.56599005] / 4638.594806588903\n"
     ]
    },
    {
     "name": "stderr",
     "output_type": "stream",
     "text": [
      "100%|█████████████████████████████████████| 1000/1000 [00:00<00:00, 1603.35it/s]\n"
     ]
    },
    {
     "name": "stdout",
     "output_type": "stream",
     "text": [
      "Niterations/Max Iterations:  8000 / 100000\n",
      "Integrated ACT/Min Convergence Iterations:  [102.19697567  76.54395174  78.03375625  99.11036066  71.51016477] / 5109.848783653696\n"
     ]
    },
    {
     "name": "stderr",
     "output_type": "stream",
     "text": [
      "100%|█████████████████████████████████████| 1000/1000 [00:00<00:00, 1605.10it/s]\n"
     ]
    },
    {
     "name": "stdout",
     "output_type": "stream",
     "text": [
      "Niterations/Max Iterations:  9000 / 100000\n",
      "Integrated ACT/Min Convergence Iterations:  [97.63036045 74.28459335 77.77456203 96.99593083 70.3589398 ] / 4881.518022455399\n",
      "[ 2.77412444  1.16404247 -0.36490294  3.32008483  0.08662954] [0.05191587 0.09549622 0.03855316 0.10711205 0.05857191]\n"
     ]
    }
   ],
   "source": [
    "paras=['log_sigma0','log_B/T','logRho_soi_approx_new']\n",
    "bounds = ((2.0, 3.0), (0.0, 1.0), (-1.0, 0.0), (3.5, 4.5), (1.0e-5, 1.0))\n",
    "\n",
    "\n",
    "paras.append('M_BH')\n",
    "stds=[]\n",
    "for para in paras:\n",
    "    stds.append(para+'_std')\n",
    "    \n",
    "df_=df[paras+stds].dropna(axis='index',how='any')\n",
    "xs=np.array(df_[paras]).transpose()\n",
    "errs=np.array(df_[stds]).transpose()\n",
    "cov=np.zeros((len(paras),len(paras),len(df_)))\n",
    "for i in range(len(paras)):\n",
    "    cov[i,i,:]=errs[i]**2\n",
    "\n",
    "hf = LinFit(xs, cov)\n",
    "\n",
    "mcmc_samples, mcmc_lnlike = hf.emcee(bounds, verbose=True)\n",
    "print(np.mean(mcmc_samples, axis=1), np.std(mcmc_samples, axis=1))"
   ]
  },
  {
   "cell_type": "code",
   "execution_count": 153,
   "id": "a151ce6f",
   "metadata": {},
   "outputs": [
    {
     "data": {
      "image/png": "[encoded data removed]",
      "text/plain": [
       "<Figure size 576x432 with 1 Axes>"
      ]
     },
     "metadata": {
      "needs_background": "light"
     },
     "output_type": "display_data"
    }
   ],
   "source": [
    "c=np.mean(mcmc_samples, axis=1)\n",
    "y=xs[-1]\n",
    "y_pred=0\n",
    "for i in range(len(c)-2):\n",
    "    y_pred+=c[i]*xs[i]\n",
    "y_pred+=c[-2]\n",
    "\n",
    "plt.figure(figsize=(8,6))\n",
    "plt.scatter(y,y_pred,label='predicted')\n",
    "plt.plot(np.linspace(y_pred.min(),y_pred.max()),np.linspace(y_pred.min(),y_pred.max()),label='f(x)=x')\n",
    "plt.xlabel(r'True $\\rm{log} M_{BH}$',fontsize=20)\n",
    "plt.ylabel(r'Predicted $\\rm{log} M_{BH}$',fontsize=20)\n",
    "plt.legend()\n",
    "plt.show()"
   ]
  },
  {
   "cell_type": "code",
   "execution_count": 2,
   "id": "da0c4c6d",
   "metadata": {},
   "outputs": [],
   "source": [
    "def fit(paras,bounds,plot=True):\n",
    "    paras.append('M_BH')\n",
    "    stds=[]\n",
    "    for para in paras:\n",
    "        stds.append(para+'_std')\n",
    "    \n",
    "    df_=df[paras+stds].dropna(axis='index',how='any')\n",
    "    xs=np.array(df_[paras]).transpose()\n",
    "    errs=np.array(df_[stds]).transpose()\n",
    "    cov=np.zeros((len(paras),len(paras),len(df_)))\n",
    "    for i in range(len(paras)):\n",
    "        cov[i,i,:]=errs[i]**2\n",
    "\n",
    "    hf = LinFit(xs, cov)\n",
    "\n",
    "    mcmc_samples, mcmc_lnlike = hf.emcee(bounds, verbose=False)\n",
    "    print(np.mean(mcmc_samples, axis=1), np.std(mcmc_samples, axis=1))\n",
    "    \n",
    "    \n",
    "    if plot:\n",
    "        c=np.mean(mcmc_samples, axis=1)\n",
    "        y=xs[-1]\n",
    "        y_pred=0\n",
    "        for i in range(len(c)-2):\n",
    "            y_pred+=c[i]*xs[i]\n",
    "        y_pred+=c[-2]\n",
    "\n",
    "    plt.figure(figsize=(8,6))\n",
    "    plt.scatter(y,y_pred,label='predicted')\n",
    "    plt.plot(np.linspace(y_pred.min(),y_pred.max()),np.linspace(y_pred.min(),y_pred.max()),label='f(x)=x')\n",
    "    plt.xlabel(r'True $\\rm{log} M_{BH}$',fontsize=20)\n",
    "    plt.ylabel(r'Predicted $\\rm{log} M_{BH}$',fontsize=20)\n",
    "    plt.legend()\n",
    "    plt.show()\n",
    "    \n",
    "    w = 1/errs[-1]**2\n",
    "    print('rmse:',np.sqrt(np.average((y-y_pred)**2,weights=w)))\n",
    "    return np.mean(mcmc_samples, axis=1), np.std(mcmc_samples, axis=1)"
   ]
  },
  {
   "cell_type": "code",
   "execution_count": 169,
   "id": "947b2e0b",
   "metadata": {},
   "outputs": [
    {
     "name": "stderr",
     "output_type": "stream",
     "text": [
      "/home/zj448/miniconda3/lib/python3.9/site-packages/emcee/moves/red_blue.py:99: RuntimeWarning: invalid value encountered in scalar subtract\n",
      "  lnpdiff = f + nlp - state.log_prob[j]\n"
     ]
    },
    {
     "name": "stdout",
     "output_type": "stream",
     "text": [
      "[ 2.77679962  1.16427157 -0.36642744  3.32060273  0.08290356] [0.05184539 0.09560613 0.037808   0.1058261  0.05875805]\n"
     ]
    },
    {
     "data": {
      "image/png": "[encoded data removed]",
      "text/plain": [
       "<Figure size 576x432 with 1 Axes>"
      ]
     },
     "metadata": {
      "needs_background": "light"
     },
     "output_type": "display_data"
    },
    {
     "name": "stdout",
     "output_type": "stream",
     "text": [
      "rmse: 0.26657189945769094\n"
     ]
    },
    {
     "data": {
      "text/plain": [
       "(array([ 2.77679962,  1.16427157, -0.36642744,  3.32060273,  0.08290356]),\n",
       " array([0.05184539, 0.09560613, 0.037808  , 0.1058261 , 0.05875805]))"
      ]
     },
     "execution_count": 169,
     "metadata": {},
     "output_type": "execute_result"
    }
   ],
   "source": [
    "fit(paras=['log_sigma0','log_B/T','logRho_soi_approx_new'],bounds = ((2.0, 3.0), (0.0, 1.0), (-1.0, 0.0), (3.5, 4.5), (1.0e-5, 1.0)),plot=True)"
   ]
  },
  {
   "cell_type": "code",
   "execution_count": 170,
   "id": "c17a4a3c",
   "metadata": {},
   "outputs": [
    {
     "name": "stderr",
     "output_type": "stream",
     "text": [
      "/home/zj448/miniconda3/lib/python3.9/site-packages/emcee/moves/red_blue.py:99: RuntimeWarning: invalid value encountered in scalar subtract\n",
      "  lnpdiff = f + nlp - state.log_prob[j]\n"
     ]
    },
    {
     "name": "stdout",
     "output_type": "stream",
     "text": [
      "[ 2.84187436 -0.55834365  3.22377648  0.45146622] [0.05078897 0.05780646 0.07943581 0.04750549]\n"
     ]
    },
    {
     "data": {
      "image/png": "[encoded data removed]",
      "text/plain": [
       "<Figure size 576x432 with 1 Axes>"
      ]
     },
     "metadata": {
      "needs_background": "light"
     },
     "output_type": "display_data"
    },
    {
     "name": "stdout",
     "output_type": "stream",
     "text": [
      "rmse: 0.40877515725488\n"
     ]
    },
    {
     "data": {
      "text/plain": [
       "(array([ 2.84187436, -0.55834365,  3.22377648,  0.45146622]),\n",
       " array([0.05078897, 0.05780646, 0.07943581, 0.04750549]))"
      ]
     },
     "execution_count": 170,
     "metadata": {},
     "output_type": "execute_result"
    }
   ],
   "source": [
    "fit(paras=['log_sigma0','logRho_soi_approx_new'],bounds = ((2.0, 3.0), (-1.0, 0.0), (3.5, 4.5), (1.0e-5, 1.0)),plot=True)"
   ]
  },
  {
   "cell_type": "code",
   "execution_count": 171,
   "id": "0341961d",
   "metadata": {},
   "outputs": [
    {
     "name": "stderr",
     "output_type": "stream",
     "text": [
      "/home/zj448/miniconda3/lib/python3.9/site-packages/emcee/moves/red_blue.py:99: RuntimeWarning: invalid value encountered in scalar subtract\n",
      "  lnpdiff = f + nlp - state.log_prob[j]\n"
     ]
    },
    {
     "name": "stdout",
     "output_type": "stream",
     "text": [
      "[2.27100078 1.50118819 3.60388764 0.33982532] [0.04470587 0.11203857 0.13178275 0.05243482]\n"
     ]
    },
    {
     "data": {
      "image/png": "[encoded data removed]",
      "text/plain": [
       "<Figure size 576x432 with 1 Axes>"
      ]
     },
     "metadata": {
      "needs_background": "light"
     },
     "output_type": "display_data"
    },
    {
     "name": "stdout",
     "output_type": "stream",
     "text": [
      "rmse: 0.41162812126928383\n"
     ]
    },
    {
     "data": {
      "text/plain": [
       "(array([2.27100078, 1.50118819, 3.60388764, 0.33982532]),\n",
       " array([0.04470587, 0.11203857, 0.13178275, 0.05243482]))"
      ]
     },
     "execution_count": 171,
     "metadata": {},
     "output_type": "execute_result"
    }
   ],
   "source": [
    "fit(paras=['log_sigma0','log_B/T'],bounds = ((2.0, 3.0), (0.0, 1.0), (3.5, 4.5), (1.0e-5, 1.0)),plot=True)"
   ]
  },
  {
   "cell_type": "code",
   "execution_count": 185,
   "id": "976440a9",
   "metadata": {},
   "outputs": [
    {
     "name": "stderr",
     "output_type": "stream",
     "text": [
      "/home/zj448/miniconda3/lib/python3.9/site-packages/emcee/moves/red_blue.py:99: RuntimeWarning: invalid value encountered in scalar subtract\n",
      "  lnpdiff = f + nlp - state.log_prob[j]\n"
     ]
    },
    {
     "name": "stdout",
     "output_type": "stream",
     "text": [
      "[3.27419645 0.75620851 0.58616157] [0.02888827 0.04286124 0.03956669]\n"
     ]
    },
    {
     "data": {
      "image/png": "[encoded data removed]",
      "text/plain": [
       "<Figure size 576x432 with 1 Axes>"
      ]
     },
     "metadata": {
      "needs_background": "light"
     },
     "output_type": "display_data"
    },
    {
     "name": "stdout",
     "output_type": "stream",
     "text": [
      "rmse: 0.5456248025461935\n"
     ]
    },
    {
     "data": {
      "text/plain": [
       "(array([3.27419645, 0.75620851, 0.58616157]),\n",
       " array([0.02888827, 0.04286124, 0.03956669]))"
      ]
     },
     "execution_count": 185,
     "metadata": {},
     "output_type": "execute_result"
    }
   ],
   "source": [
    "fit(paras=['log_sigma0'],bounds = ((1.0, 10.0), (2., 10.), (1.0e-5, 1.0)),plot=True)"
   ]
  },
  {
   "cell_type": "code",
   "execution_count": null,
   "id": "13f6e1c8",
   "metadata": {},
   "outputs": [],
   "source": []
  },
  {
   "cell_type": "code",
   "execution_count": 173,
   "id": "ee538450",
   "metadata": {},
   "outputs": [
    {
     "name": "stderr",
     "output_type": "stream",
     "text": [
      "/home/zj448/miniconda3/lib/python3.9/site-packages/emcee/moves/red_blue.py:99: RuntimeWarning: invalid value encountered in scalar subtract\n",
      "  lnpdiff = f + nlp - state.log_prob[j]\n"
     ]
    },
    {
     "name": "stdout",
     "output_type": "stream",
     "text": [
      "[ 2.58349859  1.13805425 -0.30701775  0.46684266  2.71605977  0.55539404] [0.22079945 0.48292868 0.17571415 0.18039996 0.42467966 0.13229319]\n"
     ]
    },
    {
     "data": {
      "image/png": "[encoded data removed]",
      "text/plain": [
       "<Figure size 576x432 with 1 Axes>"
      ]
     },
     "metadata": {
      "needs_background": "light"
     },
     "output_type": "display_data"
    },
    {
     "name": "stdout",
     "output_type": "stream",
     "text": [
      "rmse: 0.272446718088722\n"
     ]
    },
    {
     "data": {
      "text/plain": [
       "(array([ 2.58349859,  1.13805425, -0.30701775,  0.46684266,  2.71605977,\n",
       "         0.55539404]),\n",
       " array([0.22079945, 0.48292868, 0.17571415, 0.18039996, 0.42467966,\n",
       "        0.13229319]))"
      ]
     },
     "execution_count": 173,
     "metadata": {},
     "output_type": "execute_result"
    }
   ],
   "source": [
    "fit(paras=['log_sigma0','log_R_e_sph_eq_kpc','logRho_soi_approx_new','bvtc'],bounds = ((2.,3.), (0.,1.), (-1.,0.), (0.5,1.5), (2.,3.), (1.0e-5, 1.0)),plot=True)"
   ]
  },
  {
   "cell_type": "code",
   "execution_count": 174,
   "id": "891f7b39",
   "metadata": {},
   "outputs": [
    {
     "name": "stdout",
     "output_type": "stream",
     "text": [
      "(array([ 2.76445267,  1.60401045, -0.16370818,  0.45824043,  2.04007254]), 0.5748411794090462, 30.244593197631563)\n"
     ]
    }
   ],
   "source": [
    "paras=['log_sigma0','log_R_e_sph_eq_kpc','logRho_soi_approx_new','bvtc']\n",
    "bounds = ((2.,3.), (0.,1.), (-1.,0.), (0.5,1.5), (2.,3.), (1.0e-5, 1.0))\n",
    "\n",
    "\n",
    "paras.append('M_BH')\n",
    "stds=[]\n",
    "for para in paras:\n",
    "    stds.append(para+'_std')\n",
    "    \n",
    "df_=df[paras+stds].dropna(axis='index',how='any')\n",
    "xs=np.array(df_[paras]).transpose()\n",
    "errs=np.array(df_[stds]).transpose()\n",
    "cov=np.zeros((len(paras),len(paras),len(df_)))\n",
    "for i in range(len(paras)):\n",
    "    cov[i,i,:]=errs[i]**2\n",
    "\n",
    "hf = LinFit(xs, cov)\n",
    "\n",
    "print(hf.optimize(bounds, verbose=False))"
   ]
  },
  {
   "cell_type": "code",
   "execution_count": 183,
   "id": "9bb82ea3",
   "metadata": {},
   "outputs": [
    {
     "data": {
      "text/html": [
       "<div>\n",
       "<style scoped>\n",
       "    .dataframe tbody tr th:only-of-type {\n",
       "        vertical-align: middle;\n",
       "    }\n",
       "\n",
       "    .dataframe tbody tr th {\n",
       "        vertical-align: top;\n",
       "    }\n",
       "\n",
       "    .dataframe thead th {\n",
       "        text-align: right;\n",
       "    }\n",
       "</style>\n",
       "<table border=\"1\" class=\"dataframe\">\n",
       "  <thead>\n",
       "    <tr style=\"text-align: right;\">\n",
       "      <th></th>\n",
       "      <th>log_sigma0</th>\n",
       "      <th>log_R_e_sph_eq_kpc</th>\n",
       "      <th>logRho_soi_approx_new</th>\n",
       "      <th>bvtc</th>\n",
       "      <th>M_BH</th>\n",
       "      <th>log_sigma0_std</th>\n",
       "      <th>log_R_e_sph_eq_kpc_std</th>\n",
       "      <th>logRho_soi_approx_new_std</th>\n",
       "      <th>bvtc_std</th>\n",
       "      <th>M_BH_std</th>\n",
       "    </tr>\n",
       "  </thead>\n",
       "  <tbody>\n",
       "    <tr>\n",
       "      <th>0</th>\n",
       "      <td>2.490000</td>\n",
       "      <td>1.03</td>\n",
       "      <td>1.417885</td>\n",
       "      <td>0.922</td>\n",
       "      <td>9.59</td>\n",
       "      <td>NaN</td>\n",
       "      <td>NaN</td>\n",
       "      <td>0.579331</td>\n",
       "      <td>0.127279</td>\n",
       "      <td>0.06</td>\n",
       "    </tr>\n",
       "    <tr>\n",
       "      <th>1</th>\n",
       "      <td>2.471453</td>\n",
       "      <td>0.89</td>\n",
       "      <td>2.426156</td>\n",
       "      <td>0.947</td>\n",
       "      <td>9.38</td>\n",
       "      <td>0.009328</td>\n",
       "      <td>NaN</td>\n",
       "      <td>0.866987</td>\n",
       "      <td>0.944416</td>\n",
       "      <td>0.20</td>\n",
       "    </tr>\n",
       "    <tr>\n",
       "      <th>2</th>\n",
       "      <td>NaN</td>\n",
       "      <td>NaN</td>\n",
       "      <td>NaN</td>\n",
       "      <td>NaN</td>\n",
       "      <td>7.15</td>\n",
       "      <td>NaN</td>\n",
       "      <td>NaN</td>\n",
       "      <td>NaN</td>\n",
       "      <td>NaN</td>\n",
       "      <td>0.13</td>\n",
       "    </tr>\n",
       "    <tr>\n",
       "      <th>3</th>\n",
       "      <td>2.515012</td>\n",
       "      <td>0.96</td>\n",
       "      <td>2.371550</td>\n",
       "      <td>0.912</td>\n",
       "      <td>9.10</td>\n",
       "      <td>0.007217</td>\n",
       "      <td>NaN</td>\n",
       "      <td>0.645526</td>\n",
       "      <td>0.155242</td>\n",
       "      <td>0.09</td>\n",
       "    </tr>\n",
       "    <tr>\n",
       "      <th>4</th>\n",
       "      <td>2.510679</td>\n",
       "      <td>NaN</td>\n",
       "      <td>NaN</td>\n",
       "      <td>NaN</td>\n",
       "      <td>9.69</td>\n",
       "      <td>0.020971</td>\n",
       "      <td>NaN</td>\n",
       "      <td>NaN</td>\n",
       "      <td>NaN</td>\n",
       "      <td>0.16</td>\n",
       "    </tr>\n",
       "    <tr>\n",
       "      <th>...</th>\n",
       "      <td>...</td>\n",
       "      <td>...</td>\n",
       "      <td>...</td>\n",
       "      <td>...</td>\n",
       "      <td>...</td>\n",
       "      <td>...</td>\n",
       "      <td>...</td>\n",
       "      <td>...</td>\n",
       "      <td>...</td>\n",
       "      <td>...</td>\n",
       "    </tr>\n",
       "    <tr>\n",
       "      <th>140</th>\n",
       "      <td>2.198657</td>\n",
       "      <td>-0.04</td>\n",
       "      <td>1.709593</td>\n",
       "      <td>NaN</td>\n",
       "      <td>7.02</td>\n",
       "      <td>0.068717</td>\n",
       "      <td>0.06</td>\n",
       "      <td>0.446870</td>\n",
       "      <td>NaN</td>\n",
       "      <td>0.14</td>\n",
       "    </tr>\n",
       "    <tr>\n",
       "      <th>141</th>\n",
       "      <td>NaN</td>\n",
       "      <td>-0.44</td>\n",
       "      <td>NaN</td>\n",
       "      <td>0.427</td>\n",
       "      <td>7.68</td>\n",
       "      <td>NaN</td>\n",
       "      <td>0.12</td>\n",
       "      <td>NaN</td>\n",
       "      <td>0.632684</td>\n",
       "      <td>0.50</td>\n",
       "    </tr>\n",
       "    <tr>\n",
       "      <th>142</th>\n",
       "      <td>2.073315</td>\n",
       "      <td>-0.32</td>\n",
       "      <td>3.165358</td>\n",
       "      <td>0.662</td>\n",
       "      <td>7.72</td>\n",
       "      <td>0.018965</td>\n",
       "      <td>0.11</td>\n",
       "      <td>0.461412</td>\n",
       "      <td>0.985848</td>\n",
       "      <td>0.12</td>\n",
       "    </tr>\n",
       "    <tr>\n",
       "      <th>143</th>\n",
       "      <td>2.029384</td>\n",
       "      <td>-0.24</td>\n",
       "      <td>3.538613</td>\n",
       "      <td>NaN</td>\n",
       "      <td>7.07</td>\n",
       "      <td>0.048706</td>\n",
       "      <td>0.01</td>\n",
       "      <td>0.530173</td>\n",
       "      <td>NaN</td>\n",
       "      <td>0.05</td>\n",
       "    </tr>\n",
       "    <tr>\n",
       "      <th>144</th>\n",
       "      <td>2.190332</td>\n",
       "      <td>-0.03</td>\n",
       "      <td>2.353906</td>\n",
       "      <td>0.686</td>\n",
       "      <td>7.41</td>\n",
       "      <td>0.050434</td>\n",
       "      <td>0.03</td>\n",
       "      <td>0.425526</td>\n",
       "      <td>0.097581</td>\n",
       "      <td>0.03</td>\n",
       "    </tr>\n",
       "  </tbody>\n",
       "</table>\n",
       "<p>145 rows × 10 columns</p>\n",
       "</div>"
      ],
      "text/plain": [
       "     log_sigma0  log_R_e_sph_eq_kpc  logRho_soi_approx_new   bvtc  M_BH  \\\n",
       "0      2.490000                1.03               1.417885  0.922  9.59   \n",
       "1      2.471453                0.89               2.426156  0.947  9.38   \n",
       "2           NaN                 NaN                    NaN    NaN  7.15   \n",
       "3      2.515012                0.96               2.371550  0.912  9.10   \n",
       "4      2.510679                 NaN                    NaN    NaN  9.69   \n",
       "..          ...                 ...                    ...    ...   ...   \n",
       "140    2.198657               -0.04               1.709593    NaN  7.02   \n",
       "141         NaN               -0.44                    NaN  0.427  7.68   \n",
       "142    2.073315               -0.32               3.165358  0.662  7.72   \n",
       "143    2.029384               -0.24               3.538613    NaN  7.07   \n",
       "144    2.190332               -0.03               2.353906  0.686  7.41   \n",
       "\n",
       "     log_sigma0_std  log_R_e_sph_eq_kpc_std  logRho_soi_approx_new_std  \\\n",
       "0               NaN                     NaN                   0.579331   \n",
       "1          0.009328                     NaN                   0.866987   \n",
       "2               NaN                     NaN                        NaN   \n",
       "3          0.007217                     NaN                   0.645526   \n",
       "4          0.020971                     NaN                        NaN   \n",
       "..              ...                     ...                        ...   \n",
       "140        0.068717                    0.06                   0.446870   \n",
       "141             NaN                    0.12                        NaN   \n",
       "142        0.018965                    0.11                   0.461412   \n",
       "143        0.048706                    0.01                   0.530173   \n",
       "144        0.050434                    0.03                   0.425526   \n",
       "\n",
       "     bvtc_std  M_BH_std  \n",
       "0    0.127279      0.06  \n",
       "1    0.944416      0.20  \n",
       "2         NaN      0.13  \n",
       "3    0.155242      0.09  \n",
       "4         NaN      0.16  \n",
       "..        ...       ...  \n",
       "140       NaN      0.14  \n",
       "141  0.632684      0.50  \n",
       "142  0.985848      0.12  \n",
       "143       NaN      0.05  \n",
       "144  0.097581      0.03  \n",
       "\n",
       "[145 rows x 10 columns]"
      ]
     },
     "execution_count": 183,
     "metadata": {},
     "output_type": "execute_result"
    }
   ],
   "source": [
    "df[paras+stds]"
   ]
  },
  {
   "cell_type": "code",
   "execution_count": null,
   "id": "47bbcbc4",
   "metadata": {},
   "outputs": [],
   "source": []
  },
  {
   "cell_type": "code",
   "execution_count": null,
   "id": "4e1ff851",
   "metadata": {},
   "outputs": [],
   "source": []
  },
  {
   "cell_type": "code",
   "execution_count": 168,
   "id": "2534db38",
   "metadata": {},
   "outputs": [
    {
     "name": "stderr",
     "output_type": "stream",
     "text": [
      "/home/zj448/miniconda3/lib/python3.9/site-packages/emcee/moves/red_blue.py:99: RuntimeWarning: invalid value encountered in scalar subtract\n",
      "  lnpdiff = f + nlp - state.log_prob[j]\n"
     ]
    },
    {
     "name": "stdout",
     "output_type": "stream",
     "text": [
      "[ 3.7363898   0.79330259 -8.79299098  0.4988135 ] [0.17230705 0.02373932 0.6067184  0.04750227]\n"
     ]
    },
    {
     "data": {
      "image/png": "[encoded data removed]",
      "text/plain": [
       "<Figure size 576x432 with 1 Axes>"
      ]
     },
     "metadata": {
      "needs_background": "light"
     },
     "output_type": "display_data"
    },
    {
     "name": "stdout",
     "output_type": "stream",
     "text": [
      "rmse: 0.4398050714259894\n"
     ]
    },
    {
     "data": {
      "text/plain": [
       "(array([ 3.7363898 ,  0.79330259, -8.79299098,  0.4988135 ]),\n",
       " array([0.17230705, 0.02373932, 0.6067184 , 0.04750227]))"
      ]
     },
     "execution_count": 168,
     "metadata": {},
     "output_type": "execute_result"
    }
   ],
   "source": [
    "fit(paras=['log_sigma0','M*_sph'],bounds = ((0.5, 1.5), (0.5, 1.5), (-6.0, -3.0), (1.0e-5, 1.0)),plot=True)"
   ]
  },
  {
   "cell_type": "code",
   "execution_count": null,
   "id": "b45c8113",
   "metadata": {},
   "outputs": [],
   "source": []
  }
 ],
 "metadata": {
  "kernelspec": {
   "display_name": "Python 3 (ipykernel)",
   "language": "python",
   "name": "python3"
  },
  "language_info": {
   "codemirror_mode": {
    "name": "ipython",
    "version": 3
   },
   "file_extension": ".py",
   "mimetype": "text/x-python",
   "name": "python",
   "nbconvert_exporter": "python",
   "pygments_lexer": "ipython3",
   "version": "3.9.5"
  }
 },
 "nbformat": 4,
 "nbformat_minor": 5
}
