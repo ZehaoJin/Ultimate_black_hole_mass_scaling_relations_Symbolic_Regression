{
 "cells": [
  {
   "cell_type": "code",
   "execution_count": 1,
   "id": "2b89024e",
   "metadata": {},
   "outputs": [],
   "source": [
    "import numpy as np\n",
    "import pandas as pd\n",
    "from pysr import PySRRegressor\n",
    "from IPython.display import HTML\n",
    "from matplotlib import pyplot as plt"
   ]
  },
  {
   "cell_type": "code",
   "execution_count": 2,
   "id": "4c3ed5fc",
   "metadata": {},
   "outputs": [],
   "source": [
    "df_clean = pd.read_csv('clean_table_MBH.csv')"
   ]
  },
  {
   "cell_type": "code",
   "execution_count": 3,
   "id": "1d5a6fbd",
   "metadata": {},
   "outputs": [
    {
     "name": "stdout",
     "output_type": "stream",
     "text": [
      "Index(['T-type', 'Bar', 'Disk', 'Core', 'AGN', 'Pseudobulge', 'M_BH',\n",
      "       'M_BH_std', 'M*_sph', 'M*_gal', 'log_B/T', 'log_sigma0',\n",
      "       'log_R_e_sph_maj', 'log_R_e_sph_eq_kpc', 'log_n_sph_maj',\n",
      "       'log_n_sph_eq', 'log(I_e,sph,maj/M_Sun/pc^2)',\n",
      "       'log(I_e,sph,eq/M_Sun/pc^2)', 'Concentration_Index',\n",
      "       'avg_Rho_1kpc_Exact_All', 'r1_density_approx', 'log10(R10_kpc)',\n",
      "       'logRho_R10_approx', 'log_rho10_Exact', 'log10(R90_kpc)',\n",
      "       'logRho_R90_approx', 'log_rho_90_Exact_all', 'Rho_re_spatial',\n",
      "       'SR_pc_All', 'Rho_SR_pc_All', 'CR_def1_approx_new',\n",
      "       'Rho_cr_def1_approx_new', 'CR_def2_approx_new',\n",
      "       'Rho_CR_def2_approx_new', 'Sr(pc)_2_using_Falserm_drho',\n",
      "       'Log_Approx_Avg_density_10pc', 'log_Rho_e_Exact_new',\n",
      "       'logRho_e_approx_New', 'logRho_soi_approx_new', 'log_Rho_soi_exact_new',\n",
      "       'Avg_Rho_Re_Exact_all', 'Avg_Rho_soi_exact_all', 'Avg_Rho_re_Exact_all',\n",
      "       'Rho_re_Exact_all', 'r_soi_2BH_approx', 'Rho_r_soi_2BH_approx',\n",
      "       'Log_Avg_Rho_10kpc_approx', 'Log_Avg_Rho_10kpc_exact_final',\n",
      "       'Log_Avg_Rho_100pc_approx', 'Log_Avg_Rho_5kpc_approx',\n",
      "       'Log_Avg_rho_5kpc_exact_all'],\n",
      "      dtype='object')\n",
      "51\n"
     ]
    }
   ],
   "source": [
    "nanpercent=0.16\n",
    "cols_to_delete = df_clean.columns[df_clean.isnull().sum()/len(df_clean) > nanpercent]\n",
    "df_lessnan=df_clean.drop(cols_to_delete, axis = 1)\n",
    "df_purge=df_lessnan.dropna(axis='index',how='any')\n",
    "print(df_purge.columns)\n",
    "print(len(df_purge.columns))\n",
    "#HTML(df_purge.to_html())"
   ]
  },
  {
   "cell_type": "code",
   "execution_count": 4,
   "id": "035454e5",
   "metadata": {},
   "outputs": [],
   "source": [
    "## useful functions\n",
    "def x2name(feature_list,df_handson):\n",
    "    for ind in feature_list:\n",
    "        i=int(ind[1:])\n",
    "        print('x',i,':',df_handson.columns[i])\n",
    "\n",
    "def rmse(y,y_pred,w):\n",
    "    return np.sqrt(np.average((y-y_pred)**2,weights=w))\n",
    "\n",
    "def df2name(df):\n",
    "    for i in range(len(df.columns)):\n",
    "        print('x',i,':',df.columns[i])"
   ]
  },
  {
   "cell_type": "markdown",
   "id": "b0794490",
   "metadata": {},
   "source": [
    "stellar mass $M*_{sph/gal}$,T-type"
   ]
  },
  {
   "cell_type": "code",
   "execution_count": 107,
   "id": "5a71df1a",
   "metadata": {},
   "outputs": [],
   "source": [
    "#df=df_purge[['M*_sph','M*_gal','T-type','log_R_e_sph_eq_kpc']]\n",
    "df=df_purge[['M*_sph','T-type']]\n",
    "#df=df_purge[['M*_gal','T-type']]\n",
    "#df=df.rename(columns={\"M*_sph\": \"M_star_sph\"})"
   ]
  },
  {
   "cell_type": "code",
   "execution_count": 108,
   "id": "1b3b8eec",
   "metadata": {},
   "outputs": [
    {
     "data": {
      "text/html": [
       "<table border=\"1\" class=\"dataframe\">\n",
       "  <thead>\n",
       "    <tr style=\"text-align: right;\">\n",
       "      <th></th>\n",
       "      <th>M*_sph</th>\n",
       "      <th>T-type</th>\n",
       "    </tr>\n",
       "  </thead>\n",
       "  <tbody>\n",
       "    <tr>\n",
       "      <th>0</th>\n",
       "      <td>11.70</td>\n",
       "      <td>-3.2</td>\n",
       "    </tr>\n",
       "    <tr>\n",
       "      <th>1</th>\n",
       "      <td>11.69</td>\n",
       "      <td>-4.8</td>\n",
       "    </tr>\n",
       "    <tr>\n",
       "      <th>3</th>\n",
       "      <td>11.72</td>\n",
       "      <td>-4.9</td>\n",
       "    </tr>\n",
       "    <tr>\n",
       "      <th>5</th>\n",
       "      <td>10.43</td>\n",
       "      <td>-1.9</td>\n",
       "    </tr>\n",
       "    <tr>\n",
       "      <th>6</th>\n",
       "      <td>8.03</td>\n",
       "      <td>-2.8</td>\n",
       "    </tr>\n",
       "    <tr>\n",
       "      <th>7</th>\n",
       "      <td>10.88</td>\n",
       "      <td>-1.2</td>\n",
       "    </tr>\n",
       "    <tr>\n",
       "      <th>9</th>\n",
       "      <td>10.84</td>\n",
       "      <td>-4.8</td>\n",
       "    </tr>\n",
       "    <tr>\n",
       "      <th>10</th>\n",
       "      <td>10.33</td>\n",
       "      <td>-2.6</td>\n",
       "    </tr>\n",
       "    <tr>\n",
       "      <th>11</th>\n",
       "      <td>10.78</td>\n",
       "      <td>-0.6</td>\n",
       "    </tr>\n",
       "    <tr>\n",
       "      <th>12</th>\n",
       "      <td>10.95</td>\n",
       "      <td>-2.0</td>\n",
       "    </tr>\n",
       "    <tr>\n",
       "      <th>13</th>\n",
       "      <td>11.56</td>\n",
       "      <td>-2.2</td>\n",
       "    </tr>\n",
       "    <tr>\n",
       "      <th>14</th>\n",
       "      <td>11.43</td>\n",
       "      <td>-0.8</td>\n",
       "    </tr>\n",
       "    <tr>\n",
       "      <th>15</th>\n",
       "      <td>11.05</td>\n",
       "      <td>-1.8</td>\n",
       "    </tr>\n",
       "    <tr>\n",
       "      <th>16</th>\n",
       "      <td>11.15</td>\n",
       "      <td>-2.9</td>\n",
       "    </tr>\n",
       "    <tr>\n",
       "      <th>17</th>\n",
       "      <td>10.30</td>\n",
       "      <td>-4.5</td>\n",
       "    </tr>\n",
       "    <tr>\n",
       "      <th>18</th>\n",
       "      <td>11.46</td>\n",
       "      <td>-4.6</td>\n",
       "    </tr>\n",
       "    <tr>\n",
       "      <th>19</th>\n",
       "      <td>11.60</td>\n",
       "      <td>-4.5</td>\n",
       "    </tr>\n",
       "    <tr>\n",
       "      <th>20</th>\n",
       "      <td>11.13</td>\n",
       "      <td>-4.1</td>\n",
       "    </tr>\n",
       "    <tr>\n",
       "      <th>21</th>\n",
       "      <td>12.06</td>\n",
       "      <td>-4.6</td>\n",
       "    </tr>\n",
       "    <tr>\n",
       "      <th>22</th>\n",
       "      <td>9.67</td>\n",
       "      <td>-2.0</td>\n",
       "    </tr>\n",
       "    <tr>\n",
       "      <th>23</th>\n",
       "      <td>9.49</td>\n",
       "      <td>-4.8</td>\n",
       "    </tr>\n",
       "    <tr>\n",
       "      <th>25</th>\n",
       "      <td>9.37</td>\n",
       "      <td>-1.0</td>\n",
       "    </tr>\n",
       "    <tr>\n",
       "      <th>26</th>\n",
       "      <td>11.86</td>\n",
       "      <td>-4.8</td>\n",
       "    </tr>\n",
       "    <tr>\n",
       "      <th>27</th>\n",
       "      <td>10.87</td>\n",
       "      <td>-2.9</td>\n",
       "    </tr>\n",
       "    <tr>\n",
       "      <th>28</th>\n",
       "      <td>10.12</td>\n",
       "      <td>-2.1</td>\n",
       "    </tr>\n",
       "    <tr>\n",
       "      <th>30</th>\n",
       "      <td>10.30</td>\n",
       "      <td>-4.8</td>\n",
       "    </tr>\n",
       "    <tr>\n",
       "      <th>31</th>\n",
       "      <td>10.97</td>\n",
       "      <td>-4.8</td>\n",
       "    </tr>\n",
       "    <tr>\n",
       "      <th>32</th>\n",
       "      <td>10.14</td>\n",
       "      <td>-2.7</td>\n",
       "    </tr>\n",
       "    <tr>\n",
       "      <th>33</th>\n",
       "      <td>10.95</td>\n",
       "      <td>-2.0</td>\n",
       "    </tr>\n",
       "    <tr>\n",
       "      <th>34</th>\n",
       "      <td>9.53</td>\n",
       "      <td>-1.2</td>\n",
       "    </tr>\n",
       "    <tr>\n",
       "      <th>35</th>\n",
       "      <td>11.38</td>\n",
       "      <td>-4.8</td>\n",
       "    </tr>\n",
       "    <tr>\n",
       "      <th>36</th>\n",
       "      <td>11.43</td>\n",
       "      <td>-3.2</td>\n",
       "    </tr>\n",
       "    <tr>\n",
       "      <th>37</th>\n",
       "      <td>10.98</td>\n",
       "      <td>-4.8</td>\n",
       "    </tr>\n",
       "    <tr>\n",
       "      <th>39</th>\n",
       "      <td>11.14</td>\n",
       "      <td>-2.2</td>\n",
       "    </tr>\n",
       "    <tr>\n",
       "      <th>41</th>\n",
       "      <td>11.91</td>\n",
       "      <td>-4.9</td>\n",
       "    </tr>\n",
       "    <tr>\n",
       "      <th>42</th>\n",
       "      <td>11.55</td>\n",
       "      <td>-4.8</td>\n",
       "    </tr>\n",
       "    <tr>\n",
       "      <th>43</th>\n",
       "      <td>10.12</td>\n",
       "      <td>-2.1</td>\n",
       "    </tr>\n",
       "    <tr>\n",
       "      <th>44</th>\n",
       "      <td>10.19</td>\n",
       "      <td>-1.8</td>\n",
       "    </tr>\n",
       "    <tr>\n",
       "      <th>45</th>\n",
       "      <td>11.52</td>\n",
       "      <td>-4.8</td>\n",
       "    </tr>\n",
       "    <tr>\n",
       "      <th>47</th>\n",
       "      <td>10.80</td>\n",
       "      <td>-4.8</td>\n",
       "    </tr>\n",
       "    <tr>\n",
       "      <th>48</th>\n",
       "      <td>9.73</td>\n",
       "      <td>-4.7</td>\n",
       "    </tr>\n",
       "    <tr>\n",
       "      <th>49</th>\n",
       "      <td>10.04</td>\n",
       "      <td>-3.3</td>\n",
       "    </tr>\n",
       "    <tr>\n",
       "      <th>50</th>\n",
       "      <td>10.39</td>\n",
       "      <td>-1.8</td>\n",
       "    </tr>\n",
       "    <tr>\n",
       "      <th>51</th>\n",
       "      <td>9.99</td>\n",
       "      <td>-1.3</td>\n",
       "    </tr>\n",
       "    <tr>\n",
       "      <th>52</th>\n",
       "      <td>11.61</td>\n",
       "      <td>-4.3</td>\n",
       "    </tr>\n",
       "    <tr>\n",
       "      <th>53</th>\n",
       "      <td>10.60</td>\n",
       "      <td>-0.7</td>\n",
       "    </tr>\n",
       "    <tr>\n",
       "      <th>54</th>\n",
       "      <td>9.95</td>\n",
       "      <td>-4.8</td>\n",
       "    </tr>\n",
       "    <tr>\n",
       "      <th>55</th>\n",
       "      <td>10.56</td>\n",
       "      <td>-1.4</td>\n",
       "    </tr>\n",
       "    <tr>\n",
       "      <th>56</th>\n",
       "      <td>11.75</td>\n",
       "      <td>-4.8</td>\n",
       "    </tr>\n",
       "    <tr>\n",
       "      <th>57</th>\n",
       "      <td>10.75</td>\n",
       "      <td>-4.7</td>\n",
       "    </tr>\n",
       "    <tr>\n",
       "      <th>58</th>\n",
       "      <td>11.67</td>\n",
       "      <td>-4.3</td>\n",
       "    </tr>\n",
       "    <tr>\n",
       "      <th>60</th>\n",
       "      <td>9.47</td>\n",
       "      <td>-5.0</td>\n",
       "    </tr>\n",
       "    <tr>\n",
       "      <th>61</th>\n",
       "      <td>10.79</td>\n",
       "      <td>-1.9</td>\n",
       "    </tr>\n",
       "    <tr>\n",
       "      <th>62</th>\n",
       "      <td>11.01</td>\n",
       "      <td>-4.6</td>\n",
       "    </tr>\n",
       "    <tr>\n",
       "      <th>63</th>\n",
       "      <td>10.08</td>\n",
       "      <td>-4.8</td>\n",
       "    </tr>\n",
       "    <tr>\n",
       "      <th>65</th>\n",
       "      <td>9.79</td>\n",
       "      <td>-2.0</td>\n",
       "    </tr>\n",
       "    <tr>\n",
       "      <th>66</th>\n",
       "      <td>10.28</td>\n",
       "      <td>-0.9</td>\n",
       "    </tr>\n",
       "    <tr>\n",
       "      <th>67</th>\n",
       "      <td>11.24</td>\n",
       "      <td>-4.8</td>\n",
       "    </tr>\n",
       "    <tr>\n",
       "      <th>68</th>\n",
       "      <td>11.56</td>\n",
       "      <td>-4.6</td>\n",
       "    </tr>\n",
       "    <tr>\n",
       "      <th>69</th>\n",
       "      <td>11.07</td>\n",
       "      <td>-4.5</td>\n",
       "    </tr>\n",
       "    <tr>\n",
       "      <th>70</th>\n",
       "      <td>9.78</td>\n",
       "      <td>-4.6</td>\n",
       "    </tr>\n",
       "    <tr>\n",
       "      <th>71</th>\n",
       "      <td>10.49</td>\n",
       "      <td>-2.8</td>\n",
       "    </tr>\n",
       "    <tr>\n",
       "      <th>72</th>\n",
       "      <td>9.74</td>\n",
       "      <td>-1.8</td>\n",
       "    </tr>\n",
       "    <tr>\n",
       "      <th>74</th>\n",
       "      <td>10.93</td>\n",
       "      <td>-4.4</td>\n",
       "    </tr>\n",
       "    <tr>\n",
       "      <th>75</th>\n",
       "      <td>11.41</td>\n",
       "      <td>-4.8</td>\n",
       "    </tr>\n",
       "    <tr>\n",
       "      <th>77</th>\n",
       "      <td>10.71</td>\n",
       "      <td>-2.1</td>\n",
       "    </tr>\n",
       "    <tr>\n",
       "      <th>79</th>\n",
       "      <td>10.97</td>\n",
       "      <td>-2.0</td>\n",
       "    </tr>\n",
       "    <tr>\n",
       "      <th>80</th>\n",
       "      <td>11.49</td>\n",
       "      <td>-4.7</td>\n",
       "    </tr>\n",
       "    <tr>\n",
       "      <th>81</th>\n",
       "      <td>11.87</td>\n",
       "      <td>-4.1</td>\n",
       "    </tr>\n",
       "    <tr>\n",
       "      <th>82</th>\n",
       "      <td>11.44</td>\n",
       "      <td>-3.1</td>\n",
       "    </tr>\n",
       "    <tr>\n",
       "      <th>83</th>\n",
       "      <td>10.90</td>\n",
       "      <td>-4.8</td>\n",
       "    </tr>\n",
       "    <tr>\n",
       "      <th>84</th>\n",
       "      <td>10.96</td>\n",
       "      <td>-4.9</td>\n",
       "    </tr>\n",
       "    <tr>\n",
       "      <th>85</th>\n",
       "      <td>10.26</td>\n",
       "      <td>-4.9</td>\n",
       "    </tr>\n",
       "    <tr>\n",
       "      <th>86</th>\n",
       "      <td>11.55</td>\n",
       "      <td>-4.7</td>\n",
       "    </tr>\n",
       "    <tr>\n",
       "      <th>87</th>\n",
       "      <td>11.52</td>\n",
       "      <td>-4.8</td>\n",
       "    </tr>\n",
       "    <tr>\n",
       "      <th>88</th>\n",
       "      <td>11.87</td>\n",
       "      <td>-4.9</td>\n",
       "    </tr>\n",
       "    <tr>\n",
       "      <th>89</th>\n",
       "      <td>11.07</td>\n",
       "      <td>-2.7</td>\n",
       "    </tr>\n",
       "    <tr>\n",
       "      <th>91</th>\n",
       "      <td>11.46</td>\n",
       "      <td>-4.9</td>\n",
       "    </tr>\n",
       "    <tr>\n",
       "      <th>92</th>\n",
       "      <td>10.17</td>\n",
       "      <td>-1.9</td>\n",
       "    </tr>\n",
       "    <tr>\n",
       "      <th>93</th>\n",
       "      <td>9.34</td>\n",
       "      <td>-2.7</td>\n",
       "    </tr>\n",
       "    <tr>\n",
       "      <th>94</th>\n",
       "      <td>11.69</td>\n",
       "      <td>-4.8</td>\n",
       "    </tr>\n",
       "    <tr>\n",
       "      <th>95</th>\n",
       "      <td>11.90</td>\n",
       "      <td>-4.8</td>\n",
       "    </tr>\n",
       "    <tr>\n",
       "      <th>96</th>\n",
       "      <td>9.46</td>\n",
       "      <td>3.3</td>\n",
       "    </tr>\n",
       "    <tr>\n",
       "      <th>98</th>\n",
       "      <td>9.89</td>\n",
       "      <td>3.9</td>\n",
       "    </tr>\n",
       "    <tr>\n",
       "      <th>99</th>\n",
       "      <td>9.66</td>\n",
       "      <td>3.4</td>\n",
       "    </tr>\n",
       "    <tr>\n",
       "      <th>103</th>\n",
       "      <td>10.23</td>\n",
       "      <td>3.0</td>\n",
       "    </tr>\n",
       "    <tr>\n",
       "      <th>104</th>\n",
       "      <td>9.76</td>\n",
       "      <td>5.1</td>\n",
       "    </tr>\n",
       "    <tr>\n",
       "      <th>106</th>\n",
       "      <td>10.27</td>\n",
       "      <td>3.0</td>\n",
       "    </tr>\n",
       "    <tr>\n",
       "      <th>107</th>\n",
       "      <td>10.84</td>\n",
       "      <td>3.3</td>\n",
       "    </tr>\n",
       "    <tr>\n",
       "      <th>108</th>\n",
       "      <td>9.68</td>\n",
       "      <td>4.0</td>\n",
       "    </tr>\n",
       "    <tr>\n",
       "      <th>109</th>\n",
       "      <td>10.13</td>\n",
       "      <td>0.9</td>\n",
       "    </tr>\n",
       "    <tr>\n",
       "      <th>111</th>\n",
       "      <td>10.76</td>\n",
       "      <td>2.0</td>\n",
       "    </tr>\n",
       "    <tr>\n",
       "      <th>114</th>\n",
       "      <td>10.35</td>\n",
       "      <td>0.9</td>\n",
       "    </tr>\n",
       "    <tr>\n",
       "      <th>116</th>\n",
       "      <td>10.44</td>\n",
       "      <td>0.8</td>\n",
       "    </tr>\n",
       "    <tr>\n",
       "      <th>118</th>\n",
       "      <td>10.34</td>\n",
       "      <td>2.4</td>\n",
       "    </tr>\n",
       "    <tr>\n",
       "      <th>119</th>\n",
       "      <td>9.88</td>\n",
       "      <td>6.4</td>\n",
       "    </tr>\n",
       "    <tr>\n",
       "      <th>120</th>\n",
       "      <td>10.31</td>\n",
       "      <td>1.5</td>\n",
       "    </tr>\n",
       "    <tr>\n",
       "      <th>121</th>\n",
       "      <td>9.95</td>\n",
       "      <td>2.1</td>\n",
       "    </tr>\n",
       "    <tr>\n",
       "      <th>122</th>\n",
       "      <td>10.23</td>\n",
       "      <td>1.2</td>\n",
       "    </tr>\n",
       "    <tr>\n",
       "      <th>124</th>\n",
       "      <td>9.72</td>\n",
       "      <td>3.1</td>\n",
       "    </tr>\n",
       "    <tr>\n",
       "      <th>125</th>\n",
       "      <td>10.28</td>\n",
       "      <td>1.9</td>\n",
       "    </tr>\n",
       "    <tr>\n",
       "      <th>126</th>\n",
       "      <td>10.02</td>\n",
       "      <td>4.0</td>\n",
       "    </tr>\n",
       "    <tr>\n",
       "      <th>127</th>\n",
       "      <td>9.60</td>\n",
       "      <td>4.0</td>\n",
       "    </tr>\n",
       "    <tr>\n",
       "      <th>128</th>\n",
       "      <td>10.07</td>\n",
       "      <td>2.8</td>\n",
       "    </tr>\n",
       "    <tr>\n",
       "      <th>130</th>\n",
       "      <td>10.46</td>\n",
       "      <td>3.3</td>\n",
       "    </tr>\n",
       "    <tr>\n",
       "      <th>131</th>\n",
       "      <td>11.04</td>\n",
       "      <td>1.1</td>\n",
       "    </tr>\n",
       "    <tr>\n",
       "      <th>132</th>\n",
       "      <td>10.30</td>\n",
       "      <td>2.9</td>\n",
       "    </tr>\n",
       "    <tr>\n",
       "      <th>133</th>\n",
       "      <td>10.03</td>\n",
       "      <td>2.3</td>\n",
       "    </tr>\n",
       "    <tr>\n",
       "      <th>134</th>\n",
       "      <td>9.88</td>\n",
       "      <td>2.2</td>\n",
       "    </tr>\n",
       "    <tr>\n",
       "      <th>135</th>\n",
       "      <td>9.29</td>\n",
       "      <td>6.1</td>\n",
       "    </tr>\n",
       "    <tr>\n",
       "      <th>136</th>\n",
       "      <td>10.49</td>\n",
       "      <td>4.0</td>\n",
       "    </tr>\n",
       "    <tr>\n",
       "      <th>137</th>\n",
       "      <td>10.54</td>\n",
       "      <td>5.0</td>\n",
       "    </tr>\n",
       "    <tr>\n",
       "      <th>138</th>\n",
       "      <td>10.04</td>\n",
       "      <td>2.8</td>\n",
       "    </tr>\n",
       "    <tr>\n",
       "      <th>139</th>\n",
       "      <td>10.01</td>\n",
       "      <td>2.7</td>\n",
       "    </tr>\n",
       "    <tr>\n",
       "      <th>140</th>\n",
       "      <td>9.86</td>\n",
       "      <td>2.0</td>\n",
       "    </tr>\n",
       "    <tr>\n",
       "      <th>142</th>\n",
       "      <td>10.28</td>\n",
       "      <td>2.1</td>\n",
       "    </tr>\n",
       "    <tr>\n",
       "      <th>143</th>\n",
       "      <td>10.11</td>\n",
       "      <td>1.6</td>\n",
       "    </tr>\n",
       "    <tr>\n",
       "      <th>144</th>\n",
       "      <td>10.35</td>\n",
       "      <td>3.7</td>\n",
       "    </tr>\n",
       "  </tbody>\n",
       "</table>"
      ],
      "text/plain": [
       "<IPython.core.display.HTML object>"
      ]
     },
     "execution_count": 108,
     "metadata": {},
     "output_type": "execute_result"
    }
   ],
   "source": [
    "HTML(df.to_html())"
   ]
  },
  {
   "cell_type": "code",
   "execution_count": 109,
   "id": "e53047e8",
   "metadata": {
    "scrolled": true
   },
   "outputs": [
    {
     "name": "stderr",
     "output_type": "stream",
     "text": [
      "/home/zj448/miniconda3/lib/python3.9/site-packages/pysr/sr.py:1257: UserWarning: Note: it looks like you are running in Jupyter. The progress bar will be turned off.\n",
      "  warnings.warn(\n"
     ]
    },
    {
     "name": "stdout",
     "output_type": "stream",
     "text": [
      "Started!\n",
      "\n",
      "Cycles per second: 3.990e+04\n",
      "Head worker occupation: 68.9%. This is high, and will prevent efficient resource usage. Increase `ncyclesperiteration` to reduce load on head worker.\n",
      "Progress: 110 / 600 total iterations (18.333%)\n",
      "==============================\n",
      "Hall of Fame:\n",
      "-----------------------------------------\n",
      "Complexity  Loss       Score     Equation\n",
      "1           8.643e-01  -1.000e-10  8.181178431413395\n",
      "3           1.869e-01  7.655e-01  (x0 + -2.4058952782384777)\n",
      "5           1.869e-01  -5.000e-11  ((x0 - 0.6151717985756959) + -1.7907234797979832)\n",
      "7           1.632e-01  6.781e-02  ((x0 + -2.4045446315577186) + (x1 * -0.04100572586909105))\n",
      "12          1.622e-01  1.337e-03  (exp(-0.3264580808695829 - exp(exp(x1) / 1.9079347619700808)) + (x0 + -2.4836380152514894))\n",
      "14          1.594e-01  8.638e-03  (exp(-0.18389670562423346 - exp(exp(x1 + 0.7467313851479067) / 1.9079347619700808)) + (x0 + -2.4836380152514894))\n",
      "15          1.577e-01  1.080e-02  (((0.7877801113686375 ^ x0) ^ -0.6443476651580128) + ((x0 - ((x1 + x0) / x0)) * 0.3198963254291085))\n",
      "16          1.563e-01  8.504e-03  ((x0 - (1.1821583898255525 ^ ((exp(-0.4239532276022068 / (x0 ^ x1)) * x0) ^ 0.30746424696685304))) + -1.184036509040525)\n",
      "17          1.562e-01  1.082e-03  (exp(-0.2086770966506556 - exp(exp(1.4283932770948653 - exp(x1 * -0.7008259293023866)) / 0.3773979293136526)) + (x0 + -2.4836380152514894))\n",
      "19          1.531e-01  1.000e-02  ((x0 - (1.1821583898255525 ^ ((exp(x1 / ((exp(x0) ^ 0.08734085846669208) ^ x1)) * x0) ^ 0.2785405131783338))) + -1.184036509040525)\n",
      "21          1.524e-01  2.037e-03  ((x0 - (1.1821583898255525 ^ ((exp(x1 / ((exp(x0 + x1) ^ 0.08734085846669208) ^ x1)) * x0) ^ 0.2778929841111899))) + -1.184036509040525)\n",
      "\n",
      "==============================\n",
      "Press 'q' and then <enter> to stop execution early.\n",
      "\n",
      "Cycles per second: 4.180e+04\n",
      "Head worker occupation: 46.4%. This is high, and will prevent efficient resource usage. Increase `ncyclesperiteration` to reduce load on head worker.\n",
      "Progress: 252 / 600 total iterations (42.000%)\n",
      "==============================\n",
      "Hall of Fame:\n",
      "-----------------------------------------\n",
      "Complexity  Loss       Score     Equation\n",
      "1           8.643e-01  -1.000e-10  8.181178431413395\n",
      "3           1.869e-01  7.655e-01  (x0 + -2.4058952782384777)\n",
      "5           1.869e-01  -5.000e-11  ((x0 - 0.6151717985756959) + -1.7907234797979832)\n",
      "7           1.632e-01  6.781e-02  ((x0 + -2.4045446315577186) + (x1 * -0.04100572586909105))\n",
      "12          1.578e-01  6.752e-03  ((x0 - (1.2619500858607682 ^ exp(-0.059841646589775255 / (x0 ^ x1)))) + -1.2282919554086587)\n",
      "14          1.567e-01  3.527e-03  ((x0 - (1.2619500858607682 ^ (exp(-0.059841646589775255 / (x0 ^ x1)) ^ 0.3171563386932578))) + -1.2282919554086587)\n",
      "15          1.532e-01  2.243e-02  ((x0 - (1.1821583898255525 ^ ((exp(x1 / exp(x1)) * x0) ^ 0.26701241226675754))) + -1.184036509040525)\n",
      "16          1.528e-01  3.018e-03  ((x0 - (1.1901091719433852 ^ ((exp(x1 / (2.065127955221213 ^ x1)) * x0) ^ 0.23568644207777054))) + -1.184036509040525)\n",
      "19          1.518e-01  2.185e-03  ((x0 - (1.1821583898255525 ^ ((exp(x1 / ((exp(x1) - x1) ^ x1)) * x0) ^ 0.26701241226675754))) + -1.1874799075167088)\n",
      "21          1.484e-01  1.112e-02  ((x0 - (1.1786135546705427 ^ ((exp(x1 / (((exp(x1) - x1) + -1.1353783226448673) ^ x1)) * x0) ^ 0.2651013120128559))) + -1.184036509040525)\n",
      "\n",
      "==============================\n",
      "Press 'q' and then <enter> to stop execution early.\n",
      "\n",
      "Cycles per second: 4.480e+04\n",
      "Head worker occupation: 45.7%. This is high, and will prevent efficient resource usage. Increase `ncyclesperiteration` to reduce load on head worker.\n",
      "Progress: 393 / 600 total iterations (65.500%)\n",
      "==============================\n",
      "Hall of Fame:\n",
      "-----------------------------------------\n",
      "Complexity  Loss       Score     Equation\n",
      "1           8.643e-01  -1.000e-10  8.181178431413395\n",
      "3           1.869e-01  7.655e-01  (x0 + -2.4058952782384777)\n",
      "5           1.869e-01  -5.000e-11  ((x0 - 0.6151717985756959) + -1.7907234797979832)\n",
      "7           1.632e-01  6.781e-02  ((x0 + -2.4045446315577186) + (x1 * -0.04100572586909105))\n",
      "12          1.578e-01  6.752e-03  ((x0 - (1.2619500858607682 ^ exp(-0.059841646589775255 / (x0 ^ x1)))) + -1.2282919554086587)\n",
      "13          1.549e-01  1.882e-02  ((x0 - (1.3982136016451954 ^ exp(x1 / (exp(x1) + 1.1917577274851536)))) + -1.184036509040525)\n",
      "14          1.548e-01  2.135e-04  ((x0 - (1.3982136016451954 ^ exp(x1 / (exp(exp(x1)) + 1.1917577274851536)))) + -1.184036509040525)\n",
      "15          1.531e-01  1.132e-02  ((x0 - (1.1799879393160086 ^ ((exp(x1 / exp(x1)) * x0) ^ 0.2651013120128559))) + -1.1994876010047635)\n",
      "16          1.472e-01  3.924e-02  ((x0 - (exp(0.40849625182741933 / (x1 + (0.885465161671702 / (x1 + 1.1145385601523607)))) * 1.2619500858607682)) + -1.0610671280095685)\n",
      "\n",
      "==============================\n",
      "Press 'q' and then <enter> to stop execution early.\n",
      "\n",
      "Cycles per second: 4.900e+04\n",
      "Head worker occupation: 33.7%. This is high, and will prevent efficient resource usage. Increase `ncyclesperiteration` to reduce load on head worker.\n",
      "Progress: 563 / 600 total iterations (93.833%)\n",
      "==============================\n",
      "Hall of Fame:\n",
      "-----------------------------------------\n",
      "Complexity  Loss       Score     Equation\n",
      "1           8.643e-01  -1.000e-10  8.181178431413395\n",
      "3           1.869e-01  7.655e-01  (x0 + -2.4058952782384777)\n",
      "5           1.869e-01  -5.000e-11  ((x0 - 0.6151717985756959) + -1.7907234797979832)\n",
      "7           1.632e-01  6.781e-02  ((x0 + -2.4045446315577186) + (x1 * -0.04100572586909105))\n",
      "11          1.591e-01  6.442e-03  ((x0 - (1.3982136016451954 ^ exp(x1 / exp(x1)))) + -1.184036509040525)\n",
      "12          1.578e-01  8.421e-03  ((x0 - (1.3441251366432765 ^ exp(-0.23235665510075215 / (x0 ^ x1)))) + -1.2282919554086587)\n",
      "13          1.549e-01  1.839e-02  ((x0 - (1.3982136016451954 ^ exp(x1 / (exp(x1) + 1.1917577274851536)))) + -1.184036509040525)\n",
      "14          1.548e-01  2.135e-04  ((x0 - (1.3982136016451954 ^ exp(x1 / (exp(exp(x1)) + 1.1917577274851536)))) + -1.184036509040525)\n",
      "15          1.531e-01  1.149e-02  ((x0 - (1.3982136016451954 ^ exp(x1 / (exp(x1 + 1.4416600201810728) + 1.1917577274851536)))) + -1.184036509040525)\n",
      "16          1.472e-01  3.908e-02  ((x0 - (exp(0.40849625182741933 / (x1 + (0.885465161671702 / (x1 + 1.1145385601523607)))) * 1.2619500858607682)) + -1.0610671280095685)\n",
      "19          1.452e-01  4.535e-03  ((x0 - (exp(0.24159157004317294 / (x1 + ((-1.065106407627666 / exp(x0 / x1)) / x1))) * 1.2775172350362165)) + -1.1361409264468205)\n",
      "\n",
      "==============================\n",
      "Press 'q' and then <enter> to stop execution early.\n"
     ]
    },
    {
     "data": {
      "text/plain": [
       "PySRRegressor.equations_ = [\n",
       "\t   pick         score                                           equation  \\\n",
       "\t0        0.000000e+00                                  8.181178431413395   \n",
       "\t1  >>>>  7.655107e-01                         (x0 + -2.4058952782384777)   \n",
       "\t2        4.996004e-16  ((x0 - 0.6151717985756959) + -1.7907234797979832)   \n",
       "\t3        6.781347e-02  ((x0 + -2.4045446315577186) + (x1 * -0.0410057...   \n",
       "\t4        1.154805e-02  ((x0 - (1.3982136016451954 ^ exp(-0.2522176410...   \n",
       "\t5        1.519593e-02  ((x0 - (1.3982136016451954 ^ exp(x1 / exp(exp(...   \n",
       "\t6        7.924220e-03  ((x0 - (1.3982136016451954 ^ exp((x1 / x0) / e...   \n",
       "\t7        7.981773e-05  ((x0 - (1.3982136016451954 ^ exp((x1 / (1.3982...   \n",
       "\t8        3.388587e-02  ((x0 - (exp(0.40849625182741933 / (x1 + (0.885...   \n",
       "\t9        4.534823e-03  ((x0 - (exp(0.24159157004317294 / (x1 + ((-1.0...   \n",
       "\t\n",
       "\t       loss  complexity  \n",
       "\t0  0.864250           1  \n",
       "\t1  0.186950           3  \n",
       "\t2  0.186950           5  \n",
       "\t3  0.163239           7  \n",
       "\t4  0.155870          11  \n",
       "\t5  0.153519          12  \n",
       "\t6  0.152308          13  \n",
       "\t7  0.152283          15  \n",
       "\t8  0.147209          16  \n",
       "\t9  0.145220          19  \n",
       "]"
      ]
     },
     "execution_count": 109,
     "metadata": {},
     "output_type": "execute_result"
    }
   ],
   "source": [
    "y = df_purge['M_BH'].to_numpy()\n",
    "w = 1/df_purge['M_BH_std'].to_numpy()**2\n",
    "\n",
    "#df_handson = df\n",
    "X = df.to_numpy()\n",
    "#X = df_handson\n",
    "\n",
    "\n",
    "model = PySRRegressor(\n",
    "    binary_operators=[\"+\", \"-\", \"*\", \"/\",\"pow\"],\n",
    "    unary_operators=[\"exp\",\"log10\"],\n",
    "    warm_start=False,\n",
    "    denoise=False,\n",
    "    niterations=40,\n",
    "    ncyclesperiteration=550,\n",
    "    precision=64,\n",
    ")\n",
    "\n",
    "\n",
    "\n",
    "model.fit(X=X, y=y, weights=w)"
   ]
  },
  {
   "cell_type": "code",
   "execution_count": 110,
   "id": "1de54d11",
   "metadata": {},
   "outputs": [
    {
     "name": "stdout",
     "output_type": "stream",
     "text": [
      "x 0 : M*_sph\n",
      "x 1 : T-type\n"
     ]
    }
   ],
   "source": [
    "df2name(df)"
   ]
  },
  {
   "cell_type": "code",
   "execution_count": 111,
   "id": "9e1d00eb",
   "metadata": {},
   "outputs": [
    {
     "data": {
      "text/plain": [
       "PySRRegressor.equations_ = [\n",
       "\t   pick         score                                           equation  \\\n",
       "\t0        0.000000e+00                                  8.181178431413395   \n",
       "\t1  >>>>  7.655107e-01                         (x0 + -2.4058952782384777)   \n",
       "\t2        4.996004e-16  ((x0 - 0.6151717985756959) + -1.7907234797979832)   \n",
       "\t3        6.781347e-02  ((x0 + -2.4045446315577186) + (x1 * -0.0410057...   \n",
       "\t4        1.154805e-02  ((x0 - (1.3982136016451954 ^ exp(-0.2522176410...   \n",
       "\t5        1.519593e-02  ((x0 - (1.3982136016451954 ^ exp(x1 / exp(exp(...   \n",
       "\t6        7.924220e-03  ((x0 - (1.3982136016451954 ^ exp((x1 / x0) / e...   \n",
       "\t7        7.981773e-05  ((x0 - (1.3982136016451954 ^ exp((x1 / (1.3982...   \n",
       "\t8        3.388587e-02  ((x0 - (exp(0.40849625182741933 / (x1 + (0.885...   \n",
       "\t9        4.534823e-03  ((x0 - (exp(0.24159157004317294 / (x1 + ((-1.0...   \n",
       "\t\n",
       "\t       loss  complexity  \n",
       "\t0  0.864250           1  \n",
       "\t1  0.186950           3  \n",
       "\t2  0.186950           5  \n",
       "\t3  0.163239           7  \n",
       "\t4  0.155870          11  \n",
       "\t5  0.153519          12  \n",
       "\t6  0.152308          13  \n",
       "\t7  0.152283          15  \n",
       "\t8  0.147209          16  \n",
       "\t9  0.145220          19  \n",
       "]"
      ]
     },
     "execution_count": 111,
     "metadata": {},
     "output_type": "execute_result"
    }
   ],
   "source": [
    "model"
   ]
  },
  {
   "cell_type": "code",
   "execution_count": 112,
   "id": "576ff1c1",
   "metadata": {
    "scrolled": false
   },
   "outputs": [
    {
     "data": {
      "text/latex": [
       "$\\displaystyle x_{0} - 2.4058952782384777$"
      ],
      "text/plain": [
       "x0 - 2.4058952782384777"
      ]
     },
     "execution_count": 112,
     "metadata": {},
     "output_type": "execute_result"
    }
   ],
   "source": [
    "model.sympy()"
   ]
  },
  {
   "cell_type": "code",
   "execution_count": 113,
   "id": "adeabf61",
   "metadata": {},
   "outputs": [
    {
     "data": {
      "text/latex": [
       "$\\displaystyle 8.181178431413395$"
      ],
      "text/plain": [
       "8.181178431413395"
      ]
     },
     "metadata": {},
     "output_type": "display_data"
    },
    {
     "data": {
      "text/latex": [
       "$\\displaystyle x_{0} - 2.4058952782384777$"
      ],
      "text/plain": [
       "x0 - 2.4058952782384777"
      ]
     },
     "metadata": {},
     "output_type": "display_data"
    },
    {
     "data": {
      "text/latex": [
       "$\\displaystyle x_{0} - 2.4058952783736791$"
      ],
      "text/plain": [
       "x0 - 2.4058952783736791"
      ]
     },
     "metadata": {},
     "output_type": "display_data"
    },
    {
     "data": {
      "text/latex": [
       "$\\displaystyle x_{0} - 0.04100572586909105 x_{1} - 2.4045446315577186$"
      ],
      "text/plain": [
       "x0 - 0.04100572586909105*x1 - 2.4045446315577186"
      ]
     },
     "metadata": {},
     "output_type": "display_data"
    },
    {
     "data": {
      "text/latex": [
       "$\\displaystyle - 1.3982136016451954^{e^{- 0.25221764102863586 e^{- x_{1}}}} + x_{0} - 1.184036509040525$"
      ],
      "text/plain": [
       "-1.3982136016451954**exp(-0.25221764102863586*exp(-x1)) + x0 - 1.184036509040525"
      ]
     },
     "metadata": {},
     "output_type": "display_data"
    },
    {
     "data": {
      "text/latex": [
       "$\\displaystyle - 1.3982136016451954^{e^{x_{1} e^{- e^{x_{1}}}}} + x_{0} - 1.184036509040525$"
      ],
      "text/plain": [
       "-1.3982136016451954**exp(x1*exp(-exp(x1))) + x0 - 1.184036509040525"
      ]
     },
     "metadata": {},
     "output_type": "display_data"
    },
    {
     "data": {
      "text/latex": [
       "$\\displaystyle - 1.3982136016451954^{e^{\\frac{x_{1} e^{- x_{1}}}{x_{0}}}} + x_{0} - 1.184036509040525$"
      ],
      "text/plain": [
       "-1.3982136016451954**exp(x1*exp(-x1)/x0) + x0 - 1.184036509040525"
      ]
     },
     "metadata": {},
     "output_type": "display_data"
    },
    {
     "data": {
      "text/latex": [
       "$\\displaystyle - 1.3982136016451954^{e^{\\frac{x_{1} e^{- x_{1}}}{x_{0} + 1.3982136016451954}}} + x_{0} - 1.184036509040525$"
      ],
      "text/plain": [
       "-1.3982136016451954**exp(x1*exp(-x1)/(x0 + 1.3982136016451954)) + x0 - 1.184036509040525"
      ]
     },
     "metadata": {},
     "output_type": "display_data"
    },
    {
     "data": {
      "text/latex": [
       "$\\displaystyle x_{0} - 1.2619500858607682 e^{\\frac{0.40849625182741933}{x_{1} + \\frac{0.885465161671702}{x_{1} + 1.1145385601523607}}} - 1.0610671280095685$"
      ],
      "text/plain": [
       "x0 - 1.2619500858607682*exp(0.40849625182741933/(x1 + 0.885465161671702/(x1 + 1.1145385601523607))) - 1.0610671280095685"
      ]
     },
     "metadata": {},
     "output_type": "display_data"
    },
    {
     "data": {
      "text/latex": [
       "$\\displaystyle x_{0} - 1.2775172350362165 e^{\\frac{0.24159157004317294}{x_{1} - \\frac{1.065106407627666 e^{- \\frac{x_{0}}{x_{1}}}}{x_{1}}}} - 1.1361409264468205$"
      ],
      "text/plain": [
       "x0 - 1.2775172350362165*exp(0.24159157004317294/(x1 - 1.065106407627666*exp(-x0/x1)/x1)) - 1.1361409264468205"
      ]
     },
     "metadata": {},
     "output_type": "display_data"
    }
   ],
   "source": [
    "for i in range(len(model.equations_)):\n",
    "    display(model.sympy(index=i))"
   ]
  },
  {
   "cell_type": "code",
   "execution_count": 114,
   "id": "b30e73a4",
   "metadata": {},
   "outputs": [
    {
     "data": {
      "image/png": "[encoded data removed]",
      "text/plain": [
       "<Figure size 864x576 with 1 Axes>"
      ]
     },
     "metadata": {
      "needs_background": "light"
     },
     "output_type": "display_data"
    }
   ],
   "source": [
    "plt.figure(figsize=(12,8))\n",
    "fontsize=20\n",
    "#plt.scatter(y, model.predict(X),label='PySr expression')\n",
    "plt.errorbar(y, model.predict(X),xerr=df_purge['M_BH_std'].to_numpy(),fmt='.',label='PySr expression')\n",
    "plt.plot(np.linspace(y.min(),y.max()),np.linspace(y.min(),y.max()),label='f(x)=x')\n",
    "plt.xlabel('Truth',fontsize=fontsize)\n",
    "plt.ylabel('Prediction',fontsize=fontsize)\n",
    "plt.legend(fontsize=fontsize)\n",
    "plt.show()"
   ]
  },
  {
   "cell_type": "code",
   "execution_count": 115,
   "id": "b44e0ea8",
   "metadata": {},
   "outputs": [
    {
     "data": {
      "text/plain": [
       "0.4323770913461471"
      ]
     },
     "execution_count": 115,
     "metadata": {},
     "output_type": "execute_result"
    }
   ],
   "source": [
    "rmse(y,model.predict(X),w)"
   ]
  },
  {
   "cell_type": "code",
   "execution_count": 116,
   "id": "4d537371",
   "metadata": {},
   "outputs": [
    {
     "name": "stdout",
     "output_type": "stream",
     "text": [
      "0 : 0.9296505481997017\n",
      "1 : 0.4323770913461471\n",
      "2 : 0.4323770913461472\n",
      "3 : 0.4040281833284275\n",
      "4 : 0.39480364579786587\n",
      "5 : 0.39181530850343876\n",
      "6 : 0.3902659645986678\n",
      "7 : 0.39023481569895946\n",
      "8 : 0.38367878868811667\n",
      "9 : 0.3810777721191044\n"
     ]
    }
   ],
   "source": [
    "for i in range(len(model.equations_)):\n",
    "    print(i,':',rmse(y,model.predict(X,index=i),w))"
   ]
  },
  {
   "cell_type": "markdown",
   "id": "10927e14",
   "metadata": {},
   "source": [
    "Bulge Equivalent Properties ($n_{eq,sph}$), T-type"
   ]
  },
  {
   "cell_type": "code",
   "execution_count": 129,
   "id": "fc4f661d",
   "metadata": {
    "scrolled": true
   },
   "outputs": [
    {
     "name": "stderr",
     "output_type": "stream",
     "text": [
      "/home/zj448/miniconda3/lib/python3.9/site-packages/pysr/sr.py:1257: UserWarning: Note: it looks like you are running in Jupyter. The progress bar will be turned off.\n",
      "  warnings.warn(\n"
     ]
    },
    {
     "name": "stdout",
     "output_type": "stream",
     "text": [
      "Started!\n",
      "\n",
      "Cycles per second: 3.520e+04\n",
      "Head worker occupation: 35.9%. This is high, and will prevent efficient resource usage. Increase `ncyclesperiteration` to reduce load on head worker.\n",
      "Progress: 117 / 600 total iterations (19.500%)\n",
      "==============================\n",
      "Hall of Fame:\n",
      "-----------------------------------------\n",
      "Complexity  Loss       Score     Equation\n",
      "1           8.643e-01  -1.000e-10  8.18117843141262\n",
      "3           3.574e-01  4.415e-01  (x0 + 7.979806199773191)\n",
      "4           3.099e-01  1.427e-01  (exp(x0) + 6.802277717266399)\n",
      "5           2.892e-01  6.911e-02  ((x0 / 0.6555725828269734) + 7.8740084293023465)\n",
      "7           2.447e-01  8.342e-02  ((7.951616184243622 + x0) - (x1 * 0.07785415245581034))\n",
      "8           2.442e-01  2.183e-03  ((x0 + 7.954756509305081) - (log10(1.2657070715345564) * x1))\n",
      "10          2.436e-01  1.313e-03  ((x0 + 7.954756509305081) - (log10(1.2657070715345564) * (x1 * 0.7915109595160202)))\n",
      "11          2.380e-01  2.299e-02  (((7.951616184243622 - (x0 * -0.15272401507909728)) + x0) - (x1 * 0.07785415245581034))\n",
      "16          2.337e-01  3.701e-03  (8.935692752383913 - ((exp((0.32922658884140205 - ((x1 - 0.7784698592045832) - x0)) / -2.046470684874698) ^ 0.1974686149744816) - x0))\n",
      "18          2.330e-01  1.355e-03  (8.935692752383913 - ((exp((0.32922658884140205 - ((x1 - 0.7784698592045832) - x0)) / -2.046470684874698) ^ 0.1974686149744816) - (x0 / 0.9242301053907012)))\n",
      "19          2.308e-01  9.474e-03  (((8.042941673075461 - (x0 * -0.3597460776547138)) + x0) - ((x1 * (((-3.7765201482241 - x1) * 1.6507077986354455) - 0.17690562201658613)) * -0.008185498877951015))\n",
      "\n",
      "==============================\n",
      "Press 'q' and then <enter> to stop execution early.\n",
      "\n",
      "Cycles per second: 4.340e+04\n",
      "Head worker occupation: 22.8%. This is high, and will prevent efficient resource usage. Increase `ncyclesperiteration` to reduce load on head worker.\n",
      "Progress: 294 / 600 total iterations (49.000%)\n",
      "==============================\n",
      "Hall of Fame:\n",
      "-----------------------------------------\n",
      "Complexity  Loss       Score     Equation\n",
      "1           8.643e-01  -1.000e-10  8.18117843141262\n",
      "3           3.574e-01  4.415e-01  (x0 + 7.979806199773191)\n",
      "4           3.097e-01  1.433e-01  (exp(x0) + 6.78919932685496)\n",
      "5           2.892e-01  6.856e-02  ((x0 / 0.6555725828269734) + 7.8740084293023465)\n",
      "7           2.415e-01  9.009e-02  ((x1 * -0.08982729913987195) + (x0 + 7.979806199773191))\n",
      "9           2.415e-01  3.870e-05  (((x0 + 7.70992012200583) - (x1 / 11.029396299614548)) + 0.2728724610053385)\n",
      "11          2.380e-01  7.195e-03  (((7.951616184243622 - (x0 * -0.15272401507909728)) + x0) - (x1 * 0.07785415245581034))\n",
      "16          2.317e-01  5.420e-03  (8.935692752383913 - ((exp((x0 - ((x1 - 0.9729515657207893) - x0)) / -2.046470684874698) ^ 0.1974686149744816) - x0))\n",
      "18          2.317e-01  8.882e-06  (8.935692752383913 - ((exp(((x0 + 0.1974686149744816) - ((x1 - 0.7784698592045832) - x0)) / -2.046470684874698) ^ 0.1974686149744816) - x0))\n",
      "19          2.278e-01  1.680e-02  ((((x0 + 7.70992012200583) - (-0.5388024092486668 / (((-0.4954330263669682 + x1) * x1) / x0))) + 0.28590219023791524) - (x1 / 11.730591459799385))\n",
      "21          2.236e-01  9.370e-03  (exp(exp((((0.27936385002673186 ^ exp(exp(((x1 + -1.658392793371151) - x0) - x0))) - -0.7889751502146771) ^ 0.2211670812429362) * 0.7442703042119112)) + x0)\n",
      "\n",
      "==============================\n",
      "Press 'q' and then <enter> to stop execution early.\n",
      "\n",
      "Cycles per second: 4.260e+04\n",
      "Head worker occupation: 36.3%. This is high, and will prevent efficient resource usage. Increase `ncyclesperiteration` to reduce load on head worker.\n",
      "Progress: 486 / 600 total iterations (81.000%)\n",
      "==============================\n",
      "Hall of Fame:\n",
      "-----------------------------------------\n",
      "Complexity  Loss       Score     Equation\n",
      "1           8.643e-01  -1.000e-10  8.181178430556228\n",
      "3           3.574e-01  4.415e-01  (x0 + 7.979806199773269)\n",
      "4           3.097e-01  1.433e-01  (exp(x0) + 6.78919932685496)\n",
      "5           2.892e-01  6.856e-02  ((x0 / 0.6555725828269734) + 7.8740084293023465)\n",
      "7           2.415e-01  9.009e-02  ((x1 * -0.08982729913987195) + (x0 + 7.979806199773191))\n",
      "9           2.395e-01  4.204e-03  (((x1 - x0) * -0.08982729913987195) + (x0 + 7.979806199773191))\n",
      "11          2.380e-01  3.029e-03  (((7.951616184243622 - (x0 * -0.15272401507909728)) + x0) - (x1 * 0.07785415245581034))\n",
      "13          2.370e-01  2.100e-03  ((((-0.9692293512199579 + (0.21452098477571635 ^ x0)) + x1) * -0.08982729913987195) + (x0 + 7.979806199773191))\n",
      "16          2.317e-01  7.634e-03  (8.935692752383913 - ((exp((x0 - ((x1 - 0.9729515657207893) - x0)) / -2.046470684874698) ^ 0.1974686149744816) - x0))\n",
      "18          2.314e-01  5.978e-04  (exp(exp((((0.23566439114452725 / exp(exp(x1 - exp(x0)))) - -0.7984144793661304) ^ 0.2302380837668566) * 0.7442703042119112)) + x0)\n",
      "19          2.278e-01  1.563e-02  ((((x0 + 7.70992012200583) - (-0.5388024092486668 / (((-0.4954330263669682 + x1) * x1) / x0))) + 0.28590219023791524) - (x1 / 11.730591459799385))\n",
      "20          2.245e-01  1.470e-02  (exp(exp((((0.23566439114452725 / exp(exp(x1 - (x0 + exp(x0))))) - -0.8232122085444366) ^ 0.24707386117530053) * 0.7442703042119112)) + x0)\n",
      "21          2.232e-01  5.637e-03  (exp(exp((((0.27936385002673186 ^ exp(exp(((x1 + -1.5661507699072783) - x0) - x0))) - -0.7889751502146771) ^ 0.2114859997190267) * 0.7442703042119112)) + x0)\n",
      "\n",
      "==============================\n",
      "Press 'q' and then <enter> to stop execution early.\n",
      "\n",
      "Cycles per second: 3.660e+04\n",
      "Head worker occupation: 48.3%. This is high, and will prevent efficient resource usage. Increase `ncyclesperiteration` to reduce load on head worker.\n",
      "Progress: 542 / 600 total iterations (90.333%)\n",
      "==============================\n",
      "Hall of Fame:\n",
      "-----------------------------------------\n",
      "Complexity  Loss       Score     Equation\n",
      "1           8.643e-01  -1.000e-10  8.181178430556228\n",
      "3           3.574e-01  4.415e-01  (x0 + 7.979806199773269)\n",
      "4           3.097e-01  1.433e-01  (exp(x0) + 6.78919932685496)\n",
      "5           2.892e-01  6.856e-02  ((x0 / 0.6555725828269734) + 7.8740084293023465)\n",
      "7           2.415e-01  9.009e-02  ((x1 * -0.08982729913987195) + (x0 + 7.979806199773191))\n",
      "9           2.395e-01  4.204e-03  (((x1 - x0) * -0.08982729913987195) + (x0 + 7.979806199773191))\n",
      "11          2.380e-01  3.029e-03  (((7.951616184243622 - (x0 * -0.15272401507909728)) + x0) - (x1 * 0.07785415245581034))\n",
      "13          2.370e-01  2.100e-03  ((((-0.9692293512199579 + (0.21452098477571635 ^ x0)) + x1) * -0.08982729913987195) + (x0 + 7.979806199773191))\n",
      "16          2.317e-01  7.634e-03  (8.935692752383913 - ((exp((x0 - ((x1 - 0.9729515657207893) - x0)) / -2.046470684874698) ^ 0.1974686149744816) - x0))\n",
      "18          2.314e-01  5.978e-04  (exp(exp((((0.23566439114452725 / exp(exp(x1 - exp(x0)))) - -0.7984144793661304) ^ 0.2302380837668566) * 0.7442703042119112)) + x0)\n",
      "19          2.278e-01  1.563e-02  ((((x0 + 7.70992012200583) - (-0.5388024092486668 / (((-0.4954330263669682 + x1) * x1) / x0))) + 0.28590219023791524) - (x1 / 11.730591459799385))\n",
      "20   x 0 : log_R_e_sph_eq_kpc\n",
      "x 1 : T-type\n",
      "       2.245e-01  1.470e-02  (exp(exp((((0.23566439114452725 / exp(exp(x1 - (x0 + exp(x0))))) - -0.8232122085444366) ^ 0.24707386117530053) * 0.7442703042119112)) + x0)\n",
      "21          2.232e-01  5.705e-03  (exp(exp((((0.27936385002673186 ^ exp(exp(((x1 + -1.6195650430403188) - x0) - x0))) - -0.7889751502146771) ^ 0.2114859997190267) * 0.7442703042119112)) + x0)\n",
      "\n",
      "==============================\n",
      "Press 'q' and then <enter> to stop execution early.\n"
     ]
    }
   ],
   "source": [
    "#df=df_purge[['log_n_sph_eq','log_R_e_sph_eq_kpc','T-type']]\n",
    "df=df_purge[['log_R_e_sph_eq_kpc','T-type']]\n",
    "\n",
    "y = df_purge['M_BH'].to_numpy()\n",
    "w = 1/df_purge['M_BH_std'].to_numpy()**2\n",
    "\n",
    "#df_handson = df\n",
    "X = df.to_numpy()\n",
    "#X = df_handson\n",
    "\n",
    "\n",
    "model = PySRRegressor(\n",
    "    binary_operators=[\"+\", \"-\", \"*\", \"/\",\"pow\"],\n",
    "    unary_operators=[\"exp\",\"log10\"],\n",
    "    warm_start=False,\n",
    "    denoise=False,\n",
    "    niterations=40,\n",
    "    ncyclesperiteration=550,\n",
    "    precision=64,\n",
    ")\n",
    "\n",
    "\n",
    "\n",
    "model.fit(X=X, y=y, weights=w)\n",
    "\n",
    "df2name(df)"
   ]
  },
  {
   "cell_type": "code",
   "execution_count": 130,
   "id": "ebc3eb0e",
   "metadata": {},
   "outputs": [
    {
     "data": {
      "text/latex": [
       "$\\displaystyle e^{x_{0}} + 6.78919932685496$"
      ],
      "text/plain": [
       "exp(x0) + 6.78919932685496"
      ]
     },
     "execution_count": 130,
     "metadata": {},
     "output_type": "execute_result"
    }
   ],
   "source": [
    "model.sympy()"
   ]
  },
  {
   "cell_type": "code",
   "execution_count": 131,
   "id": "eba42579",
   "metadata": {},
   "outputs": [
    {
     "data": {
      "text/plain": [
       "0.5565059060323629"
      ]
     },
     "execution_count": 131,
     "metadata": {},
     "output_type": "execute_result"
    }
   ],
   "source": [
    "rmse(y,model.predict(X),w)"
   ]
  },
  {
   "cell_type": "code",
   "execution_count": 132,
   "id": "98f96ca8",
   "metadata": {},
   "outputs": [
    {
     "name": "stdout",
     "output_type": "stream",
     "text": [
      "Eq. 0 rmse: 0.9296505481997017\n"
     ]
    },
    {
     "data": {
      "text/latex": [
       "$\\displaystyle 8.181178430556228$"
      ],
      "text/plain": [
       "8.181178430556228"
      ]
     },
     "metadata": {},
     "output_type": "display_data"
    },
    {
     "name": "stdout",
     "output_type": "stream",
     "text": [
      "Eq. 1 rmse: 0.5978281108696734\n"
     ]
    },
    {
     "data": {
      "text/latex": [
       "$\\displaystyle x_{0} + 7.979806199773269$"
      ],
      "text/plain": [
       "x0 + 7.979806199773269"
      ]
     },
     "metadata": {},
     "output_type": "display_data"
    },
    {
     "name": "stdout",
     "output_type": "stream",
     "text": [
      "Eq. 2 rmse: 0.5565059060323629\n"
     ]
    },
    {
     "data": {
      "text/latex": [
       "$\\displaystyle e^{x_{0}} + 6.78919932685496$"
      ],
      "text/plain": [
       "exp(x0) + 6.78919932685496"
      ]
     },
     "metadata": {},
     "output_type": "display_data"
    },
    {
     "name": "stdout",
     "output_type": "stream",
     "text": [
      "Eq. 3 rmse: 0.5377522044990296\n"
     ]
    },
    {
     "data": {
      "text/latex": [
       "$\\displaystyle 1.52538410878591 x_{0} + 7.8740084293023465$"
      ],
      "text/plain": [
       "1.52538410878591*x0 + 7.8740084293023465"
      ]
     },
     "metadata": {},
     "output_type": "display_data"
    },
    {
     "name": "stdout",
     "output_type": "stream",
     "text": [
      "Eq. 4 rmse: 0.4914229804648344\n"
     ]
    },
    {
     "data": {
      "text/latex": [
       "$\\displaystyle x_{0} - 0.08982729913987195 x_{1} + 7.979806199773191$"
      ],
      "text/plain": [
       "x0 - 0.08982729913987195*x1 + 7.979806199773191"
      ]
     },
     "metadata": {},
     "output_type": "display_data"
    },
    {
     "name": "stdout",
     "output_type": "stream",
     "text": [
      "Eq. 5 rmse: 0.4893612603763556\n"
     ]
    },
    {
     "data": {
      "text/latex": [
       "$\\displaystyle 1.089827299139872 x_{0} - 0.08982729913987195 x_{1} + 7.979806199773191$"
      ],
      "text/plain": [
       "1.089827299139872*x0 - 0.08982729913987195*x1 + 7.979806199773191"
      ]
     },
     "metadata": {},
     "output_type": "display_data"
    },
    {
     "name": "stdout",
     "output_type": "stream",
     "text": [
      "Eq. 6 rmse: 0.4878812072979079\n"
     ]
    },
    {
     "data": {
      "text/latex": [
       "$\\displaystyle 1.1527240150790973 x_{0} - 0.07785415245581034 x_{1} + 7.951616184243622$"
      ],
      "text/plain": [
       "1.1527240150790973*x0 - 0.07785415245581034*x1 + 7.951616184243622"
      ]
     },
     "metadata": {},
     "output_type": "display_data"
    },
    {
     "name": "stdout",
     "output_type": "stream",
     "text": [
      "Eq. 7 rmse: 0.4868575348688704\n"
     ]
    },
    {
     "data": {
      "text/latex": [
       "$\\displaystyle - 0.08982729913987195 \\cdot 0.21452098477571635^{x_{0}} + x_{0} - 0.08982729913987195 x_{1} + 8.06686945464037$"
      ],
      "text/plain": [
       "-0.08982729913987195*0.21452098477571635**x0 + x0 - 0.08982729913987195*x1 + 8.06686945464037"
      ]
     },
     "metadata": {},
     "output_type": "display_data"
    },
    {
     "name": "stdout",
     "output_type": "stream",
     "text": [
      "Eq. 8 rmse: 0.4813145439345093\n"
     ]
    },
    {
     "data": {
      "text/latex": [
       "$\\displaystyle x_{0} - 0.9103898984436592 \\left(e^{- 0.9772922792306974 x_{0} + 0.4886461396153487 x_{1}}\\right)^{0.1974686149744816} + 8.935692752383913$"
      ],
      "text/plain": [
       "x0 - 0.9103898984436592*exp(-0.9772922792306974*x0 + 0.4886461396153487*x1)**0.1974686149744816 + 8.935692752383913"
      ]
     },
     "metadata": {},
     "output_type": "display_data"
    },
    {
     "name": "stdout",
     "output_type": "stream",
     "text": [
      "Eq. 9 rmse: 0.4810269067766025\n"
     ]
    },
    {
     "data": {
      "text/latex": [
       "$\\displaystyle x_{0} + e^{e^{0.7066753562382363 \\left(1 + 0.29516547762463385 e^{- e^{x_{1} - e^{x_{0}}}}\\right)^{0.2302380837668566}}}$"
      ],
      "text/plain": [
       "x0 + exp(exp(0.7066753562382363*(1 + 0.29516547762463385*exp(-exp(x1 - exp(x0))))**0.2302380837668566))"
      ]
     },
     "metadata": {},
     "output_type": "display_data"
    },
    {
     "name": "stdout",
     "output_type": "stream",
     "text": [
      "Eq. 10 rmse: 0.47728322203583556\n"
     ]
    },
    {
     "data": {
      "text/latex": [
       "$\\displaystyle x_{0} + \\frac{0.5388024092486668 x_{0}}{x_{1} \\left(x_{1} - 0.4954330263669682\\right)} - 0.085247193496337299 x_{1} + 7.995822312243745$"
      ],
      "text/plain": [
       "x0 + 0.5388024092486668*x0/(x1*(x1 - 0.4954330263669682)) - 0.085247193496337299*x1 + 7.995822312243745"
      ]
     },
     "metadata": {},
     "output_type": "display_data"
    },
    {
     "name": "stdout",
     "output_type": "stream",
     "text": [
      "Eq. 11 rmse: 0.47378896791362934\n"
     ]
    },
    {
     "data": {
      "text/latex": [
       "$\\displaystyle x_{0} + e^{e^{0.70934231207573046 \\left(1 + 0.2862741692828116 e^{- e^{- x_{0} + x_{1} - e^{x_{0}}}}\\right)^{0.24707386117530053}}}$"
      ],
      "text/plain": [
       "x0 + exp(exp(0.70934231207573046*(1 + 0.2862741692828116*exp(-exp(-x0 + x1 - exp(x0))))**0.24707386117530053))"
      ]
     },
     "metadata": {},
     "output_type": "display_data"
    },
    {
     "name": "stdout",
     "output_type": "stream",
     "text": [
      "Eq. 12 rmse: 0.47234929939534226\n"
     ]
    },
    {
     "data": {
      "text/latex": [
       "$\\displaystyle x_{0} + e^{e^{0.7442703042119112 \\left(0.27577099272793676^{e^{0.19645230478919743 e^{- 2 x_{0} + x_{1}}}} + 0.787348670200528\\right)^{0.2114859997190267}}}$"
      ],
      "text/plain": [
       "x0 + exp(exp(0.7442703042119112*(0.27577099272793676**exp(0.19645230478919743*exp(-2*x0 + x1)) + 0.787348670200528)**0.2114859997190267))"
      ]
     },
     "metadata": {},
     "output_type": "display_data"
    }
   ],
   "source": [
    "for i in range(len(model.equations_)):\n",
    "    print('Eq.',i,'rmse:',rmse(y,model.predict(X,index=i),w))\n",
    "    display(model.sympy(index=i))"
   ]
  },
  {
   "cell_type": "code",
   "execution_count": null,
   "id": "66ed3ef8",
   "metadata": {},
   "outputs": [],
   "source": []
  },
  {
   "cell_type": "code",
   "execution_count": 136,
   "id": "f55b7d4d",
   "metadata": {},
   "outputs": [],
   "source": [
    "def test_relation(df):\n",
    "    y = df_purge['M_BH'].to_numpy()\n",
    "    w = 1/df_purge['M_BH_std'].to_numpy()**2\n",
    "\n",
    "    #df_handson = df\n",
    "    X = df.to_numpy()\n",
    "    #X = df_handson\n",
    "\n",
    "\n",
    "    model = PySRRegressor(\n",
    "        binary_operators=[\"+\", \"-\", \"*\", \"/\",\"pow\"],\n",
    "        unary_operators=[\"exp\",\"log10\"],\n",
    "        warm_start=False,\n",
    "        denoise=False,\n",
    "        niterations=40,\n",
    "        ncyclesperiteration=550,\n",
    "        precision=64,\n",
    "    )\n",
    "\n",
    "\n",
    "\n",
    "    model.fit(X=X, y=y, weights=w)\n",
    "\n",
    "    print('parameters:')\n",
    "    df2name(df)\n",
    "    \n",
    "    print('Eq. selected rmse:',rmse(y,model.predict(X),w))\n",
    "    display(model.sympy())\n",
    "    \n",
    "    for i in range(len(model.equations_)):\n",
    "        print('Eq.',i,'rmse:',rmse(y,model.predict(X,index=i),w))\n",
    "        display(model.sympy(index=i))"
   ]
  },
  {
   "cell_type": "markdown",
   "id": "aecf9390",
   "metadata": {},
   "source": [
    "velocity dispersion($\\sigma$),T-type "
   ]
  },
  {
   "cell_type": "code",
   "execution_count": 134,
   "id": "e82808e6",
   "metadata": {},
   "outputs": [
    {
     "data": {
      "text/plain": [
       "Index(['T-type', 'Bar', 'Disk', 'Core', 'AGN', 'Pseudobulge', 'M_BH',\n",
       "       'M_BH_std', 'M*_sph', 'M*_gal', 'log_B/T', 'log_sigma0',\n",
       "       'log_R_e_sph_maj', 'log_R_e_sph_eq_kpc', 'log_n_sph_maj',\n",
       "       'log_n_sph_eq', 'log(I_e,sph,maj/M_Sun/pc^2)',\n",
       "       'log(I_e,sph,eq/M_Sun/pc^2)', 'Concentration_Index',\n",
       "       'avg_Rho_1kpc_Exact_All', 'r1_density_approx', 'log10(R10_kpc)',\n",
       "       'logRho_R10_approx', 'log_rho10_Exact', 'log10(R90_kpc)',\n",
       "       'logRho_R90_approx', 'log_rho_90_Exact_all', 'Rho_re_spatial',\n",
       "       'SR_pc_All', 'Rho_SR_pc_All', 'CR_def1_approx_new',\n",
       "       'Rho_cr_def1_approx_new', 'CR_def2_approx_new',\n",
       "       'Rho_CR_def2_approx_new', 'Sr(pc)_2_using_Falserm_drho',\n",
       "       'Log_Approx_Avg_density_10pc', 'log_Rho_e_Exact_new',\n",
       "       'logRho_e_approx_New', 'logRho_soi_approx_new', 'log_Rho_soi_exact_new',\n",
       "       'Avg_Rho_Re_Exact_all', 'Avg_Rho_soi_exact_all', 'Avg_Rho_re_Exact_all',\n",
       "       'Rho_re_Exact_all', 'r_soi_2BH_approx', 'Rho_r_soi_2BH_approx',\n",
       "       'Log_Avg_Rho_10kpc_approx', 'Log_Avg_Rho_10kpc_exact_final',\n",
       "       'Log_Avg_Rho_100pc_approx', 'Log_Avg_Rho_5kpc_approx',\n",
       "       'Log_Avg_rho_5kpc_exact_all'],\n",
       "      dtype='object')"
      ]
     },
     "execution_count": 134,
     "metadata": {},
     "output_type": "execute_result"
    }
   ],
   "source": [
    "df_purge.columns"
   ]
  },
  {
   "cell_type": "code",
   "execution_count": 139,
   "id": "6fc03b83",
   "metadata": {},
   "outputs": [
    {
     "name": "stderr",
     "output_type": "stream",
     "text": [
      "/home/zj448/miniconda3/lib/python3.9/site-packages/pysr/sr.py:1257: UserWarning: Note: it looks like you are running in Jupyter. The progress bar will be turned off.\n",
      "  warnings.warn(\n"
     ]
    },
    {
     "name": "stdout",
     "output_type": "stream",
     "text": [
      "Started!\n",
      "\n",
      "Cycles per second: 2.880e+04\n",
      "Head worker occupation: 48.3%. This is high, and will prevent efficient resource usage. Increase `ncyclesperiteration` to reduce load on head worker.\n",
      "Progress: 81 / 600 total iterations (13.500%)\n",
      "==============================\n",
      "Hall of Fame:\n",
      "-----------------------------------------\n",
      "Complexity  Loss       Score     Equation\n",
      "1           8.643e-01  -1.000e-10  8.181178431415788\n",
      "3           2.979e-01  5.326e-01  (x0 / 0.2850416487894404)\n",
      "5           1.511e-01  3.393e-01  ((x0 / 0.2850416487894404) + x4)\n",
      "14          1.435e-01  5.781e-03  ((((x0 / 0.26390828473318634) + x0) + log10(log10(exp(3.2343835589954257 - x6)))) - 2.7609197080450265)\n",
      "15          1.109e-01  2.570e-01  (((((x0 + (x0 + -0.15201944717701074)) * 2.1914873763508678) + (x4 + 1.7577106910083062)) - x6) * 0.7267355577803917)\n",
      "17          1.002e-01  5.096e-02  ((((x0 + x0) * 2.1914873763508678) + ((((0.3698666141980174 ^ x6) + 0.3698666141980174) * 0.8994209106164789) + x4)) * 0.7267355577803917)\n",
      "19          9.862e-02  7.947e-03  (((((x0 + (x0 + -0.4127573817316896)) * 2.1914873763508678) + (((0.26925263095139546 ^ x6) + 0.8994209106164789) + x4)) + 0.24055635756171379) * 0.7267355577803917)\n",
      "\n",
      "==============================\n",
      "Press 'q' and then <enter> to stop execution early.\n",
      "\n",
      "Cycles per second: 2.390e+04\n",
      "Head worker occupation: 67.0%. This is high, and will prevent efficient resource usage. Increase `ncyclesperiteration` to reduce load on head worker.\n",
      "Progress: 179 / 600 total iterations (29.833%)\n",
      "==============================\n",
      "Hall of Fame:\n",
      "-----------------------------------------\n",
      "Complexity  Loss       Score     Equation\n",
      "1           8.643e-01  -1.000e-10  8.181178431415788\n",
      "3           2.517e-01  6.167e-01  (x0 / 0.2811854220202012)\n",
      "5           1.511e-01  2.551e-01  ((x0 / 0.2850416487894404) + x4)\n",
      "7           1.426e-01  2.912e-02  ((x0 / 0.2850416487894404) + (x4 / 1.214154013429641))\n",
      "9           1.343e-01  2.986e-02  (((x0 / 0.2850416487894404) + x4) - (x6 * 0.1795892245576553))\n",
      "11          1.313e-01  1.135e-02  (((x0 / 0.2850416487894404) + x4) + ((x6 * -1.4238142492407517) * 0.1795892245576553))\n",
      "12          1.304e-01  6.803e-03  (((x0 / 0.2850416487894404) + x4) - (x6 * log10(x0 - x4)))\n",
      "13          1.214e-01  7.196e-02  ((((x0 + x0) * 2.1914873763508678) + (2.1914873763508678 ^ (x4 - x6))) * 0.7267355577803917)\n",
      "14          1.168e-01  3.784e-02  ((((x0 / 0.26390828473318634) + x0) + log10((x4 ^ x6) - -0.5703350152840377)) - 2.7558158527285417)\n",
      "15          9.830e-02  1.729e-01  ((((x0 + x0) * 2.1914873763508678) + (((0.2564350935428673 ^ x6) + 0.2564350935428673) + x4)) * 0.7267355577803917)\n",
      "17          9.668e-02  8.282e-03  ((((x0 + x0) * 2.1914873763508678) + ((((x2 * 0.3379831841633075) ^ x6) + 0.2564350935428673) + x4)) * 0.7267355577803917)\n",
      "19          9.666e-02  1.047e-04  ((((x0 + x0) * 2.1914873763508678) + (((((x2 + 0.125465261508649) * 0.3379831841633075) ^ x6) + 0.2564350935428673) + x4)) * 0.7267355577803917)\n",
      "\n",
      "==============================\n",
      "Press 'q' and then <enter> to stop execution early.\n",
      "\n",
      "Cycles per second: 3.300e+04\n",
      "Head worker occupation: 58.6%. This is high, and will prevent efficient resource usage. Increase `ncyclesperiteration` to reduce load on head worker.\n",
      "Progress: 352 / 600 total iterations (58.667%)\n",
      "==============================\n",
      "Hall of Fame:\n",
      "-----------------------------------------\n",
      "Complexity  Loss       Score     Equation\n",
      "1           8.643e-01  -1.000e-10  8.181178431415788\n",
      "3           2.271e-01  6.682e-01  (x0 / 0.27581549152969215)\n",
      "5           1.511e-01  2.037e-01  ((x0 / 0.28483347069199844) + x4)\n",
      "7           1.393e-01  4.063e-02  ((x0 / 0.2822901717826307) + (x4 / 1.2634719440445206))\n",
      "9           1.247e-01  5.546e-02  (((x0 / 0.2819871385875599) + x4) - (x6 * 0.3944587281449449))\n",
      "11          1.247e-01  -5.000e-11  (((x0 / 0.28198713858764296) + x4) - ((x6 * 0.39445872811509464) * x3))\n",
      "13          1.071e-01  7.585e-02  (((x0 / 0.2850416487894404) + x4) + ((x4 - (-1.53396812290878 ^ x6)) * -0.156521182290401))\n",
      "14          9.487e-02  1.215e-01  (((x0 / 0.28992073056168366) + x4) - ((x0 - exp(x6 + x4)) * -0.29551540131392456))\n",
      "\n",
      "==============================\n",
      "Press 'q' and then <enter> to stop execution early.\n",
      "\n",
      "Cycles per second: 3.720e+04\n",
      "Head worker occupation: 50.6%. This is high, and will prevent efficient resource usage. Increase `ncyclesperiteration` to reduce load on head worker.\n",
      "Progress: 518 / 600 total iterations (86.333%)\n",
      "==============================\n",
      "Hall of Fame:\n",
      "-----------------------------------------\n",
      "Complexity  Loss       Score     Equation\n",
      "1           8.643e-01  -1.000e-10  8.181178431415788\n",
      "3           2.271e-01  6.682e-01  (x0 / 0.27581549152969215)\n",
      "5           1.511e-01  2.037e-01  ((x0 / 0.28483347068872555) + x4)\n",
      "7           1.382e-01  4.446e-02  ((x0 / 0.2822901717906239) - (x4 * -0.7244432374590107))\n",
      "9           1.247e-01  5.162e-02  (((x0 / 0.28198713858764296) + x4) - (x6 * 0.39445872811509464))\n",
      "11          9.517e-02  1.351e-01  (((x0 / 0.28198713858764296) +parameters: ((x4 - x6) / 1.957159711933331)) * 1.019806760387542)\n",
      "13          9.494e-02  1.220e-03  (((x0 / 0.28198713858764296) + (1.0458336393778547 * ((x4 - x6) / 1.957159711933331))) * 1.019806760387542)\n",
      "14          9.487e-02  6.546e-04  (((x0 / 0.28992073056168366) + x4) - ((x0 - exp(x6 + x4)) * -0.29551540131392456))\n",
      "21          9.465e-02  3.363e-04  (((x0 / 0.28198713858764296) + (((x6 * (1.0458336393778547 ^ (x0 / x1))) + x4) * ((x4 - x6) / 1.957159711933331))) * 1.019806760387542)\n",
      "\n",
      "==============================\n",
      "Press 'q' and then <enter> to stop execution early.\n",
      "\n",
      "x 0 : log_sigma0\n",
      "x 1 : T-type\n",
      "x 2 : Bar\n",
      "x 3 : Disk\n",
      "x 4 : Core\n",
      "x 5 : AGN\n",
      "x 6 : Pseudobulge\n",
      "Eq. selected rmse: 0.30794788087163205\n"
     ]
    },
    {
     "data": {
      "text/latex": [
       "$\\displaystyle 3.612011358092554 x_{0} + 0.54512111722068081 x_{4} - 0.54512111722068081 x_{6}$"
      ],
      "text/plain": [
       "3.612011358092554*x0 + 0.54512111722068081*x4 - 0.54512111722068081*x6"
      ]
     },
     "metadata": {},
     "output_type": "display_data"
    },
    {
     "name": "stdout",
     "output_type": "stream",
     "text": [
      "Eq. 0 rmse: 0.9296505481997017\n"
     ]
    },
    {
     "data": {
      "text/latex": [
       "$\\displaystyle 8.181178431415788$"
      ],
      "text/plain": [
       "8.181178431415788"
      ]
     },
     "metadata": {},
     "output_type": "display_data"
    },
    {
     "name": "stdout",
     "output_type": "stream",
     "text": [
      "Eq. 1 rmse: 0.47655061352583516\n"
     ]
    },
    {
     "data": {
      "text/latex": [
       "$\\displaystyle 3.6256121599766914 x_{0}$"
      ],
      "text/plain": [
       "3.6256121599766914*x0"
      ]
     },
     "metadata": {},
     "output_type": "display_data"
    },
    {
     "name": "stdout",
     "output_type": "stream",
     "text": [
      "Eq. 2 rmse: 0.38871004871801657\n"
     ]
    },
    {
     "data": {
      "text/latex": [
       "$\\displaystyle 3.5108233508583323 x_{0} + x_{4}$"
      ],
      "text/plain": [
       "3.5108233508583323*x0 + x4"
      ]
     },
     "metadata": {},
     "output_type": "display_data"
    },
    {
     "name": "stdout",
     "output_type": "stream",
     "text": [
      "Eq. 3 rmse: 0.37180486080025044\n"
     ]
    },
    {
     "data": {
      "text/latex": [
       "$\\displaystyle 3.542454183426922 x_{0} + 0.7244432374590107 x_{4}$"
      ],
      "text/plain": [
       "3.542454183426922*x0 + 0.7244432374590107*x4"
      ]
     },
     "metadata": {},
     "output_type": "display_data"
    },
    {
     "name": "stdout",
     "output_type": "stream",
     "text": [
      "Eq. 4 rmse: 0.35309849486168643\n"
     ]
    },
    {
     "data": {
      "text/latex": [
       "$\\displaystyle 3.5462610281042842 x_{0} + x_{4} - 0.39445872811509464 x_{6}$"
      ],
      "text/plain": [
       "3.5462610281042842*x0 + x4 - 0.39445872811509464*x6"
      ]
     },
     "metadata": {},
     "output_type": "display_data"
    },
    {
     "name": "stdout",
     "output_type": "stream",
     "text": [
      "Eq. 5 rmse: 0.30794788087163205\n"
     ]
    },
    {
     "data": {
      "text/latex": [
       "$\\displaystyle 3.612011358092554 x_{0} + 0.54512111722068081 x_{4} - 0.54512111722068081 x_{6}$"
      ],
      "text/plain": [
       "3.612011358092554*x0 + 0.54512111722068081*x4 - 0.54512111722068081*x6"
      ]
     },
     "metadata": {},
     "output_type": "display_data"
    },
    {
     "name": "stdout",
     "output_type": "stream",
     "text": [
      "Eq. 6 rmse: 0.30688164957825725\n"
     ]
    },
    {
     "data": {
      "text/latex": [
       "$\\displaystyle 1.019806760387542 \\cdot 1.3015727913642006^{\\frac{x_{3}}{x_{1}}} \\cdot \\left(0.5109445048877361 x_{4} - 0.5109445048877361 x_{6}\\right) + 3.6165009705596241 x_{0}$"
      ],
      "text/plain": [
       "1.019806760387542*1.3015727913642006**(x3/x1)*(0.5109445048877361*x4 - 0.5109445048877361*x6) + 3.6165009705596241*x0"
      ]
     },
     "metadata": {},
     "output_type": "display_data"
    }
   ],
   "source": [
    "test_relation(df_purge[['log_sigma0','T-type', 'Bar', 'Disk', 'Core', 'AGN', 'Pseudobulge']])"
   ]
  },
  {
   "cell_type": "code",
   "execution_count": null,
   "id": "7f878c3b",
   "metadata": {},
   "outputs": [],
   "source": []
  }
 ],
 "metadata": {
  "kernelspec": {
   "display_name": "Python 3 (ipykernel)",
   "language": "python",
   "name": "python3"
  },
  "language_info": {
   "codemirror_mode": {
    "name": "ipython",
    "version": 3
   },
   "file_extension": ".py",
   "mimetype": "text/x-python",
   "name": "python",
   "nbconvert_exporter": "python",
   "pygments_lexer": "ipython3",
   "version": "3.9.5"
  }
 },
 "nbformat": 4,
 "nbformat_minor": 5
}
