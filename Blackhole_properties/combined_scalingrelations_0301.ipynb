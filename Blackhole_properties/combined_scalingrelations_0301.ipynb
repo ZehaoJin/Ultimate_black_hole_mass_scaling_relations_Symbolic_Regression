{
 "cells": [
  {
   "cell_type": "code",
   "execution_count": 1,
   "id": "2b89024e",
   "metadata": {},
   "outputs": [],
   "source": [
    "import numpy as np\n",
    "import pandas as pd\n",
    "from pysr import PySRRegressor\n",
    "from IPython.display import HTML\n",
    "from matplotlib import pyplot as plt"
   ]
  },
  {
   "cell_type": "code",
   "execution_count": 2,
   "id": "4c3ed5fc",
   "metadata": {},
   "outputs": [],
   "source": [
    "df_clean = pd.read_csv('clean_table_MBH.csv')"
   ]
  },
  {
   "cell_type": "code",
   "execution_count": 3,
   "id": "1d5a6fbd",
   "metadata": {},
   "outputs": [
    {
     "name": "stdout",
     "output_type": "stream",
     "text": [
      "Index(['T-type', 'Bar', 'Disk', 'Core', 'AGN', 'Pseudobulge', 'M_BH',\n",
      "       'M_BH_std', 'M*_sph', 'M*_gal', 'log_B/T', 'log_sigma0',\n",
      "       'log_R_e_sph_maj', 'log_R_e_sph_eq_kpc', 'log_n_sph_maj',\n",
      "       'log_n_sph_eq', 'log(I_e,sph,maj/M_Sun/pc^2)',\n",
      "       'log(I_e,sph,eq/M_Sun/pc^2)', 'Concentration_Index',\n",
      "       'avg_Rho_1kpc_Exact_All', 'r1_density_approx', 'log10(R10_kpc)',\n",
      "       'logRho_R10_approx', 'log_rho10_Exact', 'log10(R90_kpc)',\n",
      "       'logRho_R90_approx', 'log_rho_90_Exact_all', 'Rho_re_spatial',\n",
      "       'SR_pc_All', 'Rho_SR_pc_All', 'CR_def1_approx_new',\n",
      "       'Rho_cr_def1_approx_new', 'CR_def2_approx_new',\n",
      "       'Rho_CR_def2_approx_new', 'Sr(pc)_2_using_Falserm_drho',\n",
      "       'Log_Approx_Avg_density_10pc', 'log_Rho_e_Exact_new',\n",
      "       'logRho_e_approx_New', 'logRho_soi_approx_new', 'log_Rho_soi_exact_new',\n",
      "       'Avg_Rho_Re_Exact_all', 'Avg_Rho_soi_exact_all', 'Avg_Rho_re_Exact_all',\n",
      "       'Rho_re_Exact_all', 'r_soi_2BH_approx', 'Rho_r_soi_2BH_approx',\n",
      "       'Log_Avg_Rho_10kpc_approx', 'Log_Avg_Rho_10kpc_exact_final',\n",
      "       'Log_Avg_Rho_100pc_approx', 'Log_Avg_Rho_5kpc_approx',\n",
      "       'Log_Avg_rho_5kpc_exact_all'],\n",
      "      dtype='object')\n",
      "51\n"
     ]
    }
   ],
   "source": [
    "nanpercent=0.16\n",
    "cols_to_delete = df_clean.columns[df_clean.isnull().sum()/len(df_clean) > nanpercent]\n",
    "df_lessnan=df_clean.drop(cols_to_delete, axis = 1)\n",
    "df_purge=df_lessnan.dropna(axis='index',how='any')\n",
    "print(df_purge.columns)\n",
    "print(len(df_purge.columns))\n",
    "#HTML(df_purge.to_html())"
   ]
  },
  {
   "cell_type": "code",
   "execution_count": 4,
   "id": "035454e5",
   "metadata": {},
   "outputs": [],
   "source": [
    "## useful functions\n",
    "def x2name(feature_list,df_handson):\n",
    "    for ind in feature_list:\n",
    "        i=int(ind[1:])\n",
    "        print('x',i,':',df_handson.columns[i])\n",
    "\n",
    "def rmse(y,y_pred,w):\n",
    "    return np.sqrt(np.average((y-y_pred)**2,weights=w))\n",
    "\n",
    "def df2name(df):\n",
    "    for i in range(len(df.columns)):\n",
    "        print('x',i,':',df.columns[i])"
   ]
  },
  {
   "cell_type": "code",
   "execution_count": 30,
   "id": "e3b85017",
   "metadata": {},
   "outputs": [],
   "source": [
    "def test_relation(df,operator='simp',ncyclesperiteration=550,niterations=40,denoise=False,adaptive_parsimony_scaling=20,verbosity=0):\n",
    "    y = df_purge['M_BH'].to_numpy()\n",
    "    w = 1/df_purge['M_BH_std'].to_numpy()**2\n",
    "\n",
    "    #df_handson = df\n",
    "    X = df.to_numpy()\n",
    "    #X = df_handson\n",
    "\n",
    "    if operator=='adv':\n",
    "        model = PySRRegressor(\n",
    "            binary_operators=[\"+\", \"-\", \"*\", \"/\",\"pow\"],\n",
    "            unary_operators=[\"exp\",\"log10\"],\n",
    "            warm_start=False,\n",
    "            denoise=denoise,\n",
    "            niterations=niterations,\n",
    "            ncyclesperiteration=ncyclesperiteration,\n",
    "            adaptive_parsimony_scaling=adaptive_parsimony_scaling,\n",
    "            verbosity=verbosity,\n",
    "            precision=64,\n",
    "        )\n",
    "    if operator=='simp':\n",
    "        model = PySRRegressor(\n",
    "            binary_operators=[\"+\", \"-\", \"*\", \"/\", \"pow\"],\n",
    "            warm_start=False,\n",
    "            denoise=denoise,\n",
    "            niterations=niterations,\n",
    "            ncyclesperiteration=ncyclesperiteration,\n",
    "            adaptive_parsimony_scaling=adaptive_parsimony_scaling,\n",
    "            verbosity=verbosity,\n",
    "            precision=64,\n",
    "        )\n",
    "        \n",
    "    if operator=='basic':\n",
    "        model = PySRRegressor(\n",
    "            binary_operators=[\"+\", \"-\", \"*\", \"/\"],\n",
    "            warm_start=False,\n",
    "            denoise=denoise,\n",
    "            niterations=niterations,\n",
    "            ncyclesperiteration=ncyclesperiteration,\n",
    "            adaptive_parsimony_scaling=adaptive_parsimony_scaling,\n",
    "            verbosity=verbosity,\n",
    "            precision=64,\n",
    "        )\n",
    "\n",
    "\n",
    "\n",
    "    model.fit(X=X, y=y, weights=w)\n",
    "\n",
    "    print('parameters:')\n",
    "    df2name(df)\n",
    "    \n",
    "    print('Eq. selected rmse:',rmse(y,model.predict(X),w))\n",
    "    display(model.sympy())\n",
    "    \n",
    "    for i in range(len(model.equations_)):\n",
    "        print('Eq.',i,'rmse:',rmse(y,model.predict(X,index=i),w))\n",
    "        display(model.sympy(index=i))"
   ]
  },
  {
   "cell_type": "code",
   "execution_count": 6,
   "id": "92c6498f",
   "metadata": {},
   "outputs": [
    {
     "data": {
      "text/plain": [
       "Index(['T-type', 'Bar', 'Disk', 'Core', 'AGN', 'Pseudobulge', 'M_BH',\n",
       "       'M_BH_std', 'M*_sph', 'M*_gal', 'log_B/T', 'log_sigma0',\n",
       "       'log_R_e_sph_maj', 'log_R_e_sph_eq_kpc', 'log_n_sph_maj',\n",
       "       'log_n_sph_eq', 'log(I_e,sph,maj/M_Sun/pc^2)',\n",
       "       'log(I_e,sph,eq/M_Sun/pc^2)', 'Concentration_Index',\n",
       "       'avg_Rho_1kpc_Exact_All', 'r1_density_approx', 'log10(R10_kpc)',\n",
       "       'logRho_R10_approx', 'log_rho10_Exact', 'log10(R90_kpc)',\n",
       "       'logRho_R90_approx', 'log_rho_90_Exact_all', 'Rho_re_spatial',\n",
       "       'SR_pc_All', 'Rho_SR_pc_All', 'CR_def1_approx_new',\n",
       "       'Rho_cr_def1_approx_new', 'CR_def2_approx_new',\n",
       "       'Rho_CR_def2_approx_new', 'Sr(pc)_2_using_Falserm_drho',\n",
       "       'Log_Approx_Avg_density_10pc', 'log_Rho_e_Exact_new',\n",
       "       'logRho_e_approx_New', 'logRho_soi_approx_new', 'log_Rho_soi_exact_new',\n",
       "       'Avg_Rho_Re_Exact_all', 'Avg_Rho_soi_exact_all', 'Avg_Rho_re_Exact_all',\n",
       "       'Rho_re_Exact_all', 'r_soi_2BH_approx', 'Rho_r_soi_2BH_approx',\n",
       "       'Log_Avg_Rho_10kpc_approx', 'Log_Avg_Rho_10kpc_exact_final',\n",
       "       'Log_Avg_Rho_100pc_approx', 'Log_Avg_Rho_5kpc_approx',\n",
       "       'Log_Avg_rho_5kpc_exact_all'],\n",
       "      dtype='object')"
      ]
     },
     "execution_count": 6,
     "metadata": {},
     "output_type": "execute_result"
    }
   ],
   "source": [
    "df_purge.columns"
   ]
  },
  {
   "cell_type": "markdown",
   "id": "9bebc952",
   "metadata": {},
   "source": [
    "## classification parameters"
   ]
  },
  {
   "cell_type": "code",
   "execution_count": 11,
   "id": "2b6b4125",
   "metadata": {},
   "outputs": [],
   "source": [
    "# 'T-type', 'Bar', 'Disk', 'Core', 'AGN', 'Pseudobulge'"
   ]
  },
  {
   "cell_type": "markdown",
   "id": "b927021e",
   "metadata": {},
   "source": [
    "## scaling quantities"
   ]
  },
  {
   "cell_type": "markdown",
   "id": "b0794490",
   "metadata": {},
   "source": [
    "stellar mass: $M*_{sph}$,$M*_{gal}$"
   ]
  },
  {
   "cell_type": "code",
   "execution_count": 10,
   "id": "6e0e2eb0",
   "metadata": {},
   "outputs": [],
   "source": [
    "# 'M*_sph','M*_gal','log_R_e_sph_eq_kpc',..."
   ]
  },
  {
   "cell_type": "markdown",
   "id": "10927e14",
   "metadata": {},
   "source": [
    "Bulge Equivalent Properties: $n_{eq,sph}$,$C(1/3)$,$R_{e,sph,eq}$"
   ]
  },
  {
   "cell_type": "code",
   "execution_count": 14,
   "id": "d3b324ac",
   "metadata": {},
   "outputs": [],
   "source": [
    "# 'log_R_e_sph_eq_kpc', 'log_n_sph_eq', 'Concentration_Index'"
   ]
  },
  {
   "cell_type": "markdown",
   "id": "aecf9390",
   "metadata": {},
   "source": [
    "velocity dispersion: $\\sigma$"
   ]
  },
  {
   "cell_type": "code",
   "execution_count": 12,
   "id": "7ffe7f1c",
   "metadata": {},
   "outputs": [],
   "source": [
    "# 'log_sigma0'"
   ]
  },
  {
   "cell_type": "markdown",
   "id": "99a5b96d",
   "metadata": {},
   "source": [
    "Ratio of light: $B/T$,$D/T$"
   ]
  },
  {
   "cell_type": "code",
   "execution_count": 13,
   "id": "86fa13d2",
   "metadata": {},
   "outputs": [],
   "source": [
    "# 'log_B/T'"
   ]
  },
  {
   "cell_type": "markdown",
   "id": "e3466a9b",
   "metadata": {},
   "source": [
    "Densities"
   ]
  },
  {
   "cell_type": "code",
   "execution_count": null,
   "id": "fcd9fcd8",
   "metadata": {},
   "outputs": [],
   "source": [
    "# 'logRho_soi_approx_new', 'Log_Avg_Rho_5kpc_approx'"
   ]
  },
  {
   "cell_type": "code",
   "execution_count": 15,
   "id": "74c79998",
   "metadata": {},
   "outputs": [],
   "source": [
    "## test_relation(df,operator='simp',ncyclesperiteration=550,niterations=40,denoise=False,adaptive_parsimony_scaling=20,verbosity=0)"
   ]
  },
  {
   "cell_type": "code",
   "execution_count": 16,
   "id": "45c7ab19",
   "metadata": {
    "scrolled": true
   },
   "outputs": [
    {
     "name": "stderr",
     "output_type": "stream",
     "text": [
      "/home/zj448/miniconda3/lib/python3.9/site-packages/pysr/sr.py:1257: UserWarning: Note: it looks like you are running in Jupyter. The progress bar will be turned off.\n",
      "  warnings.warn(\n",
      "/home/zj448/miniconda3/lib/python3.9/site-packages/pysr/sr.py:1761: UserWarning: Note: you are running with 10 features or more. Genetic algorithms like used in PySR scale poorly with large numbers of features. Consider using feature selection techniques to select the most important features (you can do this automatically with the `select_k_features` parameter), or, alternatively, doing a dimensionality reduction beforehand. For example, `X = PCA(n_components=6).fit_transform(X)`, using scikit-learn's `PCA` class, will reduce the number of features to 6 in an interpretable way, as each resultant feature will be a linear combination of the original features. \n",
      "  warnings.warn(\n",
      "WARNING: method definition for OneHotArray at /home/zj448/miniconda3/share/pysr/depot/packages/MicroCollections/yJPLe/src/onehot.jl:79 declares type variable N but does not use it.\n"
     ]
    },
    {
     "name": "stdout",
     "output_type": "stream",
     "text": [
      "parameters:\n",
      "x 0 : M*_sph\n",
      "x 1 : Log_Avg_Rho_5kpc_approx\n",
      "x 2 : log_sigma0\n",
      "x 3 : log_B/T\n",
      "x 4 : logRho_soi_approx_new\n",
      "x 5 : T-type\n",
      "x 6 : Bar\n",
      "x 7 : Disk\n",
      "x 8 : Core\n",
      "x 9 : AGN\n",
      "x 10 : Pseudobulge\n",
      "Eq. selected rmse: 0.2495998695881003\n"
     ]
    },
    {
     "data": {
      "text/latex": [
       "$\\displaystyle 3 x_{2} + x_{3} - 0.38909088161277733 x_{4} + 2.875185707118705$"
      ],
      "text/plain": [
       "3*x2 + x3 - 0.38909088161277733*x4 + 2.875185707118705"
      ]
     },
     "metadata": {},
     "output_type": "display_data"
    },
    {
     "name": "stdout",
     "output_type": "stream",
     "text": [
      "Eq. 0 rmse: 0.9296505481997018\n"
     ]
    },
    {
     "data": {
      "text/latex": [
       "$\\displaystyle 8.181178431412688$"
      ],
      "text/plain": [
       "8.181178431412688"
      ]
     },
     "metadata": {},
     "output_type": "display_data"
    },
    {
     "name": "stdout",
     "output_type": "stream",
     "text": [
      "Eq. 1 rmse: 0.4323770913461471\n"
     ]
    },
    {
     "data": {
      "text/latex": [
       "$\\displaystyle x_{0} - 2.4058952782424248$"
      ],
      "text/plain": [
       "x0 - 2.4058952782424248"
      ]
     },
     "metadata": {},
     "output_type": "display_data"
    },
    {
     "name": "stdout",
     "output_type": "stream",
     "text": [
      "Eq. 2 rmse: 0.3782350534645292\n"
     ]
    },
    {
     "data": {
      "text/latex": [
       "$\\displaystyle x_{0} - \\frac{5.382709005757927}{x_{2}}$"
      ],
      "text/plain": [
       "x0 - 5.382709005757927/x2"
      ]
     },
     "metadata": {},
     "output_type": "display_data"
    },
    {
     "name": "stdout",
     "output_type": "stream",
     "text": [
      "Eq. 3 rmse: 0.3316942135978345\n"
     ]
    },
    {
     "data": {
      "text/latex": [
       "$\\displaystyle x_{0} - \\frac{x_{10} + 5.1954302441601685}{x_{2}}$"
      ],
      "text/plain": [
       "x0 - (x10 + 5.1954302441601685)/x2"
      ]
     },
     "metadata": {},
     "output_type": "display_data"
    },
    {
     "name": "stdout",
     "output_type": "stream",
     "text": [
      "Eq. 4 rmse: 0.3168381513958444\n"
     ]
    },
    {
     "data": {
      "text/latex": [
       "$\\displaystyle x_{0} - 1.1497082174244173 - \\frac{x_{10} + x_{4}}{x_{2}}$"
      ],
      "text/plain": [
       "x0 - 1.1497082174244173 - (x10 + x4)/x2"
      ]
     },
     "metadata": {},
     "output_type": "display_data"
    },
    {
     "name": "stdout",
     "output_type": "stream",
     "text": [
      "Eq. 5 rmse: 0.3064531443820808\n"
     ]
    },
    {
     "data": {
      "text/latex": [
       "$\\displaystyle x_{0} - \\frac{x_{10} + x_{4}}{x_{2} + 0.1532083788130868} - 1.1497082174244173$"
      ],
      "text/plain": [
       "x0 - (x10 + x4)/(x2 + 0.1532083788130868) - 1.1497082174244173"
      ]
     },
     "metadata": {},
     "output_type": "display_data"
    },
    {
     "name": "stdout",
     "output_type": "stream",
     "text": [
      "Eq. 6 rmse: 0.2930505657648856\n"
     ]
    },
    {
     "data": {
      "text/latex": [
       "$\\displaystyle x_{0} - \\frac{x_{0} + x_{10} - x_{2} - x_{8} - 2.874535903290856}{x_{2}}$"
      ],
      "text/plain": [
       "x0 - (x0 + x10 - x2 - x8 - 2.874535903290856)/x2"
      ]
     },
     "metadata": {},
     "output_type": "display_data"
    },
    {
     "name": "stdout",
     "output_type": "stream",
     "text": [
      "Eq. 7 rmse: 0.2495998695881003\n"
     ]
    },
    {
     "data": {
      "text/latex": [
       "$\\displaystyle 3 x_{2} + x_{3} - 0.38909088161277733 x_{4} + 2.875185707118705$"
      ],
      "text/plain": [
       "3*x2 + x3 - 0.38909088161277733*x4 + 2.875185707118705"
      ]
     },
     "metadata": {},
     "output_type": "display_data"
    }
   ],
   "source": [
    "test_relation(df_purge[['M*_sph','Log_Avg_Rho_5kpc_approx','log_sigma0','log_B/T','logRho_soi_approx_new','T-type', 'Bar', 'Disk', 'Core', 'AGN', 'Pseudobulge']],\n",
    "             operator='basic')"
   ]
  },
  {
   "cell_type": "code",
   "execution_count": 22,
   "id": "cc90fb17",
   "metadata": {
    "scrolled": true
   },
   "outputs": [
    {
     "name": "stderr",
     "output_type": "stream",
     "text": [
      "/home/zj448/miniconda3/lib/python3.9/site-packages/pysr/sr.py:1257: UserWarning: Note: it looks like you are running in Jupyter. The progress bar will be turned off.\n",
      "  warnings.warn(\n"
     ]
    },
    {
     "name": "stdout",
     "output_type": "stream",
     "text": [
      "parameters:\n",
      "x 0 : M*_sph\n",
      "x 1 : Log_Avg_Rho_5kpc_approx\n",
      "x 2 : log_sigma0\n",
      "x 3 : log_B/T\n",
      "x 4 : logRho_soi_approx_new\n",
      "x 5 : Core\n",
      "x 6 : Pseudobulge\n",
      "Eq. selected rmse: 0.22831291960837588\n"
     ]
    },
    {
     "data": {
      "text/latex": [
       "$\\displaystyle x_{2} \\cdot \\left(3.1328993872993123 - 0.1514661197686877 x_{4}\\right) + x_{2} - \\frac{- 0.7926414942567177 x_{3} + x_{6}}{x_{2}}$"
      ],
      "text/plain": [
       "x2*(3.1328993872993123 - 0.1514661197686877*x4) + x2 - (-0.7926414942567177*x3 + x6)/x2"
      ]
     },
     "metadata": {},
     "output_type": "display_data"
    },
    {
     "name": "stdout",
     "output_type": "stream",
     "text": [
      "Eq. 0 rmse: 0.9296505481997019\n"
     ]
    },
    {
     "data": {
      "text/latex": [
       "$\\displaystyle 8.181178431410114$"
      ],
      "text/plain": [
       "8.181178431410114"
      ]
     },
     "metadata": {},
     "output_type": "display_data"
    },
    {
     "name": "stdout",
     "output_type": "stream",
     "text": [
      "Eq. 1 rmse: 0.43237709134614727\n"
     ]
    },
    {
     "data": {
      "text/latex": [
       "$\\displaystyle x_{0} - 2.405895278238562$"
      ],
      "text/plain": [
       "x0 - 2.405895278238562"
      ]
     },
     "metadata": {},
     "output_type": "display_data"
    },
    {
     "name": "stdout",
     "output_type": "stream",
     "text": [
      "Eq. 2 rmse: 0.3837272596114259\n"
     ]
    },
    {
     "data": {
      "text/latex": [
       "$\\displaystyle 0.750292060062515 x_{0} + x_{5}$"
      ],
      "text/plain": [
       "0.750292060062515*x0 + x5"
      ]
     },
     "metadata": {},
     "output_type": "display_data"
    },
    {
     "name": "stdout",
     "output_type": "stream",
     "text": [
      "Eq. 3 rmse: 0.35802242162830294\n"
     ]
    },
    {
     "data": {
      "text/latex": [
       "$\\displaystyle x_{0} + \\frac{- x_{4} - 2.686632220771724}{x_{2}}$"
      ],
      "text/plain": [
       "x0 + (-x4 - 2.686632220771724)/x2"
      ]
     },
     "metadata": {},
     "output_type": "display_data"
    },
    {
     "name": "stdout",
     "output_type": "stream",
     "text": [
      "Eq. 4 rmse: 0.33728593618043623\n"
     ]
    },
    {
     "data": {
      "text/latex": [
       "$\\displaystyle 0.7716574868522003 x_{0} + 0.5691953598228399 x_{5} - 0.5691953598228399 x_{6}$"
      ],
      "text/plain": [
       "0.7716574868522003*x0 + 0.5691953598228399*x5 - 0.5691953598228399*x6"
      ]
     },
     "metadata": {},
     "output_type": "display_data"
    },
    {
     "name": "stdout",
     "output_type": "stream",
     "text": [
      "Eq. 5 rmse: 0.27671019153228354\n"
     ]
    },
    {
     "data": {
      "text/latex": [
       "$\\displaystyle 2 x_{2} + x_{3} - 0.4010555683266269 x_{4} + 5.170488822711315$"
      ],
      "text/plain": [
       "2*x2 + x3 - 0.4010555683266269*x4 + 5.170488822711315"
      ]
     },
     "metadata": {},
     "output_type": "display_data"
    },
    {
     "name": "stdout",
     "output_type": "stream",
     "text": [
      "Eq. 6 rmse: 0.26913867684305914\n"
     ]
    },
    {
     "data": {
      "text/latex": [
       "$\\displaystyle 2 x_{2} + x_{3} - 0.48681427405869004 x_{4} + 5.3737111484544053$"
      ],
      "text/plain": [
       "2*x2 + x3 - 0.48681427405869004*x4 + 5.3737111484544053"
      ]
     },
     "metadata": {},
     "output_type": "display_data"
    },
    {
     "name": "stdout",
     "output_type": "stream",
     "text": [
      "Eq. 7 rmse: 0.25655880933868636\n"
     ]
    },
    {
     "data": {
      "text/latex": [
       "$\\displaystyle 2 x_{2} + x_{3} - 0.4010555683266269 x_{4} - 0.14577679580707957 x_{6} + 5.170488822711315$"
      ],
      "text/plain": [
       "2*x2 + x3 - 0.4010555683266269*x4 - 0.14577679580707957*x6 + 5.170488822711315"
      ]
     },
     "metadata": {},
     "output_type": "display_data"
    },
    {
     "name": "stdout",
     "output_type": "stream",
     "text": [
      "Eq. 8 rmse: 0.22831291960837588\n"
     ]
    },
    {
     "data": {
      "text/latex": [
       "$\\displaystyle x_{2} \\cdot \\left(3.1328993872993123 - 0.1514661197686877 x_{4}\\right) + x_{2} - \\frac{- 0.7926414942567177 x_{3} + x_{6}}{x_{2}}$"
      ],
      "text/plain": [
       "x2*(3.1328993872993123 - 0.1514661197686877*x4) + x2 - (-0.7926414942567177*x3 + x6)/x2"
      ]
     },
     "metadata": {},
     "output_type": "display_data"
    },
    {
     "name": "stdout",
     "output_type": "stream",
     "text": [
      "Eq. 9 rmse: 0.22829919765419676\n"
     ]
    },
    {
     "data": {
      "text/latex": [
       "$\\displaystyle x_{2} \\cdot \\left(2.6214507998359737 - 0.17634696203424086 x_{4}\\right) + x_{2} - \\frac{- 2 x_{3} + x_{6} - 3.488211624269614}{x_{2}}$"
      ],
      "text/plain": [
       "x2*(2.6214507998359737 - 0.17634696203424086*x4) + x2 - (-2*x3 + x6 - 3.488211624269614)/x2"
      ]
     },
     "metadata": {},
     "output_type": "display_data"
    },
    {
     "name": "stdout",
     "output_type": "stream",
     "text": [
      "Eq. 10 rmse: 0.2255546530501356\n"
     ]
    },
    {
     "data": {
      "text/latex": [
       "$\\displaystyle 2 x_{2} - 0.4010555683266269 x_{4} + 5.492101198142328 - \\frac{- x_{1} - x_{3} + x_{6} - 0.34766022384372136}{x_{2}}$"
      ],
      "text/plain": [
       "2*x2 - 0.4010555683266269*x4 + 5.492101198142328 - (-x1 - x3 + x6 - 0.34766022384372136)/x2"
      ]
     },
     "metadata": {},
     "output_type": "display_data"
    }
   ],
   "source": [
    "test_relation(df_purge[['M*_sph','Log_Avg_Rho_5kpc_approx','log_sigma0','log_B/T','logRho_soi_approx_new','Core', 'Pseudobulge']],\n",
    "             operator='basic')"
   ]
  },
  {
   "cell_type": "code",
   "execution_count": 25,
   "id": "adb93923",
   "metadata": {
    "scrolled": true
   },
   "outputs": [
    {
     "name": "stderr",
     "output_type": "stream",
     "text": [
      "/home/zj448/miniconda3/lib/python3.9/site-packages/pysr/sr.py:1257: UserWarning: Note: it looks like you are running in Jupyter. The progress bar will be turned off.\n",
      "  warnings.warn(\n"
     ]
    },
    {
     "name": "stdout",
     "output_type": "stream",
     "text": [
      "parameters:\n",
      "x 0 : M*_sph\n",
      "x 1 : Log_Avg_Rho_5kpc_approx\n",
      "x 2 : log_sigma0\n",
      "x 3 : log_B/T\n",
      "x 4 : logRho_soi_approx_new\n",
      "x 5 : Core\n",
      "x 6 : Pseudobulge\n",
      "Eq. selected rmse: 0.24656878801398519\n"
     ]
    },
    {
     "data": {
      "text/latex": [
       "$\\displaystyle 2.7292086737186882 x_{2} + x_{3} - 0.4191064101711106 x_{4} + 3.568206621935438$"
      ],
      "text/plain": [
       "2.7292086737186882*x2 + x3 - 0.4191064101711106*x4 + 3.568206621935438"
      ]
     },
     "metadata": {},
     "output_type": "display_data"
    },
    {
     "name": "stdout",
     "output_type": "stream",
     "text": [
      "Eq. 0 rmse: 0.9296505481997018\n"
     ]
    },
    {
     "data": {
      "text/latex": [
       "$\\displaystyle 8.181178431411032$"
      ],
      "text/plain": [
       "8.181178431411032"
      ]
     },
     "metadata": {},
     "output_type": "display_data"
    },
    {
     "name": "stdout",
     "output_type": "stream",
     "text": [
      "Eq. 1 rmse: 0.43237709134614705\n"
     ]
    },
    {
     "data": {
      "text/latex": [
       "$\\displaystyle x_{0} - 2.4058952782392273$"
      ],
      "text/plain": [
       "x0 - 2.4058952782392273"
      ]
     },
     "metadata": {},
     "output_type": "display_data"
    },
    {
     "name": "stdout",
     "output_type": "stream",
     "text": [
      "Eq. 2 rmse: 0.35957813463762284\n"
     ]
    },
    {
     "data": {
      "text/latex": [
       "$\\displaystyle 3.8079122631005164 x_{2} + x_{3}$"
      ],
      "text/plain": [
       "3.8079122631005164*x2 + x3"
      ]
     },
     "metadata": {},
     "output_type": "display_data"
    },
    {
     "name": "stdout",
     "output_type": "stream",
     "text": [
      "Eq. 3 rmse: 0.3316942135978344\n"
     ]
    },
    {
     "data": {
      "text/latex": [
       "$\\displaystyle x_{0} - \\frac{x_{6} + 5.195430244120751}{x_{2}}$"
      ],
      "text/plain": [
       "x0 - (x6 + 5.195430244120751)/x2"
      ]
     },
     "metadata": {},
     "output_type": "display_data"
    },
    {
     "name": "stdout",
     "output_type": "stream",
     "text": [
      "Eq. 4 rmse: 0.3097565840524025\n"
     ]
    },
    {
     "data": {
      "text/latex": [
       "$\\displaystyle 3.5972178152556644 x_{2} + 0.55021955327745157 x_{5} - 0.55021955327745157 x_{6}$"
      ],
      "text/plain": [
       "3.5972178152556644*x2 + 0.55021955327745157*x5 - 0.55021955327745157*x6"
      ]
     },
     "metadata": {},
     "output_type": "display_data"
    },
    {
     "name": "stdout",
     "output_type": "stream",
     "text": [
      "Eq. 5 rmse: 0.24656878801398519\n"
     ]
    },
    {
     "data": {
      "text/latex": [
       "$\\displaystyle 2.7292086737186882 x_{2} + x_{3} - 0.4191064101711106 x_{4} + 3.568206621935438$"
      ],
      "text/plain": [
       "2.7292086737186882*x2 + x3 - 0.4191064101711106*x4 + 3.568206621935438"
      ]
     },
     "metadata": {},
     "output_type": "display_data"
    },
    {
     "name": "stdout",
     "output_type": "stream",
     "text": [
      "Eq. 6 rmse: 0.2312444784873577\n"
     ]
    },
    {
     "data": {
      "text/latex": [
       "$\\displaystyle 2.6328081046608522 x_{2} + x_{3} - 0.36119166713295736 x_{4} - 0.36119166713295736 x_{6} + 3.7068515393214967$"
      ],
      "text/plain": [
       "2.6328081046608522*x2 + x3 - 0.36119166713295736*x4 - 0.36119166713295736*x6 + 3.7068515393214967"
      ]
     },
     "metadata": {},
     "output_type": "display_data"
    },
    {
     "name": "stdout",
     "output_type": "stream",
     "text": [
      "Eq. 7 rmse: 0.22728869474456048\n"
     ]
    },
    {
     "data": {
      "text/latex": [
       "$\\displaystyle 2.6328081046608522 x_{2} + x_{3} - 0.37741592055089457 x_{4} - 0.23843734092357263 x_{6} + 3.7068515393214967$"
      ],
      "text/plain": [
       "2.6328081046608522*x2 + x3 - 0.37741592055089457*x4 - 0.23843734092357263*x6 + 3.7068515393214967"
      ]
     },
     "metadata": {},
     "output_type": "display_data"
    },
    {
     "name": "stdout",
     "output_type": "stream",
     "text": [
      "Eq. 8 rmse: 0.225320232262697\n"
     ]
    },
    {
     "data": {
      "text/latex": [
       "$\\displaystyle 3.4880181196448895 x_{2} + 0.6125898704926168 x_{3} - 0.3874101295073832 x_{4} - 0.3874101295073832 x_{6} + 1.7023753035181608$"
      ],
      "text/plain": [
       "3.4880181196448895*x2 + 0.6125898704926168*x3 - 0.3874101295073832*x4 - 0.3874101295073832*x6 + 1.7023753035181608"
      ]
     },
     "metadata": {},
     "output_type": "display_data"
    },
    {
     "name": "stdout",
     "output_type": "stream",
     "text": [
      "Eq. 9 rmse: 0.21466801051377632\n"
     ]
    },
    {
     "data": {
      "text/latex": [
       "$\\displaystyle 2.038977474506343 x_{2} + x_{3} + 0.20932329601862817 \\left(x_{2} + x_{3}\\right) \\left(x_{2} - x_{4} - x_{6}\\right) + 4.162007463658072$"
      ],
      "text/plain": [
       "2.038977474506343*x2 + x3 + 0.20932329601862817*(x2 + x3)*(x2 - x4 - x6) + 4.162007463658072"
      ]
     },
     "metadata": {},
     "output_type": "display_data"
    },
    {
     "name": "stdout",
     "output_type": "stream",
     "text": [
      "Eq. 10 rmse: 0.21072600330339192\n"
     ]
    },
    {
     "data": {
      "text/latex": [
       "$\\displaystyle 2.038977474506343 x_{2} + x_{3} + 0.2736694174871392 \\cdot \\left(1.28799929851123 x_{3} + 1.922748754123617\\right) \\left(x_{2} - x_{4} - x_{6}\\right) + 4.162007463658072$"
      ],
      "text/plain": [
       "2.038977474506343*x2 + x3 + 0.2736694174871392*(1.28799929851123*x3 + 1.922748754123617)*(x2 - x4 - x6) + 4.162007463658072"
      ]
     },
     "metadata": {},
     "output_type": "display_data"
    }
   ],
   "source": [
    "test_relation(df_purge[['M*_sph','Log_Avg_Rho_5kpc_approx','log_sigma0','log_B/T','logRho_soi_approx_new','Core', 'Pseudobulge']],\n",
    "             operator='basic',niterations=200)"
   ]
  },
  {
   "cell_type": "code",
   "execution_count": 24,
   "id": "31f6d5e0",
   "metadata": {
    "scrolled": true
   },
   "outputs": [
    {
     "name": "stderr",
     "output_type": "stream",
     "text": [
      "/home/zj448/miniconda3/lib/python3.9/site-packages/pysr/sr.py:1257: UserWarning: Note: it looks like you are running in Jupyter. The progress bar will be turned off.\n",
      "  warnings.warn(\n",
      "/home/zj448/miniconda3/lib/python3.9/site-packages/pysr/sr.py:1761: UserWarning: Note: you are running with 10 features or more. Genetic algorithms like used in PySR scale poorly with large numbers of features. Consider using feature selection techniques to select the most important features (you can do this automatically with the `select_k_features` parameter), or, alternatively, doing a dimensionality reduction beforehand. For example, `X = PCA(n_components=6).fit_transform(X)`, using scikit-learn's `PCA` class, will reduce the number of features to 6 in an interpretable way, as each resultant feature will be a linear combination of the original features. \n",
      "  warnings.warn(\n"
     ]
    },
    {
     "name": "stdout",
     "output_type": "stream",
     "text": [
      "parameters:\n",
      "x 0 : M*_sph\n",
      "x 1 : Log_Avg_Rho_5kpc_approx\n",
      "x 2 : log_sigma0\n",
      "x 3 : log_B/T\n",
      "x 4 : logRho_soi_approx_new\n",
      "x 5 : T-type\n",
      "x 6 : Bar\n",
      "x 7 : Disk\n",
      "x 8 : Core\n",
      "x 9 : AGN\n",
      "x 10 : Pseudobulge\n",
      "Eq. selected rmse: 0.26689211483661746\n"
     ]
    },
    {
     "data": {
      "text/latex": [
       "$\\displaystyle 2 x_{2} + 1.2752835419090276 x_{3} - 0.4959381872748476 x_{4} + 5.6048491304165236$"
      ],
      "text/plain": [
       "2*x2 + 1.2752835419090276*x3 - 0.4959381872748476*x4 + 5.6048491304165236"
      ]
     },
     "metadata": {},
     "output_type": "display_data"
    },
    {
     "name": "stdout",
     "output_type": "stream",
     "text": [
      "Eq. 0 rmse: 0.9296505481997017\n"
     ]
    },
    {
     "data": {
      "text/latex": [
       "$\\displaystyle 8.181178431409036$"
      ],
      "text/plain": [
       "8.181178431409036"
      ]
     },
     "metadata": {},
     "output_type": "display_data"
    },
    {
     "name": "stdout",
     "output_type": "stream",
     "text": [
      "Eq. 1 rmse: 0.4323770913461471\n"
     ]
    },
    {
     "data": {
      "text/latex": [
       "$\\displaystyle x_{0} - 2.4058952732786123$"
      ],
      "text/plain": [
       "x0 - 2.4058952732786123"
      ]
     },
     "metadata": {},
     "output_type": "display_data"
    },
    {
     "name": "stdout",
     "output_type": "stream",
     "text": [
      "Eq. 2 rmse: 0.4049267890275868\n"
     ]
    },
    {
     "data": {
      "text/latex": [
       "$\\displaystyle 1.2212494884585399 x_{0} - 4.748279920773088$"
      ],
      "text/plain": [
       "1.2212494884585399*x0 - 4.748279920773088"
      ]
     },
     "metadata": {},
     "output_type": "display_data"
    },
    {
     "name": "stdout",
     "output_type": "stream",
     "text": [
      "Eq. 3 rmse: 0.3765546142618661\n"
     ]
    },
    {
     "data": {
      "text/latex": [
       "$\\displaystyle - 1.4628448225100472^{x_{10}} + x_{0} - 1.2621790863627715$"
      ],
      "text/plain": [
       "-1.4628448225100472**x10 + x0 - 1.2621790863627715"
      ]
     },
     "metadata": {},
     "output_type": "display_data"
    },
    {
     "name": "stdout",
     "output_type": "stream",
     "text": [
      "Eq. 4 rmse: 0.3363987045754796\n"
     ]
    },
    {
     "data": {
      "text/latex": [
       "$\\displaystyle - 1.4734908061604917^{x_{10} - x_{8}} + x_{0} - 1.3880975329530356$"
      ],
      "text/plain": [
       "-1.4734908061604917**(x10 - x8) + x0 - 1.3880975329530356"
      ]
     },
     "metadata": {},
     "output_type": "display_data"
    },
    {
     "name": "stdout",
     "output_type": "stream",
     "text": [
      "Eq. 5 rmse: 0.31142159630395827\n"
     ]
    },
    {
     "data": {
      "text/latex": [
       "$\\displaystyle 2 x_{2} + x_{3} - 0.29085120634630074 x_{4} + 4.813011316492669$"
      ],
      "text/plain": [
       "2*x2 + x3 - 0.29085120634630074*x4 + 4.813011316492669"
      ]
     },
     "metadata": {},
     "output_type": "display_data"
    },
    {
     "name": "stdout",
     "output_type": "stream",
     "text": [
      "Eq. 6 rmse: 0.26689211483661746\n"
     ]
    },
    {
     "data": {
      "text/latex": [
       "$\\displaystyle 2 x_{2} + 1.2752835419090276 x_{3} - 0.4959381872748476 x_{4} + 5.6048491304165236$"
      ],
      "text/plain": [
       "2*x2 + 1.2752835419090276*x3 - 0.4959381872748476*x4 + 5.6048491304165236"
      ]
     },
     "metadata": {},
     "output_type": "display_data"
    },
    {
     "name": "stdout",
     "output_type": "stream",
     "text": [
      "Eq. 7 rmse: 0.2609484957266626\n"
     ]
    },
    {
     "data": {
      "text/latex": [
       "$\\displaystyle 2 x_{2} + 1.1213552632737434 x_{3} - 0.48864179395312785 x_{4} + 5.433610058842064$"
      ],
      "text/plain": [
       "2*x2 + 1.1213552632737434*x3 - 0.48864179395312785*x4 + 5.433610058842064"
      ]
     },
     "metadata": {},
     "output_type": "display_data"
    },
    {
     "name": "stdout",
     "output_type": "stream",
     "text": [
      "Eq. 8 rmse: 0.24727297227508938\n"
     ]
    },
    {
     "data": {
      "text/latex": [
       "$\\displaystyle 0.4272047338149832 \\cdot 1.6686051819761023^{x_{8}} + 2 x_{2} + 1.095759041144044 x_{3} - 0.4272047338149832 x_{4} + 4.813011316492669$"
      ],
      "text/plain": [
       "0.4272047338149832*1.6686051819761023**x8 + 2*x2 + 1.095759041144044*x3 - 0.4272047338149832*x4 + 4.813011316492669"
      ]
     },
     "metadata": {},
     "output_type": "display_data"
    },
    {
     "name": "stdout",
     "output_type": "stream",
     "text": [
      "Eq. 9 rmse: 0.24079390223181668\n"
     ]
    },
    {
     "data": {
      "text/latex": [
       "$\\displaystyle - \\frac{0.48864179395312785 x_{10}}{x_{2}} + 2 x_{2} + 1.0857844006688293 x_{3} - 0.48864179395312785 x_{4} + 5.491063687648948$"
      ],
      "text/plain": [
       "-0.48864179395312785*x10/x2 + 2*x2 + 1.0857844006688293*x3 - 0.48864179395312785*x4 + 5.491063687648948"
      ]
     },
     "metadata": {},
     "output_type": "display_data"
    },
    {
     "name": "stdout",
     "output_type": "stream",
     "text": [
      "Eq. 10 rmse: 0.23057616011894072\n"
     ]
    },
    {
     "data": {
      "text/latex": [
       "$\\displaystyle - 0.48864179395312785 x_{10} x_{4}^{x_{3}} + 2 x_{2} + 1.0857844006688293 x_{3} - 0.48864179395312785 x_{4} + 5.491063687648948$"
      ],
      "text/plain": [
       "-0.48864179395312785*x10*x4**x3 + 2*x2 + 1.0857844006688293*x3 - 0.48864179395312785*x4 + 5.491063687648948"
      ]
     },
     "metadata": {},
     "output_type": "display_data"
    }
   ],
   "source": [
    "test_relation(df_purge[['M*_sph','Log_Avg_Rho_5kpc_approx','log_sigma0','log_B/T','logRho_soi_approx_new','T-type', 'Bar', 'Disk', 'Core', 'AGN', 'Pseudobulge']],\n",
    "             operator='simp')"
   ]
  },
  {
   "cell_type": "code",
   "execution_count": 23,
   "id": "317b9775",
   "metadata": {
    "scrolled": true
   },
   "outputs": [
    {
     "name": "stderr",
     "output_type": "stream",
     "text": [
      "/home/zj448/miniconda3/lib/python3.9/site-packages/pysr/sr.py:1257: UserWarning: Note: it looks like you are running in Jupyter. The progress bar will be turned off.\n",
      "  warnings.warn(\n"
     ]
    },
    {
     "name": "stdout",
     "output_type": "stream",
     "text": [
      "parameters:\n",
      "x 0 : M*_sph\n",
      "x 1 : Log_Avg_Rho_5kpc_approx\n",
      "x 2 : log_sigma0\n",
      "x 3 : log_B/T\n",
      "x 4 : logRho_soi_approx_new\n",
      "x 5 : Core\n",
      "x 6 : Pseudobulge\n",
      "Eq. selected rmse: 0.25835344076923167\n"
     ]
    },
    {
     "data": {
      "text/latex": [
       "$\\displaystyle 3.580077032175623 x_{2} + 0.7798460261694916 x_{4}^{x_{1}} - 0.7798460261694916 x_{6}$"
      ],
      "text/plain": [
       "3.580077032175623*x2 + 0.7798460261694916*x4**x1 - 0.7798460261694916*x6"
      ]
     },
     "metadata": {},
     "output_type": "display_data"
    },
    {
     "name": "stdout",
     "output_type": "stream",
     "text": [
      "Eq. 0 rmse: 0.9296505481997019\n"
     ]
    },
    {
     "data": {
      "text/latex": [
       "$\\displaystyle 8.181178431412333$"
      ],
      "text/plain": [
       "8.181178431412333"
      ]
     },
     "metadata": {},
     "output_type": "display_data"
    },
    {
     "name": "stdout",
     "output_type": "stream",
     "text": [
      "Eq. 1 rmse: 0.4323770913461472\n"
     ]
    },
    {
     "data": {
      "text/latex": [
       "$\\displaystyle x_{0} - 2.4058952782382175$"
      ],
      "text/plain": [
       "x0 - 2.4058952782382175"
      ]
     },
     "metadata": {},
     "output_type": "display_data"
    },
    {
     "name": "stdout",
     "output_type": "stream",
     "text": [
      "Eq. 2 rmse: 0.3952699903062093\n"
     ]
    },
    {
     "data": {
      "text/latex": [
       "$\\displaystyle 3.5424541857306258 x_{2} + x_{5}$"
      ],
      "text/plain": [
       "3.5424541857306258*x2 + x5"
      ]
     },
     "metadata": {},
     "output_type": "display_data"
    },
    {
     "name": "stdout",
     "output_type": "stream",
     "text": [
      "Eq. 3 rmse: 0.35651302239782445\n"
     ]
    },
    {
     "data": {
      "text/latex": [
       "$\\displaystyle 3.784389037459549 x_{2} + 0.8709642758307917 x_{3}$"
      ],
      "text/plain": [
       "3.784389037459549*x2 + 0.8709642758307917*x3"
      ]
     },
     "metadata": {},
     "output_type": "display_data"
    },
    {
     "name": "stdout",
     "output_type": "stream",
     "text": [
      "Eq. 4 rmse: 0.30977556837568043\n"
     ]
    },
    {
     "data": {
      "text/latex": [
       "$\\displaystyle 3.597217766169543 x_{2} + 0.5441598629263856 x_{5} - 0.5441598629263856 x_{6}$"
      ],
      "text/plain": [
       "3.597217766169543*x2 + 0.5441598629263856*x5 - 0.5441598629263856*x6"
      ]
     },
     "metadata": {},
     "output_type": "display_data"
    },
    {
     "name": "stdout",
     "output_type": "stream",
     "text": [
      "Eq. 5 rmse: 0.25835344076923167\n"
     ]
    },
    {
     "data": {
      "text/latex": [
       "$\\displaystyle 3.580077032175623 x_{2} + 0.7798460261694916 x_{4}^{x_{1}} - 0.7798460261694916 x_{6}$"
      ],
      "text/plain": [
       "3.580077032175623*x2 + 0.7798460261694916*x4**x1 - 0.7798460261694916*x6"
      ]
     },
     "metadata": {},
     "output_type": "display_data"
    },
    {
     "name": "stdout",
     "output_type": "stream",
     "text": [
      "Eq. 6 rmse: 0.2569959276851778\n"
     ]
    },
    {
     "data": {
      "text/latex": [
       "$\\displaystyle 3.580077032175623 x_{2} + 0.7798460261694916 x_{4}^{x_{1}} - 0.5633933200641991 x_{6}$"
      ],
      "text/plain": [
       "3.580077032175623*x2 + 0.7798460261694916*x4**x1 - 0.5633933200641991*x6"
      ]
     },
     "metadata": {},
     "output_type": "display_data"
    },
    {
     "name": "stdout",
     "output_type": "stream",
     "text": [
      "Eq. 7 rmse: 0.22107749075917718\n"
     ]
    },
    {
     "data": {
      "text/latex": [
       "$\\displaystyle 3.4770247271928643 x_{2} - 0.4541503340735655 x_{6} + 1.4541503340735655 \\left(- x_{3} + x_{4}\\right)^{x_{1}}$"
      ],
      "text/plain": [
       "3.4770247271928643*x2 - 0.4541503340735655*x6 + 1.4541503340735655*(-x3 + x4)**x1"
      ]
     },
     "metadata": {},
     "output_type": "display_data"
    }
   ],
   "source": [
    "test_relation(df_purge[['M*_sph','Log_Avg_Rho_5kpc_approx','log_sigma0','log_B/T','logRho_soi_approx_new','Core', 'Pseudobulge']],\n",
    "             operator='simp')"
   ]
  },
  {
   "cell_type": "code",
   "execution_count": 26,
   "id": "c943d579",
   "metadata": {
    "scrolled": true
   },
   "outputs": [
    {
     "name": "stderr",
     "output_type": "stream",
     "text": [
      "/home/zj448/miniconda3/lib/python3.9/site-packages/pysr/sr.py:1257: UserWarning: Note: it looks like you are running in Jupyter. The progress bar will be turned off.\n",
      "  warnings.warn(\n"
     ]
    },
    {
     "name": "stdout",
     "output_type": "stream",
     "text": [
      "parameters:\n",
      "x 0 : M*_sph\n",
      "x 1 : Log_Avg_Rho_5kpc_approx\n",
      "x 2 : log_sigma0\n",
      "x 3 : log_B/T\n",
      "x 4 : logRho_soi_approx_new\n",
      "x 5 : Core\n",
      "x 6 : Pseudobulge\n",
      "Eq. selected rmse: 0.2258016337396886\n"
     ]
    },
    {
     "data": {
      "text/latex": [
       "$\\displaystyle x_{2} \\cdot \\left(0.7494104944549428^{- x_{3} + x_{4} x_{6} + x_{4}} + 3.231119931236558\\right)$"
      ],
      "text/plain": [
       "x2*(0.7494104944549428**(-x3 + x4*x6 + x4) + 3.231119931236558)"
      ]
     },
     "metadata": {},
     "output_type": "display_data"
    },
    {
     "name": "stdout",
     "output_type": "stream",
     "text": [
      "Eq. 0 rmse: 0.9296505481997018\n"
     ]
    },
    {
     "data": {
      "text/latex": [
       "$\\displaystyle 8.181178431412954$"
      ],
      "text/plain": [
       "8.181178431412954"
      ]
     },
     "metadata": {},
     "output_type": "display_data"
    },
    {
     "name": "stdout",
     "output_type": "stream",
     "text": [
      "Eq. 1 rmse: 0.4323770913461471\n"
     ]
    },
    {
     "data": {
      "text/latex": [
       "$\\displaystyle x_{0} - 2.405895278235053$"
      ],
      "text/plain": [
       "x0 - 2.405895278235053"
      ]
     },
     "metadata": {},
     "output_type": "display_data"
    },
    {
     "name": "stdout",
     "output_type": "stream",
     "text": [
      "Eq. 2 rmse: 0.3961375167476374\n"
     ]
    },
    {
     "data": {
      "text/latex": [
       "$\\displaystyle 3.714487437705484 x_{2} - x_{6}$"
      ],
      "text/plain": [
       "3.714487437705484*x2 - x6"
      ]
     },
     "metadata": {},
     "output_type": "display_data"
    },
    {
     "name": "stdout",
     "output_type": "stream",
     "text": [
      "Eq. 3 rmse: 0.35400208805112954\n"
     ]
    },
    {
     "data": {
      "text/latex": [
       "$\\displaystyle x_{2} \\cdot \\left(0.664757403430913^{x_{4}} + 3.2693561764629835\\right)$"
      ],
      "text/plain": [
       "x2*(0.664757403430913**x4 + 3.2693561764629835)"
      ]
     },
     "metadata": {},
     "output_type": "display_data"
    },
    {
     "name": "stdout",
     "output_type": "stream",
     "text": [
      "Eq. 4 rmse: 0.2923871816615392\n"
     ]
    },
    {
     "data": {
      "text/latex": [
       "$\\displaystyle x_{2} \\cdot \\left(0.6990332252419053^{x_{4} + x_{6}} + 3.244885173031317\\right)$"
      ],
      "text/plain": [
       "x2*(0.6990332252419053**(x4 + x6) + 3.244885173031317)"
      ]
     },
     "metadata": {},
     "output_type": "display_data"
    },
    {
     "name": "stdout",
     "output_type": "stream",
     "text": [
      "Eq. 5 rmse: 0.2502729108258141\n"
     ]
    },
    {
     "data": {
      "text/latex": [
       "$\\displaystyle x_{2} \\cdot \\left(0.7159841974646688^{x_{4} x_{6} + x_{4}} + 3.2432725359519097\\right)$"
      ],
      "text/plain": [
       "x2*(0.7159841974646688**(x4*x6 + x4) + 3.2432725359519097)"
      ]
     },
     "metadata": {},
     "output_type": "display_data"
    },
    {
     "name": "stdout",
     "output_type": "stream",
     "text": [
      "Eq. 6 rmse: 0.2258016337396886\n"
     ]
    },
    {
     "data": {
      "text/latex": [
       "$\\displaystyle x_{2} \\cdot \\left(0.7494104944549428^{- x_{3} + x_{4} x_{6} + x_{4}} + 3.231119931236558\\right)$"
      ],
      "text/plain": [
       "x2*(0.7494104944549428**(-x3 + x4*x6 + x4) + 3.231119931236558)"
      ]
     },
     "metadata": {},
     "output_type": "display_data"
    },
    {
     "name": "stdout",
     "output_type": "stream",
     "text": [
      "Eq. 7 rmse: 0.22049178954322443\n"
     ]
    },
    {
     "data": {
      "text/latex": [
       "$\\displaystyle x_{2} \\cdot \\left(0.7473527462813897^{x_{1}^{2} x_{6} - x_{3} + x_{4}} + 3.237020747031413\\right)$"
      ],
      "text/plain": [
       "x2*(0.7473527462813897**(x1**2*x6 - x3 + x4) + 3.237020747031413)"
      ]
     },
     "metadata": {},
     "output_type": "display_data"
    },
    {
     "name": "stdout",
     "output_type": "stream",
     "text": [
      "Eq. 8 rmse: 0.20528119683817586\n"
     ]
    },
    {
     "data": {
      "text/latex": [
       "$\\displaystyle x_{2} \\cdot \\left(0.710009358983366^{- x_{3} + x_{4} + \\left(x_{1}^{2} x_{6}\\right)^{x_{4}}} + 3.302016463998665\\right)$"
      ],
      "text/plain": [
       "x2*(0.710009358983366**(-x3 + x4 + (x1**2*x6)**x4) + 3.302016463998665)"
      ]
     },
     "metadata": {},
     "output_type": "display_data"
    },
    {
     "name": "stdout",
     "output_type": "stream",
     "text": [
      "Eq. 9 rmse: 0.19490467586125218\n"
     ]
    },
    {
     "data": {
      "text/latex": [
       "$\\displaystyle x_{2} \\cdot \\left(0.7222863144551802^{- x_{3} + x_{4} + x_{6} \\left(x_{1}^{2} x_{4} - 1.6586207648239515\\right)} + 3.277591725449001\\right)$"
      ],
      "text/plain": [
       "x2*(0.7222863144551802**(-x3 + x4 + x6*(x1**2*x4 - 1.6586207648239515)) + 3.277591725449001)"
      ]
     },
     "metadata": {},
     "output_type": "display_data"
    },
    {
     "name": "stdout",
     "output_type": "stream",
     "text": [
      "Eq. 10 rmse: 0.19036087195757453\n"
     ]
    },
    {
     "data": {
      "text/latex": [
       "$\\displaystyle x_{2} \\cdot \\left(0.7145642510309711^{x_{1} x_{6} \\left(- x_{1}^{2} x_{4} + 1.774359826847516\\right) - x_{3} + x_{4}} + 3.2933331293201547\\right)$"
      ],
      "text/plain": [
       "x2*(0.7145642510309711**(x1*x6*(-x1**2*x4 + 1.774359826847516) - x3 + x4) + 3.2933331293201547)"
      ]
     },
     "metadata": {},
     "output_type": "display_data"
    }
   ],
   "source": [
    "test_relation(df_purge[['M*_sph','Log_Avg_Rho_5kpc_approx','log_sigma0','log_B/T','logRho_soi_approx_new','Core', 'Pseudobulge']],\n",
    "             operator='simp',niterations=200)"
   ]
  },
  {
   "cell_type": "code",
   "execution_count": 27,
   "id": "65866429",
   "metadata": {
    "scrolled": true
   },
   "outputs": [
    {
     "name": "stderr",
     "output_type": "stream",
     "text": [
      "/home/zj448/miniconda3/lib/python3.9/site-packages/pysr/sr.py:1257: UserWarning: Note: it looks like you are running in Jupyter. The progress bar will be turned off.\n",
      "  warnings.warn(\n"
     ]
    },
    {
     "name": "stdout",
     "output_type": "stream",
     "text": [
      "parameters:\n",
      "x 0 : M*_sph\n",
      "x 1 : Log_Avg_Rho_5kpc_approx\n",
      "x 2 : log_sigma0\n",
      "x 3 : log_B/T\n",
      "x 4 : logRho_soi_approx_new\n",
      "x 5 : Core\n",
      "x 6 : Pseudobulge\n",
      "Eq. selected rmse: 0.24170190810546727\n"
     ]
    },
    {
     "data": {
      "text/latex": [
       "$\\displaystyle 3.3411919783863189 x_{2} + 2.582623309093628 e^{x_{3} - 0.3576800618531443 x_{4} - x_{6}}$"
      ],
      "text/plain": [
       "3.3411919783863189*x2 + 2.582623309093628*exp(x3 - 0.3576800618531443*x4 - x6)"
      ]
     },
     "metadata": {},
     "output_type": "display_data"
    },
    {
     "name": "stdout",
     "output_type": "stream",
     "text": [
      "Eq. 0 rmse: 0.9296505481997018\n"
     ]
    },
    {
     "data": {
      "text/latex": [
       "$\\displaystyle 8.181178431412953$"
      ],
      "text/plain": [
       "8.181178431412953"
      ]
     },
     "metadata": {},
     "output_type": "display_data"
    },
    {
     "name": "stdout",
     "output_type": "stream",
     "text": [
      "Eq. 1 rmse: 0.4323770913461471\n"
     ]
    },
    {
     "data": {
      "text/latex": [
       "$\\displaystyle x_{0} - 2.4058952782395044$"
      ],
      "text/plain": [
       "x0 - 2.4058952782395044"
      ]
     },
     "metadata": {},
     "output_type": "display_data"
    },
    {
     "name": "stdout",
     "output_type": "stream",
     "text": [
      "Eq. 2 rmse: 0.3595781346376228\n"
     ]
    },
    {
     "data": {
      "text/latex": [
       "$\\displaystyle 3.8079122610723024 x_{2} + x_{3}$"
      ],
      "text/plain": [
       "3.8079122610723024*x2 + x3"
      ]
     },
     "metadata": {},
     "output_type": "display_data"
    },
    {
     "name": "stdout",
     "output_type": "stream",
     "text": [
      "Eq. 3 rmse: 0.358728840408263\n"
     ]
    },
    {
     "data": {
      "text/latex": [
       "$\\displaystyle 3.8079122610723024 x_{2} + 0.90998669308924616 x_{3}$"
      ],
      "text/plain": [
       "3.8079122610723024*x2 + 0.90998669308924616*x3"
      ]
     },
     "metadata": {},
     "output_type": "display_data"
    },
    {
     "name": "stdout",
     "output_type": "stream",
     "text": [
      "Eq. 4 rmse: 0.33263418291911967\n"
     ]
    },
    {
     "data": {
      "text/latex": [
       "$\\displaystyle 3.3450065820708011 x_{2} + e^{x_{3} - x_{6}}$"
      ],
      "text/plain": [
       "3.3450065820708011*x2 + exp(x3 - x6)"
      ]
     },
     "metadata": {},
     "output_type": "display_data"
    },
    {
     "name": "stdout",
     "output_type": "stream",
     "text": [
      "Eq. 5 rmse: 0.30731276961787096\n"
     ]
    },
    {
     "data": {
      "text/latex": [
       "$\\displaystyle 3.3450065820708011 x_{2} + x_{4}^{x_{3} - x_{6}}$"
      ],
      "text/plain": [
       "3.3450065820708011*x2 + x4**(x3 - x6)"
      ]
     },
     "metadata": {},
     "output_type": "display_data"
    },
    {
     "name": "stdout",
     "output_type": "stream",
     "text": [
      "Eq. 6 rmse: 0.3060579329375524\n"
     ]
    },
    {
     "data": {
      "text/latex": [
       "$\\displaystyle 3.363531175359864 x_{2} + x_{4}^{- x_{6} + \\tan{\\left(x_{3} \\right)}}$"
      ],
      "text/plain": [
       "3.363531175359864*x2 + x4**(-x6 + tan(x3))"
      ]
     },
     "metadata": {},
     "output_type": "display_data"
    },
    {
     "name": "stdout",
     "output_type": "stream",
     "text": [
      "Eq. 7 rmse: 0.30158099282586737\n"
     ]
    },
    {
     "data": {
      "text/latex": [
       "$\\displaystyle 3.3450065820708011 x_{2} + x_{4}^{x_{3} - x_{4} x_{6}}$"
      ],
      "text/plain": [
       "3.3450065820708011*x2 + x4**(x3 - x4*x6)"
      ]
     },
     "metadata": {},
     "output_type": "display_data"
    },
    {
     "name": "stdout",
     "output_type": "stream",
     "text": [
      "Eq. 8 rmse: 0.27724877959024424\n"
     ]
    },
    {
     "data": {
      "text/latex": [
       "$\\displaystyle 3.3411919783863189 x_{2} + 2.370831845825035 e^{x_{3} - 0.3576800618531443 x_{4}}$"
      ],
      "text/plain": [
       "3.3411919783863189*x2 + 2.370831845825035*exp(x3 - 0.3576800618531443*x4)"
      ]
     },
     "metadata": {},
     "output_type": "display_data"
    },
    {
     "name": "stdout",
     "output_type": "stream",
     "text": [
      "Eq. 9 rmse: 0.2649465309619873\n"
     ]
    },
    {
     "data": {
      "text/latex": [
       "$\\displaystyle 3.3411919783863189 x_{2} + 2.370831845825035 e^{- 0.3576800618531443 x_{4} + \\tan{\\left(x_{3} \\right)}}$"
      ],
      "text/plain": [
       "3.3411919783863189*x2 + 2.370831845825035*exp(-0.3576800618531443*x4 + tan(x3))"
      ]
     },
     "metadata": {},
     "output_type": "display_data"
    },
    {
     "name": "stdout",
     "output_type": "stream",
     "text": [
      "Eq. 10 rmse: 0.24170190810546727\n"
     ]
    },
    {
     "data": {
      "text/latex": [
       "$\\displaystyle 3.3411919783863189 x_{2} + 2.582623309093628 e^{x_{3} - 0.3576800618531443 x_{4} - x_{6}}$"
      ],
      "text/plain": [
       "3.3411919783863189*x2 + 2.582623309093628*exp(x3 - 0.3576800618531443*x4 - x6)"
      ]
     },
     "metadata": {},
     "output_type": "display_data"
    },
    {
     "name": "stdout",
     "output_type": "stream",
     "text": [
      "Eq. 11 rmse: 0.22360175103431873\n"
     ]
    },
    {
     "data": {
      "text/latex": [
       "$\\displaystyle 3.3575012552278884 x_{2} + 2.380004670990284 e^{x_{3} - 0.3569409133947311 x_{4}^{e^{x_{6}}}}$"
      ],
      "text/plain": [
       "3.3575012552278884*x2 + 2.380004670990284*exp(x3 - 0.3569409133947311*x4**exp(x6))"
      ]
     },
     "metadata": {},
     "output_type": "display_data"
    },
    {
     "name": "stdout",
     "output_type": "stream",
     "text": [
      "Eq. 12 rmse: 0.22340780255462167\n"
     ]
    },
    {
     "data": {
      "text/latex": [
       "$\\displaystyle 3.3575012552278884 x_{2} + 2.469007105199601 e^{x_{3} - 0.3720540057641495 x_{4}^{e^{x_{6}}}}$"
      ],
      "text/plain": [
       "3.3575012552278884*x2 + 2.469007105199601*exp(x3 - 0.3720540057641495*x4**exp(x6))"
      ]
     },
     "metadata": {},
     "output_type": "display_data"
    },
    {
     "name": "stdout",
     "output_type": "stream",
     "text": [
      "Eq. 13 rmse: 0.22169577087826264\n"
     ]
    },
    {
     "data": {
      "text/latex": [
       "$\\displaystyle 3.3575012552278884 x_{2} + 2.380004670990284 e^{x_{3} - 0.3569409133947311 x_{4}^{e^{0.7533951303404522 x_{6}}}}$"
      ],
      "text/plain": [
       "3.3575012552278884*x2 + 2.380004670990284*exp(x3 - 0.3569409133947311*x4**exp(0.7533951303404522*x6))"
      ]
     },
     "metadata": {},
     "output_type": "display_data"
    },
    {
     "name": "stdout",
     "output_type": "stream",
     "text": [
      "Eq. 14 rmse: 0.2213027595229533\n"
     ]
    },
    {
     "data": {
      "text/latex": [
       "$\\displaystyle 3.3575012552278884 x_{2} + 2.474172800855177 e^{x_{3} - 0.3729143623146252 x_{4}^{e^{0.7533951303404522 x_{6}}}}$"
      ],
      "text/plain": [
       "3.3575012552278884*x2 + 2.474172800855177*exp(x3 - 0.3729143623146252*x4**exp(0.7533951303404522*x6))"
      ]
     },
     "metadata": {},
     "output_type": "display_data"
    },
    {
     "name": "stdout",
     "output_type": "stream",
     "text": [
      "Eq. 15 rmse: 0.21932384335932611\n"
     ]
    },
    {
     "data": {
      "text/latex": [
       "$\\displaystyle 3.348676572483321 x_{2} + 2.1777015216594457 e^{- 0.29784054389940223 x_{4} e^{- x_{3} + x_{6}} + 0.5312203205170591 x_{6}}$"
      ],
      "text/plain": [
       "3.348676572483321*x2 + 2.1777015216594457*exp(-0.29784054389940223*x4*exp(-x3 + x6) + 0.5312203205170591*x6)"
      ]
     },
     "metadata": {},
     "output_type": "display_data"
    },
    {
     "name": "stdout",
     "output_type": "stream",
     "text": [
      "Eq. 16 rmse: 0.21700844536140315\n"
     ]
    },
    {
     "data": {
      "text/latex": [
       "$\\displaystyle 3.3411919783863189 x_{2} + 2.582623309093628 e^{0.3769792630934161 x_{1} x_{4} x_{6} + x_{3} - 0.3576800618531443 x_{4}}$"
      ],
      "text/plain": [
       "3.3411919783863189*x2 + 2.582623309093628*exp(0.3769792630934161*x1*x4*x6 + x3 - 0.3576800618531443*x4)"
      ]
     },
     "metadata": {},
     "output_type": "display_data"
    },
    {
     "name": "stdout",
     "output_type": "stream",
     "text": [
      "Eq. 17 rmse: 0.2064190196633671\n"
     ]
    },
    {
     "data": {
      "text/latex": [
       "$\\displaystyle 3.3575012552278884 x_{2} + e^{0.26465368504747044 x_{2} - 0.26465368504747044 x_{4} e^{- x_{3} + x_{6} \\left(- x_{1} - 0.12924245158020445\\right)} + x_{6}}$"
      ],
      "text/plain": [
       "3.3575012552278884*x2 + exp(0.26465368504747044*x2 - 0.26465368504747044*x4*exp(-x3 + x6*(-x1 - 0.12924245158020445)) + x6)"
      ]
     },
     "metadata": {},
     "output_type": "display_data"
    }
   ],
   "source": [
    "test_relation(df_purge[['M*_sph','Log_Avg_Rho_5kpc_approx','log_sigma0','log_B/T','logRho_soi_approx_new','Core', 'Pseudobulge']],\n",
    "             operator='adv',niterations=200)"
   ]
  },
  {
   "cell_type": "code",
   "execution_count": 32,
   "id": "bca38281",
   "metadata": {
    "scrolled": true
   },
   "outputs": [
    {
     "name": "stderr",
     "output_type": "stream",
     "text": [
      "/home/zj448/miniconda3/lib/python3.9/site-packages/pysr/sr.py:1257: UserWarning: Note: it looks like you are running in Jupyter. The progress bar will be turned off.\n",
      "  warnings.warn(\n"
     ]
    },
    {
     "name": "stdout",
     "output_type": "stream",
     "text": [
      "parameters:\n",
      "x 0 : log_sigma0\n",
      "x 1 : log_B/T\n",
      "x 2 : logRho_soi_approx_new\n",
      "x 3 : Core\n",
      "x 4 : Pseudobulge\n",
      "Eq. selected rmse: 0.23421199983822527\n"
     ]
    },
    {
     "data": {
      "text/latex": [
       "$\\displaystyle 2.2978645543004168 x_{0} + 0.4078045956034352 x_{1} - 0.4078045956034352 x_{2} + 0.4078045956034352 x_{3} - 0.4078045956034352 x_{4} + 4.202416964462668$"
      ],
      "text/plain": [
       "2.2978645543004168*x0 + 0.4078045956034352*x1 - 0.4078045956034352*x2 + 0.4078045956034352*x3 - 0.4078045956034352*x4 + 4.202416964462668"
      ]
     },
     "metadata": {},
     "output_type": "display_data"
    },
    {
     "name": "stdout",
     "output_type": "stream",
     "text": [
      "Eq. 0 rmse: 0.9296505481997017\n"
     ]
    },
    {
     "data": {
      "text/latex": [
       "$\\displaystyle 8.181178431409817$"
      ],
      "text/plain": [
       "8.181178431409817"
      ]
     },
     "metadata": {},
     "output_type": "display_data"
    },
    {
     "name": "stdout",
     "output_type": "stream",
     "text": [
      "Eq. 1 rmse: 0.4765506135258351\n"
     ]
    },
    {
     "data": {
      "text/latex": [
       "$\\displaystyle 3.6256121617242747 x_{0}$"
      ],
      "text/plain": [
       "3.6256121617242747*x0"
      ]
     },
     "metadata": {},
     "output_type": "display_data"
    },
    {
     "name": "stdout",
     "output_type": "stream",
     "text": [
      "Eq. 2 rmse: 0.39613149410474474\n"
     ]
    },
    {
     "data": {
      "text/latex": [
       "$\\displaystyle 3.7154509095015684 x_{0} - x_{4}$"
      ],
      "text/plain": [
       "3.7154509095015684*x0 - x4"
      ]
     },
     "metadata": {},
     "output_type": "display_data"
    },
    {
     "name": "stdout",
     "output_type": "stream",
     "text": [
      "Eq. 3 rmse: 0.39231488625092126\n"
     ]
    },
    {
     "data": {
      "text/latex": [
       "$\\displaystyle 0.5185126013590123 e^{x_{0}} + 3.13799446345587$"
      ],
      "text/plain": [
       "0.5185126013590123*exp(x0) + 3.13799446345587"
      ]
     },
     "metadata": {},
     "output_type": "display_data"
    },
    {
     "name": "stdout",
     "output_type": "stream",
     "text": [
      "Eq. 4 rmse: 0.36172940630811223\n"
     ]
    },
    {
     "data": {
      "text/latex": [
       "$\\displaystyle 3.7154509095015684 x_{0} + x_{1} + 0.16290915326896646$"
      ],
      "text/plain": [
       "3.7154509095015684*x0 + x1 + 0.16290915326896646"
      ]
     },
     "metadata": {},
     "output_type": "display_data"
    },
    {
     "name": "stdout",
     "output_type": "stream",
     "text": [
      "Eq. 5 rmse: 0.32602668090172265\n"
     ]
    },
    {
     "data": {
      "text/latex": [
       "$\\displaystyle - 0.49089130206006104 x_{4} + 0.49089130206006104 e^{x_{0}} + 3.5103539261115864$"
      ],
      "text/plain": [
       "-0.49089130206006104*x4 + 0.49089130206006104*exp(x0) + 3.5103539261115864"
      ]
     },
     "metadata": {},
     "output_type": "display_data"
    },
    {
     "name": "stdout",
     "output_type": "stream",
     "text": [
      "Eq. 6 rmse: 0.3233347085034503\n"
     ]
    },
    {
     "data": {
      "text/latex": [
       "$\\displaystyle 0.45480051123305204 x_{3} - 0.45480051123305204 x_{4} + 0.45480051123305204 e^{x_{0}} + 3.7569314394065625$"
      ],
      "text/plain": [
       "0.45480051123305204*x3 - 0.45480051123305204*x4 + 0.45480051123305204*exp(x0) + 3.7569314394065625"
      ]
     },
     "metadata": {},
     "output_type": "display_data"
    },
    {
     "name": "stdout",
     "output_type": "stream",
     "text": [
      "Eq. 7 rmse: 0.305036268832215\n"
     ]
    },
    {
     "data": {
      "text/latex": [
       "$\\displaystyle 0.4314796544809655 x_{0} - 0.4314796544809655 x_{2} - 0.4314796544809655 x_{4} + 0.4314796544809655 e^{x_{0}} + 4.166811203238406$"
      ],
      "text/plain": [
       "0.4314796544809655*x0 - 0.4314796544809655*x2 - 0.4314796544809655*x4 + 0.4314796544809655*exp(x0) + 4.166811203238406"
      ]
     },
     "metadata": {},
     "output_type": "display_data"
    },
    {
     "name": "stdout",
     "output_type": "stream",
     "text": [
      "Eq. 8 rmse: 0.2594387138629015\n"
     ]
    },
    {
     "data": {
      "text/latex": [
       "$\\displaystyle - 0.4316980622799462 x_{4} + 0.4316980622799462 e^{x_{0}} + 4.095090615945564 + \\frac{0.4316980622799462 \\left(x_{0} - x_{2}\\right)}{x_{2}}$"
      ],
      "text/plain": [
       "-0.4316980622799462*x4 + 0.4316980622799462*exp(x0) + 4.095090615945564 + 0.4316980622799462*(x0 - x2)/x2"
      ]
     },
     "metadata": {},
     "output_type": "display_data"
    },
    {
     "name": "stdout",
     "output_type": "stream",
     "text": [
      "Eq. 9 rmse: 0.2589301407414759\n"
     ]
    },
    {
     "data": {
      "text/latex": [
       "$\\displaystyle - 0.4314796544809655 x_{4} + 0.4314796544809655 e^{x_{0}} + 4.161716863232293 + \\frac{0.4314796544809655 \\left(x_{0} - x_{2}\\right)}{2.2693812523115895 - x_{3}}$"
      ],
      "text/plain": [
       "-0.4314796544809655*x4 + 0.4314796544809655*exp(x0) + 4.161716863232293 + 0.4314796544809655*(x0 - x2)/(2.2693812523115895 - x3)"
      ]
     },
     "metadata": {},
     "output_type": "display_data"
    },
    {
     "name": "stdout",
     "output_type": "stream",
     "text": [
      "Eq. 10 rmse: 0.23421199983822527\n"
     ]
    },
    {
     "data": {
      "text/latex": [
       "$\\displaystyle 2.2978645543004168 x_{0} + 0.4078045956034352 x_{1} - 0.4078045956034352 x_{2} + 0.4078045956034352 x_{3} - 0.4078045956034352 x_{4} + 4.202416964462668$"
      ],
      "text/plain": [
       "2.2978645543004168*x0 + 0.4078045956034352*x1 - 0.4078045956034352*x2 + 0.4078045956034352*x3 - 0.4078045956034352*x4 + 4.202416964462668"
      ]
     },
     "metadata": {},
     "output_type": "display_data"
    },
    {
     "name": "stdout",
     "output_type": "stream",
     "text": [
      "Eq. 11 rmse: 0.2303290747156534\n"
     ]
    },
    {
     "data": {
      "text/latex": [
       "$\\displaystyle 2.3134153755996171 x_{0} + 0.41056441727323434 x_{1} - 0.41056441727323434 x_{2} + 0.41056441727323434 x_{3} - 0.41056441727323434 x_{4} + 4.200652686630097$"
      ],
      "text/plain": [
       "2.3134153755996171*x0 + 0.41056441727323434*x1 - 0.41056441727323434*x2 + 0.41056441727323434*x3 - 0.41056441727323434*x4 + 4.200652686630097"
      ]
     },
     "metadata": {},
     "output_type": "display_data"
    },
    {
     "name": "stdout",
     "output_type": "stream",
     "text": [
      "Eq. 12 rmse: 0.22955774335765486\n"
     ]
    },
    {
     "data": {
      "text/latex": [
       "$\\displaystyle 2.3134153755996171 x_{0} + 0.41056441727323434 x_{1} - 0.41056441727323434 x_{2} + 0.41056441727323434 x_{3} \\left(x_{3} + x_{4}\\right) - 0.41056441727323434 x_{4} + 4.2151902230018423$"
      ],
      "text/plain": [
       "2.3134153755996171*x0 + 0.41056441727323434*x1 - 0.41056441727323434*x2 + 0.41056441727323434*x3*(x3 + x4) - 0.41056441727323434*x4 + 4.2151902230018423"
      ]
     },
     "metadata": {},
     "output_type": "display_data"
    }
   ],
   "source": [
    "test_relation(df_purge[['log_sigma0','log_B/T','logRho_soi_approx_new','Core', 'Pseudobulge']],\n",
    "             operator='adv',ncyclesperiteration=250)"
   ]
  },
  {
   "cell_type": "code",
   "execution_count": 34,
   "id": "3012dea6",
   "metadata": {
    "scrolled": true
   },
   "outputs": [
    {
     "name": "stderr",
     "output_type": "stream",
     "text": [
      "/home/zj448/miniconda3/lib/python3.9/site-packages/pysr/sr.py:1257: UserWarning: Note: it looks like you are running in Jupyter. The progress bar will be turned off.\n",
      "  warnings.warn(\n"
     ]
    },
    {
     "name": "stdout",
     "output_type": "stream",
     "text": [
      "parameters:\n",
      "x 0 : log_sigma0\n",
      "x 1 : log_B/T\n",
      "x 2 : logRho_soi_approx_new\n",
      "x 3 : Core\n",
      "x 4 : Pseudobulge\n",
      "Eq. selected rmse: 0.22999263657527316\n"
     ]
    },
    {
     "data": {
      "text/latex": [
       "$\\displaystyle 3 x_{0} + 0.45036609738366484 x_{1} - 0.45036609738366484 x_{2} - 0.45036609738366484 x_{4} + 2.8974368343218635$"
      ],
      "text/plain": [
       "3*x0 + 0.45036609738366484*x1 - 0.45036609738366484*x2 - 0.45036609738366484*x4 + 2.8974368343218635"
      ]
     },
     "metadata": {},
     "output_type": "display_data"
    },
    {
     "name": "stdout",
     "output_type": "stream",
     "text": [
      "Eq. 0 rmse: 0.9296505481997018\n"
     ]
    },
    {
     "data": {
      "text/latex": [
       "$\\displaystyle 8.181178431412055$"
      ],
      "text/plain": [
       "8.181178431412055"
      ]
     },
     "metadata": {},
     "output_type": "display_data"
    },
    {
     "name": "stdout",
     "output_type": "stream",
     "text": [
      "Eq. 1 rmse: 0.6324056142214991\n"
     ]
    },
    {
     "data": {
      "text/latex": [
       "$\\displaystyle x_{3} + 7.944129209239267$"
      ],
      "text/plain": [
       "x3 + 7.944129209239267"
      ]
     },
     "metadata": {},
     "output_type": "display_data"
    },
    {
     "name": "stdout",
     "output_type": "stream",
     "text": [
      "Eq. 2 rmse: 0.399913094988087\n"
     ]
    },
    {
     "data": {
      "text/latex": [
       "$\\displaystyle 3.469365102138801 x_{0} + x_{3}$"
      ],
      "text/plain": [
       "3.469365102138801*x0 + x3"
      ]
     },
     "metadata": {},
     "output_type": "display_data"
    },
    {
     "name": "stdout",
     "output_type": "stream",
     "text": [
      "Eq. 3 rmse: 0.37515085660109987\n"
     ]
    },
    {
     "data": {
      "text/latex": [
       "$\\displaystyle 19.03048073107745 + \\frac{- x_{4} - 24.189673138020282}{x_{0}}$"
      ],
      "text/plain": [
       "19.03048073107745 + (-x4 - 24.189673138020282)/x0"
      ]
     },
     "metadata": {},
     "output_type": "display_data"
    },
    {
     "name": "stdout",
     "output_type": "stream",
     "text": [
      "Eq. 4 rmse: 0.310670031305724\n"
     ]
    },
    {
     "data": {
      "text/latex": [
       "$\\displaystyle 3.43522057706604 x_{0} - x_{4} + \\frac{1.596457055671892}{x_{2}}$"
      ],
      "text/plain": [
       "3.43522057706604*x0 - x4 + 1.596457055671892/x2"
      ]
     },
     "metadata": {},
     "output_type": "display_data"
    },
    {
     "name": "stdout",
     "output_type": "stream",
     "text": [
      "Eq. 5 rmse: 0.2839389157429594\n"
     ]
    },
    {
     "data": {
      "text/latex": [
       "$\\displaystyle 3.43522057706604 x_{0} - 0.5778588361308057 x_{4} + \\frac{1.2093566743965893}{x_{2}}$"
      ],
      "text/plain": [
       "3.43522057706604*x0 - 0.5778588361308057*x4 + 1.2093566743965893/x2"
      ]
     },
     "metadata": {},
     "output_type": "display_data"
    },
    {
     "name": "stdout",
     "output_type": "stream",
     "text": [
      "Eq. 6 rmse: 0.2677723977738523\n"
     ]
    },
    {
     "data": {
      "text/latex": [
       "$\\displaystyle 2 x_{0} + x_{1} - 0.499934640735076 x_{2} + 5.4344291078920195$"
      ],
      "text/plain": [
       "2*x0 + x1 - 0.499934640735076*x2 + 5.4344291078920195"
      ]
     },
     "metadata": {},
     "output_type": "display_data"
    },
    {
     "name": "stdout",
     "output_type": "stream",
     "text": [
      "Eq. 7 rmse: 0.24959986958810024\n"
     ]
    },
    {
     "data": {
      "text/latex": [
       "$\\displaystyle 3 x_{0} + x_{1} - 0.38909088163056715 x_{2} + 2.8751857071725439$"
      ],
      "text/plain": [
       "3*x0 + x1 - 0.38909088163056715*x2 + 2.8751857071725439"
      ]
     },
     "metadata": {},
     "output_type": "display_data"
    },
    {
     "name": "stdout",
     "output_type": "stream",
     "text": [
      "Eq. 8 rmse: 0.22999263657527316\n"
     ]
    },
    {
     "data": {
      "text/latex": [
       "$\\displaystyle 3 x_{0} + 0.45036609738366484 x_{1} - 0.45036609738366484 x_{2} - 0.45036609738366484 x_{4} + 2.8974368343218635$"
      ],
      "text/plain": [
       "3*x0 + 0.45036609738366484*x1 - 0.45036609738366484*x2 - 0.45036609738366484*x4 + 2.8974368343218635"
      ]
     },
     "metadata": {},
     "output_type": "display_data"
    },
    {
     "name": "stdout",
     "output_type": "stream",
     "text": [
      "Eq. 9 rmse: 0.22507085677100835\n"
     ]
    },
    {
     "data": {
      "text/latex": [
       "$\\displaystyle 2 x_{0} + x_{1} - 0.3982363179392919 x_{2} + 0.24187780562356723 x_{3} - 0.24187780562356723 x_{4} + 5.1548608691149145$"
      ],
      "text/plain": [
       "2*x0 + x1 - 0.3982363179392919*x2 + 0.24187780562356723*x3 - 0.24187780562356723*x4 + 5.1548608691149145"
      ]
     },
     "metadata": {},
     "output_type": "display_data"
    },
    {
     "name": "stdout",
     "output_type": "stream",
     "text": [
      "Eq. 10 rmse: 0.22507085677100835\n"
     ]
    },
    {
     "data": {
      "text/latex": [
       "$\\displaystyle 2 x_{0} + x_{1} - 0.3982363186822455 x_{2} + 0.24187780523250582 x_{3} - 0.24187780523250582 x_{4} + 5.1548608711998768$"
      ],
      "text/plain": [
       "2*x0 + x1 - 0.3982363186822455*x2 + 0.24187780523250582*x3 - 0.24187780523250582*x4 + 5.1548608711998768"
      ]
     },
     "metadata": {},
     "output_type": "display_data"
    }
   ],
   "source": [
    "test_relation(df_purge[['log_sigma0','log_B/T','logRho_soi_approx_new','Core', 'Pseudobulge']],\n",
    "             operator='basic',ncyclesperiteration=250,niterations=100,adaptive_parsimony_scaling=100)"
   ]
  },
  {
   "cell_type": "code",
   "execution_count": 35,
   "id": "26d885e7",
   "metadata": {
    "scrolled": true
   },
   "outputs": [
    {
     "name": "stderr",
     "output_type": "stream",
     "text": [
      "/home/zj448/miniconda3/lib/python3.9/site-packages/pysr/sr.py:1257: UserWarning: Note: it looks like you are running in Jupyter. The progress bar will be turned off.\n",
      "  warnings.warn(\n"
     ]
    },
    {
     "name": "stdout",
     "output_type": "stream",
     "text": [
      "parameters:\n",
      "x 0 : log_sigma0\n",
      "x 1 : log_B/T\n",
      "x 2 : logRho_soi_approx_new\n",
      "x 3 : Core\n",
      "x 4 : Pseudobulge\n",
      "Eq. selected rmse: 0.26167903727757846\n"
     ]
    },
    {
     "data": {
      "text/latex": [
       "$\\displaystyle x_{1} + 14.72703587576388 + \\frac{- x_{2} - 11.042868830170292}{x_{0}}$"
      ],
      "text/plain": [
       "x1 + 14.72703587576388 + (-x2 - 11.042868830170292)/x0"
      ]
     },
     "metadata": {},
     "output_type": "display_data"
    },
    {
     "name": "stdout",
     "output_type": "stream",
     "text": [
      "Eq. 0 rmse: 0.9296505481997018\n"
     ]
    },
    {
     "data": {
      "text/latex": [
       "$\\displaystyle 8.181178431412953$"
      ],
      "text/plain": [
       "8.181178431412953"
      ]
     },
     "metadata": {},
     "output_type": "display_data"
    },
    {
     "name": "stdout",
     "output_type": "stream",
     "text": [
      "Eq. 1 rmse: 0.4765506135258349\n"
     ]
    },
    {
     "data": {
      "text/latex": [
       "$\\displaystyle 3.625612161721568 x_{0}$"
      ],
      "text/plain": [
       "3.625612161721568*x0"
      ]
     },
     "metadata": {},
     "output_type": "display_data"
    },
    {
     "name": "stdout",
     "output_type": "stream",
     "text": [
      "Eq. 2 rmse: 0.3887100487180165\n"
     ]
    },
    {
     "data": {
      "text/latex": [
       "$\\displaystyle 3.5108233524046484 x_{0} + x_{3}$"
      ],
      "text/plain": [
       "3.5108233524046484*x0 + x3"
      ]
     },
     "metadata": {},
     "output_type": "display_data"
    },
    {
     "name": "stdout",
     "output_type": "stream",
     "text": [
      "Eq. 3 rmse: 0.34062007667426586\n"
     ]
    },
    {
     "data": {
      "text/latex": [
       "$\\displaystyle - 1.2259675652658388^{x_{2}} + 4.40011899729142 x_{0}$"
      ],
      "text/plain": [
       "-1.2259675652658388**x2 + 4.40011899729142*x0"
      ]
     },
     "metadata": {},
     "output_type": "display_data"
    },
    {
     "name": "stdout",
     "output_type": "stream",
     "text": [
      "Eq. 4 rmse: 0.26167903727757846\n"
     ]
    },
    {
     "data": {
      "text/latex": [
       "$\\displaystyle x_{1} + 14.72703587576388 + \\frac{- x_{2} - 11.042868830170292}{x_{0}}$"
      ],
      "text/plain": [
       "x1 + 14.72703587576388 + (-x2 - 11.042868830170292)/x0"
      ]
     },
     "metadata": {},
     "output_type": "display_data"
    },
    {
     "name": "stdout",
     "output_type": "stream",
     "text": [
      "Eq. 5 rmse: 0.25915470315665246\n"
     ]
    },
    {
     "data": {
      "text/latex": [
       "$\\displaystyle x_{1} + 14.72703587576388 + \\frac{- x_{2} - x_{4} - 10.951633846596025}{x_{0}}$"
      ],
      "text/plain": [
       "x1 + 14.72703587576388 + (-x2 - x4 - 10.951633846596025)/x0"
      ]
     },
     "metadata": {},
     "output_type": "display_data"
    },
    {
     "name": "stdout",
     "output_type": "stream",
     "text": [
      "Eq. 6 rmse: 0.2425035707469245\n"
     ]
    },
    {
     "data": {
      "text/latex": [
       "$\\displaystyle 0.86220434230655898 x_{1} + 14.72703587576388 + \\frac{- x_{2} - x_{4} - 10.951633846596025}{x_{0}}$"
      ],
      "text/plain": [
       "0.86220434230655898*x1 + 14.72703587576388 + (-x2 - x4 - 10.951633846596025)/x0"
      ]
     },
     "metadata": {},
     "output_type": "display_data"
    },
    {
     "name": "stdout",
     "output_type": "stream",
     "text": [
      "Eq. 7 rmse: 0.23042340288661897\n"
     ]
    },
    {
     "data": {
      "text/latex": [
       "$\\displaystyle 2 x_{0} - 0.3712062911359195 x_{4} + 5.0465004790320043 + \\frac{x_{1} - x_{2} + x_{3}}{x_{0}}$"
      ],
      "text/plain": [
       "2*x0 - 0.3712062911359195*x4 + 5.0465004790320043 + (x1 - x2 + x3)/x0"
      ]
     },
     "metadata": {},
     "output_type": "display_data"
    },
    {
     "name": "stdout",
     "output_type": "stream",
     "text": [
      "Eq. 8 rmse: 0.22759742011133824\n"
     ]
    },
    {
     "data": {
      "text/latex": [
       "$\\displaystyle 2 x_{0} - \\frac{x_{4}}{x_{2} + 0.8612331526281222} + 5.32253768283753 + \\frac{2 x_{1} - x_{2}}{x_{0}}$"
      ],
      "text/plain": [
       "2*x0 - x4/(x2 + 0.8612331526281222) + 5.32253768283753 + (2*x1 - x2)/x0"
      ]
     },
     "metadata": {},
     "output_type": "display_data"
    }
   ],
   "source": [
    "test_relation(df_purge[['log_sigma0','log_B/T','logRho_soi_approx_new','Core', 'Pseudobulge']],\n",
    "             operator='simp',ncyclesperiteration=250,niterations=100,adaptive_parsimony_scaling=100)"
   ]
  },
  {
   "cell_type": "code",
   "execution_count": 36,
   "id": "cfc3daac",
   "metadata": {
    "scrolled": true
   },
   "outputs": [
    {
     "name": "stderr",
     "output_type": "stream",
     "text": [
      "/home/zj448/miniconda3/lib/python3.9/site-packages/pysr/sr.py:1257: UserWarning: Note: it looks like you are running in Jupyter. The progress bar will be turned off.\n",
      "  warnings.warn(\n"
     ]
    },
    {
     "name": "stdout",
     "output_type": "stream",
     "text": [
      "parameters:\n",
      "x 0 : log_sigma0\n",
      "x 1 : log_B/T\n",
      "x 2 : logRho_soi_approx_new\n",
      "x 3 : Core\n",
      "x 4 : Pseudobulge\n",
      "Eq. selected rmse: 0.2616790372775785\n"
     ]
    },
    {
     "data": {
      "text/latex": [
       "$\\displaystyle x_{1} + 13.727035741191955 - \\frac{- x_{0} + x_{2} + 11.04286852748284}{x_{0}}$"
      ],
      "text/plain": [
       "x1 + 13.727035741191955 - (-x0 + x2 + 11.04286852748284)/x0"
      ]
     },
     "metadata": {},
     "output_type": "display_data"
    },
    {
     "name": "stdout",
     "output_type": "stream",
     "text": [
      "Eq. 0 rmse: 0.9296505481997018\n"
     ]
    },
    {
     "data": {
      "text/latex": [
       "$\\displaystyle 8.181178431412174$"
      ],
      "text/plain": [
       "8.181178431412174"
      ]
     },
     "metadata": {},
     "output_type": "display_data"
    },
    {
     "name": "stdout",
     "output_type": "stream",
     "text": [
      "Eq. 1 rmse: 0.6324056142214991\n"
     ]
    },
    {
     "data": {
      "text/latex": [
       "$\\displaystyle x_{3} + 7.944129203545642$"
      ],
      "text/plain": [
       "x3 + 7.944129203545642"
      ]
     },
     "metadata": {},
     "output_type": "display_data"
    },
    {
     "name": "stdout",
     "output_type": "stream",
     "text": [
      "Eq. 2 rmse: 0.5381863615750453\n"
     ]
    },
    {
     "data": {
      "text/latex": [
       "$\\displaystyle e^{x_{3}} + 6.773861060502893$"
      ],
      "text/plain": [
       "exp(x3) + 6.773861060502893"
      ]
     },
     "metadata": {},
     "output_type": "display_data"
    },
    {
     "name": "stdout",
     "output_type": "stream",
     "text": [
      "Eq. 3 rmse: 0.4095510314861144\n"
     ]
    },
    {
     "data": {
      "text/latex": [
       "$\\displaystyle 5.115106160697113 x_{0} - 3.3857752324480397$"
      ],
      "text/plain": [
       "5.115106160697113*x0 - 3.3857752324480397"
      ]
     },
     "metadata": {},
     "output_type": "display_data"
    },
    {
     "name": "stdout",
     "output_type": "stream",
     "text": [
      "Eq. 4 rmse: 0.3673740510828007\n"
     ]
    },
    {
     "data": {
      "text/latex": [
       "$\\displaystyle 17.663961081514405 - \\frac{x_{2} + 18.622444224148662}{x_{0}}$"
      ],
      "text/plain": [
       "17.663961081514405 - (x2 + 18.622444224148662)/x0"
      ]
     },
     "metadata": {},
     "output_type": "display_data"
    },
    {
     "name": "stdout",
     "output_type": "stream",
     "text": [
      "Eq. 5 rmse: 0.2951987900175993\n"
     ]
    },
    {
     "data": {
      "text/latex": [
       "$\\displaystyle 17.663961081514405 - \\frac{x_{2} + x_{4} + 18.43304229632076}{x_{0}}$"
      ],
      "text/plain": [
       "17.663961081514405 - (x2 + x4 + 18.43304229632076)/x0"
      ]
     },
     "metadata": {},
     "output_type": "display_data"
    },
    {
     "name": "stdout",
     "output_type": "stream",
     "text": [
      "Eq. 6 rmse: 0.2616790372775785\n"
     ]
    },
    {
     "data": {
      "text/latex": [
       "$\\displaystyle x_{1} + 13.727035741191955 - \\frac{- x_{0} + x_{2} + 11.04286852748284}{x_{0}}$"
      ],
      "text/plain": [
       "x1 + 13.727035741191955 - (-x0 + x2 + 11.04286852748284)/x0"
      ]
     },
     "metadata": {},
     "output_type": "display_data"
    },
    {
     "name": "stdout",
     "output_type": "stream",
     "text": [
      "Eq. 7 rmse: 0.2475188919405939\n"
     ]
    },
    {
     "data": {
      "text/latex": [
       "$\\displaystyle x_{1} + 12.054610379742586 - \\frac{x_{2} + \\frac{x_{4} + 10.972572375253874}{x_{0}}}{x_{0}}$"
      ],
      "text/plain": [
       "x1 + 12.054610379742586 - (x2 + (x4 + 10.972572375253874)/x0)/x0"
      ]
     },
     "metadata": {},
     "output_type": "display_data"
    },
    {
     "name": "stdout",
     "output_type": "stream",
     "text": [
      "Eq. 8 rmse: 0.2344157486061987\n"
     ]
    },
    {
     "data": {
      "text/latex": [
       "$\\displaystyle x_{0} + x_{1} - 0.26380008856189247 x_{4} + 9.933277787708745 - \\frac{x_{2} + 5.220345966952752}{x_{0}}$"
      ],
      "text/plain": [
       "x0 + x1 - 0.26380008856189247*x4 + 9.933277787708745 - (x2 + 5.220345966952752)/x0"
      ]
     },
     "metadata": {},
     "output_type": "display_data"
    },
    {
     "name": "stdout",
     "output_type": "stream",
     "text": [
      "Eq. 9 rmse: 0.2299686710631328\n"
     ]
    },
    {
     "data": {
      "text/latex": [
       "$\\displaystyle \\frac{x_{1}}{x_{2}} + 13.229976351870508 - \\frac{- x_{0} + x_{2} - x_{3} + x_{4} + 10.535612406655362}{x_{0}}$"
      ],
      "text/plain": [
       "x1/x2 + 13.229976351870508 - (-x0 + x2 - x3 + x4 + 10.535612406655362)/x0"
      ]
     },
     "metadata": {},
     "output_type": "display_data"
    },
    {
     "name": "stdout",
     "output_type": "stream",
     "text": [
      "Eq. 10 rmse: 0.22358154341628636\n"
     ]
    },
    {
     "data": {
      "text/latex": [
       "$\\displaystyle \\frac{x_{1}}{x_{2} - 0.6636668829220949} + 13.214766663716457 - \\frac{- x_{0} + x_{2} - x_{3} + x_{4} + 10.503587013308733}{x_{0}}$"
      ],
      "text/plain": [
       "x1/(x2 - 0.6636668829220949) + 13.214766663716457 - (-x0 + x2 - x3 + x4 + 10.503587013308733)/x0"
      ]
     },
     "metadata": {},
     "output_type": "display_data"
    },
    {
     "name": "stdout",
     "output_type": "stream",
     "text": [
      "Eq. 11 rmse: 0.21787724768079825\n"
     ]
    },
    {
     "data": {
      "text/latex": [
       "$\\displaystyle \\frac{x_{1}}{x_{1} + x_{2} + x_{4}} + 12.962124954658385 - \\frac{- x_{0} + x_{2} - x_{3} + x_{4} + 9.878435903896504}{x_{0}}$"
      ],
      "text/plain": [
       "x1/(x1 + x2 + x4) + 12.962124954658385 - (-x0 + x2 - x3 + x4 + 9.878435903896504)/x0"
      ]
     },
     "metadata": {},
     "output_type": "display_data"
    }
   ],
   "source": [
    "test_relation(df_purge[['log_sigma0','log_B/T','logRho_soi_approx_new','Core', 'Pseudobulge']],\n",
    "             operator='adv',ncyclesperiteration=250,niterations=100,adaptive_parsimony_scaling=100)"
   ]
  },
  {
   "cell_type": "code",
   "execution_count": null,
   "id": "2d9b5070",
   "metadata": {},
   "outputs": [],
   "source": []
  }
 ],
 "metadata": {
  "kernelspec": {
   "display_name": "Python 3 (ipykernel)",
   "language": "python",
   "name": "python3"
  },
  "language_info": {
   "codemirror_mode": {
    "name": "ipython",
    "version": 3
   },
   "file_extension": ".py",
   "mimetype": "text/x-python",
   "name": "python",
   "nbconvert_exporter": "python",
   "pygments_lexer": "ipython3",
   "version": "3.9.5"
  }
 },
 "nbformat": 4,
 "nbformat_minor": 5
}
