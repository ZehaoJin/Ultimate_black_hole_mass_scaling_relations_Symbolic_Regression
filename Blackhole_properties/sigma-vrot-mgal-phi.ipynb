{
 "cells": [
  {
   "cell_type": "code",
   "execution_count": 1,
   "id": "64b9ee7d",
   "metadata": {},
   "outputs": [],
   "source": [
    "import numpy as np\n",
    "import pandas as pd\n",
    "from pysr import PySRRegressor\n",
    "from IPython.display import HTML\n",
    "from matplotlib import pyplot as plt\n",
    "\n",
    "from hyperfit.linfit import LinFit"
   ]
  },
  {
   "cell_type": "code",
   "execution_count": 2,
   "id": "51d84132",
   "metadata": {},
   "outputs": [],
   "source": [
    "df = pd.read_csv('SMBH_Data_0407.csv',header=1)"
   ]
  },
  {
   "cell_type": "code",
   "execution_count": 13,
   "id": "d6e0efb2",
   "metadata": {},
   "outputs": [],
   "source": [
    "## useful functions\n",
    "def x2name(feature_list,df_handson):\n",
    "    for ind in feature_list:\n",
    "        i=int(ind[1:])\n",
    "        print('x',i,':',df_handson.columns[i])\n",
    "\n",
    "def df2name(df):\n",
    "    for i in range(len(df.columns)):\n",
    "        print('x',i,':',df.columns[i])\n",
    "        \n",
    "def test_relation(paras,obs=pd.read_csv('SMBH_Data_0303.csv',header=1),\n",
    "                  operator='simp',ncyclesperiteration=550,niterations=40,denoise=False,adaptive_parsimony_scaling=20,\n",
    "                  verbosity=0,colname=False):\n",
    "    \n",
    "    if paras[-1]!='M_BH':\n",
    "        paras.append('M_BH')\n",
    "        \n",
    "    paras.append('M_BH_std')\n",
    "    \n",
    "    obs = obs[paras].dropna(axis='index',how='any')\n",
    "    print(len(obs))\n",
    "    \n",
    "    \n",
    "    y = obs['M_BH'].to_numpy()\n",
    "    w = 1/obs['M_BH_std'].to_numpy()**2\n",
    "\n",
    "    #df_handson = df\n",
    "    if colname:\n",
    "        X = obs.iloc[:,:-2]\n",
    "    else:\n",
    "        X = obs.iloc[:,:-2].to_numpy()\n",
    "        #X = df_handson\n",
    "\n",
    "    if operator=='adv':\n",
    "        model = PySRRegressor(\n",
    "            binary_operators=[\"+\", \"-\", \"*\", \"/\",\"pow\"],\n",
    "            unary_operators=[\"exp\",\"log10\"],\n",
    "            warm_start=False,\n",
    "            denoise=denoise,\n",
    "            niterations=niterations,\n",
    "            ncyclesperiteration=ncyclesperiteration,\n",
    "            adaptive_parsimony_scaling=adaptive_parsimony_scaling,\n",
    "            verbosity=verbosity,\n",
    "            precision=64,\n",
    "        )\n",
    "    if operator=='simp':\n",
    "        model = PySRRegressor(\n",
    "            binary_operators=[\"+\", \"-\", \"*\", \"/\", \"pow\"],\n",
    "            warm_start=False,\n",
    "            denoise=denoise,\n",
    "            niterations=niterations,\n",
    "            ncyclesperiteration=ncyclesperiteration,\n",
    "            adaptive_parsimony_scaling=adaptive_parsimony_scaling,\n",
    "            verbosity=verbosity,\n",
    "            precision=64,\n",
    "        )\n",
    "        \n",
    "    if operator=='basic':\n",
    "        model = PySRRegressor(\n",
    "            binary_operators=[\"+\", \"-\", \"*\", \"/\"],\n",
    "            warm_start=False,\n",
    "            denoise=denoise,\n",
    "            niterations=niterations,\n",
    "            ncyclesperiteration=ncyclesperiteration,\n",
    "            adaptive_parsimony_scaling=adaptive_parsimony_scaling,\n",
    "            verbosity=verbosity,\n",
    "            precision=64,\n",
    "        )\n",
    "\n",
    "\n",
    "\n",
    "    model.fit(X=X, y=y, weights=w)\n",
    "\n",
    "    print('parameters:')\n",
    "    df2name(obs.iloc[:,:-2])\n",
    "    \n",
    "    print('Eq. selected rmse:',wrmse(y,model.predict(X),w))\n",
    "    display(model.sympy())\n",
    "    \n",
    "    for i in range(len(model.equations_)):\n",
    "        print('Eq.',i,'rmse:',wrmse(y,model.predict(X,index=i),w))\n",
    "        display(model.sympy(index=i))"
   ]
  },
  {
   "cell_type": "code",
   "execution_count": 160,
   "id": "ea5cc679",
   "metadata": {},
   "outputs": [],
   "source": [
    "def rmse(y,y_pred):\n",
    "    return np.sqrt(np.average((y-y_pred)**2))\n",
    "\n",
    "def wrmse(y,y_pred,w):\n",
    "    return np.sqrt(np.average((y-y_pred)**2,weights=w))"
   ]
  },
  {
   "cell_type": "code",
   "execution_count": 138,
   "id": "f2c09f6d",
   "metadata": {},
   "outputs": [],
   "source": [
    "def scatter_residual(x, y, xerr, fmt, alpha, label, ax, ax_histx, bins=12):\n",
    "    # no labels\n",
    "    ax_histx.tick_params(axis=\"x\", labelbottom=False)\n",
    "    # the scatter plot:\n",
    "    ax.errorbar(x,y,xerr=xerr,fmt=fmt,ecolor='grey',capsize=3, alpha=alpha,label=label)\n",
    "\n",
    "    # x hist\n",
    "    residual=y-x\n",
    "    _,edges=np.histogram(x,bins)\n",
    "    hist, _ = np.histogram(x, bins=edges, weights=residual)\n",
    "    ax_histx.stairs(hist,edges,lw=3,alpha=alpha)"
   ]
  },
  {
   "cell_type": "code",
   "execution_count": 168,
   "id": "bfa5d5b7",
   "metadata": {},
   "outputs": [],
   "source": [
    "def plot_relation(paras,relation,obs=pd.read_csv('SMBH_Data_0303.csv',header=1),label='new relation',labelamp=0.8):\n",
    "    if paras[-1]!='M_BH':\n",
    "        paras.append('M_BH')\n",
    "        \n",
    "    paras.append('M_BH_std')\n",
    "    \n",
    "    offset=0\n",
    "    if np.isin(paras,'log_sigma0').sum()==0:\n",
    "        paras.append('log_sigma0')\n",
    "        offset=1\n",
    "    \n",
    "    obs = obs[paras].dropna(axis='index',how='any')\n",
    "    \n",
    "    print(len(obs))\n",
    "    \n",
    "    y=obs['M_BH'].to_numpy()\n",
    "    yerr=obs['M_BH_std'].to_numpy()\n",
    "    \n",
    "    x=[]\n",
    "    for i in range(len(paras)-(2+offset)):\n",
    "        x.append(obs.iloc[:,i].to_numpy())\n",
    "    \n",
    "    y_pred=relation(*x)\n",
    "    \n",
    "    \n",
    "    # Start with a square Figure.\n",
    "    fig = plt.figure(figsize=(12,10))\n",
    "    fs=20\n",
    "    bins=8\n",
    "    # Add a gridspec\n",
    "    gs = fig.add_gridspec(2, 1,  height_ratios=(1, 4),\n",
    "                      left=0.1, right=0.9, bottom=0.1, top=0.9,\n",
    "                      wspace=0.05, hspace=0.05)\n",
    "    # Create the Axes.\n",
    "    ax = fig.add_subplot(gs[1, 0])\n",
    "    ax_histx = fig.add_subplot(gs[0, 0], sharex=ax)\n",
    "    # Draw the f(x)=x line\n",
    "    minrange=np.array([y.min(),y_pred.min()]).min()\n",
    "    maxrange=np.array([y.max(),y_pred.max()]).max()\n",
    "    ax.plot(np.linspace(minrange,maxrange),np.linspace(minrange,maxrange),label='f(x)=x',c='r',ls='--')\n",
    "    ax_histx.plot(np.linspace(minrange,maxrange),np.zeros(len(np.linspace(minrange,maxrange))),c='r',ls='--')\n",
    "    # Draw the scatter plot and marginals.\n",
    "    ## new relation\n",
    "    scatter_residual(y,y_pred,yerr,'o',0.8,label,\n",
    "                     ax, ax_histx,bins=bins)\n",
    "    ## m-sigma relation\n",
    "    y_pred_msigma=m_sigma_relation(obs['log_sigma0'])\n",
    "    y_msigma=obs['M_BH']\n",
    "    yerr_msigma=obs['M_BH_std']\n",
    "    scatter_residual(y_msigma,y_pred_msigma,yerr_msigma,'s',0.5,r'$m-\\sigma$ relation',\n",
    "                    ax, ax_histx,bins=bins)\n",
    "        \n",
    "    ax.set_xlabel(r'True $\\rm{log} M_{BH}[M_\\odot]$',fontsize=fs)\n",
    "    ax.set_ylabel(r'Predicted $\\rm{log} M_{BH}[M_\\odot]$',fontsize=fs)\n",
    "    ax.legend(fontsize=fs*labelamp)\n",
    "    plt.show()\n",
    "\n",
    "    w = 1/yerr**2\n",
    "    #print('obs rmse:',rmse(y,y_pred))\n",
    "    print('new relation wrmse:',wrmse(y,y_pred,w))\n",
    "    print('m-sigma wrmse:',wrmse(y_msigma,y_pred_msigma,1/yerr_msigma**2))"
   ]
  },
  {
   "cell_type": "code",
   "execution_count": 57,
   "id": "61312d0a",
   "metadata": {},
   "outputs": [
    {
     "data": {
      "text/plain": [
       "-5.221994574764372"
      ]
     },
     "execution_count": 57,
     "metadata": {},
     "output_type": "execute_result"
    }
   ],
   "source": [
    "8.17-np.log10(200)*5.82"
   ]
  },
  {
   "cell_type": "code",
   "execution_count": 65,
   "id": "5ead9876",
   "metadata": {},
   "outputs": [],
   "source": [
    "def m_sigma_relation(log_sigma0):    \n",
    "    a=5.82\n",
    "    b=-5.221994574764372\n",
    "    return a*(log_sigma0)+b"
   ]
  },
  {
   "cell_type": "code",
   "execution_count": 4,
   "id": "da8437b2",
   "metadata": {},
   "outputs": [
    {
     "data": {
      "text/plain": [
       "Index(['ID', 'Galaxy', 'Morphology', 'Type', 'ETG', 'Leda Type', 'T-type',\n",
       "       'T-type_std', 'Arm Class', 'Bar',\n",
       "       ...\n",
       "       'hic', 'hic_std', 'mabs', 'mabs_std', 'blum', 'blum_std', 'logblum',\n",
       "       'logblum_std', 'Sigma_0', 'Sigma_0_std'],\n",
       "      dtype='object', length=185)"
      ]
     },
     "execution_count": 4,
     "metadata": {},
     "output_type": "execute_result"
    }
   ],
   "source": [
    "df.columns"
   ]
  },
  {
   "cell_type": "code",
   "execution_count": 5,
   "id": "33438e56",
   "metadata": {},
   "outputs": [
    {
     "data": {
      "text/html": [
       "<div>\n",
       "<style scoped>\n",
       "    .dataframe tbody tr th:only-of-type {\n",
       "        vertical-align: middle;\n",
       "    }\n",
       "\n",
       "    .dataframe tbody tr th {\n",
       "        vertical-align: top;\n",
       "    }\n",
       "\n",
       "    .dataframe thead th {\n",
       "        text-align: right;\n",
       "    }\n",
       "</style>\n",
       "<table border=\"1\" class=\"dataframe\">\n",
       "  <thead>\n",
       "    <tr style=\"text-align: right;\">\n",
       "      <th></th>\n",
       "      <th>log_sigma0</th>\n",
       "      <th>M*_gal</th>\n",
       "      <th>phi</th>\n",
       "      <th>tan_phi</th>\n",
       "      <th>log_v_max</th>\n",
       "      <th>v_max</th>\n",
       "    </tr>\n",
       "  </thead>\n",
       "  <tbody>\n",
       "    <tr>\n",
       "      <th>0</th>\n",
       "      <td>2.490000</td>\n",
       "      <td>11.70</td>\n",
       "      <td>NaN</td>\n",
       "      <td>NaN</td>\n",
       "      <td>NaN</td>\n",
       "      <td>NaN</td>\n",
       "    </tr>\n",
       "    <tr>\n",
       "      <th>1</th>\n",
       "      <td>2.471453</td>\n",
       "      <td>11.69</td>\n",
       "      <td>NaN</td>\n",
       "      <td>NaN</td>\n",
       "      <td>1.544068</td>\n",
       "      <td>35.00</td>\n",
       "    </tr>\n",
       "    <tr>\n",
       "      <th>2</th>\n",
       "      <td>NaN</td>\n",
       "      <td>NaN</td>\n",
       "      <td>NaN</td>\n",
       "      <td>NaN</td>\n",
       "      <td>2.239350</td>\n",
       "      <td>173.52</td>\n",
       "    </tr>\n",
       "    <tr>\n",
       "      <th>3</th>\n",
       "      <td>2.515012</td>\n",
       "      <td>11.74</td>\n",
       "      <td>NaN</td>\n",
       "      <td>NaN</td>\n",
       "      <td>NaN</td>\n",
       "      <td>NaN</td>\n",
       "    </tr>\n",
       "    <tr>\n",
       "      <th>4</th>\n",
       "      <td>2.510679</td>\n",
       "      <td>NaN</td>\n",
       "      <td>NaN</td>\n",
       "      <td>NaN</td>\n",
       "      <td>NaN</td>\n",
       "      <td>NaN</td>\n",
       "    </tr>\n",
       "    <tr>\n",
       "      <th>...</th>\n",
       "      <td>...</td>\n",
       "      <td>...</td>\n",
       "      <td>...</td>\n",
       "      <td>...</td>\n",
       "      <td>...</td>\n",
       "      <td>...</td>\n",
       "    </tr>\n",
       "    <tr>\n",
       "      <th>140</th>\n",
       "      <td>2.198657</td>\n",
       "      <td>11.04</td>\n",
       "      <td>11.2</td>\n",
       "      <td>0.198005</td>\n",
       "      <td>NaN</td>\n",
       "      <td>NaN</td>\n",
       "    </tr>\n",
       "    <tr>\n",
       "      <th>141</th>\n",
       "      <td>NaN</td>\n",
       "      <td>11.13</td>\n",
       "      <td>9.1</td>\n",
       "      <td>0.160174</td>\n",
       "      <td>2.390935</td>\n",
       "      <td>246.00</td>\n",
       "    </tr>\n",
       "    <tr>\n",
       "      <th>142</th>\n",
       "      <td>2.073315</td>\n",
       "      <td>10.90</td>\n",
       "      <td>10.9</td>\n",
       "      <td>0.192570</td>\n",
       "      <td>2.301030</td>\n",
       "      <td>200.00</td>\n",
       "    </tr>\n",
       "    <tr>\n",
       "      <th>143</th>\n",
       "      <td>2.029384</td>\n",
       "      <td>10.68</td>\n",
       "      <td>10.4</td>\n",
       "      <td>0.183534</td>\n",
       "      <td>2.322219</td>\n",
       "      <td>210.00</td>\n",
       "    </tr>\n",
       "    <tr>\n",
       "      <th>144</th>\n",
       "      <td>2.190332</td>\n",
       "      <td>11.26</td>\n",
       "      <td>10.2</td>\n",
       "      <td>0.179928</td>\n",
       "      <td>2.230449</td>\n",
       "      <td>170.00</td>\n",
       "    </tr>\n",
       "  </tbody>\n",
       "</table>\n",
       "<p>145 rows × 6 columns</p>\n",
       "</div>"
      ],
      "text/plain": [
       "     log_sigma0  M*_gal   phi   tan_phi  log_v_max   v_max\n",
       "0      2.490000   11.70   NaN       NaN        NaN     NaN\n",
       "1      2.471453   11.69   NaN       NaN   1.544068   35.00\n",
       "2           NaN     NaN   NaN       NaN   2.239350  173.52\n",
       "3      2.515012   11.74   NaN       NaN        NaN     NaN\n",
       "4      2.510679     NaN   NaN       NaN        NaN     NaN\n",
       "..          ...     ...   ...       ...        ...     ...\n",
       "140    2.198657   11.04  11.2  0.198005        NaN     NaN\n",
       "141         NaN   11.13   9.1  0.160174   2.390935  246.00\n",
       "142    2.073315   10.90  10.9  0.192570   2.301030  200.00\n",
       "143    2.029384   10.68  10.4  0.183534   2.322219  210.00\n",
       "144    2.190332   11.26  10.2  0.179928   2.230449  170.00\n",
       "\n",
       "[145 rows x 6 columns]"
      ]
     },
     "execution_count": 5,
     "metadata": {},
     "output_type": "execute_result"
    }
   ],
   "source": [
    "df[['log_sigma0','M*_gal','phi','tan_phi','log_v_max','v_max']]"
   ]
  },
  {
   "cell_type": "markdown",
   "id": "70696f12",
   "metadata": {},
   "source": [
    "$\\phi\\ $,$M^*_{gal}\\ $,$\\sigma\\ $,$v_{max}$"
   ]
  },
  {
   "cell_type": "code",
   "execution_count": 6,
   "id": "bca82f5b",
   "metadata": {
    "scrolled": true
   },
   "outputs": [
    {
     "name": "stdout",
     "output_type": "stream",
     "text": [
      "37\n"
     ]
    },
    {
     "name": "stderr",
     "output_type": "stream",
     "text": [
      "/home/zj448/miniconda3/lib/python3.9/site-packages/pysr/sr.py:1257: UserWarning: Note: it looks like you are running in Jupyter. The progress bar will be turned off.\n",
      "  warnings.warn(\n",
      "WARNING: method definition for OneHotArray at /home/zj448/miniconda3/share/pysr/depot/packages/MicroCollections/yJPLe/src/onehot.jl:79 declares type variable N but does not use it.\n"
     ]
    },
    {
     "name": "stdout",
     "output_type": "stream",
     "text": [
      "parameters:\n",
      "x 0 : log_sigma0\n",
      "x 1 : M*_gal\n",
      "x 2 : phi\n",
      "x 3 : tan_phi\n",
      "x 4 : log_v_max\n",
      "x 5 : v_max\n",
      "Eq. selected rmse: 0.27451943911545185\n"
     ]
    },
    {
     "data": {
      "text/latex": [
       "$\\displaystyle \\left(x_{0} + 1.3969453234456826\\right) \\left(- x_{3} + x_{4}\\right)$"
      ],
      "text/plain": [
       "(x0 + 1.3969453234456826)*(-x3 + x4)"
      ]
     },
     "metadata": {},
     "output_type": "display_data"
    },
    {
     "name": "stdout",
     "output_type": "stream",
     "text": [
      "Eq. 0 rmse: 0.5611299210807394\n"
     ]
    },
    {
     "data": {
      "text/latex": [
       "$\\displaystyle 7.493157102122143$"
      ],
      "text/plain": [
       "7.493157102122143"
      ]
     },
     "metadata": {},
     "output_type": "display_data"
    },
    {
     "name": "stdout",
     "output_type": "stream",
     "text": [
      "Eq. 1 rmse: 0.49440967840310124\n"
     ]
    },
    {
     "data": {
      "text/latex": [
       "$\\displaystyle 0.6925368620312773 x_{1}$"
      ],
      "text/plain": [
       "0.6925368620312773*x1"
      ]
     },
     "metadata": {},
     "output_type": "display_data"
    },
    {
     "name": "stdout",
     "output_type": "stream",
     "text": [
      "Eq. 2 rmse: 0.3423783395222323\n"
     ]
    },
    {
     "data": {
      "text/latex": [
       "$\\displaystyle x_{4} \\left(x_{0} + 1.050557207578478\\right)$"
      ],
      "text/plain": [
       "x4*(x0 + 1.050557207578478)"
      ]
     },
     "metadata": {},
     "output_type": "display_data"
    },
    {
     "name": "stdout",
     "output_type": "stream",
     "text": [
      "Eq. 3 rmse: 0.27451943911545185\n"
     ]
    },
    {
     "data": {
      "text/latex": [
       "$\\displaystyle \\left(x_{0} + 1.3969453234456826\\right) \\left(- x_{3} + x_{4}\\right)$"
      ],
      "text/plain": [
       "(x0 + 1.3969453234456826)*(-x3 + x4)"
      ]
     },
     "metadata": {},
     "output_type": "display_data"
    },
    {
     "name": "stdout",
     "output_type": "stream",
     "text": [
      "Eq. 4 rmse: 0.2744641617780004\n"
     ]
    },
    {
     "data": {
      "text/latex": [
       "$\\displaystyle \\left(x_{0} + 1.3969453234472307\\right) \\left(- 1.0035813163862486 x_{3} + x_{4}\\right)$"
      ],
      "text/plain": [
       "(x0 + 1.3969453234472307)*(-1.0035813163862486*x3 + x4)"
      ]
     },
     "metadata": {},
     "output_type": "display_data"
    },
    {
     "name": "stdout",
     "output_type": "stream",
     "text": [
      "Eq. 5 rmse: 0.272624809345695\n"
     ]
    },
    {
     "data": {
      "text/latex": [
       "$\\displaystyle - x_{3} + x_{4} + \\left(x_{0} + 0.7705908697679895\\right) \\left(- x_{3} + x_{4}\\right) - 0.7920788134404934$"
      ],
      "text/plain": [
       "-x3 + x4 + (x0 + 0.7705908697679895)*(-x3 + x4) - 0.7920788134404934"
      ]
     },
     "metadata": {},
     "output_type": "display_data"
    },
    {
     "name": "stdout",
     "output_type": "stream",
     "text": [
      "Eq. 6 rmse: 0.2723274321956629\n"
     ]
    },
    {
     "data": {
      "text/latex": [
       "$\\displaystyle - x_{3} + x_{4} + \\left(x_{0} + 0.49872377075939317\\right) \\left(- x_{3} + x_{4}\\right) - \\frac{44.5798075907555}{- x_{1} + x_{5}}$"
      ],
      "text/plain": [
       "-x3 + x4 + (x0 + 0.49872377075939317)*(-x3 + x4) - 44.5798075907555/(-x1 + x5)"
      ]
     },
     "metadata": {},
     "output_type": "display_data"
    },
    {
     "name": "stdout",
     "output_type": "stream",
     "text": [
      "Eq. 7 rmse: 0.2687761821051442\n"
     ]
    },
    {
     "data": {
      "text/latex": [
       "$\\displaystyle - x_{3} + x_{4} + \\left(x_{0} + 0.3823478934263225\\right) \\left(- x_{3} + x_{4}\\right) + \\frac{0.1871327186056487}{x_{2} - x_{4} - 1.4492015511657934}$"
      ],
      "text/plain": [
       "-x3 + x4 + (x0 + 0.3823478934263225)*(-x3 + x4) + 0.1871327186056487/(x2 - x4 - 1.4492015511657934)"
      ]
     },
     "metadata": {},
     "output_type": "display_data"
    },
    {
     "name": "stdout",
     "output_type": "stream",
     "text": [
      "Eq. 8 rmse: 0.25020191695672006\n"
     ]
    },
    {
     "data": {
      "text/latex": [
       "$\\displaystyle - x_{3} + x_{4} + \\left(x_{0} + 0.45706776931612336\\right) \\left(- x_{3} + x_{4}\\right) - \\frac{4.104425346489202}{- x_{2}^{2} - x_{2} + x_{5}}$"
      ],
      "text/plain": [
       "-x3 + x4 + (x0 + 0.45706776931612336)*(-x3 + x4) - 4.104425346489202/(-x2**2 - x2 + x5)"
      ]
     },
     "metadata": {},
     "output_type": "display_data"
    }
   ],
   "source": [
    "test_relation(['log_sigma0','M*_gal','phi','tan_phi','log_v_max','v_max'],operator='basic')"
   ]
  },
  {
   "cell_type": "markdown",
   "id": "15378450",
   "metadata": {},
   "source": [
    "\\begin{equation}\n",
    "\\log (\\frac{{M}_{BH}}{{M}_\\odot})= (\\log \\sigma_0 + 1.40)(\\log v_{max} -\\tan \\phi))\n",
    "\\end{equation}"
   ]
  },
  {
   "cell_type": "code",
   "execution_count": 21,
   "id": "09790942",
   "metadata": {},
   "outputs": [],
   "source": [
    "def sigma_phi_v_relation(log_sigma0,phi,v):    \n",
    "    a=1.3969453234456826\n",
    "    return (log_sigma0+a)*(v-phi)"
   ]
  },
  {
   "cell_type": "code",
   "execution_count": 156,
   "id": "d1972193",
   "metadata": {},
   "outputs": [
    {
     "name": "stdout",
     "output_type": "stream",
     "text": [
      "41\n"
     ]
    },
    {
     "data": {
      "image/png": "[encoded data removed]",
      "text/plain": [
       "<Figure size 864x720 with 2 Axes>"
      ]
     },
     "metadata": {
      "needs_background": "light"
     },
     "output_type": "display_data"
    },
    {
     "name": "stdout",
     "output_type": "stream",
     "text": [
      "new relation wrmse: 0.27820990325942074\n",
      "m-sigma wrmse: 0.4846167822437612\n"
     ]
    }
   ],
   "source": [
    "plot_relation(['log_sigma0','tan_phi','log_v_max'],sigma_phi_v_relation,label=r'$\\log (\\frac{{M}_{BH}}{{M}_\\odot})= (\\log \\sigma_0 + 1.40)(\\logv_{max}-\\tan\\phi)$')"
   ]
  },
  {
   "cell_type": "markdown",
   "id": "7504cd9f",
   "metadata": {},
   "source": [
    "$\\phi\\ $,$M^*_{gal}\\ $,$\\sigma\\ $"
   ]
  },
  {
   "cell_type": "code",
   "execution_count": 24,
   "id": "b4fc43ea",
   "metadata": {
    "scrolled": true
   },
   "outputs": [
    {
     "name": "stdout",
     "output_type": "stream",
     "text": [
      "43\n"
     ]
    },
    {
     "name": "stderr",
     "output_type": "stream",
     "text": [
      "/home/zj448/miniconda3/lib/python3.9/site-packages/pysr/sr.py:1257: UserWarning: Note: it looks like you are running in Jupyter. The progress bar will be turned off.\n",
      "  warnings.warn(\n"
     ]
    },
    {
     "name": "stdout",
     "output_type": "stream",
     "text": [
      "parameters:\n",
      "x 0 : log_sigma0\n",
      "x 1 : M*_gal\n",
      "x 2 : tan_phi\n",
      "Eq. selected rmse: 0.3355362316523948\n"
     ]
    },
    {
     "data": {
      "text/latex": [
       "$\\displaystyle 3.8894438058884226 x_{0} - 3.8894438058884226 x_{2}$"
      ],
      "text/plain": [
       "3.8894438058884226*x0 - 3.8894438058884226*x2"
      ]
     },
     "metadata": {},
     "output_type": "display_data"
    },
    {
     "name": "stdout",
     "output_type": "stream",
     "text": [
      "Eq. 0 rmse: 0.5725669294786132\n"
     ]
    },
    {
     "data": {
      "text/latex": [
       "$\\displaystyle 7.46803044356267$"
      ],
      "text/plain": [
       "7.46803044356267"
      ]
     },
     "metadata": {},
     "output_type": "display_data"
    },
    {
     "name": "stdout",
     "output_type": "stream",
     "text": [
      "Eq. 1 rmse: 0.40795524052949406\n"
     ]
    },
    {
     "data": {
      "text/latex": [
       "$\\displaystyle 3.484506195586526 x_{0}$"
      ],
      "text/plain": [
       "3.484506195586526*x0"
      ]
     },
     "metadata": {},
     "output_type": "display_data"
    },
    {
     "name": "stdout",
     "output_type": "stream",
     "text": [
      "Eq. 2 rmse: 0.3355362316523948\n"
     ]
    },
    {
     "data": {
      "text/latex": [
       "$\\displaystyle 3.8894438058884226 x_{0} - 3.8894438058884226 x_{2}$"
      ],
      "text/plain": [
       "3.8894438058884226*x0 - 3.8894438058884226*x2"
      ]
     },
     "metadata": {},
     "output_type": "display_data"
    },
    {
     "name": "stdout",
     "output_type": "stream",
     "text": [
      "Eq. 3 rmse: 0.3224454821447261\n"
     ]
    },
    {
     "data": {
      "text/latex": [
       "$\\displaystyle x_{0} \\left(- x_{0} x_{2} + 3.9604782963117207\\right)$"
      ],
      "text/plain": [
       "x0*(-x0*x2 + 3.9604782963117207)"
      ]
     },
     "metadata": {},
     "output_type": "display_data"
    },
    {
     "name": "stdout",
     "output_type": "stream",
     "text": [
      "Eq. 4 rmse: 0.32218943606230055\n"
     ]
    },
    {
     "data": {
      "text/latex": [
       "$\\displaystyle x_{0} \\left(- x_{0} \\left(x_{2} + 0.06304386597277785\\right) + 4.09618530655164\\right)$"
      ],
      "text/plain": [
       "x0*(-x0*(x2 + 0.06304386597277785) + 4.09618530655164)"
      ]
     },
     "metadata": {},
     "output_type": "display_data"
    },
    {
     "name": "stdout",
     "output_type": "stream",
     "text": [
      "Eq. 5 rmse: 0.30266373354544385\n"
     ]
    },
    {
     "data": {
      "text/latex": [
       "$\\displaystyle x_{0} \\left(- x_{2} \\left(x_{1} - 8.345741075751173\\right) + 4.034336194515889\\right)$"
      ],
      "text/plain": [
       "x0*(-x2*(x1 - 8.345741075751173) + 4.034336194515889)"
      ]
     },
     "metadata": {},
     "output_type": "display_data"
    },
    {
     "name": "stdout",
     "output_type": "stream",
     "text": [
      "Eq. 6 rmse: 0.29948522753810974\n"
     ]
    },
    {
     "data": {
      "text/latex": [
       "$\\displaystyle x_{0} \\left(- 0.17407732126568468 x_{1} x_{2} - x_{2} + 1.297173395423415 + \\frac{30.692667230922098}{x_{1}}\\right)$"
      ],
      "text/plain": [
       "x0*(-0.17407732126568468*x1*x2 - x2 + 1.297173395423415 + 30.692667230922098/x1)"
      ]
     },
     "metadata": {},
     "output_type": "display_data"
    }
   ],
   "source": [
    "test_relation(['log_sigma0','M*_gal','tan_phi'],operator='basic')"
   ]
  },
  {
   "cell_type": "markdown",
   "id": "33dfad92",
   "metadata": {},
   "source": [
    "\\begin{equation}\n",
    "\\log (\\frac{{M}_{BH}}{{M}_\\odot})= 3.89 (\\log \\sigma_0 - \\tan\\phi)\n",
    "\\end{equation}"
   ]
  },
  {
   "cell_type": "code",
   "execution_count": 49,
   "id": "3ef82189",
   "metadata": {},
   "outputs": [],
   "source": [
    "def sigma_phi_relation(sigma,phi):\n",
    "    a=3.8894438058884226\n",
    "    b=-3.8894438058884226\n",
    "    return a*sigma+b*phi"
   ]
  },
  {
   "cell_type": "code",
   "execution_count": 157,
   "id": "7e9273c1",
   "metadata": {},
   "outputs": [
    {
     "name": "stdout",
     "output_type": "stream",
     "text": [
      "47\n"
     ]
    },
    {
     "data": {
      "image/png": "[encoded data removed]",
      "text/plain": [
       "<Figure size 864x720 with 2 Axes>"
      ]
     },
     "metadata": {
      "needs_background": "light"
     },
     "output_type": "display_data"
    },
    {
     "name": "stdout",
     "output_type": "stream",
     "text": [
      "new relation wrmse: 0.340965900049914\n",
      "m-sigma wrmse: 0.47929122301367655\n"
     ]
    }
   ],
   "source": [
    "plot_relation(['log_sigma0','tan_phi'],sigma_phi_relation,label=r'$\\log (\\frac{{M}_{BH}}{{M}_\\odot})= 3.89 (\\log \\sigma_0 - \\tan\\phi)$')"
   ]
  },
  {
   "cell_type": "markdown",
   "id": "515c36cc",
   "metadata": {},
   "source": [
    "$\\phi\\ $,$M^*_{gal}\\ $,$v_{max}$"
   ]
  },
  {
   "cell_type": "code",
   "execution_count": 26,
   "id": "9977cde2",
   "metadata": {
    "scrolled": true
   },
   "outputs": [
    {
     "name": "stdout",
     "output_type": "stream",
     "text": [
      "38\n"
     ]
    },
    {
     "name": "stderr",
     "output_type": "stream",
     "text": [
      "/home/zj448/miniconda3/lib/python3.9/site-packages/pysr/sr.py:1257: UserWarning: Note: it looks like you are running in Jupyter. The progress bar will be turned off.\n",
      "  warnings.warn(\n"
     ]
    },
    {
     "name": "stdout",
     "output_type": "stream",
     "text": [
      "parameters:\n",
      "x 0 : M*_gal\n",
      "x 1 : tan_phi\n",
      "x 2 : log_v_max\n",
      "Eq. selected rmse: 0.3194718615233394\n"
     ]
    },
    {
     "data": {
      "text/latex": [
       "$\\displaystyle 1.514256269494091 x_{2} \\left(- x_{1} + x_{2}\\right)$"
      ],
      "text/plain": [
       "1.514256269494091*x2*(-x1 + x2)"
      ]
     },
     "metadata": {},
     "output_type": "display_data"
    },
    {
     "name": "stdout",
     "output_type": "stream",
     "text": [
      "Eq. 0 rmse: 0.5610784215465191\n"
     ]
    },
    {
     "data": {
      "text/latex": [
       "$\\displaystyle 7.493195672528427$"
      ],
      "text/plain": [
       "7.493195672528427"
      ]
     },
     "metadata": {},
     "output_type": "display_data"
    },
    {
     "name": "stdout",
     "output_type": "stream",
     "text": [
      "Eq. 1 rmse: 0.4587883992166521\n"
     ]
    },
    {
     "data": {
      "text/latex": [
       "$\\displaystyle 3.2059571742601576 x_{2}$"
      ],
      "text/plain": [
       "3.2059571742601576*x2"
      ]
     },
     "metadata": {},
     "output_type": "display_data"
    },
    {
     "name": "stdout",
     "output_type": "stream",
     "text": [
      "Eq. 2 rmse: 0.39687783839743423\n"
     ]
    },
    {
     "data": {
      "text/latex": [
       "$\\displaystyle 1.3697599572249846 x_{2}^{2}$"
      ],
      "text/plain": [
       "1.3697599572249846*x2**2"
      ]
     },
     "metadata": {},
     "output_type": "display_data"
    },
    {
     "name": "stdout",
     "output_type": "stream",
     "text": [
      "Eq. 3 rmse: 0.3194718615233394\n"
     ]
    },
    {
     "data": {
      "text/latex": [
       "$\\displaystyle 1.514256269494091 x_{2} \\left(- x_{1} + x_{2}\\right)$"
      ],
      "text/plain": [
       "1.514256269494091*x2*(-x1 + x2)"
      ]
     },
     "metadata": {},
     "output_type": "display_data"
    },
    {
     "name": "stdout",
     "output_type": "stream",
     "text": [
      "Eq. 4 rmse: 0.3155163852031166\n"
     ]
    },
    {
     "data": {
      "text/latex": [
       "$\\displaystyle - x_{1} + 1.5570080701239617 x_{2} \\left(- x_{1} + x_{2}\\right)$"
      ],
      "text/plain": [
       "-x1 + 1.5570080701239617*x2*(-x1 + x2)"
      ]
     },
     "metadata": {},
     "output_type": "display_data"
    },
    {
     "name": "stdout",
     "output_type": "stream",
     "text": [
      "Eq. 5 rmse: 0.31089118721689796\n"
     ]
    },
    {
     "data": {
      "text/latex": [
       "$\\displaystyle - 5.757437286235246 x_{1} + x_{2}^{2} + 3.3012747723850996$"
      ],
      "text/plain": [
       "-5.757437286235246*x1 + x2**2 + 3.3012747723850996"
      ]
     },
     "metadata": {},
     "output_type": "display_data"
    },
    {
     "name": "stdout",
     "output_type": "stream",
     "text": [
      "Eq. 6 rmse: 0.31057107198983325\n"
     ]
    },
    {
     "data": {
      "text/latex": [
       "$\\displaystyle x_{2}^{2} - \\left(0.1833554762535017 - x_{1}\\right) \\left(x_{1} - 5.757437286235246\\right) + 2.2456171167677677$"
      ],
      "text/plain": [
       "x2**2 - (0.1833554762535017 - x1)*(x1 - 5.757437286235246) + 2.2456171167677677"
      ]
     },
     "metadata": {},
     "output_type": "display_data"
    },
    {
     "name": "stdout",
     "output_type": "stream",
     "text": [
      "Eq. 7 rmse: 0.3102243194500665\n"
     ]
    },
    {
     "data": {
      "text/latex": [
       "$\\displaystyle 0.5428616943903293 x_{0} \\cdot \\left(0.1833554762535017 - x_{1}\\right) + x_{2}^{2} + 2.2456171167677677$"
      ],
      "text/plain": [
       "0.5428616943903293*x0*(0.1833554762535017 - x1) + x2**2 + 2.2456171167677677"
      ]
     },
     "metadata": {},
     "output_type": "display_data"
    },
    {
     "name": "stdout",
     "output_type": "stream",
     "text": [
      "Eq. 8 rmse: 0.30748002453058093\n"
     ]
    },
    {
     "data": {
      "text/latex": [
       "$\\displaystyle 1.5681210104341428 x_{2} \\left(x_{2} + \\frac{x_{1} x_{2}^{2} \\left(- x_{2} - 0.31120885552391886\\right)}{x_{0}}\\right)$"
      ],
      "text/plain": [
       "1.5681210104341428*x2*(x2 + x1*x2**2*(-x2 - 0.31120885552391886)/x0)"
      ]
     },
     "metadata": {},
     "output_type": "display_data"
    },
    {
     "name": "stdout",
     "output_type": "stream",
     "text": [
      "Eq. 9 rmse: 0.3073706792650127\n"
     ]
    },
    {
     "data": {
      "text/latex": [
       "$\\displaystyle 1.5682476153784406 x_{2} \\left(x_{2} + \\frac{x_{1} x_{2}^{3} \\left(- x_{0} - 1.4427768036100617\\right)}{x_{0}^{2}}\\right)$"
      ],
      "text/plain": [
       "1.5682476153784406*x2*(x2 + x1*x2**3*(-x0 - 1.4427768036100617)/x0**2)"
      ]
     },
     "metadata": {},
     "output_type": "display_data"
    }
   ],
   "source": [
    "test_relation(['M*_gal','tan_phi','log_v_max'],operator='basic')"
   ]
  },
  {
   "cell_type": "markdown",
   "id": "b175264e",
   "metadata": {},
   "source": [
    "\\begin{equation}\n",
    "\\log (\\frac{{M}_{BH}}{{M}_\\odot})= 1.51 \\log v_{max}(\\log v_{max}-\\tan\\phi) \n",
    "\\end{equation}"
   ]
  },
  {
   "cell_type": "code",
   "execution_count": 51,
   "id": "7951a10c",
   "metadata": {},
   "outputs": [],
   "source": [
    "def phi_v_relation(phi,v):\n",
    "    a=1.514256269494091\n",
    "    return a*v*(v-phi)"
   ]
  },
  {
   "cell_type": "code",
   "execution_count": 158,
   "id": "36ab4664",
   "metadata": {},
   "outputs": [
    {
     "name": "stdout",
     "output_type": "stream",
     "text": [
      "41\n"
     ]
    },
    {
     "data": {
      "image/png": "[encoded data removed]",
      "text/plain": [
       "<Figure size 864x720 with 2 Axes>"
      ]
     },
     "metadata": {
      "needs_background": "light"
     },
     "output_type": "display_data"
    },
    {
     "name": "stdout",
     "output_type": "stream",
     "text": [
      "new relation wrmse: 0.321673533239793\n",
      "m-sigma wrmse: 0.4846167822437612\n"
     ]
    }
   ],
   "source": [
    "plot_relation(['tan_phi','log_v_max'],phi_v_relation,label=r'$\\log (\\frac{{M}_{BH}}{{M}_\\odot})= 1.51 \\log v_{max}(\\log v_{max}-\\tan\\phi) $')"
   ]
  },
  {
   "cell_type": "markdown",
   "id": "a0fdae63",
   "metadata": {},
   "source": [
    "$\\phi\\ $,$M^*_{gal}\\ $"
   ]
  },
  {
   "cell_type": "code",
   "execution_count": 30,
   "id": "1f4514e1",
   "metadata": {
    "scrolled": true
   },
   "outputs": [
    {
     "name": "stdout",
     "output_type": "stream",
     "text": [
      "44\n"
     ]
    },
    {
     "name": "stderr",
     "output_type": "stream",
     "text": [
      "/home/zj448/miniconda3/lib/python3.9/site-packages/pysr/sr.py:1257: UserWarning: Note: it looks like you are running in Jupyter. The progress bar will be turned off.\n",
      "  warnings.warn(\n"
     ]
    },
    {
     "name": "stdout",
     "output_type": "stream",
     "text": [
      "parameters:\n",
      "x 0 : M*_gal\n",
      "x 1 : tan_phi\n",
      "Eq. selected rmse: 0.25342988968654245\n"
     ]
    },
    {
     "data": {
      "text/latex": [
       "$\\displaystyle \\frac{8.928946755726638 + \\frac{0.6121230044044399 x_{1}}{x_{0} \\left(x_{0} - \\frac{2.5005639649031903}{x_{1}}\\right)}}{x_{1} + 0.9796146336168521}$"
      ],
      "text/plain": [
       "(8.928946755726638 + 0.6121230044044399*x1/(x0*(x0 - 2.5005639649031903/x1)))/(x1 + 0.9796146336168521)"
      ]
     },
     "metadata": {},
     "output_type": "display_data"
    },
    {
     "name": "stdout",
     "output_type": "stream",
     "text": [
      "Eq. 0 rmse: 0.5725195522131183\n"
     ]
    },
    {
     "data": {
      "text/latex": [
       "$\\displaystyle 7.46807109102445$"
      ],
      "text/plain": [
       "7.46807109102445"
      ]
     },
     "metadata": {},
     "output_type": "display_data"
    },
    {
     "name": "stdout",
     "output_type": "stream",
     "text": [
      "Eq. 1 rmse: 0.49953630242875147\n"
     ]
    },
    {
     "data": {
      "text/latex": [
       "$\\displaystyle x_{0} - 3.3723325023486583$"
      ],
      "text/plain": [
       "x0 - 3.3723325023486583"
      ]
     },
     "metadata": {},
     "output_type": "display_data"
    },
    {
     "name": "stdout",
     "output_type": "stream",
     "text": [
      "Eq. 2 rmse: 0.39857072757888345\n"
     ]
    },
    {
     "data": {
      "text/latex": [
       "$\\displaystyle 9.204626369571669 - 7.723434501949809 x_{1}$"
      ],
      "text/plain": [
       "9.204626369571669 - 7.723434501949809*x1"
      ]
     },
     "metadata": {},
     "output_type": "display_data"
    },
    {
     "name": "stdout",
     "output_type": "stream",
     "text": [
      "Eq. 3 rmse: 0.3942243174363315\n"
     ]
    },
    {
     "data": {
      "text/latex": [
       "$\\displaystyle \\frac{8.928946755726638 - x_{1}}{x_{1} + 0.9448563695074454}$"
      ],
      "text/plain": [
       "(8.928946755726638 - x1)/(x1 + 0.9448563695074454)"
      ]
     },
     "metadata": {},
     "output_type": "display_data"
    },
    {
     "name": "stdout",
     "output_type": "stream",
     "text": [
      "Eq. 4 rmse: 0.39250810693254184\n"
     ]
    },
    {
     "data": {
      "text/latex": [
       "$\\displaystyle - x_{1} \\left(- x_{0} x_{1} + 12.259519807501231\\right) + 9.64890452878563$"
      ],
      "text/plain": [
       "-x1*(-x0*x1 + 12.259519807501231) + 9.64890452878563"
      ]
     },
     "metadata": {},
     "output_type": "display_data"
    },
    {
     "name": "stdout",
     "output_type": "stream",
     "text": [
      "Eq. 5 rmse: 0.3924489195534112\n"
     ]
    },
    {
     "data": {
      "text/latex": [
       "$\\displaystyle - x_{1} \\left(- x_{1} \\left(x_{0} - x_{1}\\right) + 12.104907629481149\\right) + 9.627357147921174$"
      ],
      "text/plain": [
       "-x1*(-x1*(x0 - x1) + 12.104907629481149) + 9.627357147921174"
      ]
     },
     "metadata": {},
     "output_type": "display_data"
    },
    {
     "name": "stdout",
     "output_type": "stream",
     "text": [
      "Eq. 6 rmse: 0.3923334876377802\n"
     ]
    },
    {
     "data": {
      "text/latex": [
       "$\\displaystyle - x_{1} \\left(x_{1} \\cdot \\left(11.80161372160123 - 2 x_{0}\\right) + 11.80161372160123\\right) + 9.607725548569336$"
      ],
      "text/plain": [
       "-x1*(x1*(11.80161372160123 - 2*x0) + 11.80161372160123) + 9.607725548569336"
      ]
     },
     "metadata": {},
     "output_type": "display_data"
    },
    {
     "name": "stdout",
     "output_type": "stream",
     "text": [
      "Eq. 7 rmse: 0.3792674493111503\n"
     ]
    },
    {
     "data": {
      "text/latex": [
       "$\\displaystyle - x_{1} \\cdot \\left(7.803223456149768 + \\frac{4.225039488437807}{53.58762681153038 - \\frac{9.286831875186955}{x_{1}}}\\right) + 9.286831875186955$"
      ],
      "text/plain": [
       "-x1*(7.803223456149768 + 4.225039488437807/(53.58762681153038 - 9.286831875186955/x1)) + 9.286831875186955"
      ]
     },
     "metadata": {},
     "output_type": "display_data"
    },
    {
     "name": "stdout",
     "output_type": "stream",
     "text": [
      "Eq. 8 rmse: 0.25342988968654245\n"
     ]
    },
    {
     "data": {
      "text/latex": [
       "$\\displaystyle \\frac{8.928946755726638 + \\frac{0.6121230044044399 x_{1}}{x_{0} \\left(x_{0} - \\frac{2.5005639649031903}{x_{1}}\\right)}}{x_{1} + 0.9796146336168521}$"
      ],
      "text/plain": [
       "(8.928946755726638 + 0.6121230044044399*x1/(x0*(x0 - 2.5005639649031903/x1)))/(x1 + 0.9796146336168521)"
      ]
     },
     "metadata": {},
     "output_type": "display_data"
    },
    {
     "name": "stdout",
     "output_type": "stream",
     "text": [
      "Eq. 9 rmse: 0.23798176740576768\n"
     ]
    },
    {
     "data": {
      "text/latex": [
       "$\\displaystyle \\frac{- 0.1119952920940696 x_{1} \\left(x_{0} - \\frac{0.5087265203084218}{x_{0} - \\frac{2.5005639649031903}{x_{1}}}\\right) + 8.928946755726638}{x_{1} + 0.9452318819766803}$"
      ],
      "text/plain": [
       "(-0.1119952920940696*x1*(x0 - 0.5087265203084218/(x0 - 2.5005639649031903/x1)) + 8.928946755726638)/(x1 + 0.9452318819766803)"
      ]
     },
     "metadata": {},
     "output_type": "display_data"
    },
    {
     "name": "stdout",
     "output_type": "stream",
     "text": [
      "Eq. 10 rmse: 0.2367177160315066\n"
     ]
    },
    {
     "data": {
      "text/latex": [
       "$\\displaystyle \\frac{8.928946755726638 - \\frac{x_{1} \\left(x_{0} + 1.9694892053663577 - \\frac{0.6068381799828715}{x_{0} - \\frac{2.5005639649031903}{x_{1}}}\\right)}{x_{0}}}{x_{1} + 0.9471348949785378}$"
      ],
      "text/plain": [
       "(8.928946755726638 - x1*(x0 + 1.9694892053663577 - 0.6068381799828715/(x0 - 2.5005639649031903/x1))/x0)/(x1 + 0.9471348949785378)"
      ]
     },
     "metadata": {},
     "output_type": "display_data"
    }
   ],
   "source": [
    "test_relation(['M*_gal','tan_phi'],operator='basic',ncyclesperiteration=5000,niterations=100)"
   ]
  },
  {
   "cell_type": "markdown",
   "id": "68e9f91a",
   "metadata": {},
   "source": [
    "\\begin{equation}\n",
    "\\log (\\frac{{M}_{BH}}{{M}_\\odot})= \\frac{8.93+\\frac{0.61 \\tan\\phi}{M^*_{gal}(M^*_{gal}-\\frac{2.50}{\\tan\\phi})}}{\\tan\\phi+0.98}\n",
    "\\end{equation}"
   ]
  },
  {
   "cell_type": "code",
   "execution_count": 53,
   "id": "e35b8dac",
   "metadata": {},
   "outputs": [],
   "source": [
    "def mgal_phi_relation(mgal,phi):\n",
    "    a=8.928946755726638\n",
    "    b=0.6121230044044399\n",
    "    c=2.5005639649031903\n",
    "    d=0.9796146336168521\n",
    "    return (a+(b*phi/(mgal*(mgal-(c/phi)))))/(phi+d)"
   ]
  },
  {
   "cell_type": "code",
   "execution_count": 169,
   "id": "3c201bee",
   "metadata": {},
   "outputs": [
    {
     "name": "stdout",
     "output_type": "stream",
     "text": [
      "43\n"
     ]
    },
    {
     "data": {
      "image/png": "[encoded data removed]",
      "text/plain": [
       "<Figure size 864x720 with 2 Axes>"
      ]
     },
     "metadata": {
      "needs_background": "light"
     },
     "output_type": "display_data"
    },
    {
     "name": "stdout",
     "output_type": "stream",
     "text": [
      "new relation wrmse: 0.25344543440950185\n",
      "m-sigma wrmse: 0.47431741758670204\n"
     ]
    }
   ],
   "source": [
    "plot_relation(['M*_gal','tan_phi'],mgal_phi_relation,labelamp=1.6,label=r'$\\log (\\frac{{M}_{BH}}{{M}_\\odot})= \\frac{8.93+\\frac{0.61 \\tan\\phi}{M^*_{gal}(M^*_{gal}-\\frac{2.50}{\\tan\\phi})}}{\\tan\\phi+0.98}$')"
   ]
  },
  {
   "cell_type": "code",
   "execution_count": null,
   "id": "e77ae592",
   "metadata": {},
   "outputs": [],
   "source": []
  },
  {
   "cell_type": "code",
   "execution_count": null,
   "id": "3ddacaee",
   "metadata": {},
   "outputs": [],
   "source": []
  },
  {
   "cell_type": "code",
   "execution_count": null,
   "id": "f46794c0",
   "metadata": {},
   "outputs": [],
   "source": []
  },
  {
   "cell_type": "code",
   "execution_count": null,
   "id": "36589477",
   "metadata": {},
   "outputs": [],
   "source": []
  }
 ],
 "metadata": {
  "kernelspec": {
   "display_name": "Python 3 (ipykernel)",
   "language": "python",
   "name": "python3"
  },
  "language_info": {
   "codemirror_mode": {
    "name": "ipython",
    "version": 3
   },
   "file_extension": ".py",
   "mimetype": "text/x-python",
   "name": "python",
   "nbconvert_exporter": "python",
   "pygments_lexer": "ipython3",
   "version": "3.9.16"
  }
 },
 "nbformat": 4,
 "nbformat_minor": 5
}
