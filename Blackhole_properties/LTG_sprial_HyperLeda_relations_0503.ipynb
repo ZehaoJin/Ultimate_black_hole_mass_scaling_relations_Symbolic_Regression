{
 "cells": [
  {
   "cell_type": "code",
   "execution_count": 1,
   "id": "13f365f1",
   "metadata": {},
   "outputs": [],
   "source": [
    "import numpy as np\n",
    "import pandas as pd\n",
    "from pysr import PySRRegressor\n",
    "from IPython.display import HTML\n",
    "from matplotlib import pyplot as plt\n",
    "\n",
    "from hyperfit.linfit import LinFit\n",
    "\n",
    "import functions\n",
    "import old_relations\n",
    "import new_relations"
   ]
  },
  {
   "cell_type": "code",
   "execution_count": 2,
   "id": "ffcd102f",
   "metadata": {},
   "outputs": [],
   "source": [
    "df = pd.read_csv('SMBH_Data_0407.csv',header=1)"
   ]
  },
  {
   "cell_type": "code",
   "execution_count": 3,
   "id": "b7f65408",
   "metadata": {},
   "outputs": [
    {
     "data": {
      "text/plain": [
       "Index(['Type', 'ETG', 'Leda Type', 'T-type', 'T-type_std', 'Arm Class', 'Bar',\n",
       "       'Disk', 'Ring', 'Core', 'Multiple', 'Compactness', 'AGN', 'Pseudobulge',\n",
       "       'BCG', 'cD', 'M_BH'],\n",
       "      dtype='object')"
      ]
     },
     "execution_count": 3,
     "metadata": {},
     "output_type": "execute_result"
    }
   ],
   "source": [
    "df.columns[3:20]"
   ]
  },
  {
   "cell_type": "code",
   "execution_count": 4,
   "id": "0984ffd4",
   "metadata": {},
   "outputs": [
    {
     "data": {
      "text/plain": [
       "Index(['brief', 'brief_std', 'ube', 'bve', 'mg2', 'mg2_std', 'dc', 'dc_std',\n",
       "       'ubtc', 'ubtc_std', 'bvtc', 'bvtc_std', 'bri25', 'm21c', 'm21c_std',\n",
       "       'hic', 'hic_std', 'mabs', 'mabs_std', 'blum', 'blum_std', 'logblum',\n",
       "       'logblum_std', 'Sigma_0', 'Sigma_0_std'],\n",
       "      dtype='object')"
      ]
     },
     "execution_count": 4,
     "metadata": {},
     "output_type": "execute_result"
    }
   ],
   "source": [
    "df.columns[-25:]"
   ]
  },
  {
   "cell_type": "code",
   "execution_count": 15,
   "id": "44ba3bb7",
   "metadata": {
    "scrolled": true
   },
   "outputs": [
    {
     "name": "stdout",
     "output_type": "stream",
     "text": [
      "16\n"
     ]
    },
    {
     "name": "stderr",
     "output_type": "stream",
     "text": [
      "/home/zj448/miniconda3/lib/python3.9/site-packages/pysr/sr.py:1257: UserWarning: Note: it looks like you are running in Jupyter. The progress bar will be turned off.\n",
      "  warnings.warn(\n",
      "/home/zj448/miniconda3/lib/python3.9/site-packages/pysr/sr.py:1761: UserWarning: Note: you are running with 10 features or more. Genetic algorithms like used in PySR scale poorly with large numbers of features. Consider using feature selection techniques to select the most important features (you can do this automatically with the `select_k_features` parameter), or, alternatively, doing a dimensionality reduction beforehand. For example, `X = PCA(n_components=6).fit_transform(X)`, using scikit-learn's `PCA` class, will reduce the number of features to 6 in an interpretable way, as each resultant feature will be a linear combination of the original features. \n",
      "  warnings.warn(\n",
      "WARNING: method definition for OneHotArray at /home/zj448/miniconda3/share/pysr/depot/packages/MicroCollections/yJPLe/src/onehot.jl:79 declares type variable N but does not use it.\n"
     ]
    },
    {
     "name": "stdout",
     "output_type": "stream",
     "text": [
      "parameters:\n",
      "x 0 : log_sigma0\n",
      "x 1 : M*_gal\n",
      "x 2 : tan_phi\n",
      "x 3 : log_v_max\n",
      "x 4 : T-type\n",
      "x 5 : Arm Class\n",
      "x 6 : Bar\n",
      "x 7 : Disk\n",
      "x 8 : Ring\n",
      "x 9 : Core\n",
      "x 10 : Multiple\n",
      "x 11 : Compactness\n",
      "x 12 : AGN\n",
      "x 13 : Pseudobulge\n",
      "Eq. selected rmse: 0.2394360032901123\n"
     ]
    },
    {
     "data": {
      "text/latex": [
       "$\\displaystyle 0.7013341387200609 x_{1} + \\left(x_{2} - 0.1997823976819404\\right) \\left(- 1.9182944835666726 x_{13} x_{4} - 1.9182944835666726 x_{8}\\right)$"
      ],
      "text/plain": [
       "0.7013341387200609*x1 + (x2 - 0.1997823976819404)*(-1.9182944835666726*x13*x4 - 1.9182944835666726*x8)"
      ]
     },
     "metadata": {},
     "output_type": "display_data"
    },
    {
     "name": "stdout",
     "output_type": "stream",
     "text": [
      "Eq. 0 rmse: 0.7908462271041161\n"
     ]
    },
    {
     "data": {
      "text/latex": [
       "$\\displaystyle 7.717413236870057$"
      ],
      "text/plain": [
       "7.717413236870057"
      ]
     },
     "metadata": {},
     "output_type": "display_data"
    },
    {
     "name": "stdout",
     "output_type": "stream",
     "text": [
      "Eq. 1 rmse: 0.5632617441751739\n"
     ]
    },
    {
     "data": {
      "text/latex": [
       "$\\displaystyle x_{1} - 3.314515894530799$"
      ],
      "text/plain": [
       "x1 - 3.314515894530799"
      ]
     },
     "metadata": {},
     "output_type": "display_data"
    },
    {
     "name": "stdout",
     "output_type": "stream",
     "text": [
      "Eq. 2 rmse: 0.4939362071349729\n"
     ]
    },
    {
     "data": {
      "text/latex": [
       "$\\displaystyle x_{1} - x_{2} - 3.123921466641034$"
      ],
      "text/plain": [
       "x1 - x2 - 3.123921466641034"
      ]
     },
     "metadata": {},
     "output_type": "display_data"
    },
    {
     "name": "stdout",
     "output_type": "stream",
     "text": [
      "Eq. 3 rmse: 0.3670536042045133\n"
     ]
    },
    {
     "data": {
      "text/latex": [
       "$\\displaystyle x_{1} - 3.451951817182995 x_{2} - 2.650989971487639$"
      ],
      "text/plain": [
       "x1 - 3.451951817182995*x2 - 2.650989971487639"
      ]
     },
     "metadata": {},
     "output_type": "display_data"
    },
    {
     "name": "stdout",
     "output_type": "stream",
     "text": [
      "Eq. 4 rmse: 0.29136709004454053\n"
     ]
    },
    {
     "data": {
      "text/latex": [
       "$\\displaystyle 0.6979204950355665 x_{1} - 6.031995253222158 x_{2} + 1.3249244660430832$"
      ],
      "text/plain": [
       "0.6979204950355665*x1 - 6.031995253222158*x2 + 1.3249244660430832"
      ]
     },
     "metadata": {},
     "output_type": "display_data"
    },
    {
     "name": "stdout",
     "output_type": "stream",
     "text": [
      "Eq. 5 rmse: 0.28833715628822376\n"
     ]
    },
    {
     "data": {
      "text/latex": [
       "$\\displaystyle - 0.5664287733041836 x_{1} \\left(x_{2} - 0.202658708881079\\right) + 0.7048034897151804 x_{1}$"
      ],
      "text/plain": [
       "-0.5664287733041836*x1*(x2 - 0.202658708881079) + 0.7048034897151804*x1"
      ]
     },
     "metadata": {},
     "output_type": "display_data"
    },
    {
     "name": "stdout",
     "output_type": "stream",
     "text": [
      "Eq. 6 rmse: 0.2758932567286932\n"
     ]
    },
    {
     "data": {
      "text/latex": [
       "$\\displaystyle 0.6947744538632944 x_{1} + 2.6077663631583927 \\left(x_{10} - 2.655808909581812\\right) \\left(x_{2} - 0.2196494543551469\\right)$"
      ],
      "text/plain": [
       "0.6947744538632944*x1 + 2.6077663631583927*(x10 - 2.655808909581812)*(x2 - 0.2196494543551469)"
      ]
     },
     "metadata": {},
     "output_type": "display_data"
    },
    {
     "name": "stdout",
     "output_type": "stream",
     "text": [
      "Eq. 7 rmse: 0.2394360032901123\n"
     ]
    },
    {
     "data": {
      "text/latex": [
       "$\\displaystyle 0.7013341387200609 x_{1} + \\left(x_{2} - 0.1997823976819404\\right) \\left(- 1.9182944835666726 x_{13} x_{4} - 1.9182944835666726 x_{8}\\right)$"
      ],
      "text/plain": [
       "0.7013341387200609*x1 + (x2 - 0.1997823976819404)*(-1.9182944835666726*x13*x4 - 1.9182944835666726*x8)"
      ]
     },
     "metadata": {},
     "output_type": "display_data"
    },
    {
     "name": "stdout",
     "output_type": "stream",
     "text": [
      "Eq. 8 rmse: 0.2259723128598672\n"
     ]
    },
    {
     "data": {
      "text/latex": [
       "$\\displaystyle 0.6947744538632944 x_{1} + 2.44743887990278 \\left(x_{2} - 0.20932590293923195\\right) \\left(- 0.8947771603268972 x_{13} x_{4} - 0.8947771603268972 x_{8}\\right)$"
      ],
      "text/plain": [
       "0.6947744538632944*x1 + 2.44743887990278*(x2 - 0.20932590293923195)*(-0.8947771603268972*x13*x4 - 0.8947771603268972*x8)"
      ]
     },
     "metadata": {},
     "output_type": "display_data"
    },
    {
     "name": "stdout",
     "output_type": "stream",
     "text": [
      "Eq. 9 rmse: 0.21533967661884015\n"
     ]
    },
    {
     "data": {
      "text/latex": [
       "$\\displaystyle 0.6976062064771997 x_{1} + 1.604703364632111 \\left(x_{2} - 0.20506046376417178\\right) \\left(- 1.308353530478995 x_{13} x_{4} - 2.61670706095799 x_{8}\\right)$"
      ],
      "text/plain": [
       "0.6976062064771997*x1 + 1.604703364632111*(x2 - 0.20506046376417178)*(-1.308353530478995*x13*x4 - 2.61670706095799*x8)"
      ]
     },
     "metadata": {},
     "output_type": "display_data"
    },
    {
     "name": "stdout",
     "output_type": "stream",
     "text": [
      "Eq. 10 rmse: 0.20429936756246658\n"
     ]
    },
    {
     "data": {
      "text/latex": [
       "$\\displaystyle 0.700912653553534 x_{1} + \\left(x_{2} - 0.20121327889858096\\right) \\left(- 1.8768933485723838 x_{13} x_{4} - 1.8768933485723838 x_{13} + 1.8768933485723838 x_{6} - 3.7537866971447676 x_{8}\\right)$"
      ],
      "text/plain": [
       "0.700912653553534*x1 + (x2 - 0.20121327889858096)*(-1.8768933485723838*x13*x4 - 1.8768933485723838*x13 + 1.8768933485723838*x6 - 3.7537866971447676*x8)"
      ]
     },
     "metadata": {},
     "output_type": "display_data"
    }
   ],
   "source": [
    "functions.test_relation(['log_sigma0','M*_gal','tan_phi','log_v_max','T-type','Arm Class',\n",
    "               'Bar','Disk', 'Ring', 'Core', 'Multiple', 'Compactness', 'AGN', 'Pseudobulge'],operator='basic')"
   ]
  },
  {
   "cell_type": "code",
   "execution_count": 5,
   "id": "bd985381",
   "metadata": {
    "scrolled": true
   },
   "outputs": [
    {
     "name": "stdout",
     "output_type": "stream",
     "text": [
      "43\n"
     ]
    },
    {
     "name": "stderr",
     "output_type": "stream",
     "text": [
      "/home/zj448/miniconda3/lib/python3.9/site-packages/pysr/sr.py:1257: UserWarning: Note: it looks like you are running in Jupyter. The progress bar will be turned off.\n",
      "  warnings.warn(\n",
      "WARNING: method definition for OneHotArray at /home/zj448/miniconda3/share/pysr/depot/packages/MicroCollections/yJPLe/src/onehot.jl:79 declares type variable N but does not use it.\n"
     ]
    },
    {
     "name": "stdout",
     "output_type": "stream",
     "text": [
      "parameters:\n",
      "x 0 : M*_gal\n",
      "x 1 : tan_phi\n",
      "x 2 : T-type\n",
      "x 3 : Bar\n",
      "x 4 : Disk\n",
      "x 5 : Ring\n",
      "x 6 : Core\n",
      "x 7 : Pseudobulge\n",
      "Eq. selected rmse: 0.24362317992961044\n"
     ]
    },
    {
     "data": {
      "text/latex": [
       "$\\displaystyle x_{0} - x_{1} \\cdot \\left(4.531881311639713 - x_{7}\\right) - x_{7} - 2.0143130142937606$"
      ],
      "text/plain": [
       "x0 - x1*(4.531881311639713 - x7) - x7 - 2.0143130142937606"
      ]
     },
     "metadata": {},
     "output_type": "display_data"
    },
    {
     "name": "stdout",
     "output_type": "stream",
     "text": [
      "Eq. 0 rmse: 0.5696777088462773\n"
     ]
    },
    {
     "data": {
      "text/latex": [
       "$\\displaystyle 7.471872586730893$"
      ],
      "text/plain": [
       "7.471872586730893"
      ]
     },
     "metadata": {},
     "output_type": "display_data"
    },
    {
     "name": "stdout",
     "output_type": "stream",
     "text": [
      "Eq. 1 rmse: 0.4972889841241391\n"
     ]
    },
    {
     "data": {
      "text/latex": [
       "$\\displaystyle x_{0} - 3.369133608671379$"
      ],
      "text/plain": [
       "x0 - 3.369133608671379"
      ]
     },
     "metadata": {},
     "output_type": "display_data"
    },
    {
     "name": "stdout",
     "output_type": "stream",
     "text": [
      "Eq. 2 rmse: 0.3407168007681685\n"
     ]
    },
    {
     "data": {
      "text/latex": [
       "$\\displaystyle x_{0} - x_{7} - 2.930051902485814$"
      ],
      "text/plain": [
       "x0 - x7 - 2.930051902485814"
      ]
     },
     "metadata": {},
     "output_type": "display_data"
    },
    {
     "name": "stdout",
     "output_type": "stream",
     "text": [
      "Eq. 3 rmse: 0.3160023356053996\n"
     ]
    },
    {
     "data": {
      "text/latex": [
       "$\\displaystyle x_{0} - x_{1} - x_{7} - 2.747594557146463$"
      ],
      "text/plain": [
       "x0 - x1 - x7 - 2.747594557146463"
      ]
     },
     "metadata": {},
     "output_type": "display_data"
    },
    {
     "name": "stdout",
     "output_type": "stream",
     "text": [
      "Eq. 4 rmse: 0.29520837339257694\n"
     ]
    },
    {
     "data": {
      "text/latex": [
       "$\\displaystyle x_{0} - x_{1} - 0.7600645728755986 x_{7} - 2.747594557146463$"
      ],
      "text/plain": [
       "x0 - x1 - 0.7600645728755986*x7 - 2.747594557146463"
      ]
     },
     "metadata": {},
     "output_type": "display_data"
    },
    {
     "name": "stdout",
     "output_type": "stream",
     "text": [
      "Eq. 5 rmse: 0.278481767975736\n"
     ]
    },
    {
     "data": {
      "text/latex": [
       "$\\displaystyle x_{0} - 3.703904798226829 x_{1} - x_{7} - 2.098471499655204$"
      ],
      "text/plain": [
       "x0 - 3.703904798226829*x1 - x7 - 2.098471499655204"
      ]
     },
     "metadata": {},
     "output_type": "display_data"
    },
    {
     "name": "stdout",
     "output_type": "stream",
     "text": [
      "Eq. 6 rmse: 0.24362317992961044\n"
     ]
    },
    {
     "data": {
      "text/latex": [
       "$\\displaystyle x_{0} - x_{1} \\cdot \\left(4.531881311639713 - x_{7}\\right) - x_{7} - 2.0143130142937606$"
      ],
      "text/plain": [
       "x0 - x1*(4.531881311639713 - x7) - x7 - 2.0143130142937606"
      ]
     },
     "metadata": {},
     "output_type": "display_data"
    },
    {
     "name": "stdout",
     "output_type": "stream",
     "text": [
      "Eq. 7 rmse: 0.227070077569942\n"
     ]
    },
    {
     "data": {
      "text/latex": [
       "$\\displaystyle x_{0} - x_{7} - 3.475582458871294 + \\frac{0.062241344222712436 x_{7} + 0.08565616839300996}{x_{1}}$"
      ],
      "text/plain": [
       "x0 - x7 - 3.475582458871294 + (0.062241344222712436*x7 + 0.08565616839300996)/x1"
      ]
     },
     "metadata": {},
     "output_type": "display_data"
    },
    {
     "name": "stdout",
     "output_type": "stream",
     "text": [
      "Eq. 8 rmse: 0.22292606726561592\n"
     ]
    },
    {
     "data": {
      "text/latex": [
       "$\\displaystyle x_{0} - x_{1} - 0.05568144789911377 x_{3} - x_{7} - 3.070363455779835 + \\frac{0.05568144789911377 \\left(x_{4} + x_{7}\\right)}{x_{1}}$"
      ],
      "text/plain": [
       "x0 - x1 - 0.05568144789911377*x3 - x7 - 3.070363455779835 + 0.05568144789911377*(x4 + x7)/x1"
      ]
     },
     "metadata": {},
     "output_type": "display_data"
    },
    {
     "name": "stdout",
     "output_type": "stream",
     "text": [
      "Eq. 9 rmse: 0.21298622381838794\n"
     ]
    },
    {
     "data": {
      "text/latex": [
       "$\\displaystyle x_{0} - x_{1} - 0.03194880323647417 x_{2} - x_{7} - 3.0127861124003976 + \\frac{0.03194880323647417 \\cdot \\left(1.631614692611861 x_{7} + 2.0193107095859673\\right)}{x_{1}}$"
      ],
      "text/plain": [
       "x0 - x1 - 0.03194880323647417*x2 - x7 - 3.0127861124003976 + 0.03194880323647417*(1.631614692611861*x7 + 2.0193107095859673)/x1"
      ]
     },
     "metadata": {},
     "output_type": "display_data"
    },
    {
     "name": "stdout",
     "output_type": "stream",
     "text": [
      "Eq. 10 rmse: 0.20853541405509096\n"
     ]
    },
    {
     "data": {
      "text/latex": [
       "$\\displaystyle x_{0} - x_{1} - 0.03194880323647417 x_{2} - x_{7} - 3.0127861124003976 + \\frac{0.03194880323647417 \\left(x_{5} + 1.493092661207909 x_{7} + 1.9143569900045552\\right)}{x_{1}}$"
      ],
      "text/plain": [
       "x0 - x1 - 0.03194880323647417*x2 - x7 - 3.0127861124003976 + 0.03194880323647417*(x5 + 1.493092661207909*x7 + 1.9143569900045552)/x1"
      ]
     },
     "metadata": {},
     "output_type": "display_data"
    }
   ],
   "source": [
    "functions.test_relation(['M*_gal','tan_phi','T-type','Bar','Disk', 'Ring','Core','Pseudobulge'],operator='basic')"
   ]
  },
  {
   "cell_type": "code",
   "execution_count": 8,
   "id": "ff5264f2",
   "metadata": {
    "scrolled": true
   },
   "outputs": [
    {
     "name": "stdout",
     "output_type": "stream",
     "text": [
      "43\n"
     ]
    },
    {
     "name": "stderr",
     "output_type": "stream",
     "text": [
      "/home/zj448/miniconda3/lib/python3.9/site-packages/pysr/sr.py:1257: UserWarning: Note: it looks like you are running in Jupyter. The progress bar will be turned off.\n",
      "  warnings.warn(\n"
     ]
    },
    {
     "name": "stdout",
     "output_type": "stream",
     "text": [
      "parameters:\n",
      "x 0 : M*_gal\n",
      "x 1 : tan_phi\n",
      "x 2 : T-type\n",
      "x 3 : Bar\n",
      "x 4 : Disk\n",
      "x 5 : Ring\n",
      "x 6 : Pseudobulge\n",
      "Eq. selected rmse: 0.23285571256564055\n"
     ]
    },
    {
     "data": {
      "text/latex": [
       "$\\displaystyle x_{0} - 3.5797125052164143 x_{1} x_{6} - 0.44961828024130424 x_{3} - 2.6172786742959038$"
      ],
      "text/plain": [
       "x0 - 3.5797125052164143*x1*x6 - 0.44961828024130424*x3 - 2.6172786742959038"
      ]
     },
     "metadata": {},
     "output_type": "display_data"
    },
    {
     "name": "stdout",
     "output_type": "stream",
     "text": [
      "Eq. 0 rmse: 0.5696777088462773\n"
     ]
    },
    {
     "data": {
      "text/latex": [
       "$\\displaystyle 7.471872586612391$"
      ],
      "text/plain": [
       "7.471872586612391"
      ]
     },
     "metadata": {},
     "output_type": "display_data"
    },
    {
     "name": "stdout",
     "output_type": "stream",
     "text": [
      "Eq. 1 rmse: 0.497288984124139\n"
     ]
    },
    {
     "data": {
      "text/latex": [
       "$\\displaystyle x_{0} - 3.3691336082832337$"
      ],
      "text/plain": [
       "x0 - 3.3691336082832337"
      ]
     },
     "metadata": {},
     "output_type": "display_data"
    },
    {
     "name": "stdout",
     "output_type": "stream",
     "text": [
      "Eq. 2 rmse: 0.34071680076816857\n"
     ]
    },
    {
     "data": {
      "text/latex": [
       "$\\displaystyle x_{0} - x_{6} - 2.9300519025683354$"
      ],
      "text/plain": [
       "x0 - x6 - 2.9300519025683354"
      ]
     },
     "metadata": {},
     "output_type": "display_data"
    },
    {
     "name": "stdout",
     "output_type": "stream",
     "text": [
      "Eq. 3 rmse: 0.2933590784463491\n"
     ]
    },
    {
     "data": {
      "text/latex": [
       "$\\displaystyle 1.5830277809584843 x_{0} - x_{6} - 9.22993814266912$"
      ],
      "text/plain": [
       "1.5830277809584843*x0 - x6 - 9.22993814266912"
      ]
     },
     "metadata": {},
     "output_type": "display_data"
    },
    {
     "name": "stdout",
     "output_type": "stream",
     "text": [
      "Eq. 4 rmse: 0.25985753086070223\n"
     ]
    },
    {
     "data": {
      "text/latex": [
       "$\\displaystyle 0.6725358136624645 x_{0} - 0.6725358136624645 x_{6} + \\frac{0.10623565181613491}{x_{1}}$"
      ],
      "text/plain": [
       "0.6725358136624645*x0 - 0.6725358136624645*x6 + 0.10623565181613491/x1"
      ]
     },
     "metadata": {},
     "output_type": "display_data"
    },
    {
     "name": "stdout",
     "output_type": "stream",
     "text": [
      "Eq. 5 rmse: 0.2554274732713496\n"
     ]
    },
    {
     "data": {
      "text/latex": [
       "$\\displaystyle 0.7998082374822302 x_{0} - 3.7596607926344681 x_{1} - 0.7998082374822302 x_{6}$"
      ],
      "text/plain": [
       "0.7998082374822302*x0 - 3.7596607926344681*x1 - 0.7998082374822302*x6"
      ]
     },
     "metadata": {},
     "output_type": "display_data"
    },
    {
     "name": "stdout",
     "output_type": "stream",
     "text": [
      "Eq. 6 rmse: 0.23285571256564055\n"
     ]
    },
    {
     "data": {
      "text/latex": [
       "$\\displaystyle x_{0} - 3.5797125052164143 x_{1} x_{6} - 0.44961828024130424 x_{3} - 2.6172786742959038$"
      ],
      "text/plain": [
       "x0 - 3.5797125052164143*x1*x6 - 0.44961828024130424*x3 - 2.6172786742959038"
      ]
     },
     "metadata": {},
     "output_type": "display_data"
    },
    {
     "name": "stdout",
     "output_type": "stream",
     "text": [
      "Eq. 7 rmse: 0.21888471698053213\n"
     ]
    },
    {
     "data": {
      "text/latex": [
       "$\\displaystyle 1.4985751353690273 x_{0} - x_{6} - 8.405295340420517 + \\frac{x_{6} \\left(- x_{2} + \\frac{1.1296939722971178}{x_{1}}\\right)}{x_{0}}$"
      ],
      "text/plain": [
       "1.4985751353690273*x0 - x6 - 8.405295340420517 + x6*(-x2 + 1.1296939722971178/x1)/x0"
      ]
     },
     "metadata": {},
     "output_type": "display_data"
    },
    {
     "name": "stdout",
     "output_type": "stream",
     "text": [
      "Eq. 8 rmse: 0.2084715591345779\n"
     ]
    },
    {
     "data": {
      "text/latex": [
       "$\\displaystyle 1.4193605569460097 x_{0} - 0.008538361526859845 x_{2}^{2} - x_{6} - 7.446855078411089 + \\frac{0.008538361526859845 x_{6}}{x_{1}^{2}}$"
      ],
      "text/plain": [
       "1.4193605569460097*x0 - 0.008538361526859845*x2**2 - x6 - 7.446855078411089 + 0.008538361526859845*x6/x1**2"
      ]
     },
     "metadata": {},
     "output_type": "display_data"
    },
    {
     "name": "stdout",
     "output_type": "stream",
     "text": [
      "Eq. 9 rmse: 0.19954200362028057\n"
     ]
    },
    {
     "data": {
      "text/latex": [
       "$\\displaystyle - 0.0075972599750827475 x_{0} x_{2} x_{3} + 1.3333122169084173 x_{0} - x_{6} - 6.366123317847893 + \\frac{0.0075972599750827475 x_{6}}{x_{1}^{2}}$"
      ],
      "text/plain": [
       "-0.0075972599750827475*x0*x2*x3 + 1.3333122169084173*x0 - x6 - 6.366123317847893 + 0.0075972599750827475*x6/x1**2"
      ]
     },
     "metadata": {},
     "output_type": "display_data"
    }
   ],
   "source": [
    "functions.test_relation(['M*_gal','tan_phi','T-type','Bar','Disk', 'Ring','Pseudobulge'],operator='basic',ncyclesperiteration=5000,niterations=100)"
   ]
  },
  {
   "cell_type": "code",
   "execution_count": 13,
   "id": "70ca959b",
   "metadata": {
    "scrolled": true
   },
   "outputs": [
    {
     "name": "stdout",
     "output_type": "stream",
     "text": [
      "22\n"
     ]
    },
    {
     "name": "stderr",
     "output_type": "stream",
     "text": [
      "/home/zj448/miniconda3/lib/python3.9/site-packages/pysr/sr.py:1257: UserWarning: Note: it looks like you are running in Jupyter. The progress bar will be turned off.\n",
      "  warnings.warn(\n",
      "/home/zj448/miniconda3/lib/python3.9/site-packages/pysr/sr.py:1761: UserWarning: Note: you are running with 10 features or more. Genetic algorithms like used in PySR scale poorly with large numbers of features. Consider using feature selection techniques to select the most important features (you can do this automatically with the `select_k_features` parameter), or, alternatively, doing a dimensionality reduction beforehand. For example, `X = PCA(n_components=6).fit_transform(X)`, using scikit-learn's `PCA` class, will reduce the number of features to 6 in an interpretable way, as each resultant feature will be a linear combination of the original features. \n",
      "  warnings.warn(\n"
     ]
    },
    {
     "name": "stdout",
     "output_type": "stream",
     "text": [
      "parameters:\n",
      "x 0 : log_sigma0\n",
      "x 1 : M*_gal\n",
      "x 2 : tan_phi\n",
      "x 3 : log_v_max\n",
      "x 4 : dc\n",
      "x 5 : ubtc\n",
      "x 6 : bvtc\n",
      "x 7 : bri25\n",
      "x 8 : m21c\n",
      "x 9 : hic\n",
      "x 10 : mabs\n",
      "x 11 : logblum\n",
      "x 12 : T-type\n",
      "x 13 : Bar\n",
      "x 14 : Disk\n",
      "x 15 : Ring\n",
      "x 16 : AGN\n",
      "x 17 : Pseudobulge\n",
      "Eq. selected rmse: 0.1744877575740667\n"
     ]
    },
    {
     "data": {
      "text/latex": [
       "$\\displaystyle x_{11} - 7.082153774696854 x_{2} - 1.0050549324332794 - \\frac{x_{12} x_{3} + \\frac{x_{13}}{x_{2}}}{x_{4}}$"
      ],
      "text/plain": [
       "x11 - 7.082153774696854*x2 - 1.0050549324332794 - (x12*x3 + x13/x2)/x4"
      ]
     },
     "metadata": {},
     "output_type": "display_data"
    },
    {
     "name": "stdout",
     "output_type": "stream",
     "text": [
      "Eq. 0 rmse: 0.8324802720127599\n"
     ]
    },
    {
     "data": {
      "text/latex": [
       "$\\displaystyle 7.953890795318864$"
      ],
      "text/plain": [
       "7.953890795318864"
      ]
     },
     "metadata": {},
     "output_type": "display_data"
    },
    {
     "name": "stdout",
     "output_type": "stream",
     "text": [
      "Eq. 1 rmse: 0.5838283153379578\n"
     ]
    },
    {
     "data": {
      "text/latex": [
       "$\\displaystyle x_{1} - 3.1133059942832157$"
      ],
      "text/plain": [
       "x1 - 3.1133059942832157"
      ]
     },
     "metadata": {},
     "output_type": "display_data"
    },
    {
     "name": "stdout",
     "output_type": "stream",
     "text": [
      "Eq. 2 rmse: 0.2639686212112741\n"
     ]
    },
    {
     "data": {
      "text/latex": [
       "$\\displaystyle 9.627055150961656 - 9.110625289291015 x_{2}$"
      ],
      "text/plain": [
       "9.627055150961656 - 9.110625289291015*x2"
      ]
     },
     "metadata": {},
     "output_type": "display_data"
    },
    {
     "name": "stdout",
     "output_type": "stream",
     "text": [
      "Eq. 3 rmse: 0.23710491185579202\n"
     ]
    },
    {
     "data": {
      "text/latex": [
       "$\\displaystyle x_{1} - 6.15644205828763 x_{2} - 1.98267674703478$"
      ],
      "text/plain": [
       "x1 - 6.15644205828763*x2 - 1.98267674703478"
      ]
     },
     "metadata": {},
     "output_type": "display_data"
    },
    {
     "name": "stdout",
     "output_type": "stream",
     "text": [
      "Eq. 4 rmse: 0.22418791300323473\n"
     ]
    },
    {
     "data": {
      "text/latex": [
       "$\\displaystyle x_{1} - x_{2} \\left(x_{1} - 4.193283676598519\\right) - 1.8730988234534547$"
      ],
      "text/plain": [
       "x1 - x2*(x1 - 4.193283676598519) - 1.8730988234534547"
      ]
     },
     "metadata": {},
     "output_type": "display_data"
    },
    {
     "name": "stdout",
     "output_type": "stream",
     "text": [
      "Eq. 5 rmse: 0.2179487796945643\n"
     ]
    },
    {
     "data": {
      "text/latex": [
       "$\\displaystyle x_{1} - x_{2} \\cdot \\left(2 x_{17} + 3.9991600389547655\\right) - 2.100172207492114$"
      ],
      "text/plain": [
       "x1 - x2*(2*x17 + 3.9991600389547655) - 2.100172207492114"
      ]
     },
     "metadata": {},
     "output_type": "display_data"
    },
    {
     "name": "stdout",
     "output_type": "stream",
     "text": [
      "Eq. 6 rmse: 0.20553634178971872\n"
     ]
    },
    {
     "data": {
      "text/latex": [
       "$\\displaystyle x_{1} - x_{2} \\left(x_{14} - x_{16} + x_{17} + 4.327698625194011\\right) - 2.100172207492114$"
      ],
      "text/plain": [
       "x1 - x2*(x14 - x16 + x17 + 4.327698625194011) - 2.100172207492114"
      ]
     },
     "metadata": {},
     "output_type": "display_data"
    },
    {
     "name": "stdout",
     "output_type": "stream",
     "text": [
      "Eq. 7 rmse: 0.2007533281739533\n"
     ]
    },
    {
     "data": {
      "text/latex": [
       "$\\displaystyle x_{11} - \\frac{x_{12}}{x_{4}} + 0.3637281295536095 x_{16} - 7.0031672385982295 x_{2} - 1.479356726662076$"
      ],
      "text/plain": [
       "x11 - x12/x4 + 0.3637281295536095*x16 - 7.0031672385982295*x2 - 1.479356726662076"
      ]
     },
     "metadata": {},
     "output_type": "display_data"
    },
    {
     "name": "stdout",
     "output_type": "stream",
     "text": [
      "Eq. 8 rmse: 0.18749465168085694\n"
     ]
    },
    {
     "data": {
      "text/latex": [
       "$\\displaystyle x_{11} - \\frac{1.519621407400336 x_{12}}{x_{4}} + 0.3637281295536095 x_{16} - 7.0031672385982295 x_{2} - 1.479356726662076$"
      ],
      "text/plain": [
       "x11 - 1.519621407400336*x12/x4 + 0.3637281295536095*x16 - 7.0031672385982295*x2 - 1.479356726662076"
      ]
     },
     "metadata": {},
     "output_type": "display_data"
    },
    {
     "name": "stdout",
     "output_type": "stream",
     "text": [
      "Eq. 9 rmse: 0.1744877575740667\n"
     ]
    },
    {
     "data": {
      "text/latex": [
       "$\\displaystyle x_{11} - 7.082153774696854 x_{2} - 1.0050549324332794 - \\frac{x_{12} x_{3} + \\frac{x_{13}}{x_{2}}}{x_{4}}$"
      ],
      "text/plain": [
       "x11 - 7.082153774696854*x2 - 1.0050549324332794 - (x12*x3 + x13/x2)/x4"
      ]
     },
     "metadata": {},
     "output_type": "display_data"
    },
    {
     "name": "stdout",
     "output_type": "stream",
     "text": [
      "Eq. 10 rmse: 0.16888029404319382\n"
     ]
    },
    {
     "data": {
      "text/latex": [
       "$\\displaystyle x_{11} - 7.112234032737042 x_{2} - 1.0338070961563971 - \\frac{x_{12} x_{3} + \\frac{x_{13}}{x_{2}} - x_{16}}{x_{4}}$"
      ],
      "text/plain": [
       "x11 - 7.112234032737042*x2 - 1.0338070961563971 - (x12*x3 + x13/x2 - x16)/x4"
      ]
     },
     "metadata": {},
     "output_type": "display_data"
    }
   ],
   "source": [
    "functions.test_relation(['log_sigma0','M*_gal','tan_phi','log_v_max',\n",
    "                         'dc', 'ubtc', 'bvtc', 'bri25', 'm21c','hic', 'mabs','logblum',\n",
    "                         'T-type','Bar','Disk', 'Ring','AGN', 'Pseudobulge'],\n",
    "                        operator='basic')"
   ]
  },
  {
   "cell_type": "code",
   "execution_count": 5,
   "id": "7c7cc03a",
   "metadata": {
    "scrolled": true
   },
   "outputs": [
    {
     "name": "stdout",
     "output_type": "stream",
     "text": [
      "9\n"
     ]
    },
    {
     "name": "stderr",
     "output_type": "stream",
     "text": [
      "/home/zj448/miniconda3/lib/python3.9/site-packages/pysr/sr.py:1257: UserWarning: Note: it looks like you are running in Jupyter. The progress bar will be turned off.\n",
      "  warnings.warn(\n",
      "/home/zj448/miniconda3/lib/python3.9/site-packages/pysr/sr.py:1761: UserWarning: Note: you are running with 10 features or more. Genetic algorithms like used in PySR scale poorly with large numbers of features. Consider using feature selection techniques to select the most important features (you can do this automatically with the `select_k_features` parameter), or, alternatively, doing a dimensionality reduction beforehand. For example, `X = PCA(n_components=6).fit_transform(X)`, using scikit-learn's `PCA` class, will reduce the number of features to 6 in an interpretable way, as each resultant feature will be a linear combination of the original features. \n",
      "  warnings.warn(\n",
      "WARNING: method definition for OneHotArray at /home/zj448/miniconda3/share/pysr/depot/packages/MicroCollections/yJPLe/src/onehot.jl:79 declares type variable N but does not use it.\n"
     ]
    },
    {
     "name": "stdout",
     "output_type": "stream",
     "text": [
      "parameters:\n",
      "x 0 : log_sigma0\n",
      "x 1 : M*_gal\n",
      "x 2 : tan_phi\n",
      "x 3 : log_v_max\n",
      "x 4 : brief\n",
      "x 5 : ube\n",
      "x 6 : bve\n",
      "x 7 : mg2\n",
      "x 8 : dc\n",
      "x 9 : ubtc\n",
      "x 10 : bvtc\n",
      "x 11 : bri25\n",
      "x 12 : m21c\n",
      "x 13 : hic\n",
      "x 14 : mabs\n",
      "x 15 : logblum\n",
      "x 16 : T-type\n",
      "x 17 : Bar\n",
      "x 18 : Disk\n",
      "x 19 : Ring\n",
      "x 20 : AGN\n",
      "x 21 : Pseudobulge\n",
      "Eq. selected rmse: 0.06274359803093432\n"
     ]
    },
    {
     "data": {
      "text/latex": [
       "$\\displaystyle 1.950582364616943 x_{15} + x_{2} \\left(-8.756783657151793 + \\frac{\\frac{1.7420490993761382 x_{7}}{x_{9}} + 0.035143530174449794}{x_{16}}\\right) - 11.079521138906637$"
      ],
      "text/plain": [
       "1.950582364616943*x15 + x2*(-8.756783657151793 + (1.7420490993761382*x7/x9 + 0.035143530174449794)/x16) - 11.079521138906637"
      ]
     },
     "metadata": {},
     "output_type": "display_data"
    },
    {
     "name": "stdout",
     "output_type": "stream",
     "text": [
      "Eq. 0 rmse: 0.6402573731861162\n"
     ]
    },
    {
     "data": {
      "text/latex": [
       "$\\displaystyle 8.335093609858863$"
      ],
      "text/plain": [
       "8.335093609858863"
      ]
     },
     "metadata": {},
     "output_type": "display_data"
    },
    {
     "name": "stdout",
     "output_type": "stream",
     "text": [
      "Eq. 1 rmse: 0.5070052254613011\n"
     ]
    },
    {
     "data": {
      "text/latex": [
       "$\\displaystyle 9.06355590811929 - x_{21}$"
      ],
      "text/plain": [
       "9.06355590811929 - x21"
      ]
     },
     "metadata": {},
     "output_type": "display_data"
    },
    {
     "name": "stdout",
     "output_type": "stream",
     "text": [
      "Eq. 2 rmse: 0.2269404056781423\n"
     ]
    },
    {
     "data": {
      "text/latex": [
       "$\\displaystyle 9.628400118544134 - 8.780848133128154 x_{2}$"
      ],
      "text/plain": [
       "9.628400118544134 - 8.780848133128154*x2"
      ]
     },
     "metadata": {},
     "output_type": "display_data"
    },
    {
     "name": "stdout",
     "output_type": "stream",
     "text": [
      "Eq. 3 rmse: 0.1533607456104255\n"
     ]
    },
    {
     "data": {
      "text/latex": [
       "$\\displaystyle x_{15} - 8.907572087913916 x_{2} - x_{6}$"
      ],
      "text/plain": [
       "x15 - 8.907572087913916*x2 - x6"
      ]
     },
     "metadata": {},
     "output_type": "display_data"
    },
    {
     "name": "stdout",
     "output_type": "stream",
     "text": [
      "Eq. 4 rmse: 0.1299054063824923\n"
     ]
    },
    {
     "data": {
      "text/latex": [
       "$\\displaystyle 1.950582364616943 x_{15} - 7.948804702750737 x_{2} - 11.079521138906637$"
      ],
      "text/plain": [
       "1.950582364616943*x15 - 7.948804702750737*x2 - 11.079521138906637"
      ]
     },
     "metadata": {},
     "output_type": "display_data"
    },
    {
     "name": "stdout",
     "output_type": "stream",
     "text": [
      "Eq. 5 rmse: 0.11528025689658487\n"
     ]
    },
    {
     "data": {
      "text/latex": [
       "$\\displaystyle x_{15} - x_{2} \\left(x_{1} - x_{17}\\right) - x_{6} + x_{7}$"
      ],
      "text/plain": [
       "x15 - x2*(x1 - x17) - x6 + x7"
      ]
     },
     "metadata": {},
     "output_type": "display_data"
    },
    {
     "name": "stdout",
     "output_type": "stream",
     "text": [
      "Eq. 6 rmse: 0.10032631210465517\n"
     ]
    },
    {
     "data": {
      "text/latex": [
       "$\\displaystyle x_{15} + x_{2} \\left(\\frac{x_{10} x_{2}}{x_{9}} - 12.90477783837733\\right) - x_{5}$"
      ],
      "text/plain": [
       "x15 + x2*(x10*x2/x9 - 12.90477783837733) - x5"
      ]
     },
     "metadata": {},
     "output_type": "display_data"
    },
    {
     "name": "stdout",
     "output_type": "stream",
     "text": [
      "Eq. 7 rmse: 0.08008410615042293\n"
     ]
    },
    {
     "data": {
      "text/latex": [
       "$\\displaystyle x_{15} + x_{2} \\left(x_{2} \\left(\\frac{x_{10}}{x_{9}} + x_{13}\\right) - 13.732097252101969\\right) - x_{5}$"
      ],
      "text/plain": [
       "x15 + x2*(x2*(x10/x9 + x13) - 13.732097252101969) - x5"
      ]
     },
     "metadata": {},
     "output_type": "display_data"
    },
    {
     "name": "stdout",
     "output_type": "stream",
     "text": [
      "Eq. 8 rmse: 0.07283749999869672\n"
     ]
    },
    {
     "data": {
      "text/latex": [
       "$\\displaystyle x_{15} + x_{2} \\left(x_{2} \\left(\\frac{x_{10}}{x_{9}} + x_{13} + x_{19}\\right) - 13.732097252101969\\right) - x_{5}$"
      ],
      "text/plain": [
       "x15 + x2*(x2*(x10/x9 + x13 + x19) - 13.732097252101969) - x5"
      ]
     },
     "metadata": {},
     "output_type": "display_data"
    },
    {
     "name": "stdout",
     "output_type": "stream",
     "text": [
      "Eq. 9 rmse: 0.06274359803093432\n"
     ]
    },
    {
     "data": {
      "text/latex": [
       "$\\displaystyle 1.950582364616943 x_{15} + x_{2} \\left(-8.756783657151793 + \\frac{\\frac{1.7420490993761382 x_{7}}{x_{9}} + 0.035143530174449794}{x_{16}}\\right) - 11.079521138906637$"
      ],
      "text/plain": [
       "1.950582364616943*x15 + x2*(-8.756783657151793 + (1.7420490993761382*x7/x9 + 0.035143530174449794)/x16) - 11.079521138906637"
      ]
     },
     "metadata": {},
     "output_type": "display_data"
    },
    {
     "name": "stdout",
     "output_type": "stream",
     "text": [
      "Eq. 10 rmse: 0.06134750754876289\n"
     ]
    },
    {
     "data": {
      "text/latex": [
       "$\\displaystyle x_{15} + x_{2} \\cdot \\left(2.64571860967988 x_{2} \\left(x_{19} + x_{2} + \\frac{x_{2}}{x_{9}}\\right) - 13.23361971577392\\right) - x_{5}$"
      ],
      "text/plain": [
       "x15 + x2*(2.64571860967988*x2*(x19 + x2 + x2/x9) - 13.23361971577392) - x5"
      ]
     },
     "metadata": {},
     "output_type": "display_data"
    }
   ],
   "source": [
    "functions.test_relation(['log_sigma0','M*_gal','tan_phi','log_v_max',\n",
    "                          'brief', 'ube', 'bve', 'mg2','dc', 'ubtc', 'bvtc', 'bri25', 'm21c','hic', 'mabs','logblum',\n",
    "                         'T-type','Bar','Disk', 'Ring','AGN', 'Pseudobulge'],\n",
    "                        operator='basic',ncyclesperiteration=5000,niterations=100)"
   ]
  },
  {
   "cell_type": "code",
   "execution_count": 6,
   "id": "398c7315",
   "metadata": {
    "scrolled": true
   },
   "outputs": [
    {
     "name": "stdout",
     "output_type": "stream",
     "text": [
      "11\n"
     ]
    },
    {
     "name": "stderr",
     "output_type": "stream",
     "text": [
      "/home/zj448/miniconda3/lib/python3.9/site-packages/pysr/sr.py:1257: UserWarning: Note: it looks like you are running in Jupyter. The progress bar will be turned off.\n",
      "  warnings.warn(\n",
      "/home/zj448/miniconda3/lib/python3.9/site-packages/pysr/sr.py:1761: UserWarning: Note: you are running with 10 features or more. Genetic algorithms like used in PySR scale poorly with large numbers of features. Consider using feature selection techniques to select the most important features (you can do this automatically with the `select_k_features` parameter), or, alternatively, doing a dimensionality reduction beforehand. For example, `X = PCA(n_components=6).fit_transform(X)`, using scikit-learn's `PCA` class, will reduce the number of features to 6 in an interpretable way, as each resultant feature will be a linear combination of the original features. \n",
      "  warnings.warn(\n"
     ]
    },
    {
     "name": "stdout",
     "output_type": "stream",
     "text": [
      "parameters:\n",
      "x 0 : log_sigma0\n",
      "x 1 : M*_gal\n",
      "x 2 : tan_phi\n",
      "x 3 : log_v_max\n",
      "x 4 : mg2\n",
      "x 5 : ubtc\n",
      "x 6 : logblum\n",
      "x 7 : T-type\n",
      "x 8 : Bar\n",
      "x 9 : Disk\n",
      "x 10 : Ring\n",
      "x 11 : AGN\n",
      "x 12 : Pseudobulge\n",
      "Eq. selected rmse: 0.08365868630060001\n"
     ]
    },
    {
     "data": {
      "text/latex": [
       "$\\displaystyle x_{2} \\left(- 0.33519298037085177 x_{7} + x_{8} - 6.100175159963725\\right) - x_{3} + 4.2831694959266113 x_{4} + x_{6}$"
      ],
      "text/plain": [
       "x2*(-0.33519298037085177*x7 + x8 - 6.100175159963725) - x3 + 4.2831694959266113*x4 + x6"
      ]
     },
     "metadata": {},
     "output_type": "display_data"
    },
    {
     "name": "stdout",
     "output_type": "stream",
     "text": [
      "Eq. 0 rmse: 0.683509333570921\n"
     ]
    },
    {
     "data": {
      "text/latex": [
       "$\\displaystyle 8.273383661395767$"
      ],
      "text/plain": [
       "8.273383661395767"
      ]
     },
     "metadata": {},
     "output_type": "display_data"
    },
    {
     "name": "stdout",
     "output_type": "stream",
     "text": [
      "Eq. 1 rmse: 0.537669131860264\n"
     ]
    },
    {
     "data": {
      "text/latex": [
       "$\\displaystyle 8.915684415471967 - x_{12}$"
      ],
      "text/plain": [
       "8.915684415471967 - x12"
      ]
     },
     "metadata": {},
     "output_type": "display_data"
    },
    {
     "name": "stdout",
     "output_type": "stream",
     "text": [
      "Eq. 2 rmse: 0.22300702493716332\n"
     ]
    },
    {
     "data": {
      "text/latex": [
       "$\\displaystyle 9.62471577959429 - 8.631063467620669 x_{2}$"
      ],
      "text/plain": [
       "9.62471577959429 - 8.631063467620669*x2"
      ]
     },
     "metadata": {},
     "output_type": "display_data"
    },
    {
     "name": "stdout",
     "output_type": "stream",
     "text": [
      "Eq. 3 rmse: 0.205635295826954\n"
     ]
    },
    {
     "data": {
      "text/latex": [
       "$\\displaystyle - 8.066419128572921 x_{2} + x_{4} + 9.27579211008865$"
      ],
      "text/plain": [
       "-8.066419128572921*x2 + x4 + 9.27579211008865"
      ]
     },
     "metadata": {},
     "output_type": "display_data"
    },
    {
     "name": "stdout",
     "output_type": "stream",
     "text": [
      "Eq. 4 rmse: 0.17897892204249422\n"
     ]
    },
    {
     "data": {
      "text/latex": [
       "$\\displaystyle x_{2} \\left(x_{8} - 9.318558579365922\\right) + x_{4} + 9.345487114792283$"
      ],
      "text/plain": [
       "x2*(x8 - 9.318558579365922) + x4 + 9.345487114792283"
      ]
     },
     "metadata": {},
     "output_type": "display_data"
    },
    {
     "name": "stdout",
     "output_type": "stream",
     "text": [
      "Eq. 5 rmse: 0.15815606837459875\n"
     ]
    },
    {
     "data": {
      "text/latex": [
       "$\\displaystyle x_{2} \\left(x_{11} - 6.8611615582598855\\right) + 4.575487380862294 x_{4} + 8.013931802975561$"
      ],
      "text/plain": [
       "x2*(x11 - 6.8611615582598855) + 4.575487380862294*x4 + 8.013931802975561"
      ]
     },
     "metadata": {},
     "output_type": "display_data"
    },
    {
     "name": "stdout",
     "output_type": "stream",
     "text": [
      "Eq. 6 rmse: 0.12746750809019666\n"
     ]
    },
    {
     "data": {
      "text/latex": [
       "$\\displaystyle x_{2} \\left(x_{8} - 7.125231384758331\\right) + 4.592109417208413 x_{4} + x_{6} - 2.4421570163806408$"
      ],
      "text/plain": [
       "x2*(x8 - 7.125231384758331) + 4.592109417208413*x4 + x6 - 2.4421570163806408"
      ]
     },
     "metadata": {},
     "output_type": "display_data"
    },
    {
     "name": "stdout",
     "output_type": "stream",
     "text": [
      "Eq. 7 rmse: 0.11121504750824801\n"
     ]
    },
    {
     "data": {
      "text/latex": [
       "$\\displaystyle x_{2} \\left(- 0.2674594526503596 x_{7} - 6.100175159963725\\right) - x_{3} + 3.2831694959266113 x_{4} + x_{6} + 0.3241472477702254$"
      ],
      "text/plain": [
       "x2*(-0.2674594526503596*x7 - 6.100175159963725) - x3 + 3.2831694959266113*x4 + x6 + 0.3241472477702254"
      ]
     },
     "metadata": {},
     "output_type": "display_data"
    },
    {
     "name": "stdout",
     "output_type": "stream",
     "text": [
      "Eq. 8 rmse: 0.08365868630060001\n"
     ]
    },
    {
     "data": {
      "text/latex": [
       "$\\displaystyle x_{2} \\left(- 0.33519298037085177 x_{7} + x_{8} - 6.100175159963725\\right) - x_{3} + 4.2831694959266113 x_{4} + x_{6}$"
      ],
      "text/plain": [
       "x2*(-0.33519298037085177*x7 + x8 - 6.100175159963725) - x3 + 4.2831694959266113*x4 + x6"
      ]
     },
     "metadata": {},
     "output_type": "display_data"
    },
    {
     "name": "stdout",
     "output_type": "stream",
     "text": [
      "Eq. 9 rmse: 0.0784102873649444\n"
     ]
    },
    {
     "data": {
      "text/latex": [
       "$\\displaystyle x_{2} \\left(- 0.2761904246151061 x_{10} - 0.2761904246151061 x_{7} + x_{8} - 6.100175159963725\\right) - x_{3} + 4.2831694959266113 x_{4} + x_{6}$"
      ],
      "text/plain": [
       "x2*(-0.2761904246151061*x10 - 0.2761904246151061*x7 + x8 - 6.100175159963725) - x3 + 4.2831694959266113*x4 + x6"
      ]
     },
     "metadata": {},
     "output_type": "display_data"
    }
   ],
   "source": [
    "functions.test_relation(['log_sigma0','M*_gal','tan_phi','log_v_max',\n",
    "                          'mg2', 'ubtc','logblum',\n",
    "                         'T-type','Bar','Disk', 'Ring','AGN', 'Pseudobulge'],\n",
    "                        operator='basic')"
   ]
  },
  {
   "cell_type": "code",
   "execution_count": 7,
   "id": "a8f13959",
   "metadata": {
    "scrolled": true
   },
   "outputs": [
    {
     "name": "stdout",
     "output_type": "stream",
     "text": [
      "22\n"
     ]
    },
    {
     "name": "stderr",
     "output_type": "stream",
     "text": [
      "/home/zj448/miniconda3/lib/python3.9/site-packages/pysr/sr.py:1257: UserWarning: Note: it looks like you are running in Jupyter. The progress bar will be turned off.\n",
      "  warnings.warn(\n",
      "/home/zj448/miniconda3/lib/python3.9/site-packages/pysr/sr.py:1761: UserWarning: Note: you are running with 10 features or more. Genetic algorithms like used in PySR scale poorly with large numbers of features. Consider using feature selection techniques to select the most important features (you can do this automatically with the `select_k_features` parameter), or, alternatively, doing a dimensionality reduction beforehand. For example, `X = PCA(n_components=6).fit_transform(X)`, using scikit-learn's `PCA` class, will reduce the number of features to 6 in an interpretable way, as each resultant feature will be a linear combination of the original features. \n",
      "  warnings.warn(\n"
     ]
    },
    {
     "name": "stdout",
     "output_type": "stream",
     "text": [
      "parameters:\n",
      "x 0 : log_sigma0\n",
      "x 1 : M*_gal\n",
      "x 2 : tan_phi\n",
      "x 3 : log_v_max\n",
      "x 4 : ubtc\n",
      "x 5 : logblum\n",
      "x 6 : T-type\n",
      "x 7 : Bar\n",
      "x 8 : Disk\n",
      "x 9 : Ring\n",
      "x 10 : AGN\n",
      "x 11 : Pseudobulge\n",
      "Eq. selected rmse: 0.18817465166917122\n"
     ]
    },
    {
     "data": {
      "text/latex": [
       "$\\displaystyle x_{0} - x_{2} \\left(- x_{10} x_{7} + 8.995336386358867\\right) + 7.245764511862741$"
      ],
      "text/plain": [
       "x0 - x2*(-x10*x7 + 8.995336386358867) + 7.245764511862741"
      ]
     },
     "metadata": {},
     "output_type": "display_data"
    },
    {
     "name": "stdout",
     "output_type": "stream",
     "text": [
      "Eq. 0 rmse: 0.8324802720127598\n"
     ]
    },
    {
     "data": {
      "text/latex": [
       "$\\displaystyle 7.953890795318391$"
      ],
      "text/plain": [
       "7.953890795318391"
      ]
     },
     "metadata": {},
     "output_type": "display_data"
    },
    {
     "name": "stdout",
     "output_type": "stream",
     "text": [
      "Eq. 1 rmse: 0.663268993917155\n"
     ]
    },
    {
     "data": {
      "text/latex": [
       "$\\displaystyle 8.268431461714862 - x_{11}$"
      ],
      "text/plain": [
       "8.268431461714862 - x11"
      ]
     },
     "metadata": {},
     "output_type": "display_data"
    },
    {
     "name": "stdout",
     "output_type": "stream",
     "text": [
      "Eq. 2 rmse: 0.2639686212112741\n"
     ]
    },
    {
     "data": {
      "text/latex": [
       "$\\displaystyle 9.627055140766569 - 9.110625233931984 x_{2}$"
      ],
      "text/plain": [
       "9.627055140766569 - 9.110625233931984*x2"
      ]
     },
     "metadata": {},
     "output_type": "display_data"
    },
    {
     "name": "stdout",
     "output_type": "stream",
     "text": [
      "Eq. 3 rmse: 0.23796037372190268\n"
     ]
    },
    {
     "data": {
      "text/latex": [
       "$\\displaystyle x_{0} - 8.135538811485787 x_{2} + 7.1944069869299385$"
      ],
      "text/plain": [
       "x0 - 8.135538811485787*x2 + 7.1944069869299385"
      ]
     },
     "metadata": {},
     "output_type": "display_data"
    },
    {
     "name": "stdout",
     "output_type": "stream",
     "text": [
      "Eq. 4 rmse: 0.21558469321758272\n"
     ]
    },
    {
     "data": {
      "text/latex": [
       "$\\displaystyle x_{0} - x_{2} \\cdot \\left(9.192976658938312 - x_{7}\\right) + 7.257562193438753$"
      ],
      "text/plain": [
       "x0 - x2*(9.192976658938312 - x7) + 7.257562193438753"
      ]
     },
     "metadata": {},
     "output_type": "display_data"
    },
    {
     "name": "stdout",
     "output_type": "stream",
     "text": [
      "Eq. 5 rmse: 0.18817465166917122\n"
     ]
    },
    {
     "data": {
      "text/latex": [
       "$\\displaystyle x_{0} - x_{2} \\left(- x_{10} x_{7} + 8.995336386358867\\right) + 7.245764511862741$"
      ],
      "text/plain": [
       "x0 - x2*(-x10*x7 + 8.995336386358867) + 7.245764511862741"
      ]
     },
     "metadata": {},
     "output_type": "display_data"
    },
    {
     "name": "stdout",
     "output_type": "stream",
     "text": [
      "Eq. 6 rmse: 0.17735666596758617\n"
     ]
    },
    {
     "data": {
      "text/latex": [
       "$\\displaystyle x_{0} - x_{2} \\left(- 1.6198610297360823 x_{10} x_{7} + 9.445582687784944\\right) + 7.287975495512511$"
      ],
      "text/plain": [
       "x0 - x2*(-1.6198610297360823*x10*x7 + 9.445582687784944) + 7.287975495512511"
      ]
     },
     "metadata": {},
     "output_type": "display_data"
    },
    {
     "name": "stdout",
     "output_type": "stream",
     "text": [
      "Eq. 7 rmse: 0.1670436878122443\n"
     ]
    },
    {
     "data": {
      "text/latex": [
       "$\\displaystyle x_{0} - x_{2} \\left(- x_{10} x_{7} \\left(x_{10} + x_{9}\\right) + 9.057016906574223\\right) + 7.227652617294551$"
      ],
      "text/plain": [
       "x0 - x2*(-x10*x7*(x10 + x9) + 9.057016906574223) + 7.227652617294551"
      ]
     },
     "metadata": {},
     "output_type": "display_data"
    },
    {
     "name": "stdout",
     "output_type": "stream",
     "text": [
      "Eq. 8 rmse: 0.16091362293000724\n"
     ]
    },
    {
     "data": {
      "text/latex": [
       "$\\displaystyle x_{0} - x_{2} \\left(- x_{10} x_{7} \\left(x_{10} + x_{4} + x_{9}\\right) + 9.057016906574223\\right) + 7.227652617294551$"
      ],
      "text/plain": [
       "x0 - x2*(-x10*x7*(x10 + x4 + x9) + 9.057016906574223) + 7.227652617294551"
      ]
     },
     "metadata": {},
     "output_type": "display_data"
    },
    {
     "name": "stdout",
     "output_type": "stream",
     "text": [
      "Eq. 9 rmse: 0.16007656181930288\n"
     ]
    },
    {
     "data": {
      "text/latex": [
       "$\\displaystyle x_{0} - x_{2} \\left(- x_{10} x_{7} \\cdot \\left(2 x_{4} + x_{8} + x_{9}\\right) + 9.057016906574223\\right) + 7.227652617294551$"
      ],
      "text/plain": [
       "x0 - x2*(-x10*x7*(2*x4 + x8 + x9) + 9.057016906574223) + 7.227652617294551"
      ]
     },
     "metadata": {},
     "output_type": "display_data"
    },
    {
     "name": "stdout",
     "output_type": "stream",
     "text": [
      "Eq. 10 rmse: 0.15808194972563663\n"
     ]
    },
    {
     "data": {
      "text/latex": [
       "$\\displaystyle x_{0} - x_{2} \\left(- x_{10} x_{7} \\left(x_{4} \\left(x_{3} - 0.28342508293568835\\right) + x_{8} + x_{9}\\right) + 9.180944324541484\\right) + 7.2242695518559294$"
      ],
      "text/plain": [
       "x0 - x2*(-x10*x7*(x4*(x3 - 0.28342508293568835) + x8 + x9) + 9.180944324541484) + 7.2242695518559294"
      ]
     },
     "metadata": {},
     "output_type": "display_data"
    }
   ],
   "source": [
    "functions.test_relation(['log_sigma0','M*_gal','tan_phi','log_v_max',\n",
    "                          'ubtc','logblum',\n",
    "                         'T-type','Bar','Disk', 'Ring','AGN', 'Pseudobulge'],\n",
    "                        operator='basic')"
   ]
  },
  {
   "cell_type": "code",
   "execution_count": 8,
   "id": "d869065d",
   "metadata": {
    "scrolled": true
   },
   "outputs": [
    {
     "name": "stdout",
     "output_type": "stream",
     "text": [
      "37\n"
     ]
    },
    {
     "name": "stderr",
     "output_type": "stream",
     "text": [
      "/home/zj448/miniconda3/lib/python3.9/site-packages/pysr/sr.py:1257: UserWarning: Note: it looks like you are running in Jupyter. The progress bar will be turned off.\n",
      "  warnings.warn(\n",
      "/home/zj448/miniconda3/lib/python3.9/site-packages/pysr/sr.py:1761: UserWarning: Note: you are running with 10 features or more. Genetic algorithms like used in PySR scale poorly with large numbers of features. Consider using feature selection techniques to select the most important features (you can do this automatically with the `select_k_features` parameter), or, alternatively, doing a dimensionality reduction beforehand. For example, `X = PCA(n_components=6).fit_transform(X)`, using scikit-learn's `PCA` class, will reduce the number of features to 6 in an interpretable way, as each resultant feature will be a linear combination of the original features. \n",
      "  warnings.warn(\n"
     ]
    },
    {
     "name": "stdout",
     "output_type": "stream",
     "text": [
      "parameters:\n",
      "x 0 : log_sigma0\n",
      "x 1 : M*_gal\n",
      "x 2 : tan_phi\n",
      "x 3 : log_v_max\n",
      "x 4 : logblum\n",
      "x 5 : T-type\n",
      "x 6 : Bar\n",
      "x 7 : Disk\n",
      "x 8 : Ring\n",
      "x 9 : AGN\n",
      "x 10 : Pseudobulge\n",
      "Eq. selected rmse: 0.19602107940328425\n"
     ]
    },
    {
     "data": {
      "text/latex": [
       "$\\displaystyle 3.8181647244113566 x_{3} - \\frac{3.8181647244113566 x_{2} \\left(x_{3} - x_{9} + 1.9604556504052935\\right)}{x_{0}}$"
      ],
      "text/plain": [
       "3.8181647244113566*x3 - 3.8181647244113566*x2*(x3 - x9 + 1.9604556504052935)/x0"
      ]
     },
     "metadata": {},
     "output_type": "display_data"
    },
    {
     "name": "stdout",
     "output_type": "stream",
     "text": [
      "Eq. 0 rmse: 0.5611299210807394\n"
     ]
    },
    {
     "data": {
      "text/latex": [
       "$\\displaystyle 7.493157097104859$"
      ],
      "text/plain": [
       "7.493157097104859"
      ]
     },
     "metadata": {},
     "output_type": "display_data"
    },
    {
     "name": "stdout",
     "output_type": "stream",
     "text": [
      "Eq. 1 rmse: 0.39215046203495174\n"
     ]
    },
    {
     "data": {
      "text/latex": [
       "$\\displaystyle 3.5000866226705867 x_{0}$"
      ],
      "text/plain": [
       "3.5000866226705867*x0"
      ]
     },
     "metadata": {},
     "output_type": "display_data"
    },
    {
     "name": "stdout",
     "output_type": "stream",
     "text": [
      "Eq. 2 rmse: 0.34134517186472024\n"
     ]
    },
    {
     "data": {
      "text/latex": [
       "$\\displaystyle x_{3} \\left(x_{0} + 1.0619181723856865\\right)$"
      ],
      "text/plain": [
       "x3*(x0 + 1.0619181723856865)"
      ]
     },
     "metadata": {},
     "output_type": "display_data"
    },
    {
     "name": "stdout",
     "output_type": "stream",
     "text": [
      "Eq. 3 rmse: 0.32039338606722007\n"
     ]
    },
    {
     "data": {
      "text/latex": [
       "$\\displaystyle - 6.0470691115720592 x_{2} + 3.7964112686284754 x_{3}$"
      ],
      "text/plain": [
       "-6.0470691115720592*x2 + 3.7964112686284754*x3"
      ]
     },
     "metadata": {},
     "output_type": "display_data"
    },
    {
     "name": "stdout",
     "output_type": "stream",
     "text": [
      "Eq. 4 rmse: 0.29095605951855397\n"
     ]
    },
    {
     "data": {
      "text/latex": [
       "$\\displaystyle x_{3} \\left(x_{0} - x_{2} + 1.121545199033919\\right) + 0.35008882281632336$"
      ],
      "text/plain": [
       "x3*(x0 - x2 + 1.121545199033919) + 0.35008882281632336"
      ]
     },
     "metadata": {},
     "output_type": "display_data"
    },
    {
     "name": "stdout",
     "output_type": "stream",
     "text": [
      "Eq. 5 rmse: 0.21954670276669885\n"
     ]
    },
    {
     "data": {
      "text/latex": [
       "$\\displaystyle - \\frac{3.7943732171768847 x_{2}}{0.2014311921391644 x_{3} + 0.2014311921391644 x_{9}} + 3.7943732171768847 x_{3}$"
      ],
      "text/plain": [
       "-3.7943732171768847*x2/(0.2014311921391644*x3 + 0.2014311921391644*x9) + 3.7943732171768847*x3"
      ]
     },
     "metadata": {},
     "output_type": "display_data"
    },
    {
     "name": "stdout",
     "output_type": "stream",
     "text": [
      "Eq. 6 rmse: 0.19602107940328425\n"
     ]
    },
    {
     "data": {
      "text/latex": [
       "$\\displaystyle 3.8181647244113566 x_{3} - \\frac{3.8181647244113566 x_{2} \\left(x_{3} - x_{9} + 1.9604556504052935\\right)}{x_{0}}$"
      ],
      "text/plain": [
       "3.8181647244113566*x3 - 3.8181647244113566*x2*(x3 - x9 + 1.9604556504052935)/x0"
      ]
     },
     "metadata": {},
     "output_type": "display_data"
    },
    {
     "name": "stdout",
     "output_type": "stream",
     "text": [
      "Eq. 7 rmse: 0.1790188226112444\n"
     ]
    },
    {
     "data": {
      "text/latex": [
       "$\\displaystyle - 3.8337151846098996 x_{2} - \\frac{3.8337151846098996 x_{2}}{x_{0} + x_{9} - 1.257257940977265} + 3.8337151846098996 x_{3}$"
      ],
      "text/plain": [
       "-3.8337151846098996*x2 - 3.8337151846098996*x2/(x0 + x9 - 1.257257940977265) + 3.8337151846098996*x3"
      ]
     },
     "metadata": {},
     "output_type": "display_data"
    },
    {
     "name": "stdout",
     "output_type": "stream",
     "text": [
      "Eq. 8 rmse: 0.16762535181827048\n"
     ]
    },
    {
     "data": {
      "text/latex": [
       "$\\displaystyle - 3.8199954322134153 x_{2} - \\frac{3.8199954322134153 x_{2}}{2 x_{0} - x_{3} + x_{9} - 0.957297296386097} + 3.8199954322134153 x_{3}$"
      ],
      "text/plain": [
       "-3.8199954322134153*x2 - 3.8199954322134153*x2/(2*x0 - x3 + x9 - 0.957297296386097) + 3.8199954322134153*x3"
      ]
     },
     "metadata": {},
     "output_type": "display_data"
    },
    {
     "name": "stdout",
     "output_type": "stream",
     "text": [
      "Eq. 9 rmse: 0.16644227721383548\n"
     ]
    },
    {
     "data": {
      "text/latex": [
       "$\\displaystyle - 3.8199954322134153 x_{2} - \\frac{3.8199954322134153 x_{2}}{2 x_{0} - x_{3} + x_{9} - 0.9830843921338419} + 3.8199954322134153 x_{3}$"
      ],
      "text/plain": [
       "-3.8199954322134153*x2 - 3.8199954322134153*x2/(2*x0 - x3 + x9 - 0.9830843921338419) + 3.8199954322134153*x3"
      ]
     },
     "metadata": {},
     "output_type": "display_data"
    }
   ],
   "source": [
    "functions.test_relation(['log_sigma0','M*_gal','tan_phi','log_v_max',\n",
    "                        'logblum',\n",
    "                         'T-type','Bar','Disk', 'Ring','AGN', 'Pseudobulge'],\n",
    "                        operator='basic')"
   ]
  },
  {
   "cell_type": "code",
   "execution_count": 9,
   "id": "54bfb0a8",
   "metadata": {
    "scrolled": true
   },
   "outputs": [
    {
     "name": "stdout",
     "output_type": "stream",
     "text": [
      "37\n"
     ]
    },
    {
     "name": "stderr",
     "output_type": "stream",
     "text": [
      "/home/zj448/miniconda3/lib/python3.9/site-packages/pysr/sr.py:1257: UserWarning: Note: it looks like you are running in Jupyter. The progress bar will be turned off.\n",
      "  warnings.warn(\n",
      "/home/zj448/miniconda3/lib/python3.9/site-packages/pysr/sr.py:1761: UserWarning: Note: you are running with 10 features or more. Genetic algorithms like used in PySR scale poorly with large numbers of features. Consider using feature selection techniques to select the most important features (you can do this automatically with the `select_k_features` parameter), or, alternatively, doing a dimensionality reduction beforehand. For example, `X = PCA(n_components=6).fit_transform(X)`, using scikit-learn's `PCA` class, will reduce the number of features to 6 in an interpretable way, as each resultant feature will be a linear combination of the original features. \n",
      "  warnings.warn(\n"
     ]
    },
    {
     "name": "stdout",
     "output_type": "stream",
     "text": [
      "parameters:\n",
      "x 0 : log_sigma0\n",
      "x 1 : M*_gal\n",
      "x 2 : tan_phi\n",
      "x 3 : log_v_max\n",
      "x 4 : logblum\n",
      "x 5 : T-type\n",
      "x 6 : Bar\n",
      "x 7 : Disk\n",
      "x 8 : Ring\n",
      "x 9 : AGN\n",
      "x 10 : Pseudobulge\n",
      "Eq. selected rmse: 0.1801075843292556\n"
     ]
    },
    {
     "data": {
      "text/latex": [
       "$\\displaystyle x_{1} - \\frac{x_{2} \\left(x_{10} x_{5} + x_{4}\\right)}{x_{9} + 1.7992764988943954} - 2.2078937643380807$"
      ],
      "text/plain": [
       "x1 - x2*(x10*x5 + x4)/(x9 + 1.7992764988943954) - 2.2078937643380807"
      ]
     },
     "metadata": {},
     "output_type": "display_data"
    },
    {
     "name": "stdout",
     "output_type": "stream",
     "text": [
      "Eq. 0 rmse: 0.5611299210807394\n"
     ]
    },
    {
     "data": {
      "text/latex": [
       "$\\displaystyle 7.493157102351386$"
      ],
      "text/plain": [
       "7.493157102351386"
      ]
     },
     "metadata": {},
     "output_type": "display_data"
    },
    {
     "name": "stdout",
     "output_type": "stream",
     "text": [
      "Eq. 1 rmse: 0.39215046203495163\n"
     ]
    },
    {
     "data": {
      "text/latex": [
       "$\\displaystyle 3.5000866220196314 x_{0}$"
      ],
      "text/plain": [
       "3.5000866220196314*x0"
      ]
     },
     "metadata": {},
     "output_type": "display_data"
    },
    {
     "name": "stdout",
     "output_type": "stream",
     "text": [
      "Eq. 2 rmse: 0.3265419083716282\n"
     ]
    },
    {
     "data": {
      "text/latex": [
       "$\\displaystyle 1.4923072964425206 x_{0} x_{3}$"
      ],
      "text/plain": [
       "1.4923072964425206*x0*x3"
      ]
     },
     "metadata": {},
     "output_type": "display_data"
    },
    {
     "name": "stdout",
     "output_type": "stream",
     "text": [
      "Eq. 3 rmse: 0.2766771876909645\n"
     ]
    },
    {
     "data": {
      "text/latex": [
       "$\\displaystyle \\left(x_{0} + 1.4132271902519227\\right) \\left(- x_{2} + x_{3}\\right)$"
      ],
      "text/plain": [
       "(x0 + 1.4132271902519227)*(-x2 + x3)"
      ]
     },
     "metadata": {},
     "output_type": "display_data"
    },
    {
     "name": "stdout",
     "output_type": "stream",
     "text": [
      "Eq. 4 rmse: 0.24470116902475092\n"
     ]
    },
    {
     "data": {
      "text/latex": [
       "$\\displaystyle x_{0} \\left(- 1.214809863914807 x_{10} x_{2} + 3.619097735888229\\right)$"
      ],
      "text/plain": [
       "x0*(-1.214809863914807*x10*x2 + 3.619097735888229)"
      ]
     },
     "metadata": {},
     "output_type": "display_data"
    },
    {
     "name": "stdout",
     "output_type": "stream",
     "text": [
      "Eq. 5 rmse: 0.2029072644562122\n"
     ]
    },
    {
     "data": {
      "text/latex": [
       "$\\displaystyle x_{0} x_{2} \\left(- x_{10} - 1.3773941016599704\\right) + 3.891748089736813 x_{0}$"
      ],
      "text/plain": [
       "x0*x2*(-x10 - 1.3773941016599704) + 3.891748089736813*x0"
      ]
     },
     "metadata": {},
     "output_type": "display_data"
    },
    {
     "name": "stdout",
     "output_type": "stream",
     "text": [
      "Eq. 6 rmse: 0.202728897849022\n"
     ]
    },
    {
     "data": {
      "text/latex": [
       "$\\displaystyle x_{0} x_{2} \\left(- x_{10} - 1.2909888659531248\\right) + 3.8615903366127773 x_{0} + 0.027134056233126713$"
      ],
      "text/plain": [
       "x0*x2*(-x10 - 1.2909888659531248) + 3.8615903366127773*x0 + 0.027134056233126713"
      ]
     },
     "metadata": {},
     "output_type": "display_data"
    },
    {
     "name": "stdout",
     "output_type": "stream",
     "text": [
      "Eq. 7 rmse: 0.1801075843292556\n"
     ]
    },
    {
     "data": {
      "text/latex": [
       "$\\displaystyle x_{1} - \\frac{x_{2} \\left(x_{10} x_{5} + x_{4}\\right)}{x_{9} + 1.7992764988943954} - 2.2078937643380807$"
      ],
      "text/plain": [
       "x1 - x2*(x10*x5 + x4)/(x9 + 1.7992764988943954) - 2.2078937643380807"
      ]
     },
     "metadata": {},
     "output_type": "display_data"
    },
    {
     "name": "stdout",
     "output_type": "stream",
     "text": [
      "Eq. 8 rmse: 0.16638623766890986\n"
     ]
    },
    {
     "data": {
      "text/latex": [
       "$\\displaystyle x_{1} - \\frac{x_{2} \\left(x_{1} + x_{10} \\left(x_{5} + 1.4907421769545612\\right)\\right)}{x_{0} + x_{9}} - 2.279200110362183$"
      ],
      "text/plain": [
       "x1 - x2*(x1 + x10*(x5 + 1.4907421769545612))/(x0 + x9) - 2.279200110362183"
      ]
     },
     "metadata": {},
     "output_type": "display_data"
    },
    {
     "name": "stdout",
     "output_type": "stream",
     "text": [
      "Eq. 9 rmse: 0.16375329232110888\n"
     ]
    },
    {
     "data": {
      "text/latex": [
       "$\\displaystyle x_{1} - \\frac{x_{2} \\left(x_{1} + x_{10} \\left(x_{5} + 2.254942208330392\\right) + x_{6}\\right)}{x_{3} + x_{9}} - 2.254942208330392$"
      ],
      "text/plain": [
       "x1 - x2*(x1 + x10*(x5 + 2.254942208330392) + x6)/(x3 + x9) - 2.254942208330392"
      ]
     },
     "metadata": {},
     "output_type": "display_data"
    },
    {
     "name": "stdout",
     "output_type": "stream",
     "text": [
      "Eq. 10 rmse: 0.16296690356030985\n"
     ]
    },
    {
     "data": {
      "text/latex": [
       "$\\displaystyle x_{1} - \\frac{x_{2} \\left(x_{1} + x_{10} \\left(x_{5} + x_{9} + 1.081866795903725\\right) + x_{6}\\right)}{x_{0} + x_{9}} - 2.2123409463012433$"
      ],
      "text/plain": [
       "x1 - x2*(x1 + x10*(x5 + x9 + 1.081866795903725) + x6)/(x0 + x9) - 2.2123409463012433"
      ]
     },
     "metadata": {},
     "output_type": "display_data"
    }
   ],
   "source": [
    "functions.test_relation(['log_sigma0','M*_gal','tan_phi','log_v_max',\n",
    "                        'logblum',\n",
    "                         'T-type','Bar','Disk', 'Ring','AGN', 'Pseudobulge'],\n",
    "                        operator='basic',ncyclesperiteration=5000,niterations=100)"
   ]
  },
  {
   "cell_type": "code",
   "execution_count": 13,
   "id": "ed595a18",
   "metadata": {
    "scrolled": true
   },
   "outputs": [
    {
     "name": "stdout",
     "output_type": "stream",
     "text": [
      "36\n"
     ]
    },
    {
     "name": "stderr",
     "output_type": "stream",
     "text": [
      "/home/zj448/miniconda3/lib/python3.9/site-packages/pysr/sr.py:1257: UserWarning: Note: it looks like you are running in Jupyter. The progress bar will be turned off.\n",
      "  warnings.warn(\n"
     ]
    },
    {
     "name": "stdout",
     "output_type": "stream",
     "text": [
      "parameters:\n",
      "x 0 : log_sigma0\n",
      "x 1 : M*_gal\n",
      "x 2 : tan_phi\n",
      "x 3 : log_v_max\n",
      "x 4 : bri25\n",
      "x 5 : m21c\n",
      "x 6 : hic\n",
      "x 7 : logblum\n",
      "Eq. selected rmse: 0.19680064178770645\n"
     ]
    },
    {
     "data": {
      "text/latex": [
       "$\\displaystyle \\left(3.809860596530379 - x_{2}\\right) \\left(- x_{2} + x_{3}\\right)$"
      ],
      "text/plain": [
       "(3.809860596530379 - x2)*(-x2 + x3)"
      ]
     },
     "metadata": {},
     "output_type": "display_data"
    },
    {
     "name": "stdout",
     "output_type": "stream",
     "text": [
      "Eq. 0 rmse: 0.47519470996882324\n"
     ]
    },
    {
     "data": {
      "text/latex": [
       "$\\displaystyle 7.625492908901504$"
      ],
      "text/plain": [
       "7.625492908901504"
      ]
     },
     "metadata": {},
     "output_type": "display_data"
    },
    {
     "name": "stdout",
     "output_type": "stream",
     "text": [
      "Eq. 1 rmse: 0.37754003182681656\n"
     ]
    },
    {
     "data": {
      "text/latex": [
       "$\\displaystyle 3.558344941275261 x_{0}$"
      ],
      "text/plain": [
       "3.558344941275261*x0"
      ]
     },
     "metadata": {},
     "output_type": "display_data"
    },
    {
     "name": "stdout",
     "output_type": "stream",
     "text": [
      "Eq. 2 rmse: 0.33218800025654277\n"
     ]
    },
    {
     "data": {
      "text/latex": [
       "$\\displaystyle - x_{2} + 3.3471077794110435 x_{3}$"
      ],
      "text/plain": [
       "-x2 + 3.3471077794110435*x3"
      ]
     },
     "metadata": {},
     "output_type": "display_data"
    },
    {
     "name": "stdout",
     "output_type": "stream",
     "text": [
      "Eq. 3 rmse: 0.19680064178770645\n"
     ]
    },
    {
     "data": {
      "text/latex": [
       "$\\displaystyle \\left(3.809860596530379 - x_{2}\\right) \\left(- x_{2} + x_{3}\\right)$"
      ],
      "text/plain": [
       "(3.809860596530379 - x2)*(-x2 + x3)"
      ]
     },
     "metadata": {},
     "output_type": "display_data"
    },
    {
     "name": "stdout",
     "output_type": "stream",
     "text": [
      "Eq. 4 rmse: 0.18726399644850922\n"
     ]
    },
    {
     "data": {
      "text/latex": [
       "$\\displaystyle - 0.2585553364028098 x_{2} \\left(x_{5} + x_{7}\\right) + 3.81716233995333 x_{3}$"
      ],
      "text/plain": [
       "-0.2585553364028098*x2*(x5 + x7) + 3.81716233995333*x3"
      ]
     },
     "metadata": {},
     "output_type": "display_data"
    },
    {
     "name": "stdout",
     "output_type": "stream",
     "text": [
      "Eq. 5 rmse: 0.16731745957687638\n"
     ]
    },
    {
     "data": {
      "text/latex": [
       "$\\displaystyle 3.8206642019992523 x_{3} - \\frac{x_{2} x_{3} \\left(x_{5} + 15.37653304139599\\right)}{x_{1}}$"
      ],
      "text/plain": [
       "3.8206642019992523*x3 - x2*x3*(x5 + 15.37653304139599)/x1"
      ]
     },
     "metadata": {},
     "output_type": "display_data"
    },
    {
     "name": "stdout",
     "output_type": "stream",
     "text": [
      "Eq. 6 rmse: 0.1670142608292066\n"
     ]
    },
    {
     "data": {
      "text/latex": [
       "$\\displaystyle 3.8222417283851864 x_{3} - \\frac{x_{2} x_{3} \\left(x_{3} + x_{5} + 13.112957927837565\\right)}{x_{1}}$"
      ],
      "text/plain": [
       "3.8222417283851864*x3 - x2*x3*(x3 + x5 + 13.112957927837565)/x1"
      ]
     },
     "metadata": {},
     "output_type": "display_data"
    },
    {
     "name": "stdout",
     "output_type": "stream",
     "text": [
      "Eq. 7 rmse: 0.16522232488839525\n"
     ]
    },
    {
     "data": {
      "text/latex": [
       "$\\displaystyle 3.806917133515937 x_{3} - \\frac{x_{2} x_{3} \\left(- x_{1} + x_{3} + x_{5} + 23.056342512324093\\right)}{x_{1}}$"
      ],
      "text/plain": [
       "3.806917133515937*x3 - x2*x3*(-x1 + x3 + x5 + 23.056342512324093)/x1"
      ]
     },
     "metadata": {},
     "output_type": "display_data"
    },
    {
     "name": "stdout",
     "output_type": "stream",
     "text": [
      "Eq. 8 rmse: 0.1613408402145272\n"
     ]
    },
    {
     "data": {
      "text/latex": [
       "$\\displaystyle 3.8265165133978547 x_{3} - \\frac{x_{2} x_{3}^{2} \\left(x_{5} - \\frac{x_{5} - x_{7} - 0.45927423273751705}{x_{6}}\\right)}{x_{1}}$"
      ],
      "text/plain": [
       "3.8265165133978547*x3 - x2*x3**2*(x5 - (x5 - x7 - 0.45927423273751705)/x6)/x1"
      ]
     },
     "metadata": {},
     "output_type": "display_data"
    }
   ],
   "source": [
    "functions.test_relation(['log_sigma0','M*_gal','tan_phi','log_v_max',\n",
    "                        'bri25', 'm21c','hic','logblum'],\n",
    "                        operator='basic',ncyclesperiteration=5000,niterations=100)"
   ]
  },
  {
   "cell_type": "code",
   "execution_count": 14,
   "id": "aa42896a",
   "metadata": {
    "scrolled": true
   },
   "outputs": [
    {
     "name": "stdout",
     "output_type": "stream",
     "text": [
      "36\n"
     ]
    },
    {
     "name": "stderr",
     "output_type": "stream",
     "text": [
      "/home/zj448/miniconda3/lib/python3.9/site-packages/pysr/sr.py:1257: UserWarning: Note: it looks like you are running in Jupyter. The progress bar will be turned off.\n",
      "  warnings.warn(\n",
      "/home/zj448/miniconda3/lib/python3.9/site-packages/pysr/sr.py:1761: UserWarning: Note: you are running with 10 features or more. Genetic algorithms like used in PySR scale poorly with large numbers of features. Consider using feature selection techniques to select the most important features (you can do this automatically with the `select_k_features` parameter), or, alternatively, doing a dimensionality reduction beforehand. For example, `X = PCA(n_components=6).fit_transform(X)`, using scikit-learn's `PCA` class, will reduce the number of features to 6 in an interpretable way, as each resultant feature will be a linear combination of the original features. \n",
      "  warnings.warn(\n"
     ]
    },
    {
     "name": "stdout",
     "output_type": "stream",
     "text": [
      "parameters:\n",
      "x 0 : log_sigma0\n",
      "x 1 : M*_gal\n",
      "x 2 : tan_phi\n",
      "x 3 : log_v_max\n",
      "x 4 : bri25\n",
      "x 5 : m21c\n",
      "x 6 : hic\n",
      "x 7 : logblum\n",
      "x 8 : T-type\n",
      "x 9 : Bar\n",
      "x 10 : Disk\n",
      "x 11 : Ring\n",
      "x 12 : AGN\n",
      "x 13 : Pseudobulge\n",
      "Eq. selected rmse: 0.16412982655491637\n"
     ]
    },
    {
     "data": {
      "text/latex": [
       "$\\displaystyle x_{0} - x_{2} \\left(\\frac{x_{13}}{x_{12} + x_{2} x_{3}} + 6.637107534767061\\right) + 7.036775597908894$"
      ],
      "text/plain": [
       "x0 - x2*(x13/(x12 + x2*x3) + 6.637107534767061) + 7.036775597908894"
      ]
     },
     "metadata": {},
     "output_type": "display_data"
    },
    {
     "name": "stdout",
     "output_type": "stream",
     "text": [
      "Eq. 0 rmse: 0.47519470996882324\n"
     ]
    },
    {
     "data": {
      "text/latex": [
       "$\\displaystyle 7.6254929089013395$"
      ],
      "text/plain": [
       "7.6254929089013395"
      ]
     },
     "metadata": {},
     "output_type": "display_data"
    },
    {
     "name": "stdout",
     "output_type": "stream",
     "text": [
      "Eq. 1 rmse: 0.39708956099769155\n"
     ]
    },
    {
     "data": {
      "text/latex": [
       "$\\displaystyle x_{1} - 3.212229433210902$"
      ],
      "text/plain": [
       "x1 - 3.212229433210902"
      ]
     },
     "metadata": {},
     "output_type": "display_data"
    },
    {
     "name": "stdout",
     "output_type": "stream",
     "text": [
      "Eq. 2 rmse: 0.25569392333081403\n"
     ]
    },
    {
     "data": {
      "text/latex": [
       "$\\displaystyle 9.28545937265924 - 7.5107933801451905 x_{2}$"
      ],
      "text/plain": [
       "9.28545937265924 - 7.5107933801451905*x2"
      ]
     },
     "metadata": {},
     "output_type": "display_data"
    },
    {
     "name": "stdout",
     "output_type": "stream",
     "text": [
      "Eq. 3 rmse: 0.21905173262292713\n"
     ]
    },
    {
     "data": {
      "text/latex": [
       "$\\displaystyle - x_{2} \\cdot \\left(8.546724548752035 - x_{12}\\right) + 9.334919036314322$"
      ],
      "text/plain": [
       "-x2*(8.546724548752035 - x12) + 9.334919036314322"
      ]
     },
     "metadata": {},
     "output_type": "display_data"
    },
    {
     "name": "stdout",
     "output_type": "stream",
     "text": [
      "Eq. 4 rmse: 0.1993988901788536\n"
     ]
    },
    {
     "data": {
      "text/latex": [
       "$\\displaystyle x_{0} - x_{2} \\left(x_{13} + 5.951421320679995\\right) + 6.851002561320273$"
      ],
      "text/plain": [
       "x0 - x2*(x13 + 5.951421320679995) + 6.851002561320273"
      ]
     },
     "metadata": {},
     "output_type": "display_data"
    },
    {
     "name": "stdout",
     "output_type": "stream",
     "text": [
      "Eq. 5 rmse: 0.18320431505707288\n"
     ]
    },
    {
     "data": {
      "text/latex": [
       "$\\displaystyle x_{0} - x_{2} \\left(- x_{12} + x_{13} + 7.278829378089557\\right) + 6.992625387556819$"
      ],
      "text/plain": [
       "x0 - x2*(-x12 + x13 + 7.278829378089557) + 6.992625387556819"
      ]
     },
     "metadata": {},
     "output_type": "display_data"
    },
    {
     "name": "stdout",
     "output_type": "stream",
     "text": [
      "Eq. 6 rmse: 0.17633926425085\n"
     ]
    },
    {
     "data": {
      "text/latex": [
       "$\\displaystyle x_{0} - x_{2} \\left(\\frac{x_{13}}{x_{12} + 0.4915499592771321} + 6.414355085866888\\right) + 6.983815058316353$"
      ],
      "text/plain": [
       "x0 - x2*(x13/(x12 + 0.4915499592771321) + 6.414355085866888) + 6.983815058316353"
      ]
     },
     "metadata": {},
     "output_type": "display_data"
    },
    {
     "name": "stdout",
     "output_type": "stream",
     "text": [
      "Eq. 7 rmse: 0.16412982655491637\n"
     ]
    },
    {
     "data": {
      "text/latex": [
       "$\\displaystyle x_{0} - x_{2} \\left(\\frac{x_{13}}{x_{12} + x_{2} x_{3}} + 6.637107534767061\\right) + 7.036775597908894$"
      ],
      "text/plain": [
       "x0 - x2*(x13/(x12 + x2*x3) + 6.637107534767061) + 7.036775597908894"
      ]
     },
     "metadata": {},
     "output_type": "display_data"
    },
    {
     "name": "stdout",
     "output_type": "stream",
     "text": [
      "Eq. 8 rmse: 0.15549352848835993\n"
     ]
    },
    {
     "data": {
      "text/latex": [
       "$\\displaystyle x_{0} - x_{2} \\left(\\frac{x_{13}}{x_{3} \\left(x_{12} x_{9} + x_{2}\\right)} + 6.59024495458458\\right) + 7.021965090884476$"
      ],
      "text/plain": [
       "x0 - x2*(x13/(x3*(x12*x9 + x2)) + 6.59024495458458) + 7.021965090884476"
      ]
     },
     "metadata": {},
     "output_type": "display_data"
    },
    {
     "name": "stdout",
     "output_type": "stream",
     "text": [
      "Eq. 9 rmse: 0.14776649891415744\n"
     ]
    },
    {
     "data": {
      "text/latex": [
       "$\\displaystyle x_{0} - x_{2} \\left(\\frac{x_{13}}{x_{3} \\left(x_{11} \\left(x_{12} - 0.06734680759228855\\right) + x_{2}\\right)} + 6.40325367213717\\right) + 6.992625387556819$"
      ],
      "text/plain": [
       "x0 - x2*(x13/(x3*(x11*(x12 - 0.06734680759228855) + x2)) + 6.40325367213717) + 6.992625387556819"
      ]
     },
     "metadata": {},
     "output_type": "display_data"
    },
    {
     "name": "stdout",
     "output_type": "stream",
     "text": [
      "Eq. 10 rmse: 0.14423913582866282\n"
     ]
    },
    {
     "data": {
      "text/latex": [
       "$\\displaystyle x_{0} - x_{2} \\left(\\frac{x_{13}}{x_{3} \\left(x_{11} x_{9} \\left(x_{12} - 0.08110991095314397\\right) + x_{2}\\right)} + 6.40325367213717\\right) + 6.992625387556819$"
      ],
      "text/plain": [
       "x0 - x2*(x13/(x3*(x11*x9*(x12 - 0.08110991095314397) + x2)) + 6.40325367213717) + 6.992625387556819"
      ]
     },
     "metadata": {},
     "output_type": "display_data"
    }
   ],
   "source": [
    "functions.test_relation(['log_sigma0','M*_gal','tan_phi','log_v_max',\n",
    "                        'bri25', 'm21c','hic','logblum',\n",
    "                        'T-type','Bar','Disk', 'Ring','AGN', 'Pseudobulge'],\n",
    "                        operator='basic',ncyclesperiteration=5000,niterations=100)"
   ]
  },
  {
   "cell_type": "code",
   "execution_count": null,
   "id": "18321c42",
   "metadata": {},
   "outputs": [],
   "source": []
  }
 ],
 "metadata": {
  "kernelspec": {
   "display_name": "Python 3 (ipykernel)",
   "language": "python",
   "name": "python3"
  },
  "language_info": {
   "codemirror_mode": {
    "name": "ipython",
    "version": 3
   },
   "file_extension": ".py",
   "mimetype": "text/x-python",
   "name": "python",
   "nbconvert_exporter": "python",
   "pygments_lexer": "ipython3",
   "version": "3.9.5"
  }
 },
 "nbformat": 4,
 "nbformat_minor": 5
}
