{
 "cells": [
  {
   "cell_type": "code",
   "execution_count": 1,
   "id": "4a09d2db",
   "metadata": {},
   "outputs": [],
   "source": [
    "import numpy as np\n",
    "import pandas as pd\n",
    "from pysr import PySRRegressor\n",
    "from matplotlib import pyplot as plt\n",
    "from sklearn.model_selection import train_test_split\n",
    "from sklearn.ensemble import RandomForestRegressor\n",
    "\n",
    "import functions"
   ]
  },
  {
   "cell_type": "code",
   "execution_count": 2,
   "id": "3a4531fa",
   "metadata": {},
   "outputs": [],
   "source": [
    "keys=['Bar', 'Disk', 'Ring', 'Core', 'Multiple', 'Compactness', 'AGN',\n",
    "       'Pseudobulge', 'BCG', 'cD', 'M_BH', 'M*_sph', 'M*_gal', 'log_B/T',\n",
    "       'log_sigma0', 'log_R_e_sph_maj','log_R_e_sph_eq_kpc', 'log_n_sph_maj', 'log_n_sph_eq', 'log(I_e,sph,maj/M_Sun/pc^2)',\n",
    "       'log(I_e,sph,eq/M_Sun/pc^2)', 'Concentration_Index',\n",
    "       'avg_Rho_1kpc_Exact_All', 'r1_density_approx', 'log10(R10_kpc)',\n",
    "       'logRho_R10_approx', 'log_rho10_Exact', 'log10(R90_kpc)',\n",
    "       'logRho_R90_approx', 'log_rho_90_Exact_all', 'Rho_re_spatial',\n",
    "       'SR_pc_All', 'Rho_SR_pc_All', 'CR_def1_approx_new',\n",
    "       'Rho_cr_def1_approx_new', 'CR_def2_approx_new',\n",
    "       'Rho_CR_def2_approx_new', 'Sr(pc)_2_using_Falserm_drho',\n",
    "       'Log_Approx_Avg_density_10pc', 'log_Rho_e_Exact_new',\n",
    "       'logRho_e_approx_New', 'logRho_soi_approx_new',\n",
    "       'log_Rho_soi_exact_new', 'Avg_Rho_Re_Exact_all',\n",
    "       'Avg_Rho_soi_exact_all', 'Avg_Rho_re_Exact_all', 'Rho_re_Exact_all',\n",
    "       'Rho_r_soi_2BH_approx', 'Log_Avg_Rho_10kpc_approx',\n",
    "       'Log_Avg_Rho_10kpc_exact_final', 'Log_Avg_Rho_100pc_approx',\n",
    "       'Log_Avg_Rho_5kpc_approx', 'Log_Avg_rho_5kpc_exact_all', 'ube', 'bve',\n",
    "       'dc', 'bvtc', 'bri25', 'mabs', 'blum', 'logblum', 'logSigma0sph',\n",
    "       'LogSigma0', 'R10', 'logR10', 'logR10phi', 'Rh', 'logRh', 'logRhphi',\n",
    "       'logHalo']"
   ]
  },
  {
   "cell_type": "code",
   "execution_count": 3,
   "id": "91c7bbc7",
   "metadata": {},
   "outputs": [
    {
     "data": {
      "text/plain": [
       "70"
      ]
     },
     "execution_count": 3,
     "metadata": {},
     "output_type": "execute_result"
    }
   ],
   "source": [
    "len(keys)"
   ]
  },
  {
   "cell_type": "code",
   "execution_count": 4,
   "id": "19f2e69c",
   "metadata": {},
   "outputs": [],
   "source": [
    "df_full = pd.read_csv('SMBH_Data_0522.csv',header=1)"
   ]
  },
  {
   "cell_type": "code",
   "execution_count": 5,
   "id": "78f53e9d",
   "metadata": {},
   "outputs": [
    {
     "data": {
      "text/html": [
       "<div>\n",
       "<style scoped>\n",
       "    .dataframe tbody tr th:only-of-type {\n",
       "        vertical-align: middle;\n",
       "    }\n",
       "\n",
       "    .dataframe tbody tr th {\n",
       "        vertical-align: top;\n",
       "    }\n",
       "\n",
       "    .dataframe thead th {\n",
       "        text-align: right;\n",
       "    }\n",
       "</style>\n",
       "<table border=\"1\" class=\"dataframe\">\n",
       "  <thead>\n",
       "    <tr style=\"text-align: right;\">\n",
       "      <th></th>\n",
       "      <th>Bar</th>\n",
       "      <th>Disk</th>\n",
       "      <th>Ring</th>\n",
       "      <th>Core</th>\n",
       "      <th>Multiple</th>\n",
       "      <th>Compactness</th>\n",
       "      <th>AGN</th>\n",
       "      <th>Pseudobulge</th>\n",
       "      <th>BCG</th>\n",
       "      <th>cD</th>\n",
       "      <th>...</th>\n",
       "      <th>logblum</th>\n",
       "      <th>logSigma0sph</th>\n",
       "      <th>LogSigma0</th>\n",
       "      <th>R10</th>\n",
       "      <th>logR10</th>\n",
       "      <th>logR10phi</th>\n",
       "      <th>Rh</th>\n",
       "      <th>logRh</th>\n",
       "      <th>logRhphi</th>\n",
       "      <th>logHalo</th>\n",
       "    </tr>\n",
       "  </thead>\n",
       "  <tbody>\n",
       "    <tr>\n",
       "      <th>1</th>\n",
       "      <td>0</td>\n",
       "      <td>0.0</td>\n",
       "      <td>0</td>\n",
       "      <td>1.0</td>\n",
       "      <td>0</td>\n",
       "      <td>0</td>\n",
       "      <td>1.0</td>\n",
       "      <td>0</td>\n",
       "      <td>1</td>\n",
       "      <td>0</td>\n",
       "      <td>...</td>\n",
       "      <td>10.7372</td>\n",
       "      <td>8.218084</td>\n",
       "      <td>4.704516</td>\n",
       "      <td>34.766963</td>\n",
       "      <td>1.541167</td>\n",
       "      <td>10.148833</td>\n",
       "      <td>8.079469</td>\n",
       "      <td>0.907383</td>\n",
       "      <td>10.782617</td>\n",
       "      <td>13.959319</td>\n",
       "    </tr>\n",
       "    <tr>\n",
       "      <th>3</th>\n",
       "      <td>0</td>\n",
       "      <td>0.0</td>\n",
       "      <td>0</td>\n",
       "      <td>0.0</td>\n",
       "      <td>0</td>\n",
       "      <td>0</td>\n",
       "      <td>1.0</td>\n",
       "      <td>0</td>\n",
       "      <td>1</td>\n",
       "      <td>0</td>\n",
       "      <td>...</td>\n",
       "      <td>11.1172</td>\n",
       "      <td>5.486389</td>\n",
       "      <td>4.033710</td>\n",
       "      <td>18.612540</td>\n",
       "      <td>1.269806</td>\n",
       "      <td>10.470194</td>\n",
       "      <td>7.044676</td>\n",
       "      <td>0.847861</td>\n",
       "      <td>10.892139</td>\n",
       "      <td>14.060462</td>\n",
       "    </tr>\n",
       "    <tr>\n",
       "      <th>5</th>\n",
       "      <td>1</td>\n",
       "      <td>1.0</td>\n",
       "      <td>0</td>\n",
       "      <td>0.0</td>\n",
       "      <td>0</td>\n",
       "      <td>0</td>\n",
       "      <td>0.0</td>\n",
       "      <td>0</td>\n",
       "      <td>0</td>\n",
       "      <td>0</td>\n",
       "      <td>...</td>\n",
       "      <td>10.2816</td>\n",
       "      <td>6.294257</td>\n",
       "      <td>3.790449</td>\n",
       "      <td>9.360143</td>\n",
       "      <td>0.971282</td>\n",
       "      <td>9.791918</td>\n",
       "      <td>1.618051</td>\n",
       "      <td>0.208992</td>\n",
       "      <td>10.554208</td>\n",
       "      <td>12.563130</td>\n",
       "    </tr>\n",
       "    <tr>\n",
       "      <th>6</th>\n",
       "      <td>0</td>\n",
       "      <td>1.0</td>\n",
       "      <td>0</td>\n",
       "      <td>0.0</td>\n",
       "      <td>0</td>\n",
       "      <td>0</td>\n",
       "      <td>0.0</td>\n",
       "      <td>0</td>\n",
       "      <td>0</td>\n",
       "      <td>0</td>\n",
       "      <td>...</td>\n",
       "      <td>8.7472</td>\n",
       "      <td>4.025433</td>\n",
       "      <td>4.008665</td>\n",
       "      <td>0.697465</td>\n",
       "      <td>-0.156477</td>\n",
       "      <td>9.346477</td>\n",
       "      <td>0.365014</td>\n",
       "      <td>-0.437691</td>\n",
       "      <td>9.627691</td>\n",
       "      <td>11.525458</td>\n",
       "    </tr>\n",
       "    <tr>\n",
       "      <th>7</th>\n",
       "      <td>0</td>\n",
       "      <td>1.0</td>\n",
       "      <td>0</td>\n",
       "      <td>1.0</td>\n",
       "      <td>0</td>\n",
       "      <td>0</td>\n",
       "      <td>0.0</td>\n",
       "      <td>0</td>\n",
       "      <td>1</td>\n",
       "      <td>0</td>\n",
       "      <td>...</td>\n",
       "      <td>10.7976</td>\n",
       "      <td>3.648904</td>\n",
       "      <td>4.059098</td>\n",
       "      <td>11.966130</td>\n",
       "      <td>1.077954</td>\n",
       "      <td>10.302046</td>\n",
       "      <td>2.962211</td>\n",
       "      <td>0.471616</td>\n",
       "      <td>10.908384</td>\n",
       "      <td>13.405242</td>\n",
       "    </tr>\n",
       "    <tr>\n",
       "      <th>...</th>\n",
       "      <td>...</td>\n",
       "      <td>...</td>\n",
       "      <td>...</td>\n",
       "      <td>...</td>\n",
       "      <td>...</td>\n",
       "      <td>...</td>\n",
       "      <td>...</td>\n",
       "      <td>...</td>\n",
       "      <td>...</td>\n",
       "      <td>...</td>\n",
       "      <td>...</td>\n",
       "      <td>...</td>\n",
       "      <td>...</td>\n",
       "      <td>...</td>\n",
       "      <td>...</td>\n",
       "      <td>...</td>\n",
       "      <td>...</td>\n",
       "      <td>...</td>\n",
       "      <td>...</td>\n",
       "      <td>...</td>\n",
       "      <td>...</td>\n",
       "    </tr>\n",
       "    <tr>\n",
       "      <th>132</th>\n",
       "      <td>1</td>\n",
       "      <td>1.0</td>\n",
       "      <td>0</td>\n",
       "      <td>0.0</td>\n",
       "      <td>0</td>\n",
       "      <td>0</td>\n",
       "      <td>0.0</td>\n",
       "      <td>1</td>\n",
       "      <td>0</td>\n",
       "      <td>0</td>\n",
       "      <td>...</td>\n",
       "      <td>10.8796</td>\n",
       "      <td>8.242104</td>\n",
       "      <td>4.714507</td>\n",
       "      <td>18.008377</td>\n",
       "      <td>1.255475</td>\n",
       "      <td>10.014525</td>\n",
       "      <td>2.434609</td>\n",
       "      <td>0.386429</td>\n",
       "      <td>10.883571</td>\n",
       "      <td>13.233744</td>\n",
       "    </tr>\n",
       "    <tr>\n",
       "      <th>133</th>\n",
       "      <td>0</td>\n",
       "      <td>1.0</td>\n",
       "      <td>1</td>\n",
       "      <td>0.0</td>\n",
       "      <td>0</td>\n",
       "      <td>0</td>\n",
       "      <td>1.0</td>\n",
       "      <td>1</td>\n",
       "      <td>0</td>\n",
       "      <td>0</td>\n",
       "      <td>...</td>\n",
       "      <td>10.0440</td>\n",
       "      <td>4.922064</td>\n",
       "      <td>4.836918</td>\n",
       "      <td>8.813445</td>\n",
       "      <td>0.945146</td>\n",
       "      <td>9.564854</td>\n",
       "      <td>0.942243</td>\n",
       "      <td>-0.025837</td>\n",
       "      <td>10.535837</td>\n",
       "      <td>12.289895</td>\n",
       "    </tr>\n",
       "    <tr>\n",
       "      <th>134</th>\n",
       "      <td>0</td>\n",
       "      <td>1.0</td>\n",
       "      <td>0</td>\n",
       "      <td>0.0</td>\n",
       "      <td>0</td>\n",
       "      <td>0</td>\n",
       "      <td>1.0</td>\n",
       "      <td>1</td>\n",
       "      <td>0</td>\n",
       "      <td>0</td>\n",
       "      <td>...</td>\n",
       "      <td>9.9796</td>\n",
       "      <td>4.021619</td>\n",
       "      <td>4.798361</td>\n",
       "      <td>10.510415</td>\n",
       "      <td>1.021620</td>\n",
       "      <td>9.718380</td>\n",
       "      <td>1.828245</td>\n",
       "      <td>0.262034</td>\n",
       "      <td>10.477966</td>\n",
       "      <td>12.536387</td>\n",
       "    </tr>\n",
       "    <tr>\n",
       "      <th>136</th>\n",
       "      <td>0</td>\n",
       "      <td>1.0</td>\n",
       "      <td>0</td>\n",
       "      <td>0.0</td>\n",
       "      <td>0</td>\n",
       "      <td>0</td>\n",
       "      <td>0.0</td>\n",
       "      <td>1</td>\n",
       "      <td>0</td>\n",
       "      <td>0</td>\n",
       "      <td>...</td>\n",
       "      <td>10.5304</td>\n",
       "      <td>4.140150</td>\n",
       "      <td>4.714823</td>\n",
       "      <td>16.634078</td>\n",
       "      <td>1.220999</td>\n",
       "      <td>9.589001</td>\n",
       "      <td>3.155569</td>\n",
       "      <td>0.499078</td>\n",
       "      <td>10.310922</td>\n",
       "      <td>12.618079</td>\n",
       "    </tr>\n",
       "    <tr>\n",
       "      <th>142</th>\n",
       "      <td>1</td>\n",
       "      <td>1.0</td>\n",
       "      <td>0</td>\n",
       "      <td>0.0</td>\n",
       "      <td>0</td>\n",
       "      <td>0</td>\n",
       "      <td>1.0</td>\n",
       "      <td>1</td>\n",
       "      <td>1</td>\n",
       "      <td>0</td>\n",
       "      <td>...</td>\n",
       "      <td>10.3896</td>\n",
       "      <td>5.408371</td>\n",
       "      <td>4.731652</td>\n",
       "      <td>16.803388</td>\n",
       "      <td>1.225397</td>\n",
       "      <td>9.674603</td>\n",
       "      <td>1.863375</td>\n",
       "      <td>0.270300</td>\n",
       "      <td>10.629700</td>\n",
       "      <td>12.727499</td>\n",
       "    </tr>\n",
       "  </tbody>\n",
       "</table>\n",
       "<p>100 rows × 70 columns</p>\n",
       "</div>"
      ],
      "text/plain": [
       "     Bar  Disk  Ring  Core  Multiple  Compactness  AGN  Pseudobulge  BCG  cD  \\\n",
       "1      0   0.0     0   1.0         0            0  1.0            0    1   0   \n",
       "3      0   0.0     0   0.0         0            0  1.0            0    1   0   \n",
       "5      1   1.0     0   0.0         0            0  0.0            0    0   0   \n",
       "6      0   1.0     0   0.0         0            0  0.0            0    0   0   \n",
       "7      0   1.0     0   1.0         0            0  0.0            0    1   0   \n",
       "..   ...   ...   ...   ...       ...          ...  ...          ...  ...  ..   \n",
       "132    1   1.0     0   0.0         0            0  0.0            1    0   0   \n",
       "133    0   1.0     1   0.0         0            0  1.0            1    0   0   \n",
       "134    0   1.0     0   0.0         0            0  1.0            1    0   0   \n",
       "136    0   1.0     0   0.0         0            0  0.0            1    0   0   \n",
       "142    1   1.0     0   0.0         0            0  1.0            1    1   0   \n",
       "\n",
       "     ...  logblum  logSigma0sph  LogSigma0        R10    logR10  logR10phi  \\\n",
       "1    ...  10.7372      8.218084   4.704516  34.766963  1.541167  10.148833   \n",
       "3    ...  11.1172      5.486389   4.033710  18.612540  1.269806  10.470194   \n",
       "5    ...  10.2816      6.294257   3.790449   9.360143  0.971282   9.791918   \n",
       "6    ...   8.7472      4.025433   4.008665   0.697465 -0.156477   9.346477   \n",
       "7    ...  10.7976      3.648904   4.059098  11.966130  1.077954  10.302046   \n",
       "..   ...      ...           ...        ...        ...       ...        ...   \n",
       "132  ...  10.8796      8.242104   4.714507  18.008377  1.255475  10.014525   \n",
       "133  ...  10.0440      4.922064   4.836918   8.813445  0.945146   9.564854   \n",
       "134  ...   9.9796      4.021619   4.798361  10.510415  1.021620   9.718380   \n",
       "136  ...  10.5304      4.140150   4.714823  16.634078  1.220999   9.589001   \n",
       "142  ...  10.3896      5.408371   4.731652  16.803388  1.225397   9.674603   \n",
       "\n",
       "           Rh     logRh   logRhphi    logHalo  \n",
       "1    8.079469  0.907383  10.782617  13.959319  \n",
       "3    7.044676  0.847861  10.892139  14.060462  \n",
       "5    1.618051  0.208992  10.554208  12.563130  \n",
       "6    0.365014 -0.437691   9.627691  11.525458  \n",
       "7    2.962211  0.471616  10.908384  13.405242  \n",
       "..        ...       ...        ...        ...  \n",
       "132  2.434609  0.386429  10.883571  13.233744  \n",
       "133  0.942243 -0.025837  10.535837  12.289895  \n",
       "134  1.828245  0.262034  10.477966  12.536387  \n",
       "136  3.155569  0.499078  10.310922  12.618079  \n",
       "142  1.863375  0.270300  10.629700  12.727499  \n",
       "\n",
       "[100 rows x 70 columns]"
      ]
     },
     "execution_count": 5,
     "metadata": {},
     "output_type": "execute_result"
    }
   ],
   "source": [
    "df = df_full[keys].dropna(axis='index',how='any')\n",
    "df"
   ]
  },
  {
   "cell_type": "code",
   "execution_count": 6,
   "id": "ab4d0e5d",
   "metadata": {},
   "outputs": [],
   "source": [
    "keys.remove('M_BH')"
   ]
  },
  {
   "cell_type": "code",
   "execution_count": 7,
   "id": "1c8c6816",
   "metadata": {},
   "outputs": [],
   "source": [
    "X = df[keys]\n",
    "y = df['M_BH']"
   ]
  },
  {
   "cell_type": "code",
   "execution_count": 8,
   "id": "ff546dab",
   "metadata": {},
   "outputs": [],
   "source": [
    "# Split the data into training and testing sets\n",
    "X_train, X_test, y_train, y_test = train_test_split(X, y, test_size=0.2, random_state=0)"
   ]
  },
  {
   "cell_type": "code",
   "execution_count": 47,
   "id": "1885e651",
   "metadata": {},
   "outputs": [
    {
     "name": "stdout",
     "output_type": "stream",
     "text": [
      "Training Set RMSE:  0.16928349114724625\n",
      "Test Set RMSE:  0.33025423312957003\n"
     ]
    },
    {
     "data": {
      "image/png": "[encoded data removed]",
      "text/plain": [
       "<Figure size 1000x600 with 1 Axes>"
      ]
     },
     "metadata": {},
     "output_type": "display_data"
    }
   ],
   "source": [
    "# Create a Random Forest Regressor\n",
    "n_estimators = 100  # Number of trees in the forest\n",
    "max_depth = None    # Maximum depth of the trees (None means unlimited)\n",
    "random_state = 0    # Random seed for reproducibility\n",
    "\n",
    "rf_regressor = RandomForestRegressor(n_estimators=n_estimators, max_depth=max_depth, random_state=random_state)\n",
    "\n",
    "# Fit the model to the training data\n",
    "rf_regressor.fit(X_train, y_train)\n",
    "\n",
    "# Predict on the test data\n",
    "y_pred = rf_regressor.predict(X_test)\n",
    "\n",
    "# Calculate the training and test set loss (Mean Squared Error)\n",
    "# functions.rmse\n",
    "#train_loss = np.mean((y_train - rf_regressor.predict(X_train)) ** 2)\n",
    "#test_loss = np.mean((y_test - y_pred) ** 2)\n",
    "train_rmse = functions.rmse(y_train,rf_regressor.predict(X_train))\n",
    "test_rmse = functions.rmse(y_test,y_pred)\n",
    "\n",
    "print(\"Training Set RMSE: \",train_rmse)\n",
    "print(\"Test Set RMSE: \",test_rmse)\n",
    "\n",
    "# Plot the results\n",
    "plt.figure(figsize=(10, 6))\n",
    "plt.scatter(y_test, y_pred, label=\"test set\")\n",
    "plt.scatter(y_train, rf_regressor.predict(X_train), label=\"training set\")\n",
    "plt.xlabel(\"Truth\")\n",
    "plt.ylabel(\"Prediction\")\n",
    "plt.title(\"Random Forest Regression\")\n",
    "plt.legend()\n",
    "plt.show()"
   ]
  },
  {
   "cell_type": "code",
   "execution_count": 48,
   "id": "12c45ca4",
   "metadata": {},
   "outputs": [
    {
     "data": {
      "image/png": "[encoded data removed]",
      "text/plain": [
       "<Figure size 2000x1000 with 1 Axes>"
      ]
     },
     "metadata": {},
     "output_type": "display_data"
    }
   ],
   "source": [
    "# Get feature importances\n",
    "feature_importances = rf_regressor.feature_importances_\n",
    "\n",
    "x_ticks_labels = X.columns\n",
    "x_ticks=np.arange(69)\n",
    "# Plot feature importances\n",
    "plt.figure(figsize=(20, 10))\n",
    "plt.bar(range(X.shape[1]), feature_importances, align=\"center\")\n",
    "plt.xlabel(\"Feature\",fontsize=20)\n",
    "plt.ylabel(\"Importance\",fontsize=20)\n",
    "plt.xticks(ticks=x_ticks,labels=x_ticks_labels, rotation=90, fontsize=14)\n",
    "plt.show()\n"
   ]
  },
  {
   "cell_type": "code",
   "execution_count": 31,
   "id": "80141c4d",
   "metadata": {},
   "outputs": [
    {
     "data": {
      "text/plain": [
       "array([13, 15, 23, 12, 52, 26, 14, 40, 10, 47, 41, 45, 39,  7, 20, 48, 50,\n",
       "       42, 64, 44, 43, 29, 36, 17, 53, 11, 55, 28, 22, 37, 16, 60, 67, 46,\n",
       "       68, 51, 32, 49, 59, 31, 54, 61, 62, 18, 58,  0, 56, 57, 34, 63, 25,\n",
       "       35, 33, 30, 19, 21, 27, 24, 66, 65,  4, 38,  8,  9,  3,  6,  2,  1,\n",
       "        5])"
      ]
     },
     "execution_count": 31,
     "metadata": {},
     "output_type": "execute_result"
    }
   ],
   "source": [
    "importance_order=feature_importances.argsort()[::-1]\n",
    "importance=np.sort(feature_importances)[::-1]\n",
    "importance_order"
   ]
  },
  {
   "cell_type": "code",
   "execution_count": 32,
   "id": "f5ac8895",
   "metadata": {},
   "outputs": [
    {
     "name": "stdout",
     "output_type": "stream",
     "text": [
      "1 log_sigma0 0.27695167502525925\n",
      "2 log_R_e_sph_eq_kpc 0.1342486869670756\n",
      "3 log10(R10_kpc) 0.08885268104702265\n",
      "4 log_B/T 0.06920631715838862\n",
      "5 ube 0.0485851175765438\n",
      "6 log10(R90_kpc) 0.036154486527223986\n",
      "7 log_R_e_sph_maj 0.03353793704205425\n",
      "8 logRho_soi_approx_new 0.02384676275035487\n",
      "9 M*_sph 0.021634333950321386\n",
      "10 Log_Avg_Rho_10kpc_approx 0.020486502950576736\n",
      "11 log_Rho_soi_exact_new 0.016867260862868202\n",
      "12 Rho_re_Exact_all 0.015243697694192846\n",
      "13 logRho_e_approx_New 0.01348741034364355\n",
      "14 Pseudobulge 0.01104404093308889\n",
      "15 Concentration_Index 0.010340069169153596\n",
      "16 Log_Avg_Rho_10kpc_exact_final 0.009999723291754548\n",
      "17 Log_Avg_Rho_5kpc_approx 0.009901240315711487\n",
      "18 Avg_Rho_Re_Exact_all 0.008036315961950367\n",
      "19 logR10phi 0.007293000357793209\n",
      "20 Avg_Rho_re_Exact_all 0.007230926879352517\n",
      "21 Avg_Rho_soi_exact_all 0.007128625851073037\n",
      "22 Rho_re_spatial 0.007036813831351856\n",
      "23 Sr(pc)_2_using_Falserm_drho 0.006655398505468967\n",
      "24 log_n_sph_eq 0.006296329266229306\n",
      "25 bve 0.00609565955099991\n",
      "26 M*_gal 0.00570681601984662\n",
      "27 bvtc 0.005621906953083712\n",
      "28 log_rho_90_Exact_all 0.005537023055251301\n",
      "29 r1_density_approx 0.005373227785866698\n",
      "30 Log_Approx_Avg_density_10pc 0.0053642055314930236\n",
      "31 log_n_sph_maj 0.005340703063923714\n",
      "32 logSigma0sph 0.005237041592281671\n",
      "33 logRhphi 0.004637277176247363\n",
      "34 Rho_r_soi_2BH_approx 0.004491230841789971\n",
      "35 logHalo 0.0038776666406818445\n",
      "36 Log_Avg_rho_5kpc_exact_all 0.003655512864734335\n",
      "37 CR_def1_approx_new 0.0035257419683223457\n",
      "38 Log_Avg_Rho_100pc_approx 0.003063907765116406\n",
      "39 logblum 0.002990884655319495\n",
      "40 Rho_SR_pc_All 0.0027670445885376953\n",
      "41 dc 0.0025592743424113916\n",
      "42 LogSigma0 0.002499991397884808\n",
      "43 R10 0.002384544538334184\n",
      "44 log(I_e,sph,maj/M_Sun/pc^2) 0.0023501115588446726\n",
      "45 blum 0.0022534466647649975\n",
      "46 Bar 0.002096858781438132\n",
      "47 bri25 0.0020811657205549805\n",
      "48 mabs 0.002064435189530084\n",
      "49 CR_def2_approx_new 0.0020446188415762503\n",
      "50 logR10 0.0019817411440295487\n",
      "51 log_rho10_Exact 0.001921394335967773\n",
      "52 Rho_CR_def2_approx_new 0.001781690887043556\n",
      "53 Rho_cr_def1_approx_new 0.0017687264365732957\n",
      "54 SR_pc_All 0.001686847075668641\n",
      "55 log(I_e,sph,eq/M_Sun/pc^2) 0.0015719021326997653\n",
      "56 avg_Rho_1kpc_Exact_All 0.0011367069820667534\n",
      "57 logRho_R90_approx 0.000782689195769482\n",
      "58 logRho_R10_approx 0.0007599501376066339\n",
      "59 logRh 0.0005014402097939488\n",
      "60 Rh 0.00044502838329709446\n",
      "61 Multiple 0.0004170680851942662\n",
      "62 log_Rho_e_Exact_new 0.00037738114998230434\n",
      "63 BCG 0.00023323836594880019\n",
      "64 cD 0.00023137229006982388\n",
      "65 Core 0.00021252898643065149\n",
      "66 AGN 0.0002051730803410655\n",
      "67 Ring 0.00014681478387278555\n",
      "68 Disk 0.00012828899754009442\n",
      "69 Compactness 2.4365992814463624e-05\n"
     ]
    }
   ],
   "source": [
    "for i in range(len(importance_order)):\n",
    "    print(i+1,X.columns[importance_order[i]],importance[i])"
   ]
  },
  {
   "cell_type": "code",
   "execution_count": 33,
   "id": "8d5fa76d",
   "metadata": {},
   "outputs": [
    {
     "data": {
      "text/plain": [
       "Index(['log_sigma0', 'log_R_e_sph_eq_kpc', 'log10(R10_kpc)', 'log_B/T', 'ube',\n",
       "       'log10(R90_kpc)', 'log_R_e_sph_maj', 'logRho_soi_approx_new', 'M*_sph',\n",
       "       'Log_Avg_Rho_10kpc_approx'],\n",
       "      dtype='object')"
      ]
     },
     "execution_count": 33,
     "metadata": {},
     "output_type": "execute_result"
    }
   ],
   "source": [
    "X.columns[importance_order][:10]"
   ]
  },
  {
   "cell_type": "code",
   "execution_count": 48,
   "id": "964857eb",
   "metadata": {},
   "outputs": [],
   "source": [
    "#from sklearn.decomposition import PCA\n",
    "#pcs = PCA().fit_transform(X)"
   ]
  },
  {
   "cell_type": "code",
   "execution_count": null,
   "id": "fbcf5895",
   "metadata": {},
   "outputs": [],
   "source": []
  },
  {
   "cell_type": "code",
   "execution_count": 34,
   "id": "8e4a8b5e",
   "metadata": {},
   "outputs": [],
   "source": [
    "from sklearn.model_selection import GridSearchCV\n",
    "\n",
    "# Create a Random Forest Regressor\n",
    "rf_regressor = RandomForestRegressor()\n",
    "\n",
    "# Define the hyperparameter grid to search\n",
    "param_grid = {\n",
    "    'n_estimators': [50, 100, 200, 400],  # Number of trees in the forest\n",
    "    'max_depth': [None, 10, 20, 30],  # Maximum depth of each tree (None for unlimited)\n",
    "    'min_samples_split': [2, 5, 10],  # Minimum samples required to split an internal node\n",
    "    'min_samples_leaf': [1, 2, 4],  # Minimum samples required to be at a leaf node\n",
    "    'max_features': [1.0, 'sqrt', 'log2'],  # Number of features to consider when splitting\n",
    "    'bootstrap': [True, False]  # Whether to bootstrap samples when building trees\n",
    "}\n",
    "\n",
    "\n",
    "# Choose a scoring metric (e.g., Mean Squared Error)\n",
    "scoring = 'neg_mean_squared_error'\n",
    "\n",
    "# Create the GridSearchCV object\n",
    "grid_search = GridSearchCV(estimator=rf_regressor, param_grid=param_grid, scoring=scoring, cv=5)\n",
    "\n",
    "# Fit the GridSearchCV object to your data\n",
    "grid_search.fit(X_train, y_train)\n",
    "\n",
    "# Get the best hyperparameters and the corresponding model\n",
    "best_params = grid_search.best_params_\n",
    "best_model = grid_search.best_estimator_"
   ]
  },
  {
   "cell_type": "code",
   "execution_count": 35,
   "id": "b85ba836",
   "metadata": {},
   "outputs": [
    {
     "name": "stdout",
     "output_type": "stream",
     "text": [
      "Best Hyperparameters: {'bootstrap': False, 'max_depth': 20, 'max_features': 'sqrt', 'min_samples_leaf': 2, 'min_samples_split': 2, 'n_estimators': 100}\n",
      "Test MSE with Best Model: 0.46880054413423683\n"
     ]
    }
   ],
   "source": [
    "# Evaluate the best model on the test set\n",
    "y_pred = best_model.predict(X_test)\n",
    "test_rmse = functions.rmse(y_test, y_pred)\n",
    "\n",
    "print(\"Best Hyperparameters:\", best_params)\n",
    "print(\"Test MSE with Best Model:\", test_rmse)"
   ]
  },
  {
   "cell_type": "code",
   "execution_count": null,
   "id": "4e80698b",
   "metadata": {},
   "outputs": [],
   "source": []
  },
  {
   "cell_type": "code",
   "execution_count": null,
   "id": "6ee5e74a",
   "metadata": {},
   "outputs": [],
   "source": []
  },
  {
   "cell_type": "code",
   "execution_count": null,
   "id": "379c0ec6",
   "metadata": {},
   "outputs": [],
   "source": []
  },
  {
   "cell_type": "code",
   "execution_count": null,
   "id": "908809cf",
   "metadata": {},
   "outputs": [],
   "source": []
  },
  {
   "cell_type": "code",
   "execution_count": 47,
   "id": "09f2df99",
   "metadata": {},
   "outputs": [
    {
     "name": "stdout",
     "output_type": "stream",
     "text": [
      "104\n"
     ]
    },
    {
     "name": "stderr",
     "output_type": "stream",
     "text": [
      "/home/zj448/miniconda3/lib/python3.9/site-packages/pysr/sr.py:1257: UserWarning: Note: it looks like you are running in Jupyter. The progress bar will be turned off.\n",
      "  warnings.warn(\n",
      "/home/zj448/miniconda3/lib/python3.9/site-packages/pysr/sr.py:1761: UserWarning: Note: you are running with 10 features or more. Genetic algorithms like used in PySR scale poorly with large numbers of features. Consider using feature selection techniques to select the most important features (you can do this automatically with the `select_k_features` parameter), or, alternatively, doing a dimensionality reduction beforehand. For example, `X = PCA(n_components=6).fit_transform(X)`, using scikit-learn's `PCA` class, will reduce the number of features to 6 in an interpretable way, as each resultant feature will be a linear combination of the original features. \n",
      "  warnings.warn(\n",
      "WARNING: method definition for OneHotArray at /home/zj448/miniconda3/share/pysr/depot/packages/MicroCollections/yJPLe/src/onehot.jl:79 declares type variable N but does not use it.\n"
     ]
    },
    {
     "name": "stdout",
     "output_type": "stream",
     "text": [
      "parameters:\n",
      "x 0 : log_sigma0\n",
      "x 1 : log_R_e_sph_eq_kpc\n",
      "x 2 : log10(R10_kpc)\n",
      "x 3 : log_B/T\n",
      "x 4 : ube\n",
      "x 5 : log10(R90_kpc)\n",
      "x 6 : log_R_e_sph_maj\n",
      "x 7 : logRho_soi_approx_new\n",
      "x 8 : M*_sph\n",
      "x 9 : Log_Avg_Rho_10kpc_approx\n",
      "Eq. selected rmse: 0.23467080671015766\n"
     ]
    },
    {
     "data": {
      "text/latex": [
       "$\\displaystyle 2.705383394401989 x_{0} + x_{3} - 0.4312832943643069 x_{7} + 3.6815211157292502$"
      ],
      "text/plain": [
       "2.705383394401989*x0 + x3 - 0.4312832943643069*x7 + 3.6815211157292502"
      ]
     },
     "metadata": {},
     "output_type": "display_data"
    },
    {
     "name": "stdout",
     "output_type": "stream",
     "text": [
      "Eq. 0 rmse: 0.9172014405196002\n"
     ]
    },
    {
     "data": {
      "text/latex": [
       "$\\displaystyle 8.252746645954334$"
      ],
      "text/plain": [
       "8.252746645954334"
      ]
     },
     "metadata": {},
     "output_type": "display_data"
    },
    {
     "name": "stdout",
     "output_type": "stream",
     "text": [
      "Eq. 1 rmse: 0.4094850455557965\n"
     ]
    },
    {
     "data": {
      "text/latex": [
       "$\\displaystyle x_{8} - 2.35742179413685$"
      ],
      "text/plain": [
       "x8 - 2.35742179413685"
      ]
     },
     "metadata": {},
     "output_type": "display_data"
    },
    {
     "name": "stdout",
     "output_type": "stream",
     "text": [
      "Eq. 2 rmse: 0.3845110338836249\n"
     ]
    },
    {
     "data": {
      "text/latex": [
       "$\\displaystyle x_{4} + x_{8} - 2.7617631509185183$"
      ],
      "text/plain": [
       "x4 + x8 - 2.7617631509185183"
      ]
     },
     "metadata": {},
     "output_type": "display_data"
    },
    {
     "name": "stdout",
     "output_type": "stream",
     "text": [
      "Eq. 3 rmse: 0.35740863506973974\n"
     ]
    },
    {
     "data": {
      "text/latex": [
       "$\\displaystyle x_{8} - 2.7617631509185183 + \\frac{0.9684726697028194}{x_{7}}$"
      ],
      "text/plain": [
       "x8 - 2.7617631509185183 + 0.9684726697028194/x7"
      ]
     },
     "metadata": {},
     "output_type": "display_data"
    },
    {
     "name": "stdout",
     "output_type": "stream",
     "text": [
      "Eq. 4 rmse: 0.3512769094851374\n"
     ]
    },
    {
     "data": {
      "text/latex": [
       "$\\displaystyle - \\frac{1.689130930827019 x_{7}}{x_{8}} + x_{8} - 1.977342137558972$"
      ],
      "text/plain": [
       "-1.689130930827019*x7/x8 + x8 - 1.977342137558972"
      ]
     },
     "metadata": {},
     "output_type": "display_data"
    },
    {
     "name": "stdout",
     "output_type": "stream",
     "text": [
      "Eq. 5 rmse: 0.2994831953551277\n"
     ]
    },
    {
     "data": {
      "text/latex": [
       "$\\displaystyle 3.677235686880364 x_{0} + \\frac{x_{6}}{x_{7}} - 0.2720444467717317$"
      ],
      "text/plain": [
       "3.677235686880364*x0 + x6/x7 - 0.2720444467717317"
      ]
     },
     "metadata": {},
     "output_type": "display_data"
    },
    {
     "name": "stdout",
     "output_type": "stream",
     "text": [
      "Eq. 6 rmse: 0.27831812468419287\n"
     ]
    },
    {
     "data": {
      "text/latex": [
       "$\\displaystyle 3.5464197592749183 x_{0} + \\frac{x_{6}}{x_{2} + x_{7}}$"
      ],
      "text/plain": [
       "3.5464197592749183*x0 + x6/(x2 + x7)"
      ]
     },
     "metadata": {},
     "output_type": "display_data"
    },
    {
     "name": "stdout",
     "output_type": "stream",
     "text": [
      "Eq. 7 rmse: 0.26906192406016527\n"
     ]
    },
    {
     "data": {
      "text/latex": [
       "$\\displaystyle 3.4319961761520095 x_{0} + 0.5195224106182587 x_{6} + \\frac{0.7597962891351768}{x_{7}}$"
      ],
      "text/plain": [
       "3.4319961761520095*x0 + 0.5195224106182587*x6 + 0.7597962891351768/x7"
      ]
     },
     "metadata": {},
     "output_type": "display_data"
    },
    {
     "name": "stdout",
     "output_type": "stream",
     "text": [
      "Eq. 8 rmse: 0.26012657654893917\n"
     ]
    },
    {
     "data": {
      "text/latex": [
       "$\\displaystyle 3.7221070938598737 x_{0} + 0.3563857822898219 x_{1} - 0.3563857822898219 x_{7} + 0.69306271991924239$"
      ],
      "text/plain": [
       "3.7221070938598737*x0 + 0.3563857822898219*x1 - 0.3563857822898219*x7 + 0.69306271991924239"
      ]
     },
     "metadata": {},
     "output_type": "display_data"
    },
    {
     "name": "stdout",
     "output_type": "stream",
     "text": [
      "Eq. 9 rmse: 0.23467080671015766\n"
     ]
    },
    {
     "data": {
      "text/latex": [
       "$\\displaystyle 2.705383394401989 x_{0} + x_{3} - 0.4312832943643069 x_{7} + 3.6815211157292502$"
      ],
      "text/plain": [
       "2.705383394401989*x0 + x3 - 0.4312832943643069*x7 + 3.6815211157292502"
      ]
     },
     "metadata": {},
     "output_type": "display_data"
    }
   ],
   "source": [
    "functions.test_relation(['log_sigma0', 'log_R_e_sph_eq_kpc', 'log10(R10_kpc)', 'log_B/T', 'ube',\n",
    "       'log10(R90_kpc)', 'log_R_e_sph_maj', 'logRho_soi_approx_new', 'M*_sph',\n",
    "       'Log_Avg_Rho_10kpc_approx'])"
   ]
  },
  {
   "cell_type": "code",
   "execution_count": 65,
   "id": "cc6ebaf3",
   "metadata": {},
   "outputs": [],
   "source": [
    "keys_copy=keys.copy()"
   ]
  },
  {
   "cell_type": "code",
   "execution_count": 59,
   "id": "f27f681d",
   "metadata": {
    "scrolled": false
   },
   "outputs": [
    {
     "name": "stdout",
     "output_type": "stream",
     "text": [
      "100\n"
     ]
    },
    {
     "name": "stderr",
     "output_type": "stream",
     "text": [
      "/home/zj448/miniconda3/lib/python3.9/site-packages/pysr/sr.py:1257: UserWarning: Note: it looks like you are running in Jupyter. The progress bar will be turned off.\n",
      "  warnings.warn(\n",
      "/home/zj448/miniconda3/lib/python3.9/site-packages/pysr/sr.py:1761: UserWarning: Note: you are running with 10 features or more. Genetic algorithms like used in PySR scale poorly with large numbers of features. Consider using feature selection techniques to select the most important features (you can do this automatically with the `select_k_features` parameter), or, alternatively, doing a dimensionality reduction beforehand. For example, `X = PCA(n_components=6).fit_transform(X)`, using scikit-learn's `PCA` class, will reduce the number of features to 6 in an interpretable way, as each resultant feature will be a linear combination of the original features. \n",
      "  warnings.warn(\n"
     ]
    },
    {
     "name": "stdout",
     "output_type": "stream",
     "text": [
      "parameters:\n",
      "x 0 : Bar\n",
      "x 1 : Disk\n",
      "x 2 : Ring\n",
      "x 3 : Core\n",
      "x 4 : Multiple\n",
      "x 5 : Compactness\n",
      "x 6 : AGN\n",
      "x 7 : Pseudobulge\n",
      "x 8 : BCG\n",
      "x 9 : cD\n",
      "x 10 : M*_sph\n",
      "x 11 : M*_gal\n",
      "x 12 : log_B/T\n",
      "x 13 : log_sigma0\n",
      "x 14 : log_R_e_sph_maj\n",
      "x 15 : log_R_e_sph_eq_kpc\n",
      "x 16 : log_n_sph_maj\n",
      "x 17 : log_n_sph_eq\n",
      "x 18 : log(I_e,sph,maj/M_Sun/pc^2)\n",
      "x 19 : log(I_e,sph,eq/M_Sun/pc^2)\n",
      "x 20 : Concentration_Index\n",
      "x 21 : avg_Rho_1kpc_Exact_All\n",
      "x 22 : r1_density_approx\n",
      "x 23 : log10(R10_kpc)\n",
      "x 24 : logRho_R10_approx\n",
      "x 25 : log_rho10_Exact\n",
      "x 26 : log10(R90_kpc)\n",
      "x 27 : logRho_R90_approx\n",
      "x 28 : log_rho_90_Exact_all\n",
      "x 29 : Rho_re_spatial\n",
      "x 30 : SR_pc_All\n",
      "x 31 : Rho_SR_pc_All\n",
      "x 32 : CR_def1_approx_new\n",
      "x 33 : Rho_cr_def1_approx_new\n",
      "x 34 : CR_def2_approx_new\n",
      "x 35 : Rho_CR_def2_approx_new\n",
      "x 36 : Sr(pc)_2_using_Falserm_drho\n",
      "x 37 : Log_Approx_Avg_density_10pc\n",
      "x 38 : log_Rho_e_Exact_new\n",
      "x 39 : logRho_e_approx_New\n",
      "x 40 : logRho_soi_approx_new\n",
      "x 41 : log_Rho_soi_exact_new\n",
      "x 42 : Avg_Rho_Re_Exact_all\n",
      "x 43 : Avg_Rho_soi_exact_all\n",
      "x 44 : Avg_Rho_re_Exact_all\n",
      "x 45 : Rho_re_Exact_all\n",
      "x 46 : Rho_r_soi_2BH_approx\n",
      "x 47 : Log_Avg_Rho_10kpc_approx\n",
      "x 48 : Log_Avg_Rho_10kpc_exact_final\n",
      "x 49 : Log_Avg_Rho_100pc_approx\n",
      "x 50 : Log_Avg_Rho_5kpc_approx\n",
      "x 51 : Log_Avg_rho_5kpc_exact_all\n",
      "x 52 : ube\n",
      "x 53 : bve\n",
      "x 54 : dc\n",
      "x 55 : bvtc\n",
      "x 56 : bri25\n",
      "x 57 : mabs\n",
      "x 58 : blum\n",
      "x 59 : logblum\n",
      "x 60 : logSigma0sph\n",
      "x 61 : LogSigma0\n",
      "x 62 : R10\n",
      "x 63 : logR10\n",
      "x 64 : logR10phi\n",
      "x 65 : Rh\n",
      "x 66 : logRh\n",
      "x 67 : logRhphi\n",
      "x 68 : logHalo\n",
      "Eq. selected rmse: 0.20496373174632507\n"
     ]
    },
    {
     "data": {
      "text/latex": [
       "$\\displaystyle x_{10} - 0.20188901310327936 x_{19} \\left(- x_{37} + x_{40}\\right) - 0.20188901310327936 x_{37} - 0.20188901310327936 x_{51} - 2.336809511632636$"
      ],
      "text/plain": [
       "x10 - 0.20188901310327936*x19*(-x37 + x40) - 0.20188901310327936*x37 - 0.20188901310327936*x51 - 2.336809511632636"
      ]
     },
     "metadata": {},
     "output_type": "display_data"
    },
    {
     "name": "stdout",
     "output_type": "stream",
     "text": [
      "Eq. 0 rmse: 0.9082611474700466\n"
     ]
    },
    {
     "data": {
      "text/latex": [
       "$\\displaystyle 8.233873226495978$"
      ],
      "text/plain": [
       "8.233873226495978"
      ]
     },
     "metadata": {},
     "output_type": "display_data"
    },
    {
     "name": "stdout",
     "output_type": "stream",
     "text": [
      "Eq. 1 rmse: 0.3773721087118079\n"
     ]
    },
    {
     "data": {
      "text/latex": [
       "$\\displaystyle x_{10} - 2.3757319348325288$"
      ],
      "text/plain": [
       "x10 - 2.3757319348325288"
      ]
     },
     "metadata": {},
     "output_type": "display_data"
    },
    {
     "name": "stdout",
     "output_type": "stream",
     "text": [
      "Eq. 2 rmse: 0.3606442903645438\n"
     ]
    },
    {
     "data": {
      "text/latex": [
       "$\\displaystyle x_{10} + x_{55} - 3.147268006628642$"
      ],
      "text/plain": [
       "x10 + x55 - 3.147268006628642"
      ]
     },
     "metadata": {},
     "output_type": "display_data"
    },
    {
     "name": "stdout",
     "output_type": "stream",
     "text": [
      "Eq. 3 rmse: 0.27473733188147814\n"
     ]
    },
    {
     "data": {
      "text/latex": [
       "$\\displaystyle x_{10} - 0.3679392209446764 x_{40} - 1.3895541061659271$"
      ],
      "text/plain": [
       "x10 - 0.3679392209446764*x40 - 1.3895541061659271"
      ]
     },
     "metadata": {},
     "output_type": "display_data"
    },
    {
     "name": "stdout",
     "output_type": "stream",
     "text": [
      "Eq. 4 rmse: 0.2702507744803422\n"
     ]
    },
    {
     "data": {
      "text/latex": [
       "$\\displaystyle x_{10} - 0.3679392209446764 x_{2} - 0.3679392209446764 x_{40} - 1.3895541061659271$"
      ],
      "text/plain": [
       "x10 - 0.3679392209446764*x2 - 0.3679392209446764*x40 - 1.3895541061659271"
      ]
     },
     "metadata": {},
     "output_type": "display_data"
    },
    {
     "name": "stdout",
     "output_type": "stream",
     "text": [
      "Eq. 5 rmse: 0.25660650446167227\n"
     ]
    },
    {
     "data": {
      "text/latex": [
       "$\\displaystyle x_{10} - 0.12786383016152292 x_{19} \\left(- x_{37} + x_{40}\\right) - 2.697386924697038$"
      ],
      "text/plain": [
       "x10 - 0.12786383016152292*x19*(-x37 + x40) - 2.697386924697038"
      ]
     },
     "metadata": {},
     "output_type": "display_data"
    },
    {
     "name": "stdout",
     "output_type": "stream",
     "text": [
      "Eq. 6 rmse: 0.24118821821286135\n"
     ]
    },
    {
     "data": {
      "text/latex": [
       "$\\displaystyle x_{10} - 0.10575909865778302 x_{19} \\left(- x_{37} + x_{40}\\right) - 0.10575909865778302 x_{40} - 2.3125355367228364$"
      ],
      "text/plain": [
       "x10 - 0.10575909865778302*x19*(-x37 + x40) - 0.10575909865778302*x40 - 2.3125355367228364"
      ]
     },
     "metadata": {},
     "output_type": "display_data"
    },
    {
     "name": "stdout",
     "output_type": "stream",
     "text": [
      "Eq. 7 rmse: 0.20496373174632507\n"
     ]
    },
    {
     "data": {
      "text/latex": [
       "$\\displaystyle x_{10} - 0.20188901310327936 x_{19} \\left(- x_{37} + x_{40}\\right) - 0.20188901310327936 x_{37} - 0.20188901310327936 x_{51} - 2.336809511632636$"
      ],
      "text/plain": [
       "x10 - 0.20188901310327936*x19*(-x37 + x40) - 0.20188901310327936*x37 - 0.20188901310327936*x51 - 2.336809511632636"
      ]
     },
     "metadata": {},
     "output_type": "display_data"
    },
    {
     "name": "stdout",
     "output_type": "stream",
     "text": [
      "Eq. 8 rmse: 0.18330358147178966\n"
     ]
    },
    {
     "data": {
      "text/latex": [
       "$\\displaystyle 0.77674744322883232 x_{10} - 0.22325255677116768 x_{19} \\left(- x_{37} + x_{40}\\right) - 0.22325255677116768 x_{49} + 0.0074706233390812453$"
      ],
      "text/plain": [
       "0.77674744322883232*x10 - 0.22325255677116768*x19*(-x37 + x40) - 0.22325255677116768*x49 + 0.0074706233390812453"
      ]
     },
     "metadata": {},
     "output_type": "display_data"
    }
   ],
   "source": [
    "functions.test_relation(keys_copy)"
   ]
  },
  {
   "cell_type": "code",
   "execution_count": 75,
   "id": "6355455b",
   "metadata": {
    "scrolled": false
   },
   "outputs": [
    {
     "name": "stdout",
     "output_type": "stream",
     "text": [
      "100\n"
     ]
    },
    {
     "name": "stderr",
     "output_type": "stream",
     "text": [
      "/home/zj448/miniconda3/lib/python3.9/site-packages/pysr/sr.py:1257: UserWarning: Note: it looks like you are running in Jupyter. The progress bar will be turned off.\n",
      "  warnings.warn(\n",
      "/home/zj448/miniconda3/lib/python3.9/site-packages/pysr/sr.py:1761: UserWarning: Note: you are running with 10 features or more. Genetic algorithms like used in PySR scale poorly with large numbers of features. Consider using feature selection techniques to select the most important features (you can do this automatically with the `select_k_features` parameter), or, alternatively, doing a dimensionality reduction beforehand. For example, `X = PCA(n_components=6).fit_transform(X)`, using scikit-learn's `PCA` class, will reduce the number of features to 6 in an interpretable way, as each resultant feature will be a linear combination of the original features. \n",
      "  warnings.warn(\n"
     ]
    },
    {
     "name": "stdout",
     "output_type": "stream",
     "text": [
      "parameters:\n",
      "x 0 : Bar\n",
      "x 1 : Disk\n",
      "x 2 : Ring\n",
      "x 3 : Core\n",
      "x 4 : Multiple\n",
      "x 5 : Compactness\n",
      "x 6 : AGN\n",
      "x 7 : Pseudobulge\n",
      "x 8 : BCG\n",
      "x 9 : cD\n",
      "x 10 : M*_sph\n",
      "x 11 : M*_gal\n",
      "x 12 : log_B/T\n",
      "x 13 : log_sigma0\n",
      "x 14 : log_R_e_sph_maj\n",
      "x 15 : log_R_e_sph_eq_kpc\n",
      "x 16 : log_n_sph_maj\n",
      "x 17 : log_n_sph_eq\n",
      "x 18 : log(I_e,sph,maj/M_Sun/pc^2)\n",
      "x 19 : log(I_e,sph,eq/M_Sun/pc^2)\n",
      "x 20 : Concentration_Index\n",
      "x 21 : avg_Rho_1kpc_Exact_All\n",
      "x 22 : r1_density_approx\n",
      "x 23 : log10(R10_kpc)\n",
      "x 24 : logRho_R10_approx\n",
      "x 25 : log_rho10_Exact\n",
      "x 26 : log10(R90_kpc)\n",
      "x 27 : logRho_R90_approx\n",
      "x 28 : log_rho_90_Exact_all\n",
      "x 29 : Rho_re_spatial\n",
      "x 30 : SR_pc_All\n",
      "x 31 : Rho_SR_pc_All\n",
      "x 32 : CR_def1_approx_new\n",
      "x 33 : Rho_cr_def1_approx_new\n",
      "x 34 : CR_def2_approx_new\n",
      "x 35 : Rho_CR_def2_approx_new\n",
      "x 36 : Sr(pc)_2_using_Falserm_drho\n",
      "x 37 : Log_Approx_Avg_density_10pc\n",
      "x 38 : log_Rho_e_Exact_new\n",
      "x 39 : logRho_e_approx_New\n",
      "x 40 : logRho_soi_approx_new\n",
      "x 41 : log_Rho_soi_exact_new\n",
      "x 42 : Avg_Rho_Re_Exact_all\n",
      "x 43 : Avg_Rho_soi_exact_all\n",
      "x 44 : Avg_Rho_re_Exact_all\n",
      "x 45 : Rho_re_Exact_all\n",
      "x 46 : Rho_r_soi_2BH_approx\n",
      "x 47 : Log_Avg_Rho_10kpc_approx\n",
      "x 48 : Log_Avg_Rho_10kpc_exact_final\n",
      "x 49 : Log_Avg_Rho_100pc_approx\n",
      "x 50 : Log_Avg_Rho_5kpc_approx\n",
      "x 51 : Log_Avg_rho_5kpc_exact_all\n",
      "x 52 : ube\n",
      "x 53 : bve\n",
      "x 54 : dc\n",
      "x 55 : bvtc\n",
      "x 56 : bri25\n",
      "x 57 : mabs\n",
      "x 58 : blum\n",
      "x 59 : logblum\n",
      "x 60 : logSigma0sph\n",
      "x 61 : LogSigma0\n",
      "x 62 : R10\n",
      "x 63 : logR10\n",
      "x 64 : logR10phi\n",
      "x 65 : Rh\n",
      "x 66 : logRh\n",
      "x 67 : logRhphi\n",
      "x 68 : logHalo\n",
      "Eq. selected rmse: 0.2096158879603324\n"
     ]
    },
    {
     "data": {
      "text/latex": [
       "$\\displaystyle x_{10} - 0.4845806405330377 x_{14} + x_{16} - 0.4845806405330377 x_{40} - 1.4785718969971269$"
      ],
      "text/plain": [
       "x10 - 0.4845806405330377*x14 + x16 - 0.4845806405330377*x40 - 1.4785718969971269"
      ]
     },
     "metadata": {},
     "output_type": "display_data"
    },
    {
     "name": "stdout",
     "output_type": "stream",
     "text": [
      "Eq. 0 rmse: 0.9082611474700466\n"
     ]
    },
    {
     "data": {
      "text/latex": [
       "$\\displaystyle 8.233873226494863$"
      ],
      "text/plain": [
       "8.233873226494863"
      ]
     },
     "metadata": {},
     "output_type": "display_data"
    },
    {
     "name": "stdout",
     "output_type": "stream",
     "text": [
      "Eq. 1 rmse: 0.3773721087118079\n"
     ]
    },
    {
     "data": {
      "text/latex": [
       "$\\displaystyle x_{10} - 2.3757319297758697$"
      ],
      "text/plain": [
       "x10 - 2.3757319297758697"
      ]
     },
     "metadata": {},
     "output_type": "display_data"
    },
    {
     "name": "stdout",
     "output_type": "stream",
     "text": [
      "Eq. 2 rmse: 0.329364648861592\n"
     ]
    },
    {
     "data": {
      "text/latex": [
       "$\\displaystyle x_{10} + x_{13} - 4.6296243614000465$"
      ],
      "text/plain": [
       "x10 + x13 - 4.6296243614000465"
      ]
     },
     "metadata": {},
     "output_type": "display_data"
    },
    {
     "name": "stdout",
     "output_type": "stream",
     "text": [
      "Eq. 3 rmse: 0.2747373318814779\n"
     ]
    },
    {
     "data": {
      "text/latex": [
       "$\\displaystyle x_{10} - 0.36793922385376204 x_{40} - 1.3895540981968173$"
      ],
      "text/plain": [
       "x10 - 0.36793922385376204*x40 - 1.3895540981968173"
      ]
     },
     "metadata": {},
     "output_type": "display_data"
    },
    {
     "name": "stdout",
     "output_type": "stream",
     "text": [
      "Eq. 4 rmse: 0.24347271074940277\n"
     ]
    },
    {
     "data": {
      "text/latex": [
       "$\\displaystyle x_{10} - \\frac{0.4136912966095676 x_{10}}{x_{37}} - 0.4136912966095676 x_{40}$"
      ],
      "text/plain": [
       "x10 - 0.4136912966095676*x10/x37 - 0.4136912966095676*x40"
      ]
     },
     "metadata": {},
     "output_type": "display_data"
    },
    {
     "name": "stdout",
     "output_type": "stream",
     "text": [
      "Eq. 5 rmse: 0.2096158879603324\n"
     ]
    },
    {
     "data": {
      "text/latex": [
       "$\\displaystyle x_{10} - 0.4845806405330377 x_{14} + x_{16} - 0.4845806405330377 x_{40} - 1.4785718969971269$"
      ],
      "text/plain": [
       "x10 - 0.4845806405330377*x14 + x16 - 0.4845806405330377*x40 - 1.4785718969971269"
      ]
     },
     "metadata": {},
     "output_type": "display_data"
    },
    {
     "name": "stdout",
     "output_type": "stream",
     "text": [
      "Eq. 6 rmse: 0.20846228882003945\n"
     ]
    },
    {
     "data": {
      "text/latex": [
       "$\\displaystyle x_{10} - 0.48132739586992035 x_{14} + x_{16} - 0.48132739586992035 x_{40} + x_{5} - 1.4891093574809058$"
      ],
      "text/plain": [
       "x10 - 0.48132739586992035*x14 + x16 - 0.48132739586992035*x40 + x5 - 1.4891093574809058"
      ]
     },
     "metadata": {},
     "output_type": "display_data"
    },
    {
     "name": "stdout",
     "output_type": "stream",
     "text": [
      "Eq. 7 rmse: 0.1906803381085336\n"
     ]
    },
    {
     "data": {
      "text/latex": [
       "$\\displaystyle x_{10} - 0.5320069421644367 x_{14} + x_{16} - 0.5320069421644367 x_{40} - 1.2729813146372717 - \\frac{0.5320069421644367 x_{64}}{x_{30}}$"
      ],
      "text/plain": [
       "x10 - 0.5320069421644367*x14 + x16 - 0.5320069421644367*x40 - 1.2729813146372717 - 0.5320069421644367*x64/x30"
      ]
     },
     "metadata": {},
     "output_type": "display_data"
    },
    {
     "name": "stdout",
     "output_type": "stream",
     "text": [
      "Eq. 8 rmse: 0.18654943475558458\n"
     ]
    },
    {
     "data": {
      "text/latex": [
       "$\\displaystyle x_{10} - 0.5603580029476135 x_{14} + x_{16} - 0.5603580029476135 x_{40} - \\frac{0.5603580029476135 x_{62}}{x_{13} + x_{32}} - 1.1211527103964756$"
      ],
      "text/plain": [
       "x10 - 0.5603580029476135*x14 + x16 - 0.5603580029476135*x40 - 0.5603580029476135*x62/(x13 + x32) - 1.1211527103964756"
      ]
     },
     "metadata": {},
     "output_type": "display_data"
    },
    {
     "name": "stdout",
     "output_type": "stream",
     "text": [
      "Eq. 9 rmse: 0.18081230444251042\n"
     ]
    },
    {
     "data": {
      "text/latex": [
       "$\\displaystyle x_{10} - 0.5826042899081154 x_{14} + x_{16} - 0.5826042899081154 x_{40} - 1.0449001842687675 - \\frac{0.5826042899081154 \\left(x_{44} + x_{62}\\right)}{x_{32} + x_{35}}$"
      ],
      "text/plain": [
       "x10 - 0.5826042899081154*x14 + x16 - 0.5826042899081154*x40 - 1.0449001842687675 - 0.5826042899081154*(x44 + x62)/(x32 + x35)"
      ]
     },
     "metadata": {},
     "output_type": "display_data"
    },
    {
     "name": "stdout",
     "output_type": "stream",
     "text": [
      "Eq. 10 rmse: 0.17982034126748228\n"
     ]
    },
    {
     "data": {
      "text/latex": [
       "$\\displaystyle x_{10} - 0.5816871035431532 x_{14} + x_{16} - 0.5816871035431532 x_{40} - 1.0549280688700249 - \\frac{0.5816871035431532 \\cdot \\left(2 x_{45} + x_{62}\\right)}{x_{32} + x_{35}}$"
      ],
      "text/plain": [
       "x10 - 0.5816871035431532*x14 + x16 - 0.5816871035431532*x40 - 1.0549280688700249 - 0.5816871035431532*(2*x45 + x62)/(x32 + x35)"
      ]
     },
     "metadata": {},
     "output_type": "display_data"
    }
   ],
   "source": [
    "functions.test_relation(keys_copy,niterations=1000)"
   ]
  },
  {
   "cell_type": "code",
   "execution_count": null,
   "id": "b1a1af19",
   "metadata": {},
   "outputs": [],
   "source": []
  }
 ],
 "metadata": {
  "kernelspec": {
   "display_name": "Python 3 (ipykernel)",
   "language": "python",
   "name": "python3"
  },
  "language_info": {
   "codemirror_mode": {
    "name": "ipython",
    "version": 3
   },
   "file_extension": ".py",
   "mimetype": "text/x-python",
   "name": "python",
   "nbconvert_exporter": "python",
   "pygments_lexer": "ipython3",
   "version": "3.9.16"
  }
 },
 "nbformat": 4,
 "nbformat_minor": 5
}
