{
 "cells": [
  {
   "cell_type": "code",
   "execution_count": 1,
   "metadata": {},
   "outputs": [],
   "source": [
    "%load_ext autoreload\n",
    "%autoreload 2"
   ]
  },
  {
   "cell_type": "markdown",
   "metadata": {},
   "source": [
    "## For refitting.py development"
   ]
  },
  {
   "cell_type": "code",
   "execution_count": 2,
   "metadata": {},
   "outputs": [],
   "source": [
    "import numpy as np\n",
    "import pandas as pd\n",
    "from matplotlib import pyplot as plt\n",
    "import re\n",
    "import scipy.optimize as opt\n",
    "from tqdm import tqdm\n",
    "import sympy as sp\n",
    "from sympy.parsing.sympy_parser import parse_expr\n",
    "from sympy import lambdify"
   ]
  },
  {
   "cell_type": "code",
   "execution_count": 2,
   "metadata": {},
   "outputs": [],
   "source": [
    "filename = 'pareto_low_adv_cleaned.csv'  \n",
    "t_eq=pd.read_csv('/data/zj448/SR/Ultimate_paper/pareto_archive/'+filename)\n",
    "\n",
    "df_full = pd.read_csv('SMBH_Data_03_06_24.csv',header=1)"
   ]
  },
  {
   "cell_type": "code",
   "execution_count": 3,
   "metadata": {},
   "outputs": [],
   "source": [
    "low_scatter_para=['ETG','T-type','Bar', 'Disk', 'Ring', 'Core', 'Multiple', 'Compactness', 'AGN',\n",
    "       'Pseudobulge', 'BCG', 'cD','M*_sph', 'M*_gal', 'log_B/T',\n",
    "       'log_sigma0', 'log_R_e_sph_maj','log_R_e_sph_eq_kpc', 'log_n_sph_maj', 'log_n_sph_eq', 'log(I_e,sph,maj/M_Sun/pc^2)',\n",
    "       'log(I_e,sph,eq/M_Sun/pc^2)', 'Concentration_Index',\n",
    "       'avg_Rho_1kpc_Exact_All', 'r1_density_approx', 'log10(R10_kpc)',\n",
    "       'logRho_R10_approx', 'log_rho10_Exact', 'log10(R90_kpc)',\n",
    "       'logRho_R90_approx', 'log_rho_90_Exact_all', 'Rho_re_spatial',\n",
    "       'SR_pc_All', 'Rho_SR_pc_All', 'CR_def1_approx_new',\n",
    "       'Rho_cr_def1_approx_new', 'CR_def2_approx_new',\n",
    "       'Rho_CR_def2_approx_new', 'Sr(pc)_2_using_Falserm_drho',\n",
    "       'Log_Approx_Avg_density_10pc', 'log_Rho_e_Exact_new',\n",
    "       'logRho_e_approx_New', 'logRho_soi_approx_new',\n",
    "       'log_Rho_soi_exact_new', 'Avg_Rho_Re_Exact_all',\n",
    "       'Avg_Rho_soi_exact_all', 'Avg_Rho_re_Exact_all', 'Rho_re_Exact_all',\n",
    "       'Rho_r_soi_2BH_approx', 'Log_Avg_Rho_10kpc_approx',\n",
    "       'Log_Avg_Rho_10kpc_exact_final', 'Log_Avg_Rho_100pc_approx',\n",
    "       'Log_Avg_Rho_5kpc_approx', 'Log_Avg_rho_5kpc_exact_all', 'ube', 'bve',\n",
    "       'dc', 'bvtc', 'bri25', 'mabs', 'blum', 'logblum', 'logSigma0sph',\n",
    "       'LogSigma0', 'R10', 'logR10', 'logR10phi', 'Rh', 'logRh', 'logRhphi',\n",
    "       'logHalo','B-V','V-[3.6]','GJC23W1-W2','GJC23W2-W3','GJC23log(M*,gal/M_sun)',\n",
    "       'GJC23log(SFR)','GJC23log(sSFR)','log<Sigma>_e','log<Sigma>_h','M_BH']\n",
    "\n",
    "easy_obs_para=['LogSigma0','Concentration_Index','logSigma0sph','log_sigma0','dc','logRhphi','M*_sph','ube','bri25','bve','bvtc','logR10phi','M*_gal','log_B/T',\n",
    " 'logRh','log_n_sph_eq','blum','log_R_e_sph_maj','logblum','log_n_sph_maj','logR10','Pseudobulge','AGN','Multiple','Ring','BCG','Disk','cD',\n",
    " 'Bar','Core','Compactness','ETG','T-type','log10(R10_kpc)','log10(R90_kpc)','B-V','V-[3.6]','GJC23W1-W2','GJC23W2-W3','GJC23log(M*,gal/M_sun)','M_BH']\n",
    "\n",
    "low_scatter_para.append('M_BH_std_sym')\n",
    "easy_obs_para.append('M_BH_std_sym')"
   ]
  },
  {
   "cell_type": "code",
   "execution_count": 4,
   "metadata": {},
   "outputs": [
    {
     "data": {
      "text/plain": [
       "93"
      ]
     },
     "execution_count": 4,
     "metadata": {},
     "output_type": "execute_result"
    }
   ],
   "source": [
    "df=df_full[low_scatter_para]\n",
    "df=df.dropna()\n",
    "len(df)"
   ]
  },
  {
   "cell_type": "code",
   "execution_count": 5,
   "metadata": {},
   "outputs": [
    {
     "name": "stderr",
     "output_type": "stream",
     "text": [
      "  0%|          | 0/1042 [00:00<?, ?it/s]"
     ]
    },
    {
     "name": "stderr",
     "output_type": "stream",
     "text": [
      "  0%|          | 2/1042 [00:00<01:21, 12.70it/s]"
     ]
    },
    {
     "name": "stdout",
     "output_type": "stream",
     "text": [
      "x66\n",
      "x73 + p[0]\n",
      "-p[1]*x42 + x53 + x69 + p[0]\n",
      "-p[2]*x42 + x53 + x69 + p[1] - p[4]/(p[3]*x51 + p[0])\n"
     ]
    },
    {
     "name": "stderr",
     "output_type": "stream",
     "text": [
      "  0%|          | 4/1042 [00:02<10:12,  1.69it/s]"
     ]
    },
    {
     "name": "stdout",
     "output_type": "stream",
     "text": [
      "p[4]*exp(exp(p[0]/(p[6] - p[1]*x52)**p[5])) + p[2] + log10(p[3]*x23)/x43\n"
     ]
    },
    {
     "name": "stderr",
     "output_type": "stream",
     "text": [
      "  0%|          | 4/1042 [00:05<24:14,  1.40s/it]\n"
     ]
    },
    {
     "ename": "KeyboardInterrupt",
     "evalue": "",
     "output_type": "error",
     "traceback": [
      "\u001b[0;31m---------------------------------------------------------------------------\u001b[0m",
      "\u001b[0;31mKeyboardInterrupt\u001b[0m                         Traceback (most recent call last)",
      "Cell \u001b[0;32mIn[5], line 87\u001b[0m\n\u001b[1;32m     83\u001b[0m current_parameter_vector\u001b[38;5;241m=\u001b[39mnp\u001b[38;5;241m.\u001b[39marray(constants)\n\u001b[1;32m     84\u001b[0m current_parameter_vector\u001b[38;5;241m=\u001b[39mnp\u001b[38;5;241m.\u001b[39mappend(current_parameter_vector,\u001b[38;5;241m0.3\u001b[39m) \u001b[38;5;66;03m# last p is intrinsic scatter\u001b[39;00m\n\u001b[0;32m---> 87\u001b[0m result \u001b[38;5;241m=\u001b[39m \u001b[43mopt\u001b[49m\u001b[38;5;241;43m.\u001b[39;49m\u001b[43mminimize\u001b[49m\u001b[43m(\u001b[49m\u001b[43mloglikelihood\u001b[49m\u001b[43m,\u001b[49m\u001b[43m \u001b[49m\u001b[43mcurrent_parameter_vector\u001b[49m\u001b[43m,\u001b[49m\u001b[43m \u001b[49m\u001b[43mmethod\u001b[49m\u001b[38;5;241;43m=\u001b[39;49m\u001b[38;5;124;43m'\u001b[39;49m\u001b[38;5;124;43mNelder-Mead\u001b[39;49m\u001b[38;5;124;43m'\u001b[39;49m\u001b[43m,\u001b[49m\u001b[43m \u001b[49m\u001b[43mtol\u001b[49m\u001b[38;5;241;43m=\u001b[39;49m\u001b[38;5;241;43m1e-5\u001b[39;49m\u001b[43m,\u001b[49m\u001b[43m \u001b[49m\u001b[43moptions\u001b[49m\u001b[38;5;241;43m=\u001b[39;49m\u001b[43m{\u001b[49m\u001b[38;5;124;43m'\u001b[39;49m\u001b[38;5;124;43mmaxiter\u001b[39;49m\u001b[38;5;124;43m'\u001b[39;49m\u001b[43m:\u001b[49m\u001b[38;5;241;43m5e4\u001b[39;49m\u001b[43m,\u001b[49m\u001b[43m \u001b[49m\u001b[38;5;124;43m'\u001b[39;49m\u001b[38;5;124;43mmaxfev\u001b[39;49m\u001b[38;5;124;43m'\u001b[39;49m\u001b[43m:\u001b[49m\u001b[38;5;241;43m5e4\u001b[39;49m\u001b[43m,\u001b[49m\u001b[43m \u001b[49m\u001b[38;5;124;43m'\u001b[39;49m\u001b[38;5;124;43madaptive\u001b[39;49m\u001b[38;5;124;43m'\u001b[39;49m\u001b[43m:\u001b[49m\u001b[38;5;28;43;01mTrue\u001b[39;49;00m\u001b[43m}\u001b[49m\u001b[43m)\u001b[49m\n\u001b[1;32m     89\u001b[0m new_equation \u001b[38;5;241m=\u001b[39m equation\n\u001b[1;32m     90\u001b[0m \u001b[38;5;28;01mfor\u001b[39;00m i \u001b[38;5;129;01min\u001b[39;00m \u001b[38;5;28mrange\u001b[39m(\u001b[38;5;28mlen\u001b[39m(variable_list)):\n",
      "File \u001b[0;32m~/miniconda3/lib/python3.9/site-packages/scipy/optimize/_minimize.py:698\u001b[0m, in \u001b[0;36mminimize\u001b[0;34m(fun, x0, args, method, jac, hess, hessp, bounds, constraints, tol, callback, options)\u001b[0m\n\u001b[1;32m    695\u001b[0m callback \u001b[38;5;241m=\u001b[39m _wrap_callback(callback, meth)\n\u001b[1;32m    697\u001b[0m \u001b[38;5;28;01mif\u001b[39;00m meth \u001b[38;5;241m==\u001b[39m \u001b[38;5;124m'\u001b[39m\u001b[38;5;124mnelder-mead\u001b[39m\u001b[38;5;124m'\u001b[39m:\n\u001b[0;32m--> 698\u001b[0m     res \u001b[38;5;241m=\u001b[39m \u001b[43m_minimize_neldermead\u001b[49m\u001b[43m(\u001b[49m\u001b[43mfun\u001b[49m\u001b[43m,\u001b[49m\u001b[43m \u001b[49m\u001b[43mx0\u001b[49m\u001b[43m,\u001b[49m\u001b[43m \u001b[49m\u001b[43margs\u001b[49m\u001b[43m,\u001b[49m\u001b[43m \u001b[49m\u001b[43mcallback\u001b[49m\u001b[43m,\u001b[49m\u001b[43m \u001b[49m\u001b[43mbounds\u001b[49m\u001b[38;5;241;43m=\u001b[39;49m\u001b[43mbounds\u001b[49m\u001b[43m,\u001b[49m\n\u001b[1;32m    699\u001b[0m \u001b[43m                               \u001b[49m\u001b[38;5;241;43m*\u001b[39;49m\u001b[38;5;241;43m*\u001b[39;49m\u001b[43moptions\u001b[49m\u001b[43m)\u001b[49m\n\u001b[1;32m    700\u001b[0m \u001b[38;5;28;01melif\u001b[39;00m meth \u001b[38;5;241m==\u001b[39m \u001b[38;5;124m'\u001b[39m\u001b[38;5;124mpowell\u001b[39m\u001b[38;5;124m'\u001b[39m:\n\u001b[1;32m    701\u001b[0m     res \u001b[38;5;241m=\u001b[39m _minimize_powell(fun, x0, args, callback, bounds, \u001b[38;5;241m*\u001b[39m\u001b[38;5;241m*\u001b[39moptions)\n",
      "File \u001b[0;32m~/miniconda3/lib/python3.9/site-packages/scipy/optimize/_optimize.py:924\u001b[0m, in \u001b[0;36m_minimize_neldermead\u001b[0;34m(func, x0, args, callback, maxiter, maxfev, disp, return_all, initial_simplex, xatol, fatol, adaptive, bounds, **unknown_options)\u001b[0m\n\u001b[1;32m    922\u001b[0m \u001b[38;5;28;01mif\u001b[39;00m bounds \u001b[38;5;129;01mis\u001b[39;00m \u001b[38;5;129;01mnot\u001b[39;00m \u001b[38;5;28;01mNone\u001b[39;00m:\n\u001b[1;32m    923\u001b[0m     xr \u001b[38;5;241m=\u001b[39m np\u001b[38;5;241m.\u001b[39mclip(xr, lower_bound, upper_bound)\n\u001b[0;32m--> 924\u001b[0m fxr \u001b[38;5;241m=\u001b[39m \u001b[43mfunc\u001b[49m\u001b[43m(\u001b[49m\u001b[43mxr\u001b[49m\u001b[43m)\u001b[49m\n\u001b[1;32m    925\u001b[0m doshrink \u001b[38;5;241m=\u001b[39m \u001b[38;5;241m0\u001b[39m\n\u001b[1;32m    927\u001b[0m \u001b[38;5;28;01mif\u001b[39;00m fxr \u001b[38;5;241m<\u001b[39m fsim[\u001b[38;5;241m0\u001b[39m]:\n",
      "File \u001b[0;32m~/miniconda3/lib/python3.9/site-packages/scipy/optimize/_optimize.py:620\u001b[0m, in \u001b[0;36m_wrap_scalar_function_maxfun_validation.<locals>.function_wrapper\u001b[0;34m(x, *wrapper_args)\u001b[0m\n\u001b[1;32m    618\u001b[0m ncalls[\u001b[38;5;241m0\u001b[39m] \u001b[38;5;241m+\u001b[39m\u001b[38;5;241m=\u001b[39m \u001b[38;5;241m1\u001b[39m\n\u001b[1;32m    619\u001b[0m \u001b[38;5;66;03m# A copy of x is sent to the user function (gh13740)\u001b[39;00m\n\u001b[0;32m--> 620\u001b[0m fx \u001b[38;5;241m=\u001b[39m \u001b[43mfunction\u001b[49m\u001b[43m(\u001b[49m\u001b[43mnp\u001b[49m\u001b[38;5;241;43m.\u001b[39;49m\u001b[43mcopy\u001b[49m\u001b[43m(\u001b[49m\u001b[43mx\u001b[49m\u001b[43m)\u001b[49m\u001b[43m,\u001b[49m\u001b[43m \u001b[49m\u001b[38;5;241;43m*\u001b[39;49m\u001b[43m(\u001b[49m\u001b[43mwrapper_args\u001b[49m\u001b[43m \u001b[49m\u001b[38;5;241;43m+\u001b[39;49m\u001b[43m \u001b[49m\u001b[43margs\u001b[49m\u001b[43m)\u001b[49m\u001b[43m)\u001b[49m\n\u001b[1;32m    621\u001b[0m \u001b[38;5;66;03m# Ideally, we'd like to a have a true scalar returned from f(x). For\u001b[39;00m\n\u001b[1;32m    622\u001b[0m \u001b[38;5;66;03m# backwards-compatibility, also allow np.array([1.3]),\u001b[39;00m\n\u001b[1;32m    623\u001b[0m \u001b[38;5;66;03m# np.array([[1.3]]) etc.\u001b[39;00m\n\u001b[1;32m    624\u001b[0m \u001b[38;5;28;01mif\u001b[39;00m \u001b[38;5;129;01mnot\u001b[39;00m np\u001b[38;5;241m.\u001b[39misscalar(fx):\n",
      "Cell \u001b[0;32mIn[5], line 70\u001b[0m, in \u001b[0;36mloglikelihood\u001b[0;34m(p)\u001b[0m\n\u001b[1;32m     67\u001b[0m func \u001b[38;5;241m=\u001b[39m str2equ(equation_)\n\u001b[1;32m     69\u001b[0m mu_pred \u001b[38;5;241m=\u001b[39m func(\u001b[38;5;241m*\u001b[39mx)\n\u001b[0;32m---> 70\u001b[0m sigma_y \u001b[38;5;241m=\u001b[39m  \u001b[43mnp\u001b[49m\u001b[38;5;241;43m.\u001b[39;49m\u001b[43msqrt\u001b[49m\u001b[43m(\u001b[49m\u001b[43msigma_y_obs2\u001b[49m\u001b[43m \u001b[49m\u001b[38;5;241;43m+\u001b[39;49m\u001b[43m \u001b[49m\u001b[43mp\u001b[49m\u001b[43m[\u001b[49m\u001b[38;5;241;43m-\u001b[39;49m\u001b[38;5;241;43m1\u001b[39;49m\u001b[43m]\u001b[49m\u001b[38;5;241;43m*\u001b[39;49m\u001b[43mp\u001b[49m\u001b[43m[\u001b[49m\u001b[38;5;241;43m-\u001b[39;49m\u001b[38;5;241;43m1\u001b[39;49m\u001b[43m]\u001b[49m\u001b[43m)\u001b[49m\n\u001b[1;32m     71\u001b[0m \u001b[38;5;66;03m#sigma_y =  np.sqrt(sigma_y_obs2)\u001b[39;00m\n\u001b[1;32m     72\u001b[0m norm_residuals \u001b[38;5;241m=\u001b[39m (mu_obs \u001b[38;5;241m-\u001b[39m mu_pred) \u001b[38;5;241m/\u001b[39m sigma_y\n",
      "File \u001b[0;32m~/miniconda3/lib/python3.9/site-packages/pandas/core/generic.py:2168\u001b[0m, in \u001b[0;36mNDFrame.__array_ufunc__\u001b[0;34m(self, ufunc, method, *inputs, **kwargs)\u001b[0m\n\u001b[1;32m   2164\u001b[0m \u001b[38;5;129m@final\u001b[39m\n\u001b[1;32m   2165\u001b[0m \u001b[38;5;28;01mdef\u001b[39;00m \u001b[38;5;21m__array_ufunc__\u001b[39m(\n\u001b[1;32m   2166\u001b[0m     \u001b[38;5;28mself\u001b[39m, ufunc: np\u001b[38;5;241m.\u001b[39mufunc, method: \u001b[38;5;28mstr\u001b[39m, \u001b[38;5;241m*\u001b[39minputs: Any, \u001b[38;5;241m*\u001b[39m\u001b[38;5;241m*\u001b[39mkwargs: Any\n\u001b[1;32m   2167\u001b[0m ):\n\u001b[0;32m-> 2168\u001b[0m     \u001b[38;5;28;01mreturn\u001b[39;00m \u001b[43marraylike\u001b[49m\u001b[38;5;241;43m.\u001b[39;49m\u001b[43marray_ufunc\u001b[49m\u001b[43m(\u001b[49m\u001b[38;5;28;43mself\u001b[39;49m\u001b[43m,\u001b[49m\u001b[43m \u001b[49m\u001b[43mufunc\u001b[49m\u001b[43m,\u001b[49m\u001b[43m \u001b[49m\u001b[43mmethod\u001b[49m\u001b[43m,\u001b[49m\u001b[43m \u001b[49m\u001b[38;5;241;43m*\u001b[39;49m\u001b[43minputs\u001b[49m\u001b[43m,\u001b[49m\u001b[43m \u001b[49m\u001b[38;5;241;43m*\u001b[39;49m\u001b[38;5;241;43m*\u001b[39;49m\u001b[43mkwargs\u001b[49m\u001b[43m)\u001b[49m\n",
      "File \u001b[0;32m~/miniconda3/lib/python3.9/site-packages/pandas/core/arraylike.py:414\u001b[0m, in \u001b[0;36marray_ufunc\u001b[0;34m(self, ufunc, method, *inputs, **kwargs)\u001b[0m\n\u001b[1;32m    411\u001b[0m         result \u001b[38;5;241m=\u001b[39m default_array_ufunc(inputs[\u001b[38;5;241m0\u001b[39m], ufunc, method, \u001b[38;5;241m*\u001b[39minputs, \u001b[38;5;241m*\u001b[39m\u001b[38;5;241m*\u001b[39mkwargs)\n\u001b[1;32m    412\u001b[0m         \u001b[38;5;66;03m# e.g. np.negative (only one reached), with \"where\" and \"out\" in kwargs\u001b[39;00m\n\u001b[0;32m--> 414\u001b[0m result \u001b[38;5;241m=\u001b[39m \u001b[43mreconstruct\u001b[49m\u001b[43m(\u001b[49m\u001b[43mresult\u001b[49m\u001b[43m)\u001b[49m\n\u001b[1;32m    415\u001b[0m \u001b[38;5;28;01mreturn\u001b[39;00m result\n",
      "File \u001b[0;32m~/miniconda3/lib/python3.9/site-packages/pandas/core/arraylike.py:343\u001b[0m, in \u001b[0;36marray_ufunc.<locals>.reconstruct\u001b[0;34m(result)\u001b[0m\n\u001b[1;32m    339\u001b[0m \u001b[38;5;28;01mif\u001b[39;00m ufunc\u001b[38;5;241m.\u001b[39mnout \u001b[38;5;241m>\u001b[39m \u001b[38;5;241m1\u001b[39m:\n\u001b[1;32m    340\u001b[0m     \u001b[38;5;66;03m# np.modf, np.frexp, np.divmod\u001b[39;00m\n\u001b[1;32m    341\u001b[0m     \u001b[38;5;28;01mreturn\u001b[39;00m \u001b[38;5;28mtuple\u001b[39m(_reconstruct(x) \u001b[38;5;28;01mfor\u001b[39;00m x \u001b[38;5;129;01min\u001b[39;00m result)\n\u001b[0;32m--> 343\u001b[0m \u001b[38;5;28;01mreturn\u001b[39;00m \u001b[43m_reconstruct\u001b[49m\u001b[43m(\u001b[49m\u001b[43mresult\u001b[49m\u001b[43m)\u001b[49m\n",
      "File \u001b[0;32m~/miniconda3/lib/python3.9/site-packages/pandas/core/arraylike.py:358\u001b[0m, in \u001b[0;36marray_ufunc.<locals>._reconstruct\u001b[0;34m(result)\u001b[0m\n\u001b[1;32m    355\u001b[0m     result \u001b[38;5;241m=\u001b[39m \u001b[38;5;28mself\u001b[39m\u001b[38;5;241m.\u001b[39m_constructor_from_mgr(result, axes\u001b[38;5;241m=\u001b[39mresult\u001b[38;5;241m.\u001b[39maxes)\n\u001b[1;32m    356\u001b[0m \u001b[38;5;28;01melse\u001b[39;00m:\n\u001b[1;32m    357\u001b[0m     \u001b[38;5;66;03m# we converted an array, lost our axes\u001b[39;00m\n\u001b[0;32m--> 358\u001b[0m     result \u001b[38;5;241m=\u001b[39m \u001b[38;5;28;43mself\u001b[39;49m\u001b[38;5;241;43m.\u001b[39;49m\u001b[43m_constructor\u001b[49m\u001b[43m(\u001b[49m\n\u001b[1;32m    359\u001b[0m \u001b[43m        \u001b[49m\u001b[43mresult\u001b[49m\u001b[43m,\u001b[49m\u001b[43m \u001b[49m\u001b[38;5;241;43m*\u001b[39;49m\u001b[38;5;241;43m*\u001b[39;49m\u001b[43mreconstruct_axes\u001b[49m\u001b[43m,\u001b[49m\u001b[43m \u001b[49m\u001b[38;5;241;43m*\u001b[39;49m\u001b[38;5;241;43m*\u001b[39;49m\u001b[43mreconstruct_kwargs\u001b[49m\u001b[43m,\u001b[49m\u001b[43m \u001b[49m\u001b[43mcopy\u001b[49m\u001b[38;5;241;43m=\u001b[39;49m\u001b[38;5;28;43;01mFalse\u001b[39;49;00m\n\u001b[1;32m    360\u001b[0m \u001b[43m    \u001b[49m\u001b[43m)\u001b[49m\n\u001b[1;32m    361\u001b[0m \u001b[38;5;66;03m# TODO: When we support multiple values in __finalize__, this\u001b[39;00m\n\u001b[1;32m    362\u001b[0m \u001b[38;5;66;03m# should pass alignable to `__finalize__` instead of self.\u001b[39;00m\n\u001b[1;32m    363\u001b[0m \u001b[38;5;66;03m# Then `np.add(a, b)` would consider attrs from both a and b\u001b[39;00m\n\u001b[1;32m    364\u001b[0m \u001b[38;5;66;03m# when a and b are NDFrames.\u001b[39;00m\n\u001b[1;32m    365\u001b[0m \u001b[38;5;28;01mif\u001b[39;00m \u001b[38;5;28mlen\u001b[39m(alignable) \u001b[38;5;241m==\u001b[39m \u001b[38;5;241m1\u001b[39m:\n",
      "File \u001b[0;32m~/miniconda3/lib/python3.9/site-packages/pandas/core/series.py:588\u001b[0m, in \u001b[0;36mSeries.__init__\u001b[0;34m(self, data, index, dtype, name, copy, fastpath)\u001b[0m\n\u001b[1;32m    586\u001b[0m manager \u001b[38;5;241m=\u001b[39m _get_option(\u001b[38;5;124m\"\u001b[39m\u001b[38;5;124mmode.data_manager\u001b[39m\u001b[38;5;124m\"\u001b[39m, silent\u001b[38;5;241m=\u001b[39m\u001b[38;5;28;01mTrue\u001b[39;00m)\n\u001b[1;32m    587\u001b[0m \u001b[38;5;28;01mif\u001b[39;00m manager \u001b[38;5;241m==\u001b[39m \u001b[38;5;124m\"\u001b[39m\u001b[38;5;124mblock\u001b[39m\u001b[38;5;124m\"\u001b[39m:\n\u001b[0;32m--> 588\u001b[0m     data \u001b[38;5;241m=\u001b[39m \u001b[43mSingleBlockManager\u001b[49m\u001b[38;5;241;43m.\u001b[39;49m\u001b[43mfrom_array\u001b[49m(data, index, refs\u001b[38;5;241m=\u001b[39mrefs)\n\u001b[1;32m    589\u001b[0m \u001b[38;5;28;01melif\u001b[39;00m manager \u001b[38;5;241m==\u001b[39m \u001b[38;5;124m\"\u001b[39m\u001b[38;5;124marray\u001b[39m\u001b[38;5;124m\"\u001b[39m:\n\u001b[1;32m    590\u001b[0m     data \u001b[38;5;241m=\u001b[39m SingleArrayManager\u001b[38;5;241m.\u001b[39mfrom_array(data, index)\n",
      "\u001b[0;31mKeyboardInterrupt\u001b[0m: "
     ]
    }
   ],
   "source": [
    "t_eq['LLL']=0.\n",
    "t_eq['intrinsic_scatter']=0.\n",
    "t_eq['refit_equation']=''\n",
    "t_eq['refit_wrmse']=0.\n",
    "\n",
    "number_matching_pattern = r\"(?<![a-zA-Z0-9_.])[+-]?(\\d+\\.\\d+|\\.\\d+|\\d+\\.|\\d+)(?:[eE][-+]?\\d+)?\"\n",
    "\n",
    "\n",
    "def predict(equation):\n",
    "    func=str2equ(equation)\n",
    "    labels = re.findall(r'x(\\d+)', equation)\n",
    "    labels = list(dict.fromkeys(labels))\n",
    "    labels = [int(label) for label in labels]\n",
    "\n",
    "    x=[]\n",
    "    for i in range(len(labels)):\n",
    "        x.append(df[low_scatter_para[labels[i]]])\n",
    "\n",
    "    return func(*x)\n",
    "\n",
    "def str2equ(equation):\n",
    "    return lambdify(list(dict.fromkeys(re.findall(r'\\bx\\d+',equation))),equation)\n",
    "\n",
    "def wrmse(y,y_pred,w):\n",
    "    return np.average((y-y_pred)**2,weights=w)\n",
    "\n",
    "mu_obs = df['M_BH']\n",
    "sigma_y_obs2 = df['M_BH_std_sym']*df['M_BH_std_sym']\n",
    "w=1/sigma_y_obs2\n",
    "\n",
    "for row in tqdm(t_eq.iterrows(),total=len(t_eq)):\n",
    "\n",
    "    equation = row[1]['fitting_format']\n",
    "\n",
    "    variable_list=[]\n",
    "    for i in range(row[1]['num_fitting_variables']):\n",
    "        variable_list.append('p['+str(i)+']')\n",
    "    \n",
    "    constants = row[1]['initial_constant_guess']\n",
    "    constants = eval(constants)\n",
    "    \n",
    "    print(equation)\n",
    "\n",
    "    labels = re.findall(r'x(\\d+)', equation)\n",
    "    labels = list(dict.fromkeys(labels))\n",
    "    labels = [int(label) for label in labels]\n",
    "\n",
    "    x=[]\n",
    "    for i in range(len(labels)):\n",
    "        x.append(df[low_scatter_para[labels[i]]])\n",
    "\n",
    "    mu_obs = df['M_BH']\n",
    "\n",
    "    sigma_y_obs2 = df['M_BH_std_sym']*df['M_BH_std_sym']\n",
    "\n",
    "    ##############################\n",
    "    def loglikelihood(p):\n",
    "\n",
    "        equation_=equation\n",
    "\n",
    "        # swap constants in for p[i]\n",
    "        for i in range(len(variable_list)):\n",
    "            equation_ = equation_.replace(variable_list[i],str(p[i]))\n",
    "\n",
    "        #print(equation_)\n",
    "\n",
    "        func = str2equ(equation_)\n",
    "\n",
    "        mu_pred = func(*x)\n",
    "        sigma_y =  np.sqrt(sigma_y_obs2 + p[-1]*p[-1])\n",
    "        #sigma_y =  np.sqrt(sigma_y_obs2)\n",
    "        norm_residuals = (mu_obs - mu_pred) / sigma_y\n",
    "\n",
    "        log_l = -0.5*len(df)*np.log(2*np.pi) -np.log(sigma_y).sum() - 0.5*(norm_residuals*norm_residuals).sum()\n",
    "\n",
    "        #print(log_l)\n",
    "        return -log_l\n",
    "    ###############################\n",
    "\n",
    "\n",
    "    for i in range(len(constants)):\n",
    "        constants[i]=np.float64(constants[i])\n",
    "    current_parameter_vector=np.array(constants)\n",
    "    current_parameter_vector=np.append(current_parameter_vector,0.3) # last p is intrinsic scatter\n",
    "\n",
    "\n",
    "    result = opt.minimize(loglikelihood, current_parameter_vector, method='Nelder-Mead', tol=1e-5, options={'maxiter':5e4, 'maxfev':5e4, 'adaptive':True})\n",
    "\n",
    "    new_equation = equation\n",
    "    for i in range(len(variable_list)):\n",
    "        new_equation = new_equation.replace(variable_list[i],str(result.x[i]))\n",
    "    t_eq.loc[row[0],'refit_equation']=new_equation\n",
    "\n",
    "    refit_wrmse = wrmse(mu_obs,predict(t_eq.iloc[row[0]]['refit_equation']),w)\n",
    "    if np.isnan(refit_wrmse):\n",
    "        t_eq.loc[row[0],'refit_wrmse']=np.nan\n",
    "        t_eq.loc[row[0],'LLL']=np.nan\n",
    "        t_eq.loc[row[0],'intrinsic_scatter']=np.nan\n",
    "    \n",
    "    else:\n",
    "        t_eq.loc[row[0],'refit_wrmse']=refit_wrmse\n",
    "        t_eq.loc[row[0],'LLL']=-loglikelihood(current_parameter_vector)\n",
    "        t_eq.loc[row[0],'intrinsic_scatter']=result.x[-1]"
   ]
  },
  {
   "cell_type": "code",
   "execution_count": 8,
   "metadata": {},
   "outputs": [
    {
     "data": {
      "text/html": [
       "<div>\n",
       "<style scoped>\n",
       "    .dataframe tbody tr th:only-of-type {\n",
       "        vertical-align: middle;\n",
       "    }\n",
       "\n",
       "    .dataframe tbody tr th {\n",
       "        vertical-align: top;\n",
       "    }\n",
       "\n",
       "    .dataframe thead th {\n",
       "        text-align: right;\n",
       "    }\n",
       "</style>\n",
       "<table border=\"1\" class=\"dataframe\">\n",
       "  <thead>\n",
       "    <tr style=\"text-align: right;\">\n",
       "      <th></th>\n",
       "      <th>complexity</th>\n",
       "      <th>loss</th>\n",
       "      <th>score</th>\n",
       "      <th>equation</th>\n",
       "      <th>sympy_format</th>\n",
       "      <th>lambda_format</th>\n",
       "      <th>number_constants</th>\n",
       "      <th>variables</th>\n",
       "      <th>number_variables</th>\n",
       "      <th>unique_number_variables</th>\n",
       "      <th>...</th>\n",
       "      <th>aic</th>\n",
       "      <th>evolutions</th>\n",
       "      <th>iterations</th>\n",
       "      <th>fitting_format</th>\n",
       "      <th>num_fitting_variables</th>\n",
       "      <th>initial_constant_guess</th>\n",
       "      <th>LLL</th>\n",
       "      <th>intrinsic_scatter</th>\n",
       "      <th>refit_equation</th>\n",
       "      <th>refit_wrmse</th>\n",
       "    </tr>\n",
       "  </thead>\n",
       "  <tbody>\n",
       "    <tr>\n",
       "      <th>0</th>\n",
       "      <td>1</td>\n",
       "      <td>4.885951</td>\n",
       "      <td>0.000000</td>\n",
       "      <td>x69</td>\n",
       "      <td>x69</td>\n",
       "      <td>PySRFunction(X=&gt;x69)</td>\n",
       "      <td>0</td>\n",
       "      <td>{'x69'}</td>\n",
       "      <td>1</td>\n",
       "      <td>1</td>\n",
       "      <td>...</td>\n",
       "      <td>908.786973</td>\n",
       "      <td>0</td>\n",
       "      <td>0</td>\n",
       "      <td>x69</td>\n",
       "      <td>0</td>\n",
       "      <td>[]</td>\n",
       "      <td>-2644.193704</td>\n",
       "      <td>2.495183</td>\n",
       "      <td>x69</td>\n",
       "      <td>4.885951</td>\n",
       "    </tr>\n",
       "    <tr>\n",
       "      <th>1</th>\n",
       "      <td>3</td>\n",
       "      <td>0.157051</td>\n",
       "      <td>1.718773</td>\n",
       "      <td>(x69 + x49)</td>\n",
       "      <td>x49 + x69</td>\n",
       "      <td>PySRFunction(X=&gt;x49 + x69)</td>\n",
       "      <td>0</td>\n",
       "      <td>{'x69', 'x49'}</td>\n",
       "      <td>2</td>\n",
       "      <td>2</td>\n",
       "      <td>...</td>\n",
       "      <td>29.211556</td>\n",
       "      <td>0</td>\n",
       "      <td>0</td>\n",
       "      <td>x49 + x69</td>\n",
       "      <td>0</td>\n",
       "      <td>[]</td>\n",
       "      <td>-132.237834</td>\n",
       "      <td>0.575609</td>\n",
       "      <td>x49 + x69</td>\n",
       "      <td>0.157051</td>\n",
       "    </tr>\n",
       "    <tr>\n",
       "      <th>2</th>\n",
       "      <td>7</td>\n",
       "      <td>0.127908</td>\n",
       "      <td>0.058997</td>\n",
       "      <td>(((x12 + x49) - x73) - x17)</td>\n",
       "      <td>x12 - x17 + x49 - x73</td>\n",
       "      <td>PySRFunction(X=&gt;x12 - x17 + x49 - x73)</td>\n",
       "      <td>0</td>\n",
       "      <td>{'x12', 'x49', 'x73', 'x17'}</td>\n",
       "      <td>4</td>\n",
       "      <td>4</td>\n",
       "      <td>...</td>\n",
       "      <td>23.790881</td>\n",
       "      <td>0</td>\n",
       "      <td>0</td>\n",
       "      <td>x12 - x17 + x49 - x73</td>\n",
       "      <td>0</td>\n",
       "      <td>[]</td>\n",
       "      <td>-113.504567</td>\n",
       "      <td>0.536001</td>\n",
       "      <td>x12 - x17 + x49 - x73</td>\n",
       "      <td>0.127908</td>\n",
       "    </tr>\n",
       "    <tr>\n",
       "      <th>3</th>\n",
       "      <td>11</td>\n",
       "      <td>0.117943</td>\n",
       "      <td>0.020278</td>\n",
       "      <td>(((x69 + x49) - (log10(2.233044520137043) / ex...</td>\n",
       "      <td>x49 + x69 - x73 - 0.8033659100247211*exp(-x56)...</td>\n",
       "      <td>PySRFunction(X=&gt;x49 + x69 - x73 - 0.8033659100...</td>\n",
       "      <td>1</td>\n",
       "      <td>{'x69', 'x49', 'x73', 'x56'}</td>\n",
       "      <td>4</td>\n",
       "      <td>4</td>\n",
       "      <td>...</td>\n",
       "      <td>23.937366</td>\n",
       "      <td>0</td>\n",
       "      <td>0</td>\n",
       "      <td>x49 + x69 - x73 - log10(p[0])*exp(-x56)</td>\n",
       "      <td>1</td>\n",
       "      <td>['2.233044520137043']</td>\n",
       "      <td>NaN</td>\n",
       "      <td>NaN</td>\n",
       "      <td>x49 + x69 - x73 - log10(-0.19310753116117474)*...</td>\n",
       "      <td>NaN</td>\n",
       "    </tr>\n",
       "    <tr>\n",
       "      <th>4</th>\n",
       "      <td>15</td>\n",
       "      <td>0.105290</td>\n",
       "      <td>0.028371</td>\n",
       "      <td>((((x13 + x53) + -0.4385317648318854) + (((0.5...</td>\n",
       "      <td>x13 + x53 - x65 + (0.5787281095217448**x42)**1...</td>\n",
       "      <td>PySRFunction(X=&gt;x13 + x53 - x65 + (0.578728109...</td>\n",
       "      <td>4</td>\n",
       "      <td>{'x42', 'x65', 'x13', 'x53'}</td>\n",
       "      <td>4</td>\n",
       "      <td>4</td>\n",
       "      <td>...</td>\n",
       "      <td>27.583895</td>\n",
       "      <td>0</td>\n",
       "      <td>0</td>\n",
       "      <td>x13 + x53 - x65 + (p[0]**x42)**p[1] - p[2]</td>\n",
       "      <td>3</td>\n",
       "      <td>['0.5787281095217448', '1.1072374946867565', '...</td>\n",
       "      <td>-75.852376</td>\n",
       "      <td>0.438619</td>\n",
       "      <td>x13 + x53 - x65 + (0.566708231503907**x42)**0....</td>\n",
       "      <td>0.108121</td>\n",
       "    </tr>\n",
       "    <tr>\n",
       "      <th>...</th>\n",
       "      <td>...</td>\n",
       "      <td>...</td>\n",
       "      <td>...</td>\n",
       "      <td>...</td>\n",
       "      <td>...</td>\n",
       "      <td>...</td>\n",
       "      <td>...</td>\n",
       "      <td>...</td>\n",
       "      <td>...</td>\n",
       "      <td>...</td>\n",
       "      <td>...</td>\n",
       "      <td>...</td>\n",
       "      <td>...</td>\n",
       "      <td>...</td>\n",
       "      <td>...</td>\n",
       "      <td>...</td>\n",
       "      <td>...</td>\n",
       "      <td>...</td>\n",
       "      <td>...</td>\n",
       "      <td>...</td>\n",
       "      <td>...</td>\n",
       "    </tr>\n",
       "    <tr>\n",
       "      <th>59</th>\n",
       "      <td>13</td>\n",
       "      <td>0.021503</td>\n",
       "      <td>0.158455</td>\n",
       "      <td>(((x15 / 0.2781055358753451) + x19) - (log10(e...</td>\n",
       "      <td>3.595757261186734*x15 + x19 - log(exp(x42)/x21...</td>\n",
       "      <td>PySRFunction(X=&gt;3.595757261186734*x15 + x19 - ...</td>\n",
       "      <td>2</td>\n",
       "      <td>{'x42', 'x19', 'x15', 'x21'}</td>\n",
       "      <td>4</td>\n",
       "      <td>4</td>\n",
       "      <td>...</td>\n",
       "      <td>7.999501</td>\n",
       "      <td>0</td>\n",
       "      <td>1872</td>\n",
       "      <td>p[0]*x15 + x19 - log10(exp(x42)/x21) + p[1]</td>\n",
       "      <td>2</td>\n",
       "      <td>['3.595757261186734', '0.38990846927012623']</td>\n",
       "      <td>-21.956161</td>\n",
       "      <td>0.239813</td>\n",
       "      <td>3.422088700384049*x15 + x19 - log10(exp(x42)/x...</td>\n",
       "      <td>0.023058</td>\n",
       "    </tr>\n",
       "    <tr>\n",
       "      <th>60</th>\n",
       "      <td>19</td>\n",
       "      <td>0.019478</td>\n",
       "      <td>0.001638</td>\n",
       "      <td>(((x15 / 0.2781055358753451) + x19) - (log10((...</td>\n",
       "      <td>3.595757261186734*x15 + x19 - log((x2 + x8 + e...</td>\n",
       "      <td>PySRFunction(X=&gt;3.595757261186734*x15 + x19 - ...</td>\n",
       "      <td>3</td>\n",
       "      <td>{'x42', 'x19', 'x2', 'x15', 'x21', 'x8'}</td>\n",
       "      <td>6</td>\n",
       "      <td>6</td>\n",
       "      <td>...</td>\n",
       "      <td>9.622973</td>\n",
       "      <td>0</td>\n",
       "      <td>1872</td>\n",
       "      <td>p[0]*x15 + x19 - log10((x2 + x8 + exp(x42) - p...</td>\n",
       "      <td>3</td>\n",
       "      <td>['3.595757261186734', '0.5889051845565962', '0...</td>\n",
       "      <td>-19.347105</td>\n",
       "      <td>0.223603</td>\n",
       "      <td>3.321319736068659*x15 + x19 - log10((x2 + x8 +...</td>\n",
       "      <td>0.020402</td>\n",
       "    </tr>\n",
       "    <tr>\n",
       "      <th>61</th>\n",
       "      <td>21</td>\n",
       "      <td>0.019439</td>\n",
       "      <td>0.001002</td>\n",
       "      <td>(((x15 / 0.2781055358753451) + x19) - (log10((...</td>\n",
       "      <td>3.595757261186734*x15 + x19 - log((x2 + x73 + ...</td>\n",
       "      <td>PySRFunction(X=&gt;3.595757261186734*x15 + x19 - ...</td>\n",
       "      <td>3</td>\n",
       "      <td>{'x42', 'x19', 'x2', 'x15', 'x21', 'x8', 'x73'}</td>\n",
       "      <td>7</td>\n",
       "      <td>7</td>\n",
       "      <td>...</td>\n",
       "      <td>9.615720</td>\n",
       "      <td>0</td>\n",
       "      <td>1872</td>\n",
       "      <td>p[0]*x15 + x19 - log10((x2 + x73 + x8 + exp(x4...</td>\n",
       "      <td>3</td>\n",
       "      <td>['3.595757261186734', '0.5889051845565962', '0...</td>\n",
       "      <td>-19.124593</td>\n",
       "      <td>0.222083</td>\n",
       "      <td>3.310923746501202*x15 + x19 - log10((x2 + x73 ...</td>\n",
       "      <td>0.020351</td>\n",
       "    </tr>\n",
       "    <tr>\n",
       "      <th>62</th>\n",
       "      <td>4</td>\n",
       "      <td>0.115187</td>\n",
       "      <td>0.184676</td>\n",
       "      <td>(log10(x15) * 23.41780258431442)</td>\n",
       "      <td>23.41780258431442*log(x15)/log(10)</td>\n",
       "      <td>PySRFunction(X=&gt;23.41780258431442*log(x15)/log...</td>\n",
       "      <td>1</td>\n",
       "      <td>{'x15'}</td>\n",
       "      <td>1</td>\n",
       "      <td>1</td>\n",
       "      <td>...</td>\n",
       "      <td>23.424861</td>\n",
       "      <td>0</td>\n",
       "      <td>1908</td>\n",
       "      <td>p[0]*log10(x15)</td>\n",
       "      <td>1</td>\n",
       "      <td>['23.41780258431442']</td>\n",
       "      <td>-96.489604</td>\n",
       "      <td>0.480893</td>\n",
       "      <td>23.07503029440484*log10(x15)</td>\n",
       "      <td>0.130350</td>\n",
       "    </tr>\n",
       "    <tr>\n",
       "      <th>63</th>\n",
       "      <td>19</td>\n",
       "      <td>0.015566</td>\n",
       "      <td>0.113730</td>\n",
       "      <td>((((x15 / 0.2928557769080886) + x19) - log10((...</td>\n",
       "      <td>3.414650073007934*x15 + x19 - log(-0.768482453...</td>\n",
       "      <td>PySRFunction(X=&gt;3.414650073007934*x15 + x19 - ...</td>\n",
       "      <td>3</td>\n",
       "      <td>{'x42', 'x9', 'x19', 'x15', 'x52', 'x21'}</td>\n",
       "      <td>6</td>\n",
       "      <td>6</td>\n",
       "      <td>...</td>\n",
       "      <td>8.895362</td>\n",
       "      <td>0</td>\n",
       "      <td>2107</td>\n",
       "      <td>p[0]*x15 + x19 - log10(-p[1] + (-x52 + exp(x42...</td>\n",
       "      <td>3</td>\n",
       "      <td>['3.414650073007934', '0.7684824535754969', '0...</td>\n",
       "      <td>-12.958851</td>\n",
       "      <td>0.198112</td>\n",
       "      <td>3.1717220830487545*x15 + x19 - log10(-0.702764...</td>\n",
       "      <td>0.017436</td>\n",
       "    </tr>\n",
       "  </tbody>\n",
       "</table>\n",
       "<p>64 rows × 21 columns</p>\n",
       "</div>"
      ],
      "text/plain": [
       "    complexity      loss     score  \\\n",
       "0            1  4.885951  0.000000   \n",
       "1            3  0.157051  1.718773   \n",
       "2            7  0.127908  0.058997   \n",
       "3           11  0.117943  0.020278   \n",
       "4           15  0.105290  0.028371   \n",
       "..         ...       ...       ...   \n",
       "59          13  0.021503  0.158455   \n",
       "60          19  0.019478  0.001638   \n",
       "61          21  0.019439  0.001002   \n",
       "62           4  0.115187  0.184676   \n",
       "63          19  0.015566  0.113730   \n",
       "\n",
       "                                             equation  \\\n",
       "0                                                 x69   \n",
       "1                                         (x69 + x49)   \n",
       "2                         (((x12 + x49) - x73) - x17)   \n",
       "3   (((x69 + x49) - (log10(2.233044520137043) / ex...   \n",
       "4   ((((x13 + x53) + -0.4385317648318854) + (((0.5...   \n",
       "..                                                ...   \n",
       "59  (((x15 / 0.2781055358753451) + x19) - (log10(e...   \n",
       "60  (((x15 / 0.2781055358753451) + x19) - (log10((...   \n",
       "61  (((x15 / 0.2781055358753451) + x19) - (log10((...   \n",
       "62                   (log10(x15) * 23.41780258431442)   \n",
       "63  ((((x15 / 0.2928557769080886) + x19) - log10((...   \n",
       "\n",
       "                                         sympy_format  \\\n",
       "0                                                 x69   \n",
       "1                                           x49 + x69   \n",
       "2                               x12 - x17 + x49 - x73   \n",
       "3   x49 + x69 - x73 - 0.8033659100247211*exp(-x56)...   \n",
       "4   x13 + x53 - x65 + (0.5787281095217448**x42)**1...   \n",
       "..                                                ...   \n",
       "59  3.595757261186734*x15 + x19 - log(exp(x42)/x21...   \n",
       "60  3.595757261186734*x15 + x19 - log((x2 + x8 + e...   \n",
       "61  3.595757261186734*x15 + x19 - log((x2 + x73 + ...   \n",
       "62                 23.41780258431442*log(x15)/log(10)   \n",
       "63  3.414650073007934*x15 + x19 - log(-0.768482453...   \n",
       "\n",
       "                                        lambda_format  number_constants  \\\n",
       "0                                PySRFunction(X=>x69)                 0   \n",
       "1                          PySRFunction(X=>x49 + x69)                 0   \n",
       "2              PySRFunction(X=>x12 - x17 + x49 - x73)                 0   \n",
       "3   PySRFunction(X=>x49 + x69 - x73 - 0.8033659100...                 1   \n",
       "4   PySRFunction(X=>x13 + x53 - x65 + (0.578728109...                 4   \n",
       "..                                                ...               ...   \n",
       "59  PySRFunction(X=>3.595757261186734*x15 + x19 - ...                 2   \n",
       "60  PySRFunction(X=>3.595757261186734*x15 + x19 - ...                 3   \n",
       "61  PySRFunction(X=>3.595757261186734*x15 + x19 - ...                 3   \n",
       "62  PySRFunction(X=>23.41780258431442*log(x15)/log...                 1   \n",
       "63  PySRFunction(X=>3.414650073007934*x15 + x19 - ...                 3   \n",
       "\n",
       "                                          variables  number_variables  \\\n",
       "0                                           {'x69'}                 1   \n",
       "1                                    {'x69', 'x49'}                 2   \n",
       "2                      {'x12', 'x49', 'x73', 'x17'}                 4   \n",
       "3                      {'x69', 'x49', 'x73', 'x56'}                 4   \n",
       "4                      {'x42', 'x65', 'x13', 'x53'}                 4   \n",
       "..                                              ...               ...   \n",
       "59                     {'x42', 'x19', 'x15', 'x21'}                 4   \n",
       "60         {'x42', 'x19', 'x2', 'x15', 'x21', 'x8'}                 6   \n",
       "61  {'x42', 'x19', 'x2', 'x15', 'x21', 'x8', 'x73'}                 7   \n",
       "62                                          {'x15'}                 1   \n",
       "63        {'x42', 'x9', 'x19', 'x15', 'x52', 'x21'}                 6   \n",
       "\n",
       "    unique_number_variables  ...         aic  evolutions  iterations  \\\n",
       "0                         1  ...  908.786973           0           0   \n",
       "1                         2  ...   29.211556           0           0   \n",
       "2                         4  ...   23.790881           0           0   \n",
       "3                         4  ...   23.937366           0           0   \n",
       "4                         4  ...   27.583895           0           0   \n",
       "..                      ...  ...         ...         ...         ...   \n",
       "59                        4  ...    7.999501           0        1872   \n",
       "60                        6  ...    9.622973           0        1872   \n",
       "61                        7  ...    9.615720           0        1872   \n",
       "62                        1  ...   23.424861           0        1908   \n",
       "63                        6  ...    8.895362           0        2107   \n",
       "\n",
       "                                       fitting_format num_fitting_variables  \\\n",
       "0                                                 x69                     0   \n",
       "1                                           x49 + x69                     0   \n",
       "2                               x12 - x17 + x49 - x73                     0   \n",
       "3             x49 + x69 - x73 - log10(p[0])*exp(-x56)                     1   \n",
       "4          x13 + x53 - x65 + (p[0]**x42)**p[1] - p[2]                     3   \n",
       "..                                                ...                   ...   \n",
       "59        p[0]*x15 + x19 - log10(exp(x42)/x21) + p[1]                     2   \n",
       "60  p[0]*x15 + x19 - log10((x2 + x8 + exp(x42) - p...                     3   \n",
       "61  p[0]*x15 + x19 - log10((x2 + x73 + x8 + exp(x4...                     3   \n",
       "62                                    p[0]*log10(x15)                     1   \n",
       "63  p[0]*x15 + x19 - log10(-p[1] + (-x52 + exp(x42...                     3   \n",
       "\n",
       "                               initial_constant_guess          LLL  \\\n",
       "0                                                  [] -2644.193704   \n",
       "1                                                  []  -132.237834   \n",
       "2                                                  []  -113.504567   \n",
       "3                               ['2.233044520137043']          NaN   \n",
       "4   ['0.5787281095217448', '1.1072374946867565', '...   -75.852376   \n",
       "..                                                ...          ...   \n",
       "59       ['3.595757261186734', '0.38990846927012623']   -21.956161   \n",
       "60  ['3.595757261186734', '0.5889051845565962', '0...   -19.347105   \n",
       "61  ['3.595757261186734', '0.5889051845565962', '0...   -19.124593   \n",
       "62                              ['23.41780258431442']   -96.489604   \n",
       "63  ['3.414650073007934', '0.7684824535754969', '0...   -12.958851   \n",
       "\n",
       "    intrinsic_scatter                                     refit_equation  \\\n",
       "0            2.495183                                                x69   \n",
       "1            0.575609                                          x49 + x69   \n",
       "2            0.536001                              x12 - x17 + x49 - x73   \n",
       "3                 NaN  x49 + x69 - x73 - log10(-0.19310753116117474)*...   \n",
       "4            0.438619  x13 + x53 - x65 + (0.566708231503907**x42)**0....   \n",
       "..                ...                                                ...   \n",
       "59           0.239813  3.422088700384049*x15 + x19 - log10(exp(x42)/x...   \n",
       "60           0.223603  3.321319736068659*x15 + x19 - log10((x2 + x8 +...   \n",
       "61           0.222083  3.310923746501202*x15 + x19 - log10((x2 + x73 ...   \n",
       "62           0.480893                       23.07503029440484*log10(x15)   \n",
       "63           0.198112  3.1717220830487545*x15 + x19 - log10(-0.702764...   \n",
       "\n",
       "   refit_wrmse  \n",
       "0     4.885951  \n",
       "1     0.157051  \n",
       "2     0.127908  \n",
       "3          NaN  \n",
       "4     0.108121  \n",
       "..         ...  \n",
       "59    0.023058  \n",
       "60    0.020402  \n",
       "61    0.020351  \n",
       "62    0.130350  \n",
       "63    0.017436  \n",
       "\n",
       "[64 rows x 21 columns]"
      ]
     },
     "execution_count": 8,
     "metadata": {},
     "output_type": "execute_result"
    }
   ],
   "source": [
    "t_eq"
   ]
  },
  {
   "cell_type": "code",
   "execution_count": null,
   "metadata": {},
   "outputs": [],
   "source": []
  },
  {
   "cell_type": "markdown",
   "metadata": {},
   "source": [
    "## Visualize the results of refitting.py"
   ]
  },
  {
   "cell_type": "code",
   "execution_count": 3,
   "metadata": {},
   "outputs": [],
   "source": [
    "filename = 'pareto_low_adv_cleaned.csv'\n",
    "t_eq = pd.read_csv('/data/zj448/SR/Ultimate_paper/pareto_archive/'+filename[:-12]+'_refit.csv')"
   ]
  },
  {
   "cell_type": "code",
   "execution_count": 4,
   "metadata": {},
   "outputs": [],
   "source": [
    "# for i in range(100):\n",
    "#     display(parse_expr(t_eq.iloc[i]['refit_equation']))"
   ]
  },
  {
   "cell_type": "code",
   "execution_count": 5,
   "metadata": {},
   "outputs": [
    {
     "data": {
      "text/plain": [
       "93"
      ]
     },
     "execution_count": 5,
     "metadata": {},
     "output_type": "execute_result"
    }
   ],
   "source": [
    "df_full = pd.read_csv('SMBH_Data_03_06_24.csv',header=1)\n",
    "\n",
    "low_scatter_para=['ETG','T-type','Bar', 'Disk', 'Ring', 'Core', 'Multiple', 'Compactness', 'AGN',\n",
    "       'Pseudobulge', 'BCG', 'cD','M*_sph', 'M*_gal', 'log_B/T',\n",
    "       'log_sigma0', 'log_R_e_sph_maj','log_R_e_sph_eq_kpc', 'log_n_sph_maj', 'log_n_sph_eq', 'log(I_e,sph,maj/M_Sun/pc^2)',\n",
    "       'log(I_e,sph,eq/M_Sun/pc^2)', 'Concentration_Index',\n",
    "       'avg_Rho_1kpc_Exact_All', 'r1_density_approx', 'log10(R10_kpc)',\n",
    "       'logRho_R10_approx', 'log_rho10_Exact', 'log10(R90_kpc)',\n",
    "       'logRho_R90_approx', 'log_rho_90_Exact_all', 'Rho_re_spatial',\n",
    "       'SR_pc_All', 'Rho_SR_pc_All', 'CR_def1_approx_new',\n",
    "       'Rho_cr_def1_approx_new', 'CR_def2_approx_new',\n",
    "       'Rho_CR_def2_approx_new', 'Sr(pc)_2_using_Falserm_drho',\n",
    "       'Log_Approx_Avg_density_10pc', 'log_Rho_e_Exact_new',\n",
    "       'logRho_e_approx_New', 'logRho_soi_approx_new',\n",
    "       'log_Rho_soi_exact_new', 'Avg_Rho_Re_Exact_all',\n",
    "       'Avg_Rho_soi_exact_all', 'Avg_Rho_re_Exact_all', 'Rho_re_Exact_all',\n",
    "       'Rho_r_soi_2BH_approx', 'Log_Avg_Rho_10kpc_approx',\n",
    "       'Log_Avg_Rho_10kpc_exact_final', 'Log_Avg_Rho_100pc_approx',\n",
    "       'Log_Avg_Rho_5kpc_approx', 'Log_Avg_rho_5kpc_exact_all', 'ube', 'bve',\n",
    "       'dc', 'bvtc', 'bri25', 'mabs', 'blum', 'logblum', 'logSigma0sph',\n",
    "       'LogSigma0', 'R10', 'logR10', 'logR10phi', 'Rh', 'logRh', 'logRhphi',\n",
    "       'logHalo','B-V','V-[3.6]','GJC23W1-W2','GJC23W2-W3','GJC23log(M*,gal/M_sun)',\n",
    "       'GJC23log(SFR)','GJC23log(sSFR)','log<Sigma>_e','log<Sigma>_h','M_BH']\n",
    "\n",
    "easy_obs_para=['LogSigma0','Concentration_Index','logSigma0sph','log_sigma0','dc','logRhphi','M*_sph','ube','bri25','bve','bvtc','logR10phi','M*_gal','log_B/T',\n",
    " 'logRh','log_n_sph_eq','blum','log_R_e_sph_maj','logblum','log_n_sph_maj','logR10','Pseudobulge','AGN','Multiple','Ring','BCG','Disk','cD',\n",
    " 'Bar','Core','Compactness','ETG','T-type','log10(R10_kpc)','log10(R90_kpc)','B-V','V-[3.6]','GJC23W1-W2','GJC23W2-W3','GJC23log(M*,gal/M_sun)','M_BH']\n",
    "\n",
    "low_scatter_para.append('M_BH_std_sym')\n",
    "easy_obs_para.append('M_BH_std_sym')\n",
    "\n",
    "if 'low' in filename:\n",
    "    df=df_full[low_scatter_para]\n",
    "if 'easy' in filename:\n",
    "    df=df_full[easy_obs_para]\n",
    "df=df.dropna()\n",
    "len(df)"
   ]
  },
  {
   "cell_type": "code",
   "execution_count": 6,
   "metadata": {},
   "outputs": [
    {
     "data": {
      "image/png": "[encoded data removed]",
      "text/plain": [
       "<Figure size 640x480 with 2 Axes>"
      ]
     },
     "metadata": {},
     "output_type": "display_data"
    }
   ],
   "source": [
    "aic = -2*t_eq['LLL']+2*(t_eq['number_constants']+1)\n",
    "t_eq['AIC']=aic\n",
    "plt.scatter(t_eq['number_constants']+1,aic,c=t_eq['intrinsic_scatter'])\n",
    "plt.xlabel('number of constants')\n",
    "plt.ylabel('aic')\n",
    "#plt.ylim(0,1000)\n",
    "plt.yscale('log')\n",
    "plt.colorbar().set_label('intrinsic scatter')"
   ]
  },
  {
   "cell_type": "code",
   "execution_count": 7,
   "metadata": {},
   "outputs": [
    {
     "data": {
      "image/png": "[encoded data removed]",
      "text/plain": [
       "<Figure size 640x480 with 2 Axes>"
      ]
     },
     "metadata": {},
     "output_type": "display_data"
    }
   ],
   "source": [
    "bic = -2*t_eq['LLL']+np.log(len(df))*(t_eq['number_constants']+1)\n",
    "t_eq['BIC']=bic\n",
    "plt.scatter(t_eq['number_constants']+1,bic,c=np.clip(t_eq['intrinsic_scatter'],0,0.5))\n",
    "plt.xlabel('number of constants')\n",
    "plt.ylabel('bic')\n",
    "plt.ylim(0,400)\n",
    "#plt.yscale('log')\n",
    "plt.colorbar().set_label('intrinsic scatter')"
   ]
  },
  {
   "cell_type": "code",
   "execution_count": 8,
   "metadata": {},
   "outputs": [
    {
     "data": {
      "image/png": "[encoded data removed]",
      "text/plain": [
       "<Figure size 640x480 with 2 Axes>"
      ]
     },
     "metadata": {},
     "output_type": "display_data"
    }
   ],
   "source": [
    "dof = np.maximum(t_eq['number_constants'],t_eq['unique_number_variables'])+1\n",
    "bic = np.array(-2*t_eq['LLL']+np.log(len(df))*dof)\n",
    "t_eq['BIC']=bic\n",
    "t_eq['DOF']=dof\n",
    "plt.scatter(dof,bic,c=np.clip(t_eq['intrinsic_scatter'],0,0.5))\n",
    "plt.xlabel('DOF')\n",
    "plt.ylabel('bic')\n",
    "plt.ylim(0,200)\n",
    "#plt.yscale('log')\n",
    "plt.colorbar().set_label('intrinsic scatter')"
   ]
  },
  {
   "cell_type": "code",
   "execution_count": 9,
   "metadata": {},
   "outputs": [],
   "source": [
    "#aic.argmin()"
   ]
  },
  {
   "cell_type": "code",
   "execution_count": 10,
   "metadata": {},
   "outputs": [
    {
     "data": {
      "text/plain": [
       "(array([653, 652, 654, ...,  83, 995, 808]),\n",
       " array([14.65025918, 17.13927014, 19.88061074, ...,         nan,\n",
       "                nan,         nan]))"
      ]
     },
     "execution_count": 10,
     "metadata": {},
     "output_type": "execute_result"
    }
   ],
   "source": [
    "bic.argsort(),bic[bic.argsort()]"
   ]
  },
  {
   "cell_type": "code",
   "execution_count": 11,
   "metadata": {},
   "outputs": [],
   "source": [
    "def view_equation(index,var_list=low_scatter_para,t_eq=t_eq):\n",
    "    print('equation:',parse_expr(t_eq.iloc[index]['refit_equation']))\n",
    "    display(parse_expr(t_eq.iloc[index]['refit_equation']))\n",
    "    unique_variables = list(dict.fromkeys(re.findall(r'\\bx\\d+',t_eq.iloc[index]['refit_equation'])))\n",
    "    #print(unique_variables)\n",
    "    for i in range(len(unique_variables)):\n",
    "        print(unique_variables[i],':',var_list[int(unique_variables[i][1:])])\n",
    "    \n",
    "    print('intrinsic scatter:',t_eq.iloc[index]['intrinsic_scatter'])\n",
    "    print('wrmse:',t_eq.iloc[index]['refit_wrmse'])\n",
    "    print('AIC:',t_eq.iloc[index]['AIC'])\n",
    "    print('BIC:',t_eq.iloc[index]['BIC'])\n",
    "    print('DOF:',t_eq.iloc[index]['DOF'])\n",
    "    return None"
   ]
  },
  {
   "cell_type": "code",
   "execution_count": 12,
   "metadata": {},
   "outputs": [
    {
     "name": "stdout",
     "output_type": "stream",
     "text": [
      "Top1: index 653\n",
      "equation: x15*(-x42/(x39 - 0.3167230750170285*x9**3.1865675724962137) + 3.1865675724962137) + 2.8150715678889657\n"
     ]
    },
    {
     "data": {
      "text/latex": [
       "$\\displaystyle x_{15} \\left(- \\frac{x_{42}}{x_{39} - 0.3167230750170285 x_{9}^{3.1865675724962137}} + 3.1865675724962137\\right) + 2.8150715678889657$"
      ],
      "text/plain": [
       "x15*(-x42/(x39 - 0.3167230750170285*x9**3.1865675724962137) + 3.1865675724962137) + 2.8150715678889657"
      ]
     },
     "metadata": {},
     "output_type": "display_data"
    },
    {
     "name": "stdout",
     "output_type": "stream",
     "text": [
      "x15 : log_sigma0\n",
      "x42 : logRho_soi_approx_new\n",
      "x39 : Log_Approx_Avg_density_10pc\n",
      "x9 : Pseudobulge\n",
      "intrinsic scatter: 0.1103512466094481\n",
      "wrmse: 0.0110927234763246\n",
      "AIC: 1.9872617114596842\n",
      "BIC: 14.650259177225966\n",
      "DOF: 5\n"
     ]
    }
   ],
   "source": [
    "print('Top1: index',bic.argsort()[0])\n",
    "view_equation(bic.argsort()[0])"
   ]
  },
  {
   "cell_type": "code",
   "execution_count": 13,
   "metadata": {},
   "outputs": [
    {
     "name": "stdout",
     "output_type": "stream",
     "text": [
      "Top2: index 652\n",
      "equation: x15*(-x42/(x39 - 0.3167222239015659*x9) + 3.1865666325111657) + 2.815073609119419\n"
     ]
    },
    {
     "data": {
      "text/latex": [
       "$\\displaystyle x_{15} \\left(- \\frac{x_{42}}{x_{39} - 0.3167222239015659 x_{9}} + 3.1865666325111657\\right) + 2.815073609119419$"
      ],
      "text/plain": [
       "x15*(-x42/(x39 - 0.3167222239015659*x9) + 3.1865666325111657) + 2.815073609119419"
      ]
     },
     "metadata": {},
     "output_type": "display_data"
    },
    {
     "name": "stdout",
     "output_type": "stream",
     "text": [
      "x15 : log_sigma0\n",
      "x42 : logRho_soi_approx_new\n",
      "x39 : Log_Approx_Avg_density_10pc\n",
      "x9 : Pseudobulge\n",
      "intrinsic scatter: 0.1103507406208933\n",
      "wrmse: 0.0110927222533735\n",
      "AIC: 4.476272671352138\n",
      "BIC: 17.13927013711842\n",
      "DOF: 5\n"
     ]
    }
   ],
   "source": [
    "print('Top2: index',bic.argsort()[1])\n",
    "view_equation(bic.argsort()[1])"
   ]
  },
  {
   "cell_type": "code",
   "execution_count": 14,
   "metadata": {},
   "outputs": [
    {
     "name": "stdout",
     "output_type": "stream",
     "text": [
      "equation: x15*(-x42/(x39 - 0.43242462237853263*log10(exp(exp(x9))/x78)) + 3.271260721331937) + 2.596838320762477\n"
     ]
    },
    {
     "data": {
      "text/latex": [
       "$\\displaystyle x_{15} \\left(- \\frac{x_{42}}{x_{39} - 0.43242462237853263 \\operatorname{log}_{10}{\\left(\\frac{e^{e^{x_{9}}}}{x_{78}} \\right)}} + 3.271260721331937\\right) + 2.596838320762477$"
      ],
      "text/plain": [
       "x15*(-x42/(x39 - 0.43242462237853263*log10(exp(exp(x9))/x78)) + 3.271260721331937) + 2.596838320762477"
      ]
     },
     "metadata": {},
     "output_type": "display_data"
    },
    {
     "name": "stdout",
     "output_type": "stream",
     "text": [
      "x15 : log_sigma0\n",
      "x42 : logRho_soi_approx_new\n",
      "x39 : Log_Approx_Avg_density_10pc\n",
      "x9 : Pseudobulge\n",
      "x78 : log<Sigma>_e\n",
      "intrinsic scatter: 0.1137664802087505\n",
      "wrmse: 0.0093572027136544\n",
      "AIC: 2.6850137771690115\n",
      "BIC: 19.88061073608855\n",
      "DOF: 6\n"
     ]
    }
   ],
   "source": [
    "view_equation(bic.argsort()[2])"
   ]
  },
  {
   "cell_type": "code",
   "execution_count": 15,
   "metadata": {},
   "outputs": [
    {
     "name": "stdout",
     "output_type": "stream",
     "text": [
      "equation: x39 - x42 + 7.417229618167781\n"
     ]
    },
    {
     "data": {
      "text/latex": [
       "$\\displaystyle x_{39} - x_{42} + 7.417229618167781$"
      ],
      "text/plain": [
       "x39 - x42 + 7.417229618167781"
      ]
     },
     "metadata": {},
     "output_type": "display_data"
    },
    {
     "name": "stdout",
     "output_type": "stream",
     "text": [
      "x39 : Log_Approx_Avg_density_10pc\n",
      "x42 : logRho_soi_approx_new\n",
      "intrinsic scatter: 0.3631079330428152\n",
      "wrmse: 0.073634484714086\n",
      "AIC: 100.81166275997816\n",
      "BIC: 110.40946123943793\n",
      "DOF: 3\n"
     ]
    }
   ],
   "source": [
    "# [rank]^th best (in terms of [criteria]) with dof = [ndof]\n",
    "ndof = 3\n",
    "rank = 0\n",
    "criteria = 'BIC'\n",
    "t_eq_dof=t_eq[t_eq['DOF']==ndof]\n",
    "view_equation(np.array(t_eq_dof[criteria]).argsort()[rank],t_eq=t_eq_dof)"
   ]
  },
  {
   "cell_type": "code",
   "execution_count": 16,
   "metadata": {},
   "outputs": [
    {
     "name": "stdout",
     "output_type": "stream",
     "text": [
      "equation: 0.5158951241986962*exp(x15) + 3.110169491559339\n"
     ]
    },
    {
     "data": {
      "text/latex": [
       "$\\displaystyle 0.5158951241986962 e^{x_{15}} + 3.110169491559339$"
      ],
      "text/plain": [
       "0.5158951241986962*exp(x15) + 3.110169491559339"
      ]
     },
     "metadata": {},
     "output_type": "display_data"
    },
    {
     "name": "stdout",
     "output_type": "stream",
     "text": [
      "x15 : log_sigma0\n",
      "intrinsic scatter: 0.4232453072395818\n",
      "wrmse: 0.1074475028206057\n",
      "AIC: 159.493044939766\n",
      "BIC: 167.0908434192258\n",
      "DOF: 3\n"
     ]
    }
   ],
   "source": [
    "# [rank]^th best (in terms of [criteria]) with number of variables = [nvar]\n",
    "nvar = 1\n",
    "rank = 0\n",
    "criteria = 'BIC'\n",
    "t_eq_var=t_eq[t_eq['unique_number_variables']==nvar]\n",
    "view_equation(np.array(t_eq_var[criteria]).argsort()[rank],t_eq=t_eq_var)"
   ]
  },
  {
   "cell_type": "code",
   "execution_count": 17,
   "metadata": {},
   "outputs": [
    {
     "name": "stdout",
     "output_type": "stream",
     "text": [
      "equation: 0.08732693504789066*x15**4.202422104946601 + 5.3324241699592125\n"
     ]
    },
    {
     "data": {
      "text/latex": [
       "$\\displaystyle 0.08732693504789066 x_{15}^{4.202422104946601} + 5.3324241699592125$"
      ],
      "text/plain": [
       "0.08732693504789066*x15**4.202422104946601 + 5.3324241699592125"
      ]
     },
     "metadata": {},
     "output_type": "display_data"
    },
    {
     "name": "stdout",
     "output_type": "stream",
     "text": [
      "x15 : log_sigma0\n",
      "intrinsic scatter: 0.4207947157917259\n",
      "wrmse: 0.1088582546123185\n",
      "AIC: 165.23148693565787\n",
      "BIC: 175.3618849082709\n",
      "DOF: 4\n"
     ]
    }
   ],
   "source": [
    "# [rank]^th best (in terms of [criteria]) with number of variables = [nvar]\n",
    "nvar = 1\n",
    "rank = 0\n",
    "criteria = 'intrinsic_scatter'\n",
    "t_eq_var=t_eq[t_eq['unique_number_variables']==nvar]\n",
    "view_equation(np.array(t_eq_var[criteria]).argsort()[rank],t_eq=t_eq_var)"
   ]
  },
  {
   "cell_type": "code",
   "execution_count": 18,
   "metadata": {},
   "outputs": [
    {
     "name": "stdout",
     "output_type": "stream",
     "text": [
      "equation: x15*(-x42/(-0.17331871941783772**x71 + x39) + 3.189686636298002) + 2.885129763372674\n"
     ]
    },
    {
     "data": {
      "text/latex": [
       "$\\displaystyle x_{15} \\left(- \\frac{x_{42}}{- 0.17331871941783772^{x_{71}} + x_{39}} + 3.189686636298002\\right) + 2.885129763372674$"
      ],
      "text/plain": [
       "x15*(-x42/(-0.17331871941783772**x71 + x39) + 3.189686636298002) + 2.885129763372674"
      ]
     },
     "metadata": {},
     "output_type": "display_data"
    },
    {
     "name": "stdout",
     "output_type": "stream",
     "text": [
      "x15 : log_sigma0\n",
      "x42 : logRho_soi_approx_new\n",
      "x71 : B-V\n",
      "x39 : Log_Approx_Avg_density_10pc\n",
      "intrinsic scatter: 0.1173553819869629\n",
      "wrmse: 0.0130950069051254\n",
      "AIC: 7.343308920304132\n",
      "BIC: 22.006306386070413\n",
      "DOF: 5\n"
     ]
    }
   ],
   "source": [
    "# [rank]^th best (in terms of [criteria]) with PySR complexity = [complexity]\n",
    "complexity = 13\n",
    "rank = 0\n",
    "criteria = 'intrinsic_scatter'\n",
    "t_eq_var=t_eq[t_eq['complexity']==complexity]\n",
    "view_equation(np.array(t_eq_var[criteria]).argsort()[rank],t_eq=t_eq_var)"
   ]
  },
  {
   "cell_type": "code",
   "execution_count": 19,
   "metadata": {},
   "outputs": [
    {
     "data": {
      "text/plain": [
       "Index(['complexity', 'loss', 'score', 'equation', 'sympy_format',\n",
       "       'lambda_format', 'number_constants', 'variables', 'number_variables',\n",
       "       'unique_number_variables', 'evolutions', 'iterations', 'fitting_format',\n",
       "       'num_fitting_variables', 'initial_constant_guess', 'LLL',\n",
       "       'intrinsic_scatter', 'refit_equation', 'refit_wrmse', 'AIC', 'BIC',\n",
       "       'DOF'],\n",
       "      dtype='object')"
      ]
     },
     "execution_count": 19,
     "metadata": {},
     "output_type": "execute_result"
    }
   ],
   "source": [
    "t_eq.columns"
   ]
  },
  {
   "cell_type": "code",
   "execution_count": 20,
   "metadata": {},
   "outputs": [
    {
     "data": {
      "image/png": "[encoded data removed]",
      "text/plain": [
       "<Figure size 640x480 with 1 Axes>"
      ]
     },
     "metadata": {},
     "output_type": "display_data"
    }
   ],
   "source": [
    "plt.scatter(t_eq['intrinsic_scatter'],t_eq['BIC'])\n",
    "plt.xlabel('intrinsic scatter')\n",
    "plt.ylabel('BIC')\n",
    "plt.yscale('log')\n",
    "plt.xscale('log')"
   ]
  },
  {
   "cell_type": "code",
   "execution_count": 23,
   "metadata": {},
   "outputs": [
    {
     "data": {
      "text/plain": [
       "(-2000.0, 500.0)"
      ]
     },
     "execution_count": 23,
     "metadata": {},
     "output_type": "execute_result"
    },
    {
     "data": {
      "image/png": "[encoded data removed]",
      "text/plain": [
       "<Figure size 640x480 with 1 Axes>"
      ]
     },
     "metadata": {},
     "output_type": "display_data"
    }
   ],
   "source": [
    "plt.scatter(t_eq['intrinsic_scatter'],t_eq['LLL'])\n",
    "plt.xlabel('intrinsic scatter')\n",
    "plt.ylabel('LLL')\n",
    "plt.ylim(-2000,500)\n",
    "#plt.yscale('log')\n",
    "#plt.xscale('log')"
   ]
  },
  {
   "cell_type": "code",
   "execution_count": 22,
   "metadata": {},
   "outputs": [
    {
     "data": {
      "text/html": [
       "<div>\n",
       "<style scoped>\n",
       "    .dataframe tbody tr th:only-of-type {\n",
       "        vertical-align: middle;\n",
       "    }\n",
       "\n",
       "    .dataframe tbody tr th {\n",
       "        vertical-align: top;\n",
       "    }\n",
       "\n",
       "    .dataframe thead th {\n",
       "        text-align: right;\n",
       "    }\n",
       "</style>\n",
       "<table border=\"1\" class=\"dataframe\">\n",
       "  <thead>\n",
       "    <tr style=\"text-align: right;\">\n",
       "      <th></th>\n",
       "      <th>complexity</th>\n",
       "      <th>loss</th>\n",
       "      <th>score</th>\n",
       "      <th>equation</th>\n",
       "      <th>sympy_format</th>\n",
       "      <th>lambda_format</th>\n",
       "      <th>number_constants</th>\n",
       "      <th>variables</th>\n",
       "      <th>number_variables</th>\n",
       "      <th>unique_number_variables</th>\n",
       "      <th>...</th>\n",
       "      <th>fitting_format</th>\n",
       "      <th>num_fitting_variables</th>\n",
       "      <th>initial_constant_guess</th>\n",
       "      <th>LLL</th>\n",
       "      <th>intrinsic_scatter</th>\n",
       "      <th>refit_equation</th>\n",
       "      <th>refit_wrmse</th>\n",
       "      <th>AIC</th>\n",
       "      <th>BIC</th>\n",
       "      <th>DOF</th>\n",
       "    </tr>\n",
       "  </thead>\n",
       "  <tbody>\n",
       "    <tr>\n",
       "      <th>0</th>\n",
       "      <td>1</td>\n",
       "      <td>2.422899</td>\n",
       "      <td>0.000000</td>\n",
       "      <td>x66</td>\n",
       "      <td>x66</td>\n",
       "      <td>PySRFunction(X=&gt;x66)</td>\n",
       "      <td>0</td>\n",
       "      <td>{'x66'}</td>\n",
       "      <td>1</td>\n",
       "      <td>1</td>\n",
       "      <td>...</td>\n",
       "      <td>x66</td>\n",
       "      <td>0</td>\n",
       "      <td>[]</td>\n",
       "      <td>-1424.139485</td>\n",
       "      <td>1.830990</td>\n",
       "      <td>x66</td>\n",
       "      <td>2.422899</td>\n",
       "      <td>2850.278970</td>\n",
       "      <td>2857.344169</td>\n",
       "      <td>2</td>\n",
       "    </tr>\n",
       "    <tr>\n",
       "      <th>1</th>\n",
       "      <td>3</td>\n",
       "      <td>0.793023</td>\n",
       "      <td>0.558434</td>\n",
       "      <td>(x73 - -8.377161567514106)</td>\n",
       "      <td>x73 + 8.377161567514106</td>\n",
       "      <td>PySRFunction(X=&gt;x73 + 8.377161567514106)</td>\n",
       "      <td>1</td>\n",
       "      <td>{'x73'}</td>\n",
       "      <td>1</td>\n",
       "      <td>1</td>\n",
       "      <td>...</td>\n",
       "      <td>x73 + p[0]</td>\n",
       "      <td>1</td>\n",
       "      <td>['8.37716156751411']</td>\n",
       "      <td>-503.997916</td>\n",
       "      <td>1.069723</td>\n",
       "      <td>x73 + 8.120512184890048</td>\n",
       "      <td>0.858892</td>\n",
       "      <td>1011.995832</td>\n",
       "      <td>1017.061031</td>\n",
       "      <td>2</td>\n",
       "    </tr>\n",
       "    <tr>\n",
       "      <th>2</th>\n",
       "      <td>13</td>\n",
       "      <td>0.095263</td>\n",
       "      <td>0.020015</td>\n",
       "      <td>(((0.45731312294876897 - (((x42 - -0.353818247...</td>\n",
       "      <td>-0.45018841361960323*x42 + x53 + x69 + 0.29802...</td>\n",
       "      <td>PySRFunction(X=&gt;-0.45018841361960323*x42 + x53...</td>\n",
       "      <td>4</td>\n",
       "      <td>{'x53', 'x69', 'x42'}</td>\n",
       "      <td>3</td>\n",
       "      <td>3</td>\n",
       "      <td>...</td>\n",
       "      <td>-p[0]*x42 + x53 + x69 + p[1]</td>\n",
       "      <td>2</td>\n",
       "      <td>['0.450188413619603', '0.298028247506404']</td>\n",
       "      <td>-90.130444</td>\n",
       "      <td>0.476856</td>\n",
       "      <td>-0.3753177359347113*x42 + x53 + x69 + 0.067348...</td>\n",
       "      <td>0.096992</td>\n",
       "      <td>190.260888</td>\n",
       "      <td>202.923886</td>\n",
       "      <td>5</td>\n",
       "    </tr>\n",
       "    <tr>\n",
       "      <th>3</th>\n",
       "      <td>17</td>\n",
       "      <td>0.090620</td>\n",
       "      <td>0.001319</td>\n",
       "      <td>((((0.13631070516777483 - ((x42 * (0.556125855...</td>\n",
       "      <td>-0.46524650939821102*x42 + x53 + x69 + 0.39610...</td>\n",
       "      <td>PySRFunction(X=&gt;-0.46524650939821102*x42 + x53...</td>\n",
       "      <td>6</td>\n",
       "      <td>{'x53', 'x69', 'x42'}</td>\n",
       "      <td>3</td>\n",
       "      <td>3</td>\n",
       "      <td>...</td>\n",
       "      <td>-p[1]*x42 + x53 + x69 + p[0]</td>\n",
       "      <td>2</td>\n",
       "      <td>['0.396106010486694', '0.465246509398211']</td>\n",
       "      <td>-92.883246</td>\n",
       "      <td>0.476855</td>\n",
       "      <td>-0.37531951644419825*x42 + x53 + x69 + 0.06735...</td>\n",
       "      <td>0.096992</td>\n",
       "      <td>199.766493</td>\n",
       "      <td>217.494689</td>\n",
       "      <td>7</td>\n",
       "    </tr>\n",
       "    <tr>\n",
       "      <th>4</th>\n",
       "      <td>19</td>\n",
       "      <td>0.090473</td>\n",
       "      <td>0.000813</td>\n",
       "      <td>((((0.45731312294876897 - ((x42 * 0.5561258553...</td>\n",
       "      <td>-0.45018841361960323*x42 + x53 + x69 + 0.45731...</td>\n",
       "      <td>PySRFunction(X=&gt;-0.45018841361960323*x42 + x53...</td>\n",
       "      <td>6</td>\n",
       "      <td>{'x53', 'x69', 'x42', 'x51'}</td>\n",
       "      <td>4</td>\n",
       "      <td>4</td>\n",
       "      <td>...</td>\n",
       "      <td>-p[1]*x42 + x53 + x69 + p[0] - p[2]/(p[3]*x51 ...</td>\n",
       "      <td>5</td>\n",
       "      <td>['0.457313122948769', '0.450188413619603', '0....</td>\n",
       "      <td>-90.686958</td>\n",
       "      <td>0.454678</td>\n",
       "      <td>-0.4229420667397843*x42 + x53 + x69 + 0.474344...</td>\n",
       "      <td>0.091732</td>\n",
       "      <td>195.373916</td>\n",
       "      <td>213.102113</td>\n",
       "      <td>7</td>\n",
       "    </tr>\n",
       "    <tr>\n",
       "      <th>...</th>\n",
       "      <td>...</td>\n",
       "      <td>...</td>\n",
       "      <td>...</td>\n",
       "      <td>...</td>\n",
       "      <td>...</td>\n",
       "      <td>...</td>\n",
       "      <td>...</td>\n",
       "      <td>...</td>\n",
       "      <td>...</td>\n",
       "      <td>...</td>\n",
       "      <td>...</td>\n",
       "      <td>...</td>\n",
       "      <td>...</td>\n",
       "      <td>...</td>\n",
       "      <td>...</td>\n",
       "      <td>...</td>\n",
       "      <td>...</td>\n",
       "      <td>...</td>\n",
       "      <td>...</td>\n",
       "      <td>...</td>\n",
       "      <td>...</td>\n",
       "    </tr>\n",
       "    <tr>\n",
       "      <th>1017</th>\n",
       "      <td>23</td>\n",
       "      <td>0.011585</td>\n",
       "      <td>0.056926</td>\n",
       "      <td>((((x15 / 0.31852133710431946) + (exp(x79) ^ -...</td>\n",
       "      <td>3.1395071020704912*x15 + (x39 - x42)/(x17/(x28...</td>\n",
       "      <td>PySRFunction(X=&gt;3.1395071020704912*x15 + (x39 ...</td>\n",
       "      <td>3</td>\n",
       "      <td>{'x42', 'x79', 'x19', 'x39', 'x15', 'x64', 'x1...</td>\n",
       "      <td>8</td>\n",
       "      <td>8</td>\n",
       "      <td>...</td>\n",
       "      <td>p[2]*x15 + (x39 - x42)/(x17/(x28*x64) + exp(x1...</td>\n",
       "      <td>3</td>\n",
       "      <td>['0.000395449818763269', '0.28986004884971', '...</td>\n",
       "      <td>-3.045656</td>\n",
       "      <td>0.140435</td>\n",
       "      <td>2.9878660600448335*x15 + (x39 - x42)/(x17/(x28...</td>\n",
       "      <td>0.011424</td>\n",
       "      <td>14.091311</td>\n",
       "      <td>46.884707</td>\n",
       "      <td>9</td>\n",
       "    </tr>\n",
       "    <tr>\n",
       "      <th>1018</th>\n",
       "      <td>22</td>\n",
       "      <td>0.012256</td>\n",
       "      <td>0.010969</td>\n",
       "      <td>((((x15 / 0.31852133710431946) + (x23 ^ -0.000...</td>\n",
       "      <td>3.1395071020704912*x15 + x23**(-0.000395449818...</td>\n",
       "      <td>PySRFunction(X=&gt;3.1395071020704912*x15 + x23**...</td>\n",
       "      <td>4</td>\n",
       "      <td>{'x42', 'x19', 'x23', 'x39', 'x15', 'x64', 'x28'}</td>\n",
       "      <td>7</td>\n",
       "      <td>7</td>\n",
       "      <td>...</td>\n",
       "      <td>p[3]*x15 + x23**(-p[0]) + (x39 - x42)/(exp(x19...</td>\n",
       "      <td>4</td>\n",
       "      <td>['0.000395449818763269', '0.28986004884971', '...</td>\n",
       "      <td>-5.116673</td>\n",
       "      <td>0.146195</td>\n",
       "      <td>2.9220140196249513*x15 + x23**(--0.01158307249...</td>\n",
       "      <td>0.011319</td>\n",
       "      <td>20.233347</td>\n",
       "      <td>46.494143</td>\n",
       "      <td>8</td>\n",
       "    </tr>\n",
       "    <tr>\n",
       "      <th>1019</th>\n",
       "      <td>6</td>\n",
       "      <td>0.044143</td>\n",
       "      <td>0.436999</td>\n",
       "      <td>(log10(x15) * (26.037329703202072 - x42))</td>\n",
       "      <td>(26.037329703202072 - x42)*log(x15)/log(10)</td>\n",
       "      <td>PySRFunction(X=&gt;(26.037329703202072 - x42)*log...</td>\n",
       "      <td>1</td>\n",
       "      <td>{'x42', 'x15'}</td>\n",
       "      <td>2</td>\n",
       "      <td>2</td>\n",
       "      <td>...</td>\n",
       "      <td>(p[0] - x42)*log10(x15)</td>\n",
       "      <td>1</td>\n",
       "      <td>['26.0373297032021']</td>\n",
       "      <td>-57.242537</td>\n",
       "      <td>0.379120</td>\n",
       "      <td>(25.844373617613577 - x42)*log10(x15)</td>\n",
       "      <td>0.048948</td>\n",
       "      <td>118.485073</td>\n",
       "      <td>128.082872</td>\n",
       "      <td>3</td>\n",
       "    </tr>\n",
       "    <tr>\n",
       "      <th>1020</th>\n",
       "      <td>12</td>\n",
       "      <td>0.014401</td>\n",
       "      <td>0.510440</td>\n",
       "      <td>(((x15 / 0.31852133710431946) + ((x39 - x42) /...</td>\n",
       "      <td>3.1395071020704912*x15 + (x39 - x42)*exp(-x19)...</td>\n",
       "      <td>PySRFunction(X=&gt;3.1395071020704912*x15 + (x39 ...</td>\n",
       "      <td>2</td>\n",
       "      <td>{'x19', 'x42', 'x15', 'x39'}</td>\n",
       "      <td>4</td>\n",
       "      <td>4</td>\n",
       "      <td>...</td>\n",
       "      <td>p[1]*x15 + (x39 - x42)*exp(-x19) + p[0]</td>\n",
       "      <td>2</td>\n",
       "      <td>['0.662538219789564', '3.13950710207049']</td>\n",
       "      <td>-6.039985</td>\n",
       "      <td>0.166918</td>\n",
       "      <td>2.849756961078741*x15 + (x39 - x42)*exp(-x19) ...</td>\n",
       "      <td>0.013362</td>\n",
       "      <td>18.079970</td>\n",
       "      <td>34.742967</td>\n",
       "      <td>5</td>\n",
       "    </tr>\n",
       "    <tr>\n",
       "      <th>1021</th>\n",
       "      <td>20</td>\n",
       "      <td>0.010133</td>\n",
       "      <td>0.060767</td>\n",
       "      <td>((((x15 / 0.31852133710431946) + (x23 ^ -0.000...</td>\n",
       "      <td>3.1395071020704912*x15 + x23**(-0.000395449818...</td>\n",
       "      <td>PySRFunction(X=&gt;3.1395071020704912*x15 + x23**...</td>\n",
       "      <td>4</td>\n",
       "      <td>{'x42', 'x19', 'x23', 'x39', 'x15'}</td>\n",
       "      <td>6</td>\n",
       "      <td>5</td>\n",
       "      <td>...</td>\n",
       "      <td>p[3]*x15 + x23**(-p[0]) + (x39 - x42)/(exp(x19...</td>\n",
       "      <td>4</td>\n",
       "      <td>['0.000395449818763269', '0.28986004884971', '...</td>\n",
       "      <td>-1.394339</td>\n",
       "      <td>0.127128</td>\n",
       "      <td>3.0440584383966294*x15 + x23**(-0.001880592940...</td>\n",
       "      <td>0.009564</td>\n",
       "      <td>12.788679</td>\n",
       "      <td>29.984276</td>\n",
       "      <td>6</td>\n",
       "    </tr>\n",
       "  </tbody>\n",
       "</table>\n",
       "<p>1022 rows × 22 columns</p>\n",
       "</div>"
      ],
      "text/plain": [
       "      complexity      loss     score  \\\n",
       "0              1  2.422899  0.000000   \n",
       "1              3  0.793023  0.558434   \n",
       "2             13  0.095263  0.020015   \n",
       "3             17  0.090620  0.001319   \n",
       "4             19  0.090473  0.000813   \n",
       "...          ...       ...       ...   \n",
       "1017          23  0.011585  0.056926   \n",
       "1018          22  0.012256  0.010969   \n",
       "1019           6  0.044143  0.436999   \n",
       "1020          12  0.014401  0.510440   \n",
       "1021          20  0.010133  0.060767   \n",
       "\n",
       "                                               equation  \\\n",
       "0                                                   x66   \n",
       "1                            (x73 - -8.377161567514106)   \n",
       "2     (((0.45731312294876897 - (((x42 - -0.353818247...   \n",
       "3     ((((0.13631070516777483 - ((x42 * (0.556125855...   \n",
       "4     ((((0.45731312294876897 - ((x42 * 0.5561258553...   \n",
       "...                                                 ...   \n",
       "1017  ((((x15 / 0.31852133710431946) + (exp(x79) ^ -...   \n",
       "1018  ((((x15 / 0.31852133710431946) + (x23 ^ -0.000...   \n",
       "1019          (log10(x15) * (26.037329703202072 - x42))   \n",
       "1020  (((x15 / 0.31852133710431946) + ((x39 - x42) /...   \n",
       "1021  ((((x15 / 0.31852133710431946) + (x23 ^ -0.000...   \n",
       "\n",
       "                                           sympy_format  \\\n",
       "0                                                   x66   \n",
       "1                               x73 + 8.377161567514106   \n",
       "2     -0.45018841361960323*x42 + x53 + x69 + 0.29802...   \n",
       "3     -0.46524650939821102*x42 + x53 + x69 + 0.39610...   \n",
       "4     -0.45018841361960323*x42 + x53 + x69 + 0.45731...   \n",
       "...                                                 ...   \n",
       "1017  3.1395071020704912*x15 + (x39 - x42)/(x17/(x28...   \n",
       "1018  3.1395071020704912*x15 + x23**(-0.000395449818...   \n",
       "1019        (26.037329703202072 - x42)*log(x15)/log(10)   \n",
       "1020  3.1395071020704912*x15 + (x39 - x42)*exp(-x19)...   \n",
       "1021  3.1395071020704912*x15 + x23**(-0.000395449818...   \n",
       "\n",
       "                                          lambda_format  number_constants  \\\n",
       "0                                  PySRFunction(X=>x66)                 0   \n",
       "1              PySRFunction(X=>x73 + 8.377161567514106)                 1   \n",
       "2     PySRFunction(X=>-0.45018841361960323*x42 + x53...                 4   \n",
       "3     PySRFunction(X=>-0.46524650939821102*x42 + x53...                 6   \n",
       "4     PySRFunction(X=>-0.45018841361960323*x42 + x53...                 6   \n",
       "...                                                 ...               ...   \n",
       "1017  PySRFunction(X=>3.1395071020704912*x15 + (x39 ...                 3   \n",
       "1018  PySRFunction(X=>3.1395071020704912*x15 + x23**...                 4   \n",
       "1019  PySRFunction(X=>(26.037329703202072 - x42)*log...                 1   \n",
       "1020  PySRFunction(X=>3.1395071020704912*x15 + (x39 ...                 2   \n",
       "1021  PySRFunction(X=>3.1395071020704912*x15 + x23**...                 4   \n",
       "\n",
       "                                              variables  number_variables  \\\n",
       "0                                               {'x66'}                 1   \n",
       "1                                               {'x73'}                 1   \n",
       "2                                 {'x53', 'x69', 'x42'}                 3   \n",
       "3                                 {'x53', 'x69', 'x42'}                 3   \n",
       "4                          {'x53', 'x69', 'x42', 'x51'}                 4   \n",
       "...                                                 ...               ...   \n",
       "1017  {'x42', 'x79', 'x19', 'x39', 'x15', 'x64', 'x1...                 8   \n",
       "1018  {'x42', 'x19', 'x23', 'x39', 'x15', 'x64', 'x28'}                 7   \n",
       "1019                                     {'x42', 'x15'}                 2   \n",
       "1020                       {'x19', 'x42', 'x15', 'x39'}                 4   \n",
       "1021                {'x42', 'x19', 'x23', 'x39', 'x15'}                 6   \n",
       "\n",
       "      unique_number_variables  ...  \\\n",
       "0                           1  ...   \n",
       "1                           1  ...   \n",
       "2                           3  ...   \n",
       "3                           3  ...   \n",
       "4                           4  ...   \n",
       "...                       ...  ...   \n",
       "1017                        8  ...   \n",
       "1018                        7  ...   \n",
       "1019                        2  ...   \n",
       "1020                        4  ...   \n",
       "1021                        5  ...   \n",
       "\n",
       "                                         fitting_format  \\\n",
       "0                                                   x66   \n",
       "1                                            x73 + p[0]   \n",
       "2                          -p[0]*x42 + x53 + x69 + p[1]   \n",
       "3                          -p[1]*x42 + x53 + x69 + p[0]   \n",
       "4     -p[1]*x42 + x53 + x69 + p[0] - p[2]/(p[3]*x51 ...   \n",
       "...                                                 ...   \n",
       "1017  p[2]*x15 + (x39 - x42)/(x17/(x28*x64) + exp(x1...   \n",
       "1018  p[3]*x15 + x23**(-p[0]) + (x39 - x42)/(exp(x19...   \n",
       "1019                            (p[0] - x42)*log10(x15)   \n",
       "1020            p[1]*x15 + (x39 - x42)*exp(-x19) + p[0]   \n",
       "1021  p[3]*x15 + x23**(-p[0]) + (x39 - x42)/(exp(x19...   \n",
       "\n",
       "      num_fitting_variables  \\\n",
       "0                         0   \n",
       "1                         1   \n",
       "2                         2   \n",
       "3                         2   \n",
       "4                         5   \n",
       "...                     ...   \n",
       "1017                      3   \n",
       "1018                      4   \n",
       "1019                      1   \n",
       "1020                      2   \n",
       "1021                      4   \n",
       "\n",
       "                                 initial_constant_guess          LLL  \\\n",
       "0                                                    [] -1424.139485   \n",
       "1                                  ['8.37716156751411']  -503.997916   \n",
       "2            ['0.450188413619603', '0.298028247506404']   -90.130444   \n",
       "3            ['0.396106010486694', '0.465246509398211']   -92.883246   \n",
       "4     ['0.457313122948769', '0.450188413619603', '0....   -90.686958   \n",
       "...                                                 ...          ...   \n",
       "1017  ['0.000395449818763269', '0.28986004884971', '...    -3.045656   \n",
       "1018  ['0.000395449818763269', '0.28986004884971', '...    -5.116673   \n",
       "1019                               ['26.0373297032021']   -57.242537   \n",
       "1020          ['0.662538219789564', '3.13950710207049']    -6.039985   \n",
       "1021  ['0.000395449818763269', '0.28986004884971', '...    -1.394339   \n",
       "\n",
       "     intrinsic_scatter                                     refit_equation  \\\n",
       "0             1.830990                                                x66   \n",
       "1             1.069723                            x73 + 8.120512184890048   \n",
       "2             0.476856  -0.3753177359347113*x42 + x53 + x69 + 0.067348...   \n",
       "3             0.476855  -0.37531951644419825*x42 + x53 + x69 + 0.06735...   \n",
       "4             0.454678  -0.4229420667397843*x42 + x53 + x69 + 0.474344...   \n",
       "...                ...                                                ...   \n",
       "1017          0.140435  2.9878660600448335*x15 + (x39 - x42)/(x17/(x28...   \n",
       "1018          0.146195  2.9220140196249513*x15 + x23**(--0.01158307249...   \n",
       "1019          0.379120              (25.844373617613577 - x42)*log10(x15)   \n",
       "1020          0.166918  2.849756961078741*x15 + (x39 - x42)*exp(-x19) ...   \n",
       "1021          0.127128  3.0440584383966294*x15 + x23**(-0.001880592940...   \n",
       "\n",
       "      refit_wrmse          AIC          BIC  DOF  \n",
       "0        2.422899  2850.278970  2857.344169    2  \n",
       "1        0.858892  1011.995832  1017.061031    2  \n",
       "2        0.096992   190.260888   202.923886    5  \n",
       "3        0.096992   199.766493   217.494689    7  \n",
       "4        0.091732   195.373916   213.102113    7  \n",
       "...           ...          ...          ...  ...  \n",
       "1017     0.011424    14.091311    46.884707    9  \n",
       "1018     0.011319    20.233347    46.494143    8  \n",
       "1019     0.048948   118.485073   128.082872    3  \n",
       "1020     0.013362    18.079970    34.742967    5  \n",
       "1021     0.009564    12.788679    29.984276    6  \n",
       "\n",
       "[1022 rows x 22 columns]"
      ]
     },
     "execution_count": 22,
     "metadata": {},
     "output_type": "execute_result"
    }
   ],
   "source": [
    "t_eq"
   ]
  },
  {
   "cell_type": "code",
   "execution_count": null,
   "metadata": {},
   "outputs": [],
   "source": []
  },
  {
   "cell_type": "code",
   "execution_count": null,
   "metadata": {},
   "outputs": [],
   "source": []
  }
 ],
 "metadata": {
  "kernelspec": {
   "display_name": "base",
   "language": "python",
   "name": "python3"
  },
  "language_info": {
   "codemirror_mode": {
    "name": "ipython",
    "version": 3
   },
   "file_extension": ".py",
   "mimetype": "text/x-python",
   "name": "python",
   "nbconvert_exporter": "python",
   "pygments_lexer": "ipython3",
   "version": "3.9.16"
  }
 },
 "nbformat": 4,
 "nbformat_minor": 2
}
