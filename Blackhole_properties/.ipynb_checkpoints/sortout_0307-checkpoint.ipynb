{
 "cells": [
  {
   "cell_type": "code",
   "execution_count": 1,
   "id": "2b89024e",
   "metadata": {},
   "outputs": [],
   "source": [
    "import numpy as np\n",
    "import pandas as pd\n",
    "from pysr import PySRRegressor\n",
    "from IPython.display import HTML\n",
    "from matplotlib import pyplot as plt"
   ]
  },
  {
   "cell_type": "code",
   "execution_count": 2,
   "id": "4c3ed5fc",
   "metadata": {},
   "outputs": [],
   "source": [
    "df_clean = pd.read_csv('clean_table_MBH_0303.csv')"
   ]
  },
  {
   "cell_type": "code",
   "execution_count": 3,
   "id": "1d5a6fbd",
   "metadata": {},
   "outputs": [
    {
     "name": "stdout",
     "output_type": "stream",
     "text": [
      "Index(['ETG', 'T-type', 'Bar', 'Disk', 'Ring', 'Core', 'Multiple',\n",
      "       'Compactness', 'AGN', 'Pseudobulge', 'BCG', 'cD', 'M_BH', 'M_BH_std',\n",
      "       'M*_sph', 'M*_gal', 'log_B/T', 'log_sigma0', 'log_R_e_sph_maj',\n",
      "       'log_R_e_sph_eq_kpc', 'log_n_sph_maj', 'log_n_sph_eq',\n",
      "       'log(I_e,sph,maj/M_Sun/pc^2)', 'log(I_e,sph,eq/M_Sun/pc^2)',\n",
      "       'Concentration_Index', 'avg_Rho_1kpc_Exact_All', 'r1_density_approx',\n",
      "       'log10(R10_kpc)', 'logRho_R10_approx', 'log_rho10_Exact',\n",
      "       'log10(R90_kpc)', 'logRho_R90_approx', 'log_rho_90_Exact_all',\n",
      "       'Rho_re_spatial', 'SR_pc_All', 'Rho_SR_pc_All', 'CR_def1_approx_new',\n",
      "       'Rho_cr_def1_approx_new', 'CR_def2_approx_new',\n",
      "       'Rho_CR_def2_approx_new', 'Sr(pc)_2_using_Falserm_drho',\n",
      "       'Log_Approx_Avg_density_10pc', 'log_Rho_e_Exact_new',\n",
      "       'logRho_e_approx_New', 'logRho_soi_approx_new', 'log_Rho_soi_exact_new',\n",
      "       'Avg_Rho_Re_Exact_all', 'Avg_Rho_soi_exact_all', 'Avg_Rho_re_Exact_all',\n",
      "       'Rho_re_Exact_all', 'r_soi_2BH_approx', 'Rho_r_soi_2BH_approx',\n",
      "       'Log_Avg_Rho_10kpc_approx', 'Log_Avg_Rho_10kpc_exact_final',\n",
      "       'Log_Avg_Rho_100pc_approx', 'Log_Avg_Rho_5kpc_approx',\n",
      "       'Log_Avg_rho_5kpc_exact_all', 'ube', 'bve', 'dc', 'bvtc', 'bri25',\n",
      "       'mabs', 'logblum'],\n",
      "      dtype='object')\n",
      "64\n"
     ]
    }
   ],
   "source": [
    "nanpercent=0.16\n",
    "cols_to_delete = df_clean.columns[df_clean.isnull().sum()/len(df_clean) > nanpercent]\n",
    "df_lessnan=df_clean.drop(cols_to_delete, axis = 1)\n",
    "df_purge=df_lessnan.dropna(axis='index',how='any')\n",
    "print(df_purge.columns)\n",
    "print(len(df_purge.columns))\n",
    "#HTML(df_purge.to_html())"
   ]
  },
  {
   "cell_type": "code",
   "execution_count": 8,
   "id": "e3b85017",
   "metadata": {},
   "outputs": [],
   "source": [
    "## useful functions\n",
    "def x2name(feature_list,df_handson):\n",
    "    for ind in feature_list:\n",
    "        i=int(ind[1:])\n",
    "        print('x',i,':',df_handson.columns[i])\n",
    "\n",
    "def rmse(y,y_pred,w):\n",
    "    return np.sqrt(np.average((y-y_pred)**2,weights=w))\n",
    "\n",
    "def df2name(df):\n",
    "    for i in range(len(df.columns)):\n",
    "        print('x',i,':',df.columns[i])\n",
    "        \n",
    "def test_relation(df,operator='simp',ncyclesperiteration=550,niterations=40,denoise=False,adaptive_parsimony_scaling=20,verbosity=0,colname=False):\n",
    "    y = df_purge['M_BH'].to_numpy()\n",
    "    w = 1/df_purge['M_BH_std'].to_numpy()**2\n",
    "\n",
    "    #df_handson = df\n",
    "    if colname:\n",
    "        X = df\n",
    "    else:\n",
    "        X = df.to_numpy()\n",
    "        #X = df_handson\n",
    "\n",
    "    if operator=='adv':\n",
    "        model = PySRRegressor(\n",
    "            binary_operators=[\"+\", \"-\", \"*\", \"/\",\"pow\"],\n",
    "            unary_operators=[\"exp\",\"log10\"],\n",
    "            warm_start=False,\n",
    "            denoise=denoise,\n",
    "            niterations=niterations,\n",
    "            ncyclesperiteration=ncyclesperiteration,\n",
    "            adaptive_parsimony_scaling=adaptive_parsimony_scaling,\n",
    "            verbosity=verbosity,\n",
    "            precision=64,\n",
    "        )\n",
    "    if operator=='simp':\n",
    "        model = PySRRegressor(\n",
    "            binary_operators=[\"+\", \"-\", \"*\", \"/\", \"pow\"],\n",
    "            warm_start=False,\n",
    "            denoise=denoise,\n",
    "            niterations=niterations,\n",
    "            ncyclesperiteration=ncyclesperiteration,\n",
    "            adaptive_parsimony_scaling=adaptive_parsimony_scaling,\n",
    "            verbosity=verbosity,\n",
    "            precision=64,\n",
    "        )\n",
    "        \n",
    "    if operator=='basic':\n",
    "        model = PySRRegressor(\n",
    "            binary_operators=[\"+\", \"-\", \"*\", \"/\"],\n",
    "            warm_start=False,\n",
    "            denoise=denoise,\n",
    "            niterations=niterations,\n",
    "            ncyclesperiteration=ncyclesperiteration,\n",
    "            adaptive_parsimony_scaling=adaptive_parsimony_scaling,\n",
    "            verbosity=verbosity,\n",
    "            precision=64,\n",
    "        )\n",
    "\n",
    "\n",
    "\n",
    "    model.fit(X=X, y=y, weights=w)\n",
    "\n",
    "    print('parameters:')\n",
    "    df2name(df)\n",
    "    \n",
    "    print('Eq. selected rmse:',rmse(y,model.predict(X),w))\n",
    "    display(model.sympy())\n",
    "    \n",
    "    for i in range(len(model.equations_)):\n",
    "        print('Eq.',i,'rmse:',rmse(y,model.predict(X,index=i),w))\n",
    "        display(model.sympy(index=i))"
   ]
  },
  {
   "cell_type": "code",
   "execution_count": 5,
   "id": "92c6498f",
   "metadata": {},
   "outputs": [
    {
     "data": {
      "text/plain": [
       "Index(['ETG', 'T-type', 'Bar', 'Disk', 'Ring', 'Core', 'Multiple',\n",
       "       'Compactness', 'AGN', 'Pseudobulge', 'BCG', 'cD', 'M_BH', 'M_BH_std',\n",
       "       'M*_sph', 'M*_gal', 'log_B/T', 'log_sigma0', 'log_R_e_sph_maj',\n",
       "       'log_R_e_sph_eq_kpc', 'log_n_sph_maj', 'log_n_sph_eq',\n",
       "       'log(I_e,sph,maj/M_Sun/pc^2)', 'log(I_e,sph,eq/M_Sun/pc^2)',\n",
       "       'Concentration_Index', 'avg_Rho_1kpc_Exact_All', 'r1_density_approx',\n",
       "       'log10(R10_kpc)', 'logRho_R10_approx', 'log_rho10_Exact',\n",
       "       'log10(R90_kpc)', 'logRho_R90_approx', 'log_rho_90_Exact_all',\n",
       "       'Rho_re_spatial', 'SR_pc_All', 'Rho_SR_pc_All', 'CR_def1_approx_new',\n",
       "       'Rho_cr_def1_approx_new', 'CR_def2_approx_new',\n",
       "       'Rho_CR_def2_approx_new', 'Sr(pc)_2_using_Falserm_drho',\n",
       "       'Log_Approx_Avg_density_10pc', 'log_Rho_e_Exact_new',\n",
       "       'logRho_e_approx_New', 'logRho_soi_approx_new', 'log_Rho_soi_exact_new',\n",
       "       'Avg_Rho_Re_Exact_all', 'Avg_Rho_soi_exact_all', 'Avg_Rho_re_Exact_all',\n",
       "       'Rho_re_Exact_all', 'r_soi_2BH_approx', 'Rho_r_soi_2BH_approx',\n",
       "       'Log_Avg_Rho_10kpc_approx', 'Log_Avg_Rho_10kpc_exact_final',\n",
       "       'Log_Avg_Rho_100pc_approx', 'Log_Avg_Rho_5kpc_approx',\n",
       "       'Log_Avg_rho_5kpc_exact_all', 'ube', 'bve', 'dc', 'bvtc', 'bri25',\n",
       "       'mabs', 'logblum'],\n",
       "      dtype='object')"
      ]
     },
     "execution_count": 5,
     "metadata": {},
     "output_type": "execute_result"
    }
   ],
   "source": [
    "df_purge.columns"
   ]
  },
  {
   "cell_type": "code",
   "execution_count": 6,
   "id": "318b02e6",
   "metadata": {},
   "outputs": [],
   "source": [
    "#test_relation(df_purge[['log_sigma0','log_B/T','logRho_soi_approx_new','Core', 'Pseudobulge']],\n",
    "#             operator='basic',ncyclesperiteration=250,niterations=100,adaptive_parsimony_scaling=100)"
   ]
  },
  {
   "cell_type": "markdown",
   "id": "81a34510",
   "metadata": {},
   "source": [
    "## Best RMS"
   ]
  },
  {
   "cell_type": "code",
   "execution_count": 50,
   "id": "00a1b11a",
   "metadata": {
    "scrolled": true
   },
   "outputs": [
    {
     "name": "stderr",
     "output_type": "stream",
     "text": [
      "/home/zj448/miniconda3/lib/python3.9/site-packages/pysr/sr.py:1257: UserWarning: Note: it looks like you are running in Jupyter. The progress bar will be turned off.\n",
      "  warnings.warn(\n"
     ]
    },
    {
     "name": "stdout",
     "output_type": "stream",
     "text": [
      "parameters:\n",
      "x 0 : log_sigma0\n",
      "x 1 : log_B/T\n",
      "x 2 : log_R_e_sph_eq_kpc\n",
      "x 3 : logRho_soi_approx_new\n",
      "x 4 : bvtc\n",
      "x 5 : Core\n",
      "x 6 : Pseudobulge\n",
      "Eq. selected rmse: 0.2322846754982683\n"
     ]
    },
    {
     "data": {
      "text/latex": [
       "$\\displaystyle 2.5665281441619349 x_{0} + x_{1} - 0.42618353056331965 x_{3} + 3.9850729361301593$"
      ],
      "text/plain": [
       "2.5665281441619349*x0 + x1 - 0.42618353056331965*x3 + 3.9850729361301593"
      ]
     },
     "metadata": {},
     "output_type": "display_data"
    },
    {
     "name": "stdout",
     "output_type": "stream",
     "text": [
      "Eq. 0 rmse: 0.9082611474700465\n"
     ]
    },
    {
     "data": {
      "text/latex": [
       "$\\displaystyle 8.233873226494513$"
      ],
      "text/plain": [
       "8.233873226494513"
      ]
     },
     "metadata": {},
     "output_type": "display_data"
    },
    {
     "name": "stdout",
     "output_type": "stream",
     "text": [
      "Eq. 1 rmse: 0.4380087731031837\n"
     ]
    },
    {
     "data": {
      "text/latex": [
       "$\\displaystyle 3.660778877674618 x_{0}$"
      ],
      "text/plain": [
       "3.660778877674618*x0"
      ]
     },
     "metadata": {},
     "output_type": "display_data"
    },
    {
     "name": "stdout",
     "output_type": "stream",
     "text": [
      "Eq. 2 rmse: 0.3570298906548249\n"
     ]
    },
    {
     "data": {
      "text/latex": [
       "$\\displaystyle 3.546514715369829 x_{0} + x_{2}$"
      ],
      "text/plain": [
       "3.546514715369829*x0 + x2"
      ]
     },
     "metadata": {},
     "output_type": "display_data"
    },
    {
     "name": "stdout",
     "output_type": "stream",
     "text": [
      "Eq. 3 rmse: 0.29450552641831357\n"
     ]
    },
    {
     "data": {
      "text/latex": [
       "$\\displaystyle 3.5841406633151332 x_{0} + \\frac{x_{2}}{x_{3}}$"
      ],
      "text/plain": [
       "3.5841406633151332*x0 + x2/x3"
      ]
     },
     "metadata": {},
     "output_type": "display_data"
    },
    {
     "name": "stdout",
     "output_type": "stream",
     "text": [
      "Eq. 4 rmse: 0.28141823784753367\n"
     ]
    },
    {
     "data": {
      "text/latex": [
       "$\\displaystyle 3.5841406633151332 x_{0} + \\frac{x_{2}}{x_{1} + x_{3}}$"
      ],
      "text/plain": [
       "3.5841406633151332*x0 + x2/(x1 + x3)"
      ]
     },
     "metadata": {},
     "output_type": "display_data"
    },
    {
     "name": "stdout",
     "output_type": "stream",
     "text": [
      "Eq. 5 rmse: 0.2322846754982683\n"
     ]
    },
    {
     "data": {
      "text/latex": [
       "$\\displaystyle 2.5665281441619349 x_{0} + x_{1} - 0.42618353056331965 x_{3} + 3.9850729361301593$"
      ],
      "text/plain": [
       "2.5665281441619349*x0 + x1 - 0.42618353056331965*x3 + 3.9850729361301593"
      ]
     },
     "metadata": {},
     "output_type": "display_data"
    },
    {
     "name": "stdout",
     "output_type": "stream",
     "text": [
      "Eq. 6 rmse: 0.23133321671514911\n"
     ]
    },
    {
     "data": {
      "text/latex": [
       "$\\displaystyle 2.5665281441619349 x_{0} + 0.37680597349565176 x_{2} - 0.37680597349565176 x_{3} + x_{4} + 2.6084185089278386$"
      ],
      "text/plain": [
       "2.5665281441619349*x0 + 0.37680597349565176*x2 - 0.37680597349565176*x3 + x4 + 2.6084185089278386"
      ]
     },
     "metadata": {},
     "output_type": "display_data"
    },
    {
     "name": "stdout",
     "output_type": "stream",
     "text": [
      "Eq. 7 rmse: 0.2221857000695019\n"
     ]
    },
    {
     "data": {
      "text/latex": [
       "$\\displaystyle 2.5665281441619349 x_{0} + 0.26975571707612506 x_{2} - 0.26975571707612506 x_{3} + x_{4} + 0.26975571707612506 x_{5} - 0.26975571707612506 x_{6} + 2.332040889313495$"
      ],
      "text/plain": [
       "2.5665281441619349*x0 + 0.26975571707612506*x2 - 0.26975571707612506*x3 + x4 + 0.26975571707612506*x5 - 0.26975571707612506*x6 + 2.332040889313495"
      ]
     },
     "metadata": {},
     "output_type": "display_data"
    },
    {
     "name": "stdout",
     "output_type": "stream",
     "text": [
      "Eq. 8 rmse: 0.22085143186972686\n"
     ]
    },
    {
     "data": {
      "text/latex": [
       "$\\displaystyle 2.5665281441619349 x_{0} + 0.26975571707612506 x_{2} - 0.26975571707612506 x_{3} + x_{4} + 0.26975571707612506 x_{5} - 0.26975571707612506 x_{6} + 2.3162923760968214$"
      ],
      "text/plain": [
       "2.5665281441619349*x0 + 0.26975571707612506*x2 - 0.26975571707612506*x3 + x4 + 0.26975571707612506*x5 - 0.26975571707612506*x6 + 2.3162923760968214"
      ]
     },
     "metadata": {},
     "output_type": "display_data"
    },
    {
     "name": "stdout",
     "output_type": "stream",
     "text": [
      "Eq. 9 rmse: 0.219142416560284\n"
     ]
    },
    {
     "data": {
      "text/latex": [
       "$\\displaystyle 2.5665281441619349 x_{0} + x_{1} - 0.4279452531210189 x_{3} - 0.2393228544761872 x_{6} + 4.0131431262964635$"
      ],
      "text/plain": [
       "2.5665281441619349*x0 + x1 - 0.4279452531210189*x3 - 0.2393228544761872*x6 + 4.0131431262964635"
      ]
     },
     "metadata": {},
     "output_type": "display_data"
    }
   ],
   "source": [
    "test_relation(df_purge[['log_sigma0','log_B/T','log_R_e_sph_eq_kpc','logRho_soi_approx_new','bvtc','Core', 'Pseudobulge']],\n",
    "             operator='basic',ncyclesperiteration=250,niterations=100,adaptive_parsimony_scaling=100)\n",
    "#eq. selected , eq. 5, 6, 8, 9"
   ]
  },
  {
   "cell_type": "code",
   "execution_count": 51,
   "id": "974d490a",
   "metadata": {
    "scrolled": true
   },
   "outputs": [
    {
     "name": "stderr",
     "output_type": "stream",
     "text": [
      "/home/zj448/miniconda3/lib/python3.9/site-packages/pysr/sr.py:1257: UserWarning: Note: it looks like you are running in Jupyter. The progress bar will be turned off.\n",
      "  warnings.warn(\n"
     ]
    },
    {
     "name": "stdout",
     "output_type": "stream",
     "text": [
      "parameters:\n",
      "x 0 : log_sigma0\n",
      "x 1 : log_B/T\n",
      "x 2 : log_R_e_sph_eq_kpc\n",
      "x 3 : logRho_soi_approx_new\n",
      "x 4 : bvtc\n",
      "Eq. selected rmse: 0.23300674400057655\n"
     ]
    },
    {
     "data": {
      "text/latex": [
       "$\\displaystyle 2.465548820995744 x_{0} + x_{1} - 0.4655488209957439 x_{3} + 4.31492588949977$"
      ],
      "text/plain": [
       "2.465548820995744*x0 + x1 - 0.4655488209957439*x3 + 4.31492588949977"
      ]
     },
     "metadata": {},
     "output_type": "display_data"
    },
    {
     "name": "stdout",
     "output_type": "stream",
     "text": [
      "Eq. 0 rmse: 0.9082611474700466\n"
     ]
    },
    {
     "data": {
      "text/latex": [
       "$\\displaystyle 8.233873226498428$"
      ],
      "text/plain": [
       "8.233873226498428"
      ]
     },
     "metadata": {},
     "output_type": "display_data"
    },
    {
     "name": "stdout",
     "output_type": "stream",
     "text": [
      "Eq. 1 rmse: 0.4380087731031837\n"
     ]
    },
    {
     "data": {
      "text/latex": [
       "$\\displaystyle 3.6607788795334404 x_{0}$"
      ],
      "text/plain": [
       "3.6607788795334404*x0"
      ]
     },
     "metadata": {},
     "output_type": "display_data"
    },
    {
     "name": "stdout",
     "output_type": "stream",
     "text": [
      "Eq. 2 rmse: 0.35070969806781876\n"
     ]
    },
    {
     "data": {
      "text/latex": [
       "$\\displaystyle 3.824841833887323 x_{0} + x_{1}$"
      ],
      "text/plain": [
       "3.824841833887323*x0 + x1"
      ]
     },
     "metadata": {},
     "output_type": "display_data"
    },
    {
     "name": "stdout",
     "output_type": "stream",
     "text": [
      "Eq. 3 rmse: 0.27156405729907446\n"
     ]
    },
    {
     "data": {
      "text/latex": [
       "$\\displaystyle 4.152356741856495 x_{0} - 0.41962291493241527 x_{3}$"
      ],
      "text/plain": [
       "4.152356741856495*x0 - 0.41962291493241527*x3"
      ]
     },
     "metadata": {},
     "output_type": "display_data"
    },
    {
     "name": "stdout",
     "output_type": "stream",
     "text": [
      "Eq. 4 rmse: 0.27146337593189823\n"
     ]
    },
    {
     "data": {
      "text/latex": [
       "$\\displaystyle 4.204746793698425 x_{0} - 0.4112400601834168 x_{3} - 0.14093780733326933$"
      ],
      "text/plain": [
       "4.204746793698425*x0 - 0.4112400601834168*x3 - 0.14093780733326933"
      ]
     },
     "metadata": {},
     "output_type": "display_data"
    },
    {
     "name": "stdout",
     "output_type": "stream",
     "text": [
      "Eq. 5 rmse: 0.256835879589729\n"
     ]
    },
    {
     "data": {
      "text/latex": [
       "$\\displaystyle 4.129392022268101 x_{0} - 0.3677563520372901 x_{1}^{2} - 0.3677563520372901 x_{3}$"
      ],
      "text/plain": [
       "4.129392022268101*x0 - 0.3677563520372901*x1**2 - 0.3677563520372901*x3"
      ]
     },
     "metadata": {},
     "output_type": "display_data"
    },
    {
     "name": "stdout",
     "output_type": "stream",
     "text": [
      "Eq. 6 rmse: 0.23300674400057655\n"
     ]
    },
    {
     "data": {
      "text/latex": [
       "$\\displaystyle 2.465548820995744 x_{0} + x_{1} - 0.4655488209957439 x_{3} + 4.31492588949977$"
      ],
      "text/plain": [
       "2.465548820995744*x0 + x1 - 0.4655488209957439*x3 + 4.31492588949977"
      ]
     },
     "metadata": {},
     "output_type": "display_data"
    },
    {
     "name": "stdout",
     "output_type": "stream",
     "text": [
      "Eq. 7 rmse: 0.23300674400057658\n"
     ]
    },
    {
     "data": {
      "text/latex": [
       "$\\displaystyle 2.465548821134299 x_{0} + x_{1} - 0.4655488211342994 x_{3} + 4.3149258895607843$"
      ],
      "text/plain": [
       "2.465548821134299*x0 + x1 - 0.4655488211342994*x3 + 4.3149258895607843"
      ]
     },
     "metadata": {},
     "output_type": "display_data"
    },
    {
     "name": "stdout",
     "output_type": "stream",
     "text": [
      "Eq. 8 rmse: 0.22062376338376138\n"
     ]
    },
    {
     "data": {
      "text/latex": [
       "$\\displaystyle 2 x_{0} + x_{1} + 0.4268548218743316 x_{3} - x_{4} \\left(- x_{0} + x_{3}\\right) + 3.2590507064454135$"
      ],
      "text/plain": [
       "2*x0 + x1 + 0.4268548218743316*x3 - x4*(-x0 + x3) + 3.2590507064454135"
      ]
     },
     "metadata": {},
     "output_type": "display_data"
    }
   ],
   "source": [
    "test_relation(df_purge[['log_sigma0','log_B/T','log_R_e_sph_eq_kpc','logRho_soi_approx_new','bvtc']],\n",
    "             operator='basic',ncyclesperiteration=250,niterations=100,adaptive_parsimony_scaling=100)\n",
    "# color does not help a lot"
   ]
  },
  {
   "cell_type": "code",
   "execution_count": 67,
   "id": "19035a3d",
   "metadata": {
    "scrolled": true
   },
   "outputs": [
    {
     "name": "stderr",
     "output_type": "stream",
     "text": [
      "/home/zj448/miniconda3/lib/python3.9/site-packages/pysr/sr.py:1257: UserWarning: Note: it looks like you are running in Jupyter. The progress bar will be turned off.\n",
      "  warnings.warn(\n"
     ]
    },
    {
     "name": "stdout",
     "output_type": "stream",
     "text": [
      "parameters:\n",
      "x 0 : log_sigma0\n",
      "x 1 : M*_sph\n",
      "x 2 : log_B/T\n",
      "x 3 : log_R_e_sph_eq_kpc\n",
      "x 4 : logRho_soi_approx_new\n",
      "x 5 : bvtc\n",
      "x 6 : Core\n",
      "x 7 : Pseudobulge\n",
      "Eq. selected rmse: 0.20268367904476522\n"
     ]
    },
    {
     "data": {
      "text/latex": [
       "$\\displaystyle 3 x_{0} - x_{4}^{0.575925501030858} + e^{x_{2} - x_{7}} + 2.547821423461232$"
      ],
      "text/plain": [
       "3*x0 - x4**0.575925501030858 + exp(x2 - x7) + 2.547821423461232"
      ]
     },
     "metadata": {},
     "output_type": "display_data"
    },
    {
     "name": "stdout",
     "output_type": "stream",
     "text": [
      "Eq. 0 rmse: 0.9082611474700466\n"
     ]
    },
    {
     "data": {
      "text/latex": [
       "$\\displaystyle 8.233873226495978$"
      ],
      "text/plain": [
       "8.233873226495978"
      ]
     },
     "metadata": {},
     "output_type": "display_data"
    },
    {
     "name": "stdout",
     "output_type": "stream",
     "text": [
      "Eq. 1 rmse: 0.3773721087118078\n"
     ]
    },
    {
     "data": {
      "text/latex": [
       "$\\displaystyle x_{1} - 2.3757319331019024$"
      ],
      "text/plain": [
       "x1 - 2.3757319331019024"
      ]
     },
     "metadata": {},
     "output_type": "display_data"
    },
    {
     "name": "stdout",
     "output_type": "stream",
     "text": [
      "Eq. 2 rmse: 0.329364648861592\n"
     ]
    },
    {
     "data": {
      "text/latex": [
       "$\\displaystyle x_{0} + x_{1} - 4.629624361399313$"
      ],
      "text/plain": [
       "x0 + x1 - 4.629624361399313"
      ]
     },
     "metadata": {},
     "output_type": "display_data"
    },
    {
     "name": "stdout",
     "output_type": "stream",
     "text": [
      "Eq. 3 rmse: 0.30442673081119753\n"
     ]
    },
    {
     "data": {
      "text/latex": [
       "$\\displaystyle x_{1} - \\frac{\\log{\\left(x_{4} \\right)}}{\\log{\\left(10 \\right)}} - 1.967220250702209$"
      ],
      "text/plain": [
       "x1 - log(x4)/log(10) - 1.967220250702209"
      ]
     },
     "metadata": {},
     "output_type": "display_data"
    },
    {
     "name": "stdout",
     "output_type": "stream",
     "text": [
      "Eq. 4 rmse: 0.27473733188147803\n"
     ]
    },
    {
     "data": {
      "text/latex": [
       "$\\displaystyle x_{1} - 0.36793922084563957 x_{4} - 1.3895541064550403$"
      ],
      "text/plain": [
       "x1 - 0.36793922084563957*x4 - 1.3895541064550403"
      ]
     },
     "metadata": {},
     "output_type": "display_data"
    },
    {
     "name": "stdout",
     "output_type": "stream",
     "text": [
      "Eq. 5 rmse: 0.25388163415865717\n"
     ]
    },
    {
     "data": {
      "text/latex": [
       "$\\displaystyle x_{1} - 0.34102345236443127 x_{4} - 0.34102345236443127 x_{7} - 1.4239774230409776$"
      ],
      "text/plain": [
       "x1 - 0.34102345236443127*x4 - 0.34102345236443127*x7 - 1.4239774230409776"
      ]
     },
     "metadata": {},
     "output_type": "display_data"
    },
    {
     "name": "stdout",
     "output_type": "stream",
     "text": [
      "Eq. 6 rmse: 0.2522788125842949\n"
     ]
    },
    {
     "data": {
      "text/latex": [
       "$\\displaystyle x_{1} - 0.3188058140437774 x_{4} - 1.4722630157985972 - \\frac{0.3188058140437774 x_{7}}{x_{5}}$"
      ],
      "text/plain": [
       "x1 - 0.3188058140437774*x4 - 1.4722630157985972 - 0.3188058140437774*x7/x5"
      ]
     },
     "metadata": {},
     "output_type": "display_data"
    },
    {
     "name": "stdout",
     "output_type": "stream",
     "text": [
      "Eq. 7 rmse: 0.24959999629602772\n"
     ]
    },
    {
     "data": {
      "text/latex": [
       "$\\displaystyle x_{1} - \\left(\\frac{\\log{\\left(3.390970696474254 x_{4} + 3.390970696474254 x_{7} \\right)}}{\\log{\\left(10 \\right)}}\\right)^{x_{0}} - 1.4528785456635278$"
      ],
      "text/plain": [
       "x1 - (log(3.390970696474254*x4 + 3.390970696474254*x7)/log(10))**x0 - 1.4528785456635278"
      ]
     },
     "metadata": {},
     "output_type": "display_data"
    },
    {
     "name": "stdout",
     "output_type": "stream",
     "text": [
      "Eq. 8 rmse: 0.23800607555134887\n"
     ]
    },
    {
     "data": {
      "text/latex": [
       "$\\displaystyle 3 x_{0} + x_{2} - x_{4}^{0.5667236696465265} + 3.5936125253614675$"
      ],
      "text/plain": [
       "3*x0 + x2 - x4**0.5667236696465265 + 3.5936125253614675"
      ]
     },
     "metadata": {},
     "output_type": "display_data"
    },
    {
     "name": "stdout",
     "output_type": "stream",
     "text": [
      "Eq. 9 rmse: 0.22690576663009562\n"
     ]
    },
    {
     "data": {
      "text/latex": [
       "$\\displaystyle 3 x_{0} - x_{4}^{0.5934629928423789} + e^{x_{2}} + 2.547821423461232$"
      ],
      "text/plain": [
       "3*x0 - x4**0.5934629928423789 + exp(x2) + 2.547821423461232"
      ]
     },
     "metadata": {},
     "output_type": "display_data"
    },
    {
     "name": "stdout",
     "output_type": "stream",
     "text": [
      "Eq. 10 rmse: 0.2234641945369027\n"
     ]
    },
    {
     "data": {
      "text/latex": [
       "$\\displaystyle 1.4330286474533278 x_{0} + 0.5669713525466722 x_{1} - 0.3661735003147591 x_{4} - 0.3661735003147591 x_{7}$"
      ],
      "text/plain": [
       "1.4330286474533278*x0 + 0.5669713525466722*x1 - 0.3661735003147591*x4 - 0.3661735003147591*x7"
      ]
     },
     "metadata": {},
     "output_type": "display_data"
    },
    {
     "name": "stdout",
     "output_type": "stream",
     "text": [
      "Eq. 11 rmse: 0.20268367904476522\n"
     ]
    },
    {
     "data": {
      "text/latex": [
       "$\\displaystyle 3 x_{0} - x_{4}^{0.575925501030858} + e^{x_{2} - x_{7}} + 2.547821423461232$"
      ],
      "text/plain": [
       "3*x0 - x4**0.575925501030858 + exp(x2 - x7) + 2.547821423461232"
      ]
     },
     "metadata": {},
     "output_type": "display_data"
    },
    {
     "name": "stdout",
     "output_type": "stream",
     "text": [
      "Eq. 12 rmse: 0.20263370082651078\n"
     ]
    },
    {
     "data": {
      "text/latex": [
       "$\\displaystyle 3 x_{0} - x_{4}^{0.575925501030858} + e^{x_{2} - 0.93255416887671448 x_{7}} + 2.547821423461232$"
      ],
      "text/plain": [
       "3*x0 - x4**0.575925501030858 + exp(x2 - 0.93255416887671448*x7) + 2.547821423461232"
      ]
     },
     "metadata": {},
     "output_type": "display_data"
    },
    {
     "name": "stdout",
     "output_type": "stream",
     "text": [
      "Eq. 13 rmse: 0.2010518309255838\n"
     ]
    },
    {
     "data": {
      "text/latex": [
       "$\\displaystyle 3 x_{0} - x_{4}^{0.575925501030858} + e^{- x_{7} + 2.598578283777848^{- x_{6}} x_{2}} + 2.547821423461232$"
      ],
      "text/plain": [
       "3*x0 - x4**0.575925501030858 + exp(-x7 + x2/2.598578283777848**x6) + 2.547821423461232"
      ]
     },
     "metadata": {},
     "output_type": "display_data"
    },
    {
     "name": "stdout",
     "output_type": "stream",
     "text": [
      "Eq. 14 rmse: 0.2010311636409912\n"
     ]
    },
    {
     "data": {
      "text/latex": [
       "$\\displaystyle 3 x_{0} - x_{4}^{0.575925501030858} + e^{x_{2} e^{- 1.0517581515601853 x_{6}} - x_{7}} + 2.547821423461232$"
      ],
      "text/plain": [
       "3*x0 - x4**0.575925501030858 + exp(x2*exp(-1.0517581515601853*x6) - x7) + 2.547821423461232"
      ]
     },
     "metadata": {},
     "output_type": "display_data"
    }
   ],
   "source": [
    "test_relation(df_purge[['log_sigma0','M*_sph','log_B/T','log_R_e_sph_eq_kpc','logRho_soi_approx_new','bvtc','Core', 'Pseudobulge']],\n",
    "             operator='adv',niterations=400)"
   ]
  },
  {
   "cell_type": "markdown",
   "id": "fad24755",
   "metadata": {},
   "source": [
    "## Easy to get - HyperLeda Easy"
   ]
  },
  {
   "cell_type": "code",
   "execution_count": 12,
   "id": "1085767d",
   "metadata": {},
   "outputs": [
    {
     "data": {
      "text/plain": [
       "Index(['ETG', 'T-type', 'Bar', 'Disk', 'Ring', 'Core', 'Multiple',\n",
       "       'Compactness', 'AGN', 'Pseudobulge', 'BCG', 'cD', 'M_BH', 'M_BH_std',\n",
       "       'M*_sph', 'M*_gal', 'log_B/T', 'log_sigma0', 'log_R_e_sph_maj',\n",
       "       'log_R_e_sph_eq_kpc', 'log_n_sph_maj', 'log_n_sph_eq',\n",
       "       'log(I_e,sph,maj/M_Sun/pc^2)', 'log(I_e,sph,eq/M_Sun/pc^2)',\n",
       "       'Concentration_Index', 'avg_Rho_1kpc_Exact_All', 'r1_density_approx',\n",
       "       'log10(R10_kpc)', 'logRho_R10_approx', 'log_rho10_Exact',\n",
       "       'log10(R90_kpc)', 'logRho_R90_approx', 'log_rho_90_Exact_all',\n",
       "       'Rho_re_spatial', 'SR_pc_All', 'Rho_SR_pc_All', 'CR_def1_approx_new',\n",
       "       'Rho_cr_def1_approx_new', 'CR_def2_approx_new',\n",
       "       'Rho_CR_def2_approx_new', 'Sr(pc)_2_using_Falserm_drho',\n",
       "       'Log_Approx_Avg_density_10pc', 'log_Rho_e_Exact_new',\n",
       "       'logRho_e_approx_New', 'logRho_soi_approx_new', 'log_Rho_soi_exact_new',\n",
       "       'Avg_Rho_Re_Exact_all', 'Avg_Rho_soi_exact_all', 'Avg_Rho_re_Exact_all',\n",
       "       'Rho_re_Exact_all', 'r_soi_2BH_approx', 'Rho_r_soi_2BH_approx',\n",
       "       'Log_Avg_Rho_10kpc_approx', 'Log_Avg_Rho_10kpc_exact_final',\n",
       "       'Log_Avg_Rho_100pc_approx', 'Log_Avg_Rho_5kpc_approx',\n",
       "       'Log_Avg_rho_5kpc_exact_all', 'ube', 'bve', 'dc', 'bvtc', 'bri25',\n",
       "       'mabs', 'logblum'],\n",
       "      dtype='object')"
      ]
     },
     "execution_count": 12,
     "metadata": {},
     "output_type": "execute_result"
    }
   ],
   "source": [
    "# https://leda.univ-lyon1.fr/ledacat.cgi?o=M87\n",
    "# df_purge.columns\n",
    "# ['log_sigma0', 'ube', 'bve', 'dc', 'bvtc', 'bri25','mabs', 'logblum']"
   ]
  },
  {
   "cell_type": "code",
   "execution_count": 16,
   "id": "7ec416a0",
   "metadata": {
    "scrolled": true
   },
   "outputs": [
    {
     "name": "stderr",
     "output_type": "stream",
     "text": [
      "/home/zj448/miniconda3/lib/python3.9/site-packages/pysr/sr.py:1257: UserWarning: Note: it looks like you are running in Jupyter. The progress bar will be turned off.\n",
      "  warnings.warn(\n"
     ]
    },
    {
     "name": "stdout",
     "output_type": "stream",
     "text": [
      "parameters:\n",
      "x 0 : log_sigma0\n",
      "x 1 : dc\n",
      "x 2 : bvtc\n",
      "x 3 : mabs\n",
      "x 4 : logblum\n",
      "Eq. selected rmse: 0.36689071462374456\n"
     ]
    },
    {
     "data": {
      "text/latex": [
       "$\\displaystyle 5.135926769713276 x_{0} - 3.341953233535643$"
      ],
      "text/plain": [
       "5.135926769713276*x0 - 3.341953233535643"
      ]
     },
     "metadata": {},
     "output_type": "display_data"
    },
    {
     "name": "stdout",
     "output_type": "stream",
     "text": [
      "Eq. 0 rmse: 0.9082611474700465\n"
     ]
    },
    {
     "data": {
      "text/latex": [
       "$\\displaystyle 8.233873226507823$"
      ],
      "text/plain": [
       "8.233873226507823"
      ]
     },
     "metadata": {},
     "output_type": "display_data"
    },
    {
     "name": "stdout",
     "output_type": "stream",
     "text": [
      "Eq. 1 rmse: 0.4380087731031838\n"
     ]
    },
    {
     "data": {
      "text/latex": [
       "$\\displaystyle 3.660778877673078 x_{0}$"
      ],
      "text/plain": [
       "3.660778877673078*x0"
      ]
     },
     "metadata": {},
     "output_type": "display_data"
    },
    {
     "name": "stdout",
     "output_type": "stream",
     "text": [
      "Eq. 2 rmse: 0.36689071462374456\n"
     ]
    },
    {
     "data": {
      "text/latex": [
       "$\\displaystyle 5.135926769713276 x_{0} - 3.341953233535643$"
      ],
      "text/plain": [
       "5.135926769713276*x0 - 3.341953233535643"
      ]
     },
     "metadata": {},
     "output_type": "display_data"
    },
    {
     "name": "stdout",
     "output_type": "stream",
     "text": [
      "Eq. 3 rmse: 0.349366216554197\n"
     ]
    },
    {
     "data": {
      "text/latex": [
       "$\\displaystyle 0.527410078479083 e^{x_{0}} + 3.1436540991714006$"
      ],
      "text/plain": [
       "0.527410078479083*exp(x0) + 3.1436540991714006"
      ]
     },
     "metadata": {},
     "output_type": "display_data"
    },
    {
     "name": "stdout",
     "output_type": "stream",
     "text": [
      "Eq. 4 rmse: 0.3476715972853755\n"
     ]
    },
    {
     "data": {
      "text/latex": [
       "$\\displaystyle 0.4165260030546064 x_{0}^{x_{0}} + 5.499560116341439$"
      ],
      "text/plain": [
       "0.4165260030546064*x0**x0 + 5.499560116341439"
      ]
     },
     "metadata": {},
     "output_type": "display_data"
    },
    {
     "name": "stdout",
     "output_type": "stream",
     "text": [
      "Eq. 5 rmse: 0.34767159728537567\n"
     ]
    },
    {
     "data": {
      "text/latex": [
       "$\\displaystyle 0.41652600304790327 x_{0}^{x_{0}} + 5.4995601163647$"
      ],
      "text/plain": [
       "0.41652600304790327*x0**x0 + 5.4995601163647"
      ]
     },
     "metadata": {},
     "output_type": "display_data"
    },
    {
     "name": "stdout",
     "output_type": "stream",
     "text": [
      "Eq. 6 rmse: 0.3470875618745279\n"
     ]
    },
    {
     "data": {
      "text/latex": [
       "$\\displaystyle 0.5740704198782207 e^{x_{0} - \\frac{0.8978160012281156}{x_{4}}} + 3.1436540958119075$"
      ],
      "text/plain": [
       "0.5740704198782207*exp(x0 - 0.8978160012281156/x4) + 3.1436540958119075"
      ]
     },
     "metadata": {},
     "output_type": "display_data"
    },
    {
     "name": "stdout",
     "output_type": "stream",
     "text": [
      "Eq. 7 rmse: 0.34014361274930266\n"
     ]
    },
    {
     "data": {
      "text/latex": [
       "$\\displaystyle \\left(\\left(x_{0} - e^{x_{0}}\\right) \\left(x_{3} + \\frac{2.4832305851983523}{x_{2}}\\right)\\right)^{\\frac{1}{\\log{\\left(10 \\right)}}}$"
      ],
      "text/plain": [
       "((x0 - exp(x0))*(x3 + 2.4832305851983523/x2))**(1/log(10))"
      ]
     },
     "metadata": {},
     "output_type": "display_data"
    },
    {
     "name": "stdout",
     "output_type": "stream",
     "text": [
      "Eq. 8 rmse: 0.3370692005626433\n"
     ]
    },
    {
     "data": {
      "text/latex": [
       "$\\displaystyle \\left(\\left(x_{0} - e^{x_{0}}\\right) \\left(\\frac{x_{0}}{x_{2} - 0.07374642845565015} + x_{3}\\right)\\right)^{\\frac{1}{\\log{\\left(10 \\right)}}}$"
      ],
      "text/plain": [
       "((x0 - exp(x0))*(x0/(x2 - 0.07374642845565015) + x3))**(1/log(10))"
      ]
     },
     "metadata": {},
     "output_type": "display_data"
    },
    {
     "name": "stdout",
     "output_type": "stream",
     "text": [
      "Eq. 9 rmse: 0.3186807223870465\n"
     ]
    },
    {
     "data": {
      "text/latex": [
       "$\\displaystyle 0.5274100675202975 e^{x_{0}} + 3.1436540917058853 - \\frac{0.32429392128829926}{x_{1} + x_{2} + x_{3} + 1.8246597386697294}$"
      ],
      "text/plain": [
       "0.5274100675202975*exp(x0) + 3.1436540917058853 - 0.32429392128829926/(x1 + x2 + x3 + 1.8246597386697294)"
      ]
     },
     "metadata": {},
     "output_type": "display_data"
    },
    {
     "name": "stdout",
     "output_type": "stream",
     "text": [
      "Eq. 10 rmse: 0.3178238592624472\n"
     ]
    },
    {
     "data": {
      "text/latex": [
       "$\\displaystyle 0.5274100675202975 e^{x_{0}} + 3.183269703844057 + \\frac{0.44427027452814366}{- 1.5058187064073716 x_{1} - 1.5058187064073716 x_{2} - 1.5058187064073716 x_{3} - 2.786621642245783}$"
      ],
      "text/plain": [
       "0.5274100675202975*exp(x0) + 3.183269703844057 + 0.44427027452814366/(-1.5058187064073716*x1 - 1.5058187064073716*x2 - 1.5058187064073716*x3 - 2.786621642245783)"
      ]
     },
     "metadata": {},
     "output_type": "display_data"
    },
    {
     "name": "stdout",
     "output_type": "stream",
     "text": [
      "Eq. 11 rmse: 0.3165265774897362\n"
     ]
    },
    {
     "data": {
      "text/latex": [
       "$\\displaystyle 0.5274100675202975 e^{x_{0}} + 3.183269703844057 + \\frac{0.44427027452814366}{- 1.2215850016645051 x_{1} - 1.2215850016645051 x_{2} - 1.2215850016645051 x_{3} + \\frac{1.2215850016645051 \\log{\\left(x_{2} \\right)}}{\\log{\\left(10 \\right)}} - 2.1178924397649904}$"
      ],
      "text/plain": [
       "0.5274100675202975*exp(x0) + 3.183269703844057 + 0.44427027452814366/(-1.2215850016645051*x1 - 1.2215850016645051*x2 - 1.2215850016645051*x3 + 1.2215850016645051*log(x2)/log(10) - 2.1178924397649904)"
      ]
     },
     "metadata": {},
     "output_type": "display_data"
    }
   ],
   "source": [
    "test_relation(df_purge[['log_sigma0', 'dc', 'bvtc','mabs', 'logblum']],\n",
    "             operator='adv',niterations=400)"
   ]
  },
  {
   "cell_type": "code",
   "execution_count": 17,
   "id": "8d154665",
   "metadata": {
    "scrolled": true
   },
   "outputs": [
    {
     "name": "stderr",
     "output_type": "stream",
     "text": [
      "/home/zj448/miniconda3/lib/python3.9/site-packages/pysr/sr.py:1257: UserWarning: Note: it looks like you are running in Jupyter. The progress bar will be turned off.\n",
      "  warnings.warn(\n"
     ]
    },
    {
     "name": "stdout",
     "output_type": "stream",
     "text": [
      "parameters:\n",
      "x 0 : dc\n",
      "x 1 : bvtc\n",
      "x 2 : mabs\n",
      "x 3 : logblum\n",
      "Eq. selected rmse: 0.42979741622596007\n"
     ]
    },
    {
     "data": {
      "text/latex": [
       "$\\displaystyle 4.33296227615974^{x_{1}} + x_{3} - 5.435295335161299$"
      ],
      "text/plain": [
       "4.33296227615974**x1 + x3 - 5.435295335161299"
      ]
     },
     "metadata": {},
     "output_type": "display_data"
    },
    {
     "name": "stdout",
     "output_type": "stream",
     "text": [
      "Eq. 0 rmse: 0.9082611474700465\n"
     ]
    },
    {
     "data": {
      "text/latex": [
       "$\\displaystyle 8.233873223447302$"
      ],
      "text/plain": [
       "8.233873223447302"
      ]
     },
     "metadata": {},
     "output_type": "display_data"
    },
    {
     "name": "stdout",
     "output_type": "stream",
     "text": [
      "Eq. 1 rmse: 0.7737927331126547\n"
     ]
    },
    {
     "data": {
      "text/latex": [
       "$\\displaystyle x_{3} - 2.267523397735716$"
      ],
      "text/plain": [
       "x3 - 2.267523397735716"
      ]
     },
     "metadata": {},
     "output_type": "display_data"
    },
    {
     "name": "stdout",
     "output_type": "stream",
     "text": [
      "Eq. 2 rmse: 0.7207505656324168\n"
     ]
    },
    {
     "data": {
      "text/latex": [
       "$\\displaystyle e^{x_{1}} + 6.048605356291273$"
      ],
      "text/plain": [
       "exp(x1) + 6.048605356291273"
      ]
     },
     "metadata": {},
     "output_type": "display_data"
    },
    {
     "name": "stdout",
     "output_type": "stream",
     "text": [
      "Eq. 3 rmse: 0.4908913774910012\n"
     ]
    },
    {
     "data": {
      "text/latex": [
       "$\\displaystyle x_{3} - \\frac{1.7112462502168673}{x_{1}}$"
      ],
      "text/plain": [
       "x3 - 1.7112462502168673/x1"
      ]
     },
     "metadata": {},
     "output_type": "display_data"
    },
    {
     "name": "stdout",
     "output_type": "stream",
     "text": [
      "Eq. 4 rmse: 0.42979741622596007\n"
     ]
    },
    {
     "data": {
      "text/latex": [
       "$\\displaystyle 4.33296227615974^{x_{1}} + x_{3} - 5.435295335161299$"
      ],
      "text/plain": [
       "4.33296227615974**x1 + x3 - 5.435295335161299"
      ]
     },
     "metadata": {},
     "output_type": "display_data"
    },
    {
     "name": "stdout",
     "output_type": "stream",
     "text": [
      "Eq. 5 rmse: 0.39636083339221084\n"
     ]
    },
    {
     "data": {
      "text/latex": [
       "$\\displaystyle \\left(2 x_{3} - 16.84222316694347\\right)^{x_{1}} + 5.166035641644013$"
      ],
      "text/plain": [
       "(2*x3 - 16.84222316694347)**x1 + 5.166035641644013"
      ]
     },
     "metadata": {},
     "output_type": "display_data"
    },
    {
     "name": "stdout",
     "output_type": "stream",
     "text": [
      "Eq. 6 rmse: 0.39272761322537386\n"
     ]
    },
    {
     "data": {
      "text/latex": [
       "$\\displaystyle x_{1} x_{3} - \\left(- x_{1} x_{3} + 16.795094384852117\\right)^{x_{1}} + 5.320909501376131$"
      ],
      "text/plain": [
       "x1*x3 - (-x1*x3 + 16.795094384852117)**x1 + 5.320909501376131"
      ]
     },
     "metadata": {},
     "output_type": "display_data"
    },
    {
     "name": "stdout",
     "output_type": "stream",
     "text": [
      "Eq. 7 rmse: 0.37832640597171985\n"
     ]
    },
    {
     "data": {
      "text/latex": [
       "$\\displaystyle x_{1} \\left(x_{3} + 2.0770752891582296 + \\frac{-86.77803339999234 + \\frac{0.10023651544609326}{x_{0} - 2.347989629289872 x_{3}}}{x_{3}}\\right) + 4.909591353814277$"
      ],
      "text/plain": [
       "x1*(x3 + 2.0770752891582296 + (-86.77803339999234 + 0.10023651544609326/(x0 - 2.347989629289872*x3))/x3) + 4.909591353814277"
      ]
     },
     "metadata": {},
     "output_type": "display_data"
    },
    {
     "name": "stdout",
     "output_type": "stream",
     "text": [
      "Eq. 8 rmse: 0.3771844335973739\n"
     ]
    },
    {
     "data": {
      "text/latex": [
       "$\\displaystyle x_{1} \\left(x_{3} - 0.36802192194699623 + \\frac{\\frac{x_{3}}{x_{0} + x_{2} - x_{3}^{x_{1}}} - 60.769224759178954}{x_{3}}\\right) + 4.863029933666423$"
      ],
      "text/plain": [
       "x1*(x3 - 0.36802192194699623 + (x3/(x0 + x2 - x3**x1) - 60.769224759178954)/x3) + 4.863029933666423"
      ]
     },
     "metadata": {},
     "output_type": "display_data"
    }
   ],
   "source": [
    "test_relation(df_purge[['dc', 'bvtc','mabs', 'logblum']],\n",
    "             operator='adv',niterations=400)"
   ]
  },
  {
   "cell_type": "markdown",
   "id": "d5a2fb85",
   "metadata": {},
   "source": [
    "## Exsiting Scaling relations"
   ]
  },
  {
   "cell_type": "code",
   "execution_count": 21,
   "id": "6948967f",
   "metadata": {
    "scrolled": true
   },
   "outputs": [
    {
     "name": "stderr",
     "output_type": "stream",
     "text": [
      "/home/zj448/miniconda3/lib/python3.9/site-packages/pysr/sr.py:1257: UserWarning: Note: it looks like you are running in Jupyter. The progress bar will be turned off.\n",
      "  warnings.warn(\n"
     ]
    },
    {
     "name": "stdout",
     "output_type": "stream",
     "text": [
      "parameters:\n",
      "x 0 : log_sigma0\n",
      "x 1 : Core\n",
      "x 2 : Pseudobulge\n",
      "Eq. selected rmse: 0.36369501988562397\n"
     ]
    },
    {
     "data": {
      "text/latex": [
       "$\\displaystyle 3.548286703697437 x_{0} + x_{1}$"
      ],
      "text/plain": [
       "3.548286703697437*x0 + x1"
      ]
     },
     "metadata": {},
     "output_type": "display_data"
    },
    {
     "name": "stdout",
     "output_type": "stream",
     "text": [
      "Eq. 0 rmse: 0.9082611474700465\n"
     ]
    },
    {
     "data": {
      "text/latex": [
       "$\\displaystyle 8.233873226494888$"
      ],
      "text/plain": [
       "8.233873226494888"
      ]
     },
     "metadata": {},
     "output_type": "display_data"
    },
    {
     "name": "stdout",
     "output_type": "stream",
     "text": [
      "Eq. 1 rmse: 0.4380087731031836\n"
     ]
    },
    {
     "data": {
      "text/latex": [
       "$\\displaystyle 3.660778879527499 x_{0}$"
      ],
      "text/plain": [
       "3.660778879527499*x0"
      ]
     },
     "metadata": {},
     "output_type": "display_data"
    },
    {
     "name": "stdout",
     "output_type": "stream",
     "text": [
      "Eq. 2 rmse: 0.36369501988562397\n"
     ]
    },
    {
     "data": {
      "text/latex": [
       "$\\displaystyle 3.548286703697437 x_{0} + x_{1}$"
      ],
      "text/plain": [
       "3.548286703697437*x0 + x1"
      ]
     },
     "metadata": {},
     "output_type": "display_data"
    },
    {
     "name": "stdout",
     "output_type": "stream",
     "text": [
      "Eq. 3 rmse: 0.33783768846961987\n"
     ]
    },
    {
     "data": {
      "text/latex": [
       "$\\displaystyle x_{0} \\cdot \\left(0.2790138440260672 x_{1} + 3.584051549451338\\right)$"
      ],
      "text/plain": [
       "x0*(0.2790138440260672*x1 + 3.584051549451338)"
      ]
     },
     "metadata": {},
     "output_type": "display_data"
    },
    {
     "name": "stdout",
     "output_type": "stream",
     "text": [
      "Eq. 4 rmse: 0.31358415699386716\n"
     ]
    },
    {
     "data": {
      "text/latex": [
       "$\\displaystyle x_{0} \\cdot \\left(0.23472318279549 x_{1} - 0.23472318279549 x_{2} + 3.612014128255\\right)$"
      ],
      "text/plain": [
       "x0*(0.23472318279549*x1 - 0.23472318279549*x2 + 3.612014128255)"
      ]
     },
     "metadata": {},
     "output_type": "display_data"
    },
    {
     "name": "stdout",
     "output_type": "stream",
     "text": [
      "Eq. 5 rmse: 0.3126334131913098\n"
     ]
    },
    {
     "data": {
      "text/latex": [
       "$\\displaystyle 3.612014128255 x_{0} + x_{1} - \\frac{x_{1} + x_{2}}{x_{0}}$"
      ],
      "text/plain": [
       "3.612014128255*x0 + x1 - (x1 + x2)/x0"
      ]
     },
     "metadata": {},
     "output_type": "display_data"
    },
    {
     "name": "stdout",
     "output_type": "stream",
     "text": [
      "Eq. 6 rmse: 0.31135303617347554\n"
     ]
    },
    {
     "data": {
      "text/latex": [
       "$\\displaystyle 4.135926771730385 x_{0} + 0.45114601637524224 x_{1} - 0.45114601637524224 x_{2} - 1.1422301553820672$"
      ],
      "text/plain": [
       "4.135926771730385*x0 + 0.45114601637524224*x1 - 0.45114601637524224*x2 - 1.1422301553820672"
      ]
     },
     "metadata": {},
     "output_type": "display_data"
    },
    {
     "name": "stdout",
     "output_type": "stream",
     "text": [
      "Eq. 7 rmse: 0.3106476104084087\n"
     ]
    },
    {
     "data": {
      "text/latex": [
       "$\\displaystyle x_{0}^{2} + 0.31989261475053423 x_{1} - 0.40001182329312074 x_{2} + 3.0977576370620525$"
      ],
      "text/plain": [
       "x0**2 + 0.31989261475053423*x1 - 0.40001182329312074*x2 + 3.0977576370620525"
      ]
     },
     "metadata": {},
     "output_type": "display_data"
    },
    {
     "name": "stdout",
     "output_type": "stream",
     "text": [
      "Eq. 8 rmse: 0.31024240397995706\n"
     ]
    },
    {
     "data": {
      "text/latex": [
       "$\\displaystyle 0.21873608911606951 x_{0} x_{1} + 3.8383409002779069 x_{0} - 0.43140686705133606 x_{2} - 0.5070296878005899$"
      ],
      "text/plain": [
       "0.21873608911606951*x0*x1 + 3.8383409002779069*x0 - 0.43140686705133606*x2 - 0.5070296878005899"
      ]
     },
     "metadata": {},
     "output_type": "display_data"
    },
    {
     "name": "stdout",
     "output_type": "stream",
     "text": [
      "Eq. 9 rmse: 0.29780515496712734\n"
     ]
    },
    {
     "data": {
      "text/latex": [
       "$\\displaystyle 3.6120141282043767 x_{0} + 0.5949154415061692 x_{1} - 0.4253964462096147 x_{2} + \\frac{0.0060790567021173116 x_{2}}{x_{0} - 2.2466187657544223}$"
      ],
      "text/plain": [
       "3.6120141282043767*x0 + 0.5949154415061692*x1 - 0.4253964462096147*x2 + 0.0060790567021173116*x2/(x0 - 2.2466187657544223)"
      ]
     },
     "metadata": {},
     "output_type": "display_data"
    }
   ],
   "source": [
    "test_relation(df_purge[['log_sigma0', 'Core', 'Pseudobulge']],operator='basic',ncyclesperiteration=5000)"
   ]
  },
  {
   "cell_type": "code",
   "execution_count": 25,
   "id": "49400592",
   "metadata": {
    "scrolled": true
   },
   "outputs": [
    {
     "name": "stderr",
     "output_type": "stream",
     "text": [
      "/home/zj448/miniconda3/lib/python3.9/site-packages/pysr/sr.py:1257: UserWarning: Note: it looks like you are running in Jupyter. The progress bar will be turned off.\n",
      "  warnings.warn(\n"
     ]
    },
    {
     "name": "stdout",
     "output_type": "stream",
     "text": [
      "parameters:\n",
      "x 0 : log_sigma0\n",
      "x 1 : bvtc\n",
      "Eq. selected rmse: 0.3668907146237446\n"
     ]
    },
    {
     "data": {
      "text/latex": [
       "$\\displaystyle 5.135926801682899 x_{0} - 3.3419533060135533$"
      ],
      "text/plain": [
       "5.135926801682899*x0 - 3.3419533060135533"
      ]
     },
     "metadata": {},
     "output_type": "display_data"
    },
    {
     "name": "stdout",
     "output_type": "stream",
     "text": [
      "Eq. 0 rmse: 0.9082611474700466\n"
     ]
    },
    {
     "data": {
      "text/latex": [
       "$\\displaystyle 8.233873226496858$"
      ],
      "text/plain": [
       "8.233873226496858"
      ]
     },
     "metadata": {},
     "output_type": "display_data"
    },
    {
     "name": "stdout",
     "output_type": "stream",
     "text": [
      "Eq. 1 rmse: 0.4380087731031836\n"
     ]
    },
    {
     "data": {
      "text/latex": [
       "$\\displaystyle 3.660778879472071 x_{0}$"
      ],
      "text/plain": [
       "3.660778879472071*x0"
      ]
     },
     "metadata": {},
     "output_type": "display_data"
    },
    {
     "name": "stdout",
     "output_type": "stream",
     "text": [
      "Eq. 2 rmse: 0.3668907146237446\n"
     ]
    },
    {
     "data": {
      "text/latex": [
       "$\\displaystyle 5.135926801682899 x_{0} - 3.3419533060135533$"
      ],
      "text/plain": [
       "5.135926801682899*x0 - 3.3419533060135533"
      ]
     },
     "metadata": {},
     "output_type": "display_data"
    },
    {
     "name": "stdout",
     "output_type": "stream",
     "text": [
      "Eq. 3 rmse: 0.36091136206513275\n"
     ]
    },
    {
     "data": {
      "text/latex": [
       "$\\displaystyle x_{0} e^{x_{0}^{0.317019059710663}}$"
      ],
      "text/plain": [
       "x0*exp(x0**0.317019059710663)"
      ]
     },
     "metadata": {},
     "output_type": "display_data"
    },
    {
     "name": "stdout",
     "output_type": "stream",
     "text": [
      "Eq. 4 rmse: 0.35301028676623736\n"
     ]
    },
    {
     "data": {
      "text/latex": [
       "$\\displaystyle 1.579998634348015 \\left(e^{x_{0}}\\right)^{0.6902851205501301} + 0.692844879723222$"
      ],
      "text/plain": [
       "1.579998634348015*exp(x0)**0.6902851205501301 + 0.692844879723222"
      ]
     },
     "metadata": {},
     "output_type": "display_data"
    },
    {
     "name": "stdout",
     "output_type": "stream",
     "text": [
      "Eq. 5 rmse: 0.34693516716699685\n"
     ]
    },
    {
     "data": {
      "text/latex": [
       "$\\displaystyle \\left(x_{0} + x_{0}^{x_{0}}\\right)^{0.7209100891275475} + 3.458602464516802$"
      ],
      "text/plain": [
       "(x0 + x0**x0)**0.7209100891275475 + 3.458602464516802"
      ]
     },
     "metadata": {},
     "output_type": "display_data"
    },
    {
     "name": "stdout",
     "output_type": "stream",
     "text": [
      "Eq. 6 rmse: 0.3467030265777838\n"
     ]
    },
    {
     "data": {
      "text/latex": [
       "$\\displaystyle \\frac{\\log{\\left(\\left(\\left(x_{0} - 1.3243507462394533\\right)^{x_{0}}\\right)^{x_{0}^{2}} \\right)}}{\\log{\\left(10 \\right)}} + 8.494389604352152$"
      ],
      "text/plain": [
       "log(((x0 - 1.3243507462394533)**x0)**(x0**2))/log(10) + 8.494389604352152"
      ]
     },
     "metadata": {},
     "output_type": "display_data"
    },
    {
     "name": "stdout",
     "output_type": "stream",
     "text": [
      "Eq. 7 rmse: 0.34357199173233405\n"
     ]
    },
    {
     "data": {
      "text/latex": [
       "$\\displaystyle \\frac{\\log{\\left(\\left(x_{0} - 1.1361649113472958\\right)^{2.5335521051277308 x_{0}^{2} x_{1}} \\right)}}{\\log{\\left(10 \\right)}} + 7.617167584232653$"
      ],
      "text/plain": [
       "log((x0 - 1.1361649113472958)**(2.5335521051277308*x0**2*x1))/log(10) + 7.617167584232653"
      ]
     },
     "metadata": {},
     "output_type": "display_data"
    },
    {
     "name": "stdout",
     "output_type": "stream",
     "text": [
      "Eq. 8 rmse: 0.34253243394677385\n"
     ]
    },
    {
     "data": {
      "text/latex": [
       "$\\displaystyle \\frac{x_{0} \\log{\\left(\\left(x_{0} - 1.141502257584114\\right)^{1.9665611161424577 \\left(x_{0} x_{1}\\right)^{1.3075451651936052}} \\right)}}{\\log{\\left(10 \\right)}} + 7.617167584232653$"
      ],
      "text/plain": [
       "x0*log((x0 - 1.141502257584114)**(1.9665611161424577*(x0*x1)**1.3075451651936052))/log(10) + 7.617167584232653"
      ]
     },
     "metadata": {},
     "output_type": "display_data"
    },
    {
     "name": "stdout",
     "output_type": "stream",
     "text": [
      "Eq. 9 rmse: 0.34243321859090087\n"
     ]
    },
    {
     "data": {
      "text/latex": [
       "$\\displaystyle \\frac{\\log{\\left(\\left(\\left(x_{0} - 1.1421827821082406\\right)^{2.455381216015799 x_{0} + \\frac{2.455381216015799 \\log{\\left(x_{1}^{\\frac{2.455381216015799}{x_{1}}} \\right)}}{\\log{\\left(10 \\right)}}}\\right)^{x_{0}} \\right)}}{\\log{\\left(10 \\right)}} + 7.623143420834061$"
      ],
      "text/plain": [
       "log(((x0 - 1.1421827821082406)**(2.455381216015799*x0 + 2.455381216015799*log(x1**(2.455381216015799/x1))/log(10)))**x0)/log(10) + 7.623143420834061"
      ]
     },
     "metadata": {},
     "output_type": "display_data"
    },
    {
     "name": "stdout",
     "output_type": "stream",
     "text": [
      "Eq. 10 rmse: 0.3418481054149095\n"
     ]
    },
    {
     "data": {
      "text/latex": [
       "$\\displaystyle \\frac{x_{0} \\log{\\left(\\left(x_{0} - 1.1451863010094796\\right)^{x_{0}^{2} x_{1}^{0.26893982996291976 \\left(\\frac{1}{x_{1}}\\right)^{3.0968256420311495}}} \\right)}}{\\log{\\left(10 \\right)}} + 7.617167584232653$"
      ],
      "text/plain": [
       "x0*log((x0 - 1.1451863010094796)**(x0**2*x1**(0.26893982996291976*(1/x1)**3.0968256420311495)))/log(10) + 7.617167584232653"
      ]
     },
     "metadata": {},
     "output_type": "display_data"
    }
   ],
   "source": [
    "test_relation(df_purge[['log_sigma0', 'bvtc']],operator='adv',ncyclesperiteration=5000,niterations=100)"
   ]
  },
  {
   "cell_type": "code",
   "execution_count": 26,
   "id": "bc653931",
   "metadata": {
    "scrolled": true
   },
   "outputs": [
    {
     "name": "stderr",
     "output_type": "stream",
     "text": [
      "/home/zj448/miniconda3/lib/python3.9/site-packages/pysr/sr.py:1257: UserWarning: Note: it looks like you are running in Jupyter. The progress bar will be turned off.\n",
      "  warnings.warn(\n"
     ]
    },
    {
     "name": "stdout",
     "output_type": "stream",
     "text": [
      "parameters:\n",
      "x 0 : M*_sph\n",
      "x 1 : Core\n",
      "x 2 : Pseudobulge\n",
      "x 3 : bvtc\n",
      "Eq. selected rmse: 0.3773721087118079\n"
     ]
    },
    {
     "data": {
      "text/latex": [
       "$\\displaystyle x_{0} - 2.3757319329647144$"
      ],
      "text/plain": [
       "x0 - 2.3757319329647144"
      ]
     },
     "metadata": {},
     "output_type": "display_data"
    },
    {
     "name": "stdout",
     "output_type": "stream",
     "text": [
      "Eq. 0 rmse: 0.9082611474700466\n"
     ]
    },
    {
     "data": {
      "text/latex": [
       "$\\displaystyle 8.233873226494847$"
      ],
      "text/plain": [
       "8.233873226494847"
      ]
     },
     "metadata": {},
     "output_type": "display_data"
    },
    {
     "name": "stdout",
     "output_type": "stream",
     "text": [
      "Eq. 1 rmse: 0.3773721087118079\n"
     ]
    },
    {
     "data": {
      "text/latex": [
       "$\\displaystyle x_{0} - 2.3757319329647144$"
      ],
      "text/plain": [
       "x0 - 2.3757319329647144"
      ]
     },
     "metadata": {},
     "output_type": "display_data"
    },
    {
     "name": "stdout",
     "output_type": "stream",
     "text": [
      "Eq. 2 rmse: 0.3505971677888237\n"
     ]
    },
    {
     "data": {
      "text/latex": [
       "$\\displaystyle 0.7597311428753848 x_{0} + 0.7597311428753848 x_{1}$"
      ],
      "text/plain": [
       "0.7597311428753848*x0 + 0.7597311428753848*x1"
      ]
     },
     "metadata": {},
     "output_type": "display_data"
    },
    {
     "name": "stdout",
     "output_type": "stream",
     "text": [
      "Eq. 3 rmse: 0.335496318920151\n"
     ]
    },
    {
     "data": {
      "text/latex": [
       "$\\displaystyle x_{0} + 0.40943209916208634 x_{1} - 2.470644828799664$"
      ],
      "text/plain": [
       "x0 + 0.40943209916208634*x1 - 2.470644828799664"
      ]
     },
     "metadata": {},
     "output_type": "display_data"
    },
    {
     "name": "stdout",
     "output_type": "stream",
     "text": [
      "Eq. 4 rmse: 0.335406136506396\n"
     ]
    },
    {
     "data": {
      "text/latex": [
       "$\\displaystyle x_{0} + x_{1} e^{- x_{3}} - 2.4706448266396768$"
      ],
      "text/plain": [
       "x0 + x1*exp(-x3) - 2.4706448266396768"
      ]
     },
     "metadata": {},
     "output_type": "display_data"
    },
    {
     "name": "stdout",
     "output_type": "stream",
     "text": [
      "Eq. 5 rmse: 0.3142708181014667\n"
     ]
    },
    {
     "data": {
      "text/latex": [
       "$\\displaystyle x_{0} + 0.36492546046497276 x_{1} - 0.36492546046497276 x_{2} - 2.419965528706549$"
      ],
      "text/plain": [
       "x0 + 0.36492546046497276*x1 - 0.36492546046497276*x2 - 2.419965528706549"
      ]
     },
     "metadata": {},
     "output_type": "display_data"
    },
    {
     "name": "stdout",
     "output_type": "stream",
     "text": [
      "Eq. 6 rmse: 0.314191433620264\n"
     ]
    },
    {
     "data": {
      "text/latex": [
       "$\\displaystyle x_{0} - 2.4122834974660368 + \\frac{4.0187010944338274 x_{1} - 4.0187010944338274 x_{2}}{x_{0}}$"
      ],
      "text/plain": [
       "x0 - 2.4122834974660368 + (4.0187010944338274*x1 - 4.0187010944338274*x2)/x0"
      ]
     },
     "metadata": {},
     "output_type": "display_data"
    },
    {
     "name": "stdout",
     "output_type": "stream",
     "text": [
      "Eq. 7 rmse: 0.3141204896492129\n"
     ]
    },
    {
     "data": {
      "text/latex": [
       "$\\displaystyle x_{0} + 0.3346068919534675 x_{1} - 0.3346068919534675 x_{2} + 0.17447573368509578 x_{3} - 2.5420715074368143$"
      ],
      "text/plain": [
       "x0 + 0.3346068919534675*x1 - 0.3346068919534675*x2 + 0.17447573368509578*x3 - 2.5420715074368143"
      ]
     },
     "metadata": {},
     "output_type": "display_data"
    },
    {
     "name": "stdout",
     "output_type": "stream",
     "text": [
      "Eq. 8 rmse: 0.3134395676626814\n"
     ]
    },
    {
     "data": {
      "text/latex": [
       "$\\displaystyle x_{0} + 0.36193294872504097 x_{1} - 0.36193294872504097 x_{2} + 0.11171332802204362 x_{3}^{x_{0}} - 2.431252519092336$"
      ],
      "text/plain": [
       "x0 + 0.36193294872504097*x1 - 0.36193294872504097*x2 + 0.11171332802204362*x3**x0 - 2.431252519092336"
      ]
     },
     "metadata": {},
     "output_type": "display_data"
    },
    {
     "name": "stdout",
     "output_type": "stream",
     "text": [
      "Eq. 9 rmse: 0.3115567283581369\n"
     ]
    },
    {
     "data": {
      "text/latex": [
       "$\\displaystyle x_{0} - 0.37961464113196336 x_{2} - \\left(x_{3}^{1.794573127626677 x_{0}} + 0.4318880006568247\\right)^{x_{1}} - 1.4156134484941838$"
      ],
      "text/plain": [
       "x0 - 0.37961464113196336*x2 - (x3**(1.794573127626677*x0) + 0.4318880006568247)**x1 - 1.4156134484941838"
      ]
     },
     "metadata": {},
     "output_type": "display_data"
    },
    {
     "name": "stdout",
     "output_type": "stream",
     "text": [
      "Eq. 10 rmse: 0.3114794146211876\n"
     ]
    },
    {
     "data": {
      "text/latex": [
       "$\\displaystyle x_{0} - 0.37961464113196336 x_{2} - \\left(1.0729066114190493 x_{3}^{2 x_{0}} + 0.46337549129726193\\right)^{x_{1}} - 1.4156134484941838$"
      ],
      "text/plain": [
       "x0 - 0.37961464113196336*x2 - (1.0729066114190493*x3**(2*x0) + 0.46337549129726193)**x1 - 1.4156134484941838"
      ]
     },
     "metadata": {},
     "output_type": "display_data"
    }
   ],
   "source": [
    "test_relation(df_purge[['M*_sph','Core','Pseudobulge','bvtc']],\n",
    "              operator='adv',ncyclesperiteration=5000,niterations=100)"
   ]
  },
  {
   "cell_type": "code",
   "execution_count": 27,
   "id": "5b28e4b4",
   "metadata": {
    "scrolled": true
   },
   "outputs": [
    {
     "name": "stderr",
     "output_type": "stream",
     "text": [
      "/home/zj448/miniconda3/lib/python3.9/site-packages/pysr/sr.py:1257: UserWarning: Note: it looks like you are running in Jupyter. The progress bar will be turned off.\n",
      "  warnings.warn(\n"
     ]
    },
    {
     "name": "stdout",
     "output_type": "stream",
     "text": [
      "parameters:\n",
      "x 0 : log_R_e_sph_eq_kpc\n",
      "x 1 : Core\n",
      "x 2 : Pseudobulge\n",
      "x 3 : bvtc\n",
      "Eq. selected rmse: 0.3960836750844495\n"
     ]
    },
    {
     "data": {
      "text/latex": [
       "$\\displaystyle x_{0} + 0.66528246267261617 x_{1} + x_{3} + 7.076121463127707$"
      ],
      "text/plain": [
       "x0 + 0.66528246267261617*x1 + x3 + 7.076121463127707"
      ]
     },
     "metadata": {},
     "output_type": "display_data"
    },
    {
     "name": "stdout",
     "output_type": "stream",
     "text": [
      "Eq. 0 rmse: 0.9082611474700465\n"
     ]
    },
    {
     "data": {
      "text/latex": [
       "$\\displaystyle 8.233873225499648$"
      ],
      "text/plain": [
       "8.233873225499648"
      ]
     },
     "metadata": {},
     "output_type": "display_data"
    },
    {
     "name": "stdout",
     "output_type": "stream",
     "text": [
      "Eq. 1 rmse: 0.5674448673195908\n"
     ]
    },
    {
     "data": {
      "text/latex": [
       "$\\displaystyle x_{0} + 8.00188063450418$"
      ],
      "text/plain": [
       "x0 + 8.00188063450418"
      ]
     },
     "metadata": {},
     "output_type": "display_data"
    },
    {
     "name": "stdout",
     "output_type": "stream",
     "text": [
      "Eq. 2 rmse: 0.5506127920275905\n"
     ]
    },
    {
     "data": {
      "text/latex": [
       "$\\displaystyle e^{x_{1}} + 6.930154531318785$"
      ],
      "text/plain": [
       "exp(x1) + 6.930154531318785"
      ]
     },
     "metadata": {},
     "output_type": "display_data"
    },
    {
     "name": "stdout",
     "output_type": "stream",
     "text": [
      "Eq. 3 rmse: 0.4376222607725093\n"
     ]
    },
    {
     "data": {
      "text/latex": [
       "$\\displaystyle x_{0} + x_{1} + 7.770064669854261$"
      ],
      "text/plain": [
       "x0 + x1 + 7.770064669854261"
      ]
     },
     "metadata": {},
     "output_type": "display_data"
    },
    {
     "name": "stdout",
     "output_type": "stream",
     "text": [
      "Eq. 4 rmse: 0.4303828477440107\n"
     ]
    },
    {
     "data": {
      "text/latex": [
       "$\\displaystyle x_{0} + e^{x_{3}} + 5.817465516470192$"
      ],
      "text/plain": [
       "x0 + exp(x3) + 5.817465516470192"
      ]
     },
     "metadata": {},
     "output_type": "display_data"
    },
    {
     "name": "stdout",
     "output_type": "stream",
     "text": [
      "Eq. 5 rmse: 0.4205155379199301\n"
     ]
    },
    {
     "data": {
      "text/latex": [
       "$\\displaystyle x_{0} + x_{1} + x_{3} + 6.998528597872164$"
      ],
      "text/plain": [
       "x0 + x1 + x3 + 6.998528597872164"
      ]
     },
     "metadata": {},
     "output_type": "display_data"
    },
    {
     "name": "stdout",
     "output_type": "stream",
     "text": [
      "Eq. 6 rmse: 0.3960836750844495\n"
     ]
    },
    {
     "data": {
      "text/latex": [
       "$\\displaystyle x_{0} + 0.66528246267261617 x_{1} + x_{3} + 7.076121463127707$"
      ],
      "text/plain": [
       "x0 + 0.66528246267261617*x1 + x3 + 7.076121463127707"
      ]
     },
     "metadata": {},
     "output_type": "display_data"
    },
    {
     "name": "stdout",
     "output_type": "stream",
     "text": [
      "Eq. 7 rmse: 0.38036430171313695\n"
     ]
    },
    {
     "data": {
      "text/latex": [
       "$\\displaystyle - 0.45715851806337326^{x_{0}} + x_{1} + 2 x_{3} + 7.41215089301743$"
      ],
      "text/plain": [
       "-0.45715851806337326**x0 + x1 + 2*x3 + 7.41215089301743"
      ]
     },
     "metadata": {},
     "output_type": "display_data"
    },
    {
     "name": "stdout",
     "output_type": "stream",
     "text": [
      "Eq. 8 rmse: 0.3681690293697928\n"
     ]
    },
    {
     "data": {
      "text/latex": [
       "$\\displaystyle - 0.45715851806337326^{x_{0}} + 0.803816152205338 x_{1} + 2 x_{3} + 7.41215089301743$"
      ],
      "text/plain": [
       "-0.45715851806337326**x0 + 0.803816152205338*x1 + 2*x3 + 7.41215089301743"
      ]
     },
     "metadata": {},
     "output_type": "display_data"
    },
    {
     "name": "stdout",
     "output_type": "stream",
     "text": [
      "Eq. 9 rmse: 0.36375043374257093\n"
     ]
    },
    {
     "data": {
      "text/latex": [
       "$\\displaystyle x_{0} x_{1} + x_{0} + x_{3}^{e^{e^{x_{0}^{2}}}} + 7.367164922966326$"
      ],
      "text/plain": [
       "x0*x1 + x0 + x3**exp(exp(x0**2)) + 7.367164922966326"
      ]
     },
     "metadata": {},
     "output_type": "display_data"
    },
    {
     "name": "stdout",
     "output_type": "stream",
     "text": [
      "Eq. 10 rmse: 0.3581738308417617\n"
     ]
    },
    {
     "data": {
      "text/latex": [
       "$\\displaystyle x_{0} + x_{1} + x_{3}^{61.56286797991436^{x_{0} + x_{2}} + x_{3}^{-5.336125358237049}} + 7.623552773765985$"
      ],
      "text/plain": [
       "x0 + x1 + x3**(61.56286797991436**(x0 + x2) + x3**(-5.336125358237049)) + 7.623552773765985"
      ]
     },
     "metadata": {},
     "output_type": "display_data"
    },
    {
     "name": "stdout",
     "output_type": "stream",
     "text": [
      "Eq. 11 rmse: 0.3527505929802963\n"
     ]
    },
    {
     "data": {
      "text/latex": [
       "$\\displaystyle x_{0} + x_{1} + x_{3}^{\\left(x_{1} + \\frac{\\left(1.9539178991649142^{x_{0}}\\right)^{x_{0}}}{x_{3}}\\right)^{7.623552773765985}} + 7.623552773765985$"
      ],
      "text/plain": [
       "x0 + x1 + x3**((x1 + (1.9539178991649142**x0)**x0/x3)**7.623552773765985) + 7.623552773765985"
      ]
     },
     "metadata": {},
     "output_type": "display_data"
    }
   ],
   "source": [
    "test_relation(df_purge[['log_R_e_sph_eq_kpc','Core','Pseudobulge','bvtc']],\n",
    "              operator='adv',ncyclesperiteration=5000,niterations=100)"
   ]
  },
  {
   "cell_type": "code",
   "execution_count": 28,
   "id": "40d2f416",
   "metadata": {
    "scrolled": true
   },
   "outputs": [
    {
     "name": "stderr",
     "output_type": "stream",
     "text": [
      "/home/zj448/miniconda3/lib/python3.9/site-packages/pysr/sr.py:1257: UserWarning: Note: it looks like you are running in Jupyter. The progress bar will be turned off.\n",
      "  warnings.warn(\n"
     ]
    },
    {
     "name": "stdout",
     "output_type": "stream",
     "text": [
      "parameters:\n",
      "x 0 : log_B/T\n",
      "x 1 : Core\n",
      "x 2 : Pseudobulge\n",
      "x 3 : bvtc\n",
      "Eq. selected rmse: 0.4488298973298079\n"
     ]
    },
    {
     "data": {
      "text/latex": [
       "$\\displaystyle x_{0} + x_{1} + 8.392393474454124$"
      ],
      "text/plain": [
       "x0 + x1 + 8.392393474454124"
      ]
     },
     "metadata": {},
     "output_type": "display_data"
    },
    {
     "name": "stdout",
     "output_type": "stream",
     "text": [
      "Eq. 0 rmse: 0.9082611474700465\n"
     ]
    },
    {
     "data": {
      "text/latex": [
       "$\\displaystyle 8.233873226496714$"
      ],
      "text/plain": [
       "8.233873226496714"
      ]
     },
     "metadata": {},
     "output_type": "display_data"
    },
    {
     "name": "stdout",
     "output_type": "stream",
     "text": [
      "Eq. 1 rmse: 0.6230291145589536\n"
     ]
    },
    {
     "data": {
      "text/latex": [
       "$\\displaystyle x_{1} + 8.002057264358244$"
      ],
      "text/plain": [
       "x1 + 8.002057264358244"
      ]
     },
     "metadata": {},
     "output_type": "display_data"
    },
    {
     "name": "stdout",
     "output_type": "stream",
     "text": [
      "Eq. 2 rmse: 0.5448464932671352\n"
     ]
    },
    {
     "data": {
      "text/latex": [
       "$\\displaystyle e^{x_{1}} + 6.886867042122765$"
      ],
      "text/plain": [
       "exp(x1) + 6.886867042122765"
      ]
     },
     "metadata": {},
     "output_type": "display_data"
    },
    {
     "name": "stdout",
     "output_type": "stream",
     "text": [
      "Eq. 3 rmse: 0.4488298973298079\n"
     ]
    },
    {
     "data": {
      "text/latex": [
       "$\\displaystyle x_{0} + x_{1} + 8.392393474454124$"
      ],
      "text/plain": [
       "x0 + x1 + 8.392393474454124"
      ]
     },
     "metadata": {},
     "output_type": "display_data"
    },
    {
     "name": "stdout",
     "output_type": "stream",
     "text": [
      "Eq. 4 rmse: 0.4220191815960051\n"
     ]
    },
    {
     "data": {
      "text/latex": [
       "$\\displaystyle 1.500924860753248 x_{0} + x_{1} + 8.585887829995551$"
      ],
      "text/plain": [
       "1.500924860753248*x0 + x1 + 8.585887829995551"
      ]
     },
     "metadata": {},
     "output_type": "display_data"
    },
    {
     "name": "stdout",
     "output_type": "stream",
     "text": [
      "Eq. 5 rmse: 0.4197957463190653\n"
     ]
    },
    {
     "data": {
      "text/latex": [
       "$\\displaystyle x_{0} + x_{1} + x_{3}^{12.370871149067684} + 8.232475318800763$"
      ],
      "text/plain": [
       "x0 + x1 + x3**12.370871149067684 + 8.232475318800763"
      ]
     },
     "metadata": {},
     "output_type": "display_data"
    },
    {
     "name": "stdout",
     "output_type": "stream",
     "text": [
      "Eq. 6 rmse: 0.40801881720336364\n"
     ]
    },
    {
     "data": {
      "text/latex": [
       "$\\displaystyle x_{0} + x_{1} + 7.6625748826115565 + 2.1098782403951786^{- x_{2}} x_{3}$"
      ],
      "text/plain": [
       "x0 + x1 + 7.6625748826115565 + x3/2.1098782403951786**x2"
      ]
     },
     "metadata": {},
     "output_type": "display_data"
    },
    {
     "name": "stdout",
     "output_type": "stream",
     "text": [
      "Eq. 7 rmse: 0.40510976652619335\n"
     ]
    },
    {
     "data": {
      "text/latex": [
       "$\\displaystyle x_{0} + x_{1} + x_{3}^{8.187558854879724} \\cdot \\left(0.8151117915672803 - x_{2}\\right) + 8.187558854879724$"
      ],
      "text/plain": [
       "x0 + x1 + x3**8.187558854879724*(0.8151117915672803 - x2) + 8.187558854879724"
      ]
     },
     "metadata": {},
     "output_type": "display_data"
    },
    {
     "name": "stdout",
     "output_type": "stream",
     "text": [
      "Eq. 8 rmse: 0.39925810018586466\n"
     ]
    },
    {
     "data": {
      "text/latex": [
       "$\\displaystyle x_{0} + x_{1} + x_{3}^{8.187558854879724} \\cdot \\left(0.8139640886045985 - 1.9868052526474116 x_{2}\\right) + 8.187558854879724$"
      ],
      "text/plain": [
       "x0 + x1 + x3**8.187558854879724*(0.8139640886045985 - 1.9868052526474116*x2) + 8.187558854879724"
      ]
     },
     "metadata": {},
     "output_type": "display_data"
    },
    {
     "name": "stdout",
     "output_type": "stream",
     "text": [
      "Eq. 9 rmse: 0.53910479003829\n"
     ]
    },
    {
     "data": {
      "text/latex": [
       "$\\displaystyle x_{0} + x_{1} + 7.2795962352034972 + e^{- 4.164192444028943^{x_{2}} e^{- \\frac{1}{x_{3}^{3.5225211538063967}}}}$"
      ],
      "text/plain": [
       "x0 + x1 + 7.2795962352034972 + exp(-4.164192444028943**x2*exp(-1/x3**3.5225211538063967))"
      ]
     },
     "metadata": {},
     "output_type": "display_data"
    },
    {
     "name": "stdout",
     "output_type": "stream",
     "text": [
      "Eq. 10 rmse: 0.3973103415599454\n"
     ]
    },
    {
     "data": {
      "text/latex": [
       "$\\displaystyle x_{0} + x_{1} - 2.3205368180458176 x_{2} x_{3}^{e^{0.29180366731811125^{x_{0}}}} + x_{3} + 7.677434238563821$"
      ],
      "text/plain": [
       "x0 + x1 - 2.3205368180458176*x2*x3**exp(0.29180366731811125**x0) + x3 + 7.677434238563821"
      ]
     },
     "metadata": {},
     "output_type": "display_data"
    },
    {
     "name": "stdout",
     "output_type": "stream",
     "text": [
      "Eq. 11 rmse: 0.3908153545191691\n"
     ]
    },
    {
     "data": {
      "text/latex": [
       "$\\displaystyle x_{0} + x_{1} + 8.195195874674509 + \\frac{8.195195874674509^{- \\frac{0.9324193164151394}{x_{3}}} x_{3}}{x_{0} x_{2} + 0.36289157505549097}$"
      ],
      "text/plain": [
       "x0 + x1 + 8.195195874674509 + x3/(8.195195874674509**(0.9324193164151394/x3)*(x0*x2 + 0.36289157505549097))"
      ]
     },
     "metadata": {},
     "output_type": "display_data"
    }
   ],
   "source": [
    "test_relation(df_purge[['log_B/T','Core','Pseudobulge','bvtc']],\n",
    "              operator='adv',ncyclesperiteration=5000,niterations=100)"
   ]
  },
  {
   "cell_type": "code",
   "execution_count": 30,
   "id": "aeb1ebb3",
   "metadata": {
    "scrolled": true
   },
   "outputs": [
    {
     "name": "stderr",
     "output_type": "stream",
     "text": [
      "/home/zj448/miniconda3/lib/python3.9/site-packages/pysr/sr.py:1257: UserWarning: Note: it looks like you are running in Jupyter. The progress bar will be turned off.\n",
      "  warnings.warn(\n"
     ]
    },
    {
     "name": "stdout",
     "output_type": "stream",
     "text": [
      "parameters:\n",
      "x 0 : log_B/T\n",
      "Eq. selected rmse: 0.5343759014779244\n"
     ]
    },
    {
     "data": {
      "text/latex": [
       "$\\displaystyle 2.4038646332441767 x_{0} + 9.172188636560767$"
      ],
      "text/plain": [
       "2.4038646332441767*x0 + 9.172188636560767"
      ]
     },
     "metadata": {},
     "output_type": "display_data"
    },
    {
     "name": "stdout",
     "output_type": "stream",
     "text": [
      "Eq. 0 rmse: 0.9082611474700465\n"
     ]
    },
    {
     "data": {
      "text/latex": [
       "$\\displaystyle 8.233873226879686$"
      ],
      "text/plain": [
       "8.233873226879686"
      ]
     },
     "metadata": {},
     "output_type": "display_data"
    },
    {
     "name": "stdout",
     "output_type": "stream",
     "text": [
      "Eq. 1 rmse: 0.6852143063297154\n"
     ]
    },
    {
     "data": {
      "text/latex": [
       "$\\displaystyle x_{0} + 8.624209436393917$"
      ],
      "text/plain": [
       "x0 + 8.624209436393917"
      ]
     },
     "metadata": {},
     "output_type": "display_data"
    },
    {
     "name": "stdout",
     "output_type": "stream",
     "text": [
      "Eq. 2 rmse: 0.5343759014779244\n"
     ]
    },
    {
     "data": {
      "text/latex": [
       "$\\displaystyle 2.4038646332441767 x_{0} + 9.172188636560767$"
      ],
      "text/plain": [
       "2.4038646332441767*x0 + 9.172188636560767"
      ]
     },
     "metadata": {},
     "output_type": "display_data"
    },
    {
     "name": "stdout",
     "output_type": "stream",
     "text": [
      "Eq. 3 rmse: 0.5343759014779242\n"
     ]
    },
    {
     "data": {
      "text/latex": [
       "$\\displaystyle 2.4038646337099174 x_{0} + 9.172188636729759$"
      ],
      "text/plain": [
       "2.4038646337099174*x0 + 9.172188636729759"
      ]
     },
     "metadata": {},
     "output_type": "display_data"
    },
    {
     "name": "stdout",
     "output_type": "stream",
     "text": [
      "Eq. 4 rmse: 0.5343759014779242\n"
     ]
    },
    {
     "data": {
      "text/latex": [
       "$\\displaystyle 2.403864634094134 x_{0} + 9.172188636871152$"
      ],
      "text/plain": [
       "2.403864634094134*x0 + 9.172188636871152"
      ]
     },
     "metadata": {},
     "output_type": "display_data"
    },
    {
     "name": "stdout",
     "output_type": "stream",
     "text": [
      "Eq. 5 rmse: 0.4990685736042352\n"
     ]
    },
    {
     "data": {
      "text/latex": [
       "$\\displaystyle x_{0} + \\frac{x_{0}}{0.003958904890797652 - 0.66166323628334422 x_{0}} + 9.646561232462664$"
      ],
      "text/plain": [
       "x0 + x0/(0.003958904890797652 - 0.66166323628334422*x0) + 9.646561232462664"
      ]
     },
     "metadata": {},
     "output_type": "display_data"
    },
    {
     "name": "stdout",
     "output_type": "stream",
     "text": [
      "Eq. 6 rmse: 0.45787470574717665\n"
     ]
    },
    {
     "data": {
      "text/latex": [
       "$\\displaystyle 1.602552235287602 x_{0} + \\frac{x_{0}}{0.003958904890797652 - x_{0}} + 9.646561232462664$"
      ],
      "text/plain": [
       "1.602552235287602*x0 + x0/(0.003958904890797652 - x0) + 9.646561232462664"
      ]
     },
     "metadata": {},
     "output_type": "display_data"
    },
    {
     "name": "stdout",
     "output_type": "stream",
     "text": [
      "Eq. 7 rmse: 0.4567789709898739\n"
     ]
    },
    {
     "data": {
      "text/latex": [
       "$\\displaystyle 1.4989328255277465 x_{0} + \\frac{x_{0}}{0.004416500260900335 - x_{0}} + 9.595134237160488$"
      ],
      "text/plain": [
       "1.4989328255277465*x0 + x0/(0.004416500260900335 - x0) + 9.595134237160488"
      ]
     },
     "metadata": {},
     "output_type": "display_data"
    },
    {
     "name": "stdout",
     "output_type": "stream",
     "text": [
      "Eq. 8 rmse: 0.4567777457880693\n"
     ]
    },
    {
     "data": {
      "text/latex": [
       "$\\displaystyle 1.5010671768848297 x_{0} + \\frac{x_{0}}{0.004416499468031244 - x_{0}} + 9.595134239935119$"
      ],
      "text/plain": [
       "1.5010671768848297*x0 + x0/(0.004416499468031244 - x0) + 9.595134239935119"
      ]
     },
     "metadata": {},
     "output_type": "display_data"
    }
   ],
   "source": [
    "test_relation(df_purge[['log_B/T']],\n",
    "              operator='basic')"
   ]
  },
  {
   "cell_type": "code",
   "execution_count": 29,
   "id": "289c2dfb",
   "metadata": {
    "scrolled": true
   },
   "outputs": [
    {
     "name": "stderr",
     "output_type": "stream",
     "text": [
      "/home/zj448/miniconda3/lib/python3.9/site-packages/pysr/sr.py:1257: UserWarning: Note: it looks like you are running in Jupyter. The progress bar will be turned off.\n",
      "  warnings.warn(\n"
     ]
    },
    {
     "name": "stdout",
     "output_type": "stream",
     "text": [
      "parameters:\n",
      "x 0 : logRho_soi_approx_new\n",
      "x 1 : Core\n",
      "x 2 : Pseudobulge\n",
      "x 3 : bvtc\n",
      "Eq. selected rmse: 0.37872711353070854\n"
     ]
    },
    {
     "data": {
      "text/latex": [
       "$\\displaystyle - \\frac{0.37214738758627974 x_{0}}{x_{3}} + x_{1} + 9.344846361321403$"
      ],
      "text/plain": [
       "-0.37214738758627974*x0/x3 + x1 + 9.344846361321403"
      ]
     },
     "metadata": {},
     "output_type": "display_data"
    },
    {
     "name": "stdout",
     "output_type": "stream",
     "text": [
      "Eq. 0 rmse: 0.9082611474700465\n"
     ]
    },
    {
     "data": {
      "text/latex": [
       "$\\displaystyle 8.233873226495525$"
      ],
      "text/plain": [
       "8.233873226495525"
      ]
     },
     "metadata": {},
     "output_type": "display_data"
    },
    {
     "name": "stdout",
     "output_type": "stream",
     "text": [
      "Eq. 1 rmse: 0.6230291145589535\n"
     ]
    },
    {
     "data": {
      "text/latex": [
       "$\\displaystyle x_{1} + 8.002057264779047$"
      ],
      "text/plain": [
       "x1 + 8.002057264779047"
      ]
     },
     "metadata": {},
     "output_type": "display_data"
    },
    {
     "name": "stdout",
     "output_type": "stream",
     "text": [
      "Eq. 2 rmse: 0.5444320659755557\n"
     ]
    },
    {
     "data": {
      "text/latex": [
       "$\\displaystyle e^{x_{1}} + 6.882262201968039$"
      ],
      "text/plain": [
       "exp(x1) + 6.882262201968039"
      ]
     },
     "metadata": {},
     "output_type": "display_data"
    },
    {
     "name": "stdout",
     "output_type": "stream",
     "text": [
      "Eq. 3 rmse: 0.5424135414410268\n"
     ]
    },
    {
     "data": {
      "text/latex": [
       "$\\displaystyle 1.7263578255599608 x_{1} + 7.833675926171959$"
      ],
      "text/plain": [
       "1.7263578255599608*x1 + 7.833675926171959"
      ]
     },
     "metadata": {},
     "output_type": "display_data"
    },
    {
     "name": "stdout",
     "output_type": "stream",
     "text": [
      "Eq. 4 rmse: 0.49898893289319807\n"
     ]
    },
    {
     "data": {
      "text/latex": [
       "$\\displaystyle x_{3} e^{x_{1}} + 7.091311997682209$"
      ],
      "text/plain": [
       "x3*exp(x1) + 7.091311997682209"
      ]
     },
     "metadata": {},
     "output_type": "display_data"
    },
    {
     "name": "stdout",
     "output_type": "stream",
     "text": [
      "Eq. 5 rmse: 0.4666109205187318\n"
     ]
    },
    {
     "data": {
      "text/latex": [
       "$\\displaystyle x_{1} + x_{3}^{x_{0}} + 7.468834157241932$"
      ],
      "text/plain": [
       "x1 + x3**x0 + 7.468834157241932"
      ]
     },
     "metadata": {},
     "output_type": "display_data"
    },
    {
     "name": "stdout",
     "output_type": "stream",
     "text": [
      "Eq. 6 rmse: 0.4500270292556696\n"
     ]
    },
    {
     "data": {
      "text/latex": [
       "$\\displaystyle - x_{0} + e^{x_{3}^{2}} + 8.979151873211016$"
      ],
      "text/plain": [
       "-x0 + exp(x3**2) + 8.979151873211016"
      ]
     },
     "metadata": {},
     "output_type": "display_data"
    },
    {
     "name": "stdout",
     "output_type": "stream",
     "text": [
      "Eq. 7 rmse: 0.37872711353070854\n"
     ]
    },
    {
     "data": {
      "text/latex": [
       "$\\displaystyle - \\frac{0.37214738758627974 x_{0}}{x_{3}} + x_{1} + 9.344846361321403$"
      ],
      "text/plain": [
       "-0.37214738758627974*x0/x3 + x1 + 9.344846361321403"
      ]
     },
     "metadata": {},
     "output_type": "display_data"
    },
    {
     "name": "stdout",
     "output_type": "stream",
     "text": [
      "Eq. 8 rmse: 0.3471982552368474\n"
     ]
    },
    {
     "data": {
      "text/latex": [
       "$\\displaystyle - \\frac{0.3963404378424599 x_{0}}{x_{3}} + x_{1} - 0.3963404378424599 x_{2} + 9.497334472981095$"
      ],
      "text/plain": [
       "-0.3963404378424599*x0/x3 + x1 - 0.3963404378424599*x2 + 9.497334472981095"
      ]
     },
     "metadata": {},
     "output_type": "display_data"
    },
    {
     "name": "stdout",
     "output_type": "stream",
     "text": [
      "Eq. 9 rmse: 0.3366215588566113\n"
     ]
    },
    {
     "data": {
      "text/latex": [
       "$\\displaystyle - \\frac{0.46822407190103144 x_{0}}{x_{3}} + 0.7171869316377688 x_{1} - 0.46822407190103144 x_{2} + 9.825199623507276$"
      ],
      "text/plain": [
       "-0.46822407190103144*x0/x3 + 0.7171869316377688*x1 - 0.46822407190103144*x2 + 9.825199623507276"
      ]
     },
     "metadata": {},
     "output_type": "display_data"
    },
    {
     "name": "stdout",
     "output_type": "stream",
     "text": [
      "Eq. 10 rmse: 0.3356384180243693\n"
     ]
    },
    {
     "data": {
      "text/latex": [
       "$\\displaystyle x_{1} + 9.825199619480022 - 0.4680031339861319 \\cdot 0.7937305023668285^{- x_{1}} \\left(\\frac{x_{0}}{x_{3}} + x_{2}\\right)$"
      ],
      "text/plain": [
       "x1 + 9.825199619480022 - 0.4680031339861319*(x0/x3 + x2)/0.7937305023668285**x1"
      ]
     },
     "metadata": {},
     "output_type": "display_data"
    },
    {
     "name": "stdout",
     "output_type": "stream",
     "text": [
      "Eq. 11 rmse: 0.3349017953162652\n"
     ]
    },
    {
     "data": {
      "text/latex": [
       "$\\displaystyle x_{1} + 9.743899531433712 - 0.4492503488801151 \\cdot 0.7974939172196477^{- x_{1}^{1.0591590250668534}} \\left(\\frac{x_{0}}{x_{3}} + x_{2}\\right)$"
      ],
      "text/plain": [
       "x1 + 9.743899531433712 - 0.4492503488801151*(x0/x3 + x2)/0.7974939172196477**(x1**1.0591590250668534)"
      ]
     },
     "metadata": {},
     "output_type": "display_data"
    },
    {
     "name": "stdout",
     "output_type": "stream",
     "text": [
      "Eq. 12 rmse: 0.33048767071477714\n"
     ]
    },
    {
     "data": {
      "text/latex": [
       "$\\displaystyle - 0.5563254913082196 x_{0} + 0.5563254913082196 x_{1} - 0.5563254913082196 x_{2} + 2.55632549130822 x_{3} + 7.685246782886473$"
      ],
      "text/plain": [
       "-0.5563254913082196*x0 + 0.5563254913082196*x1 - 0.5563254913082196*x2 + 2.55632549130822*x3 + 7.685246782886473"
      ]
     },
     "metadata": {},
     "output_type": "display_data"
    }
   ],
   "source": [
    "test_relation(df_purge[['logRho_soi_approx_new','Core','Pseudobulge','bvtc']],\n",
    "              operator='adv',ncyclesperiteration=5000,niterations=100)"
   ]
  },
  {
   "cell_type": "code",
   "execution_count": 31,
   "id": "464a4ed0",
   "metadata": {
    "scrolled": true
   },
   "outputs": [
    {
     "name": "stderr",
     "output_type": "stream",
     "text": [
      "/home/zj448/miniconda3/lib/python3.9/site-packages/pysr/sr.py:1257: UserWarning: Note: it looks like you are running in Jupyter. The progress bar will be turned off.\n",
      "  warnings.warn(\n"
     ]
    },
    {
     "name": "stdout",
     "output_type": "stream",
     "text": [
      "parameters:\n",
      "x 0 : logRho_soi_approx_new\n",
      "Eq. selected rmse: 0.5193343134059939\n"
     ]
    },
    {
     "data": {
      "text/latex": [
       "$\\displaystyle - x_{0} + 11.22109883685044 - \\frac{0.4776882662418319}{11.496328036491812 - \\frac{0.262933001277628}{0.48113952681713973 x_{0} - 1.325148863836916}}$"
      ],
      "text/plain": [
       "-x0 + 11.22109883685044 - 0.4776882662418319/(11.496328036491812 - 0.262933001277628/(0.48113952681713973*x0 - 1.325148863836916))"
      ]
     },
     "metadata": {},
     "output_type": "display_data"
    },
    {
     "name": "stdout",
     "output_type": "stream",
     "text": [
      "Eq. 0 rmse: 0.9082611474700466\n"
     ]
    },
    {
     "data": {
      "text/latex": [
       "$\\displaystyle 8.23387323606159$"
      ],
      "text/plain": [
       "8.23387323606159"
      ]
     },
     "metadata": {},
     "output_type": "display_data"
    },
    {
     "name": "stdout",
     "output_type": "stream",
     "text": [
      "Eq. 1 rmse: 0.6437077875005223\n"
     ]
    },
    {
     "data": {
      "text/latex": [
       "$\\displaystyle 10.914146952334718 - x_{0}$"
      ],
      "text/plain": [
       "10.914146952334718 - x0"
      ]
     },
     "metadata": {},
     "output_type": "display_data"
    },
    {
     "name": "stdout",
     "output_type": "stream",
     "text": [
      "Eq. 2 rmse: 0.6409432800213954\n"
     ]
    },
    {
     "data": {
      "text/latex": [
       "$\\displaystyle 10.686977885815613 - 0.9152440794736585 x_{0}$"
      ],
      "text/plain": [
       "10.686977885815613 - 0.9152440794736585*x0"
      ]
     },
     "metadata": {},
     "output_type": "display_data"
    },
    {
     "name": "stdout",
     "output_type": "stream",
     "text": [
      "Eq. 3 rmse: 0.6381531046767616\n"
     ]
    },
    {
     "data": {
      "text/latex": [
       "$\\displaystyle 0.030141368738996335 x_{0}^{2} - x_{0} + 10.686977885815613$"
      ],
      "text/plain": [
       "0.030141368738996335*x0**2 - x0 + 10.686977885815613"
      ]
     },
     "metadata": {},
     "output_type": "display_data"
    },
    {
     "name": "stdout",
     "output_type": "stream",
     "text": [
      "Eq. 4 rmse: 0.6164174291903236\n"
     ]
    },
    {
     "data": {
      "text/latex": [
       "$\\displaystyle - x_{0} + 10.914146952334718 - \\frac{0.03161628615291039}{x_{0} \\left(x_{0} - 2.723788175593985\\right)}$"
      ],
      "text/plain": [
       "-x0 + 10.914146952334718 - 0.03161628615291039/(x0*(x0 - 2.723788175593985))"
      ]
     },
     "metadata": {},
     "output_type": "display_data"
    },
    {
     "name": "stdout",
     "output_type": "stream",
     "text": [
      "Eq. 5 rmse: 0.5193343134059939\n"
     ]
    },
    {
     "data": {
      "text/latex": [
       "$\\displaystyle - x_{0} + 11.22109883685044 - \\frac{0.4776882662418319}{11.496328036491812 - \\frac{0.262933001277628}{0.48113952681713973 x_{0} - 1.325148863836916}}$"
      ],
      "text/plain": [
       "-x0 + 11.22109883685044 - 0.4776882662418319/(11.496328036491812 - 0.262933001277628/(0.48113952681713973*x0 - 1.325148863836916))"
      ]
     },
     "metadata": {},
     "output_type": "display_data"
    },
    {
     "name": "stdout",
     "output_type": "stream",
     "text": [
      "Eq. 6 rmse: 0.5159083087031192\n"
     ]
    },
    {
     "data": {
      "text/latex": [
       "$\\displaystyle - x_{0} + 11.214661947675369 - \\frac{1.0979788116179146}{x_{0} \\cdot \\left(11.214661947675369 - \\frac{0.5826292409198883}{0.4160123693993228 x_{0} - 1.1123616444448778}\\right)}$"
      ],
      "text/plain": [
       "-x0 + 11.214661947675369 - 1.0979788116179146/(x0*(11.214661947675369 - 0.5826292409198883/(0.4160123693993228*x0 - 1.1123616444448778)))"
      ]
     },
     "metadata": {},
     "output_type": "display_data"
    },
    {
     "name": "stdout",
     "output_type": "stream",
     "text": [
      "Eq. 7 rmse: 0.514597079968445\n"
     ]
    },
    {
     "data": {
      "text/latex": [
       "$\\displaystyle - x_{0} + 11.214661947675369 - \\frac{1.166122194906897}{x_{0} \\left(x_{0} + 8.453162754747352 - \\frac{0.5826292409198883}{0.4160123693993228 x_{0} - 1.1123616444448778}\\right)}$"
      ],
      "text/plain": [
       "-x0 + 11.214661947675369 - 1.166122194906897/(x0*(x0 + 8.453162754747352 - 0.5826292409198883/(0.4160123693993228*x0 - 1.1123616444448778)))"
      ]
     },
     "metadata": {},
     "output_type": "display_data"
    }
   ],
   "source": [
    "test_relation(df_purge[['logRho_soi_approx_new']],\n",
    "              operator='basic')"
   ]
  },
  {
   "cell_type": "code",
   "execution_count": null,
   "id": "ce49b5f6",
   "metadata": {},
   "outputs": [],
   "source": []
  },
  {
   "cell_type": "code",
   "execution_count": null,
   "id": "8ba095c3",
   "metadata": {},
   "outputs": [],
   "source": []
  },
  {
   "cell_type": "code",
   "execution_count": null,
   "id": "838fc453",
   "metadata": {},
   "outputs": [],
   "source": []
  },
  {
   "cell_type": "code",
   "execution_count": null,
   "id": "047e6e02",
   "metadata": {},
   "outputs": [],
   "source": []
  },
  {
   "cell_type": "code",
   "execution_count": null,
   "id": "d78f99f7",
   "metadata": {},
   "outputs": [],
   "source": []
  },
  {
   "cell_type": "code",
   "execution_count": null,
   "id": "89f562d7",
   "metadata": {},
   "outputs": [],
   "source": []
  },
  {
   "cell_type": "code",
   "execution_count": null,
   "id": "219fd36c",
   "metadata": {},
   "outputs": [],
   "source": []
  },
  {
   "cell_type": "code",
   "execution_count": null,
   "id": "b4be5e13",
   "metadata": {},
   "outputs": [],
   "source": []
  },
  {
   "cell_type": "code",
   "execution_count": 24,
   "id": "f4719b49",
   "metadata": {
    "scrolled": true
   },
   "outputs": [
    {
     "name": "stderr",
     "output_type": "stream",
     "text": [
      "/home/zj448/miniconda3/lib/python3.9/site-packages/pysr/sr.py:1257: UserWarning: Note: it looks like you are running in Jupyter. The progress bar will be turned off.\n",
      "  warnings.warn(\n"
     ]
    },
    {
     "name": "stdout",
     "output_type": "stream",
     "text": [
      "parameters:\n",
      "x 0 : log_sigma0\n",
      "x 1 : M*_sph\n",
      "x 2 : log_B/T\n",
      "x 3 : log_R_e_sph_eq_kpc\n",
      "x 4 : bvtc\n",
      "Eq. selected rmse: 0.329364648861592\n"
     ]
    },
    {
     "data": {
      "text/latex": [
       "$\\displaystyle x_{0} + x_{1} - 4.629624361399525$"
      ],
      "text/plain": [
       "x0 + x1 - 4.629624361399525"
      ]
     },
     "metadata": {},
     "output_type": "display_data"
    },
    {
     "name": "stdout",
     "output_type": "stream",
     "text": [
      "Eq. 0 rmse: 0.9082611474700465\n"
     ]
    },
    {
     "data": {
      "text/latex": [
       "$\\displaystyle 8.233873226495527$"
      ],
      "text/plain": [
       "8.233873226495527"
      ]
     },
     "metadata": {},
     "output_type": "display_data"
    },
    {
     "name": "stdout",
     "output_type": "stream",
     "text": [
      "Eq. 1 rmse: 0.3773721087118079\n"
     ]
    },
    {
     "data": {
      "text/latex": [
       "$\\displaystyle x_{1} - 2.375731932812239$"
      ],
      "text/plain": [
       "x1 - 2.375731932812239"
      ]
     },
     "metadata": {},
     "output_type": "display_data"
    },
    {
     "name": "stdout",
     "output_type": "stream",
     "text": [
      "Eq. 2 rmse: 0.329364648861592\n"
     ]
    },
    {
     "data": {
      "text/latex": [
       "$\\displaystyle x_{0} + x_{1} - 4.629624361399525$"
      ],
      "text/plain": [
       "x0 + x1 - 4.629624361399525"
      ]
     },
     "metadata": {},
     "output_type": "display_data"
    },
    {
     "name": "stdout",
     "output_type": "stream",
     "text": [
      "Eq. 3 rmse: 0.32674709475338787\n"
     ]
    },
    {
     "data": {
      "text/latex": [
       "$\\displaystyle x_{1} - 2.0931722485929827 x_{1} e^{- x_{0}}$"
      ],
      "text/plain": [
       "x1 - 2.0931722485929827*x1*exp(-x0)"
      ]
     },
     "metadata": {},
     "output_type": "display_data"
    },
    {
     "name": "stdout",
     "output_type": "stream",
     "text": [
      "Eq. 4 rmse: 0.3205746074178049\n"
     ]
    },
    {
     "data": {
      "text/latex": [
       "$\\displaystyle x_{0} + x_{1} - \\frac{x_{1}}{x_{0} + 0.03760686599761503}$"
      ],
      "text/plain": [
       "x0 + x1 - x1/(x0 + 0.03760686599761503)"
      ]
     },
     "metadata": {},
     "output_type": "display_data"
    },
    {
     "name": "stdout",
     "output_type": "stream",
     "text": [
      "Eq. 5 rmse: 0.3158085269218585\n"
     ]
    },
    {
     "data": {
      "text/latex": [
       "$\\displaystyle x_{1} - 2.2013029808567346 \\left(\\frac{e^{x_{0}}}{x_{1}}\\right)^{- x_{4}}$"
      ],
      "text/plain": [
       "x1 - 2.2013029808567346/(exp(x0)/x1)**x4"
      ]
     },
     "metadata": {},
     "output_type": "display_data"
    },
    {
     "name": "stdout",
     "output_type": "stream",
     "text": [
      "Eq. 6 rmse: 0.31341465638871646\n"
     ]
    },
    {
     "data": {
      "text/latex": [
       "$\\displaystyle - \\frac{0.9045576919788492 x_{0}}{\\left(\\frac{e^{x_{0}}}{x_{1}}\\right)^{1.427100430453654}} + x_{1}$"
      ],
      "text/plain": [
       "-0.9045576919788492*x0/(exp(x0)/x1)**1.427100430453654 + x1"
      ]
     },
     "metadata": {},
     "output_type": "display_data"
    },
    {
     "name": "stdout",
     "output_type": "stream",
     "text": [
      "Eq. 7 rmse: 0.31305797852318884\n"
     ]
    },
    {
     "data": {
      "text/latex": [
       "$\\displaystyle - \\frac{x_{0}}{\\left(\\frac{e^{x_{0}}}{x_{1}}\\right)^{1.449493076697433}} + x_{1} + 0.2528214787123944$"
      ],
      "text/plain": [
       "-x0/(exp(x0)/x1)**1.449493076697433 + x1 + 0.2528214787123944"
      ]
     },
     "metadata": {},
     "output_type": "display_data"
    },
    {
     "name": "stdout",
     "output_type": "stream",
     "text": [
      "Eq. 8 rmse: 0.29930735377739814\n"
     ]
    },
    {
     "data": {
      "text/latex": [
       "$\\displaystyle x_{1} - \\left(x_{0} \\left(\\frac{e^{x_{0}}}{x_{1}}\\right)^{- x_{0} x_{4}}\\right)^{0.8995556715184303}$"
      ],
      "text/plain": [
       "x1 - (x0/(exp(x0)/x1)**(x0*x4))**0.8995556715184303"
      ]
     },
     "metadata": {},
     "output_type": "display_data"
    },
    {
     "name": "stdout",
     "output_type": "stream",
     "text": [
      "Eq. 9 rmse: 0.2985299108394033\n"
     ]
    },
    {
     "data": {
      "text/latex": [
       "$\\displaystyle - 0.9072899284603595 x_{0} \\left(\\frac{e^{x_{0}}}{x_{1}}\\right)^{0.23675489917048909 - x_{0}^{x_{4}}} + x_{1}$"
      ],
      "text/plain": [
       "-0.9072899284603595*x0*(exp(x0)/x1)**(0.23675489917048909 - x0**x4) + x1"
      ]
     },
     "metadata": {},
     "output_type": "display_data"
    },
    {
     "name": "stdout",
     "output_type": "stream",
     "text": [
      "Eq. 10 rmse: 0.29780739600690764\n"
     ]
    },
    {
     "data": {
      "text/latex": [
       "$\\displaystyle - 0.8995556715184303 x_{0} \\left(\\frac{e^{x_{0}}}{x_{1}}\\right)^{- \\left(x_{0} - 0.576675525143513\\right) \\left(x_{4} + 0.23527576077790194\\right)} + x_{1}$"
      ],
      "text/plain": [
       "-0.8995556715184303*x0/(exp(x0)/x1)**((x0 - 0.576675525143513)*(x4 + 0.23527576077790194)) + x1"
      ]
     },
     "metadata": {},
     "output_type": "display_data"
    },
    {
     "name": "stdout",
     "output_type": "stream",
     "text": [
      "Eq. 11 rmse: 0.2903757582404747\n"
     ]
    },
    {
     "data": {
      "text/latex": [
       "$\\displaystyle x_{1} + x_{4} + 1.2180016784135235 - \\frac{- 0.8184235209004481^{x_{1}^{x_{2} - 21.79654778639945 x_{3}}} + x_{1}}{x_{0}}$"
      ],
      "text/plain": [
       "x1 + x4 + 1.2180016784135235 - (-0.8184235209004481**(x1**(x2 - 21.79654778639945*x3)) + x1)/x0"
      ]
     },
     "metadata": {},
     "output_type": "display_data"
    }
   ],
   "source": [
    "test_relation(df_purge[['log_sigma0','M*_sph','log_B/T','log_R_e_sph_eq_kpc','bvtc']],\n",
    "             operator='adv',ncyclesperiteration=5000,niterations=100)"
   ]
  },
  {
   "cell_type": "code",
   "execution_count": 60,
   "id": "11aafc39",
   "metadata": {
    "scrolled": true
   },
   "outputs": [
    {
     "name": "stderr",
     "output_type": "stream",
     "text": [
      "/home/zj448/miniconda3/lib/python3.9/site-packages/pysr/sr.py:1257: UserWarning: Note: it looks like you are running in Jupyter. The progress bar will be turned off.\n",
      "  warnings.warn(\n"
     ]
    },
    {
     "name": "stdout",
     "output_type": "stream",
     "text": [
      "parameters:\n",
      "x 0 : M*_sph\n",
      "x 1 : log_B/T\n",
      "x 2 : log_R_e_sph_eq_kpc\n",
      "x 3 : logRho_soi_approx_new\n",
      "x 4 : bvtc\n",
      "Eq. selected rmse: 0.2747373318814779\n"
     ]
    },
    {
     "data": {
      "text/latex": [
       "$\\displaystyle x_{0} - 0.367939220923753 x_{3} - 1.3895541062258188$"
      ],
      "text/plain": [
       "x0 - 0.367939220923753*x3 - 1.3895541062258188"
      ]
     },
     "metadata": {},
     "output_type": "display_data"
    },
    {
     "name": "stdout",
     "output_type": "stream",
     "text": [
      "Eq. 0 rmse: 0.9082611474700466\n"
     ]
    },
    {
     "data": {
      "text/latex": [
       "$\\displaystyle 8.233873226494852$"
      ],
      "text/plain": [
       "8.233873226494852"
      ]
     },
     "metadata": {},
     "output_type": "display_data"
    },
    {
     "name": "stdout",
     "output_type": "stream",
     "text": [
      "Eq. 1 rmse: 0.37737210871180804\n"
     ]
    },
    {
     "data": {
      "text/latex": [
       "$\\displaystyle x_{0} - 2.3757319316033025$"
      ],
      "text/plain": [
       "x0 - 2.3757319316033025"
      ]
     },
     "metadata": {},
     "output_type": "display_data"
    },
    {
     "name": "stdout",
     "output_type": "stream",
     "text": [
      "Eq. 2 rmse: 0.37737210871180804\n"
     ]
    },
    {
     "data": {
      "text/latex": [
       "$\\displaystyle x_{0} - 2.3757319328140092$"
      ],
      "text/plain": [
       "x0 - 2.3757319328140092"
      ]
     },
     "metadata": {},
     "output_type": "display_data"
    },
    {
     "name": "stdout",
     "output_type": "stream",
     "text": [
      "Eq. 3 rmse: 0.2747373318814779\n"
     ]
    },
    {
     "data": {
      "text/latex": [
       "$\\displaystyle x_{0} - 0.367939220923753 x_{3} - 1.3895541062258188$"
      ],
      "text/plain": [
       "x0 - 0.367939220923753*x3 - 1.3895541062258188"
      ]
     },
     "metadata": {},
     "output_type": "display_data"
    },
    {
     "name": "stdout",
     "output_type": "stream",
     "text": [
      "Eq. 4 rmse: 0.2723066477343874\n"
     ]
    },
    {
     "data": {
      "text/latex": [
       "$\\displaystyle x_{0} - 0.3679392204050875 x_{3} + 0.3679392204050875 x_{4} - 1.6364756247250757$"
      ],
      "text/plain": [
       "x0 - 0.3679392204050875*x3 + 0.3679392204050875*x4 - 1.6364756247250757"
      ]
     },
     "metadata": {},
     "output_type": "display_data"
    },
    {
     "name": "stdout",
     "output_type": "stream",
     "text": [
      "Eq. 5 rmse: 0.26669894604897854\n"
     ]
    },
    {
     "data": {
      "text/latex": [
       "$\\displaystyle x_{0} + x_{3} \\left(-0.3730393885577817 - \\frac{0.003348862622514976}{1.5312140549185156 - x_{3}}\\right) - 1.3895541077058078$"
      ],
      "text/plain": [
       "x0 + x3*(-0.3730393885577817 - 0.003348862622514976/(1.5312140549185156 - x3)) - 1.3895541077058078"
      ]
     },
     "metadata": {},
     "output_type": "display_data"
    },
    {
     "name": "stdout",
     "output_type": "stream",
     "text": [
      "Eq. 6 rmse: 0.2665057876529321\n"
     ]
    },
    {
     "data": {
      "text/latex": [
       "$\\displaystyle x_{0} + x_{3} \\left(-0.3730393885577817 - \\frac{0.003725570519150167}{1.5312140549185156 - x_{3}}\\right) - 1.3895541077058078$"
      ],
      "text/plain": [
       "x0 + x3*(-0.3730393885577817 - 0.003725570519150167/(1.5312140549185156 - x3)) - 1.3895541077058078"
      ]
     },
     "metadata": {},
     "output_type": "display_data"
    },
    {
     "name": "stdout",
     "output_type": "stream",
     "text": [
      "Eq. 7 rmse: 0.26102916231529216\n"
     ]
    },
    {
     "data": {
      "text/latex": [
       "$\\displaystyle x_{0} - 0.38311145245651584 x_{3} - 1.3830800569526778 - \\frac{x_{4} \\left(- x_{1} + x_{2} - x_{4}\\right)}{x_{3}}$"
      ],
      "text/plain": [
       "x0 - 0.38311145245651584*x3 - 1.3830800569526778 - x4*(-x1 + x2 - x4)/x3"
      ]
     },
     "metadata": {},
     "output_type": "display_data"
    },
    {
     "name": "stdout",
     "output_type": "stream",
     "text": [
      "Eq. 8 rmse: 0.25548029648935233\n"
     ]
    },
    {
     "data": {
      "text/latex": [
       "$\\displaystyle x_{0} + 0.23803846529954922 x_{1} - 0.23803846529954922 x_{2}^{3} - 0.3914038719979799 x_{3} - 1.1817491545128009$"
      ],
      "text/plain": [
       "x0 + 0.23803846529954922*x1 - 0.23803846529954922*x2**3 - 0.3914038719979799*x3 - 1.1817491545128009"
      ]
     },
     "metadata": {},
     "output_type": "display_data"
    },
    {
     "name": "stdout",
     "output_type": "stream",
     "text": [
      "Eq. 9 rmse: 0.2533916266585857\n"
     ]
    },
    {
     "data": {
      "text/latex": [
       "$\\displaystyle x_{0} - 0.3914038719979799 x_{3} - x_{4} \\left(- 0.24029955490403454 x_{1} + 0.24029955490403454 x_{2}^{3} - 0.23923681328349893\\right) - 1.4102148339788227$"
      ],
      "text/plain": [
       "x0 - 0.3914038719979799*x3 - x4*(-0.24029955490403454*x1 + 0.24029955490403454*x2**3 - 0.23923681328349893) - 1.4102148339788227"
      ]
     },
     "metadata": {},
     "output_type": "display_data"
    }
   ],
   "source": [
    "test_relation(df_purge[['M*_sph','log_B/T','log_R_e_sph_eq_kpc','logRho_soi_approx_new','bvtc','Core', 'Pseudobulge']],\n",
    "             operator='basic')\n",
    "\n",
    "# M/rho"
   ]
  },
  {
   "cell_type": "code",
   "execution_count": 23,
   "id": "b55137d0",
   "metadata": {
    "scrolled": true
   },
   "outputs": [
    {
     "name": "stderr",
     "output_type": "stream",
     "text": [
      "/home/zj448/miniconda3/lib/python3.9/site-packages/pysr/sr.py:1257: UserWarning: Note: it looks like you are running in Jupyter. The progress bar will be turned off.\n",
      "  warnings.warn(\n"
     ]
    },
    {
     "name": "stdout",
     "output_type": "stream",
     "text": [
      "parameters:\n",
      "x 0 : log_sigma0\n",
      "x 1 : M*_sph\n",
      "x 2 : log_B/T\n",
      "x 3 : log_R_e_sph_eq_kpc\n",
      "x 4 : logRho_soi_approx_new\n",
      "x 5 : bvtc\n",
      "Eq. selected rmse: 0.2243499286483178\n"
     ]
    },
    {
     "data": {
      "text/latex": [
       "$\\displaystyle 3 x_{0} + x_{5} + \\frac{2.316157775396172}{0.003087585905507589^{x_{3}} + x_{4} + 0.4132007793521253}$"
      ],
      "text/plain": [
       "3*x0 + x5 + 2.316157775396172/(0.003087585905507589**x3 + x4 + 0.4132007793521253)"
      ]
     },
     "metadata": {},
     "output_type": "display_data"
    },
    {
     "name": "stdout",
     "output_type": "stream",
     "text": [
      "Eq. 0 rmse: 0.9082611474700465\n"
     ]
    },
    {
     "data": {
      "text/latex": [
       "$\\displaystyle 8.233873226494167$"
      ],
      "text/plain": [
       "8.233873226494167"
      ]
     },
     "metadata": {},
     "output_type": "display_data"
    },
    {
     "name": "stdout",
     "output_type": "stream",
     "text": [
      "Eq. 1 rmse: 0.3773721087118078\n"
     ]
    },
    {
     "data": {
      "text/latex": [
       "$\\displaystyle x_{1} - 2.3757319328128252$"
      ],
      "text/plain": [
       "x1 - 2.3757319328128252"
      ]
     },
     "metadata": {},
     "output_type": "display_data"
    },
    {
     "name": "stdout",
     "output_type": "stream",
     "text": [
      "Eq. 2 rmse: 0.3594918745593374\n"
     ]
    },
    {
     "data": {
      "text/latex": [
       "$\\displaystyle - 1.34358628657528^{x_{4}} + x_{1}$"
      ],
      "text/plain": [
       "-1.34358628657528**x4 + x1"
      ]
     },
     "metadata": {},
     "output_type": "display_data"
    },
    {
     "name": "stdout",
     "output_type": "stream",
     "text": [
      "Eq. 3 rmse: 0.30442673081119753\n"
     ]
    },
    {
     "data": {
      "text/latex": [
       "$\\displaystyle x_{1} - \\frac{\\log{\\left(x_{4} \\right)}}{\\log{\\left(10 \\right)}} - 1.9672202507026717$"
      ],
      "text/plain": [
       "x1 - log(x4)/log(10) - 1.9672202507026717"
      ]
     },
     "metadata": {},
     "output_type": "display_data"
    },
    {
     "name": "stdout",
     "output_type": "stream",
     "text": [
      "Eq. 4 rmse: 0.274737331881478\n"
     ]
    },
    {
     "data": {
      "text/latex": [
       "$\\displaystyle x_{1} - 0.3679392209168597 x_{4} - 1.3895541062623804$"
      ],
      "text/plain": [
       "x1 - 0.3679392209168597*x4 - 1.3895541062623804"
      ]
     },
     "metadata": {},
     "output_type": "display_data"
    },
    {
     "name": "stdout",
     "output_type": "stream",
     "text": [
      "Eq. 5 rmse: 0.26854107014769835\n"
     ]
    },
    {
     "data": {
      "text/latex": [
       "$\\displaystyle 0.33165657067808335 x_{0} + x_{1} - 0.33165657067808335 x_{4} - 2.2343197746957735$"
      ],
      "text/plain": [
       "0.33165657067808335*x0 + x1 - 0.33165657067808335*x4 - 2.2343197746957735"
      ]
     },
     "metadata": {},
     "output_type": "display_data"
    },
    {
     "name": "stdout",
     "output_type": "stream",
     "text": [
      "Eq. 6 rmse: 0.260688162941692\n"
     ]
    },
    {
     "data": {
      "text/latex": [
       "$\\displaystyle 0.85007477646188867 x_{1} - 0.33869604869666335 x_{4} + 0.85007477646188867 x_{5}^{x_{1}}$"
      ],
      "text/plain": [
       "0.85007477646188867*x1 - 0.33869604869666335*x4 + 0.85007477646188867*x5**x1"
      ]
     },
     "metadata": {},
     "output_type": "display_data"
    },
    {
     "name": "stdout",
     "output_type": "stream",
     "text": [
      "Eq. 7 rmse: 0.257702970326175\n"
     ]
    },
    {
     "data": {
      "text/latex": [
       "$\\displaystyle 0.85007477646188867 x_{1} - 0.33869604869666335 x_{4} + 0.85007477646188867 x_{5}^{x_{1} + x_{4}}$"
      ],
      "text/plain": [
       "0.85007477646188867*x1 - 0.33869604869666335*x4 + 0.85007477646188867*x5**(x1 + x4)"
      ]
     },
     "metadata": {},
     "output_type": "display_data"
    },
    {
     "name": "stdout",
     "output_type": "stream",
     "text": [
      "Eq. 8 rmse: 0.25429367293653904\n"
     ]
    },
    {
     "data": {
      "text/latex": [
       "$\\displaystyle 3 x_{0} + 0.57216833690760492 x_{3} + 1.0199542430684498 + \\frac{x_{5}}{x_{4}}$"
      ],
      "text/plain": [
       "3*x0 + 0.57216833690760492*x3 + 1.0199542430684498 + x5/x4"
      ]
     },
     "metadata": {},
     "output_type": "display_data"
    },
    {
     "name": "stdout",
     "output_type": "stream",
     "text": [
      "Eq. 9 rmse: 0.25230832353916205\n"
     ]
    },
    {
     "data": {
      "text/latex": [
       "$\\displaystyle 3 x_{0} + 0.46307227795849643 x_{3} + \\frac{\\log{\\left(x_{1} \\right)}}{\\log{\\left(10 \\right)}} + \\frac{x_{5}}{x_{4}}$"
      ],
      "text/plain": [
       "3*x0 + 0.46307227795849643*x3 + log(x1)/log(10) + x5/x4"
      ]
     },
     "metadata": {},
     "output_type": "display_data"
    },
    {
     "name": "stdout",
     "output_type": "stream",
     "text": [
      "Eq. 10 rmse: 0.2243499286483178\n"
     ]
    },
    {
     "data": {
      "text/latex": [
       "$\\displaystyle 3 x_{0} + x_{5} + \\frac{2.316157775396172}{0.003087585905507589^{x_{3}} + x_{4} + 0.4132007793521253}$"
      ],
      "text/plain": [
       "3*x0 + x5 + 2.316157775396172/(0.003087585905507589**x3 + x4 + 0.4132007793521253)"
      ]
     },
     "metadata": {},
     "output_type": "display_data"
    },
    {
     "name": "stdout",
     "output_type": "stream",
     "text": [
      "Eq. 11 rmse: 0.20628293000567036\n"
     ]
    },
    {
     "data": {
      "text/latex": [
       "$\\displaystyle 2 x_{0} + \\frac{x_{0}}{0.27176271593206835^{x_{3} x_{4}^{x_{0}}} + x_{4}} + x_{5} + 2.250298453453059$"
      ],
      "text/plain": [
       "2*x0 + x0/(0.27176271593206835**(x3*x4**x0) + x4) + x5 + 2.250298453453059"
      ]
     },
     "metadata": {},
     "output_type": "display_data"
    }
   ],
   "source": [
    "test_relation(df_purge[['log_sigma0','M*_sph','log_B/T','log_R_e_sph_eq_kpc','logRho_soi_approx_new','bvtc']],\n",
    "             operator='adv',ncyclesperiteration=5000,niterations=terations=100)"
   ]
  },
  {
   "cell_type": "code",
   "execution_count": null,
   "id": "e72ed499",
   "metadata": {},
   "outputs": [],
   "source": []
  }
 ],
 "metadata": {
  "kernelspec": {
   "display_name": "Python 3 (ipykernel)",
   "language": "python",
   "name": "python3"
  },
  "language_info": {
   "codemirror_mode": {
    "name": "ipython",
    "version": 3
   },
   "file_extension": ".py",
   "mimetype": "text/x-python",
   "name": "python",
   "nbconvert_exporter": "python",
   "pygments_lexer": "ipython3",
   "version": "3.9.5"
  }
 },
 "nbformat": 4,
 "nbformat_minor": 5
}
