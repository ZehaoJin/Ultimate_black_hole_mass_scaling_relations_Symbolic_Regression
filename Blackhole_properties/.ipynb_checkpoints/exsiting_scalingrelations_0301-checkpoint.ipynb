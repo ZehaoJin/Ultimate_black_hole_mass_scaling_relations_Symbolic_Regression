{
 "cells": [
  {
   "cell_type": "code",
   "execution_count": 1,
   "id": "2b89024e",
   "metadata": {},
   "outputs": [],
   "source": [
    "import numpy as np\n",
    "import pandas as pd\n",
    "from pysr import PySRRegressor\n",
    "from IPython.display import HTML\n",
    "from matplotlib import pyplot as plt"
   ]
  },
  {
   "cell_type": "code",
   "execution_count": 50,
   "id": "4c3ed5fc",
   "metadata": {},
   "outputs": [],
   "source": [
    "df_clean = pd.read_csv('clean_table_MBH.csv')"
   ]
  },
  {
   "cell_type": "code",
   "execution_count": 3,
   "id": "1d5a6fbd",
   "metadata": {},
   "outputs": [
    {
     "name": "stdout",
     "output_type": "stream",
     "text": [
      "Index(['T-type', 'Bar', 'Disk', 'Core', 'AGN', 'Pseudobulge', 'M_BH',\n",
      "       'M_BH_std', 'M*_sph', 'M*_gal', 'log_B/T', 'log_sigma0',\n",
      "       'log_R_e_sph_maj', 'log_R_e_sph_eq_kpc', 'log_n_sph_maj',\n",
      "       'log_n_sph_eq', 'log(I_e,sph,maj/M_Sun/pc^2)',\n",
      "       'log(I_e,sph,eq/M_Sun/pc^2)', 'Concentration_Index',\n",
      "       'avg_Rho_1kpc_Exact_All', 'r1_density_approx', 'log10(R10_kpc)',\n",
      "       'logRho_R10_approx', 'log_rho10_Exact', 'log10(R90_kpc)',\n",
      "       'logRho_R90_approx', 'log_rho_90_Exact_all', 'Rho_re_spatial',\n",
      "       'SR_pc_All', 'Rho_SR_pc_All', 'CR_def1_approx_new',\n",
      "       'Rho_cr_def1_approx_new', 'CR_def2_approx_new',\n",
      "       'Rho_CR_def2_approx_new', 'Sr(pc)_2_using_Falserm_drho',\n",
      "       'Log_Approx_Avg_density_10pc', 'log_Rho_e_Exact_new',\n",
      "       'logRho_e_approx_New', 'logRho_soi_approx_new', 'log_Rho_soi_exact_new',\n",
      "       'Avg_Rho_Re_Exact_all', 'Avg_Rho_soi_exact_all', 'Avg_Rho_re_Exact_all',\n",
      "       'Rho_re_Exact_all', 'r_soi_2BH_approx', 'Rho_r_soi_2BH_approx',\n",
      "       'Log_Avg_Rho_10kpc_approx', 'Log_Avg_Rho_10kpc_exact_final',\n",
      "       'Log_Avg_Rho_100pc_approx', 'Log_Avg_Rho_5kpc_approx',\n",
      "       'Log_Avg_rho_5kpc_exact_all'],\n",
      "      dtype='object')\n",
      "51\n"
     ]
    }
   ],
   "source": [
    "nanpercent=0.16\n",
    "cols_to_delete = df_clean.columns[df_clean.isnull().sum()/len(df_clean) > nanpercent]\n",
    "df_lessnan=df_clean.drop(cols_to_delete, axis = 1)\n",
    "df_purge=df_lessnan.dropna(axis='index',how='any')\n",
    "print(df_purge.columns)\n",
    "print(len(df_purge.columns))\n",
    "#HTML(df_purge.to_html())"
   ]
  },
  {
   "cell_type": "code",
   "execution_count": 5,
   "id": "035454e5",
   "metadata": {},
   "outputs": [],
   "source": [
    "## useful functions\n",
    "def x2name(feature_list,df_handson):\n",
    "    for ind in feature_list:\n",
    "        i=int(ind[1:])\n",
    "        print('x',i,':',df_handson.columns[i])\n",
    "\n",
    "def rmse(y,y_pred,w):\n",
    "    return np.sqrt(np.average((y-y_pred)**2,weights=w))\n",
    "\n",
    "def df2name(df):\n",
    "    for i in range(len(df.columns)):\n",
    "        print('x',i,':',df.columns[i])"
   ]
  },
  {
   "cell_type": "code",
   "execution_count": 70,
   "id": "e3b85017",
   "metadata": {},
   "outputs": [],
   "source": [
    "def test_relation(df,operator='simp',ncyclesperiteration=550,niterations=40,denoise=False,adaptive_parsimony_scaling=20,verbosity=0):\n",
    "    y = df_purge['M_BH'].to_numpy()\n",
    "    w = 1/df_purge['M_BH_std'].to_numpy()**2\n",
    "\n",
    "    #df_handson = df\n",
    "    X = df.to_numpy()\n",
    "    #X = df_handson\n",
    "\n",
    "    if operator=='adv':\n",
    "        model = PySRRegressor(\n",
    "            binary_operators=[\"+\", \"-\", \"*\", \"/\",\"pow\"],\n",
    "            unary_operators=[\"exp\",\"log10\", \"tan\"],\n",
    "            warm_start=False,\n",
    "            denoise=denoise,\n",
    "            niterations=niterations,\n",
    "            ncyclesperiteration=ncyclesperiteration,\n",
    "            adaptive_parsimony_scaling=adaptive_parsimony_scaling,\n",
    "            verbosity=verbosity,\n",
    "            precision=64,\n",
    "        )\n",
    "    if operator=='simp':\n",
    "        model = PySRRegressor(\n",
    "            binary_operators=[\"+\", \"-\", \"*\", \"/\", \"pow\"],\n",
    "            warm_start=False,\n",
    "            denoise=denoise,\n",
    "            niterations=niterations,\n",
    "            ncyclesperiteration=ncyclesperiteration,\n",
    "            adaptive_parsimony_scaling=adaptive_parsimony_scaling,\n",
    "            verbosity=verbosity,\n",
    "            precision=64,\n",
    "        )\n",
    "        \n",
    "    if operator=='basic':\n",
    "        model = PySRRegressor(\n",
    "            binary_operators=[\"+\", \"-\", \"*\", \"/\"],\n",
    "            warm_start=False,\n",
    "            denoise=denoise,\n",
    "            niterations=niterations,\n",
    "            ncyclesperiteration=ncyclesperiteration,\n",
    "            adaptive_parsimony_scaling=adaptive_parsimony_scaling,\n",
    "            verbosity=verbosity,\n",
    "            precision=64,\n",
    "        )\n",
    "\n",
    "\n",
    "\n",
    "    model.fit(X=X, y=y, weights=w)\n",
    "\n",
    "    print('parameters:')\n",
    "    df2name(df)\n",
    "    \n",
    "    print('Eq. selected rmse:',rmse(y,model.predict(X),w))\n",
    "    display(model.sympy())\n",
    "    \n",
    "    for i in range(len(model.equations_)):\n",
    "        print('Eq.',i,'rmse:',rmse(y,model.predict(X,index=i),w))\n",
    "        display(model.sympy(index=i))"
   ]
  },
  {
   "cell_type": "code",
   "execution_count": 9,
   "id": "92c6498f",
   "metadata": {},
   "outputs": [
    {
     "data": {
      "text/plain": [
       "Index(['T-type', 'Bar', 'Disk', 'Core', 'AGN', 'Pseudobulge', 'M_BH',\n",
       "       'M_BH_std', 'M*_sph', 'M*_gal', 'log_B/T', 'log_sigma0',\n",
       "       'log_R_e_sph_maj', 'log_R_e_sph_eq_kpc', 'log_n_sph_maj',\n",
       "       'log_n_sph_eq', 'log(I_e,sph,maj/M_Sun/pc^2)',\n",
       "       'log(I_e,sph,eq/M_Sun/pc^2)', 'Concentration_Index',\n",
       "       'avg_Rho_1kpc_Exact_All', 'r1_density_approx', 'log10(R10_kpc)',\n",
       "       'logRho_R10_approx', 'log_rho10_Exact', 'log10(R90_kpc)',\n",
       "       'logRho_R90_approx', 'log_rho_90_Exact_all', 'Rho_re_spatial',\n",
       "       'SR_pc_All', 'Rho_SR_pc_All', 'CR_def1_approx_new',\n",
       "       'Rho_cr_def1_approx_new', 'CR_def2_approx_new',\n",
       "       'Rho_CR_def2_approx_new', 'Sr(pc)_2_using_Falserm_drho',\n",
       "       'Log_Approx_Avg_density_10pc', 'log_Rho_e_Exact_new',\n",
       "       'logRho_e_approx_New', 'logRho_soi_approx_new', 'log_Rho_soi_exact_new',\n",
       "       'Avg_Rho_Re_Exact_all', 'Avg_Rho_soi_exact_all', 'Avg_Rho_re_Exact_all',\n",
       "       'Rho_re_Exact_all', 'r_soi_2BH_approx', 'Rho_r_soi_2BH_approx',\n",
       "       'Log_Avg_Rho_10kpc_approx', 'Log_Avg_Rho_10kpc_exact_final',\n",
       "       'Log_Avg_Rho_100pc_approx', 'Log_Avg_Rho_5kpc_approx',\n",
       "       'Log_Avg_rho_5kpc_exact_all'],\n",
       "      dtype='object')"
      ]
     },
     "execution_count": 9,
     "metadata": {},
     "output_type": "execute_result"
    }
   ],
   "source": [
    "df_purge.columns"
   ]
  },
  {
   "cell_type": "markdown",
   "id": "b0794490",
   "metadata": {},
   "source": [
    "stellar mass: $M*_{sph}$,$M*_{gal}$"
   ]
  },
  {
   "cell_type": "code",
   "execution_count": 14,
   "id": "7ae537f2",
   "metadata": {},
   "outputs": [
    {
     "name": "stderr",
     "output_type": "stream",
     "text": [
      "/home/zj448/miniconda3/lib/python3.9/site-packages/pysr/sr.py:1257: UserWarning: Note: it looks like you are running in Jupyter. The progress bar will be turned off.\n",
      "  warnings.warn(\n"
     ]
    },
    {
     "name": "stdout",
     "output_type": "stream",
     "text": [
      "Started!\n",
      "\n",
      "Cycles per second: 2.780e+04\n",
      "Head worker occupation: 67.4%. This is high, and will prevent efficient resource usage. Increase `ncyclesperiteration` to reduce load on head worker.\n",
      "Progress: 109 / 600 total iterations (18.167%)\n",
      "==============================\n",
      "Hall of Fame:\n",
      "-----------------------------------------\n",
      "Complexity  Loss       Score     Equation\n",
      "1           8.643e-01  -1.000e-10  8.181178431654514\n",
      "3           1.946e-01  7.455e-01  (x0 - 2.3184574449396607)\n",
      "5           1.869e-01  2.004e-02  ((x0 - 1.0802338576670358) + -1.3256614205761683)\n",
      "7           1.689e-01  5.079e-02  ((x4 + (x0 * 0.9068924255978891)) + -1.5694401906401392)\n",
      "9           1.606e-01  2.523e-02  ((x6 * -0.1760846068747684) + ((x0 - 0.30040174212974663) + -2.063104829043233))\n",
      "11          1.384e-01  7.433e-02  (((x0 - (x4 * -0.5181275544704662)) + x4) - (x4 + 2.5287170120162297))\n",
      "13          1.119e-01  1.065e-01  (x0 - (0.055505940430061504 - ((x4 * 0.40270825510148694) + ((x6 * -0.416820476688901) + -2.3577917715326873))))\n",
      "15          1.115e-01  1.583e-03  ((((x5 + -4.617224928072541) / x0) * (x6 - x4)) + ((x0 - 0.31959863892738605) + -2.063104829043233))\n",
      "17          1.103e-01  5.423e-03  (x0 - (0.614161030506214 - ((x4 * ((x3 * 0.614161030506214) - -0.2358939040394964)) + ((-0.5193475300713133 * x6) + -1.704296414433447))))\n",
      "21          1.103e-01  7.686e-05  (x0 - (0.614161030506214 - ((x4 * ((x3 * ((x4 + 0.12282422009048527) * 0.5143338589969781)) - -0.2358939040394964)) + ((x6 * -0.5193475300713133) + -1.704296414433447))))\n",
      "\n",
      "==============================\n",
      "Press 'q' and then <enter> to stop execution early.\n",
      "\n",
      "Cycles per second: 4.020e+04\n",
      "Head worker occupation: 76.4%. This is high, and will prevent efficient resource usage. Increase `ncyclesperiteration` to reduce load on head worker.\n",
      "Progress: 273 / 600 total iterations (45.500%)\n",
      "==============================\n",
      "Hall of Fame:\n",
      "-----------------------------------------\n",
      "Complexity  Loss       Score     Equation\n",
      "1           8.643e-01  -1.000e-10  8.181178431414484\n",
      "3           1.869e-01  7.655e-01  (x0 - 2.405895278239785)\n",
      "5           1.749e-01  3.332e-02  (x0 - (x6 - -2.1708857728427353))\n",
      "7           1.399e-01  1.117e-01  ((x0 + (0.43701785699780094 * x4)) - 2.4923318098836105)\n",
      "9           1.247e-01  5.757e-02  ((x0 - 2.4923318098836105) - (0.2884877227649679 * (x6 - x4)))\n",
      "11          1.176e-01  2.906e-02  ((x0 - 2.4923318098836105) - ((0.2884877227649679 / 0.7055824029669442) * (x6 - x4)))\n",
      "13          1.117e-01  2.607e-02  (x0 * (-0.8119341074798961 - ((x4 * -0.05909805979628606) + ((x6 * 0.04424652493640261) + -1.5785583696590113))))\n",
      "15          1.098e-01  8.589e-03  (x0 - (0.6965969499516915 - ((x4 * (x3 - -0.32752016478105167)) + ((-0.43853958643458657 * x6) + -1.704296414433447))))\n",
      "17          1.054e-01  2.015e-02  (x0 - (0.6970709791745612 - ((x4 * ((x3 * 0.512613706699028) - -0.32752016478105167)) + ((x6 * -0.43853958643458657) + -1.704296414433447))))\n",
      "19          1.054e-01  2.808e-04  (x0 - (0.6976564591913 - ((x4 * ((x3 * 0.5462989433608892) - -0.32752016478105167)) + (((x4 + -0.43926130245703343) * x6) + -1.704296414433447))))\n",
      "21          1.019e-01  1.659e-02  (x0 - (0.6936542275695257 - ((x4 * ((x3 * 0.628695909843177) - -0.3050089258949896)) + ((((-0.3435902793814041 / x1) + -0.25172423538547534) * x6) + -1.704296414433447))))\n",
      "\n",
      "==============================\n",
      "Press 'q' and then <enter> to stop execution early.\n",
      "\n",
      "Cycles per second: 4.970e+04\n",
      "Head worker occupation: 69.9%. This is high, and will prevent efficient resource usage. Increase `ncyclesperiteration` to reduce load on head worker.\n",
      "Progress: 493 / 600 total iterations (82.167%)\n",
      "==============================\n",
      "Hall of Fame:\n",
      "-----------------------------------------\n",
      "Complexity  Loss       Score     Equation\n",
      "1           8.643e-01  -1.000e-10  8.181178431412174\n",
      "3           1.869e-01  7.655e-01  (x0 - 2.405895278239785)\n",
      "5           1.746e-01  3.422e-02  (x0 - (2.2103532392731444 + x6))\n",
      "7           1.387e-01  1.149e-01  ((x0 - (x6 * 0.53785172986035parameters:42)) - 2.2922664622023814)\n",
      "9           1.247e-01  5.349e-02  ((x0 - 2.4923318098836105) - (0.2884877227649679 * (x6 - x4)))\n",
      "11          1.165e-01  3.391e-02  (x0 * (-0.8119341074798961 - (((x4 - x6) * -0.05909805979628606) + -1.5785583696590113)))\n",
      "13          1.117e-01  2.122e-02  (x0 * (-0.8119341074798961 - ((x4 * -0.05909805979628606) + ((x6 * 0.04424652493640261) + -1.5785583696590113))))\n",
      "15          1.093e-01  1.048e-02  (x0 - (((x4 * (-0.30366588324269195 - x3)) + ((x6 * -0.5831795174195566) + 2.413297713933855)) + x6))\n",
      "17          1.054e-01  1.826e-02  (x0 - (0.6970709791745612 - ((x4 * ((x3 * 0.512613706699028) - -0.32752016478105167)) + ((x6 * -0.43853958643458657) + -1.704296414433447))))\n",
      "19          1.051e-01  1.697e-03  (x0 - (0.6936542275695257 - ((x4 * (x3 - -0.3092282336770663)) + ((((-0.3165410322793811 / x1) + -0.3165410322793811) * x6) + -1.704296414433447))))\n",
      "21          1.011e-01  1.930e-02  (x0 - (0.6936542275695257 - ((x4 * ((x3 * 0.5483737830058836) - -0.30500892\n",
      "x 0 : M*_sph\n",
      "x 1 : T-type\n",
      "x 2 : Bar\n",
      "x 3 : Disk\n",
      "x 4 : Core\n",
      "x 5 : AGN\n",
      "x 58949896)) + ((((-0.3508326417546147 / x1) + -0.3050089258949896) * x6) + -1.704296414433447))))\n",
      "\n",
      "==============================\n",
      "Press 'q' and then <enter> to stop execution early.\n",
      "6 : Pseudobulge\n",
      "Eq. selected rmse: 0.33805264556608317\n"
     ]
    },
    {
     "data": {
      "text/latex": [
       "$\\displaystyle x_{0} + 0.4513427388345597 x_{4} - 0.4513427388345597 x_{6} - 2.3771795900239576$"
      ],
      "text/plain": [
       "x0 + 0.4513427388345597*x4 - 0.4513427388345597*x6 - 2.3771795900239576"
      ]
     },
     "metadata": {},
     "output_type": "display_data"
    },
    {
     "name": "stdout",
     "output_type": "stream",
     "text": [
      "Eq. 0 rmse: 0.9296505481997018\n"
     ]
    },
    {
     "data": {
      "text/latex": [
       "$\\displaystyle 8.181178431412174$"
      ],
      "text/plain": [
       "8.181178431412174"
      ]
     },
     "metadata": {},
     "output_type": "display_data"
    },
    {
     "name": "stdout",
     "output_type": "stream",
     "text": [
      "Eq. 1 rmse: 0.43237709134614705\n"
     ]
    },
    {
     "data": {
      "text/latex": [
       "$\\displaystyle x_{0} - 2.405895278239785$"
      ],
      "text/plain": [
       "x0 - 2.405895278239785"
      ]
     },
     "metadata": {},
     "output_type": "display_data"
    },
    {
     "name": "stdout",
     "output_type": "stream",
     "text": [
      "Eq. 2 rmse: 0.40492678902758683\n"
     ]
    },
    {
     "data": {
      "text/latex": [
       "$\\displaystyle 1.2212494938875103 x_{0} - 4.748279979188373$"
      ],
      "text/plain": [
       "1.2212494938875103*x0 - 4.748279979188373"
      ]
     },
     "metadata": {},
     "output_type": "display_data"
    },
    {
     "name": "stdout",
     "output_type": "stream",
     "text": [
      "Eq. 3 rmse: 0.3724862436071015\n"
     ]
    },
    {
     "data": {
      "text/latex": [
       "$\\displaystyle x_{0} - 0.5378517298603542 x_{6} - 2.2922664622023814$"
      ],
      "text/plain": [
       "x0 - 0.5378517298603542*x6 - 2.2922664622023814"
      ]
     },
     "metadata": {},
     "output_type": "display_data"
    },
    {
     "name": "stdout",
     "output_type": "stream",
     "text": [
      "Eq. 4 rmse: 0.33805264556608317\n"
     ]
    },
    {
     "data": {
      "text/latex": [
       "$\\displaystyle x_{0} + 0.4513427388345597 x_{4} - 0.4513427388345597 x_{6} - 2.3771795900239576$"
      ],
      "text/plain": [
       "x0 + 0.4513427388345597*x4 - 0.4513427388345597*x6 - 2.3771795900239576"
      ]
     },
     "metadata": {},
     "output_type": "display_data"
    },
    {
     "name": "stdout",
     "output_type": "stream",
     "text": [
      "Eq. 5 rmse: 0.33414426578351186\n"
     ]
    },
    {
     "data": {
      "text/latex": [
       "$\\displaystyle x_{0} \\cdot \\left(0.05909805979628606 x_{4} - 0.04424652493640261 x_{6} + 0.7666242621791152\\right)$"
      ],
      "text/plain": [
       "x0*(0.05909805979628606*x4 - 0.04424652493640261*x6 + 0.7666242621791152)"
      ]
     },
     "metadata": {},
     "output_type": "display_data"
    },
    {
     "name": "stdout",
     "output_type": "stream",
     "text": [
      "Eq. 6 rmse: 0.33065987824583126\n"
     ]
    },
    {
     "data": {
      "text/latex": [
       "$\\displaystyle x_{0} - x_{4} \\left(- x_{3} - 0.30366588324269195\\right) - 0.4168204825804434 x_{6} - 2.413297713933855$"
      ],
      "text/plain": [
       "x0 - x4*(-x3 - 0.30366588324269195) - 0.4168204825804434*x6 - 2.413297713933855"
      ]
     },
     "metadata": {},
     "output_type": "display_data"
    },
    {
     "name": "stdout",
     "output_type": "stream",
     "text": [
      "Eq. 7 rmse: 0.3246774494053809\n"
     ]
    },
    {
     "data": {
      "text/latex": [
       "$\\displaystyle x_{0} + x_{4} \\cdot \\left(0.512613706699028 x_{3} + 0.32752016478105167\\right) - 0.43853958643458657 x_{6} - 2.401367393608008$"
      ],
      "text/plain": [
       "x0 + x4*(0.512613706699028*x3 + 0.32752016478105167) - 0.43853958643458657*x6 - 2.401367393608008"
      ]
     },
     "metadata": {},
     "output_type": "display_data"
    },
    {
     "name": "stdout",
     "output_type": "stream",
     "text": [
      "Eq. 8 rmse: 0.32401688938384493\n"
     ]
    },
    {
     "data": {
      "text/latex": [
       "$\\displaystyle x_{0} + x_{4} \\left(x_{3} + 0.3050089258949896\\right) + x_{6} \\left(-0.3050089258949896 - \\frac{0.3508326417546147}{x_{1}}\\right) - 2.400821287350342$"
      ],
      "text/plain": [
       "x0 + x4*(x3 + 0.3050089258949896) + x6*(-0.3050089258949896 - 0.3508326417546147/x1) - 2.400821287350342"
      ]
     },
     "metadata": {},
     "output_type": "display_data"
    },
    {
     "name": "stdout",
     "output_type": "stream",
     "text": [
      "Eq. 9 rmse: 0.3178776240269848\n"
     ]
    },
    {
     "data": {
      "text/latex": [
       "$\\displaystyle x_{0} + x_{4} \\cdot \\left(0.5903083100245906 x_{3} + 0.3050089258949896\\right) + x_{6} \\left(-0.3050089258949896 - \\frac{0.3508326417546147}{x_{1}}\\right) - 2.397950642002973$"
      ],
      "text/plain": [
       "x0 + x4*(0.5903083100245906*x3 + 0.3050089258949896) + x6*(-0.3050089258949896 - 0.3508326417546147/x1) - 2.397950642002973"
      ]
     },
     "metadata": {},
     "output_type": "display_data"
    }
   ],
   "source": [
    "test_relation(df_purge[['M*_sph','T-type', 'Bar', 'Disk', 'Core', 'AGN', 'Pseudobulge']])"
   ]
  },
  {
   "cell_type": "markdown",
   "id": "10927e14",
   "metadata": {},
   "source": [
    "Bulge Equivalent Properties: $n_{eq,sph}$,$C(1/3)$,$R_{e,sph,eq}$"
   ]
  },
  {
   "cell_type": "code",
   "execution_count": 15,
   "id": "fc4f661d",
   "metadata": {
    "scrolled": true
   },
   "outputs": [
    {
     "name": "stderr",
     "output_type": "stream",
     "text": [
      "/home/zj448/miniconda3/lib/python3.9/site-packages/pysr/sr.py:1257: UserWarning: Note: it looks like you are running in Jupyter. The progress bar will be turned off.\n",
      "  warnings.warn(\n"
     ]
    },
    {
     "name": "stdout",
     "output_type": "stream",
     "text": [
      "Started!\n",
      "\n",
      "Cycles per second: 7.250e+04\n",
      "Head worker occupation: 24.9%. This is high, and will prevent efficient resource usage. Increase `ncyclesperiteration` to reduce load on head worker.\n",
      "Progress: 225 / 600 total iterations (37.500%)\n",
      "==============================\n",
      "Hall of Fame:\n",
      "-----------------------------------------\n",
      "Complexity  Loss       Score     Equation\n",
      "1           8.643e-01  -1.000e-10  8.181178431641339\n",
      "3           3.574e-01  4.415e-01  (x0 - -7.979806199773363)\n",
      "5           1.964e-01  2.994e-01  (x0 - (-7.742756977600018 - x4))\n",
      "7           1.945e-01  4.923e-03  (((x0 * 0.9117671698018492) + x4) - -7.760524619519772)\n",
      "9           1.895e-01  1.302e-02  (((x4 - -7.82548195702211) - (x2 * 0.16639908062892134)) + x0)\n",
      "11          1.674e-01  6.188e-02  ((x4 + (x0 + 7.742756977606434)) + ((x2 - x3) * -0.399517908965665))\n",
      "15          1.446e-01  3.657e-02  (((x0 - ((x2 - x3) / ((x6 + -0.12622294910246246) * -10.611300986670265))) + 7.742756977606434) + x4)\n",
      "\n",
      "==============================\n",
      "Press 'q' and then <enter> to stop execution early.\n",
      "\n",
      "Cycles per second: 6.140e+04\n",
      "Head worker occupation: 18.8%\n",
      "Progress: 386 / 600 total iterations (64.333%)\n",
      "==============================\n",
      "Hall of Fame:\n",
      "-----------------------------------------\n",
      "Complexity  Loss       Score     Equation\n",
      "1           8.643e-01  -1.000e-10  8.181178431641339\n",
      "3           3.574e-01  4.415e-01  (x0 - -7.979806199773363)\n",
      "5           1.964e-01  2.994e-01  (x0 - (-7.742756977600018 - x4))\n",
      "7           1.945e-01  4.923e-03  (((x0 * 0.9117671698018492) + x4) - -7.760524619519772)\n",
      "9           1.895e-01  1.302e-02  (((x4 - -7.82548195702211) - (x2 * 0.16639908062892134)) + x0)\n",
      "11          1.674e-01  6.200e-02  ((x4 + (x0 + 7.742756977606434)) + ((x2 - x3) * -0.3929851530492201))\n",
      "13          1.610e-01  1.946e-02  (((x4 + (x0 + 7.742756977606434)) + ((x2 - x3) * -0.399517908965665)) - 0.08165898398112689)\n",
      "15          1.446e-01  5.355e-02  (((x0 - ((x2 - x3) / ((x6 + -0.12622294910246246) * -10.611300986670265))) + 7.742756977606434) + x4)\n",
      "21          1.388e-01  6.875e-03  ((((((x4 + 8.751860836174743) + x0) + -0.3148863647021779) - ((0.11537549783669276 - (x3 - x2)) * (0.8183422496033572 - x6))) + -1.347971861786389) - -0.5490483145113716)\n",
      "\n",
      "==============================\n",
      "Press 'q' and then <enter> to stop execution early.\n",
      "\n",
      "Cycles per second: 5.810e+04\n",
      "Head worker occupation: 13.4%\n",
      "Progress: 543 / 600 total iterations (90.500%)\n",
      "==============================\n",
      "Hall of Fame:\n",
      "-----------------------------------------\n",
      "Complexity  Loss       Score     Equation\n",
      "1           8.643e-01  -1.000e-10  8.181178431641339\n",
      "3           3.574e-01  4.415e-01  (x0 - -7.979806199773363)\n",
      "5           1.964e-01  2.994e-01  ((x0 + 7.742756977600848) + x4)\n",
      "7           1.945e-01  4.923e-03  (((x0 * 0.9117671698018492) + x4) - -7.760524619519772)\n",
      "9           1.880e-01  1.685e-02  (((x0 + (x0 / x1)) + 7.742756977606434) + x4)\n",
      "11          1.640e-01  6.822e-02  ((x4 + (x0 + 7.681009766137038)) + ((x2 - x3) * -0.5661082299834993))\n",
      "13          1.610e-01  9.406e-03  (((x4 + (x0 + 7.742756977606434)) + ((x2 - x3) * -0.399517908965665)) - 0.08165898398112689)\n",
      "15          1.446e-01  5.355e-02  (((x0 - ((x2 - x3) / ((x6 + -0.12622294910246246) * -10.611300986670265))) + 7.742756977606434) + x4)\n",
      "19          1.321e-01  2.264e-02  ((((((x4 + 19.206478204153644) + x0) + -3.9826205722044397) - ((x6 - 0.7087016791839875) * (x3 - x2))) + -4.789113694898497) - 2.78753102907128)\n",
      "\n",
      "==============================\n",
      "Press 'q' and then <enter> to stop execution early.\n",
      "parameters:\n",
      "x 0 : log_R_e_sph_eq_kpc\n",
      "x 1 : T-type\n",
      "x 2 : Bar\n",
      "x 3 : Disk\n",
      "x 4 : Core\n",
      "x 5 : AGN\n",
      "x 6 : Pseudobulge\n",
      "Eq. selected rmse: 0.44316882953896247\n"
     ]
    },
    {
     "data": {
      "text/latex": [
       "$\\displaystyle x_{0} + x_{4} + 7.742756977600848$"
      ],
      "text/plain": [
       "x0 + x4 + 7.742756977600848"
      ]
     },
     "metadata": {},
     "output_type": "display_data"
    },
    {
     "name": "stdout",
     "output_type": "stream",
     "text": [
      "Eq. 0 rmse: 0.9296505481997018\n"
     ]
    },
    {
     "data": {
      "text/latex": [
       "$\\displaystyle 8.181178431641339$"
      ],
      "text/plain": [
       "8.181178431641339"
      ]
     },
     "metadata": {},
     "output_type": "display_data"
    },
    {
     "name": "stdout",
     "output_type": "stream",
     "text": [
      "Eq. 1 rmse: 0.5978281108696734\n"
     ]
    },
    {
     "data": {
      "text/latex": [
       "$\\displaystyle x_{0} + 7.979806199773363$"
      ],
      "text/plain": [
       "x0 + 7.979806199773363"
      ]
     },
     "metadata": {},
     "output_type": "display_data"
    },
    {
     "name": "stdout",
     "output_type": "stream",
     "text": [
      "Eq. 2 rmse: 0.44316882953896247\n"
     ]
    },
    {
     "data": {
      "text/latex": [
       "$\\displaystyle x_{0} + x_{4} + 7.742756977600848$"
      ],
      "text/plain": [
       "x0 + x4 + 7.742756977600848"
      ]
     },
     "metadata": {},
     "output_type": "display_data"
    },
    {
     "name": "stdout",
     "output_type": "stream",
     "text": [
      "Eq. 3 rmse: 0.4409926578827764\n"
     ]
    },
    {
     "data": {
      "text/latex": [
       "$\\displaystyle 0.9117671698018492 x_{0} + x_{4} + 7.760524619519772$"
      ],
      "text/plain": [
       "0.9117671698018492*x0 + x4 + 7.760524619519772"
      ]
     },
     "metadata": {},
     "output_type": "display_data"
    },
    {
     "name": "stdout",
     "output_type": "stream",
     "text": [
      "Eq. 4 rmse: 0.4336247564817719\n"
     ]
    },
    {
     "data": {
      "text/latex": [
       "$\\displaystyle x_{0} + \\frac{x_{0}}{x_{1}} + x_{4} + 7.742756977606434$"
      ],
      "text/plain": [
       "x0 + x0/x1 + x4 + 7.742756977606434"
      ]
     },
     "metadata": {},
     "output_type": "display_data"
    },
    {
     "name": "stdout",
     "output_type": "stream",
     "text": [
      "Eq. 5 rmse: 0.4002570507024323\n"
     ]
    },
    {
     "data": {
      "text/latex": [
       "$\\displaystyle x_{0} - 0.44530270070669825 x_{2} + 0.44530270070669825 x_{3} + x_{4} + 7.65504409920661$"
      ],
      "text/plain": [
       "x0 - 0.44530270070669825*x2 + 0.44530270070669825*x3 + x4 + 7.65504409920661"
      ]
     },
     "metadata": {},
     "output_type": "display_data"
    },
    {
     "name": "stdout",
     "output_type": "stream",
     "text": [
      "Eq. 6 rmse: 0.38746205568782394\n"
     ]
    },
    {
     "data": {
      "text/latex": [
       "$\\displaystyle x_{0} + x_{4} + \\left(x_{2} - x_{3}\\right) \\left(- x_{3} + x_{6}\\right) + 7.65504409920661$"
      ],
      "text/plain": [
       "x0 + x4 + (x2 - x3)*(-x3 + x6) + 7.65504409920661"
      ]
     },
     "metadata": {},
     "output_type": "display_data"
    },
    {
     "name": "stdout",
     "output_type": "stream",
     "text": [
      "Eq. 7 rmse: 0.38031606997486916\n"
     ]
    },
    {
     "data": {
      "text/latex": [
       "$\\displaystyle x_{0} + x_{4} + 7.742756977606434 - \\frac{x_{2} - x_{3}}{1.3393897043513905 - 10.611300986670265 x_{6}}$"
      ],
      "text/plain": [
       "x0 + x4 + 7.742756977606434 - (x2 - x3)/(1.3393897043513905 - 10.611300986670265*x6)"
      ]
     },
     "metadata": {},
     "output_type": "display_data"
    },
    {
     "name": "stdout",
     "output_type": "stream",
     "text": [
      "Eq. 8 rmse: 0.3776579227935076\n"
     ]
    },
    {
     "data": {
      "text/latex": [
       "$\\displaystyle x_{0} + x_{4} + \\frac{0.43258069677255573 \\left(- 0.7210334122339703 x_{2} + 0.7210334122339703 x_{3}\\right)}{x_{6} + 0.5818054262914165} + 7.65504409920661$"
      ],
      "text/plain": [
       "x0 + x4 + 0.43258069677255573*(-0.7210334122339703*x2 + 0.7210334122339703*x3)/(x6 + 0.5818054262914165) + 7.65504409920661"
      ]
     },
     "metadata": {},
     "output_type": "display_data"
    },
    {
     "name": "stdout",
     "output_type": "stream",
     "text": [
      "Eq. 9 rmse: 0.36347759091842774\n"
     ]
    },
    {
     "data": {
      "text/latex": [
       "$\\displaystyle x_{0} + x_{4} - \\left(- x_{2} + x_{3}\\right) \\left(x_{6} - 0.7087016791839875\\right) + 7.6472129079794273$"
      ],
      "text/plain": [
       "x0 + x4 - (-x2 + x3)*(x6 - 0.7087016791839875) + 7.6472129079794273"
      ]
     },
     "metadata": {},
     "output_type": "display_data"
    }
   ],
   "source": [
    "test_relation(df_purge[['log_R_e_sph_eq_kpc','T-type', 'Bar', 'Disk', 'Core', 'AGN', 'Pseudobulge']])"
   ]
  },
  {
   "cell_type": "code",
   "execution_count": 16,
   "id": "a37510e1",
   "metadata": {},
   "outputs": [
    {
     "name": "stderr",
     "output_type": "stream",
     "text": [
      "/home/zj448/miniconda3/lib/python3.9/site-packages/pysr/sr.py:1257: UserWarning: Note: it looks like you are running in Jupyter. The progress bar will be turned off.\n",
      "  warnings.warn(\n"
     ]
    },
    {
     "name": "stdout",
     "output_type": "stream",
     "text": [
      "Started!\n",
      "\n",
      "Cycles per second: 4.510e+04\n",
      "Head worker occupation: 8.9%\n",
      "Progress: 130 / 600 total iterations (21.667%)\n",
      "==============================\n",
      "Hall of Fame:\n",
      "-----------------------------------------\n",
      "Complexity  Loss       Score     Equation\n",
      "1           8.643e-01  -1.000e-10  8.181178431414043\n",
      "3           3.999e-01  3.853e-01  (x4 + 7.944129209237331)\n",
      "5           2.611e-01  2.132e-01  ((x4 + 8.441277265045823) - x2)\n",
      "7           2.487e-01  2.424e-02  ((x4 - (x2 * 0.7776742066467353)) + 8.330748429121124)\n",
      "9           2.254e-01  4.918e-02  ((x4 + 8.505558772342981) + (-0.7570478736273929 * (x2 + x6)))\n",
      "11          2.209e-01  1.018e-02  ((x4 + 8.505558772342981) + ((-0.7570478736273929 + 0.05765287043969508) * (x2 + x6)))\n",
      "13          1.980e-01  5.473e-02  ((x4 - (((x5 * x2) * (x3 - x6)) + x6)) + 8.394366234198158)\n",
      "17          1.909e-01  9.116e-03  ((x4 - (((((x2 - x6) + x1) * 0.10399821834085572) * (x5 - x6)) + x6)) + 8.238916212579852)\n",
      "19          1.879e-01  8.016e-03  (((((((x2 + -0.6590371465870319) * (x6 - x4)) - (x3 * x6)) - x2) * 0.5459786310928163) + x4) + 8.330748429121124)\n",
      "21          1.787e-01  2.492e-02  ((((((((x2 + -0.6590371465870319) * (x6 - x0)) - (x3 * x6)) + -0.1481559838022319) - x2) * 0.5459786310928163) + x4) + 8.330748429121124)\n",
      "\n",
      "==============================\n",
      "Press 'q' and then <enter> to stop execution early.\n",
      "\n",
      "Cycles per second: 3.150e+04\n",
      "Head worker occupation: 57.2%. This is high, and will prevent efficient resource usage. Increase `ncyclesperiteration` to reduce load on head worker.\n",
      "Progress: 201 / 600 total iterations (33.500%)\n",
      "==============================\n",
      "Hall of Fame:\n",
      "-----------------------------------------\n",
      "Complexity  Loss       Score     Equation\n",
      "1           8.643e-01  -1.000e-10  8.181178431414043\n",
      "3           3.999e-01  3.853e-01  (x4 + 7.944129209237331)\n",
      "5           2.611e-01  2.132e-01  ((x4 + 8.441277265045823) - x2)\n",
      "7           2.487e-01  2.424e-02  ((x4 - (x2 * 0.7776742066467353)) + 8.330748429121124)\n",
      "9           2.254e-01  4.918e-02  ((x4 + 8.505558772342981) + (-0.7570478736273929 * (x2 + x6)))\n",
      "11          1.894e-01  8.704e-02  ((x4 - ((x2 * (0.9413280247875522 - x6)) + x6)) + 8.394366234637316)\n",
      "13          1.852e-01  1.124e-02  ((x4 - (((x3 * x2) * (0.8805131618866305 - x6)) + x6)) + 8.394366234198158)\n",
      "15          1.793e-01  1.631e-02  ((x4 - ((((0.8805131618866305 - x6) * x2) * (0.8805131618866305 - x6)) + x6)) + 8.394366234198158)\n",
      "19          1.784e-01  1.182e-03  ((((((((x2 + -0.6645644908810725) * (x6 - x4)) - x6) + -0.1997156640022257) - x2) * 0.551640156685465) + x4) + 8.330748429121124)\n",
      "21          1.776e-01  2.282e-03  ((((((((x2 + -0.542279972077347) * (x6 - x4)) - (x6 * 1.096096614929058)) + -0.1237195341835402) - x2) * 0.5459786310928163) + x4) + 8.330748429121124)\n",
      "\n",
      "==============================\n",
      "Press 'q' and then <enter> to stop execution early.\n",
      "\n",
      "Cycles per second: 3.750e+04\n",
      "Head worker occupation: 65.4%. This is high, and will prevent efficient resource usage. Increase `ncyclesperiteration` to reduce load on head worker.\n",
      "Progress: 357 / 600 total iterations (59.500%)\n",
      "==============================\n",
      "Hall of Fame:\n",
      "-----------------------------------------\n",
      "Complexity  Loss       Score     Equation\n",
      "1           8.643e-01  -1.000e-10  8.18117843141749\n",
      "3           3.999e-01  3.853e-01  (x4 + 7.944129209237331)\n",
      "5           2.611e-01  2.132e-01  ((x4 + 8.441277265045823) - x2)\n",
      "7           2.487e-01  2.424e-02  ((x4 - (x2 * 0.7776742066467353)) + 8.330748429121124)\n",
      "9           2.254e-01  4.918e-02  ((x4 + 8.505558772342981) + (-0.7570478736273929 * (x2 + x6)))\n",
      "11          1.845e-01  1.002e-01  ((x4 - ((x2 * (0.8324917713612128 - x6)) + x6)) + 8.394366234637316)\n",
      "13          1.792e-01  1.464e-02  ((x4 - (((x2 * 0.7688639535420769) * (x3 - x6)) + x6)) + 8.394366234198158)\n",
      "15          1.779e-01  3.631e-03  ((x4 - ((((x2 - x6) * 0.8556536960267214) * (0.9033255640213734 - x6)) + x6)) + 8.394366234198158)\n",
      "19          1.742e-01  5.244e-03  ((x4 - ((((x2 - ((x4 * -0.24635347184178882) * -0.648839266150702)) * 0.8051064362296408) * (0.9713578119099814 - x6)) + x6)) + 8.394366234198158)\n",
      "21          1.718e-01  6.984e-03  ((x4 - ((((x2 - ((x4 * -0.24635347184178882) * (x3 - 0.8690271386930835))) * 0.8051064362296408) * (0.9713578119099814 - x6)) + x6)) + 8.394366234198158)\n",
      "\n",
      "==============================\n",
      "Press 'q' and then <enter> to stop execution early.\n",
      "\n",
      "Cycles per second: 4.860e+04\n",
      "Head worker occupation: 64.8%. This is high, and will prevent efficient resource usage. Increase `ncyclesperiteration` to reduce load on head worker.\n",
      "Progress: 590 / 600 total iterations (98.333%)\n",
      "==============================\n",
      "Hall of Fame:\n",
      "-----------------------------------------\n",
      "Complexity  Loss       Score     Equation\n",
      "1           8.643e-01  -1.000e-10  8.18117843141749\n",
      "3           3.999e-01  3.853e-01  (x4 + 7.944129209237331)\n",
      "5           2.611e-01  2.132e-01  ((x4 + 8.441277265045823) - x2)\n",
      "7           2.321e-01  5.877e-02  ((x4 + 7.053880915878767) + (x0 * 1.8419336203170629))\n",
      "9           2.227e-01  2.079e-02  (8.441277265045823 - (((x2 + x6) * 0.7397938738314804) - x4))\n",
      "11          1.845e-01  9.410e-02  ((x4 - ((x2 * (0.8324917713612128 - x6)) + x6)) + 8.394366234637316)\n",
      "13          1.788e-01  1.580e-02  ((x4 - (((x2 * 0.7936075412787248) * (x3 - x6)) + x6)) + 8.419350657145218)\n",
      "15          1.779e-01  2.467e-03  ((x4 - ((((x2 - x6) * 0.8556536960267214) * (0.9033255640213734 - x6)) + x6)) + 8.394366234198158)\n",
      "17          1.748e-01  8.819e-03  ((x4 - ((((x2 - (x4 / 8.394366234198158)) * 0.8051064362296408) * (0.9713578119099814 - x6)) + x6)) + 8.394366234198158)\n",
      "19          1.741e-01  1.798e-03  ((x4 - ((((x2 - (x4 * (0.21175917419706017 - x6))) * 0.8051064362296408) * (0.9713578119099814 - x6)) + x6)) + 8.394366234198158)\n",
      "21          1.706e-01  1.019e-02  ((x4 - (((x2 * x0) * (((((x0 - x6) - x6) * x5) - -1.4367533792119422) - x6)) + x6)) + 8.400941036820713)\n",
      "\n",
      "==============================\n",
      "Press 'q' and then <enter> to stop execution early.\n",
      "parameters:\n",
      "x 0 : log_n_sph_eq\n",
      "x 1 : T-type\n",
      "x 2 : Bar\n",
      "x 3 : Disk\n",
      "x 4 : Core\n",
      "x 5 : AGN\n",
      "x 6 : Pseudobulge\n",
      "Eq. selected rmse: 0.42952238687809713\n"
     ]
    },
    {
     "data": {
      "text/latex": [
       "$\\displaystyle - x_{2} \\cdot \\left(0.8324917713612128 - x_{6}\\right) + x_{4} - x_{6} + 8.394366234637316$"
      ],
      "text/plain": [
       "-x2*(0.8324917713612128 - x6) + x4 - x6 + 8.394366234637316"
      ]
     },
     "metadata": {},
     "output_type": "display_data"
    },
    {
     "name": "stdout",
     "output_type": "stream",
     "text": [
      "Eq. 0 rmse: 0.9296505481997017\n"
     ]
    },
    {
     "data": {
      "text/latex": [
       "$\\displaystyle 8.18117843141749$"
      ],
      "text/plain": [
       "8.18117843141749"
      ]
     },
     "metadata": {},
     "output_type": "display_data"
    },
    {
     "name": "stdout",
     "output_type": "stream",
     "text": [
      "Eq. 1 rmse: 0.6324056142214991\n"
     ]
    },
    {
     "data": {
      "text/latex": [
       "$\\displaystyle x_{4} + 7.944129209237331$"
      ],
      "text/plain": [
       "x4 + 7.944129209237331"
      ]
     },
     "metadata": {},
     "output_type": "display_data"
    },
    {
     "name": "stdout",
     "output_type": "stream",
     "text": [
      "Eq. 2 rmse: 0.5109836343333073\n"
     ]
    },
    {
     "data": {
      "text/latex": [
       "$\\displaystyle - x_{2} + x_{4} + 8.441277265045823$"
      ],
      "text/plain": [
       "-x2 + x4 + 8.441277265045823"
      ]
     },
     "metadata": {},
     "output_type": "display_data"
    },
    {
     "name": "stdout",
     "output_type": "stream",
     "text": [
      "Eq. 3 rmse: 0.48181734631395173\n"
     ]
    },
    {
     "data": {
      "text/latex": [
       "$\\displaystyle 1.8419336203170629 x_{0} + x_{4} + 7.053880915878767$"
      ],
      "text/plain": [
       "1.8419336203170629*x0 + x4 + 7.053880915878767"
      ]
     },
     "metadata": {},
     "output_type": "display_data"
    },
    {
     "name": "stdout",
     "output_type": "stream",
     "text": [
      "Eq. 4 rmse: 0.47190401581432945\n"
     ]
    },
    {
     "data": {
      "text/latex": [
       "$\\displaystyle - 0.7397938738314804 x_{2} + x_{4} - 0.7397938738314804 x_{6} + 8.441277265045823$"
      ],
      "text/plain": [
       "-0.7397938738314804*x2 + x4 - 0.7397938738314804*x6 + 8.441277265045823"
      ]
     },
     "metadata": {},
     "output_type": "display_data"
    },
    {
     "name": "stdout",
     "output_type": "stream",
     "text": [
      "Eq. 5 rmse: 0.42952238687809713\n"
     ]
    },
    {
     "data": {
      "text/latex": [
       "$\\displaystyle - x_{2} \\cdot \\left(0.8324917713612128 - x_{6}\\right) + x_{4} - x_{6} + 8.394366234637316$"
      ],
      "text/plain": [
       "-x2*(0.8324917713612128 - x6) + x4 - x6 + 8.394366234637316"
      ]
     },
     "metadata": {},
     "output_type": "display_data"
    },
    {
     "name": "stdout",
     "output_type": "stream",
     "text": [
      "Eq. 6 rmse: 0.4227890707871901\n"
     ]
    },
    {
     "data": {
      "text/latex": [
       "$\\displaystyle - 0.7936075412787248 x_{2} \\left(x_{3} - x_{6}\\right) + x_{4} - x_{6} + 8.419350657145218$"
      ],
      "text/plain": [
       "-0.7936075412787248*x2*(x3 - x6) + x4 - x6 + 8.419350657145218"
      ]
     },
     "metadata": {},
     "output_type": "display_data"
    },
    {
     "name": "stdout",
     "output_type": "stream",
     "text": [
      "Eq. 7 rmse: 0.4217473522559746\n"
     ]
    },
    {
     "data": {
      "text/latex": [
       "$\\displaystyle x_{4} - x_{6} - \\left(0.9033255640213734 - x_{6}\\right) \\left(0.8556536960267214 x_{2} - 0.8556536960267214 x_{6}\\right) + 8.394366234198158$"
      ],
      "text/plain": [
       "x4 - x6 - (0.9033255640213734 - x6)*(0.8556536960267214*x2 - 0.8556536960267214*x6) + 8.394366234198158"
      ]
     },
     "metadata": {},
     "output_type": "display_data"
    },
    {
     "name": "stdout",
     "output_type": "stream",
     "text": [
      "Eq. 8 rmse: 0.41804424920324723\n"
     ]
    },
    {
     "data": {
      "text/latex": [
       "$\\displaystyle x_{4} - x_{6} - \\left(0.9713578119099814 - x_{6}\\right) \\left(0.8051064362296408 x_{2} - 0.09591033006752602 x_{4}\\right) + 8.394366234198158$"
      ],
      "text/plain": [
       "x4 - x6 - (0.9713578119099814 - x6)*(0.8051064362296408*x2 - 0.09591033006752602*x4) + 8.394366234198158"
      ]
     },
     "metadata": {},
     "output_type": "display_data"
    },
    {
     "name": "stdout",
     "output_type": "stream",
     "text": [
      "Eq. 9 rmse: 0.41729334068674884\n"
     ]
    },
    {
     "data": {
      "text/latex": [
       "$\\displaystyle x_{4} - x_{6} - \\left(0.9713578119099814 - x_{6}\\right) \\left(0.8051064362296408 x_{2} - 0.8051064362296408 x_{4} \\cdot \\left(0.21175917419706017 - x_{6}\\right)\\right) + 8.394366234198158$"
      ],
      "text/plain": [
       "x4 - x6 - (0.9713578119099814 - x6)*(0.8051064362296408*x2 - 0.8051064362296408*x4*(0.21175917419706017 - x6)) + 8.394366234198158"
      ]
     },
     "metadata": {},
     "output_type": "display_data"
    },
    {
     "name": "stdout",
     "output_type": "stream",
     "text": [
      "Eq. 10 rmse: 0.4130645418056561\n"
     ]
    },
    {
     "data": {
      "text/latex": [
       "$\\displaystyle - x_{0} x_{2} \\left(x_{5} \\left(x_{0} - 2 x_{6}\\right) - x_{6} + 1.4367533792119422\\right) + x_{4} - x_{6} + 8.400941036820713$"
      ],
      "text/plain": [
       "-x0*x2*(x5*(x0 - 2*x6) - x6 + 1.4367533792119422) + x4 - x6 + 8.400941036820713"
      ]
     },
     "metadata": {},
     "output_type": "display_data"
    }
   ],
   "source": [
    "test_relation(df_purge[['log_n_sph_eq','T-type', 'Bar', 'Disk', 'Core', 'AGN', 'Pseudobulge']])"
   ]
  },
  {
   "cell_type": "markdown",
   "id": "aecf9390",
   "metadata": {},
   "source": [
    "velocity dispersion: $\\sigma$"
   ]
  },
  {
   "cell_type": "code",
   "execution_count": 17,
   "id": "6fc03b83",
   "metadata": {},
   "outputs": [
    {
     "name": "stderr",
     "output_type": "stream",
     "text": [
      "/home/zj448/miniconda3/lib/python3.9/site-packages/pysr/sr.py:1257: UserWarning: Note: it looks like you are running in Jupyter. The progress bar will be turned off.\n",
      "  warnings.warn(\n"
     ]
    },
    {
     "name": "stdout",
     "output_type": "stream",
     "text": [
      "Started!\n",
      "\n",
      "Cycles per second: 4.260e+04\n",
      "Head worker occupation: 7.1%\n",
      "Progress: 139 / 600 total iterations (23.167%)\n",
      "==============================\n",
      "Hall of Fame:\n",
      "-----------------------------------------\n",
      "Complexity  Loss       Score     Equation\n",
      "1           8.643e-01  -1.000e-10  8.181178431411102\n",
      "3           2.465e-01  6.273e-01  (x0 / 0.2712231392260813)\n",
      "5           1.611e-01  2.127e-01  ((x0 / 0.2712231392260813) - x6)\n",
      "7           1.423e-01  6.193e-02  ((x0 * 3.689099720222239) - (x6 / 1.4196753003327522))\n",
      "9           1.370e-01  1.889e-02  (((2.2828586461816758 + (x0 * x0)) - x6) + 0.9750127622572914)\n",
      "11          1.029e-01  1.435e-01  ((x0 / 0.2809883042690955) + ((x4 + -0.36315577132759436) * (x6 + x4)))\n",
      "13          1.021e-01  3.521e-03  ((x0 / 0.2809883042690955) + ((x4 + -0.36315577132759436) * ((x6 * 1.143023342600646) + x4)))\n",
      "15          9.284e-02  4.767e-02  ((x0 / 0.2712231392260813) + (((x3 - (x4 * x0)) * -0.1619521928624439) - (x6 * 0.5163955850760338)))\n",
      "17          9.213e-02  3.862e-03  ((x0 / 0.2712231392260813) + ((((0.13259079723977268 - (x4 * x0)) + x3) * -0.1619521928624439) - (x6 * 0.4963592082197769)))\n",
      "\n",
      "==============================\n",
      "Press 'q' and then <enter> to stop execution early.\n",
      "\n",
      "Cycles per second: 5.210e+04\n",
      "Head worker occupation: 5.9%\n",
      "Progress: 357 / 600 total iterations (59.500%)\n",
      "==============================\n",
      "Hall of Fame:\n",
      "-----------------------------------------\n",
      "Complexity  Loss       Score     Equation\n",
      "1           8.643e-01  -1.000e-10  8.181178431411102\n",
      "3           2.271e-01  6.682e-01  (x0 / 0.2758154914447155)\n",
      "5           1.561e-01  1.873e-01  ((x0 / 0.2823129049897112) + x4)\n",
      "7           1.393e-01  5.710e-02  ((x0 / 0.2809883042690955) + (0.7003064201027295 * x4))\n",
      "9           1.113e-01  1.123e-01  ((x0 / 0.2809883042690955) + ((x4 - x6) * 0.627384120363259))\n",
      "11          9.570e-02  7.533e-02  ((x0 / 0.27696378906554314) + ((x4 + -0.48750495569059277) * (x6 + x4)))\n",
      "13          9.388e-02  9.608e-03  ((x0 / 0.26871732972984) + (((x3 - x4) * -0.27916386792277964) - (x6 * 0.4980853891235487)))\n",
      "15          9.284e-02  5.551e-03  ((x0 / 0.2712231392260813) + (((x3 - (x4 * x0)) * -0.1619521928624439) - (x6 * 0.5163955850760338)))\n",
      "17          9.213e-02  3.862e-03  ((x0 / 0.2712231392260813) + ((((0.13259079723977268 - (x4 * x0)) + x3) * -0.1619521928624439) - (x6 * 0.4963592082197769)))\n",
      "19          9.171e-02  2.284e-03  ((x0 / 0.273391582409719) + (0.019509492967233928 - (((x3 - (x4 * x0)) + ((x0 - -0.5859740918254506) * x6)) * 0.17096299318790864)))\n",
      "21          9.166e-02  2.934e-04  ((x0 / 0.273391582409719) + (0.019509492967233928 - (((x3 - ((x4 / 0.9800613871537494) * x0)) + ((x0 * 1.2466394413315447) * x6)) * 0.17096299318790864)))\n",
      "\n",
      "==============================\n",
      "Press 'q' and then <enter> to stop execution early.\n",
      "\n",
      "Cycles per second: 6.190e+04\n",
      "Head worker occupation: 15.1%\n",
      "Progress: 582 / 600 total iterations (97.000%)\n",
      "==============================\n",
      "Hall of Fame:\n",
      "-----------------------------------------\n",
      "Complexity  Loss       Score     Equation\n",
      "1           8.643e-01  -1.000e-10  8.181178431411102\n",
      "3           2.271e-01  6.682e-01  (x0 / 0.2758154914447155)\n",
      "5           1.561e-01  1.873e-01  ((x0 / 0.2823129049897112) + x4)\n",
      "7           1.382e-01  6.090e-02  ((x0 / 0.28229017178278604) + (x4 * 0.7277253624938606))\n",
      "9           1.102e-01  1.133e-01  ((x0 / 0.2809883042690955) + ((x4 - x6) * 0.6066361437807702))\n",
      "11          9.570e-02  7.056e-02  ((x0 / 0.27696378906554314) + ((x4 + -0.48750495569059277) * (x6 + x4)))\n",
      "13          9.388e-02  9.608e-03  ((x0 / 0.26871732972984) + (((x3 - x4) * -0.27916386792277964) - (x6 * 0.4980853891235487)))\n",
      "15          9.284e-02  5.551e-03  ((x0 / 0.2712231392260813) + (((x3 - (x4 * x0)) * -0.1619521928624439) - (x6 * 0.5163955850760338)))\n",
      "17          9.213e-02  3.862e-03  ((x0 / 0.2712231392260813) + ((((0.13259079723977268 - (x4 * x0)) + x3) * -0.1619521928624439) - (x6 * 0.4963592082197769)))\n",
      "19          9.162e-02  2.798e-03  ((x0 / 0.273391582409719) + (0.023061398742541962 - (((x3 - (x4 * x0)) + ((x0 + 0.6364977740268811) * x6)) * 0.17096299318790864)))\n",
      "\n",
      "==============================\n",
      "Press 'q' and then <enter> to stop execution early.\n",
      "parameters:\n",
      "x 0 : log_sigma0\n",
      "x 1 : T-type\n",
      "x 2 : Bar\n",
      "x 3 : Disk\n",
      "x 4 : Core\n",
      "x 5 : AGN\n",
      "x 6 : Pseudobulge\n",
      "Eq. selected rmse: 0.33197520536934494\n"
     ]
    },
    {
     "data": {
      "text/latex": [
       "$\\displaystyle 3.558866987724603 x_{0} + 0.6066361437807702 x_{4} - 0.6066361437807702 x_{6}$"
      ],
      "text/plain": [
       "3.558866987724603*x0 + 0.6066361437807702*x4 - 0.6066361437807702*x6"
      ]
     },
     "metadata": {},
     "output_type": "display_data"
    },
    {
     "name": "stdout",
     "output_type": "stream",
     "text": [
      "Eq. 0 rmse: 0.9296505481997018\n"
     ]
    },
    {
     "data": {
      "text/latex": [
       "$\\displaystyle 8.181178431411102$"
      ],
      "text/plain": [
       "8.181178431411102"
      ]
     },
     "metadata": {},
     "output_type": "display_data"
    },
    {
     "name": "stdout",
     "output_type": "stream",
     "text": [
      "Eq. 1 rmse: 0.47655061352583516\n"
     ]
    },
    {
     "data": {
      "text/latex": [
       "$\\displaystyle 3.625612161093715 x_{0}$"
      ],
      "text/plain": [
       "3.625612161093715*x0"
      ]
     },
     "metadata": {},
     "output_type": "display_data"
    },
    {
     "name": "stdout",
     "output_type": "stream",
     "text": [
      "Eq. 2 rmse: 0.3951531643023414\n"
     ]
    },
    {
     "data": {
      "text/latex": [
       "$\\displaystyle 3.542168927900921 x_{0} + x_{4}$"
      ],
      "text/plain": [
       "3.542168927900921*x0 + x4"
      ]
     },
     "metadata": {},
     "output_type": "display_data"
    },
    {
     "name": "stdout",
     "output_type": "stream",
     "text": [
      "Eq. 3 rmse: 0.37180829481192446\n"
     ]
    },
    {
     "data": {
      "text/latex": [
       "$\\displaystyle 3.5424541835252787 x_{0} + 0.7277253624938606 x_{4}$"
      ],
      "text/plain": [
       "3.5424541835252787*x0 + 0.7277253624938606*x4"
      ]
     },
     "metadata": {},
     "output_type": "display_data"
    },
    {
     "name": "stdout",
     "output_type": "stream",
     "text": [
      "Eq. 4 rmse: 0.33197520536934494\n"
     ]
    },
    {
     "data": {
      "text/latex": [
       "$\\displaystyle 3.558866987724603 x_{0} + 0.6066361437807702 x_{4} - 0.6066361437807702 x_{6}$"
      ],
      "text/plain": [
       "3.558866987724603*x0 + 0.6066361437807702*x4 - 0.6066361437807702*x6"
      ]
     },
     "metadata": {},
     "output_type": "display_data"
    },
    {
     "name": "stdout",
     "output_type": "stream",
     "text": [
      "Eq. 5 rmse: 0.3093569419663588\n"
     ]
    },
    {
     "data": {
      "text/latex": [
       "$\\displaystyle 3.6105802977852503 x_{0} + \\left(x_{4} - 0.48750495569059277\\right) \\left(x_{4} + x_{6}\\right)$"
      ],
      "text/plain": [
       "3.6105802977852503*x0 + (x4 - 0.48750495569059277)*(x4 + x6)"
      ]
     },
     "metadata": {},
     "output_type": "display_data"
    },
    {
     "name": "stdout",
     "output_type": "stream",
     "text": [
      "Eq. 6 rmse: 0.30639896255888366\n"
     ]
    },
    {
     "data": {
      "text/latex": [
       "$\\displaystyle 3.72138261795534 x_{0} - 0.27916386792277964 x_{3} + 0.27916386792277964 x_{4} - 0.4980853891235487 x_{6}$"
      ],
      "text/plain": [
       "3.72138261795534*x0 - 0.27916386792277964*x3 + 0.27916386792277964*x4 - 0.4980853891235487*x6"
      ]
     },
     "metadata": {},
     "output_type": "display_data"
    },
    {
     "name": "stdout",
     "output_type": "stream",
     "text": [
      "Eq. 7 rmse: 0.30470290530943556\n"
     ]
    },
    {
     "data": {
      "text/latex": [
       "$\\displaystyle 0.1619521928624439 x_{0} x_{4} + 3.687001053278268 x_{0} - 0.1619521928624439 x_{3} - 0.5163955850760338 x_{6}$"
      ],
      "text/plain": [
       "0.1619521928624439*x0*x4 + 3.687001053278268*x0 - 0.1619521928624439*x3 - 0.5163955850760338*x6"
      ]
     },
     "metadata": {},
     "output_type": "display_data"
    },
    {
     "name": "stdout",
     "output_type": "stream",
     "text": [
      "Eq. 8 rmse: 0.3035284138135658\n"
     ]
    },
    {
     "data": {
      "text/latex": [
       "$\\displaystyle 0.1619521928624439 x_{0} x_{4} + 3.687001053278268 x_{0} - 0.1619521928624439 x_{3} - 0.4963592082197769 x_{6} - 0.021473370366360859$"
      ],
      "text/plain": [
       "0.1619521928624439*x0*x4 + 3.687001053278268*x0 - 0.1619521928624439*x3 - 0.4963592082197769*x6 - 0.021473370366360859"
      ]
     },
     "metadata": {},
     "output_type": "display_data"
    },
    {
     "name": "stdout",
     "output_type": "stream",
     "text": [
      "Eq. 9 rmse: 0.302680460514895\n"
     ]
    },
    {
     "data": {
      "text/latex": [
       "$\\displaystyle 0.17096299318790864 x_{0} x_{4} + 3.65775709400353 x_{0} - 0.17096299318790864 x_{3} - 0.17096299318790864 x_{6} \\left(x_{0} + 0.6364977740268811\\right) + 0.023061398742541962$"
      ],
      "text/plain": [
       "0.17096299318790864*x0*x4 + 3.65775709400353*x0 - 0.17096299318790864*x3 - 0.17096299318790864*x6*(x0 + 0.6364977740268811) + 0.023061398742541962"
      ]
     },
     "metadata": {},
     "output_type": "display_data"
    }
   ],
   "source": [
    "test_relation(df_purge[['log_sigma0','T-type', 'Bar', 'Disk', 'Core', 'AGN', 'Pseudobulge']])"
   ]
  },
  {
   "cell_type": "code",
   "execution_count": 31,
   "id": "ed351dad",
   "metadata": {},
   "outputs": [
    {
     "name": "stderr",
     "output_type": "stream",
     "text": [
      "/home/zj448/miniconda3/lib/python3.9/site-packages/pysr/sr.py:1257: UserWarning: Note: it looks like you are running in Jupyter. The progress bar will be turned off.\n",
      "  warnings.warn(\n"
     ]
    },
    {
     "name": "stdout",
     "output_type": "stream",
     "text": [
      "Started!\n",
      "\n",
      "Cycles per second: 4.430e+04\n",
      "Head worker occupation: 8.6%\n",
      "Progress: 135 / 600 total iterations (22.500%)\n",
      "==============================\n",
      "Hall of Fame:\n",
      "-----------------------------------------\n",
      "Complexity  Loss       Score     Equation\n",
      "1           8.643e-01  -1.000e-10  8.18117843141525\n",
      "3           4.006e-01  3.844e-01  (x1 + 7.9699142303007)\n",
      "5           1.685e-01  4.330e-01  ((x0 * x0) - -3.0409347240893494)\n",
      "7           1.370e-01  1.035e-01  ((x0 * x0) - (x2 + -3.252198925196203))\n",
      "9           1.085e-01  1.167e-01  ((x0 * (x0 - (0.27431474747550777 * x2))) - -3.167611367125819)\n",
      "15          1.073e-01  1.747e-03  (((x0 / 0.39268792606912856) * 1.0191218622616016) + (x0 + (0.39268792606912856 * ((x1 ^ x0) - x2))))\n",
      "17          1.031e-01  2.044e-02  ((((x0 * x0) + (x2 * -0.5821051775379205)) - (x0 * ((x1 * -0.06287119293836549) * 1.5010444790456636))) - -3.167611367125819)\n",
      "19          9.887e-02  2.073e-02  ((((x0 * x0) + (x2 * (x1 - 0.5180930076759438))) - (x0 * ((x1 * -0.04102484694715318) * x0))) - -3.090113188276733)\n",
      "\n",
      "==============================\n",
      "Press 'q' and then <enter> to stop execution early.\n",
      "\n",
      "Cycles per second: 4.560e+04\n",
      "Head worker occupation: 5.9%\n",
      "Progress: 300 / 600 total iterations (50.000%)\n",
      "==============================\n",
      "Hall of Fame:\n",
      "-----------------------------------------\n",
      "Complexity  Loss       Score     Equation\n",
      "1           8.643e-01  -1.000e-10  8.18117843141525\n",
      "3           4.006e-01  3.844e-01  (x1 + 7.9699142303007)\n",
      "5           1.677e-01  4.353e-01  ((x0 * 5.115106158659685) - 3.3857752277242468)\n",
      "7           1.370e-01  1.012e-01  ((x0 * x0) - (x2 + -3.252198925196203))\n",
      "9           1.085e-01  1.167e-01  ((x0 * (x0 - (0.27431474747550777 * x2))) - -3.167611367125819)\n",
      "15          9.390e-02  2.406e-02  (x0 + (x0 + ((x0 * (0.8482357319017642 ^ x2)) * ((1.220114778978537 ^ x1) + 0.6091686276714855))))\n",
      "19          9.387e-02  8.113e-05  (x0 + (x0 + ((x0 * (0.8461508865789362 ^ x2)) * ((x0 ^ (x1 / (1.172442608984538 + 3.240228206958154))) + 0.5994676515950464))))\n",
      "21          9.344e-02  2.297e-03  (x0 + (x0 + ((x0 * (0.8482357319017642 ^ x2)) * ((x0 ^ (x1 / ((1.220114778978537 ^ x1) + 3.26640220371126))) + 0.6091686276714855))))\n",
      "\n",
      "==============================\n",
      "Press 'q' and then <enter> to stop execution early.\n",
      "\n",
      "Cycles per second: 5.110e+04\n",
      "Head worker occupation: 5.6%\n",
      "Progress: 486 / 600 total iterations (81.000%)\n",
      "==============================\n",
      "Hall of Fame:\n",
      "-----------------------------------------\n",
      "Complexity  Loss       Score     Equation\n",
      "1           8.643e-01  -1.000e-10  8.18117843141525\n",
      "3           4.006e-01  3.844e-01  (x1 + 7.9699142303007)\n",
      "5           1.677e-01  4.353e-01  ((x0 * 5.115106158659685) - 3.3857752277242468)\n",
      "7           1.370e-01  1.012e-01  ((x0 * x0) - (x2 + -3.252198925196203))\n",
      "9           1.085e-01  1.167e-01  ((x0 * (x0 - (0.27431474747550777 * x2))) - -3.167611367125819)\n",
      "13          1.035e-01  1.177e-02  ((((x0 * x0) + (x2 * -0.43890632934193563)) - (-0.3703134938361173 * x1)) - -3.090113186943592)\n",
      "15          9.390e-02  4.863e-02  (x0 + (x0 + ((x0 * (0.8482357319017642 ^ x2)) * ((1.220114778978537 ^ x1) + 0.6091686276714855))))\n",
      "17          9.344e-02  2.460e-03  (x0 + (x0 + ((x0 * (0.8482357326566811 ^ x2)) * ((x0 ^ (x1 / 4.4865169722218585)) + 0.6091686277688106))))\n",
      "19          9.235e-02  5.863e-03  (x0 + (x0 + ((x0 ^ (0.7895384209691106 ^ x2)) * (((x0 - x1) ^ (x1 / 1.9494476466665498)) + 0.6093711018229226))))\n",
      "\n",
      "==============================\n",
      "Press 'q' and then <enter> to stop execution early.\n",
      "parameters:\n",
      "x 0 : log_sigma0\n",
      "x 1 : Core\n",
      "x 2 : Pseudobulge\n",
      "Eq. selected rmse: 0.32936349381964297\n"
     ]
    },
    {
     "data": {
      "text/latex": [
       "$\\displaystyle x_{0} \\left(x_{0} - 0.27431474747550777 x_{2}\\right) + 3.167611367125819$"
      ],
      "text/plain": [
       "x0*(x0 - 0.27431474747550777*x2) + 3.167611367125819"
      ]
     },
     "metadata": {},
     "output_type": "display_data"
    },
    {
     "name": "stdout",
     "output_type": "stream",
     "text": [
      "Eq. 0 rmse: 0.9296505481997018\n"
     ]
    },
    {
     "data": {
      "text/latex": [
       "$\\displaystyle 8.18117843141525$"
      ],
      "text/plain": [
       "8.18117843141525"
      ]
     },
     "metadata": {},
     "output_type": "display_data"
    },
    {
     "name": "stdout",
     "output_type": "stream",
     "text": [
      "Eq. 1 rmse: 0.4779011853271921\n"
     ]
    },
    {
     "data": {
      "text/latex": [
       "$\\displaystyle 3.641448106707534 x_{0}$"
      ],
      "text/plain": [
       "3.641448106707534*x0"
      ]
     },
     "metadata": {},
     "output_type": "display_data"
    },
    {
     "name": "stdout",
     "output_type": "stream",
     "text": [
      "Eq. 2 rmse: 0.4095510314861142\n"
     ]
    },
    {
     "data": {
      "text/latex": [
       "$\\displaystyle 5.115106158659685 x_{0} - 3.3857752277242468$"
      ],
      "text/plain": [
       "5.115106158659685*x0 - 3.3857752277242468"
      ]
     },
     "metadata": {},
     "output_type": "display_data"
    },
    {
     "name": "stdout",
     "output_type": "stream",
     "text": [
      "Eq. 3 rmse: 0.37014342185796767\n"
     ]
    },
    {
     "data": {
      "text/latex": [
       "$\\displaystyle x_{0}^{2} - x_{2} + 3.252198925196203$"
      ],
      "text/plain": [
       "x0**2 - x2 + 3.252198925196203"
      ]
     },
     "metadata": {},
     "output_type": "display_data"
    },
    {
     "name": "stdout",
     "output_type": "stream",
     "text": [
      "Eq. 4 rmse: 0.32936349381964297\n"
     ]
    },
    {
     "data": {
      "text/latex": [
       "$\\displaystyle x_{0} \\left(x_{0} - 0.27431474747550777 x_{2}\\right) + 3.167611367125819$"
      ],
      "text/plain": [
       "x0*(x0 - 0.27431474747550777*x2) + 3.167611367125819"
      ]
     },
     "metadata": {},
     "output_type": "display_data"
    },
    {
     "name": "stdout",
     "output_type": "stream",
     "text": [
      "Eq. 5 rmse: 0.3195949297527675\n"
     ]
    },
    {
     "data": {
      "text/latex": [
       "$\\displaystyle x_{0}^{2} + 0.3425971099364091 x_{1} - 0.43890632934193563 x_{2} + 3.090113186943592$"
      ],
      "text/plain": [
       "x0**2 + 0.3425971099364091*x1 - 0.43890632934193563*x2 + 3.090113186943592"
      ]
     },
     "metadata": {},
     "output_type": "display_data"
    },
    {
     "name": "stdout",
     "output_type": "stream",
     "text": [
      "Eq. 6 rmse: 0.3058296178468164\n"
     ]
    },
    {
     "data": {
      "text/latex": [
       "$\\displaystyle 2 x_{0} + x_{0}^{0.7892999392426963^{x_{2}}} \\cdot \\left(1.2244251512504083^{x_{1}} + 0.6096726597332394\\right)$"
      ],
      "text/plain": [
       "2*x0 + x0**(0.7892999392426963**x2)*(1.2244251512504083**x1 + 0.6096726597332394)"
      ]
     },
     "metadata": {},
     "output_type": "display_data"
    },
    {
     "name": "stdout",
     "output_type": "stream",
     "text": [
      "Eq. 7 rmse: 0.3056745627307154\n"
     ]
    },
    {
     "data": {
      "text/latex": [
       "$\\displaystyle 0.8482357326566811^{x_{2}} x_{0} \\left(x_{0}^{0.22289005172419304 x_{1}} + 0.6091686277688106\\right) + 2 x_{0}$"
      ],
      "text/plain": [
       "0.8482357326566811**x2*x0*(x0**(0.22289005172419304*x1) + 0.6091686277688106) + 2*x0"
      ]
     },
     "metadata": {},
     "output_type": "display_data"
    },
    {
     "name": "stdout",
     "output_type": "stream",
     "text": [
      "Eq. 8 rmse: 0.3038876030876562\n"
     ]
    },
    {
     "data": {
      "text/latex": [
       "$\\displaystyle 2 x_{0} + x_{0}^{0.7895384209691106^{x_{2}}} \\left(\\left(x_{0} - x_{1}\\right)^{0.51296581455262264 x_{1}} + 0.6093711018229226\\right)$"
      ],
      "text/plain": [
       "2*x0 + x0**(0.7895384209691106**x2)*((x0 - x1)**(0.51296581455262264*x1) + 0.6093711018229226)"
      ]
     },
     "metadata": {},
     "output_type": "display_data"
    }
   ],
   "source": [
    "test_relation(df_purge[['log_sigma0', 'Core', 'Pseudobulge']],adaptive_parsimony_scaling=50)"
   ]
  },
  {
   "cell_type": "markdown",
   "id": "99a5b96d",
   "metadata": {},
   "source": [
    "Ratio of light: $B/T$,$D/T$"
   ]
  },
  {
   "cell_type": "code",
   "execution_count": 18,
   "id": "7b0797f4",
   "metadata": {
    "scrolled": true
   },
   "outputs": [
    {
     "name": "stderr",
     "output_type": "stream",
     "text": [
      "/home/zj448/miniconda3/lib/python3.9/site-packages/pysr/sr.py:1257: UserWarning: Note: it looks like you are running in Jupyter. The progress bar will be turned off.\n",
      "  warnings.warn(\n"
     ]
    },
    {
     "name": "stdout",
     "output_type": "stream",
     "text": [
      "Started!\n",
      "\n",
      "Cycles per second: 4.900e+04\n",
      "Head worker occupation: 7.4%\n",
      "Progress: 158 / 600 total iterations (26.333%)\n",
      "==============================\n",
      "Hall of Fame:\n",
      "-----------------------------------------\n",
      "Complexity  Loss       Score     Equation\n",
      "1           8.643e-01  -1.000e-10  8.181178431413086\n",
      "3           3.999e-01  3.853e-01  (x4 + 7.94412920923932)\n",
      "5           1.973e-01  3.532e-01  ((x4 + x0) + 8.37638528788242)\n",
      "7           1.811e-01  4.302e-02  ((x4 + 8.538398716270097) + (x0 * 1.374808907288754))\n",
      "11          1.803e-01  1.083e-03  (((x0 - ((x6 - -0.4265959363555742) * 0.31989230471046565)) + 8.580431837503703) + x4)\n",
      "13          1.796e-01  1.808e-03  ((x4 + 8.506654538189625) + ((x3 * 1.1389505658019166) - (x3 + (x0 * -1.5257095099277))))\n",
      "15          1.732e-01  1.833e-02  (((x4 + 8.538398716270097) + ((x6 / 0.6403017171166149) * -0.17561946650369467)) + (x0 - (x2 * 0.17831139813207694)))\n",
      "17          1.662e-01  2.049e-02  (((x0 - (((x6 - (1.049451639251683 * x0)) * (x0 + 1.2447771054033887)) * 0.49868185417201455)) + 8.613434509969773) + x4)\n",
      "21          1.560e-01  1.587e-02  (((x0 - (((x6 - (x5 * -0.651021126227199)) * ((-0.22138252156089824 / (x1 + -0.9894180256005883)) + x3)) * 0.43331118581683875)) + 8.613434509969773) + x4)\n",
      "\n",
      "==============================\n",
      "Press 'q' and then <enter> to stop execution early.\n",
      "\n",
      "Cycles per second: 5.780e+04\n",
      "Head worker occupation: 6.9%\n",
      "Progress: 392 / 600 total iterations (65.333%)\n",
      "==============================\n",
      "Hall of Fame:\n",
      "-----------------------------------------\n",
      "Complexity  Loss       Score     Equation\n",
      "1           8.643e-01  -1.000e-10  8.181178431413086\n",
      "3           3.999e-01  3.853e-01  (x4 + 7.94412920923932)\n",
      "5           1.973e-01  3.532e-01  ((x4 + x0) + 8.37638528788242)\n",
      "7           1.811e-01  4.302e-02  ((x4 + 8.538398716270097) + (x0 * 1.374808907288754))\n",
      "11          1.753e-01  8.137e-03  (((x0 - ((x6 - x0) * 0.22817297494770467)) + 8.523219224445711) + x4)\n",
      "13          1.575e-01  5.325e-02  (((x0 - (x6 - ((0.39116603969655633 - x6) * x0))) + 8.5626626784275) + x4)\n",
      "17          1.479e-01  1.587e-02  (((x0 - (x6 - ((6.802421613543683 - (x6 - (x3 * -6.364633613299979))) * x0))) + 8.645567605765882) + x4)\n",
      "\n",
      "==============================\n",
      "Press 'q' and then <enter> to stop execution early.\n",
      "parameters:\n",
      "x 0 : log_B/T\n",
      "x 1 : T-type\n",
      "x 2 : Bar\n",
      "x 3 : Disk\n",
      "x 4 : Core\n",
      "x 5 : AGN\n",
      "x 6 : Pseudobulge\n",
      "Eq. selected rmse: 0.44420752772222843\n"
     ]
    },
    {
     "data": {
      "text/latex": [
       "$\\displaystyle x_{0} + x_{4} + 8.37638528788242$"
      ],
      "text/plain": [
       "x0 + x4 + 8.37638528788242"
      ]
     },
     "metadata": {},
     "output_type": "display_data"
    },
    {
     "name": "stdout",
     "output_type": "stream",
     "text": [
      "Eq. 0 rmse: 0.9296505481997018\n"
     ]
    },
    {
     "data": {
      "text/latex": [
       "$\\displaystyle 8.181178431413086$"
      ],
      "text/plain": [
       "8.181178431413086"
      ]
     },
     "metadata": {},
     "output_type": "display_data"
    },
    {
     "name": "stdout",
     "output_type": "stream",
     "text": [
      "Eq. 1 rmse: 0.6324056142214991\n"
     ]
    },
    {
     "data": {
      "text/latex": [
       "$\\displaystyle x_{4} + 7.94412920923932$"
      ],
      "text/plain": [
       "x4 + 7.94412920923932"
      ]
     },
     "metadata": {},
     "output_type": "display_data"
    },
    {
     "name": "stdout",
     "output_type": "stream",
     "text": [
      "Eq. 2 rmse: 0.44420752772222843\n"
     ]
    },
    {
     "data": {
      "text/latex": [
       "$\\displaystyle x_{0} + x_{4} + 8.37638528788242$"
      ],
      "text/plain": [
       "x0 + x4 + 8.37638528788242"
      ]
     },
     "metadata": {},
     "output_type": "display_data"
    },
    {
     "name": "stdout",
     "output_type": "stream",
     "text": [
      "Eq. 3 rmse: 0.42550167858147137\n"
     ]
    },
    {
     "data": {
      "text/latex": [
       "$\\displaystyle 1.374808907288754 x_{0} + x_{4} + 8.538398716270097$"
      ],
      "text/plain": [
       "1.374808907288754*x0 + x4 + 8.538398716270097"
      ]
     },
     "metadata": {},
     "output_type": "display_data"
    },
    {
     "name": "stdout",
     "output_type": "stream",
     "text": [
      "Eq. 4 rmse: 0.4246270977739249\n"
     ]
    },
    {
     "data": {
      "text/latex": [
       "$\\displaystyle 1.282137623571419 x_{0} + 1.063509552879833 x_{4} + 8.471427724497145$"
      ],
      "text/plain": [
       "1.282137623571419*x0 + 1.063509552879833*x4 + 8.471427724497145"
      ]
     },
     "metadata": {},
     "output_type": "display_data"
    },
    {
     "name": "stdout",
     "output_type": "stream",
     "text": [
      "Eq. 5 rmse: 0.4186333298422778\n"
     ]
    },
    {
     "data": {
      "text/latex": [
       "$\\displaystyle 1.2281729749477047 x_{0} + x_{4} - 0.22817297494770467 x_{6} + 8.523219224445711$"
      ],
      "text/plain": [
       "1.2281729749477047*x0 + x4 - 0.22817297494770467*x6 + 8.523219224445711"
      ]
     },
     "metadata": {},
     "output_type": "display_data"
    },
    {
     "name": "stdout",
     "output_type": "stream",
     "text": [
      "Eq. 6 rmse: 0.3969252314301504\n"
     ]
    },
    {
     "data": {
      "text/latex": [
       "$\\displaystyle x_{0} \\cdot \\left(0.39116603969655633 - x_{6}\\right) + x_{0} + x_{4} - x_{6} + 8.5626626784275$"
      ],
      "text/plain": [
       "x0*(0.39116603969655633 - x6) + x0 + x4 - x6 + 8.5626626784275"
      ]
     },
     "metadata": {},
     "output_type": "display_data"
    },
    {
     "name": "stdout",
     "output_type": "stream",
     "text": [
      "Eq. 7 rmse: 0.3845258275634705\n"
     ]
    },
    {
     "data": {
      "text/latex": [
       "$\\displaystyle x_{0} \\left(- 6.364633613299979 x_{3} - x_{6} + 6.802421613543683\\right) + x_{0} + x_{4} - x_{6} + 8.645567605765882$"
      ],
      "text/plain": [
       "x0*(-6.364633613299979*x3 - x6 + 6.802421613543683) + x0 + x4 - x6 + 8.645567605765882"
      ]
     },
     "metadata": {},
     "output_type": "display_data"
    }
   ],
   "source": [
    "test_relation(df_purge[['log_B/T','T-type', 'Bar', 'Disk', 'Core', 'AGN', 'Pseudobulge']])"
   ]
  },
  {
   "cell_type": "markdown",
   "id": "e3466a9b",
   "metadata": {},
   "source": [
    "Densities"
   ]
  },
  {
   "cell_type": "code",
   "execution_count": 20,
   "id": "cde2db46",
   "metadata": {},
   "outputs": [
    {
     "data": {
      "text/plain": [
       "Index(['T-type', 'Bar', 'Disk', 'Core', 'AGN', 'Pseudobulge', 'M_BH',\n",
       "       'M_BH_std', 'M*_sph', 'M*_gal', 'log_B/T', 'log_sigma0',\n",
       "       'log_R_e_sph_maj', 'log_R_e_sph_eq_kpc', 'log_n_sph_maj',\n",
       "       'log_n_sph_eq', 'log(I_e,sph,maj/M_Sun/pc^2)',\n",
       "       'log(I_e,sph,eq/M_Sun/pc^2)', 'Concentration_Index',\n",
       "       'avg_Rho_1kpc_Exact_All', 'r1_density_approx', 'log10(R10_kpc)',\n",
       "       'logRho_R10_approx', 'log_rho10_Exact', 'log10(R90_kpc)',\n",
       "       'logRho_R90_approx', 'log_rho_90_Exact_all', 'Rho_re_spatial',\n",
       "       'SR_pc_All', 'Rho_SR_pc_All', 'CR_def1_approx_new',\n",
       "       'Rho_cr_def1_approx_new', 'CR_def2_approx_new',\n",
       "       'Rho_CR_def2_approx_new', 'Sr(pc)_2_using_Falserm_drho',\n",
       "       'Log_Approx_Avg_density_10pc', 'log_Rho_e_Exact_new',\n",
       "       'logRho_e_approx_New', 'logRho_soi_approx_new', 'log_Rho_soi_exact_new',\n",
       "       'Avg_Rho_Re_Exact_all', 'Avg_Rho_soi_exact_all', 'Avg_Rho_re_Exact_all',\n",
       "       'Rho_re_Exact_all', 'r_soi_2BH_approx', 'Rho_r_soi_2BH_approx',\n",
       "       'Log_Avg_Rho_10kpc_approx', 'Log_Avg_Rho_10kpc_exact_final',\n",
       "       'Log_Avg_Rho_100pc_approx', 'Log_Avg_Rho_5kpc_approx',\n",
       "       'Log_Avg_rho_5kpc_exact_all'],\n",
       "      dtype='object')"
      ]
     },
     "execution_count": 20,
     "metadata": {},
     "output_type": "execute_result"
    }
   ],
   "source": [
    "df_purge.columns"
   ]
  },
  {
   "cell_type": "code",
   "execution_count": 21,
   "id": "aacffcb6",
   "metadata": {},
   "outputs": [
    {
     "name": "stderr",
     "output_type": "stream",
     "text": [
      "/home/zj448/miniconda3/lib/python3.9/site-packages/pysr/sr.py:1257: UserWarning: Note: it looks like you are running in Jupyter. The progress bar will be turned off.\n",
      "  warnings.warn(\n"
     ]
    },
    {
     "name": "stdout",
     "output_type": "stream",
     "text": [
      "Started!\n",
      "\n",
      "Cycles per second: 5.160e+04\n",
      "Head worker occupation: 60.1%. This is high, and will prevent efficient resource usage. Increase `ncyclesperiteration` to reduce load on head worker.\n",
      "Progress: 187 / 600 total iterations (31.167%)\n",
      "==============================\n",
      "Hall of Fame:\n",
      "-----------------------------------------\n",
      "Complexity  Loss       Score     Equation\n",
      "1           8.643e-01  -1.000e-10  8.181178431301062\n",
      "3           3.999e-01  3.853e-01  (x4 + 7.944129209135556)\n",
      "5           2.889e-01  1.627e-01  (7.758365983265747 - (x4 * -1.783648309316931))\n",
      "7           2.634e-01  4.622e-02  (8.181178431411562 + (x4 - (-0.21256840944483552 + x2)))\n",
      "9           2.426e-01  4.111e-02  ((x4 + 7.885305031739153) + ((x5 - x1) / 8.973798199391117))\n",
      "11          2.388e-01  7.929e-03  ((x4 + 7.944129208906086) + ((x4 - x1) / (x0 + 7.944129208906086)))\n",
      "13          2.287e-01  2.155e-02  (((x6 * -0.269060969796932) + 8.036078589458995) + (x4 - ((x1 * 0.5322656254986011) * 0.14509984195256675)))\n",
      "15          1.988e-01  7.009e-02  (((((x0 + (x2 * -0.21147407133261678)) / 0.6929078797817644) - -0.21147407133261678) / (x0 * 0.184792385587073)) + x4)\n",
      "17          1.957e-01  7.831e-03  ((((((x0 + -0.03697506441952504) / 0.6879852669194108) - -0.27836370973286906) / (x0 * 0.18704462520971155)) + (x2 * -0.6535683179080775)) + x4)\n",
      "19          1.667e-01  8.003e-02  ((((((x0 + (x2 * -0.21147407133261678)) / 0.6929078797817644) - -0.21147407133261678) / (x0 * 0.184792385587073)) + (x6 * -0.29353488016119605)) + x4)\n",
      "21          1.408e-01  8.464e-02  ((((((x0 + (x2 * -0.21147407133261678)) / 0.6929078797817644) - -0.21147407133261678) / (x0 * 0.184792385587073)) + (x6 * (x2 - 1.031563390027804))) + x4)\n",
      "\n",
      "==============================\n",
      "Press 'q' and then <enter> to stop execution early.\n",
      "\n",
      "Cycles per second: 4.510e+04\n",
      "Head worker occupation: 71.3%. This is high, and will prevent efficient resource usage. Increase `ncyclesperiteration` to reduce load on head worker.\n",
      "Progress: 340 / 600 total iterations (56.667%)\n",
      "==============================\n",
      "Hall of Fame:\n",
      "-----------------------------------------\n",
      "Complexity  Loss       Score     Equation\n",
      "1           8.643e-01  -1.000e-10  8.181178431301062\n",
      "3           3.999e-01  3.853e-01  (x4 + 7.944129209135556)\n",
      "5           2.611e-01  2.132e-01  ((x4 + 8.441277265145665) - x2)\n",
      "9           2.338e-01  2.758e-02  (((x4 + 8.181178431301062) + (0.8646271601564886 / x0)) - x2)\n",
      "11          2.321e-01  3.616e-03  (((x4 + 8.181178431301062) + (0.8646271601564886 / (0.6303899128974223 + x0))) - x2)\n",
      "13          2.170e-01  3.370e-02  (((x4 + 8.181178431301062) + (0.9385918633803848 / ((x6 - -1.0073605245482677) * x0))) - x2)\n",
      "15          1.970e-01  4.836e-02  (((((x0 + (x2 * -0.23118049461429993)) / 0.6929078797817644) - -0.21147407133261678) / (x0 * 0.184792385587073)) + x4)\n",
      "17          1.771e-01  5.334e-02  (((x4 + 8.720307957538632) + (-0.012327123987866468 - (0.24872280198309638 + ((x1 / 8.720307957538632) + (x0 * 0.3593197279773788))))) - -0.4096034188393823)\n",
      "19     parameters:\n",
      "x 0 : logRho_soi_approx_new\n",
      "x 1 : T-type\n",
      "     1.643e-01  3.738e-02  (((x4 + 7.944129208906086) + ((((((x5 - x0) / 0.3510597354600702) + 7.944129208906086) * 1.3549270292789084) - x1) / 10.227000865638363)) + -0.2549521143268694)\n",
      "21          1.408e-01  7.732e-02  ((((((x0 + (x2 * -0.21147407133261678)) / 0.6929078797817644) - -0.21147407133261678) / (x0 * 0.184792385587073)) + (x6 * (x2 - 1.031563390027804))) + x4)\n",
      "\n",
      "==============================\n",
      "Press 'q' and then <enter> to stop execution early.\n",
      "\n",
      "Cycles per second: 4.660e+04\n",
      "Head worker occupation: 49.1%. This is high, and will prevent efficient resource usage. Increase `ncyclesperiteration` to reduce load on head worker.\n",
      "Progress: 498 / 600 total iterations (83.000%)\n",
      "==============================\n",
      "Hall of Fame:\n",
      "-----------------------------------------\n",
      "Complexity  Loss       Score     Equation\n",
      "1           8.643e-01  -1.000e-10  8.181178431301062\n",
      "3           3.999e-01  3.853e-01  (x4 + 7.944129209135556)\n",
      "5           2.611e-01  2.132e-01  ((x4 + 8.441277265145665) - x2)\n",
      "7           2.611e-01  -5.000e-11  (((x4 + 9.943303311150991) - x2) - 1.5020260461131327)\n",
      "9           2.295e-01  6.448e-02  (((x4 + 8.181178431301062) + (0.788896579105289 / x0)) - x2)\n",
      "11          2.164e-01  2.951e-02  (((x4 + 8.181178431301062) + ((0.788896579105289 - x6) / x0)) - x2)\n",
      "13          1.839e-01  8.133e-02  ((x4 + 3.966680880395519) - ((x2 - ((x4 + x0) * -0.46456245582600664)) + -5.833310596151474))\n",
      "15          1.645e-01  5.578e-02  ((x4 + 7.58753281205305) + (((((x2 * -1.3210556912859066) - x6) + -0.18958796890760624) - -1.8227631707901621) / x0))\n",
      "17          1.585e-01  1.853e-02  ((((x4 + 12.058879879883866) - ((x2 - (x0 * -0.4361747248793917)) + 2.0477803333399804)) - 0.5737440560858386) - (x2 * -0.35445174634194243))\n",
      "19          1.585e-01  -5.000e-11  (((((x4 + 10.091452324317816) - ((x2 - (x0 * -0.4361747259132775)) + 0.9618477623922769)) - -0.46847893583697586) + -0.16072800380147442) - (x2 * -0.35445174521325157))\n",
      "21          1.408e-01  5.923e-02  ((((((x0 + (x2 * -0.2114x 27407133261678)) / 0.6929078797817644) - -0.21147407133261678) / (x0 * 0.184792385587073)) + (x6 * (x2 - 1.031563390027804))) + x4)\n",
      "\n",
      "==============================\n",
      "Press 'q' and then <enter> to stop execution early.\n",
      " : Bar\n",
      "x 3 : Disk\n",
      "x 4 : Core\n",
      "x 5 : AGN\n",
      "x 6 : Pseudobulge\n",
      "Eq. selected rmse: 0.3642217411034978\n"
     ]
    },
    {
     "data": {
      "text/latex": [
       "$\\displaystyle x_{4} + x_{6} \\left(x_{2} - 1.1598775212786263\\right) + \\frac{5.41147838328439 \\cdot \\left(1.443193286119009 x_{0} - 0.33435867154210816 x_{2} + 0.23167975818488953\\right)}{x_{0}}$"
      ],
      "text/plain": [
       "x4 + x6*(x2 - 1.1598775212786263) + 5.41147838328439*(1.443193286119009*x0 - 0.33435867154210816*x2 + 0.23167975818488953)/x0"
      ]
     },
     "metadata": {},
     "output_type": "display_data"
    },
    {
     "name": "stdout",
     "output_type": "stream",
     "text": [
      "Eq. 0 rmse: 0.9296505481997018\n"
     ]
    },
    {
     "data": {
      "text/latex": [
       "$\\displaystyle 8.181178431301062$"
      ],
      "text/plain": [
       "8.181178431301062"
      ]
     },
     "metadata": {},
     "output_type": "display_data"
    },
    {
     "name": "stdout",
     "output_type": "stream",
     "text": [
      "Eq. 1 rmse: 0.6324056142214991\n"
     ]
    },
    {
     "data": {
      "text/latex": [
       "$\\displaystyle x_{4} + 7.944129209135556$"
      ],
      "text/plain": [
       "x4 + 7.944129209135556"
      ]
     },
     "metadata": {},
     "output_type": "display_data"
    },
    {
     "name": "stdout",
     "output_type": "stream",
     "text": [
      "Eq. 2 rmse: 0.5109836343333074\n"
     ]
    },
    {
     "data": {
      "text/latex": [
       "$\\displaystyle - x_{2} + x_{4} + 8.441277265145665$"
      ],
      "text/plain": [
       "-x2 + x4 + 8.441277265145665"
      ]
     },
     "metadata": {},
     "output_type": "display_data"
    },
    {
     "name": "stdout",
     "output_type": "stream",
     "text": [
      "Eq. 3 rmse: 0.5098572197785856\n"
     ]
    },
    {
     "data": {
      "text/latex": [
       "$\\displaystyle - x_{2} + 1.0279558473729284 x_{4} + 8.441277265145665$"
      ],
      "text/plain": [
       "-x2 + 1.0279558473729284*x4 + 8.441277265145665"
      ]
     },
     "metadata": {},
     "output_type": "display_data"
    },
    {
     "name": "stdout",
     "output_type": "stream",
     "text": [
      "Eq. 4 rmse: 0.4773434942111269\n"
     ]
    },
    {
     "data": {
      "text/latex": [
       "$\\displaystyle - 0.1222317797365249 x_{0} - 0.1222317797365249 x_{1} + x_{4} + 8.181178431301062$"
      ],
      "text/plain": [
       "-0.1222317797365249*x0 - 0.1222317797365249*x1 + x4 + 8.181178431301062"
      ]
     },
     "metadata": {},
     "output_type": "display_data"
    },
    {
     "name": "stdout",
     "output_type": "stream",
     "text": [
      "Eq. 5 rmse: 0.4651428000578202\n"
     ]
    },
    {
     "data": {
      "text/latex": [
       "$\\displaystyle - x_{2} + x_{4} + 8.181178431301062 + \\frac{0.788896579105289 - x_{6}}{x_{0}}$"
      ],
      "text/plain": [
       "-x2 + x4 + 8.181178431301062 + (0.788896579105289 - x6)/x0"
      ]
     },
     "metadata": {},
     "output_type": "display_data"
    },
    {
     "name": "stdout",
     "output_type": "stream",
     "text": [
      "Eq. 6 rmse: 0.42880969790669976\n"
     ]
    },
    {
     "data": {
      "text/latex": [
       "$\\displaystyle - 0.46456245582600664 x_{0} - x_{2} + 0.53543754417399336 x_{4} + 9.799991476546993$"
      ],
      "text/plain": [
       "-0.46456245582600664*x0 - x2 + 0.53543754417399336*x4 + 9.799991476546993"
      ]
     },
     "metadata": {},
     "output_type": "display_data"
    },
    {
     "name": "stdout",
     "output_type": "stream",
     "text": [
      "Eq. 7 rmse: 0.40554377609178593\n"
     ]
    },
    {
     "data": {
      "text/latex": [
       "$\\displaystyle x_{4} + 7.58753281205305 + \\frac{- 1.3210556912859066 x_{2} - x_{6} + 1.6331752018825559}{x_{0}}$"
      ],
      "text/plain": [
       "x4 + 7.58753281205305 + (-1.3210556912859066*x2 - x6 + 1.6331752018825559)/x0"
      ]
     },
     "metadata": {},
     "output_type": "display_data"
    },
    {
     "name": "stdout",
     "output_type": "stream",
     "text": [
      "Eq. 8 rmse: 0.39809646459506504\n"
     ]
    },
    {
     "data": {
      "text/latex": [
       "$\\displaystyle - 0.4361747248793917 x_{0} - 0.64554825365805757 x_{2} + x_{4} + 9.437355490458047$"
      ],
      "text/plain": [
       "-0.4361747248793917*x0 - 0.64554825365805757*x2 + x4 + 9.437355490458047"
      ]
     },
     "metadata": {},
     "output_type": "display_data"
    },
    {
     "name": "stdout",
     "output_type": "stream",
     "text": [
      "Eq. 9 rmse: 0.39809646459506504\n"
     ]
    },
    {
     "data": {
      "text/latex": [
       "$\\displaystyle - 0.4361747259132775 x_{0} - 0.64554825478674843 x_{2} + x_{4} + 9.4373554939610405$"
      ],
      "text/plain": [
       "-0.4361747259132775*x0 - 0.64554825478674843*x2 + x4 + 9.4373554939610405"
      ]
     },
     "metadata": {},
     "output_type": "display_data"
    },
    {
     "name": "stdout",
     "output_type": "stream",
     "text": [
      "Eq. 10 rmse: 0.3642217411034978\n"
     ]
    },
    {
     "data": {
      "text/latex": [
       "$\\displaystyle x_{4} + x_{6} \\left(x_{2} - 1.1598775212786263\\right) + \\frac{5.41147838328439 \\cdot \\left(1.443193286119009 x_{0} - 0.33435867154210816 x_{2} + 0.23167975818488953\\right)}{x_{0}}$"
      ],
      "text/plain": [
       "x4 + x6*(x2 - 1.1598775212786263) + 5.41147838328439*(1.443193286119009*x0 - 0.33435867154210816*x2 + 0.23167975818488953)/x0"
      ]
     },
     "metadata": {},
     "output_type": "display_data"
    }
   ],
   "source": [
    "test_relation(df_purge[['logRho_soi_approx_new','T-type', 'Bar', 'Disk', 'Core', 'AGN', 'Pseudobulge']])"
   ]
  },
  {
   "cell_type": "code",
   "execution_count": 22,
   "id": "255cc1c2",
   "metadata": {},
   "outputs": [
    {
     "name": "stderr",
     "output_type": "stream",
     "text": [
      "/home/zj448/miniconda3/lib/python3.9/site-packages/pysr/sr.py:1257: UserWarning: Note: it looks like you are running in Jupyter. The progress bar will be turned off.\n",
      "  warnings.warn(\n"
     ]
    },
    {
     "name": "stdout",
     "output_type": "stream",
     "text": [
      "Started!\n",
      "\n",
      "Cycles per second: 3.030e+04\n",
      "Head worker occupation: 91.4%. This is high, and will prevent efficient resource usage. Increase `ncyclesperiteration` to reduce load on head worker.\n",
      "Progress: 135 / 600 total iterations (22.500%)\n",
      "==============================\n",
      "Hall of Fame:\n",
      "-----------------------------------------\n",
      "Complexity  Loss       Score     Equation\n",
      "1           8.643e-01  -1.000e-10  8.18117843141749\n",
      "3           3.261e-01  4.873e-01  (x0 - -9.553550099159985)\n",
      "5           1.491e-01  3.912e-01  ((x0 + 9.319035394610406) + x4)\n",
      "7           1.491e-01  9.087e-05  ((x0 + (x4 * 0.9893080534019084)) + 9.319035394610406)\n",
      "9           1.276e-01  7.790e-02  (x0 + ((9.319035394610406 - (x6 * 0.2873079448687995)) + x4))\n",
      "11          1.226e-01  1.998e-02  ((((x0 + 0.05500909788246669) + x4) - (0.36215667350336705 * x6)) + 9.319035394610406)\n",
      "13          1.222e-01  1.454e-03  (((((x0 - -0.020939499809726363) + 0.05500909788246669) + x4) - (x6 * 0.36215667350336705)) + 9.319035394610406)\n",
      "15          1.219e-01  1.202e-03  ((((x0 + 9.376820584520448) - -0.3617662279385149) + x4) + (((x6 * -0.7175309376893599) + -0.5983474571776304) * 0.5628292317737352))\n",
      "17          1.215e-01  1.758e-03  (((((x0 + (x3 * (-0.020939499809726363 * x1))) + 0.05500909788246669) + x4) - (x6 * 0.36215667350336705)) + 9.319035394610406)\n",
      "19          1.190e-01  1.063e-02  (((((x0 + ((x0 - x4) * (x4 * 0.07538630584418707))) + 0.08890626171897137) + x4) - (x6 * 0.44386683850647546)) + 9.352932558458383)\n",
      "\n",
      "==============================\n",
      "Press 'q' and then <enter> to stop execution early.\n",
      "\n",
      "Cycles per second: 3.960e+04\n",
      "Head worker occupation: 67.8%. This is high, and will prevent efficient resource usage. Increase `ncyclesperiteration` to reduce load on head worker.\n",
      "Progress: 292 / 600 total iterations (48.667%)\n",
      "==============================\n",
      "Hall of Fame:\n",
      "-----------------------------------------\n",
      "Complexity  Loss       Score     Equation\n",
      "1           8.643e-01  -1.000e-10  8.18117843141749\n",
      "3           3.261e-01  4.873e-01  (x0 - -9.553550099159985)\n",
      "5           1.491e-01  3.912e-01  ((x0 + 9.319035394610406) + x4)\n",
      "7           1.491e-01  9.087e-05  ((x0 + (x4 * 0.9893080534019084)) + 9.319035394610406)\n",
      "9           1.219e-01  1.005e-01  ((x0 + 9.401819373149976) - ((x6 * 0.40384738948788734) - x4))\n",
      "15          1.190e-01  4.085e-03  (((((x0 - (x4 * 0.13893591191368893)) - -2.461030475863236) + x4) - (x6 * 0.44066363388411967)) + 6.98095372510238)\n",
      "17          1.132e-01  2.472e-02  (((x0 - 4.094835490709596) + (x4 + (-0.6245432883648218 / ((x0 - x4) - (x6 * -70.60400294905793))))) - -13.089032015210877)\n",
      "19          1.110e-01  1.014e-02  (((((x0 - (((x4 + -0.05512392455178233) + x2) * 0.23738452860413284)) - -0.8964378332740573) + x4) - (x6 * 0.3904073701612592)) + 8.663743652766032)\n",
      "\n",
      "==============================\n",
      "Press 'q' and then <enter> to stop execution early.\n",
      "\n",
      "Cycles per second: 4.890e+04\n",
      "Head worker occupation: 44.6%. This is high, and will prevent efficient resource usage. Increase `ncyclesperiteration` to reduce load on head worker.\n",
      "Progress: 526 / 600 total iterations (87.667%)\n",
      "==============================\n",
      "Hall of Fame:\n",
      "-----------------------------------------\n",
      "Complexity  Loss       Score     Equation\n",
      "1           8.643e-01  -1.000e-10  8.18117843141749\n",
      "3           3.261e-01  4.873e-01  (x0 - -9.553550099159985)\n",
      "5           1.491e-01  3.912e-01  ((x0 + x4) + 9.316500877101788)\n",
      "7           1.491e-01  6.933e-05  ((x0 + 9.319035394616067) - (x4 * -0.9893080533823793))\n",
      "9           1.219e-01  1.005e-01  ((x0 + 9.401819373149976) - ((x6 * 0.40384738948788734) - x4))\n",
      "11          1.219e-01  -5.000e-11  (x0 + ((x4 + 9.40181937310668) - (x6 * (x6 * 0.40384738953051064))))\n",
      "13          1.215e-01  1.833e-03  ((x0 + 9.401819373149976) - (((0.40384738948788734 * (x6 * 1.061510442636365)) - x4) * 0.8357751992710842))\n",
      "15          1.185e-01  1.232e-02  ((x0 + (x4 + 9.40181937354928)) + ((x6 / ((-2.341291582523514 / x1) + 6.830654191548931)) * -2.21303817922197))\n",
      "17          1.110e-01  3.281e-02  (((((x0 - ((x4 + x2) * 0.23738452856338596)) - -0.9176609195876906) + x4) + (x6 * -0.39040737017121174)) + 8.649621792692406)\n",
      "19          1.110e-01  1.613e-04  (((((x0 - (((x4 + -0.05512392455178233) + x2) * 0.23738452860413284)) - -0.8964378332740573) + x4) - (x6 * 0.3904073701612592)) + 8.663743652766032)\n",
      "21          1.077e-01  1.519e-02  (((((x0 - (((x4 - (x6 * x2)) + x2) * 0.3004874722635362)) - -2.4594837417646302) + x4) + (x6 * -0.6208702942892388)) + 7.159358536031385)\n",
      "\n",
      "==============================\n",
      "Press 'q' and then <enter> to stop execution early.\n",
      "parameters:\n",
      "x 0 : Log_Avg_Rho_5kpc_approx\n",
      "x 1 : T-type\n",
      "x 2 : Bar\n",
      "x 3 : Disk\n",
      "x 4 : Core\n",
      "x 5 : AGN\n",
      "x 6 : Pseudobulge\n",
      "Eq. selected rmse: 0.3861571640239788\n"
     ]
    },
    {
     "data": {
      "text/latex": [
       "$\\displaystyle x_{0} + x_{4} + 9.316500877101788$"
      ],
      "text/plain": [
       "x0 + x4 + 9.316500877101788"
      ]
     },
     "metadata": {},
     "output_type": "display_data"
    },
    {
     "name": "stdout",
     "output_type": "stream",
     "text": [
      "Eq. 0 rmse: 0.9296505481997017\n"
     ]
    },
    {
     "data": {
      "text/latex": [
       "$\\displaystyle 8.18117843141749$"
      ],
      "text/plain": [
       "8.18117843141749"
      ]
     },
     "metadata": {},
     "output_type": "display_data"
    },
    {
     "name": "stdout",
     "output_type": "stream",
     "text": [
      "Eq. 1 rmse: 0.571057632280087\n"
     ]
    },
    {
     "data": {
      "text/latex": [
       "$\\displaystyle x_{0} + 9.553550099159985$"
      ],
      "text/plain": [
       "x0 + 9.553550099159985"
      ]
     },
     "metadata": {},
     "output_type": "display_data"
    },
    {
     "name": "stdout",
     "output_type": "stream",
     "text": [
      "Eq. 2 rmse: 0.3861571640239788\n"
     ]
    },
    {
     "data": {
      "text/latex": [
       "$\\displaystyle x_{0} + x_{4} + 9.316500877101788$"
      ],
      "text/plain": [
       "x0 + x4 + 9.316500877101788"
      ]
     },
     "metadata": {},
     "output_type": "display_data"
    },
    {
     "name": "stdout",
     "output_type": "stream",
     "text": [
      "Eq. 3 rmse: 0.38613039271674104\n"
     ]
    },
    {
     "data": {
      "text/latex": [
       "$\\displaystyle x_{0} + 0.9893080533823793 x_{4} + 9.319035394616067$"
      ],
      "text/plain": [
       "x0 + 0.9893080533823793*x4 + 9.319035394616067"
      ]
     },
     "metadata": {},
     "output_type": "display_data"
    },
    {
     "name": "stdout",
     "output_type": "stream",
     "text": [
      "Eq. 4 rmse: 0.3492004426797131\n"
     ]
    },
    {
     "data": {
      "text/latex": [
       "$\\displaystyle x_{0} + x_{4} - 0.40384738948788734 x_{6} + 9.401819373149976$"
      ],
      "text/plain": [
       "x0 + x4 - 0.40384738948788734*x6 + 9.401819373149976"
      ]
     },
     "metadata": {},
     "output_type": "display_data"
    },
    {
     "name": "stdout",
     "output_type": "stream",
     "text": [
      "Eq. 5 rmse: 0.3492004426797132\n"
     ]
    },
    {
     "data": {
      "text/latex": [
       "$\\displaystyle x_{0} + x_{4} - 0.40384738953051064 x_{6}^{2} + 9.40181937310668$"
      ],
      "text/plain": [
       "x0 + x4 - 0.40384738953051064*x6**2 + 9.40181937310668"
      ]
     },
     "metadata": {},
     "output_type": "display_data"
    },
    {
     "name": "stdout",
     "output_type": "stream",
     "text": [
      "Eq. 6 rmse: 0.34856094365174634\n"
     ]
    },
    {
     "data": {
      "text/latex": [
       "$\\displaystyle x_{0} + 0.8357751992710842 x_{4} - 0.35828698347588675 x_{6} + 9.401819373149976$"
      ],
      "text/plain": [
       "x0 + 0.8357751992710842*x4 - 0.35828698347588675*x6 + 9.401819373149976"
      ]
     },
     "metadata": {},
     "output_type": "display_data"
    },
    {
     "name": "stdout",
     "output_type": "stream",
     "text": [
      "Eq. 7 rmse: 0.34429274797634607\n"
     ]
    },
    {
     "data": {
      "text/latex": [
       "$\\displaystyle x_{0} + x_{4} - \\frac{2.21303817922197 x_{6}}{6.830654191548931 - \\frac{2.341291582523514}{x_{1}}} + 9.40181937354928$"
      ],
      "text/plain": [
       "x0 + x4 - 2.21303817922197*x6/(6.830654191548931 - 2.341291582523514/x1) + 9.40181937354928"
      ]
     },
     "metadata": {},
     "output_type": "display_data"
    },
    {
     "name": "stdout",
     "output_type": "stream",
     "text": [
      "Eq. 8 rmse: 0.3331275699663772\n"
     ]
    },
    {
     "data": {
      "text/latex": [
       "$\\displaystyle x_{0} - 0.2373845286702575 x_{2} + 0.7626154713297425 x_{4} - 0.39040737022249694 x_{6} + 9.573267052954664$"
      ],
      "text/plain": [
       "x0 - 0.2373845286702575*x2 + 0.7626154713297425*x4 - 0.39040737022249694*x6 + 9.573267052954664"
      ]
     },
     "metadata": {},
     "output_type": "display_data"
    },
    {
     "name": "stdout",
     "output_type": "stream",
     "text": [
      "Eq. 9 rmse: 0.32810670136640835\n"
     ]
    },
    {
     "data": {
      "text/latex": [
       "$\\displaystyle x_{0} + 0.3004874722635362 x_{2} x_{6} - 0.3004874722635362 x_{2} + 0.6995125277364638 x_{4} - 0.6208702942892388 x_{6} + 9.6188422777960151$"
      ],
      "text/plain": [
       "x0 + 0.3004874722635362*x2*x6 - 0.3004874722635362*x2 + 0.6995125277364638*x4 - 0.6208702942892388*x6 + 9.6188422777960151"
      ]
     },
     "metadata": {},
     "output_type": "display_data"
    }
   ],
   "source": [
    "test_relation(df_purge[['Log_Avg_Rho_5kpc_approx','T-type', 'Bar', 'Disk', 'Core', 'AGN', 'Pseudobulge']])"
   ]
  },
  {
   "cell_type": "markdown",
   "id": "138a0fac",
   "metadata": {},
   "source": [
    "LTG(sprial) galaxies"
   ]
  },
  {
   "cell_type": "code",
   "execution_count": 53,
   "id": "ccd0cd4d",
   "metadata": {},
   "outputs": [
    {
     "name": "stdout",
     "output_type": "stream",
     "text": [
      "Index(['T-type', 'Bar', 'Disk', 'Core', 'AGN', 'Pseudobulge', 'M_BH',\n",
      "       'M_BH_std', 'M*_sph', 'M*_disk', 'M*_gal', 'log_B/T', 'log_D/T',\n",
      "       'm_#_of_arms', 'phi', 'log_sigma0', 'log_v_max', 'log_R_e_sph_maj',\n",
      "       'log_R_e_sph_eq_kpc', 'log_n_sph_maj', 'log_n_sph_eq',\n",
      "       'log(I_e,sph,maj/M_Sun/pc^2)', 'log(I_e,sph,eq/M_Sun/pc^2)',\n",
      "       'Concentration_Index', 'avg_Rho_1kpc_Exact_All', 'r1_density_approx',\n",
      "       'log10(R10_kpc)', 'logRho_R10_approx', 'log_rho10_Exact',\n",
      "       'log10(R90_kpc)', 'logRho_R90_approx', 'log_rho_90_Exact_all',\n",
      "       'Rho_re_spatial', 'SR_pc_All', 'Rho_SR_pc_All', 'CR_def1_approx_new',\n",
      "       'Rho_cr_def1_approx_new', 'CR_def2_approx_new',\n",
      "       'Rho_CR_def2_approx_new', 'Sr(pc)_2_using_Falserm_drho',\n",
      "       'Log_Approx_Avg_density_10pc', 'log_Rho_e_Exact_new',\n",
      "       'logRho_e_approx_New', 'logRho_soi_approx_new', 'log_Rho_soi_exact_new',\n",
      "       'Avg_Rho_Re_Exact_all', 'Avg_Rho_soi_exact_all', 'Avg_Rho_re_Exact_all',\n",
      "       'Rho_re_Exact_all', 'r_soi_2BH_approx', 'Rho_r_soi_2BH_approx',\n",
      "       'Log_Avg_Rho_10kpc_approx', 'Log_Avg_Rho_10kpc_exact_final',\n",
      "       'Log_Avg_Rho_100pc_approx', 'Log_Avg_Rho_5kpc_approx',\n",
      "       'Log_Avg_rho_5kpc_exact_all'],\n",
      "      dtype='object')\n",
      "56 33\n"
     ]
    }
   ],
   "source": [
    "nanpercent=0.7\n",
    "cols_to_delete = df_clean.columns[df_clean.isnull().sum()/len(df_clean) > nanpercent]\n",
    "df_lessnan=df_clean.drop(cols_to_delete, axis = 1)\n",
    "df_purge=df_lessnan.dropna(axis='index',how='any')\n",
    "print(df_purge.columns)\n",
    "print(len(df_purge.columns),len(df_purge))\n",
    "#HTML(df_purge.to_html())"
   ]
  },
  {
   "cell_type": "markdown",
   "id": "17509be5",
   "metadata": {},
   "source": [
    "$|\\phi|$"
   ]
  },
  {
   "cell_type": "code",
   "execution_count": 60,
   "id": "ecde1169",
   "metadata": {
    "scrolled": true
   },
   "outputs": [
    {
     "name": "stderr",
     "output_type": "stream",
     "text": [
      "/home/zj448/miniconda3/lib/python3.9/site-packages/pysr/sr.py:1257: UserWarning: Note: it looks like you are running in Jupyter. The progress bar will be turned off.\n",
      "  warnings.warn(\n"
     ]
    },
    {
     "name": "stdout",
     "output_type": "stream",
     "text": [
      "Started!\n",
      "\n",
      "Cycles per second: 7.160e+04\n",
      "Head worker occupation: 11.4%\n",
      "Progress: 226 / 600 total iterations (37.667%)\n",
      "==============================\n",
      "Hall of Fame:\n",
      "-----------------------------------------\n",
      "Complexity  Loss       Score     Equation\n",
      "1           2.268e-01  -1.000e-10  7.607431600530748\n",
      "5           7.529e-02  2.757e-01  ((x0 * -0.127491375324191) + 9.202346936864185)\n",
      "7           6.448e-02  7.751e-02  (((x0 + x6) * -0.127491375324191) + 9.202346936864185)\n",
      "9           5.868e-02  4.714e-02  (((x0 - (x5 - x6)) * -0.127491375324191) + 9.202346936864185)\n",
      "11          5.489e-02  3.337e-02  (((x0 - (x5 - (x6 / 0.6012955938423843))) * -0.127491375324191) + 9.202346936864185)\n",
      "13          5.482e-02  6.122e-04  (((x0 - (x5 - (x6 / (-0.5962287871921054 - -1.1828085140343625)))) * -0.127491375324191) + 9.202346936864185)\n",
      "15          5.478e-02  4.018e-04  (((x0 - (x5 - (x6 / (-0.6083952766136351 / (1.3738602283288046 / -1.1878763197129383))))) * -0.127491375324191) + 9.202346936864185)\n",
      "17          5.419e-02  5.401e-03  (((x0 - (x5 - (x6 - (-1.1455451313746765 / ((x2 + -1.4070985230968442) / -0.210297756113296))))) * -0.127491375324191) + 9.202346936864185)\n",
      "19          5.399e-02  1.816e-03  (((x0 - (x5 - (x6 / (-0.7081891702965926 / (((x6 / x1) + x3) / -1.1878763197129383))))) * -0.127491375324191) + 9.202346936864185)\n",
      "21          5.229e-02  1.601e-02  (((x0 - (x2 - (x2 / (-0.5713414427165876 / ((((0.03189450647616044 ^ x5) / 0.6012955938423843) + x6) * -0.8887656570105764))))) * -0.127491375324191) + 9.202346936864185)\n",
      "\n",
      "==============================\n",
      "Press 'q' and then <enter> to stop execution early.\n",
      "\n",
      "Cycles per second: 5.680e+04\n",
      "Head worker occupation: 51.2%. This is high, and will prevent efficient resource usage. Increase `ncyclesperiteration` to reduce load on head worker.\n",
      "Progress: 453 / 600 total iterations (75.500%)\n",
      "==============================\n",
      "Hall of Fame:\n",
      "-----------------------------------------\n",
      "Complexity  Loss       Score     Equation\n",
      "1           2.268e-01  -1.000e-10  7.607431600530748\n",
      "5           7.529e-02  2.757e-01  ((x0 * -0.127491375324191) + 9.202346936864185)\n",
      "7           6.271e-02  9.146e-02  (((x0 + x6) * -0.12475864971845052) + 9.202346936864185)\n",
      "9           5.588e-02  5.764e-02  (((x0 - (x5 - x6)) * -0.12985057409002984) + 9.178509021071283)\n",
      "11          5.301e-02  2.630e-02  (((x0 - (x5 - (x6 + x2))) * -0.12364985481354819) + 9.223530316803105)\n",
      "13          5.024e-02  2.690e-02  (((x0 - (x5 - ((x6 + x6) + x2))) * -0.12264633270951943) + 9.238248035492626)\n",
      "15          5.024e-02  -5.000e-11  (((x0 - (x5 - (((x6 + x6) - x4) + x2))) * -0.12264633263075894) + 9.238248035495706)\n",
      "17          4.842e-02  1.847e-02  (((x0 - ((x5 ^ x2) - (x2 + ((-1.782702223314446 ^ x6) * -0.7411584308955508)))) * -0.127491375324191) + 9.202346936864185)\n",
      "19          4.494e-02  3.728e-02  (((x0 - (0.4226340721994988 - (x2 + (-0.8823390894228479 / (((x5 + x2) + -1.3954062424675495) ^ x6))))) * -0.127491375324191) + 9.202346936864185)\n",
      "21          4.454e-02  4.498e-03  (((x0 - (0.6059980428854526 - (x2 + (-1.1636563032585645 / ((((x0 ^ x5) * x2) + -1.462914226235044) ^ x6))))) * -0.127491375324191) + 9.202346936864185)\n",
      "\n",
      "==============================\n",
      "Press 'q' and then <enter> to stop execution early.\n",
      "parameters:\n",
      "x 0 : phi\n",
      "x 1 : T-type\n",
      "x 2 : Bar\n",
      "x 3 : Disk\n",
      "x 4 : Core\n",
      "x 5 : AGN\n",
      "x 6 : Pseudobulge\n",
      "Eq. selected rmse: 0.19871965124359825\n"
     ]
    },
    {
     "data": {
      "text/latex": [
       "$\\displaystyle - 0.12793274344286767 x_{0} - 0.12793274344286767 x_{2} - 0.12793274344286767 x_{2} \\left(9.262712759179463 - x_{0}\\right)^{- x_{5}} + 0.12793274344286767 x_{5} - 0.12793274344286767 x_{6} + 9.262712759179463$"
      ],
      "text/plain": [
       "-0.12793274344286767*x0 - 0.12793274344286767*x2 - 0.12793274344286767*x2/(9.262712759179463 - x0)**x5 + 0.12793274344286767*x5 - 0.12793274344286767*x6 + 9.262712759179463"
      ]
     },
     "metadata": {},
     "output_type": "display_data"
    },
    {
     "name": "stdout",
     "output_type": "stream",
     "text": [
      "Eq. 0 rmse: 0.47628649440503695\n"
     ]
    },
    {
     "data": {
      "text/latex": [
       "$\\displaystyle 7.607431600530748$"
      ],
      "text/plain": [
       "7.607431600530748"
      ]
     },
     "metadata": {},
     "output_type": "display_data"
    },
    {
     "name": "stdout",
     "output_type": "stream",
     "text": [
      "Eq. 1 rmse: 0.2743919705476131\n"
     ]
    },
    {
     "data": {
      "text/latex": [
       "$\\displaystyle 9.202346936864185 - 0.127491375324191 x_{0}$"
      ],
      "text/plain": [
       "9.202346936864185 - 0.127491375324191*x0"
      ]
     },
     "metadata": {},
     "output_type": "display_data"
    },
    {
     "name": "stdout",
     "output_type": "stream",
     "text": [
      "Eq. 2 rmse: 0.2504099579513547\n"
     ]
    },
    {
     "data": {
      "text/latex": [
       "$\\displaystyle - 0.12475864971845052 x_{0} - 0.12475864971845052 x_{6} + 9.202346936864185$"
      ],
      "text/plain": [
       "-0.12475864971845052*x0 - 0.12475864971845052*x6 + 9.202346936864185"
      ]
     },
     "metadata": {},
     "output_type": "display_data"
    },
    {
     "name": "stdout",
     "output_type": "stream",
     "text": [
      "Eq. 3 rmse: 0.23638505865142567\n"
     ]
    },
    {
     "data": {
      "text/latex": [
       "$\\displaystyle - 0.12985057409002984 x_{0} + 0.12985057409002984 x_{5} - 0.12985057409002984 x_{6} + 9.178509021071283$"
      ],
      "text/plain": [
       "-0.12985057409002984*x0 + 0.12985057409002984*x5 - 0.12985057409002984*x6 + 9.178509021071283"
      ]
     },
     "metadata": {},
     "output_type": "display_data"
    },
    {
     "name": "stdout",
     "output_type": "stream",
     "text": [
      "Eq. 4 rmse: 0.22925056705033814\n"
     ]
    },
    {
     "data": {
      "text/latex": [
       "$\\displaystyle - 0.1279327434281201 x_{0} - 0.1279327434281201 x_{2} + 0.1279327434281201 x_{5} - 0.1279327434281201 x_{6} + 9.262712759475416$"
      ],
      "text/plain": [
       "-0.1279327434281201*x0 - 0.1279327434281201*x2 + 0.1279327434281201*x5 - 0.1279327434281201*x6 + 9.262712759475416"
      ]
     },
     "metadata": {},
     "output_type": "display_data"
    },
    {
     "name": "stdout",
     "output_type": "stream",
     "text": [
      "Eq. 5 rmse: 0.22413820919576438\n"
     ]
    },
    {
     "data": {
      "text/latex": [
       "$\\displaystyle - 0.12264633275495064 x_{0} - 0.12264633275495064 x_{2} + 0.12264633275495064 x_{5} - 0.24529266550990128 x_{6} + 9.238248035491454$"
      ],
      "text/plain": [
       "-0.12264633275495064*x0 - 0.12264633275495064*x2 + 0.12264633275495064*x5 - 0.24529266550990128*x6 + 9.238248035491454"
      ]
     },
     "metadata": {},
     "output_type": "display_data"
    },
    {
     "name": "stdout",
     "output_type": "stream",
     "text": [
      "Eq. 6 rmse: 0.21908454291726245\n"
     ]
    },
    {
     "data": {
      "text/latex": [
       "$\\displaystyle - 0.127491375324191 x_{0} + 0.127491375324191 \\left(x_{1} \\left(x_{5}^{x_{2}} - 0.2435383990886446\\right) - 1.8065159806333415\\right)^{x_{6}} + 9.202346936864185$"
      ],
      "text/plain": [
       "-0.127491375324191*x0 + 0.127491375324191*(x1*(x5**x2 - 0.2435383990886446) - 1.8065159806333415)**x6 + 9.202346936864185"
      ]
     },
     "metadata": {},
     "output_type": "display_data"
    },
    {
     "name": "stdout",
     "output_type": "stream",
     "text": [
      "Eq. 7 rmse: 0.19871965124359825\n"
     ]
    },
    {
     "data": {
      "text/latex": [
       "$\\displaystyle - 0.12793274344286767 x_{0} - 0.12793274344286767 x_{2} - 0.12793274344286767 x_{2} \\left(9.262712759179463 - x_{0}\\right)^{- x_{5}} + 0.12793274344286767 x_{5} - 0.12793274344286767 x_{6} + 9.262712759179463$"
      ],
      "text/plain": [
       "-0.12793274344286767*x0 - 0.12793274344286767*x2 - 0.12793274344286767*x2/(9.262712759179463 - x0)**x5 + 0.12793274344286767*x5 - 0.12793274344286767*x6 + 9.262712759179463"
      ]
     },
     "metadata": {},
     "output_type": "display_data"
    }
   ],
   "source": [
    "df_purge=df_clean[['M_BH','M_BH_std','phi','T-type', 'Bar', 'Disk', 'Core', 'AGN', 'Pseudobulge']].dropna(axis='index',how='any')\n",
    "test_relation(df_purge[['phi','T-type', 'Bar', 'Disk', 'Core', 'AGN', 'Pseudobulge']])"
   ]
  },
  {
   "cell_type": "markdown",
   "id": "7f3f108e",
   "metadata": {},
   "source": [
    "$M_{DM}$ "
   ]
  },
  {
   "cell_type": "code",
   "execution_count": 71,
   "id": "f4bd5710",
   "metadata": {
    "scrolled": true
   },
   "outputs": [
    {
     "name": "stderr",
     "output_type": "stream",
     "text": [
      "/home/zj448/miniconda3/lib/python3.9/site-packages/pysr/sr.py:1257: UserWarning: Note: it looks like you are running in Jupyter. The progress bar will be turned off.\n",
      "  warnings.warn(\n"
     ]
    },
    {
     "name": "stdout",
     "output_type": "stream",
     "text": [
      "parameters:\n",
      "x 0 : M_DM\n",
      "x 1 : T-type\n",
      "x 2 : Bar\n",
      "x 3 : Disk\n",
      "x 4 : Core\n",
      "x 5 : AGN\n",
      "x 6 : Pseudobulge\n",
      "Eq. selected rmse: 0.2759573605260665\n"
     ]
    },
    {
     "data": {
      "text/latex": [
       "$\\displaystyle x_{0} + x_{4} + 8.037241350387553 - \\frac{150.93384048248672 + \\frac{0.889196734801987}{- x_{1} + x_{3}}}{x_{0}}$"
      ],
      "text/plain": [
       "x0 + x4 + 8.037241350387553 - (150.93384048248672 + 0.889196734801987/(-x1 + x3))/x0"
      ]
     },
     "metadata": {},
     "output_type": "display_data"
    },
    {
     "name": "stdout",
     "output_type": "stream",
     "text": [
      "Eq. 0 rmse: 0.47392912803269754\n"
     ]
    },
    {
     "data": {
      "text/latex": [
       "$\\displaystyle 7.610002611166966$"
      ],
      "text/plain": [
       "7.610002611166966"
      ]
     },
     "metadata": {},
     "output_type": "display_data"
    },
    {
     "name": "stdout",
     "output_type": "stream",
     "text": [
      "Eq. 1 rmse: 0.3987868271862027\n"
     ]
    },
    {
     "data": {
      "text/latex": [
       "$\\displaystyle x_{0} - 4.4342229596042095$"
      ],
      "text/plain": [
       "x0 - 4.4342229596042095"
      ]
     },
     "metadata": {},
     "output_type": "display_data"
    },
    {
     "name": "stdout",
     "output_type": "stream",
     "text": [
      "Eq. 2 rmse: 0.3987868271862027\n"
     ]
    },
    {
     "data": {
      "text/latex": [
       "$\\displaystyle x_{0} - 4.4342229596128351$"
      ],
      "text/plain": [
       "x0 - 4.4342229596128351"
      ]
     },
     "metadata": {},
     "output_type": "display_data"
    },
    {
     "name": "stdout",
     "output_type": "stream",
     "text": [
      "Eq. 3 rmse: 0.34402010226648116\n"
     ]
    },
    {
     "data": {
      "text/latex": [
       "$\\displaystyle 38.41450615268797 + \\frac{x_{5} - 371.7740064854505}{x_{0}}$"
      ],
      "text/plain": [
       "38.41450615268797 + (x5 - 371.7740064854505)/x0"
      ]
     },
     "metadata": {},
     "output_type": "display_data"
    },
    {
     "name": "stdout",
     "output_type": "stream",
     "text": [
      "Eq. 4 rmse: 0.34312313013509016\n"
     ]
    },
    {
     "data": {
      "text/latex": [
       "$\\displaystyle 2.6428248032117247 x_{0} - 24.22077546305321$"
      ],
      "text/plain": [
       "2.6428248032117247*x0 - 24.22077546305321"
      ]
     },
     "metadata": {},
     "output_type": "display_data"
    },
    {
     "name": "stdout",
     "output_type": "stream",
     "text": [
      "Eq. 5 rmse: 0.32153258634252496\n"
     ]
    },
    {
     "data": {
      "text/latex": [
       "$\\displaystyle 2 x_{0} - 16.721764575792392 + \\frac{x_{5}}{x_{1}}$"
      ],
      "text/plain": [
       "2*x0 - 16.721764575792392 + x5/x1"
      ]
     },
     "metadata": {},
     "output_type": "display_data"
    },
    {
     "name": "stdout",
     "output_type": "stream",
     "text": [
      "Eq. 6 rmse: 0.30621050866420196\n"
     ]
    },
    {
     "data": {
      "text/latex": [
       "$\\displaystyle x_{0} + \\left(x_{2} - 1.09228175771981\\right) \\left(x_{6} - 0.79937954100256\\right) - 4.4714016109276917$"
      ],
      "text/plain": [
       "x0 + (x2 - 1.09228175771981)*(x6 - 0.79937954100256) - 4.4714016109276917"
      ]
     },
     "metadata": {},
     "output_type": "display_data"
    },
    {
     "name": "stdout",
     "output_type": "stream",
     "text": [
      "Eq. 7 rmse: 0.2759573605260665\n"
     ]
    },
    {
     "data": {
      "text/latex": [
       "$\\displaystyle x_{0} + x_{4} + 8.037241350387553 - \\frac{150.93384048248672 + \\frac{0.889196734801987}{- x_{1} + x_{3}}}{x_{0}}$"
      ],
      "text/plain": [
       "x0 + x4 + 8.037241350387553 - (150.93384048248672 + 0.889196734801987/(-x1 + x3))/x0"
      ]
     },
     "metadata": {},
     "output_type": "display_data"
    },
    {
     "name": "stdout",
     "output_type": "stream",
     "text": [
      "Eq. 8 rmse: 0.2741809830769338\n"
     ]
    },
    {
     "data": {
      "text/latex": [
       "$\\displaystyle x_{0} + 6.107937784613776 - \\frac{x_{5} + x_{6} + 126.7967504330045 + \\frac{0.8912816245788976}{- x_{1} + x_{3}}}{x_{0}}$"
      ],
      "text/plain": [
       "x0 + 6.107937784613776 - (x5 + x6 + 126.7967504330045 + 0.8912816245788976/(-x1 + x3))/x0"
      ]
     },
     "metadata": {},
     "output_type": "display_data"
    },
    {
     "name": "stdout",
     "output_type": "stream",
     "text": [
      "Eq. 9 rmse: 0.25796471776733904\n"
     ]
    },
    {
     "data": {
      "text/latex": [
       "$\\displaystyle 2 x_{0} - x_{5} - 15.81040484017694 + \\frac{2.353468466285202 x_{5}}{x_{1}} - \\frac{16.16263558582034}{x_{0} x_{1}}$"
      ],
      "text/plain": [
       "2*x0 - x5 - 15.81040484017694 + 2.353468466285202*x5/x1 - 16.16263558582034/(x0*x1)"
      ]
     },
     "metadata": {},
     "output_type": "display_data"
    }
   ],
   "source": [
    "df_purge=df_clean[['M_BH','M_BH_std','M_DM','T-type', 'Bar', 'Disk', 'Core', 'AGN', 'Pseudobulge']].dropna(axis='index',how='any')\n",
    "test_relation(df_purge[['M_DM','T-type', 'Bar', 'Disk', 'Core', 'AGN', 'Pseudobulge']],operator=\"basic\",adaptive_parsimony_scaling=100)"
   ]
  },
  {
   "cell_type": "markdown",
   "id": "b0630a1c",
   "metadata": {},
   "source": [
    "$v_{max}$"
   ]
  },
  {
   "cell_type": "code",
   "execution_count": 72,
   "id": "8b73c220",
   "metadata": {
    "scrolled": true
   },
   "outputs": [
    {
     "name": "stderr",
     "output_type": "stream",
     "text": [
      "/home/zj448/miniconda3/lib/python3.9/site-packages/pysr/sr.py:1257: UserWarning: Note: it looks like you are running in Jupyter. The progress bar will be turned off.\n",
      "  warnings.warn(\n"
     ]
    },
    {
     "name": "stdout",
     "output_type": "stream",
     "text": [
      "parameters:\n",
      "x 0 : log_v_max\n",
      "x 1 : T-type\n",
      "x 2 : Bar\n",
      "x 3 : Disk\n",
      "x 4 : Core\n",
      "x 5 : AGN\n",
      "x 6 : Pseudobulge\n",
      "Eq. selected rmse: 0.4683954195381608\n"
     ]
    },
    {
     "data": {
      "text/latex": [
       "$\\displaystyle - 0.587509060686779 x_{2} + x_{4} + 8.12222666780487$"
      ],
      "text/plain": [
       "-0.587509060686779*x2 + x4 + 8.12222666780487"
      ]
     },
     "metadata": {},
     "output_type": "display_data"
    },
    {
     "name": "stdout",
     "output_type": "stream",
     "text": [
      "Eq. 0 rmse: 0.6622636804780176\n"
     ]
    },
    {
     "data": {
      "text/latex": [
       "$\\displaystyle 7.77304624859739$"
      ],
      "text/plain": [
       "7.77304624859739"
      ]
     },
     "metadata": {},
     "output_type": "display_data"
    },
    {
     "name": "stdout",
     "output_type": "stream",
     "text": [
      "Eq. 1 rmse: 0.5337717342793203\n"
     ]
    },
    {
     "data": {
      "text/latex": [
       "$\\displaystyle 8.68411057822391 - x_{3}$"
      ],
      "text/plain": [
       "8.68411057822391 - x3"
      ]
     },
     "metadata": {},
     "output_type": "display_data"
    },
    {
     "name": "stdout",
     "output_type": "stream",
     "text": [
      "Eq. 2 rmse: 0.50330999401626\n"
     ]
    },
    {
     "data": {
      "text/latex": [
       "$\\displaystyle - x_{2} + x_{4} + 8.445491463659836$"
      ],
      "text/plain": [
       "-x2 + x4 + 8.445491463659836"
      ]
     },
     "metadata": {},
     "output_type": "display_data"
    },
    {
     "name": "stdout",
     "output_type": "stream",
     "text": [
      "Eq. 3 rmse: 0.4683954195381608\n"
     ]
    },
    {
     "data": {
      "text/latex": [
       "$\\displaystyle - 0.587509060686779 x_{2} + x_{4} + 8.12222666780487$"
      ],
      "text/plain": [
       "-0.587509060686779*x2 + x4 + 8.12222666780487"
      ]
     },
     "metadata": {},
     "output_type": "display_data"
    },
    {
     "name": "stdout",
     "output_type": "stream",
     "text": [
      "Eq. 4 rmse: 0.448036448146681\n"
     ]
    },
    {
     "data": {
      "text/latex": [
       "$\\displaystyle - 0.50417662988287555 x_{2} + x_{4} - 0.50417662988287555 x_{6} + 8.261194273779817$"
      ],
      "text/plain": [
       "-0.50417662988287555*x2 + x4 - 0.50417662988287555*x6 + 8.261194273779817"
      ]
     },
     "metadata": {},
     "output_type": "display_data"
    },
    {
     "name": "stdout",
     "output_type": "stream",
     "text": [
      "Eq. 5 rmse: 0.4284107889957386\n"
     ]
    },
    {
     "data": {
      "text/latex": [
       "$\\displaystyle - x_{2} + x_{4} - x_{6} \\cdot \\left(1.1826405925271102 - x_{2}\\right) + 8.4742300567150682$"
      ],
      "text/plain": [
       "-x2 + x4 - x6*(1.1826405925271102 - x2) + 8.4742300567150682"
      ]
     },
     "metadata": {},
     "output_type": "display_data"
    },
    {
     "name": "stdout",
     "output_type": "stream",
     "text": [
      "Eq. 6 rmse: 0.41124580882161926\n"
     ]
    },
    {
     "data": {
      "text/latex": [
       "$\\displaystyle x_{4} + x_{6} \\left(x_{2} - x_{3}\\right) + 8.26492866169456 - \\frac{1.6351551981670815 x_{2}}{x_{0}}$"
      ],
      "text/plain": [
       "x4 + x6*(x2 - x3) + 8.26492866169456 - 1.6351551981670815*x2/x0"
      ]
     },
     "metadata": {},
     "output_type": "display_data"
    },
    {
     "name": "stdout",
     "output_type": "stream",
     "text": [
      "Eq. 7 rmse: 0.4076185520699448\n"
     ]
    },
    {
     "data": {
      "text/latex": [
       "$\\displaystyle 0.04497527763421013 x_{1} - x_{2} + x_{4} - x_{6} \\cdot \\left(1.1826405925271102 - x_{2}\\right) + 8.4742300567150682$"
      ],
      "text/plain": [
       "0.04497527763421013*x1 - x2 + x4 - x6*(1.1826405925271102 - x2) + 8.4742300567150682"
      ]
     },
     "metadata": {},
     "output_type": "display_data"
    },
    {
     "name": "stdout",
     "output_type": "stream",
     "text": [
      "Eq. 8 rmse: 0.4069601415797293\n"
     ]
    },
    {
     "data": {
      "text/latex": [
       "$\\displaystyle x_{4} + x_{6}^{2} \\left(x_{2} - 1.1355356103731322\\right) + 8.280881285440675 - \\frac{1.5675281290696166 x_{2}}{x_{0}}$"
      ],
      "text/plain": [
       "x4 + x6**2*(x2 - 1.1355356103731322) + 8.280881285440675 - 1.5675281290696166*x2/x0"
      ]
     },
     "metadata": {},
     "output_type": "display_data"
    },
    {
     "name": "stdout",
     "output_type": "stream",
     "text": [
      "Eq. 9 rmse: 0.40407980759828416\n"
     ]
    },
    {
     "data": {
      "text/latex": [
       "$\\displaystyle - 0.6102852689901979 x_{2} + x_{4} + 8.206051011362751 + \\frac{x_{6}}{x_{0} \\left(x_{2} \\left(- x_{5} - 1.148543150104956\\right) - 0.4073493792141279\\right)}$"
      ],
      "text/plain": [
       "-0.6102852689901979*x2 + x4 + 8.206051011362751 + x6/(x0*(x2*(-x5 - 1.148543150104956) - 0.4073493792141279))"
      ]
     },
     "metadata": {},
     "output_type": "display_data"
    }
   ],
   "source": [
    "df_purge=df_clean[['M_BH','M_BH_std','log_v_max','T-type', 'Bar', 'Disk', 'Core', 'AGN', 'Pseudobulge']].dropna(axis='index',how='any')\n",
    "test_relation(df_purge[['log_v_max','T-type', 'Bar', 'Disk', 'Core', 'AGN', 'Pseudobulge']],adaptive_parsimony_scaling=50,operator=\"basic\")\n",
    "#test_relation(df_purge[['log_v_max']])"
   ]
  },
  {
   "cell_type": "code",
   "execution_count": null,
   "id": "3fc7bb97",
   "metadata": {},
   "outputs": [],
   "source": []
  }
 ],
 "metadata": {
  "kernelspec": {
   "display_name": "Python 3 (ipykernel)",
   "language": "python",
   "name": "python3"
  },
  "language_info": {
   "codemirror_mode": {
    "name": "ipython",
    "version": 3
   },
   "file_extension": ".py",
   "mimetype": "text/x-python",
   "name": "python",
   "nbconvert_exporter": "python",
   "pygments_lexer": "ipython3",
   "version": "3.9.5"
  }
 },
 "nbformat": 4,
 "nbformat_minor": 5
}
