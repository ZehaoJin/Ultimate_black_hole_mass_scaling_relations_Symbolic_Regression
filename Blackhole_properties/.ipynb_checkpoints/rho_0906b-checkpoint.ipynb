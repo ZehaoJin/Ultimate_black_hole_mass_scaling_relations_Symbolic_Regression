{
 "cells": [
  {
   "cell_type": "code",
   "execution_count": 1,
   "id": "3ebfad04",
   "metadata": {},
   "outputs": [],
   "source": [
    "import numpy as np\n",
    "import pandas as pd\n",
    "from pysr import PySRRegressor\n",
    "from matplotlib import pyplot as plt\n",
    "from sklearn.model_selection import train_test_split\n",
    "from sklearn.ensemble import RandomForestRegressor\n",
    "from causallearn.search.ConstraintBased.PC import pc\n",
    "\n",
    "import functions"
   ]
  },
  {
   "cell_type": "code",
   "execution_count": 2,
   "id": "76fe9125",
   "metadata": {},
   "outputs": [
    {
     "name": "stdout",
     "output_type": "stream",
     "text": [
      "100\n"
     ]
    },
    {
     "name": "stderr",
     "output_type": "stream",
     "text": [
      "/home/zj448/miniconda3/lib/python3.9/site-packages/pysr/sr.py:1257: UserWarning: Note: it looks like you are running in Jupyter. The progress bar will be turned off.\n",
      "  warnings.warn(\n",
      "/home/zj448/miniconda3/lib/python3.9/site-packages/pysr/sr.py:1761: UserWarning: Note: you are running with 10 features or more. Genetic algorithms like used in PySR scale poorly with large numbers of features. Consider using feature selection techniques to select the most important features (you can do this automatically with the `select_k_features` parameter), or, alternatively, doing a dimensionality reduction beforehand. For example, `X = PCA(n_components=6).fit_transform(X)`, using scikit-learn's `PCA` class, will reduce the number of features to 6 in an interpretable way, as each resultant feature will be a linear combination of the original features. \n",
      "  warnings.warn(\n",
      "WARNING: method definition for OneHotArray at /home/zj448/miniconda3/share/pysr/depot/packages/MicroCollections/yJPLe/src/onehot.jl:79 declares type variable N but does not use it.\n"
     ]
    },
    {
     "name": "stdout",
     "output_type": "stream",
     "text": [
      "parameters:\n",
      "y   : rho_soi_rf\n",
      "x 0 : CR_def2_approx_new\n",
      "x 1 : logRho_R10_approx\n",
      "x 2 : log_rho10_Exact\n",
      "x 3 : Rho_CR_def2_approx_new\n",
      "x 4 : LogSigma0\n",
      "x 5 : Log_Avg_Rho_10kpc_approx\n",
      "x 6 : Sr(pc)_2_using_Falserm_drho\n",
      "x 7 : log_sigma0\n",
      "x 8 : log_rho_90_Exact_all\n",
      "x 9 : M*_sph\n",
      "Eq. selected rmse: 0.36265720664614626\n"
     ]
    },
    {
     "data": {
      "text/latex": [
       "$\\displaystyle x_{1} + 0.8090136401457544 + \\frac{0.4021720965537686 x_{4} \\cdot \\left(6.6583031212352996 x_{6} \\cdot \\left(2.875242764969869 - x_{1}\\right) + x_{8}\\right)}{x_{0}}$"
      ],
      "text/plain": [
       "x1 + 0.8090136401457544 + 0.4021720965537686*x4*(6.6583031212352996*x6*(2.875242764969869 - x1) + x8)/x0"
      ]
     },
     "metadata": {},
     "output_type": "display_data"
    },
    {
     "name": "stdout",
     "output_type": "stream",
     "text": [
      "Eq. 0 rmse: 0.6996648350739375\n"
     ]
    },
    {
     "data": {
      "text/latex": [
       "$\\displaystyle 2.7727802650792746$"
      ],
      "text/plain": [
       "2.7727802650792746"
      ]
     },
     "metadata": {},
     "output_type": "display_data"
    },
    {
     "name": "stdout",
     "output_type": "stream",
     "text": [
      "Eq. 1 rmse: 0.5983009432737525\n"
     ]
    },
    {
     "data": {
      "text/latex": [
       "$\\displaystyle x_{2} + 1.51504692176933$"
      ],
      "text/plain": [
       "x2 + 1.51504692176933"
      ]
     },
     "metadata": {},
     "output_type": "display_data"
    },
    {
     "name": "stdout",
     "output_type": "stream",
     "text": [
      "Eq. 2 rmse: 0.47752409945129554\n"
     ]
    },
    {
     "data": {
      "text/latex": [
       "$\\displaystyle 0.6206773222712205 x_{2} + 1.9865663163989078$"
      ],
      "text/plain": [
       "0.6206773222712205*x2 + 1.9865663163989078"
      ]
     },
     "metadata": {},
     "output_type": "display_data"
    },
    {
     "name": "stdout",
     "output_type": "stream",
     "text": [
      "Eq. 3 rmse: 0.4768141565732582\n"
     ]
    },
    {
     "data": {
      "text/latex": [
       "$\\displaystyle 0.58539392538574046 x_{1} + 2.0346635760695569$"
      ],
      "text/plain": [
       "0.58539392538574046*x1 + 2.0346635760695569"
      ]
     },
     "metadata": {},
     "output_type": "display_data"
    },
    {
     "name": "stdout",
     "output_type": "stream",
     "text": [
      "Eq. 4 rmse: 0.44543842865379923\n"
     ]
    },
    {
     "data": {
      "text/latex": [
       "$\\displaystyle - \\frac{x_{1}}{x_{3}} + 0.511731192476195 x_{2} + 2.2278300448569937$"
      ],
      "text/plain": [
       "-x1/x3 + 0.511731192476195*x2 + 2.2278300448569937"
      ]
     },
     "metadata": {},
     "output_type": "display_data"
    },
    {
     "name": "stdout",
     "output_type": "stream",
     "text": [
      "Eq. 5 rmse: 0.42760504547906103\n"
     ]
    },
    {
     "data": {
      "text/latex": [
       "$\\displaystyle 0.54081454716625448 x_{2} + \\frac{x_{5}}{x_{3} - x_{8}} + 2.293039746634495$"
      ],
      "text/plain": [
       "0.54081454716625448*x2 + x5/(x3 - x8) + 2.293039746634495"
      ]
     },
     "metadata": {},
     "output_type": "display_data"
    },
    {
     "name": "stdout",
     "output_type": "stream",
     "text": [
      "Eq. 6 rmse: 0.4033533602118184\n"
     ]
    },
    {
     "data": {
      "text/latex": [
       "$\\displaystyle x_{1} + 0.9286059672949609 + \\frac{10.48384838502037 x_{6} \\cdot \\left(2.5255291637507016 - x_{2}\\right)}{x_{0}}$"
      ],
      "text/plain": [
       "x1 + 0.9286059672949609 + 10.48384838502037*x6*(2.5255291637507016 - x2)/x0"
      ]
     },
     "metadata": {},
     "output_type": "display_data"
    },
    {
     "name": "stdout",
     "output_type": "stream",
     "text": [
      "Eq. 7 rmse: 0.39139038845778257\n"
     ]
    },
    {
     "data": {
      "text/latex": [
       "$\\displaystyle x_{2} + 1.0446490095089582 + \\frac{9.052545610616786 x_{6} \\cdot \\left(2.6223939197509747 - x_{1}\\right)}{x_{0}}$"
      ],
      "text/plain": [
       "x2 + 1.0446490095089582 + 9.052545610616786*x6*(2.6223939197509747 - x1)/x0"
      ]
     },
     "metadata": {},
     "output_type": "display_data"
    },
    {
     "name": "stdout",
     "output_type": "stream",
     "text": [
      "Eq. 8 rmse: 0.3848009372102884\n"
     ]
    },
    {
     "data": {
      "text/latex": [
       "$\\displaystyle x_{2} - \\frac{x_{2}}{x_{3}} + 1.2499741970469909 + \\frac{8.052545610616786 x_{6} \\cdot \\left(2.5255291637507016 - x_{1}\\right)}{x_{0}}$"
      ],
      "text/plain": [
       "x2 - x2/x3 + 1.2499741970469909 + 8.052545610616786*x6*(2.5255291637507016 - x1)/x0"
      ]
     },
     "metadata": {},
     "output_type": "display_data"
    },
    {
     "name": "stdout",
     "output_type": "stream",
     "text": [
      "Eq. 9 rmse: 0.36265720664614626\n"
     ]
    },
    {
     "data": {
      "text/latex": [
       "$\\displaystyle x_{1} + 0.8090136401457544 + \\frac{0.4021720965537686 x_{4} \\cdot \\left(6.6583031212352996 x_{6} \\cdot \\left(2.875242764969869 - x_{1}\\right) + x_{8}\\right)}{x_{0}}$"
      ],
      "text/plain": [
       "x1 + 0.8090136401457544 + 0.4021720965537686*x4*(6.6583031212352996*x6*(2.875242764969869 - x1) + x8)/x0"
      ]
     },
     "metadata": {},
     "output_type": "display_data"
    },
    {
     "name": "stdout",
     "output_type": "stream",
     "text": [
      "Eq. 10 rmse: 0.3572720046234158\n"
     ]
    },
    {
     "data": {
      "text/latex": [
       "$\\displaystyle x_{1} + \\frac{0.4068898889532936 x_{4} \\cdot \\left(6.6583031212352996 x_{6} \\cdot \\left(2.875242764969869 - x_{2}\\right) + x_{8}\\right)}{x_{0} + x_{1}} + 0.8090136401457544$"
      ],
      "text/plain": [
       "x1 + 0.4068898889532936*x4*(6.6583031212352996*x6*(2.875242764969869 - x2) + x8)/(x0 + x1) + 0.8090136401457544"
      ]
     },
     "metadata": {},
     "output_type": "display_data"
    }
   ],
   "source": [
    "functions.test_relation2(['CR_def2_approx_new', 'logRho_R10_approx', 'log_rho10_Exact',\n",
    "       'Rho_CR_def2_approx_new', 'LogSigma0', 'Log_Avg_Rho_10kpc_approx',\n",
    "       'Sr(pc)_2_using_Falserm_drho', 'log_sigma0', 'log_rho_90_Exact_all',\n",
    "       'M*_sph','rho_soi_rf'],operator='adv')"
   ]
  },
  {
   "cell_type": "code",
   "execution_count": 3,
   "id": "8b059215",
   "metadata": {
    "scrolled": false
   },
   "outputs": [
    {
     "name": "stdout",
     "output_type": "stream",
     "text": [
      "100\n"
     ]
    },
    {
     "name": "stderr",
     "output_type": "stream",
     "text": [
      "/home/zj448/miniconda3/lib/python3.9/site-packages/pysr/sr.py:1257: UserWarning: Note: it looks like you are running in Jupyter. The progress bar will be turned off.\n",
      "  warnings.warn(\n",
      "/home/zj448/miniconda3/lib/python3.9/site-packages/pysr/sr.py:1761: UserWarning: Note: you are running with 10 features or more. Genetic algorithms like used in PySR scale poorly with large numbers of features. Consider using feature selection techniques to select the most important features (you can do this automatically with the `select_k_features` parameter), or, alternatively, doing a dimensionality reduction beforehand. For example, `X = PCA(n_components=6).fit_transform(X)`, using scikit-learn's `PCA` class, will reduce the number of features to 6 in an interpretable way, as each resultant feature will be a linear combination of the original features. \n",
      "  warnings.warn(\n"
     ]
    },
    {
     "name": "stdout",
     "output_type": "stream",
     "text": [
      "parameters:\n",
      "y   : rho_soi_rf\n",
      "x 0 : CR_def2_approx_new\n",
      "x 1 : logRho_R10_approx\n",
      "x 2 : log_rho10_Exact\n",
      "x 3 : Rho_CR_def2_approx_new\n",
      "x 4 : LogSigma0\n",
      "x 5 : Log_Avg_Rho_10kpc_approx\n",
      "x 6 : Sr(pc)_2_using_Falserm_drho\n",
      "x 7 : log_sigma0\n",
      "x 8 : log_rho_90_Exact_all\n",
      "x 9 : M*_sph\n",
      "x 10 : bvtc\n",
      "x 11 : log10(R10_kpc)\n",
      "x 12 : logRhphi\n",
      "x 13 : ube\n",
      "x 14 : bri25\n",
      "x 15 : Concentration_Index\n",
      "x 16 : Rho_cr_def1_approx_new\n",
      "x 17 : CR_def1_approx_new\n",
      "x 18 : dc\n",
      "x 19 : bve\n",
      "x 20 : M*_gal\n",
      "x 21 : Log_Approx_Avg_density_10pc\n",
      "x 22 : Log_Avg_Rho_100pc_approx\n",
      "x 23 : logSigma0sph\n",
      "x 24 : Log_Avg_Rho_5kpc_approx\n",
      "x 25 : log_B/T\n",
      "x 26 : logR10phi\n",
      "x 27 : logRh\n",
      "x 28 : Rho_SR_pc_All\n",
      "x 29 : Pseudobulge\n",
      "x 30 : log(I_e,sph,eq/M_Sun/pc^2)\n",
      "x 31 : logHalo\n",
      "x 32 : logR10\n",
      "x 33 : Log_Avg_Rho_10kpc_exact_final\n",
      "x 34 : log_R_e_sph_eq_kpc\n",
      "x 35 : r1_density_approx\n",
      "x 36 : SR_pc_All\n",
      "x 37 : log_R_e_sph_maj\n",
      "x 38 : R10\n",
      "x 39 : mabs\n",
      "x 40 : log_n_sph_maj\n",
      "x 41 : avg_Rho_1kpc_Exact_All\n",
      "x 42 : log(I_e,sph,maj/M_Sun/pc^2)\n",
      "x 43 : log10(R90_kpc)\n",
      "x 44 : Avg_Rho_re_Exact_all\n",
      "x 45 : Rh\n",
      "x 46 : blum\n",
      "x 47 : log_n_sph_eq\n",
      "x 48 : AGN\n",
      "x 49 : logRho_e_approx_New\n",
      "x 50 : log_Rho_e_Exact_new\n",
      "x 51 : Log_Avg_rho_5kpc_exact_all\n",
      "x 52 : Avg_Rho_Re_Exact_all\n",
      "x 53 : BCG\n",
      "x 54 : Rho_re_Exact_all\n",
      "x 55 : logRho_R90_approx\n",
      "x 56 : Core\n",
      "x 57 : logblum\n",
      "x 58 : Rho_re_spatial\n",
      "x 59 : Ring\n",
      "x 60 : Bar\n",
      "x 61 : Disk\n",
      "x 62 : Multiple\n",
      "x 63 : Compactness\n",
      "x 64 : cD\n",
      "Eq. selected rmse: 0.37244444796542586\n"
     ]
    },
    {
     "data": {
      "text/latex": [
       "$\\displaystyle x_{2} + \\left(- x_{22} + x_{27} + x_{4}\\right)^{x_{47}}$"
      ],
      "text/plain": [
       "x2 + (-x22 + x27 + x4)**x47"
      ]
     },
     "metadata": {},
     "output_type": "display_data"
    },
    {
     "name": "stdout",
     "output_type": "stream",
     "text": [
      "Eq. 0 rmse: 0.6996648350739375\n"
     ]
    },
    {
     "data": {
      "text/latex": [
       "$\\displaystyle 2.7727802650811055$"
      ],
      "text/plain": [
       "2.7727802650811055"
      ]
     },
     "metadata": {},
     "output_type": "display_data"
    },
    {
     "name": "stdout",
     "output_type": "stream",
     "text": [
      "Eq. 1 rmse: 0.4503710092351272\n"
     ]
    },
    {
     "data": {
      "text/latex": [
       "$\\displaystyle - x_{11} + x_{22}$"
      ],
      "text/plain": [
       "-x11 + x22"
      ]
     },
     "metadata": {},
     "output_type": "display_data"
    },
    {
     "name": "stdout",
     "output_type": "stream",
     "text": [
      "Eq. 2 rmse: 0.4294347892764118\n"
     ]
    },
    {
     "data": {
      "text/latex": [
       "$\\displaystyle - x_{11} + x_{22}^{0.9505186240538698}$"
      ],
      "text/plain": [
       "-x11 + x22**0.9505186240538698"
      ]
     },
     "metadata": {},
     "output_type": "display_data"
    },
    {
     "name": "stdout",
     "output_type": "stream",
     "text": [
      "Eq. 3 rmse: 0.40838289947721357\n"
     ]
    },
    {
     "data": {
      "text/latex": [
       "$\\displaystyle 0.7611499584343484 x_{1} + x_{4}^{x_{15}}$"
      ],
      "text/plain": [
       "0.7611499584343484*x1 + x4**x15"
      ]
     },
     "metadata": {},
     "output_type": "display_data"
    },
    {
     "name": "stdout",
     "output_type": "stream",
     "text": [
      "Eq. 4 rmse: 0.3973965813653762\n"
     ]
    },
    {
     "data": {
      "text/latex": [
       "$\\displaystyle \\left(x_{1} + x_{15} + e^{x_{15}}\\right)^{0.8733225998576809}$"
      ],
      "text/plain": [
       "(x1 + x15 + exp(x15))**0.8733225998576809"
      ]
     },
     "metadata": {},
     "output_type": "display_data"
    },
    {
     "name": "stdout",
     "output_type": "stream",
     "text": [
      "Eq. 5 rmse: 0.37244444796542586\n"
     ]
    },
    {
     "data": {
      "text/latex": [
       "$\\displaystyle x_{2} + \\left(- x_{22} + x_{27} + x_{4}\\right)^{x_{47}}$"
      ],
      "text/plain": [
       "x2 + (-x22 + x27 + x4)**x47"
      ]
     },
     "metadata": {},
     "output_type": "display_data"
    },
    {
     "name": "stdout",
     "output_type": "stream",
     "text": [
      "Eq. 6 rmse: 0.3522830954306701\n"
     ]
    },
    {
     "data": {
      "text/latex": [
       "$\\displaystyle x_{1} + x_{15} x_{37} + \\left(- x_{22} + x_{4}\\right)^{x_{47}}$"
      ],
      "text/plain": [
       "x1 + x15*x37 + (-x22 + x4)**x47"
      ]
     },
     "metadata": {},
     "output_type": "display_data"
    },
    {
     "name": "stdout",
     "output_type": "stream",
     "text": [
      "Eq. 7 rmse: 0.33109571028144746\n"
     ]
    },
    {
     "data": {
      "text/latex": [
       "$\\displaystyle x_{1} + x_{15} x_{43} + \\left(- x_{22} + x_{4} - 0.7291872118781443\\right)^{x_{47}}$"
      ],
      "text/plain": [
       "x1 + x15*x43 + (-x22 + x4 - 0.7291872118781443)**x47"
      ]
     },
     "metadata": {},
     "output_type": "display_data"
    },
    {
     "name": "stdout",
     "output_type": "stream",
     "text": [
      "Eq. 8 rmse: 0.3197648433843598\n"
     ]
    },
    {
     "data": {
      "text/latex": [
       "$\\displaystyle x_{1} + x_{15} x_{43} + \\left(- x_{13} - x_{22} + x_{4} - 0.19529221661090984\\right)^{x_{47}}$"
      ],
      "text/plain": [
       "x1 + x15*x43 + (-x13 - x22 + x4 - 0.19529221661090984)**x47"
      ]
     },
     "metadata": {},
     "output_type": "display_data"
    },
    {
     "name": "stdout",
     "output_type": "stream",
     "text": [
      "Eq. 9 rmse: 0.31647918365116207\n"
     ]
    },
    {
     "data": {
      "text/latex": [
       "$\\displaystyle x_{1} + x_{15} x_{43} + \\left(- x_{13} - x_{22} + x_{4} - 0.05301141305343542 x_{42}\\right)^{x_{47}}$"
      ],
      "text/plain": [
       "x1 + x15*x43 + (-x13 - x22 + x4 - 0.05301141305343542*x42)**x47"
      ]
     },
     "metadata": {},
     "output_type": "display_data"
    },
    {
     "name": "stdout",
     "output_type": "stream",
     "text": [
      "Eq. 10 rmse: 0.3068515063814579\n"
     ]
    },
    {
     "data": {
      "text/latex": [
       "$\\displaystyle x_{1} + x_{15} x_{43} + \\left(- x_{13} - x_{22} + x_{4} - \\frac{0.4217937300137131}{x_{45} + 0.256687727614704}\\right)^{x_{47}}$"
      ],
      "text/plain": [
       "x1 + x15*x43 + (-x13 - x22 + x4 - 0.4217937300137131/(x45 + 0.256687727614704))**x47"
      ]
     },
     "metadata": {},
     "output_type": "display_data"
    }
   ],
   "source": [
    "functions.test_relation2(['CR_def2_approx_new', 'logRho_R10_approx', 'log_rho10_Exact',\n",
    "       'Rho_CR_def2_approx_new', 'LogSigma0', 'Log_Avg_Rho_10kpc_approx',\n",
    "       'Sr(pc)_2_using_Falserm_drho', 'log_sigma0', 'log_rho_90_Exact_all',\n",
    "       'M*_sph', 'bvtc', 'log10(R10_kpc)', 'logRhphi', 'ube', 'bri25',\n",
    "       'Concentration_Index', 'Rho_cr_def1_approx_new', 'CR_def1_approx_new',\n",
    "       'dc', 'bve', 'M*_gal', 'Log_Approx_Avg_density_10pc',\n",
    "       'Log_Avg_Rho_100pc_approx', 'logSigma0sph', 'Log_Avg_Rho_5kpc_approx',\n",
    "       'log_B/T', 'logR10phi', 'logRh', 'Rho_SR_pc_All', 'Pseudobulge',\n",
    "       'log(I_e,sph,eq/M_Sun/pc^2)', 'logHalo', 'logR10',\n",
    "       'Log_Avg_Rho_10kpc_exact_final', 'log_R_e_sph_eq_kpc',\n",
    "       'r1_density_approx', 'SR_pc_All', 'log_R_e_sph_maj', 'R10', 'mabs',\n",
    "       'log_n_sph_maj', 'avg_Rho_1kpc_Exact_All',\n",
    "       'log(I_e,sph,maj/M_Sun/pc^2)', 'log10(R90_kpc)', 'Avg_Rho_re_Exact_all',\n",
    "       'Rh', 'blum', 'log_n_sph_eq', 'AGN', 'logRho_e_approx_New',\n",
    "       'log_Rho_e_Exact_new', 'Log_Avg_rho_5kpc_exact_all',\n",
    "       'Avg_Rho_Re_Exact_all', 'BCG', 'Rho_re_Exact_all', 'logRho_R90_approx',\n",
    "       'Core', 'logblum', 'Rho_re_spatial', 'Ring', 'Bar', 'Disk', 'Multiple',\n",
    "       'Compactness', 'cD','rho_soi_rf'],operator='adv',niterations=300)"
   ]
  },
  {
   "cell_type": "code",
   "execution_count": null,
   "id": "8d923096",
   "metadata": {},
   "outputs": [],
   "source": []
  }
 ],
 "metadata": {
  "kernelspec": {
   "display_name": "Python 3 (ipykernel)",
   "language": "python",
   "name": "python3"
  },
  "language_info": {
   "codemirror_mode": {
    "name": "ipython",
    "version": 3
   },
   "file_extension": ".py",
   "mimetype": "text/x-python",
   "name": "python",
   "nbconvert_exporter": "python",
   "pygments_lexer": "ipython3",
   "version": "3.9.16"
  }
 },
 "nbformat": 4,
 "nbformat_minor": 5
}
