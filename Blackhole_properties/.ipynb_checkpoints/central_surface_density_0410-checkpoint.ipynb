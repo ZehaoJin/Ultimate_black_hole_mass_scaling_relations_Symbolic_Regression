{
 "cells": [
  {
   "cell_type": "code",
   "execution_count": 1,
   "id": "f9c5a87c",
   "metadata": {},
   "outputs": [],
   "source": [
    "import numpy as np\n",
    "import pandas as pd\n",
    "from pysr import PySRRegressor\n",
    "from IPython.display import HTML\n",
    "from matplotlib import pyplot as plt"
   ]
  },
  {
   "cell_type": "code",
   "execution_count": 2,
   "id": "211b97d0",
   "metadata": {},
   "outputs": [],
   "source": [
    "df = pd.read_csv('SMBH_Data_0407.csv',header=1)"
   ]
  },
  {
   "cell_type": "code",
   "execution_count": 16,
   "id": "f40275b0",
   "metadata": {},
   "outputs": [],
   "source": [
    "font=20"
   ]
  },
  {
   "cell_type": "code",
   "execution_count": 18,
   "id": "6f44c77b",
   "metadata": {},
   "outputs": [
    {
     "data": {
      "text/plain": [
       "Text(0, 0.5, '$\\\\Sigma_{0,sph}$')"
      ]
     },
     "execution_count": 18,
     "metadata": {},
     "output_type": "execute_result"
    },
    {
     "data": {
      "image/png": "[encoded data removed]",
      "text/plain": [
       "<Figure size 432x288 with 1 Axes>"
      ]
     },
     "metadata": {
      "needs_background": "light"
     },
     "output_type": "display_data"
    }
   ],
   "source": [
    "plt.scatter(df['logRho_soi_approx_new'],df['Sigma_0'])\n",
    "plt.xlabel(r'$\\rho_{soi}$',fontsize=font)\n",
    "plt.ylabel(r'$\\Sigma_{0,sph}$',fontsize=font)"
   ]
  },
  {
   "cell_type": "code",
   "execution_count": 19,
   "id": "df4e85ce",
   "metadata": {},
   "outputs": [
    {
     "data": {
      "text/plain": [
       "Text(0, 0.5, '$M_{BH}$')"
      ]
     },
     "execution_count": 19,
     "metadata": {},
     "output_type": "execute_result"
    },
    {
     "data": {
      "image/png": "[encoded data removed]",
      "text/plain": [
       "<Figure size 432x288 with 1 Axes>"
      ]
     },
     "metadata": {
      "needs_background": "light"
     },
     "output_type": "display_data"
    }
   ],
   "source": [
    "plt.scatter(df['Sigma_0'],df['M_BH'])\n",
    "plt.xlabel(r'$\\Sigma_{0,sph}$',fontsize=font)\n",
    "plt.ylabel(r'$M_{BH}$',fontsize=font)"
   ]
  },
  {
   "cell_type": "code",
   "execution_count": 20,
   "id": "9897073f",
   "metadata": {},
   "outputs": [
    {
     "data": {
      "text/plain": [
       "Text(0, 0.5, '$M_{BH}$')"
      ]
     },
     "execution_count": 20,
     "metadata": {},
     "output_type": "execute_result"
    },
    {
     "data": {
      "image/png": "[encoded data removed]",
      "text/plain": [
       "<Figure size 432x288 with 1 Axes>"
      ]
     },
     "metadata": {
      "needs_background": "light"
     },
     "output_type": "display_data"
    }
   ],
   "source": [
    "plt.scatter(df['logRho_soi_approx_new'],df['M_BH'])\n",
    "plt.xlabel(r'$\\rho_{soi}$',fontsize=font)\n",
    "plt.ylabel(r'$M_{BH}$',fontsize=font)"
   ]
  },
  {
   "cell_type": "code",
   "execution_count": 9,
   "id": "b6cf561e",
   "metadata": {},
   "outputs": [],
   "source": [
    "## useful functions\n",
    "def x2name(feature_list,df_handson):\n",
    "    for ind in feature_list:\n",
    "        i=int(ind[1:])\n",
    "        print('x',i,':',df_handson.columns[i])\n",
    "\n",
    "def rmse(y,y_pred,w):\n",
    "    return np.sqrt(np.average((y-y_pred)**2,weights=w))\n",
    "\n",
    "def df2name(df):\n",
    "    for i in range(len(df.columns)):\n",
    "        print('x',i,':',df.columns[i])\n",
    "        \n",
    "def test_relation(paras,obs=pd.read_csv('SMBH_Data_0407.csv',header=1),\n",
    "                  operator='simp',ncyclesperiteration=550,niterations=40,denoise=False,adaptive_parsimony_scaling=20,\n",
    "                  verbosity=0,colname=False):\n",
    "    \n",
    "    if paras[-1]!='M_BH':\n",
    "        paras.append('M_BH')\n",
    "        \n",
    "    paras.append('M_BH_std')\n",
    "    \n",
    "    obs = obs[paras].dropna(axis='index',how='any')\n",
    "    print(len(obs))\n",
    "    \n",
    "    \n",
    "    y = obs['M_BH'].to_numpy()\n",
    "    w = 1/obs['M_BH_std'].to_numpy()**2\n",
    "\n",
    "    #df_handson = df\n",
    "    if colname:\n",
    "        X = obs.iloc[:,:-2]\n",
    "    else:\n",
    "        X = obs.iloc[:,:-2].to_numpy()\n",
    "        #X = df_handson\n",
    "\n",
    "    if operator=='adv':\n",
    "        model = PySRRegressor(\n",
    "            binary_operators=[\"+\", \"-\", \"*\", \"/\",\"pow\"],\n",
    "            unary_operators=[\"exp\",\"log10\"],\n",
    "            warm_start=False,\n",
    "            denoise=denoise,\n",
    "            niterations=niterations,\n",
    "            ncyclesperiteration=ncyclesperiteration,\n",
    "            adaptive_parsimony_scaling=adaptive_parsimony_scaling,\n",
    "            verbosity=verbosity,\n",
    "            precision=64,\n",
    "        )\n",
    "    if operator=='simp':\n",
    "        model = PySRRegressor(\n",
    "            binary_operators=[\"+\", \"-\", \"*\", \"/\", \"pow\"],\n",
    "            warm_start=False,\n",
    "            denoise=denoise,\n",
    "            niterations=niterations,\n",
    "            ncyclesperiteration=ncyclesperiteration,\n",
    "            adaptive_parsimony_scaling=adaptive_parsimony_scaling,\n",
    "            verbosity=verbosity,\n",
    "            precision=64,\n",
    "        )\n",
    "        \n",
    "    if operator=='basic':\n",
    "        model = PySRRegressor(\n",
    "            binary_operators=[\"+\", \"-\", \"*\", \"/\"],\n",
    "            warm_start=False,\n",
    "            denoise=denoise,\n",
    "            niterations=niterations,\n",
    "            ncyclesperiteration=ncyclesperiteration,\n",
    "            adaptive_parsimony_scaling=adaptive_parsimony_scaling,\n",
    "            verbosity=verbosity,\n",
    "            precision=64,\n",
    "        )\n",
    "\n",
    "\n",
    "\n",
    "    model.fit(X=X, y=y, weights=w)\n",
    "\n",
    "    print('parameters:')\n",
    "    df2name(obs.iloc[:,:-2])\n",
    "    \n",
    "    print('Eq. selected rmse:',rmse(y,model.predict(X),w))\n",
    "    display(model.sympy())\n",
    "    \n",
    "    for i in range(len(model.equations_)):\n",
    "        print('Eq.',i,'rmse:',rmse(y,model.predict(X,index=i),w))\n",
    "        display(model.sympy(index=i))"
   ]
  },
  {
   "cell_type": "code",
   "execution_count": 10,
   "id": "cbeca52d",
   "metadata": {
    "scrolled": true
   },
   "outputs": [
    {
     "name": "stdout",
     "output_type": "stream",
     "text": [
      "122\n"
     ]
    },
    {
     "name": "stderr",
     "output_type": "stream",
     "text": [
      "/home/zj448/miniconda3/lib/python3.9/site-packages/pysr/sr.py:1257: UserWarning: Note: it looks like you are running in Jupyter. The progress bar will be turned off.\n",
      "  warnings.warn(\n",
      "WARNING: method definition for OneHotArray at /home/zj448/miniconda3/share/pysr/depot/packages/MicroCollections/yJPLe/src/onehot.jl:79 declares type variable N but does not use it.\n"
     ]
    },
    {
     "name": "stdout",
     "output_type": "stream",
     "text": [
      "parameters:\n",
      "x 0 : log_sigma0\n",
      "x 1 : log_B/T\n",
      "x 2 : Sigma_0\n",
      "Eq. selected rmse: 0.3551107118775209\n"
     ]
    },
    {
     "data": {
      "text/latex": [
       "$\\displaystyle 3.812520368520519 x_{0} + x_{1}$"
      ],
      "text/plain": [
       "3.812520368520519*x0 + x1"
      ]
     },
     "metadata": {},
     "output_type": "display_data"
    },
    {
     "name": "stdout",
     "output_type": "stream",
     "text": [
      "Eq. 0 rmse: 0.941890181327581\n"
     ]
    },
    {
     "data": {
      "text/latex": [
       "$\\displaystyle 8.158220955488009$"
      ],
      "text/plain": [
       "8.158220955488009"
      ]
     },
     "metadata": {},
     "output_type": "display_data"
    },
    {
     "name": "stdout",
     "output_type": "stream",
     "text": [
      "Eq. 1 rmse: 0.49105040734211725\n"
     ]
    },
    {
     "data": {
      "text/latex": [
       "$\\displaystyle 3.626049561007762 x_{0}$"
      ],
      "text/plain": [
       "3.626049561007762*x0"
      ]
     },
     "metadata": {},
     "output_type": "display_data"
    },
    {
     "name": "stdout",
     "output_type": "stream",
     "text": [
      "Eq. 2 rmse: 0.3551107118775209\n"
     ]
    },
    {
     "data": {
      "text/latex": [
       "$\\displaystyle 3.812520368520519 x_{0} + x_{1}$"
      ],
      "text/plain": [
       "3.812520368520519*x0 + x1"
      ]
     },
     "metadata": {},
     "output_type": "display_data"
    },
    {
     "name": "stdout",
     "output_type": "stream",
     "text": [
      "Eq. 3 rmse: 0.35070485611200153\n"
     ]
    },
    {
     "data": {
      "text/latex": [
       "$\\displaystyle x_{0} \\cdot \\left(0.4305026906208724 x_{1} + 3.812520368520519\\right)$"
      ],
      "text/plain": [
       "x0*(0.4305026906208724*x1 + 3.812520368520519)"
      ]
     },
     "metadata": {},
     "output_type": "display_data"
    },
    {
     "name": "stdout",
     "output_type": "stream",
     "text": [
      "Eq. 4 rmse: 0.3472850300244989\n"
     ]
    },
    {
     "data": {
      "text/latex": [
       "$\\displaystyle x_{0} \\cdot \\left(0.2150495375430683 x_{0} x_{1} + 3.812520368520519\\right)$"
      ],
      "text/plain": [
       "x0*(0.2150495375430683*x0*x1 + 3.812520368520519)"
      ]
     },
     "metadata": {},
     "output_type": "display_data"
    },
    {
     "name": "stdout",
     "output_type": "stream",
     "text": [
      "Eq. 5 rmse: 0.3418488423440675\n"
     ]
    },
    {
     "data": {
      "text/latex": [
       "$\\displaystyle 3.8581133934272906 x_{0} - \\left(x_{1}^{2}\\right)^{\\frac{1.6242692928630813}{x_{2}}}$"
      ],
      "text/plain": [
       "3.8581133934272906*x0 - (x1**2)**(1.6242692928630813/x2)"
      ]
     },
     "metadata": {},
     "output_type": "display_data"
    },
    {
     "name": "stdout",
     "output_type": "stream",
     "text": [
      "Eq. 6 rmse: 0.3397616934784055\n"
     ]
    },
    {
     "data": {
      "text/latex": [
       "$\\displaystyle 3.8581133934272906 x_{0} - \\left(x_{1}^{2}\\right)^{\\frac{1.2649423637563961 - x_{1}}{x_{2}}}$"
      ],
      "text/plain": [
       "3.8581133934272906*x0 - (x1**2)**((1.2649423637563961 - x1)/x2)"
      ]
     },
     "metadata": {},
     "output_type": "display_data"
    },
    {
     "name": "stdout",
     "output_type": "stream",
     "text": [
      "Eq. 7 rmse: 0.33735979490565926\n"
     ]
    },
    {
     "data": {
      "text/latex": [
       "$\\displaystyle 3.9185788457868753 x_{0} - \\left(- x_{1} + \\left(- \\frac{1.463156195575536}{x_{2} - 11.158221877592428}\\right)^{x_{2}}\\right)^{0.32041864171960205}$"
      ],
      "text/plain": [
       "3.9185788457868753*x0 - (-x1 + (-1.463156195575536/(x2 - 11.158221877592428))**x2)**0.32041864171960205"
      ]
     },
     "metadata": {},
     "output_type": "display_data"
    },
    {
     "name": "stdout",
     "output_type": "stream",
     "text": [
      "Eq. 8 rmse: 0.3355841541495322\n"
     ]
    },
    {
     "data": {
      "text/latex": [
       "$\\displaystyle 3.9185788457868753 x_{0} - \\left(- x_{1} + \\left(- \\frac{1.0680455265728703}{x_{2} - 10.71549678722618}\\right)^{x_{2}}\\right)^{x_{0}^{-1.39807745865962}}$"
      ],
      "text/plain": [
       "3.9185788457868753*x0 - (-x1 + (-1.0680455265728703/(x2 - 10.71549678722618))**x2)**(x0**(-1.39807745865962))"
      ]
     },
     "metadata": {},
     "output_type": "display_data"
    },
    {
     "name": "stdout",
     "output_type": "stream",
     "text": [
      "Eq. 9 rmse: 0.33238638869562365\n"
     ]
    },
    {
     "data": {
      "text/latex": [
       "$\\displaystyle 3.9185788457868753 x_{0} + x_{1} - 0.3124809457177883 + \\frac{0.0034229059108559091}{- x_{1} - 0.6666768517483429}$"
      ],
      "text/plain": [
       "3.9185788457868753*x0 + x1 - 0.3124809457177883 + 0.0034229059108559091/(-x1 - 0.6666768517483429)"
      ]
     },
     "metadata": {},
     "output_type": "display_data"
    },
    {
     "name": "stdout",
     "output_type": "stream",
     "text": [
      "Eq. 10 rmse: 0.3304884530509989\n"
     ]
    },
    {
     "data": {
      "text/latex": [
       "$\\displaystyle 3.9185788457868753 x_{0} - \\left(- x_{1} + \\left(- \\frac{1.4121482152940565}{x_{2} - 11.158221877592428}\\right)^{1.748414828276412 x_{0} x_{1} + x_{2}}\\right)^{0.3316114006962691}$"
      ],
      "text/plain": [
       "3.9185788457868753*x0 - (-x1 + (-1.4121482152940565/(x2 - 11.158221877592428))**(1.748414828276412*x0*x1 + x2))**0.3316114006962691"
      ]
     },
     "metadata": {},
     "output_type": "display_data"
    }
   ],
   "source": [
    "test_relation(['log_sigma0','log_B/T','Sigma_0'],\n",
    "             operator='adv',ncyclesperiteration=5000,niterations=100)"
   ]
  },
  {
   "cell_type": "code",
   "execution_count": 12,
   "id": "21b9511d",
   "metadata": {
    "scrolled": true
   },
   "outputs": [
    {
     "name": "stdout",
     "output_type": "stream",
     "text": [
      "104\n"
     ]
    },
    {
     "name": "stderr",
     "output_type": "stream",
     "text": [
      "/home/zj448/miniconda3/lib/python3.9/site-packages/pysr/sr.py:1257: UserWarning: Note: it looks like you are running in Jupyter. The progress bar will be turned off.\n",
      "  warnings.warn(\n"
     ]
    },
    {
     "name": "stdout",
     "output_type": "stream",
     "text": [
      "parameters:\n",
      "x 0 : log_sigma0\n",
      "x 1 : log_B/T\n",
      "x 2 : log_R_e_sph_eq_kpc\n",
      "x 3 : Sigma_0\n",
      "x 4 : bvtc\n",
      "x 5 : Core\n",
      "x 6 : Pseudobulge\n",
      "Eq. selected rmse: 0.313162323581316\n"
     ]
    },
    {
     "data": {
      "text/latex": [
       "$\\displaystyle 3.5749838166776264 x_{0} + 0.65867422507628882 x_{2}$"
      ],
      "text/plain": [
       "3.5749838166776264*x0 + 0.65867422507628882*x2"
      ]
     },
     "metadata": {},
     "output_type": "display_data"
    },
    {
     "name": "stdout",
     "output_type": "stream",
     "text": [
      "Eq. 0 rmse: 0.9098375184233655\n"
     ]
    },
    {
     "data": {
      "text/latex": [
       "$\\displaystyle 8.217969609513954$"
      ],
      "text/plain": [
       "8.217969609513954"
      ]
     },
     "metadata": {},
     "output_type": "display_data"
    },
    {
     "name": "stdout",
     "output_type": "stream",
     "text": [
      "Eq. 1 rmse: 0.44492156708835107\n"
     ]
    },
    {
     "data": {
      "text/latex": [
       "$\\displaystyle 3.65306760984097 x_{0}$"
      ],
      "text/plain": [
       "3.65306760984097*x0"
      ]
     },
     "metadata": {},
     "output_type": "display_data"
    },
    {
     "name": "stdout",
     "output_type": "stream",
     "text": [
      "Eq. 2 rmse: 0.3633334102513295\n"
     ]
    },
    {
     "data": {
      "text/latex": [
       "$\\displaystyle 3.5749838166776264 x_{0} + x_{2}$"
      ],
      "text/plain": [
       "3.5749838166776264*x0 + x2"
      ]
     },
     "metadata": {},
     "output_type": "display_data"
    },
    {
     "name": "stdout",
     "output_type": "stream",
     "text": [
      "Eq. 3 rmse: 0.313162323581316\n"
     ]
    },
    {
     "data": {
      "text/latex": [
       "$\\displaystyle 3.5749838166776264 x_{0} + 0.65867422507628882 x_{2}$"
      ],
      "text/plain": [
       "3.5749838166776264*x0 + 0.65867422507628882*x2"
      ]
     },
     "metadata": {},
     "output_type": "display_data"
    },
    {
     "name": "stdout",
     "output_type": "stream",
     "text": [
      "Eq. 4 rmse: 0.3076667462707506\n"
     ]
    },
    {
     "data": {
      "text/latex": [
       "$\\displaystyle 3.625932182721538 x_{0} + 0.5362111173778902 x_{5} - 0.5362111173778902 x_{6}$"
      ],
      "text/plain": [
       "3.625932182721538*x0 + 0.5362111173778902*x5 - 0.5362111173778902*x6"
      ]
     },
     "metadata": {},
     "output_type": "display_data"
    },
    {
     "name": "stdout",
     "output_type": "stream",
     "text": [
      "Eq. 5 rmse: 0.30343947003927024\n"
     ]
    },
    {
     "data": {
      "text/latex": [
       "$\\displaystyle x_{0} \\left(x_{0} - 0.7451994156914385\\right) + 0.5965574815688933 x_{2} + 4.653264771182252$"
      ],
      "text/plain": [
       "x0*(x0 - 0.7451994156914385) + 0.5965574815688933*x2 + 4.653264771182252"
      ]
     },
     "metadata": {},
     "output_type": "display_data"
    },
    {
     "name": "stdout",
     "output_type": "stream",
     "text": [
      "Eq. 6 rmse: 0.28957899528405756\n"
     ]
    },
    {
     "data": {
      "text/latex": [
       "$\\displaystyle 3.5749838166776264 x_{0} + 0.37009759011281115 x_{4} \\left(x_{2} + x_{5} - x_{6}\\right)$"
      ],
      "text/plain": [
       "3.5749838166776264*x0 + 0.37009759011281115*x4*(x2 + x5 - x6)"
      ]
     },
     "metadata": {},
     "output_type": "display_data"
    },
    {
     "name": "stdout",
     "output_type": "stream",
     "text": [
      "Eq. 7 rmse: 0.28893398806612763\n"
     ]
    },
    {
     "data": {
      "text/latex": [
       "$\\displaystyle x_{0} \\left(x_{0} - 0.6947649806540847\\right) + 0.3068756688533824 x_{1} + 0.3068756688533824 x_{2} - 0.3068756688533824 x_{6} + 4.78535862935166$"
      ],
      "text/plain": [
       "x0*(x0 - 0.6947649806540847) + 0.3068756688533824*x1 + 0.3068756688533824*x2 - 0.3068756688533824*x6 + 4.78535862935166"
      ]
     },
     "metadata": {},
     "output_type": "display_data"
    },
    {
     "name": "stdout",
     "output_type": "stream",
     "text": [
      "Eq. 8 rmse: 0.2776006277403587\n"
     ]
    },
    {
     "data": {
      "text/latex": [
       "$\\displaystyle x_{0} \\left(x_{0} - 1.1152519875635145\\right) + 0.28582583483765944 x_{1} + 0.28582583483765944 x_{2} + 0.28582583483765944 x_{5} - 0.28582583483765944 x_{6} + 5.656506156940178$"
      ],
      "text/plain": [
       "x0*(x0 - 1.1152519875635145) + 0.28582583483765944*x1 + 0.28582583483765944*x2 + 0.28582583483765944*x5 - 0.28582583483765944*x6 + 5.656506156940178"
      ]
     },
     "metadata": {},
     "output_type": "display_data"
    },
    {
     "name": "stdout",
     "output_type": "stream",
     "text": [
      "Eq. 9 rmse: 0.2775687016661492\n"
     ]
    },
    {
     "data": {
      "text/latex": [
       "$\\displaystyle x_{0} \\left(x_{0} - 1.149073296945116\\right) + 0.2907429903365686 x_{1} + 0.2907429903365686 x_{2} + 0.2907429903365686 x_{5}^{2} - 0.2907429903365686 x_{6} + 5.731469409549727$"
      ],
      "text/plain": [
       "x0*(x0 - 1.149073296945116) + 0.2907429903365686*x1 + 0.2907429903365686*x2 + 0.2907429903365686*x5**2 - 0.2907429903365686*x6 + 5.731469409549727"
      ]
     },
     "metadata": {},
     "output_type": "display_data"
    },
    {
     "name": "stdout",
     "output_type": "stream",
     "text": [
      "Eq. 10 rmse: 0.27376138731362604\n"
     ]
    },
    {
     "data": {
      "text/latex": [
       "$\\displaystyle x_{0} \\left(x_{0} - 0.9471142388999436\\right) + 0.2620221898222081 x_{1} + 0.2620221898222081 x_{2} \\left(x_{5} + x_{6} + 0.9159924831760837\\right) - 0.2620221898222081 x_{6} + 5.29023248723985$"
      ],
      "text/plain": [
       "x0*(x0 - 0.9471142388999436) + 0.2620221898222081*x1 + 0.2620221898222081*x2*(x5 + x6 + 0.9159924831760837) - 0.2620221898222081*x6 + 5.29023248723985"
      ]
     },
     "metadata": {},
     "output_type": "display_data"
    }
   ],
   "source": [
    "test_relation(['log_sigma0','log_B/T','log_R_e_sph_eq_kpc','Sigma_0','bvtc','Core', 'Pseudobulge'],\n",
    "             operator='basic',ncyclesperiteration=250,niterations=100,adaptive_parsimony_scaling=100)"
   ]
  },
  {
   "cell_type": "code",
   "execution_count": 13,
   "id": "5bd5067b",
   "metadata": {
    "scrolled": true
   },
   "outputs": [
    {
     "name": "stdout",
     "output_type": "stream",
     "text": [
      "104\n"
     ]
    },
    {
     "name": "stderr",
     "output_type": "stream",
     "text": [
      "/home/zj448/miniconda3/lib/python3.9/site-packages/pysr/sr.py:1257: UserWarning: Note: it looks like you are running in Jupyter. The progress bar will be turned off.\n",
      "  warnings.warn(\n"
     ]
    },
    {
     "name": "stdout",
     "output_type": "stream",
     "text": [
      "parameters:\n",
      "x 0 : log_sigma0\n",
      "x 1 : log_B/T\n",
      "x 2 : Sigma_0\n",
      "x 3 : bvtc\n",
      "x 4 : Core\n",
      "x 5 : Pseudobulge\n",
      "Eq. selected rmse: 0.33555509622294466\n"
     ]
    },
    {
     "data": {
      "text/latex": [
       "$\\displaystyle x_{0}^{2} + 0.3977655126434865 x_{4} + 3.018741301091688$"
      ],
      "text/plain": [
       "x0**2 + 0.3977655126434865*x4 + 3.018741301091688"
      ]
     },
     "metadata": {},
     "output_type": "display_data"
    },
    {
     "name": "stdout",
     "output_type": "stream",
     "text": [
      "Eq. 0 rmse: 0.9098375184233655\n"
     ]
    },
    {
     "data": {
      "text/latex": [
       "$\\displaystyle 8.217969609514038$"
      ],
      "text/plain": [
       "8.217969609514038"
      ]
     },
     "metadata": {},
     "output_type": "display_data"
    },
    {
     "name": "stdout",
     "output_type": "stream",
     "text": [
      "Eq. 1 rmse: 0.5202897175390397\n"
     ]
    },
    {
     "data": {
      "text/latex": [
       "$\\displaystyle 3.533728575409075 x_{0}$"
      ],
      "text/plain": [
       "3.533728575409075*x0"
      ]
     },
     "metadata": {},
     "output_type": "display_data"
    },
    {
     "name": "stdout",
     "output_type": "stream",
     "text": [
      "Eq. 2 rmse: 0.3704381090849679\n"
     ]
    },
    {
     "data": {
      "text/latex": [
       "$\\displaystyle 5.187571426742366 x_{0} - 3.476836390775273$"
      ],
      "text/plain": [
       "5.187571426742366*x0 - 3.476836390775273"
      ]
     },
     "metadata": {},
     "output_type": "display_data"
    },
    {
     "name": "stdout",
     "output_type": "stream",
     "text": [
      "Eq. 3 rmse: 0.3591483545286534\n"
     ]
    },
    {
     "data": {
      "text/latex": [
       "$\\displaystyle 1.147812339285561 x_{0}^{2} + 2.3550207902368787$"
      ],
      "text/plain": [
       "1.147812339285561*x0**2 + 2.3550207902368787"
      ]
     },
     "metadata": {},
     "output_type": "display_data"
    },
    {
     "name": "stdout",
     "output_type": "stream",
     "text": [
      "Eq. 4 rmse: 0.33555509622294466\n"
     ]
    },
    {
     "data": {
      "text/latex": [
       "$\\displaystyle x_{0}^{2} + 0.3977655126434865 x_{4} + 3.018741301091688$"
      ],
      "text/plain": [
       "x0**2 + 0.3977655126434865*x4 + 3.018741301091688"
      ]
     },
     "metadata": {},
     "output_type": "display_data"
    },
    {
     "name": "stdout",
     "output_type": "stream",
     "text": [
      "Eq. 5 rmse: 0.3340820995289885\n"
     ]
    },
    {
     "data": {
      "text/latex": [
       "$\\displaystyle 3.9957785313533632 x_{0} + x_{1} - x_{3} + 0.3888374913966995$"
      ],
      "text/plain": [
       "3.9957785313533632*x0 + x1 - x3 + 0.3888374913966995"
      ]
     },
     "metadata": {},
     "output_type": "display_data"
    },
    {
     "name": "stdout",
     "output_type": "stream",
     "text": [
      "Eq. 6 rmse: 0.3179390926952771\n"
     ]
    },
    {
     "data": {
      "text/latex": [
       "$\\displaystyle x_{0}^{2} + 3.346560395572247 + \\frac{x_{1} - x_{5}}{x_{0}}$"
      ],
      "text/plain": [
       "x0**2 + 3.346560395572247 + (x1 - x5)/x0"
      ]
     },
     "metadata": {},
     "output_type": "display_data"
    },
    {
     "name": "stdout",
     "output_type": "stream",
     "text": [
      "Eq. 7 rmse: 0.3007083716671883\n"
     ]
    },
    {
     "data": {
      "text/latex": [
       "$\\displaystyle x_{0}^{2} + 2.21458850947552 + \\frac{x_{4} - x_{5} + 1.9483943836479851}{x_{0}}$"
      ],
      "text/plain": [
       "x0**2 + 2.21458850947552 + (x4 - x5 + 1.9483943836479851)/x0"
      ]
     },
     "metadata": {},
     "output_type": "display_data"
    },
    {
     "name": "stdout",
     "output_type": "stream",
     "text": [
      "Eq. 8 rmse: 0.3001800483114452\n"
     ]
    },
    {
     "data": {
      "text/latex": [
       "$\\displaystyle 0.9231207935425291 x_{0}^{2} + \\frac{x_{4} + 2.45696802822842}{1.7073573121577295 x_{5} + 2.45696802822842} + 2.4719964365720895$"
      ],
      "text/plain": [
       "0.9231207935425291*x0**2 + (x4 + 2.45696802822842)/(1.7073573121577295*x5 + 2.45696802822842) + 2.4719964365720895"
      ]
     },
     "metadata": {},
     "output_type": "display_data"
    },
    {
     "name": "stdout",
     "output_type": "stream",
     "text": [
      "Eq. 9 rmse: 0.2929782656352229\n"
     ]
    },
    {
     "data": {
      "text/latex": [
       "$\\displaystyle x_{0}^{2} - x_{0} + 5.531397542804337 + \\frac{x_{1} + x_{4} - x_{5} - 0.027303872220440367}{x_{0}}$"
      ],
      "text/plain": [
       "x0**2 - x0 + 5.531397542804337 + (x1 + x4 - x5 - 0.027303872220440367)/x0"
      ]
     },
     "metadata": {},
     "output_type": "display_data"
    },
    {
     "name": "stdout",
     "output_type": "stream",
     "text": [
      "Eq. 10 rmse: 0.28952448251748947\n"
     ]
    },
    {
     "data": {
      "text/latex": [
       "$\\displaystyle x_{0}^{2} - x_{0} + 5.5081550237685362 + \\frac{x_{1} + x_{4} - 0.7283361606546535 x_{5}}{x_{0}}$"
      ],
      "text/plain": [
       "x0**2 - x0 + 5.5081550237685362 + (x1 + x4 - 0.7283361606546535*x5)/x0"
      ]
     },
     "metadata": {},
     "output_type": "display_data"
    }
   ],
   "source": [
    "test_relation(['log_sigma0','log_B/T','Sigma_0','bvtc','Core', 'Pseudobulge'],\n",
    "             operator='basic')"
   ]
  },
  {
   "cell_type": "code",
   "execution_count": null,
   "id": "e5d1ba63",
   "metadata": {},
   "outputs": [],
   "source": []
  },
  {
   "cell_type": "code",
   "execution_count": 38,
   "id": "97268051",
   "metadata": {},
   "outputs": [],
   "source": [
    "def plot_relation(paras,relation,label,obs=pd.read_csv('SMBH_Data_0407.csv',header=1)):\n",
    "    paras.append(paras[-1]+'_std')\n",
    "    \n",
    "    obs = obs[paras].dropna(axis='index',how='any')\n",
    "    \n",
    "    print(len(obs))\n",
    "    \n",
    "    y = obs.iloc[:,-2].to_numpy()\n",
    "    yerr = obs.iloc[:,-1].to_numpy()\n",
    "    \n",
    "    x=[]\n",
    "    for i in range(len(paras)-2):\n",
    "        x.append(obs.iloc[:,i].to_numpy())\n",
    "    \n",
    "    y_pred=relation(*x)\n",
    "    \n",
    "    # f(x)=x line\n",
    "    minrange=np.array([y.min(),y_pred.min()]).min()\n",
    "    maxrange=np.array([y.max(),y_pred.max()]).max()\n",
    "    fs=20\n",
    "    plt.figure(figsize=(12,8))\n",
    "    plt.plot(np.linspace(minrange,maxrange),np.linspace(minrange,maxrange),label='f(x)=x',c='r',ls='--')\n",
    "    #plt.scatter(y,y_pred,label='Observations',alpha=0.8)\n",
    "    plt.errorbar(y,y_pred,xerr=yerr,label='Observations',alpha=0.8,fmt='o',capsize=3,ecolor='grey')\n",
    "    \n",
    "    plt.xlabel('True '+label,fontsize=fs)\n",
    "    plt.ylabel('Predicted '+label,fontsize=fs)\n",
    "    plt.legend(fontsize=fs)\n",
    "    plt.show()\n",
    "    \n",
    "    w = 1/yerr**2\n",
    "    print('obs rmse:',rmse(y,y_pred,w))"
   ]
  },
  {
   "cell_type": "code",
   "execution_count": 31,
   "id": "9cff1d4d",
   "metadata": {},
   "outputs": [],
   "source": [
    "def test_relation2(paras,obs=pd.read_csv('SMBH_Data_0407.csv',header=1),\n",
    "                  operator='simp',ncyclesperiteration=550,niterations=40,denoise=False,adaptive_parsimony_scaling=20,\n",
    "                  verbosity=0,colname=False):\n",
    "        \n",
    "    paras.append(paras[-1]+'_std')\n",
    "    \n",
    "    obs = obs[paras].dropna(axis='index',how='any')\n",
    "    print(len(obs))\n",
    "    \n",
    "    \n",
    "    y = obs.iloc[:,-2].to_numpy()\n",
    "    w = 1/obs.iloc[:,-1].to_numpy()**2\n",
    "\n",
    "    #df_handson = df\n",
    "    if colname:\n",
    "        X = obs.iloc[:,:-2]\n",
    "    else:\n",
    "        X = obs.iloc[:,:-2].to_numpy()\n",
    "        #X = df_handson\n",
    "\n",
    "    if operator=='adv':\n",
    "        model = PySRRegressor(\n",
    "            binary_operators=[\"+\", \"-\", \"*\", \"/\",\"pow\"],\n",
    "            unary_operators=[\"exp\",\"log10\"],\n",
    "            warm_start=False,\n",
    "            denoise=denoise,\n",
    "            niterations=niterations,\n",
    "            ncyclesperiteration=ncyclesperiteration,\n",
    "            adaptive_parsimony_scaling=adaptive_parsimony_scaling,\n",
    "            verbosity=verbosity,\n",
    "            precision=64,\n",
    "        )\n",
    "    if operator=='simp':\n",
    "        model = PySRRegressor(\n",
    "            binary_operators=[\"+\", \"-\", \"*\", \"/\", \"pow\"],\n",
    "            warm_start=False,\n",
    "            denoise=denoise,\n",
    "            niterations=niterations,\n",
    "            ncyclesperiteration=ncyclesperiteration,\n",
    "            adaptive_parsimony_scaling=adaptive_parsimony_scaling,\n",
    "            verbosity=verbosity,\n",
    "            precision=64,\n",
    "        )\n",
    "        \n",
    "    if operator=='basic':\n",
    "        model = PySRRegressor(\n",
    "            binary_operators=[\"+\", \"-\", \"*\", \"/\"],\n",
    "            warm_start=False,\n",
    "            denoise=denoise,\n",
    "            niterations=niterations,\n",
    "            ncyclesperiteration=ncyclesperiteration,\n",
    "            adaptive_parsimony_scaling=adaptive_parsimony_scaling,\n",
    "            verbosity=verbosity,\n",
    "            precision=64,\n",
    "        )\n",
    "\n",
    "\n",
    "\n",
    "    model.fit(X=X, y=y, weights=w)\n",
    "\n",
    "    print('parameters:')\n",
    "    print('y   :',paras[-2])\n",
    "    df2name(obs.iloc[:,:-2])\n",
    "    \n",
    "    print('Eq. selected rmse:',rmse(y,model.predict(X),w))\n",
    "    display(model.sympy())\n",
    "    \n",
    "    for i in range(len(model.equations_)):\n",
    "        print('Eq.',i,'rmse:',rmse(y,model.predict(X,index=i),w))\n",
    "        display(model.sympy(index=i))"
   ]
  },
  {
   "cell_type": "code",
   "execution_count": 32,
   "id": "77a5f59c",
   "metadata": {
    "scrolled": true
   },
   "outputs": [
    {
     "name": "stdout",
     "output_type": "stream",
     "text": [
      "105\n"
     ]
    },
    {
     "name": "stderr",
     "output_type": "stream",
     "text": [
      "/home/zj448/miniconda3/lib/python3.9/site-packages/pysr/sr.py:1257: UserWarning: Note: it looks like you are running in Jupyter. The progress bar will be turned off.\n",
      "  warnings.warn(\n"
     ]
    },
    {
     "name": "stdout",
     "output_type": "stream",
     "text": [
      "parameters:\n",
      "y   : log_B/T\n",
      "x 0 : log_R_e_sph_eq_kpc\n",
      "x 1 : bvtc\n",
      "Eq. selected rmse: 0.16436922253579403\n"
     ]
    },
    {
     "data": {
      "text/latex": [
       "$\\displaystyle 0.3176958157535099 x_{0} + x_{1} - 1.2296635665290419$"
      ],
      "text/plain": [
       "0.3176958157535099*x0 + x1 - 1.2296635665290419"
      ]
     },
     "metadata": {},
     "output_type": "display_data"
    },
    {
     "name": "stdout",
     "output_type": "stream",
     "text": [
      "Eq. 0 rmse: 0.31558103737417326\n"
     ]
    },
    {
     "data": {
      "text/latex": [
       "$\\displaystyle -0.2889212802790802$"
      ],
      "text/plain": [
       "-0.2889212802790802"
      ]
     },
     "metadata": {},
     "output_type": "display_data"
    },
    {
     "name": "stdout",
     "output_type": "stream",
     "text": [
      "Eq. 1 rmse: 0.26333851232335337\n"
     ]
    },
    {
     "data": {
      "text/latex": [
       "$\\displaystyle x_{1} - 1.1437903323041843$"
      ],
      "text/plain": [
       "x1 - 1.1437903323041843"
      ]
     },
     "metadata": {},
     "output_type": "display_data"
    },
    {
     "name": "stdout",
     "output_type": "stream",
     "text": [
      "Eq. 2 rmse: 0.1887518001778632\n"
     ]
    },
    {
     "data": {
      "text/latex": [
       "$\\displaystyle 0.39053146602935734 x_{0} - 0.39448200294574887$"
      ],
      "text/plain": [
       "0.39053146602935734*x0 - 0.39448200294574887"
      ]
     },
     "metadata": {},
     "output_type": "display_data"
    },
    {
     "name": "stdout",
     "output_type": "stream",
     "text": [
      "Eq. 3 rmse: 0.16436922253579403\n"
     ]
    },
    {
     "data": {
      "text/latex": [
       "$\\displaystyle 0.3176958157535099 x_{0} + x_{1} - 1.2296635665290419$"
      ],
      "text/plain": [
       "0.3176958157535099*x0 + x1 - 1.2296635665290419"
      ]
     },
     "metadata": {},
     "output_type": "display_data"
    },
    {
     "name": "stdout",
     "output_type": "stream",
     "text": [
      "Eq. 4 rmse: 0.1609143955377067\n"
     ]
    },
    {
     "data": {
      "text/latex": [
       "$\\displaystyle \\frac{0.2687317890018926 x_{0}}{x_{1}} + x_{1} - 1.2185758157735341$"
      ],
      "text/plain": [
       "0.2687317890018926*x0/x1 + x1 - 1.2185758157735341"
      ]
     },
     "metadata": {},
     "output_type": "display_data"
    },
    {
     "name": "stdout",
     "output_type": "stream",
     "text": [
      "Eq. 5 rmse: 0.16060185428208404\n"
     ]
    },
    {
     "data": {
      "text/latex": [
       "$\\displaystyle - 0.075839836599479219 x_{0}^{2} + 0.3721814297041482 x_{0} + x_{1} - 1.2029201307578348$"
      ],
      "text/plain": [
       "-0.075839836599479219*x0**2 + 0.3721814297041482*x0 + x1 - 1.2029201307578348"
      ]
     },
     "metadata": {},
     "output_type": "display_data"
    },
    {
     "name": "stdout",
     "output_type": "stream",
     "text": [
      "Eq. 6 rmse: 0.15755722050584683\n"
     ]
    },
    {
     "data": {
      "text/latex": [
       "$\\displaystyle - 0.37517244028783286 x_{0}^{2} \\cdot \\left(1.636324562346103 x_{1} - 1.22896042234269\\right) + 0.37517244028783286 x_{0} + x_{1} - 1.229663552496889$"
      ],
      "text/plain": [
       "-0.37517244028783286*x0**2*(1.636324562346103*x1 - 1.22896042234269) + 0.37517244028783286*x0 + x1 - 1.229663552496889"
      ]
     },
     "metadata": {},
     "output_type": "display_data"
    },
    {
     "name": "stdout",
     "output_type": "stream",
     "text": [
      "Eq. 7 rmse: 0.15304042771719317\n"
     ]
    },
    {
     "data": {
      "text/latex": [
       "$\\displaystyle 0.37517244028783286 x_{0} + x_{1} - 0.37517244028783286 \\left(x_{0}^{2} - 0.41934979656755234\\right) \\left(2.08008268567458 x_{1} - 1.5622446516534361\\right) - 1.229663552496889$"
      ],
      "text/plain": [
       "0.37517244028783286*x0 + x1 - 0.37517244028783286*(x0**2 - 0.41934979656755234)*(2.08008268567458*x1 - 1.5622446516534361) - 1.229663552496889"
      ]
     },
     "metadata": {},
     "output_type": "display_data"
    },
    {
     "name": "stdout",
     "output_type": "stream",
     "text": [
      "Eq. 8 rmse: 0.15044494095772712\n"
     ]
    },
    {
     "data": {
      "text/latex": [
       "$\\displaystyle \\frac{0.6914245447617188}{x_{1} \\left(- 3.704820693559418 \\left(x_{0} + 0.5195369053204314 x_{1}\\right)^{2} \\left(x_{0} + x_{1}\\right) - 1.4337593585529442\\right)}$"
      ],
      "text/plain": [
       "0.6914245447617188/(x1*(-3.704820693559418*(x0 + 0.5195369053204314*x1)**2*(x0 + x1) - 1.4337593585529442))"
      ]
     },
     "metadata": {},
     "output_type": "display_data"
    }
   ],
   "source": [
    "test_relation2(['log_R_e_sph_eq_kpc','bvtc','log_B/T'],\n",
    "             operator='basic')"
   ]
  },
  {
   "cell_type": "code",
   "execution_count": 35,
   "id": "26eb5ef4",
   "metadata": {},
   "outputs": [],
   "source": [
    "def BT_Re_bvtc_relation(log_R_e_sph_eq_kpc,bvtc):    \n",
    "    a=0.3176958157535099\n",
    "    b=1.0\n",
    "    c=-1.2296635665290419\n",
    "    return a*(log_R_e_sph_eq_kpc)+b*bvtc+c"
   ]
  },
  {
   "cell_type": "code",
   "execution_count": 39,
   "id": "85739299",
   "metadata": {},
   "outputs": [
    {
     "name": "stdout",
     "output_type": "stream",
     "text": [
      "105\n"
     ]
    },
    {
     "data": {
      "image/png": "[encoded data removed]",
      "text/plain": [
       "<Figure size 864x576 with 1 Axes>"
      ]
     },
     "metadata": {
      "needs_background": "light"
     },
     "output_type": "display_data"
    },
    {
     "name": "stdout",
     "output_type": "stream",
     "text": [
      "obs rmse: 0.16436922253579403\n"
     ]
    }
   ],
   "source": [
    "plot_relation(['log_R_e_sph_eq_kpc','bvtc','log_B/T'],BT_Re_bvtc_relation,label=r'$\\log (B/T)$')"
   ]
  },
  {
   "cell_type": "code",
   "execution_count": 44,
   "id": "16b36554",
   "metadata": {
    "scrolled": true
   },
   "outputs": [
    {
     "name": "stdout",
     "output_type": "stream",
     "text": [
      "122\n"
     ]
    },
    {
     "name": "stderr",
     "output_type": "stream",
     "text": [
      "/home/zj448/miniconda3/lib/python3.9/site-packages/pysr/sr.py:1257: UserWarning: Note: it looks like you are running in Jupyter. The progress bar will be turned off.\n",
      "  warnings.warn(\n",
      "/home/zj448/miniconda3/lib/python3.9/site-packages/pysr/sr.py:1761: UserWarning: Note: you are running with 10 features or more. Genetic algorithms like used in PySR scale poorly with large numbers of features. Consider using feature selection techniques to select the most important features (you can do this automatically with the `select_k_features` parameter), or, alternatively, doing a dimensionality reduction beforehand. For example, `X = PCA(n_components=6).fit_transform(X)`, using scikit-learn's `PCA` class, will reduce the number of features to 6 in an interpretable way, as each resultant feature will be a linear combination of the original features. \n",
      "  warnings.warn(\n"
     ]
    },
    {
     "name": "stdout",
     "output_type": "stream",
     "text": [
      "parameters:\n",
      "y   : logRho_soi_approx_new\n",
      "x 0 : log_sigma0\n",
      "x 1 : log_R_e_sph_eq_kpc\n",
      "x 2 : log10(R10_kpc)\n",
      "x 3 : log10(R90_kpc)\n",
      "x 4 : Sigma_0\n",
      "x 5 : Log_Approx_Avg_density_10pc\n",
      "x 6 : logRho_e_approx_New\n",
      "x 7 : Log_Avg_Rho_10kpc_approx\n",
      "x 8 : logRho_R10_approx\n",
      "x 9 : logRho_R90_approx\n",
      "Eq. selected rmse: 0.5858949454933049\n"
     ]
    },
    {
     "data": {
      "text/latex": [
       "$\\displaystyle - x_{3} + x_{5}$"
      ],
      "text/plain": [
       "-x3 + x5"
      ]
     },
     "metadata": {},
     "output_type": "display_data"
    },
    {
     "name": "stdout",
     "output_type": "stream",
     "text": [
      "Eq. 0 rmse: 0.8597351406606407\n"
     ]
    },
    {
     "data": {
      "text/latex": [
       "$\\displaystyle 2.746945124369875$"
      ],
      "text/plain": [
       "2.746945124369875"
      ]
     },
     "metadata": {},
     "output_type": "display_data"
    },
    {
     "name": "stdout",
     "output_type": "stream",
     "text": [
      "Eq. 1 rmse: 0.5858949454933049\n"
     ]
    },
    {
     "data": {
      "text/latex": [
       "$\\displaystyle - x_{3} + x_{5}$"
      ],
      "text/plain": [
       "-x3 + x5"
      ]
     },
     "metadata": {},
     "output_type": "display_data"
    },
    {
     "name": "stdout",
     "output_type": "stream",
     "text": [
      "Eq. 2 rmse: 0.5694522647595407\n"
     ]
    },
    {
     "data": {
      "text/latex": [
       "$\\displaystyle - x_{1} + 0.8533441744357905 x_{5}$"
      ],
      "text/plain": [
       "-x1 + 0.8533441744357905*x5"
      ]
     },
     "metadata": {},
     "output_type": "display_data"
    },
    {
     "name": "stdout",
     "output_type": "stream",
     "text": [
      "Eq. 3 rmse: 0.5460120735184326\n"
     ]
    },
    {
     "data": {
      "text/latex": [
       "$\\displaystyle - x_{1} + 0.6707837129924349 x_{5} + 0.5102859359386523$"
      ],
      "text/plain": [
       "-x1 + 0.6707837129924349*x5 + 0.5102859359386523"
      ]
     },
     "metadata": {},
     "output_type": "display_data"
    },
    {
     "name": "stdout",
     "output_type": "stream",
     "text": [
      "Eq. 4 rmse: 0.5412093488906919\n"
     ]
    },
    {
     "data": {
      "text/latex": [
       "$\\displaystyle - 0.7763410280873766 x_{0} - 0.7763410280873766 x_{1} + 0.7763410280873766 x_{5} + 1.9181612966739936$"
      ],
      "text/plain": [
       "-0.7763410280873766*x0 - 0.7763410280873766*x1 + 0.7763410280873766*x5 + 1.9181612966739936"
      ]
     },
     "metadata": {},
     "output_type": "display_data"
    },
    {
     "name": "stdout",
     "output_type": "stream",
     "text": [
      "Eq. 5 rmse: 0.5386484496626245\n"
     ]
    },
    {
     "data": {
      "text/latex": [
       "$\\displaystyle - x_{1} - 0.055708571592908692 x_{5}^{2} + x_{5} + 0.06146764816874915$"
      ],
      "text/plain": [
       "-x1 - 0.055708571592908692*x5**2 + x5 + 0.06146764816874915"
      ]
     },
     "metadata": {},
     "output_type": "display_data"
    },
    {
     "name": "stdout",
     "output_type": "stream",
     "text": [
      "Eq. 6 rmse: 0.5285857146800846\n"
     ]
    },
    {
     "data": {
      "text/latex": [
       "$\\displaystyle - x_{1} - \\frac{x_{3}}{0.35613722594478125 - x_{7}} + x_{5} - 0.35613722594478125 x_{8} + 0.18736300758459703$"
      ],
      "text/plain": [
       "-x1 - x3/(0.35613722594478125 - x7) + x5 - 0.35613722594478125*x8 + 0.18736300758459703"
      ]
     },
     "metadata": {},
     "output_type": "display_data"
    },
    {
     "name": "stdout",
     "output_type": "stream",
     "text": [
      "Eq. 7 rmse: 0.5238635347214214\n"
     ]
    },
    {
     "data": {
      "text/latex": [
       "$\\displaystyle - x_{1} - \\frac{x_{3}}{- x_{7} - 0.16803500396679563 x_{8}} + x_{5} - 0.4864740000707891 x_{8} + 0.4679164259640356$"
      ],
      "text/plain": [
       "-x1 - x3/(-x7 - 0.16803500396679563*x8) + x5 - 0.4864740000707891*x8 + 0.4679164259640356"
      ]
     },
     "metadata": {},
     "output_type": "display_data"
    },
    {
     "name": "stdout",
     "output_type": "stream",
     "text": [
      "Eq. 8 rmse: 0.5197095135216648\n"
     ]
    },
    {
     "data": {
      "text/latex": [
       "$\\displaystyle - x_{1} - \\frac{x_{3}}{x_{3} - x_{5} - 2.9548029310929336 x_{7}} + x_{5} - 0.3241256926042675 x_{8} + 0.1191901561973698$"
      ],
      "text/plain": [
       "-x1 - x3/(x3 - x5 - 2.9548029310929336*x7) + x5 - 0.3241256926042675*x8 + 0.1191901561973698"
      ]
     },
     "metadata": {},
     "output_type": "display_data"
    }
   ],
   "source": [
    "test_relation2(['log_sigma0','log_R_e_sph_eq_kpc','log10(R10_kpc)','log10(R90_kpc)',\n",
    "                'Sigma_0','Log_Approx_Avg_density_10pc','logRho_e_approx_New','Log_Avg_Rho_10kpc_approx','logRho_R10_approx','logRho_R90_approx',\n",
    "                'logRho_soi_approx_new'],\n",
    "             operator='basic')"
   ]
  },
  {
   "cell_type": "code",
   "execution_count": 45,
   "id": "1d25eae8",
   "metadata": {
    "scrolled": true
   },
   "outputs": [
    {
     "name": "stdout",
     "output_type": "stream",
     "text": [
      "122\n"
     ]
    },
    {
     "name": "stderr",
     "output_type": "stream",
     "text": [
      "/home/zj448/miniconda3/lib/python3.9/site-packages/pysr/sr.py:1257: UserWarning: Note: it looks like you are running in Jupyter. The progress bar will be turned off.\n",
      "  warnings.warn(\n",
      "/home/zj448/miniconda3/lib/python3.9/site-packages/pysr/sr.py:1761: UserWarning: Note: you are running with 10 features or more. Genetic algorithms like used in PySR scale poorly with large numbers of features. Consider using feature selection techniques to select the most important features (you can do this automatically with the `select_k_features` parameter), or, alternatively, doing a dimensionality reduction beforehand. For example, `X = PCA(n_components=6).fit_transform(X)`, using scikit-learn's `PCA` class, will reduce the number of features to 6 in an interpretable way, as each resultant feature will be a linear combination of the original features. \n",
      "  warnings.warn(\n"
     ]
    },
    {
     "name": "stdout",
     "output_type": "stream",
     "text": [
      "parameters:\n",
      "y   : logRho_soi_approx_new\n",
      "x 0 : log_sigma0\n",
      "x 1 : log_R_e_sph_eq_kpc\n",
      "x 2 : log10(R10_kpc)\n",
      "x 3 : log10(R90_kpc)\n",
      "x 4 : Sigma_0\n",
      "x 5 : Log_Approx_Avg_density_10pc\n",
      "x 6 : logRho_e_approx_New\n",
      "x 7 : Log_Avg_Rho_10kpc_approx\n",
      "x 8 : logRho_R10_approx\n",
      "x 9 : logRho_R90_approx\n",
      "Eq. selected rmse: 0.5858949454933049\n"
     ]
    },
    {
     "data": {
      "text/latex": [
       "$\\displaystyle - x_{3} + x_{5}$"
      ],
      "text/plain": [
       "-x3 + x5"
      ]
     },
     "metadata": {},
     "output_type": "display_data"
    },
    {
     "name": "stdout",
     "output_type": "stream",
     "text": [
      "Eq. 0 rmse: 0.8597351406606409\n"
     ]
    },
    {
     "data": {
      "text/latex": [
       "$\\displaystyle 2.74694512405331$"
      ],
      "text/plain": [
       "2.74694512405331"
      ]
     },
     "metadata": {},
     "output_type": "display_data"
    },
    {
     "name": "stdout",
     "output_type": "stream",
     "text": [
      "Eq. 1 rmse: 0.5858949454933049\n"
     ]
    },
    {
     "data": {
      "text/latex": [
       "$\\displaystyle - x_{3} + x_{5}$"
      ],
      "text/plain": [
       "-x3 + x5"
      ]
     },
     "metadata": {},
     "output_type": "display_data"
    },
    {
     "name": "stdout",
     "output_type": "stream",
     "text": [
      "Eq. 2 rmse: 0.5589841290473031\n"
     ]
    },
    {
     "data": {
      "text/latex": [
       "$\\displaystyle - x_{1} + 0.8205331392176418 x_{5}$"
      ],
      "text/plain": [
       "-x1 + 0.8205331392176418*x5"
      ]
     },
     "metadata": {},
     "output_type": "display_data"
    },
    {
     "name": "stdout",
     "output_type": "stream",
     "text": [
      "Eq. 3 rmse: 0.5408712848575954\n"
     ]
    },
    {
     "data": {
      "text/latex": [
       "$\\displaystyle - x_{2} + \\frac{1.365069959211558 x_{5}}{x_{0}}$"
      ],
      "text/plain": [
       "-x2 + 1.365069959211558*x5/x0"
      ]
     },
     "metadata": {},
     "output_type": "display_data"
    },
    {
     "name": "stdout",
     "output_type": "stream",
     "text": [
      "Eq. 4 rmse: 0.5341473910995074\n"
     ]
    },
    {
     "data": {
      "text/latex": [
       "$\\displaystyle - x_{1} + x_{5} + \\frac{x_{1} + x_{8}}{x_{7}}$"
      ],
      "text/plain": [
       "-x1 + x5 + (x1 + x8)/x7"
      ]
     },
     "metadata": {},
     "output_type": "display_data"
    },
    {
     "name": "stdout",
     "output_type": "stream",
     "text": [
      "Eq. 5 rmse: 0.5306415652822829\n"
     ]
    },
    {
     "data": {
      "text/latex": [
       "$\\displaystyle - x_{1} + x_{5} + 0.06067228363197244 + \\frac{x_{1} + x_{8}}{x_{7}}$"
      ],
      "text/plain": [
       "-x1 + x5 + 0.06067228363197244 + (x1 + x8)/x7"
      ]
     },
     "metadata": {},
     "output_type": "display_data"
    },
    {
     "name": "stdout",
     "output_type": "stream",
     "text": [
      "Eq. 6 rmse: 0.525496046077875\n"
     ]
    },
    {
     "data": {
      "text/latex": [
       "$\\displaystyle - x_{1} + x_{5} + \\frac{0.13734372158023847 x_{5} \\left(- x_{3} + x_{5}\\right)}{x_{7}}$"
      ],
      "text/plain": [
       "-x1 + x5 + 0.13734372158023847*x5*(-x3 + x5)/x7"
      ]
     },
     "metadata": {},
     "output_type": "display_data"
    },
    {
     "name": "stdout",
     "output_type": "stream",
     "text": [
      "Eq. 7 rmse: 0.5142891874547404\n"
     ]
    },
    {
     "data": {
      "text/latex": [
       "$\\displaystyle - x_{2} + \\frac{1.36632764470553 \\left(x_{5} - \\frac{0.025923991246643595}{- x_{2} - 1.454872217891887}\\right)}{x_{0}}$"
      ],
      "text/plain": [
       "-x2 + 1.36632764470553*(x5 - 0.025923991246643595/(-x2 - 1.454872217891887))/x0"
      ]
     },
     "metadata": {},
     "output_type": "display_data"
    },
    {
     "name": "stdout",
     "output_type": "stream",
     "text": [
      "Eq. 8 rmse: 0.5080742294431689\n"
     ]
    },
    {
     "data": {
      "text/latex": [
       "$\\displaystyle - x_{2} + \\frac{1.36632764470553 \\left(- \\frac{0.017831218625285226 x_{3}}{1.13220571770772 x_{3} - 0.8507769018822465} + x_{5}\\right)}{x_{0}}$"
      ],
      "text/plain": [
       "-x2 + 1.36632764470553*(-0.017831218625285226*x3/(1.13220571770772*x3 - 0.8507769018822465) + x5)/x0"
      ]
     },
     "metadata": {},
     "output_type": "display_data"
    }
   ],
   "source": [
    "test_relation2(['log_sigma0','log_R_e_sph_eq_kpc','log10(R10_kpc)','log10(R90_kpc)',\n",
    "                'Sigma_0','Log_Approx_Avg_density_10pc','logRho_e_approx_New','Log_Avg_Rho_10kpc_approx','logRho_R10_approx','logRho_R90_approx',\n",
    "                'logRho_soi_approx_new'],\n",
    "             operator='basic',ncyclesperiteration=5000,niterations=100)"
   ]
  },
  {
   "cell_type": "code",
   "execution_count": 55,
   "id": "647934c4",
   "metadata": {
    "scrolled": true
   },
   "outputs": [
    {
     "name": "stdout",
     "output_type": "stream",
     "text": [
      "104\n"
     ]
    },
    {
     "name": "stderr",
     "output_type": "stream",
     "text": [
      "/home/zj448/miniconda3/lib/python3.9/site-packages/pysr/sr.py:1257: UserWarning: Note: it looks like you are running in Jupyter. The progress bar will be turned off.\n",
      "  warnings.warn(\n",
      "/home/zj448/miniconda3/lib/python3.9/site-packages/pysr/sr.py:1761: UserWarning: Note: you are running with 10 features or more. Genetic algorithms like used in PySR scale poorly with large numbers of features. Consider using feature selection techniques to select the most important features (you can do this automatically with the `select_k_features` parameter), or, alternatively, doing a dimensionality reduction beforehand. For example, `X = PCA(n_components=6).fit_transform(X)`, using scikit-learn's `PCA` class, will reduce the number of features to 6 in an interpretable way, as each resultant feature will be a linear combination of the original features. \n",
      "  warnings.warn(\n"
     ]
    },
    {
     "name": "stdout",
     "output_type": "stream",
     "text": [
      "parameters:\n",
      "y   : logRho_soi_approx_new\n",
      "x 0 : log_sigma0\n",
      "x 1 : log_R_e_sph_eq_kpc\n",
      "x 2 : log10(R90_kpc)\n",
      "x 3 : Sigma_0\n",
      "x 4 : Log_Approx_Avg_density_10pc\n",
      "x 5 : logRho_e_approx_New\n",
      "x 6 : logRho_R90_approx\n",
      "x 7 : ETG\n",
      "x 8 : bvtc\n",
      "x 9 : Core\n",
      "x 10 : Pseudobulge\n",
      "Eq. selected rmse: 0.5436417808782573\n"
     ]
    },
    {
     "data": {
      "text/latex": [
       "$\\displaystyle - x_{2} + x_{4}$"
      ],
      "text/plain": [
       "-x2 + x4"
      ]
     },
     "metadata": {},
     "output_type": "display_data"
    },
    {
     "name": "stdout",
     "output_type": "stream",
     "text": [
      "Eq. 0 rmse: 0.8554101405084237\n"
     ]
    },
    {
     "data": {
      "text/latex": [
       "$\\displaystyle 2.7374728218851447$"
      ],
      "text/plain": [
       "2.7374728218851447"
      ]
     },
     "metadata": {},
     "output_type": "display_data"
    },
    {
     "name": "stdout",
     "output_type": "stream",
     "text": [
      "Eq. 1 rmse: 0.5436417808782573\n"
     ]
    },
    {
     "data": {
      "text/latex": [
       "$\\displaystyle - x_{2} + x_{4}$"
      ],
      "text/plain": [
       "-x2 + x4"
      ]
     },
     "metadata": {},
     "output_type": "display_data"
    },
    {
     "name": "stdout",
     "output_type": "stream",
     "text": [
      "Eq. 2 rmse: 0.5329144526516373\n"
     ]
    },
    {
     "data": {
      "text/latex": [
       "$\\displaystyle - x_{2} x_{8} + x_{4}$"
      ],
      "text/plain": [
       "-x2*x8 + x4"
      ]
     },
     "metadata": {},
     "output_type": "display_data"
    },
    {
     "name": "stdout",
     "output_type": "stream",
     "text": [
      "Eq. 3 rmse: 0.5040701105904775\n"
     ]
    },
    {
     "data": {
      "text/latex": [
       "$\\displaystyle - 0.7243635594393969 x_{2} + x_{4} - 0.7243635594393969 x_{9}$"
      ],
      "text/plain": [
       "-0.7243635594393969*x2 + x4 - 0.7243635594393969*x9"
      ]
     },
     "metadata": {},
     "output_type": "display_data"
    },
    {
     "name": "stdout",
     "output_type": "stream",
     "text": [
      "Eq. 4 rmse: 0.5006879412780864\n"
     ]
    },
    {
     "data": {
      "text/latex": [
       "$\\displaystyle - 0.7243635594393969 x_{2} + x_{4} - 0.7243635594393969 x_{9} - 0.09753117378181014$"
      ],
      "text/plain": [
       "-0.7243635594393969*x2 + x4 - 0.7243635594393969*x9 - 0.09753117378181014"
      ]
     },
     "metadata": {},
     "output_type": "display_data"
    },
    {
     "name": "stdout",
     "output_type": "stream",
     "text": [
      "Eq. 5 rmse: 0.4951275798436404\n"
     ]
    },
    {
     "data": {
      "text/latex": [
       "$\\displaystyle 0.8860311106240573 x_{4} + 0.8860311106240573 \\left(x_{1} + 0.13499481594176424\\right) \\left(- x_{9} - 0.6566849536521259\\right)$"
      ],
      "text/plain": [
       "0.8860311106240573*x4 + 0.8860311106240573*(x1 + 0.13499481594176424)*(-x9 - 0.6566849536521259)"
      ]
     },
     "metadata": {},
     "output_type": "display_data"
    },
    {
     "name": "stdout",
     "output_type": "stream",
     "text": [
      "Eq. 6 rmse: 0.49205783596656466\n"
     ]
    },
    {
     "data": {
      "text/latex": [
       "$\\displaystyle 0.3608458735761844 x_{10} + x_{4} - x_{9} - 0.2826262210733096 - \\frac{x_{2}}{x_{0}}$"
      ],
      "text/plain": [
       "0.3608458735761844*x10 + x4 - x9 - 0.2826262210733096 - x2/x0"
      ]
     },
     "metadata": {},
     "output_type": "display_data"
    },
    {
     "name": "stdout",
     "output_type": "stream",
     "text": [
      "Eq. 7 rmse: 0.47856269017751024\n"
     ]
    },
    {
     "data": {
      "text/latex": [
       "$\\displaystyle - x_{1} x_{9} + 0.3742556550254861 x_{10} + x_{4} - 0.3358179325629012 - \\frac{x_{2}}{x_{0}}$"
      ],
      "text/plain": [
       "-x1*x9 + 0.3742556550254861*x10 + x4 - 0.3358179325629012 - x2/x0"
      ]
     },
     "metadata": {},
     "output_type": "display_data"
    },
    {
     "name": "stdout",
     "output_type": "stream",
     "text": [
      "Eq. 8 rmse: 0.4757605561005474\n"
     ]
    },
    {
     "data": {
      "text/latex": [
       "$\\displaystyle - x_{1} x_{9} + 0.06697497082072455 x_{10} x_{3} - 0.4986767401597408 x_{2} + x_{4} - 0.27642975790670243$"
      ],
      "text/plain": [
       "-x1*x9 + 0.06697497082072455*x10*x3 - 0.4986767401597408*x2 + x4 - 0.27642975790670243"
      ]
     },
     "metadata": {},
     "output_type": "display_data"
    },
    {
     "name": "stdout",
     "output_type": "stream",
     "text": [
      "Eq. 9 rmse: 0.46846867700455436\n"
     ]
    },
    {
     "data": {
      "text/latex": [
       "$\\displaystyle - x_{1} x_{9} + 0.39388988712122863 x_{10} + x_{4} - 0.3444572029734595 - \\frac{0.004604267789621414}{x_{1}} - \\frac{x_{2}}{x_{0}}$"
      ],
      "text/plain": [
       "-x1*x9 + 0.39388988712122863*x10 + x4 - 0.3444572029734595 - 0.004604267789621414/x1 - x2/x0"
      ]
     },
     "metadata": {},
     "output_type": "display_data"
    },
    {
     "name": "stdout",
     "output_type": "stream",
     "text": [
      "Eq. 10 rmse: 0.46784405709370813\n"
     ]
    },
    {
     "data": {
      "text/latex": [
       "$\\displaystyle - x_{1} x_{9} + 0.3915265632403087 x_{10} + x_{4} - 0.3426461972708425 - \\frac{0.006228318816886743 x_{8}}{x_{1}} - \\frac{x_{2}}{x_{0}}$"
      ],
      "text/plain": [
       "-x1*x9 + 0.3915265632403087*x10 + x4 - 0.3426461972708425 - 0.006228318816886743*x8/x1 - x2/x0"
      ]
     },
     "metadata": {},
     "output_type": "display_data"
    }
   ],
   "source": [
    "test_relation2(['log_sigma0','log_R_e_sph_eq_kpc','log10(R90_kpc)',\n",
    "                'Sigma_0','Log_Approx_Avg_density_10pc','logRho_e_approx_New','logRho_R90_approx',\n",
    "                'ETG','bvtc','Core', 'Pseudobulge',\n",
    "                'logRho_soi_approx_new'],\n",
    "             operator='basic')"
   ]
  },
  {
   "cell_type": "code",
   "execution_count": 47,
   "id": "5a21be91",
   "metadata": {},
   "outputs": [],
   "source": [
    "def rhosoi_R90_rho10pc_relation(R90,rho10pc):    \n",
    "    a=-1.0\n",
    "    b=1.0\n",
    "    return a*R90+b*rho10pc"
   ]
  },
  {
   "cell_type": "code",
   "execution_count": 48,
   "id": "350f5fa8",
   "metadata": {},
   "outputs": [
    {
     "name": "stdout",
     "output_type": "stream",
     "text": [
      "122\n"
     ]
    },
    {
     "data": {
      "image/png": "[encoded data removed]",
      "text/plain": [
       "<Figure size 864x576 with 1 Axes>"
      ]
     },
     "metadata": {
      "needs_background": "light"
     },
     "output_type": "display_data"
    },
    {
     "name": "stdout",
     "output_type": "stream",
     "text": [
      "obs rmse: 0.5858949454933049\n"
     ]
    }
   ],
   "source": [
    "plot_relation(['log10(R90_kpc)','Log_Approx_Avg_density_10pc','logRho_soi_approx_new'],rhosoi_R90_rho10pc_relation,label=r'$\\rho_{soi}$')"
   ]
  },
  {
   "cell_type": "code",
   "execution_count": 50,
   "id": "15488658",
   "metadata": {},
   "outputs": [
    {
     "data": {
      "text/plain": [
       "Text(0, 0.5, '$\\\\rho_{10 pc}$')"
      ]
     },
     "execution_count": 50,
     "metadata": {},
     "output_type": "execute_result"
    },
    {
     "data": {
      "image/png": "[encoded data removed]",
      "text/plain": [
       "<Figure size 432x288 with 1 Axes>"
      ]
     },
     "metadata": {
      "needs_background": "light"
     },
     "output_type": "display_data"
    }
   ],
   "source": [
    "plt.scatter(df['logRho_soi_approx_new'],df['Log_Approx_Avg_density_10pc'])\n",
    "plt.xlabel(r'$\\rho_{soi}$',fontsize=font)\n",
    "plt.ylabel(r'$\\rho_{10 pc}$',fontsize=font)"
   ]
  },
  {
   "cell_type": "code",
   "execution_count": 52,
   "id": "6ab8cdf7",
   "metadata": {
    "scrolled": true
   },
   "outputs": [
    {
     "name": "stdout",
     "output_type": "stream",
     "text": [
      "122\n"
     ]
    },
    {
     "name": "stderr",
     "output_type": "stream",
     "text": [
      "/home/zj448/miniconda3/lib/python3.9/site-packages/pysr/sr.py:1257: UserWarning: Note: it looks like you are running in Jupyter. The progress bar will be turned off.\n",
      "  warnings.warn(\n"
     ]
    },
    {
     "name": "stdout",
     "output_type": "stream",
     "text": [
      "parameters:\n",
      "x 0 : log_sigma0\n",
      "x 1 : log_B/T\n",
      "x 2 : Log_Approx_Avg_density_10pc\n",
      "Eq. selected rmse: 0.35511071187752075\n"
     ]
    },
    {
     "data": {
      "text/latex": [
       "$\\displaystyle 3.812520368520612 x_{0} + x_{1}$"
      ],
      "text/plain": [
       "3.812520368520612*x0 + x1"
      ]
     },
     "metadata": {},
     "output_type": "display_data"
    },
    {
     "name": "stdout",
     "output_type": "stream",
     "text": [
      "Eq. 0 rmse: 0.9418901813275808\n"
     ]
    },
    {
     "data": {
      "text/latex": [
       "$\\displaystyle 8.158220955491496$"
      ],
      "text/plain": [
       "8.158220955491496"
      ]
     },
     "metadata": {},
     "output_type": "display_data"
    },
    {
     "name": "stdout",
     "output_type": "stream",
     "text": [
      "Eq. 1 rmse: 0.4910504073421172\n"
     ]
    },
    {
     "data": {
      "text/latex": [
       "$\\displaystyle 3.6260495619345616 x_{0}$"
      ],
      "text/plain": [
       "3.6260495619345616*x0"
      ]
     },
     "metadata": {},
     "output_type": "display_data"
    },
    {
     "name": "stdout",
     "output_type": "stream",
     "text": [
      "Eq. 2 rmse: 0.35511071187752075\n"
     ]
    },
    {
     "data": {
      "text/latex": [
       "$\\displaystyle 3.812520368520612 x_{0} + x_{1}$"
      ],
      "text/plain": [
       "3.812520368520612*x0 + x1"
      ]
     },
     "metadata": {},
     "output_type": "display_data"
    },
    {
     "name": "stdout",
     "output_type": "stream",
     "text": [
      "Eq. 3 rmse: 0.3541139699712152\n"
     ]
    },
    {
     "data": {
      "text/latex": [
       "$\\displaystyle 3.7990032822808923 x_{0} + 0.9275109790953457 x_{1}$"
      ],
      "text/plain": [
       "3.7990032822808923*x0 + 0.9275109790953457*x1"
      ]
     },
     "metadata": {},
     "output_type": "display_data"
    },
    {
     "name": "stdout",
     "output_type": "stream",
     "text": [
      "Eq. 4 rmse: 0.3462016957652911\n"
     ]
    },
    {
     "data": {
      "text/latex": [
       "$\\displaystyle 3.80577995640779 x_{0} + x_{1} \\left(x_{0} - 1.2053995137231734\\right)$"
      ],
      "text/plain": [
       "3.80577995640779*x0 + x1*(x0 - 1.2053995137231734)"
      ]
     },
     "metadata": {},
     "output_type": "display_data"
    },
    {
     "name": "stdout",
     "output_type": "stream",
     "text": [
      "Eq. 5 rmse: 0.34545373677821617\n"
     ]
    },
    {
     "data": {
      "text/latex": [
       "$\\displaystyle 0.5976952177698205 x_{0} x_{1} \\cdot \\left(0.4253245575215321 x_{0} + \\frac{0.4253245575215321 x_{1}}{x_{0}}\\right) + 3.816163172915209 x_{0}$"
      ],
      "text/plain": [
       "0.5976952177698205*x0*x1*(0.4253245575215321*x0 + 0.4253245575215321*x1/x0) + 3.816163172915209*x0"
      ]
     },
     "metadata": {},
     "output_type": "display_data"
    },
    {
     "name": "stdout",
     "output_type": "stream",
     "text": [
      "Eq. 6 rmse: 0.3432009355213737\n"
     ]
    },
    {
     "data": {
      "text/latex": [
       "$\\displaystyle 3.80577995640779 x_{0} + x_{1} \\left(x_{0} - \\frac{0.5767135587236502 x_{1}}{x_{2}} + \\frac{- x_{0} + x_{1}}{x_{0}}\\right)$"
      ],
      "text/plain": [
       "3.80577995640779*x0 + x1*(x0 - 0.5767135587236502*x1/x2 + (-x0 + x1)/x0)"
      ]
     },
     "metadata": {},
     "output_type": "display_data"
    },
    {
     "name": "stdout",
     "output_type": "stream",
     "text": [
      "Eq. 7 rmse: 0.3425094449222869\n"
     ]
    },
    {
     "data": {
      "text/latex": [
       "$\\displaystyle 3.811428487747654 x_{0} + x_{1} \\left(x_{0} + \\frac{x_{1}}{0.8837890262862095 - 2 x_{2}} + \\frac{- x_{0} + x_{1}}{x_{0}}\\right)$"
      ],
      "text/plain": [
       "3.811428487747654*x0 + x1*(x0 + x1/(0.8837890262862095 - 2*x2) + (-x0 + x1)/x0)"
      ]
     },
     "metadata": {},
     "output_type": "display_data"
    }
   ],
   "source": [
    "test_relation(['log_sigma0','log_B/T','Log_Approx_Avg_density_10pc'],\n",
    "             operator='basic')"
   ]
  },
  {
   "cell_type": "code",
   "execution_count": 54,
   "id": "9b902903",
   "metadata": {
    "scrolled": true
   },
   "outputs": [
    {
     "name": "stdout",
     "output_type": "stream",
     "text": [
      "122\n"
     ]
    },
    {
     "name": "stderr",
     "output_type": "stream",
     "text": [
      "/home/zj448/miniconda3/lib/python3.9/site-packages/pysr/sr.py:1257: UserWarning: Note: it looks like you are running in Jupyter. The progress bar will be turned off.\n",
      "  warnings.warn(\n"
     ]
    },
    {
     "name": "stdout",
     "output_type": "stream",
     "text": [
      "parameters:\n",
      "x 0 : log_sigma0\n",
      "x 1 : log_B/T\n",
      "x 2 : Log_Approx_Avg_density_10pc\n",
      "x 3 : log_R_e_sph_eq_kpc\n",
      "x 4 : log10(R90_kpc)\n",
      "Eq. selected rmse: 0.3564231811853384\n"
     ]
    },
    {
     "data": {
      "text/latex": [
       "$\\displaystyle 3.799003282248154 x_{0} + x_{1}$"
      ],
      "text/plain": [
       "3.799003282248154*x0 + x1"
      ]
     },
     "metadata": {},
     "output_type": "display_data"
    },
    {
     "name": "stdout",
     "output_type": "stream",
     "text": [
      "Eq. 0 rmse: 0.941890181327581\n"
     ]
    },
    {
     "data": {
      "text/latex": [
       "$\\displaystyle 8.15822095549223$"
      ],
      "text/plain": [
       "8.15822095549223"
      ]
     },
     "metadata": {},
     "output_type": "display_data"
    },
    {
     "name": "stdout",
     "output_type": "stream",
     "text": [
      "Eq. 1 rmse: 0.4910504073421172\n"
     ]
    },
    {
     "data": {
      "text/latex": [
       "$\\displaystyle 3.62604956133254 x_{0}$"
      ],
      "text/plain": [
       "3.62604956133254*x0"
      ]
     },
     "metadata": {},
     "output_type": "display_data"
    },
    {
     "name": "stdout",
     "output_type": "stream",
     "text": [
      "Eq. 2 rmse: 0.3564231811853384\n"
     ]
    },
    {
     "data": {
      "text/latex": [
       "$\\displaystyle 3.799003282248154 x_{0} + x_{1}$"
      ],
      "text/plain": [
       "3.799003282248154*x0 + x1"
      ]
     },
     "metadata": {},
     "output_type": "display_data"
    },
    {
     "name": "stdout",
     "output_type": "stream",
     "text": [
      "Eq. 3 rmse: 0.33908381829014284\n"
     ]
    },
    {
     "data": {
      "text/latex": [
       "$\\displaystyle 3.557664197422205 x_{0} + 0.7083949855628435 x_{3}$"
      ],
      "text/plain": [
       "3.557664197422205*x0 + 0.7083949855628435*x3"
      ]
     },
     "metadata": {},
     "output_type": "display_data"
    },
    {
     "name": "stdout",
     "output_type": "stream",
     "text": [
      "Eq. 4 rmse: 0.3323489790256584\n"
     ]
    },
    {
     "data": {
      "text/latex": [
       "$\\displaystyle 3.557664197422205 x_{0} + \\frac{x_{0} x_{3}}{x_{2}}$"
      ],
      "text/plain": [
       "3.557664197422205*x0 + x0*x3/x2"
      ]
     },
     "metadata": {},
     "output_type": "display_data"
    },
    {
     "name": "stdout",
     "output_type": "stream",
     "text": [
      "Eq. 5 rmse: 0.3244174376996834\n"
     ]
    },
    {
     "data": {
      "text/latex": [
       "$\\displaystyle \\frac{x_{0} x_{3}}{x_{2} - 0.5491761414748266} + 3.557664197422205 x_{0}$"
      ],
      "text/plain": [
       "x0*x3/(x2 - 0.5491761414748266) + 3.557664197422205*x0"
      ]
     },
     "metadata": {},
     "output_type": "display_data"
    },
    {
     "name": "stdout",
     "output_type": "stream",
     "text": [
      "Eq. 6 rmse: 0.3179927759784267\n"
     ]
    },
    {
     "data": {
      "text/latex": [
       "$\\displaystyle 3.5828465968500818 x_{0} + \\frac{x_{3} \\left(x_{0} + 1.2282400418319397\\right)}{x_{2} + x_{3} x_{4}}$"
      ],
      "text/plain": [
       "3.5828465968500818*x0 + x3*(x0 + 1.2282400418319397)/(x2 + x3*x4)"
      ]
     },
     "metadata": {},
     "output_type": "display_data"
    },
    {
     "name": "stdout",
     "output_type": "stream",
     "text": [
      "Eq. 7 rmse: 0.313129710510138\n"
     ]
    },
    {
     "data": {
      "text/latex": [
       "$\\displaystyle \\frac{1.5299235710271584 x_{0} x_{3}}{x_{2} + x_{4}^{2}} + 3.9763445334242589 x_{0} - 0.8584599354876153$"
      ],
      "text/plain": [
       "1.5299235710271584*x0*x3/(x2 + x4**2) + 3.9763445334242589*x0 - 0.8584599354876153"
      ]
     },
     "metadata": {},
     "output_type": "display_data"
    },
    {
     "name": "stdout",
     "output_type": "stream",
     "text": [
      "Eq. 8 rmse: 0.30925248257316806\n"
     ]
    },
    {
     "data": {
      "text/latex": [
       "$\\displaystyle 3.603942841889206 x_{0} + \\frac{1.9979458608549254 x_{3}}{- 2.0459990936755929 x_{3} \\left(- x_{4} + \\frac{x_{2}}{x_{0}}\\right) + 2.0459990936755929 x_{4}}$"
      ],
      "text/plain": [
       "3.603942841889206*x0 + 1.9979458608549254*x3/(-2.0459990936755929*x3*(-x4 + x2/x0) + 2.0459990936755929*x4)"
      ]
     },
     "metadata": {},
     "output_type": "display_data"
    },
    {
     "name": "stdout",
     "output_type": "stream",
     "text": [
      "Eq. 9 rmse: 0.3032889433836424\n"
     ]
    },
    {
     "data": {
      "text/latex": [
       "$\\displaystyle 4.0321891383271685 x_{0} + \\frac{1.5299235710271584 x_{3}}{- 1.72556481482647 x_{3} \\left(- x_{4} + \\frac{x_{2}}{x_{0}}\\right) + 1.72556481482647 x_{4}} - 0.9619076431558025$"
      ],
      "text/plain": [
       "4.0321891383271685*x0 + 1.5299235710271584*x3/(-1.72556481482647*x3*(-x4 + x2/x0) + 1.72556481482647*x4) - 0.9619076431558025"
      ]
     },
     "metadata": {},
     "output_type": "display_data"
    }
   ],
   "source": [
    "test_relation(['log_sigma0','log_B/T','Log_Approx_Avg_density_10pc','log_R_e_sph_eq_kpc','log10(R90_kpc)'],\n",
    "             operator='basic',niterations=100)"
   ]
  },
  {
   "cell_type": "code",
   "execution_count": 57,
   "id": "5cd1fbcb",
   "metadata": {
    "scrolled": true
   },
   "outputs": [
    {
     "name": "stdout",
     "output_type": "stream",
     "text": [
      "104\n"
     ]
    },
    {
     "name": "stderr",
     "output_type": "stream",
     "text": [
      "/home/zj448/miniconda3/lib/python3.9/site-packages/pysr/sr.py:1257: UserWarning: Note: it looks like you are running in Jupyter. The progress bar will be turned off.\n",
      "  warnings.warn(\n"
     ]
    },
    {
     "name": "stdout",
     "output_type": "stream",
     "text": [
      "parameters:\n",
      "x 0 : log_sigma0\n",
      "x 1 : log_B/T\n",
      "x 2 : Log_Approx_Avg_density_10pc\n",
      "x 3 : log_R_e_sph_eq_kpc\n",
      "x 4 : log10(R90_kpc)\n",
      "x 5 : bvtc\n",
      "x 6 : Core\n",
      "x 7 : Pseudobulge\n",
      "Eq. selected rmse: 0.30491131218851325\n"
     ]
    },
    {
     "data": {
      "text/latex": [
       "$\\displaystyle x_{0} \\cdot \\left(3.5870018421444096 + \\frac{x_{3}}{x_{2}}\\right)$"
      ],
      "text/plain": [
       "x0*(3.5870018421444096 + x3/x2)"
      ]
     },
     "metadata": {},
     "output_type": "display_data"
    },
    {
     "name": "stdout",
     "output_type": "stream",
     "text": [
      "Eq. 0 rmse: 0.9098375184233655\n"
     ]
    },
    {
     "data": {
      "text/latex": [
       "$\\displaystyle 8.217969608037324$"
      ],
      "text/plain": [
       "8.217969608037324"
      ]
     },
     "metadata": {},
     "output_type": "display_data"
    },
    {
     "name": "stdout",
     "output_type": "stream",
     "text": [
      "Eq. 1 rmse: 0.4449215670883511\n"
     ]
    },
    {
     "data": {
      "text/latex": [
       "$\\displaystyle 3.653067606887619 x_{0}$"
      ],
      "text/plain": [
       "3.653067606887619*x0"
      ]
     },
     "metadata": {},
     "output_type": "display_data"
    },
    {
     "name": "stdout",
     "output_type": "stream",
     "text": [
      "Eq. 2 rmse: 0.349238575089775\n"
     ]
    },
    {
     "data": {
      "text/latex": [
       "$\\displaystyle 3.8546926645037614 x_{0} + x_{1}$"
      ],
      "text/plain": [
       "3.8546926645037614*x0 + x1"
      ]
     },
     "metadata": {},
     "output_type": "display_data"
    },
    {
     "name": "stdout",
     "output_type": "stream",
     "text": [
      "Eq. 3 rmse: 0.30491131218851325\n"
     ]
    },
    {
     "data": {
      "text/latex": [
       "$\\displaystyle x_{0} \\cdot \\left(3.5870018421444096 + \\frac{x_{3}}{x_{2}}\\right)$"
      ],
      "text/plain": [
       "x0*(3.5870018421444096 + x3/x2)"
      ]
     },
     "metadata": {},
     "output_type": "display_data"
    },
    {
     "name": "stdout",
     "output_type": "stream",
     "text": [
      "Eq. 4 rmse: 0.29297750381734944\n"
     ]
    },
    {
     "data": {
      "text/latex": [
       "$\\displaystyle x_{0} \\left(\\frac{x_{3}}{x_{2} - x_{7}} + 3.5870018421444096\\right)$"
      ],
      "text/plain": [
       "x0*(x3/(x2 - x7) + 3.5870018421444096)"
      ]
     },
     "metadata": {},
     "output_type": "display_data"
    },
    {
     "name": "stdout",
     "output_type": "stream",
     "text": [
      "Eq. 5 rmse: 0.28883704923480363\n"
     ]
    },
    {
     "data": {
      "text/latex": [
       "$\\displaystyle x_{0} \\left(\\frac{x_{3}}{x_{2} - x_{6} - x_{7}} + 3.5738835573625956\\right)$"
      ],
      "text/plain": [
       "x0*(x3/(x2 - x6 - x7) + 3.5738835573625956)"
      ]
     },
     "metadata": {},
     "output_type": "display_data"
    },
    {
     "name": "stdout",
     "output_type": "stream",
     "text": [
      "Eq. 6 rmse: 0.281517764624702\n"
     ]
    },
    {
     "data": {
      "text/latex": [
       "$\\displaystyle x_{0} \\cdot \\left(3.574591997517387 + \\frac{0.6215136450003999 \\left(x_{3} + x_{6}\\right)}{x_{2} - x_{7}}\\right)$"
      ],
      "text/plain": [
       "x0*(3.574591997517387 + 0.6215136450003999*(x3 + x6)/(x2 - x7))"
      ]
     },
     "metadata": {},
     "output_type": "display_data"
    },
    {
     "name": "stdout",
     "output_type": "stream",
     "text": [
      "Eq. 7 rmse: 0.2770599706763421\n"
     ]
    },
    {
     "data": {
      "text/latex": [
       "$\\displaystyle x_{0} \\cdot \\left(3.5737104826253243 + \\frac{0.6330364532612219 \\left(x_{3} + x_{6}\\right)}{x_{2} - 1.2539758421221139 x_{7}}\\right)$"
      ],
      "text/plain": [
       "x0*(3.5737104826253243 + 0.6330364532612219*(x3 + x6)/(x2 - 1.2539758421221139*x7))"
      ]
     },
     "metadata": {},
     "output_type": "display_data"
    },
    {
     "name": "stdout",
     "output_type": "stream",
     "text": [
      "Eq. 8 rmse: 0.2620745174328699\n"
     ]
    },
    {
     "data": {
      "text/latex": [
       "$\\displaystyle x_{0} \\cdot \\left(3.574591997517387 + \\frac{0.6215136450003999 \\left(x_{3} + x_{6}\\right)}{x_{2} + x_{7} \\left(- x_{4} - 1.2965628095188224\\right)}\\right)$"
      ],
      "text/plain": [
       "x0*(3.574591997517387 + 0.6215136450003999*(x3 + x6)/(x2 + x7*(-x4 - 1.2965628095188224)))"
      ]
     },
     "metadata": {},
     "output_type": "display_data"
    },
    {
     "name": "stdout",
     "output_type": "stream",
     "text": [
      "Eq. 9 rmse: 0.2596640276509839\n"
     ]
    },
    {
     "data": {
      "text/latex": [
       "$\\displaystyle x_{0} \\cdot \\left(3.574591997517387 + \\frac{0.6215136450003999 \\left(x_{3} + x_{6}\\right)}{x_{2} + x_{7} \\left(- x_{3} - 1.81290229543149\\right)}\\right)$"
      ],
      "text/plain": [
       "x0*(3.574591997517387 + 0.6215136450003999*(x3 + x6)/(x2 + x7*(-x3 - 1.81290229543149)))"
      ]
     },
     "metadata": {},
     "output_type": "display_data"
    },
    {
     "name": "stdout",
     "output_type": "stream",
     "text": [
      "Eq. 10 rmse: 0.25796710519744676\n"
     ]
    },
    {
     "data": {
      "text/latex": [
       "$\\displaystyle x_{0} \\cdot \\left(3.574591997517387 + \\frac{0.6215136450003999 \\left(x_{3} + x_{6}\\right)}{x_{2} + x_{7} \\left(- 0.81414452084132724 x_{4} - 1.4579383579584333\\right)}\\right)$"
      ],
      "text/plain": [
       "x0*(3.574591997517387 + 0.6215136450003999*(x3 + x6)/(x2 + x7*(-0.81414452084132724*x4 - 1.4579383579584333)))"
      ]
     },
     "metadata": {},
     "output_type": "display_data"
    }
   ],
   "source": [
    "test_relation(['log_sigma0','log_B/T','Log_Approx_Avg_density_10pc','log_R_e_sph_eq_kpc','log10(R90_kpc)',\n",
    "              'bvtc','Core', 'Pseudobulge'],\n",
    "             operator='basic',niterations=100)"
   ]
  },
  {
   "cell_type": "code",
   "execution_count": 59,
   "id": "f3e3cd56",
   "metadata": {
    "scrolled": true
   },
   "outputs": [
    {
     "name": "stdout",
     "output_type": "stream",
     "text": [
      "104\n"
     ]
    },
    {
     "name": "stderr",
     "output_type": "stream",
     "text": [
      "/home/zj448/miniconda3/lib/python3.9/site-packages/pysr/sr.py:1257: UserWarning: Note: it looks like you are running in Jupyter. The progress bar will be turned off.\n",
      "  warnings.warn(\n"
     ]
    },
    {
     "name": "stdout",
     "output_type": "stream",
     "text": [
      "parameters:\n",
      "x 0 : log_sigma0\n",
      "x 1 : log_B/T\n",
      "x 2 : Log_Approx_Avg_density_10pc\n",
      "x 3 : log_R_e_sph_eq_kpc\n",
      "x 4 : log10(R90_kpc)\n",
      "x 5 : bvtc\n",
      "x 6 : Core\n",
      "x 7 : Pseudobulge\n",
      "Eq. selected rmse: 0.32523315346450743\n"
     ]
    },
    {
     "data": {
      "text/latex": [
       "$\\displaystyle 0.597500956059243^{x_{7}} + e^{x_{0}^{0.8379764581103258}}$"
      ],
      "text/plain": [
       "0.597500956059243**x7 + exp(x0**0.8379764581103258)"
      ]
     },
     "metadata": {},
     "output_type": "display_data"
    },
    {
     "name": "stdout",
     "output_type": "stream",
     "text": [
      "Eq. 0 rmse: 0.9098375184233655\n"
     ]
    },
    {
     "data": {
      "text/latex": [
       "$\\displaystyle 8.217969609441441$"
      ],
      "text/plain": [
       "8.217969609441441"
      ]
     },
     "metadata": {},
     "output_type": "display_data"
    },
    {
     "name": "stdout",
     "output_type": "stream",
     "text": [
      "Eq. 1 rmse: 0.4449215670883512\n"
     ]
    },
    {
     "data": {
      "text/latex": [
       "$\\displaystyle 3.653067607416525 x_{0}$"
      ],
      "text/plain": [
       "3.653067607416525*x0"
      ]
     },
     "metadata": {},
     "output_type": "display_data"
    },
    {
     "name": "stdout",
     "output_type": "stream",
     "text": [
      "Eq. 2 rmse: 0.3604475085768423\n"
     ]
    },
    {
     "data": {
      "text/latex": [
       "$\\displaystyle x_{0}^{2.1433803935749745} + 2.4771107983730722$"
      ],
      "text/plain": [
       "x0**2.1433803935749745 + 2.4771107983730722"
      ]
     },
     "metadata": {},
     "output_type": "display_data"
    },
    {
     "name": "stdout",
     "output_type": "stream",
     "text": [
      "Eq. 3 rmse: 0.3566305231900477\n"
     ]
    },
    {
     "data": {
      "text/latex": [
       "$\\displaystyle e^{x_{0}^{0.8376666074685295}} + 0.9551121552542238$"
      ],
      "text/plain": [
       "exp(x0**0.8376666074685295) + 0.9551121552542238"
      ]
     },
     "metadata": {},
     "output_type": "display_data"
    },
    {
     "name": "stdout",
     "output_type": "stream",
     "text": [
      "Eq. 4 rmse: 0.35294424038190064\n"
     ]
    },
    {
     "data": {
      "text/latex": [
       "$\\displaystyle x_{0} \\cdot \\left(0.2730606943346075 x_{3} + 3.652112231417507\\right)$"
      ],
      "text/plain": [
       "x0*(0.2730606943346075*x3 + 3.652112231417507)"
      ]
     },
     "metadata": {},
     "output_type": "display_data"
    },
    {
     "name": "stdout",
     "output_type": "stream",
     "text": [
      "Eq. 5 rmse: 0.32523315346450743\n"
     ]
    },
    {
     "data": {
      "text/latex": [
       "$\\displaystyle 0.597500956059243^{x_{7}} + e^{x_{0}^{0.8379764581103258}}$"
      ],
      "text/plain": [
       "0.597500956059243**x7 + exp(x0**0.8379764581103258)"
      ]
     },
     "metadata": {},
     "output_type": "display_data"
    },
    {
     "name": "stdout",
     "output_type": "stream",
     "text": [
      "Eq. 6 rmse: 0.3077691540981952\n"
     ]
    },
    {
     "data": {
      "text/latex": [
       "$\\displaystyle x_{0} \\cdot \\left(0.2730606943346075 x_{3} + 3.652112231417507\\right) - 0.17276511407691078$"
      ],
      "text/plain": [
       "x0*(0.2730606943346075*x3 + 3.652112231417507) - 0.17276511407691078"
      ]
     },
     "metadata": {},
     "output_type": "display_data"
    },
    {
     "name": "stdout",
     "output_type": "stream",
     "text": [
      "Eq. 7 rmse: 0.30397567017765353\n"
     ]
    },
    {
     "data": {
      "text/latex": [
       "$\\displaystyle x_{0}^{2.131106347408786} - 0.44841735382861664 + \\frac{x_{3} + 6.452855093727277}{x_{0}}$"
      ],
      "text/plain": [
       "x0**2.131106347408786 - 0.44841735382861664 + (x3 + 6.452855093727277)/x0"
      ]
     },
     "metadata": {},
     "output_type": "display_data"
    },
    {
     "name": "stdout",
     "output_type": "stream",
     "text": [
      "Eq. 8 rmse: 0.2895842937902528\n"
     ]
    },
    {
     "data": {
      "text/latex": [
       "$\\displaystyle x_{0}^{2.104875676928354} - \\frac{x_{7}}{x_{2}} + \\frac{x_{3} + 5.7479797643918245}{x_{0}}$"
      ],
      "text/plain": [
       "x0**2.104875676928354 - x7/x2 + (x3 + 5.7479797643918245)/x0"
      ]
     },
     "metadata": {},
     "output_type": "display_data"
    },
    {
     "name": "stdout",
     "output_type": "stream",
     "text": [
      "Eq. 9 rmse: 0.27997174919418694\n"
     ]
    },
    {
     "data": {
      "text/latex": [
       "$\\displaystyle x_{0}^{2.0646607003001676} - \\frac{- 2.0096622923153062 x_{3} + x_{7}}{x_{2}} + \\frac{6.295847913400424}{x_{0}}$"
      ],
      "text/plain": [
       "x0**2.0646607003001676 - (-2.0096622923153062*x3 + x7)/x2 + 6.295847913400424/x0"
      ]
     },
     "metadata": {},
     "output_type": "display_data"
    },
    {
     "name": "stdout",
     "output_type": "stream",
     "text": [
      "Eq. 10 rmse: 0.2767579269886351\n"
     ]
    },
    {
     "data": {
      "text/latex": [
       "$\\displaystyle x_{0}^{2.0864417611349477} - \\frac{- x_{3} - x_{6} + x_{7} + 0.45786054816141364}{x_{2}} + \\frac{6.295847913400424}{x_{0}}$"
      ],
      "text/plain": [
       "x0**2.0864417611349477 - (-x3 - x6 + x7 + 0.45786054816141364)/x2 + 6.295847913400424/x0"
      ]
     },
     "metadata": {},
     "output_type": "display_data"
    },
    {
     "name": "stdout",
     "output_type": "stream",
     "text": [
      "Eq. 11 rmse: 0.2686940205658571\n"
     ]
    },
    {
     "data": {
      "text/latex": [
       "$\\displaystyle x_{0}^{2.0864417611349477} - \\frac{- x_{1} - x_{3} - 0.6790072028063348 x_{6}}{x_{2} - x_{7}} + \\frac{6.295847913400424}{x_{0}}$"
      ],
      "text/plain": [
       "x0**2.0864417611349477 - (-x1 - x3 - 0.6790072028063348*x6)/(x2 - x7) + 6.295847913400424/x0"
      ]
     },
     "metadata": {},
     "output_type": "display_data"
    }
   ],
   "source": [
    "test_relation(['log_sigma0','log_B/T','Log_Approx_Avg_density_10pc','log_R_e_sph_eq_kpc','log10(R90_kpc)',\n",
    "              'bvtc','Core', 'Pseudobulge'],\n",
    "             operator='adv',ncyclesperiteration=5000,niterations=100,adaptive_parsimony_scaling=1000)"
   ]
  },
  {
   "cell_type": "code",
   "execution_count": 60,
   "id": "12dff121",
   "metadata": {
    "scrolled": true
   },
   "outputs": [
    {
     "name": "stdout",
     "output_type": "stream",
     "text": [
      "104\n"
     ]
    },
    {
     "name": "stderr",
     "output_type": "stream",
     "text": [
      "/home/zj448/miniconda3/lib/python3.9/site-packages/pysr/sr.py:1257: UserWarning: Note: it looks like you are running in Jupyter. The progress bar will be turned off.\n",
      "  warnings.warn(\n"
     ]
    },
    {
     "name": "stdout",
     "output_type": "stream",
     "text": [
      "parameters:\n",
      "x 0 : log_sigma0\n",
      "x 1 : Log_Approx_Avg_density_10pc\n",
      "x 2 : log_R_e_sph_eq_kpc\n",
      "x 3 : bvtc\n",
      "x 4 : Core\n",
      "x 5 : Pseudobulge\n",
      "Eq. selected rmse: 0.313585935769092\n"
     ]
    },
    {
     "data": {
      "text/latex": [
       "$\\displaystyle 3.588257877515891 x_{0} + 0.63108207458278 x_{2}$"
      ],
      "text/plain": [
       "3.588257877515891*x0 + 0.63108207458278*x2"
      ]
     },
     "metadata": {},
     "output_type": "display_data"
    },
    {
     "name": "stdout",
     "output_type": "stream",
     "text": [
      "Eq. 0 rmse: 0.9098375184233656\n"
     ]
    },
    {
     "data": {
      "text/latex": [
       "$\\displaystyle 8.217969609513602$"
      ],
      "text/plain": [
       "8.217969609513602"
      ]
     },
     "metadata": {},
     "output_type": "display_data"
    },
    {
     "name": "stdout",
     "output_type": "stream",
     "text": [
      "Eq. 1 rmse: 0.444921567088351\n"
     ]
    },
    {
     "data": {
      "text/latex": [
       "$\\displaystyle 3.653067609210647 x_{0}$"
      ],
      "text/plain": [
       "3.653067609210647*x0"
      ]
     },
     "metadata": {},
     "output_type": "display_data"
    },
    {
     "name": "stdout",
     "output_type": "stream",
     "text": [
      "Eq. 2 rmse: 0.3611607982429905\n"
     ]
    },
    {
     "data": {
      "text/latex": [
       "$\\displaystyle 3.570232290919115 x_{0} + x_{2}$"
      ],
      "text/plain": [
       "3.570232290919115*x0 + x2"
      ]
     },
     "metadata": {},
     "output_type": "display_data"
    },
    {
     "name": "stdout",
     "output_type": "stream",
     "text": [
      "Eq. 3 rmse: 0.313585935769092\n"
     ]
    },
    {
     "data": {
      "text/latex": [
       "$\\displaystyle 3.588257877515891 x_{0} + 0.63108207458278 x_{2}$"
      ],
      "text/plain": [
       "3.588257877515891*x0 + 0.63108207458278*x2"
      ]
     },
     "metadata": {},
     "output_type": "display_data"
    },
    {
     "name": "stdout",
     "output_type": "stream",
     "text": [
      "Eq. 4 rmse: 0.3049245262157282\n"
     ]
    },
    {
     "data": {
      "text/latex": [
       "$\\displaystyle 3.588257877515891 x_{0} + \\frac{x_{0} x_{2}}{x_{1}}$"
      ],
      "text/plain": [
       "3.588257877515891*x0 + x0*x2/x1"
      ]
     },
     "metadata": {},
     "output_type": "display_data"
    },
    {
     "name": "stdout",
     "output_type": "stream",
     "text": [
      "Eq. 5 rmse: 0.2928850588850009\n"
     ]
    },
    {
     "data": {
      "text/latex": [
       "$\\displaystyle \\frac{x_{0} x_{2}}{x_{1} - x_{5}} + 3.588257877515891 x_{0}$"
      ],
      "text/plain": [
       "x0*x2/(x1 - x5) + 3.588257877515891*x0"
      ]
     },
     "metadata": {},
     "output_type": "display_data"
    },
    {
     "name": "stdout",
     "output_type": "stream",
     "text": [
      "Eq. 6 rmse: 0.29008226309165974\n"
     ]
    },
    {
     "data": {
      "text/latex": [
       "$\\displaystyle x_{0}^{2} + 3.1100363536870095 + \\frac{x_{2} - x_{5}}{x_{1} - x_{4}}$"
      ],
      "text/plain": [
       "x0**2 + 3.1100363536870095 + (x2 - x5)/(x1 - x4)"
      ]
     },
     "metadata": {},
     "output_type": "display_data"
    },
    {
     "name": "stdout",
     "output_type": "stream",
     "text": [
      "Eq. 7 rmse: 0.2850830672525354\n"
     ]
    },
    {
     "data": {
      "text/latex": [
       "$\\displaystyle x_{0}^{2} + 2.900335994927041 + \\frac{x_{2} - x_{5} - \\frac{- x_{4} - 1.4134224291947757}{x_{0}}}{x_{1}}$"
      ],
      "text/plain": [
       "x0**2 + 2.900335994927041 + (x2 - x5 - (-x4 - 1.4134224291947757)/x0)/x1"
      ]
     },
     "metadata": {},
     "output_type": "display_data"
    },
    {
     "name": "stdout",
     "output_type": "stream",
     "text": [
      "Eq. 8 rmse: 0.28440949125425374\n"
     ]
    },
    {
     "data": {
      "text/latex": [
       "$\\displaystyle \\frac{x_{0}^{2} x_{2}}{\\left(3.734546611153411 - x_{3}\\right) \\left(x_{1} - x_{4} - x_{5}\\right)} + 3.588257877515891 x_{0}$"
      ],
      "text/plain": [
       "x0**2*x2/((3.734546611153411 - x3)*(x1 - x4 - x5)) + 3.588257877515891*x0"
      ]
     },
     "metadata": {},
     "output_type": "display_data"
    },
    {
     "name": "stdout",
     "output_type": "stream",
     "text": [
      "Eq. 9 rmse: 0.2794777987603767\n"
     ]
    },
    {
     "data": {
      "text/latex": [
       "$\\displaystyle x_{0}^{2} + 2.866941582529287 + \\frac{0.8612511498202636 x_{2} \\left(x_{4} + x_{5}\\right) + 0.8612511498202636 x_{2} - x_{5} + 0.7348864587409617}{x_{1}}$"
      ],
      "text/plain": [
       "x0**2 + 2.866941582529287 + (0.8612511498202636*x2*(x4 + x5) + 0.8612511498202636*x2 - x5 + 0.7348864587409617)/x1"
      ]
     },
     "metadata": {},
     "output_type": "display_data"
    }
   ],
   "source": [
    "test_relation(['log_sigma0','Log_Approx_Avg_density_10pc','log_R_e_sph_eq_kpc',\n",
    "              'bvtc','Core', 'Pseudobulge'],\n",
    "             operator='basic')"
   ]
  },
  {
   "cell_type": "code",
   "execution_count": null,
   "id": "29590f31",
   "metadata": {},
   "outputs": [],
   "source": []
  },
  {
   "cell_type": "code",
   "execution_count": null,
   "id": "222435dd",
   "metadata": {},
   "outputs": [],
   "source": []
  }
 ],
 "metadata": {
  "kernelspec": {
   "display_name": "Python 3 (ipykernel)",
   "language": "python",
   "name": "python3"
  },
  "language_info": {
   "codemirror_mode": {
    "name": "ipython",
    "version": 3
   },
   "file_extension": ".py",
   "mimetype": "text/x-python",
   "name": "python",
   "nbconvert_exporter": "python",
   "pygments_lexer": "ipython3",
   "version": "3.9.5"
  }
 },
 "nbformat": 4,
 "nbformat_minor": 5
}
