{
 "cells": [
  {
   "cell_type": "code",
   "execution_count": 1,
   "id": "38ab6dbd",
   "metadata": {},
   "outputs": [],
   "source": [
    "import numpy as np\n",
    "import pandas as pd\n",
    "from pysr import PySRRegressor\n",
    "from IPython.display import HTML\n",
    "from matplotlib import pyplot as plt\n",
    "\n",
    "from hyperfit.linfit import LinFit"
   ]
  },
  {
   "cell_type": "code",
   "execution_count": 2,
   "id": "ade6652d",
   "metadata": {},
   "outputs": [],
   "source": [
    "df = pd.read_csv('SMBH_Data_0407.csv',header=1)"
   ]
  },
  {
   "cell_type": "code",
   "execution_count": 3,
   "id": "884a21c7",
   "metadata": {},
   "outputs": [],
   "source": [
    "## useful functions\n",
    "def x2name(feature_list,df_handson):\n",
    "    for ind in feature_list:\n",
    "        i=int(ind[1:])\n",
    "        print('x',i,':',df_handson.columns[i])\n",
    "\n",
    "def rmse(y,y_pred,w):\n",
    "    return np.sqrt(np.average((y-y_pred)**2,weights=w))\n",
    "\n",
    "def df2name(df):\n",
    "    for i in range(len(df.columns)):\n",
    "        print('x',i,':',df.columns[i])\n",
    "        \n",
    "def test_relation(paras,obs=pd.read_csv('SMBH_Data_0303.csv',header=1),\n",
    "                  operator='simp',ncyclesperiteration=550,niterations=40,denoise=False,adaptive_parsimony_scaling=20,\n",
    "                  verbosity=0,colname=False):\n",
    "    \n",
    "    if paras[-1]!='M_BH':\n",
    "        paras.append('M_BH')\n",
    "        \n",
    "    paras.append('M_BH_std')\n",
    "    \n",
    "    obs = obs[paras].dropna(axis='index',how='any')\n",
    "    print(len(obs))\n",
    "    \n",
    "    \n",
    "    y = obs['M_BH'].to_numpy()\n",
    "    w = 1/obs['M_BH_std'].to_numpy()**2\n",
    "\n",
    "    #df_handson = df\n",
    "    if colname:\n",
    "        X = obs.iloc[:,:-2]\n",
    "    else:\n",
    "        X = obs.iloc[:,:-2].to_numpy()\n",
    "        #X = df_handson\n",
    "\n",
    "    if operator=='adv':\n",
    "        model = PySRRegressor(\n",
    "            binary_operators=[\"+\", \"-\", \"*\", \"/\",\"pow\"],\n",
    "            unary_operators=[\"exp\",\"log10\"],\n",
    "            warm_start=False,\n",
    "            denoise=denoise,\n",
    "            niterations=niterations,\n",
    "            ncyclesperiteration=ncyclesperiteration,\n",
    "            adaptive_parsimony_scaling=adaptive_parsimony_scaling,\n",
    "            verbosity=verbosity,\n",
    "            precision=64,\n",
    "        )\n",
    "    if operator=='simp':\n",
    "        model = PySRRegressor(\n",
    "            binary_operators=[\"+\", \"-\", \"*\", \"/\", \"pow\"],\n",
    "            warm_start=False,\n",
    "            denoise=denoise,\n",
    "            niterations=niterations,\n",
    "            ncyclesperiteration=ncyclesperiteration,\n",
    "            adaptive_parsimony_scaling=adaptive_parsimony_scaling,\n",
    "            verbosity=verbosity,\n",
    "            precision=64,\n",
    "        )\n",
    "        \n",
    "    if operator=='basic':\n",
    "        model = PySRRegressor(\n",
    "            binary_operators=[\"+\", \"-\", \"*\", \"/\"],\n",
    "            warm_start=False,\n",
    "            denoise=denoise,\n",
    "            niterations=niterations,\n",
    "            ncyclesperiteration=ncyclesperiteration,\n",
    "            adaptive_parsimony_scaling=adaptive_parsimony_scaling,\n",
    "            verbosity=verbosity,\n",
    "            precision=64,\n",
    "        )\n",
    "\n",
    "\n",
    "\n",
    "    model.fit(X=X, y=y, weights=w)\n",
    "\n",
    "    print('parameters:')\n",
    "    df2name(obs.iloc[:,:-2])\n",
    "    \n",
    "    print('Eq. selected rmse:',rmse(y,model.predict(X),w))\n",
    "    display(model.sympy())\n",
    "    \n",
    "    for i in range(len(model.equations_)):\n",
    "        print('Eq.',i,'rmse:',rmse(y,model.predict(X,index=i),w))\n",
    "        display(model.sympy(index=i))"
   ]
  },
  {
   "cell_type": "code",
   "execution_count": 4,
   "id": "6fbf2438",
   "metadata": {
    "scrolled": true
   },
   "outputs": [
    {
     "name": "stdout",
     "output_type": "stream",
     "text": [
      "143\n"
     ]
    },
    {
     "name": "stderr",
     "output_type": "stream",
     "text": [
      "/home/zj448/miniconda3/lib/python3.9/site-packages/pysr/sr.py:1257: UserWarning: Note: it looks like you are running in Jupyter. The progress bar will be turned off.\n",
      "  warnings.warn(\n",
      "WARNING: method definition for OneHotArray at /home/zj448/miniconda3/share/pysr/depot/packages/MicroCollections/yJPLe/src/onehot.jl:79 declares type variable N but does not use it.\n"
     ]
    },
    {
     "name": "stdout",
     "output_type": "stream",
     "text": [
      "parameters:\n",
      "x 0 : log_sigma0\n",
      "Eq. selected rmse: 0.40721024333969297\n"
     ]
    },
    {
     "data": {
      "text/latex": [
       "$\\displaystyle 5.4007153049711105 x_{0} - 4.03741404249618$"
      ],
      "text/plain": [
       "5.4007153049711105*x0 - 4.03741404249618"
      ]
     },
     "metadata": {},
     "output_type": "display_data"
    },
    {
     "name": "stdout",
     "output_type": "stream",
     "text": [
      "Eq. 0 rmse: 0.9931469144722266\n"
     ]
    },
    {
     "data": {
      "text/latex": [
       "$\\displaystyle 8.065674313377025$"
      ],
      "text/plain": [
       "8.065674313377025"
      ]
     },
     "metadata": {},
     "output_type": "display_data"
    },
    {
     "name": "stdout",
     "output_type": "stream",
     "text": [
      "Eq. 1 rmse: 0.5065752656080431\n"
     ]
    },
    {
     "data": {
      "text/latex": [
       "$\\displaystyle 3.609150601058027 x_{0}$"
      ],
      "text/plain": [
       "3.609150601058027*x0"
      ]
     },
     "metadata": {},
     "output_type": "display_data"
    },
    {
     "name": "stdout",
     "output_type": "stream",
     "text": [
      "Eq. 2 rmse: 0.40721024333969297\n"
     ]
    },
    {
     "data": {
      "text/latex": [
       "$\\displaystyle 5.4007153049711105 x_{0} - 4.03741404249618$"
      ],
      "text/plain": [
       "5.4007153049711105*x0 - 4.03741404249618"
      ]
     },
     "metadata": {},
     "output_type": "display_data"
    },
    {
     "name": "stdout",
     "output_type": "stream",
     "text": [
      "Eq. 3 rmse: 0.39528073597078867\n"
     ]
    },
    {
     "data": {
      "text/latex": [
       "$\\displaystyle 1.2046328935347197 x_{0}^{2} + 1.9819373485610796$"
      ],
      "text/plain": [
       "1.2046328935347197*x0**2 + 1.9819373485610796"
      ]
     },
     "metadata": {},
     "output_type": "display_data"
    },
    {
     "name": "stdout",
     "output_type": "stream",
     "text": [
      "Eq. 4 rmse: 0.39288957930640594\n"
     ]
    },
    {
     "data": {
      "text/latex": [
       "$\\displaystyle 1.5488571426597093 x_{0}^{2} - 1.5488571426597093 x_{0} + 3.7145208280149213$"
      ],
      "text/plain": [
       "1.5488571426597093*x0**2 - 1.5488571426597093*x0 + 3.7145208280149213"
      ]
     },
     "metadata": {},
     "output_type": "display_data"
    },
    {
     "name": "stdout",
     "output_type": "stream",
     "text": [
      "Eq. 5 rmse: 0.3878431130504752\n"
     ]
    },
    {
     "data": {
      "text/latex": [
       "$\\displaystyle x_{0}^{2} \\cdot \\left(0.7302300396271838 x_{0} - 1.502750791102893\\right) + x_{0} + 5.06053172344499$"
      ],
      "text/plain": [
       "x0**2*(0.7302300396271838*x0 - 1.502750791102893) + x0 + 5.06053172344499"
      ]
     },
     "metadata": {},
     "output_type": "display_data"
    },
    {
     "name": "stdout",
     "output_type": "stream",
     "text": [
      "Eq. 6 rmse: 0.3878261237623796\n"
     ]
    },
    {
     "data": {
      "text/latex": [
       "$\\displaystyle x_{0}^{2} \\cdot \\left(0.7302300381836665 x_{0} - 1.5027507861598206\\right) + x_{0} + 5.056901554105558$"
      ],
      "text/plain": [
       "x0**2*(0.7302300381836665*x0 - 1.5027507861598206) + x0 + 5.056901554105558"
      ]
     },
     "metadata": {},
     "output_type": "display_data"
    },
    {
     "name": "stdout",
     "output_type": "stream",
     "text": [
      "Eq. 7 rmse: 0.38782023883025524\n"
     ]
    },
    {
     "data": {
      "text/latex": [
       "$\\displaystyle x_{0}^{2} \\cdot \\left(0.8813241024823197 x_{0} - 2.4600227724560717\\right) + 3 x_{0} + 3.6801774305000747$"
      ],
      "text/plain": [
       "x0**2*(0.8813241024823197*x0 - 2.4600227724560717) + 3*x0 + 3.6801774305000747"
      ]
     },
     "metadata": {},
     "output_type": "display_data"
    }
   ],
   "source": [
    "test_relation(['log_sigma0'],operator='basic')"
   ]
  },
  {
   "cell_type": "code",
   "execution_count": 9,
   "id": "34b5fcee",
   "metadata": {},
   "outputs": [],
   "source": [
    "def fit(paras,bounds,plot=True):\n",
    "    paras.append('M_BH')\n",
    "    stds=[]\n",
    "    for para in paras:\n",
    "        stds.append(para+'_std')\n",
    "    \n",
    "    df_=df[paras+stds].dropna(axis='index',how='any')\n",
    "    xs=np.array(df_[paras]).transpose()\n",
    "    errs=np.array(df_[stds]).transpose()\n",
    "    cov=np.zeros((len(paras),len(paras),len(df_)))\n",
    "    for i in range(len(paras)):\n",
    "        cov[i,i,:]=errs[i]**2\n",
    "\n",
    "    hf = LinFit(xs, cov)\n",
    "\n",
    "    mcmc_samples, mcmc_lnlike = hf.emcee(bounds, verbose=False)\n",
    "    print(np.mean(mcmc_samples, axis=1), np.std(mcmc_samples, axis=1))\n",
    "    \n",
    "    \n",
    "    if plot:\n",
    "        c=np.mean(mcmc_samples, axis=1)\n",
    "        y=xs[-1]\n",
    "        y_pred=0\n",
    "        for i in range(len(c)-2):\n",
    "            y_pred+=c[i]*xs[i]\n",
    "        y_pred+=c[-2]\n",
    "\n",
    "    plt.figure(figsize=(8,6))\n",
    "    plt.scatter(y,y_pred,label='predicted')\n",
    "    plt.plot(np.linspace(y_pred.min(),y_pred.max()),np.linspace(y_pred.min(),y_pred.max()),label='f(x)=x')\n",
    "    plt.xlabel(r'True $\\rm{log} M_{BH}$',fontsize=20)\n",
    "    plt.ylabel(r'Predicted $\\rm{log} M_{BH}$',fontsize=20)\n",
    "    plt.legend()\n",
    "    plt.show()\n",
    "    \n",
    "    w = 1/errs[-1]**2\n",
    "    print('rmse:',np.sqrt(np.average((y-y_pred)**2,weights=w)))\n",
    "    return np.mean(mcmc_samples, axis=1), np.std(mcmc_samples, axis=1)"
   ]
  },
  {
   "cell_type": "code",
   "execution_count": 7,
   "id": "636036ec",
   "metadata": {},
   "outputs": [
    {
     "name": "stderr",
     "output_type": "stream",
     "text": [
      "/home/zj448/miniconda3/lib/python3.9/site-packages/emcee/moves/red_blue.py:99: RuntimeWarning: invalid value encountered in scalar subtract\n",
      "  lnpdiff = f + nlp - state.log_prob[j]\n"
     ]
    },
    {
     "name": "stdout",
     "output_type": "stream",
     "text": [
      "[ 5.39254382 -4.0642592   0.52647037] [0.05985942 0.11927627 0.03842892]\n"
     ]
    },
    {
     "data": {
      "image/png": "[encoded data removed]",
      "text/plain": [
       "<Figure size 576x432 with 1 Axes>"
      ]
     },
     "metadata": {
      "needs_background": "light"
     },
     "output_type": "display_data"
    },
    {
     "name": "stdout",
     "output_type": "stream",
     "text": [
      "rmse: 0.4138335159250941\n"
     ]
    },
    {
     "data": {
      "text/plain": [
       "(array([ 5.39254382, -4.0642592 ,  0.52647037]),\n",
       " array([0.05985942, 0.11927627, 0.03842892]))"
      ]
     },
     "execution_count": 7,
     "metadata": {},
     "output_type": "execute_result"
    }
   ],
   "source": [
    "fit(paras=['log_sigma0'],bounds = ((5.3, 5.5),(-4.1, -3.9), (1.0e-5, 1.0)),plot=True)"
   ]
  },
  {
   "cell_type": "code",
   "execution_count": 8,
   "id": "50b031d9",
   "metadata": {},
   "outputs": [],
   "source": [
    "def m_sigma_relation(log_sigma0):    \n",
    "    a=5.39254382\n",
    "    b=-4.0642592\n",
    "    return a*(log_sigma0)+b"
   ]
  },
  {
   "cell_type": "code",
   "execution_count": 9,
   "id": "a443325a",
   "metadata": {},
   "outputs": [],
   "source": [
    "def rmse(y,y_pred):\n",
    "    return np.sqrt(np.average((y-y_pred)**2))\n",
    "\n",
    "def wrmse(y,y_pred,w):\n",
    "    return np.sqrt(np.average((y-y_pred)**2,weights=w))\n",
    "\n",
    "def plot_relation(paras,relation,obs=pd.read_csv('SMBH_Data_0303.csv',header=1)):\n",
    "    if paras[-1]!='M_BH':\n",
    "        paras.append('M_BH')\n",
    "        \n",
    "    paras.append('M_BH_std')\n",
    "    \n",
    "    obs = obs[paras].dropna(axis='index',how='any')\n",
    "    \n",
    "    print(len(obs))\n",
    "    \n",
    "    y=obs['M_BH'].to_numpy()\n",
    "    yerr=obs['M_BH_std'].to_numpy()\n",
    "    \n",
    "    x=[]\n",
    "    for i in range(len(paras)-2):\n",
    "        x.append(obs.iloc[:,i].to_numpy())\n",
    "    \n",
    "    y_pred=relation(*x)\n",
    "    \n",
    "    # f(x)=x line\n",
    "    minrange=np.array([y.min(),y_pred.min()]).min()\n",
    "    maxrange=np.array([y.max(),y_pred.max()]).max()\n",
    "    fs=20\n",
    "    plt.figure(figsize=(12,8))\n",
    "    plt.plot(np.linspace(minrange,maxrange),np.linspace(minrange,maxrange),label='f(x)=x',c='r',ls='--')\n",
    "    #plt.scatter(y,y_pred,label='Observations',alpha=0.8)\n",
    "    plt.errorbar(y,y_pred,xerr=yerr,label='Observations',alpha=0.8,fmt='o',capsize=3,ecolor='grey')\n",
    "    \n",
    "    plt.xlabel(r'True $\\rm{log} M_{BH}[M_\\odot]$',fontsize=fs)\n",
    "    plt.ylabel(r'Predicted $\\rm{log} M_{BH}[M_\\odot]$',fontsize=fs)\n",
    "    plt.legend(fontsize=fs)\n",
    "    plt.show()\n",
    "    \n",
    "    w = 1/yerr**2\n",
    "    print('obs rmse:',rmse(y,y_pred))\n",
    "    print('obs wrmse:',wrmse(y,y_pred,w))"
   ]
  },
  {
   "cell_type": "code",
   "execution_count": 10,
   "id": "935cf8f7",
   "metadata": {},
   "outputs": [
    {
     "name": "stdout",
     "output_type": "stream",
     "text": [
      "143\n"
     ]
    },
    {
     "data": {
      "image/png": "[encoded data removed]",
      "text/plain": [
       "<Figure size 864x576 with 1 Axes>"
      ]
     },
     "metadata": {
      "needs_background": "light"
     },
     "output_type": "display_data"
    },
    {
     "name": "stdout",
     "output_type": "stream",
     "text": [
      "obs rmse: 0.5840556830016451\n",
      "obs wrmse: 0.4097087600942304\n"
     ]
    }
   ],
   "source": [
    "plot_relation(['log_sigma0'],m_sigma_relation)"
   ]
  },
  {
   "cell_type": "code",
   "execution_count": null,
   "id": "2ca15558",
   "metadata": {},
   "outputs": [],
   "source": []
  }
 ],
 "metadata": {
  "kernelspec": {
   "display_name": "Python 3 (ipykernel)",
   "language": "python",
   "name": "python3"
  },
  "language_info": {
   "codemirror_mode": {
    "name": "ipython",
    "version": 3
   },
   "file_extension": ".py",
   "mimetype": "text/x-python",
   "name": "python",
   "nbconvert_exporter": "python",
   "pygments_lexer": "ipython3",
   "version": "3.9.5"
  }
 },
 "nbformat": 4,
 "nbformat_minor": 5
}
