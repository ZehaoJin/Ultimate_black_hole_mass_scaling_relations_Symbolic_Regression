{
 "cells": [
  {
   "cell_type": "code",
   "execution_count": 1,
   "id": "7c55edec",
   "metadata": {},
   "outputs": [],
   "source": [
    "import numpy as np\n",
    "import pandas as pd\n",
    "from pysr import PySRRegressor\n",
    "from IPython.display import HTML\n",
    "from matplotlib import pyplot as plt"
   ]
  },
  {
   "cell_type": "code",
   "execution_count": 2,
   "id": "279f8850",
   "metadata": {},
   "outputs": [],
   "source": [
    "df = pd.read_csv('SMBH_Data_0303.csv',header=1)"
   ]
  },
  {
   "cell_type": "code",
   "execution_count": 3,
   "id": "0aa701bd",
   "metadata": {},
   "outputs": [],
   "source": [
    "## useful functions\n",
    "def x2name(feature_list,df_handson):\n",
    "    for ind in feature_list:\n",
    "        i=int(ind[1:])\n",
    "        print('x',i,':',df_handson.columns[i])\n",
    "\n",
    "def rmse(y,y_pred,w):\n",
    "    return np.sqrt(np.average((y-y_pred)**2,weights=w))\n",
    "\n",
    "def df2name(df):\n",
    "    for i in range(len(df.columns)):\n",
    "        print('x',i,':',df.columns[i])\n",
    "        \n",
    "def test_relation(paras,obs=pd.read_csv('SMBH_Data_0303.csv',header=1),\n",
    "                  operator='simp',ncyclesperiteration=550,niterations=40,denoise=False,adaptive_parsimony_scaling=20,\n",
    "                  verbosity=0,colname=False):\n",
    "    \n",
    "    if paras[-1]!='M_BH':\n",
    "        paras.append('M_BH')\n",
    "        \n",
    "    paras.append('M_BH_std')\n",
    "    \n",
    "    obs = obs[paras].dropna(axis='index',how='any')\n",
    "    print(len(obs))\n",
    "    \n",
    "    \n",
    "    y = obs['M_BH'].to_numpy()\n",
    "    w = 1/obs['M_BH_std'].to_numpy()**2\n",
    "\n",
    "    #df_handson = df\n",
    "    if colname:\n",
    "        X = obs.iloc[:,:-2]\n",
    "    else:\n",
    "        X = obs.iloc[:,:-2].to_numpy()\n",
    "        #X = df_handson\n",
    "\n",
    "    if operator=='adv':\n",
    "        model = PySRRegressor(\n",
    "            binary_operators=[\"+\", \"-\", \"*\", \"/\",\"pow\"],\n",
    "            unary_operators=[\"exp\",\"log10\"],\n",
    "            warm_start=False,\n",
    "            denoise=denoise,\n",
    "            niterations=niterations,\n",
    "            ncyclesperiteration=ncyclesperiteration,\n",
    "            adaptive_parsimony_scaling=adaptive_parsimony_scaling,\n",
    "            verbosity=verbosity,\n",
    "            precision=64,\n",
    "        )\n",
    "    if operator=='simp':\n",
    "        model = PySRRegressor(\n",
    "            binary_operators=[\"+\", \"-\", \"*\", \"/\", \"pow\"],\n",
    "            warm_start=False,\n",
    "            denoise=denoise,\n",
    "            niterations=niterations,\n",
    "            ncyclesperiteration=ncyclesperiteration,\n",
    "            adaptive_parsimony_scaling=adaptive_parsimony_scaling,\n",
    "            verbosity=verbosity,\n",
    "            precision=64,\n",
    "        )\n",
    "        \n",
    "    if operator=='basic':\n",
    "        model = PySRRegressor(\n",
    "            binary_operators=[\"+\", \"-\", \"*\", \"/\"],\n",
    "            warm_start=False,\n",
    "            denoise=denoise,\n",
    "            niterations=niterations,\n",
    "            ncyclesperiteration=ncyclesperiteration,\n",
    "            adaptive_parsimony_scaling=adaptive_parsimony_scaling,\n",
    "            verbosity=verbosity,\n",
    "            precision=64,\n",
    "        )\n",
    "\n",
    "\n",
    "\n",
    "    model.fit(X=X, y=y, weights=w)\n",
    "\n",
    "    print('parameters:')\n",
    "    df2name(obs.iloc[:,:-2])\n",
    "    \n",
    "    print('Eq. selected rmse:',rmse(y,model.predict(X),w))\n",
    "    display(model.sympy())\n",
    "    \n",
    "    for i in range(len(model.equations_)):\n",
    "        print('Eq.',i,'rmse:',rmse(y,model.predict(X,index=i),w))\n",
    "        display(model.sympy(index=i))"
   ]
  },
  {
   "cell_type": "markdown",
   "id": "a6600812",
   "metadata": {},
   "source": [
    "## Most accrute ones"
   ]
  },
  {
   "cell_type": "code",
   "execution_count": null,
   "id": "9b929419",
   "metadata": {},
   "outputs": [],
   "source": [
    "# see sort_out_0307"
   ]
  },
  {
   "cell_type": "markdown",
   "id": "9ed45a0c",
   "metadata": {},
   "source": [
    "## \"Less\" accrute ones"
   ]
  },
  {
   "cell_type": "code",
   "execution_count": 4,
   "id": "4ef6e6a1",
   "metadata": {
    "scrolled": true
   },
   "outputs": [
    {
     "name": "stdout",
     "output_type": "stream",
     "text": [
      "105\n"
     ]
    },
    {
     "name": "stderr",
     "output_type": "stream",
     "text": [
      "/home/zj448/miniconda3/lib/python3.9/site-packages/pysr/sr.py:1257: UserWarning: Note: it looks like you are running in Jupyter. The progress bar will be turned off.\n",
      "  warnings.warn(\n",
      "WARNING: method definition for OneHotArray at /home/zj448/miniconda3/share/pysr/depot/packages/MicroCollections/yJPLe/src/onehot.jl:79 declares type variable N but does not use it.\n"
     ]
    },
    {
     "name": "stdout",
     "output_type": "stream",
     "text": [
      "parameters:\n",
      "x 0 : log_sigma0\n",
      "x 1 : M*_sph\n",
      "x 2 : log_B/T\n",
      "x 3 : log_R_e_sph_eq_kpc\n",
      "x 4 : bvtc\n",
      "Eq. selected rmse: 0.32871651447040034\n"
     ]
    },
    {
     "data": {
      "text/latex": [
       "$\\displaystyle 0.55489892357332518 x_{1} + \\frac{0.55489892357332518 \\log{\\left(e^{e^{x_{0}}} \\right)}}{\\log{\\left(10 \\right)}}$"
      ],
      "text/plain": [
       "0.55489892357332518*x1 + 0.55489892357332518*log(exp(exp(x0)))/log(10)"
      ]
     },
     "metadata": {},
     "output_type": "display_data"
    },
    {
     "name": "stdout",
     "output_type": "stream",
     "text": [
      "Eq. 0 rmse: 0.9105692749834978\n"
     ]
    },
    {
     "data": {
      "text/latex": [
       "$\\displaystyle 8.220426565879574$"
      ],
      "text/plain": [
       "8.220426565879574"
      ]
     },
     "metadata": {},
     "output_type": "display_data"
    },
    {
     "name": "stdout",
     "output_type": "stream",
     "text": [
      "Eq. 1 rmse: 0.3858334980071179\n"
     ]
    },
    {
     "data": {
      "text/latex": [
       "$\\displaystyle x_{1} - 2.3945268653520406$"
      ],
      "text/plain": [
       "x1 - 2.3945268653520406"
      ]
     },
     "metadata": {},
     "output_type": "display_data"
    },
    {
     "name": "stdout",
     "output_type": "stream",
     "text": [
      "Eq. 2 rmse: 0.36568414839662766\n"
     ]
    },
    {
     "data": {
      "text/latex": [
       "$\\displaystyle x_{1} + x_{4} - 3.1653178215579727$"
      ],
      "text/plain": [
       "x1 + x4 - 3.1653178215579727"
      ]
     },
     "metadata": {},
     "output_type": "display_data"
    },
    {
     "name": "stdout",
     "output_type": "stream",
     "text": [
      "Eq. 3 rmse: 0.35586932296061785\n"
     ]
    },
    {
     "data": {
      "text/latex": [
       "$\\displaystyle x_{0} + 0.58404844826419349 x_{1} + 0.58404844826419349 x_{2}$"
      ],
      "text/plain": [
       "x0 + 0.58404844826419349*x1 + 0.58404844826419349*x2"
      ]
     },
     "metadata": {},
     "output_type": "display_data"
    },
    {
     "name": "stdout",
     "output_type": "stream",
     "text": [
      "Eq. 4 rmse: 0.32871651447040034\n"
     ]
    },
    {
     "data": {
      "text/latex": [
       "$\\displaystyle 0.55489892357332518 x_{1} + \\frac{0.55489892357332518 \\log{\\left(e^{e^{x_{0}}} \\right)}}{\\log{\\left(10 \\right)}}$"
      ],
      "text/plain": [
       "0.55489892357332518*x1 + 0.55489892357332518*log(exp(exp(x0)))/log(10)"
      ]
     },
     "metadata": {},
     "output_type": "display_data"
    },
    {
     "name": "stdout",
     "output_type": "stream",
     "text": [
      "Eq. 5 rmse: 0.31331661254536797\n"
     ]
    },
    {
     "data": {
      "text/latex": [
       "$\\displaystyle 0.58404844826419349 x_{1} + \\frac{0.58404844826419349 \\log{\\left(x_{0}^{e^{x_{0}}} \\right)}}{\\log{\\left(10 \\right)}}$"
      ],
      "text/plain": [
       "0.58404844826419349*x1 + 0.58404844826419349*log(x0**exp(x0))/log(10)"
      ]
     },
     "metadata": {},
     "output_type": "display_data"
    },
    {
     "name": "stdout",
     "output_type": "stream",
     "text": [
      "Eq. 6 rmse: 0.30374463200603613\n"
     ]
    },
    {
     "data": {
      "text/latex": [
       "$\\displaystyle 0.55024643200075137 x_{1} + \\frac{0.55024643200075137 \\log{\\left(e^{x_{3} + e^{x_{0}}} \\right)}}{\\log{\\left(10 \\right)}}$"
      ],
      "text/plain": [
       "0.55024643200075137*x1 + 0.55024643200075137*log(exp(x3 + exp(x0)))/log(10)"
      ]
     },
     "metadata": {},
     "output_type": "display_data"
    },
    {
     "name": "stdout",
     "output_type": "stream",
     "text": [
      "Eq. 7 rmse: 0.3031812878864396\n"
     ]
    },
    {
     "data": {
      "text/latex": [
       "$\\displaystyle 0.55345289630118317 x_{1} + \\frac{0.55345289630118317 \\log{\\left(e^{x_{3} + e^{x_{0}}} \\right)}}{\\log{\\left(10 \\right)}} - 0.031307626947538171$"
      ],
      "text/plain": [
       "0.55345289630118317*x1 + 0.55345289630118317*log(exp(x3 + exp(x0)))/log(10) - 0.031307626947538171"
      ]
     },
     "metadata": {},
     "output_type": "display_data"
    },
    {
     "name": "stdout",
     "output_type": "stream",
     "text": [
      "Eq. 8 rmse: 0.3013904871198903\n"
     ]
    },
    {
     "data": {
      "text/latex": [
       "$\\displaystyle 0.55345289630118317 x_{1} + \\frac{0.55345289630118317 \\log{\\left(e^{\\frac{x_{3}}{x_{4}} + e^{x_{0}}} \\right)}}{\\log{\\left(10 \\right)}} - 0.033015167940532876$"
      ],
      "text/plain": [
       "0.55345289630118317*x1 + 0.55345289630118317*log(exp(x3/x4 + exp(x0)))/log(10) - 0.033015167940532876"
      ]
     },
     "metadata": {},
     "output_type": "display_data"
    },
    {
     "name": "stdout",
     "output_type": "stream",
     "text": [
      "Eq. 9 rmse: 0.29926247287924906\n"
     ]
    },
    {
     "data": {
      "text/latex": [
       "$\\displaystyle 0.57699883717506077 x_{1} + \\frac{0.57699883717506077 \\log{\\left(5.0864244741679054 e^{x_{0}^{x_{0}}} - \\frac{4.1514156891752485}{x_{3}} \\right)}}{\\log{\\left(10 \\right)}}$"
      ],
      "text/plain": [
       "0.57699883717506077*x1 + 0.57699883717506077*log(5.0864244741679054*exp(x0**x0) - 4.1514156891752485/x3)/log(10)"
      ]
     },
     "metadata": {},
     "output_type": "display_data"
    },
    {
     "name": "stdout",
     "output_type": "stream",
     "text": [
      "Eq. 10 rmse: 0.29162054446120855\n"
     ]
    },
    {
     "data": {
      "text/latex": [
       "$\\displaystyle 0.551080600405793 x_{1} + \\frac{0.551080600405793 \\log{\\left(x_{1} e^{x_{0}^{x_{0}} + \\left(0.006092732733844836^{x_{3}}\\right)^{x_{2}}} \\right)}}{\\log{\\left(10 \\right)}}$"
      ],
      "text/plain": [
       "0.551080600405793*x1 + 0.551080600405793*log(x1*exp(x0**x0 + (0.006092732733844836**x3)**x2))/log(10)"
      ]
     },
     "metadata": {},
     "output_type": "display_data"
    },
    {
     "name": "stdout",
     "output_type": "stream",
     "text": [
      "Eq. 11 rmse: 0.2863901766014277\n"
     ]
    },
    {
     "data": {
      "text/latex": [
       "$\\displaystyle 0.55088180447536773 x_{1} + \\frac{0.55088180447536773 \\log{\\left(x_{1} e^{x_{0}^{x_{0}} + x_{1}^{0.011979733429050246^{x_{3}} x_{3}}} \\right)}}{\\log{\\left(10 \\right)}}$"
      ],
      "text/plain": [
       "0.55088180447536773*x1 + 0.55088180447536773*log(x1*exp(x0**x0 + x1**(0.011979733429050246**x3*x3)))/log(10)"
      ]
     },
     "metadata": {},
     "output_type": "display_data"
    },
    {
     "name": "stdout",
     "output_type": "stream",
     "text": [
      "Eq. 12 rmse: 0.2858246628715201\n"
     ]
    },
    {
     "data": {
      "text/latex": [
       "$\\displaystyle 0.5541421877282749 x_{1} + \\frac{0.5541421877282749 \\log{\\left(8.8633581323055635 e^{x_{0}^{x_{0}} + x_{1}^{x_{3} \\left(e^{x_{3}}\\right)^{- x_{1}}}} \\right)}}{\\log{\\left(10 \\right)}}$"
      ],
      "text/plain": [
       "0.5541421877282749*x1 + 0.5541421877282749*log(8.8633581323055635*exp(x0**x0 + x1**(x3/exp(x3)**x1)))/log(10)"
      ]
     },
     "metadata": {},
     "output_type": "display_data"
    },
    {
     "name": "stdout",
     "output_type": "stream",
     "text": [
      "Eq. 13 rmse: 0.28438139005721474\n"
     ]
    },
    {
     "data": {
      "text/latex": [
       "$\\displaystyle 0.55088180447536773 x_{1} + \\frac{0.55088180447536773 \\log{\\left(12.49155969599869 e^{x_{0}^{x_{0}} + x_{1}^{x_{3} \\left(x_{1}^{x_{1}}\\right)^{- x_{3}}}} \\right)}}{\\log{\\left(10 \\right)}}$"
      ],
      "text/plain": [
       "0.55088180447536773*x1 + 0.55088180447536773*log(12.49155969599869*exp(x0**x0 + x1**(x3/(x1**x1)**x3)))/log(10)"
      ]
     },
     "metadata": {},
     "output_type": "display_data"
    }
   ],
   "source": [
    "test_relation(['log_sigma0','M*_sph','log_B/T','log_R_e_sph_eq_kpc','bvtc'],\n",
    "             operator='adv',ncyclesperiteration=5000,niterations=100)\n",
    "#eq3"
   ]
  },
  {
   "cell_type": "code",
   "execution_count": 5,
   "id": "d4eebd4a",
   "metadata": {
    "scrolled": true
   },
   "outputs": [
    {
     "name": "stdout",
     "output_type": "stream",
     "text": [
      "104\n"
     ]
    },
    {
     "name": "stderr",
     "output_type": "stream",
     "text": [
      "/home/zj448/miniconda3/lib/python3.9/site-packages/pysr/sr.py:1257: UserWarning: Note: it looks like you are running in Jupyter. The progress bar will be turned off.\n",
      "  warnings.warn(\n"
     ]
    },
    {
     "name": "stdout",
     "output_type": "stream",
     "text": [
      "parameters:\n",
      "x 0 : M*_sph\n",
      "x 1 : log_B/T\n",
      "x 2 : log_R_e_sph_eq_kpc\n",
      "x 3 : logRho_soi_approx_new\n",
      "x 4 : bvtc\n",
      "x 5 : Core\n",
      "x 6 : Pseudobulge\n",
      "Eq. selected rmse: 0.2611142871335437\n"
     ]
    },
    {
     "data": {
      "text/latex": [
       "$\\displaystyle 0.9074312354176397 x_{0} - 0.406124683495805 x_{3} - 0.406124683495805 x_{6} - 0.2718555890272426$"
      ],
      "text/plain": [
       "0.9074312354176397*x0 - 0.406124683495805*x3 - 0.406124683495805*x6 - 0.2718555890272426"
      ]
     },
     "metadata": {},
     "output_type": "display_data"
    },
    {
     "name": "stdout",
     "output_type": "stream",
     "text": [
      "Eq. 0 rmse: 0.9098375184233655\n"
     ]
    },
    {
     "data": {
      "text/latex": [
       "$\\displaystyle 8.217969609513453$"
      ],
      "text/plain": [
       "8.217969609513453"
      ]
     },
     "metadata": {},
     "output_type": "display_data"
    },
    {
     "name": "stdout",
     "output_type": "stream",
     "text": [
      "Eq. 1 rmse: 0.3854996759398793\n"
     ]
    },
    {
     "data": {
      "text/latex": [
       "$\\displaystyle x_{0} - 2.393468245567905$"
      ],
      "text/plain": [
       "x0 - 2.393468245567905"
      ]
     },
     "metadata": {},
     "output_type": "display_data"
    },
    {
     "name": "stdout",
     "output_type": "stream",
     "text": [
      "Eq. 2 rmse: 0.36426252685346033\n"
     ]
    },
    {
     "data": {
      "text/latex": [
       "$\\displaystyle x_{0} + x_{4} - 3.163696705450863$"
      ],
      "text/plain": [
       "x0 + x4 - 3.163696705450863"
      ]
     },
     "metadata": {},
     "output_type": "display_data"
    },
    {
     "name": "stdout",
     "output_type": "stream",
     "text": [
      "Eq. 3 rmse: 0.34066897755608855\n"
     ]
    },
    {
     "data": {
      "text/latex": [
       "$\\displaystyle x_{0} - 0.515667064486427 x_{6} - 2.319817998292886$"
      ],
      "text/plain": [
       "x0 - 0.515667064486427*x6 - 2.319817998292886"
      ]
     },
     "metadata": {},
     "output_type": "display_data"
    },
    {
     "name": "stdout",
     "output_type": "stream",
     "text": [
      "Eq. 4 rmse: 0.30005397517912874\n"
     ]
    },
    {
     "data": {
      "text/latex": [
       "$\\displaystyle x_{0} - 0.34627217549042766 x_{3} - 1.473314993206579$"
      ],
      "text/plain": [
       "x0 - 0.34627217549042766*x3 - 1.473314993206579"
      ]
     },
     "metadata": {},
     "output_type": "display_data"
    },
    {
     "name": "stdout",
     "output_type": "stream",
     "text": [
      "Eq. 5 rmse: 0.2611142871335437\n"
     ]
    },
    {
     "data": {
      "text/latex": [
       "$\\displaystyle 0.9074312354176397 x_{0} - 0.406124683495805 x_{3} - 0.406124683495805 x_{6} - 0.2718555890272426$"
      ],
      "text/plain": [
       "0.9074312354176397*x0 - 0.406124683495805*x3 - 0.406124683495805*x6 - 0.2718555890272426"
      ]
     },
     "metadata": {},
     "output_type": "display_data"
    },
    {
     "name": "stdout",
     "output_type": "stream",
     "text": [
      "Eq. 6 rmse: 0.2556588526085377\n"
     ]
    },
    {
     "data": {
      "text/latex": [
       "$\\displaystyle x_{0} - 0.34856297742897385 x_{3} + 0.34856297742897385 x_{4} - 0.34856297742897385 x_{6} - 1.7049680941554169$"
      ],
      "text/plain": [
       "x0 - 0.34856297742897385*x3 + 0.34856297742897385*x4 - 0.34856297742897385*x6 - 1.7049680941554169"
      ]
     },
     "metadata": {},
     "output_type": "display_data"
    },
    {
     "name": "stdout",
     "output_type": "stream",
     "text": [
      "Eq. 7 rmse: 0.2549999149634837\n"
     ]
    },
    {
     "data": {
      "text/latex": [
       "$\\displaystyle x_{0} - 0.34856297742897385 x_{3} + 0.34856297742897385 x_{4} - 0.34856297742897385 x_{6} - 1.6910596846943631$"
      ],
      "text/plain": [
       "x0 - 0.34856297742897385*x3 + 0.34856297742897385*x4 - 0.34856297742897385*x6 - 1.6910596846943631"
      ]
     },
     "metadata": {},
     "output_type": "display_data"
    },
    {
     "name": "stdout",
     "output_type": "stream",
     "text": [
      "Eq. 8 rmse: 0.24545742404106072\n"
     ]
    },
    {
     "data": {
      "text/latex": [
       "$\\displaystyle x_{0} + x_{1} - 0.63696455134933002 x_{2} - 0.43741217939406934 x_{3} - 0.43741217939406934 x_{6} - 0.6200087903378557$"
      ],
      "text/plain": [
       "x0 + x1 - 0.63696455134933002*x2 - 0.43741217939406934*x3 - 0.43741217939406934*x6 - 0.6200087903378557"
      ]
     },
     "metadata": {},
     "output_type": "display_data"
    },
    {
     "name": "stdout",
     "output_type": "stream",
     "text": [
      "Eq. 9 rmse: 0.23113724086144563\n"
     ]
    },
    {
     "data": {
      "text/latex": [
       "$\\displaystyle x_{0} + 0.4267569324311617 x_{1} - 0.4267569324311617 x_{2} - 0.4267569324311617 x_{3} - 0.47617934095966513 x_{6} - 0.9266572921776213$"
      ],
      "text/plain": [
       "x0 + 0.4267569324311617*x1 - 0.4267569324311617*x2 - 0.4267569324311617*x3 - 0.47617934095966513*x6 - 0.9266572921776213"
      ]
     },
     "metadata": {},
     "output_type": "display_data"
    },
    {
     "name": "stdout",
     "output_type": "stream",
     "text": [
      "Eq. 10 rmse: 0.2306644204138971\n"
     ]
    },
    {
     "data": {
      "text/latex": [
       "$\\displaystyle x_{0} + 0.5384686066504571 x_{1} - 0.5384686066504571 x_{2} - 0.4615313933495429 x_{3} - 0.5252550185660623 x_{6} - 0.7502808281633665$"
      ],
      "text/plain": [
       "x0 + 0.5384686066504571*x1 - 0.5384686066504571*x2 - 0.4615313933495429*x3 - 0.5252550185660623*x6 - 0.7502808281633665"
      ]
     },
     "metadata": {},
     "output_type": "display_data"
    }
   ],
   "source": [
    "test_relation(['M*_sph','log_B/T','log_R_e_sph_eq_kpc','logRho_soi_approx_new','bvtc','Core', 'Pseudobulge'],\n",
    "             operator='basic')\n",
    "# eq best"
   ]
  },
  {
   "cell_type": "markdown",
   "id": "94477250",
   "metadata": {},
   "source": [
    "## Easy-to-use ones"
   ]
  },
  {
   "cell_type": "code",
   "execution_count": 8,
   "id": "ff37047f",
   "metadata": {
    "scrolled": true
   },
   "outputs": [
    {
     "name": "stdout",
     "output_type": "stream",
     "text": [
      "122\n"
     ]
    },
    {
     "name": "stderr",
     "output_type": "stream",
     "text": [
      "/home/zj448/miniconda3/lib/python3.9/site-packages/pysr/sr.py:1257: UserWarning: Note: it looks like you are running in Jupyter. The progress bar will be turned off.\n",
      "  warnings.warn(\n"
     ]
    },
    {
     "name": "stdout",
     "output_type": "stream",
     "text": [
      "parameters:\n",
      "x 0 : dc\n",
      "x 1 : bvtc\n",
      "x 2 : mabs\n",
      "x 3 : logblum\n",
      "Eq. selected rmse: 0.44358961729746454\n"
     ]
    },
    {
     "data": {
      "text/latex": [
       "$\\displaystyle 4.444375083380111^{x_{1}} + x_{3} - 5.52239593792091$"
      ],
      "text/plain": [
       "4.444375083380111**x1 + x3 - 5.52239593792091"
      ]
     },
     "metadata": {},
     "output_type": "display_data"
    },
    {
     "name": "stdout",
     "output_type": "stream",
     "text": [
      "Eq. 0 rmse: 0.912924716006209\n"
     ]
    },
    {
     "data": {
      "text/latex": [
       "$\\displaystyle 8.22670121626784$"
      ],
      "text/plain": [
       "8.22670121626784"
      ]
     },
     "metadata": {},
     "output_type": "display_data"
    },
    {
     "name": "stdout",
     "output_type": "stream",
     "text": [
      "Eq. 1 rmse: 0.7993280421401915\n"
     ]
    },
    {
     "data": {
      "text/latex": [
       "$\\displaystyle x_{3} - 2.284264801205887$"
      ],
      "text/plain": [
       "x3 - 2.284264801205887"
      ]
     },
     "metadata": {},
     "output_type": "display_data"
    },
    {
     "name": "stdout",
     "output_type": "stream",
     "text": [
      "Eq. 2 rmse: 0.518232036988227\n"
     ]
    },
    {
     "data": {
      "text/latex": [
       "$\\displaystyle x_{3} - \\frac{1.727784796655826}{x_{1}}$"
      ],
      "text/plain": [
       "x3 - 1.727784796655826/x1"
      ]
     },
     "metadata": {},
     "output_type": "display_data"
    },
    {
     "name": "stdout",
     "output_type": "stream",
     "text": [
      "Eq. 3 rmse: 0.44358961729746454\n"
     ]
    },
    {
     "data": {
      "text/latex": [
       "$\\displaystyle 4.444375083380111^{x_{1}} + x_{3} - 5.52239593792091$"
      ],
      "text/plain": [
       "4.444375083380111**x1 + x3 - 5.52239593792091"
      ]
     },
     "metadata": {},
     "output_type": "display_data"
    },
    {
     "name": "stdout",
     "output_type": "stream",
     "text": [
      "Eq. 4 rmse: 0.42639915173791354\n"
     ]
    },
    {
     "data": {
      "text/latex": [
       "$\\displaystyle x_{3} + \\left(\\frac{\\log{\\left(e^{x_{3}} \\right)}}{\\log{\\left(10 \\right)}}\\right)^{x_{1}} - 5.593615324214257$"
      ],
      "text/plain": [
       "x3 + (log(exp(x3))/log(10))**x1 - 5.593615324214257"
      ]
     },
     "metadata": {},
     "output_type": "display_data"
    },
    {
     "name": "stdout",
     "output_type": "stream",
     "text": [
      "Eq. 5 rmse: 0.4248874247860971\n"
     ]
    },
    {
     "data": {
      "text/latex": [
       "$\\displaystyle x_{3} + \\left(\\frac{\\log{\\left(e^{x_{3}} \\right)}}{\\log{\\left(10 \\right)}} - 0.14240299582995702\\right)^{x_{1}} - 5.511356583354152$"
      ],
      "text/plain": [
       "x3 + (log(exp(x3))/log(10) - 0.14240299582995702)**x1 - 5.511356583354152"
      ]
     },
     "metadata": {},
     "output_type": "display_data"
    },
    {
     "name": "stdout",
     "output_type": "stream",
     "text": [
      "Eq. 6 rmse: 0.4248862636575602\n"
     ]
    },
    {
     "data": {
      "text/latex": [
       "$\\displaystyle x_{3} + \\left(\\frac{\\log{\\left(e^{x_{3}} \\right)}}{\\log{\\left(10 \\right)}} - \\frac{0.3331969405730034}{\\log{\\left(10 \\right)}}\\right)^{x_{1}} - 5.511356583354152$"
      ],
      "text/plain": [
       "x3 + (log(exp(x3))/log(10) - 0.3331969405730034/log(10))**x1 - 5.511356583354152"
      ]
     },
     "metadata": {},
     "output_type": "display_data"
    },
    {
     "name": "stdout",
     "output_type": "stream",
     "text": [
      "Eq. 7 rmse: 0.4039452784511612\n"
     ]
    },
    {
     "data": {
      "text/latex": [
       "$\\displaystyle x_{3} - e^{e^{- 0.5574253448819643 \\left(1.8709933997452817 - x_{1}\\right)^{- x_{0}}}} - 0.2930005086395289$"
      ],
      "text/plain": [
       "x3 - exp(exp(-0.5574253448819643/(1.8709933997452817 - x1)**x0)) - 0.2930005086395289"
      ]
     },
     "metadata": {},
     "output_type": "display_data"
    },
    {
     "name": "stdout",
     "output_type": "stream",
     "text": [
      "Eq. 8 rmse: 0.4026368389920983\n"
     ]
    },
    {
     "data": {
      "text/latex": [
       "$\\displaystyle x_{3} - e^{e^{- 0.542575718973937 \\left(1.7093294861556512 \\left(1 - 0.53504368033838037 x_{1}\\right)^{0.857203828249537}\\right)^{- x_{0}}}} - 0.29310733964574814$"
      ],
      "text/plain": [
       "x3 - exp(exp(-0.542575718973937/(1.7093294861556512*(1 - 0.53504368033838037*x1)**0.857203828249537)**x0)) - 0.29310733964574814"
      ]
     },
     "metadata": {},
     "output_type": "display_data"
    },
    {
     "name": "stdout",
     "output_type": "stream",
     "text": [
      "Eq. 9 rmse: 0.4000510862288909\n"
     ]
    },
    {
     "data": {
      "text/latex": [
       "$\\displaystyle x_{3} - e^{e^{- 0.5531465970850076 \\left(1.8690062825666214 - x_{1}\\right)^{- \\frac{x_{0}}{x_{1}} + 6.481852068494041}}} - 0.29310733964574814$"
      ],
      "text/plain": [
       "x3 - exp(exp(-0.5531465970850076*(1.8690062825666214 - x1)**(-x0/x1 + 6.481852068494041))) - 0.29310733964574814"
      ]
     },
     "metadata": {},
     "output_type": "display_data"
    },
    {
     "name": "stdout",
     "output_type": "stream",
     "text": [
      "Eq. 10 rmse: 0.40003100612215503\n"
     ]
    },
    {
     "data": {
      "text/latex": [
       "$\\displaystyle x_{3} - e^{e^{- 0.5531465970850076 \\left(1.8690062825666214 - x_{1}\\right)^{- \\frac{x_{0}}{x_{1}} + 6.5834560153809428}}} - 0.29310733964574814$"
      ],
      "text/plain": [
       "x3 - exp(exp(-0.5531465970850076*(1.8690062825666214 - x1)**(-x0/x1 + 6.5834560153809428))) - 0.29310733964574814"
      ]
     },
     "metadata": {},
     "output_type": "display_data"
    },
    {
     "name": "stdout",
     "output_type": "stream",
     "text": [
      "Eq. 11 rmse: 0.39962584964311676\n"
     ]
    },
    {
     "data": {
      "text/latex": [
       "$\\displaystyle x_{3} - e^{e^{- 0.6779123717861677 \\left(1.874785663081305 - x_{1}\\right)^{- x_{0}} e^{\\frac{1.1041988910332583}{3.1182609168728592 - x_{0}}}}} - 0.29361888883523996$"
      ],
      "text/plain": [
       "x3 - exp(exp(-0.6779123717861677*exp(1.1041988910332583/(3.1182609168728592 - x0))/(1.874785663081305 - x1)**x0)) - 0.29361888883523996"
      ]
     },
     "metadata": {},
     "output_type": "display_data"
    },
    {
     "name": "stdout",
     "output_type": "stream",
     "text": [
      "Eq. 12 rmse: 0.3990257492525825\n"
     ]
    },
    {
     "data": {
      "text/latex": [
       "$\\displaystyle x_{3} - e^{e^{- 0.6189371597786961 \\left(1.874785663081305 - x_{1}\\right)^{- x_{0}} e^{\\frac{x_{2}}{x_{2} + e^{x_{0}}}}}} - 0.29361888883523996$"
      ],
      "text/plain": [
       "x3 - exp(exp(-0.6189371597786961*exp(x2/(x2 + exp(x0)))/(1.874785663081305 - x1)**x0)) - 0.29361888883523996"
      ]
     },
     "metadata": {},
     "output_type": "display_data"
    }
   ],
   "source": [
    "test_relation(['dc', 'bvtc','mabs', 'logblum'],\n",
    "             operator='adv',niterations=400)"
   ]
  },
  {
   "cell_type": "code",
   "execution_count": 14,
   "id": "c7764e92",
   "metadata": {
    "scrolled": true
   },
   "outputs": [
    {
     "name": "stdout",
     "output_type": "stream",
     "text": [
      "121\n"
     ]
    },
    {
     "name": "stderr",
     "output_type": "stream",
     "text": [
      "/home/zj448/miniconda3/lib/python3.9/site-packages/pysr/sr.py:1257: UserWarning: Note: it looks like you are running in Jupyter. The progress bar will be turned off.\n",
      "  warnings.warn(\n"
     ]
    },
    {
     "name": "stdout",
     "output_type": "stream",
     "text": [
      "parameters:\n",
      "x 0 : log_sigma0\n",
      "x 1 : Core\n",
      "x 2 : Pseudobulge\n",
      "x 3 : bvtc\n",
      "Eq. selected rmse: 0.31020946136561034\n"
     ]
    },
    {
     "data": {
      "text/latex": [
       "$\\displaystyle x_{0} \\left(x_{0} + 0.14239837971508965 x_{1} - 0.14239837971508965 x_{2}\\right) + 3.0798150292479187$"
      ],
      "text/plain": [
       "x0*(x0 + 0.14239837971508965*x1 - 0.14239837971508965*x2) + 3.0798150292479187"
      ]
     },
     "metadata": {},
     "output_type": "display_data"
    },
    {
     "name": "stdout",
     "output_type": "stream",
     "text": [
      "Eq. 0 rmse: 0.9129626481502322\n"
     ]
    },
    {
     "data": {
      "text/latex": [
       "$\\displaystyle 8.226772055709768$"
      ],
      "text/plain": [
       "8.226772055709768"
      ]
     },
     "metadata": {},
     "output_type": "display_data"
    },
    {
     "name": "stdout",
     "output_type": "stream",
     "text": [
      "Eq. 1 rmse: 0.6286853583327178\n"
     ]
    },
    {
     "data": {
      "text/latex": [
       "$\\displaystyle x_{1} + 7.985158001223733$"
      ],
      "text/plain": [
       "x1 + 7.985158001223733"
      ]
     },
     "metadata": {},
     "output_type": "display_data"
    },
    {
     "name": "stdout",
     "output_type": "stream",
     "text": [
      "Eq. 2 rmse: 0.3742095783960381\n"
     ]
    },
    {
     "data": {
      "text/latex": [
       "$\\displaystyle x_{0}^{2} + 3.1109404568797987$"
      ],
      "text/plain": [
       "x0**2 + 3.1109404568797987"
      ]
     },
     "metadata": {},
     "output_type": "display_data"
    },
    {
     "name": "stdout",
     "output_type": "stream",
     "text": [
      "Eq. 3 rmse: 0.3610314882725836\n"
     ]
    },
    {
     "data": {
      "text/latex": [
       "$\\displaystyle x_{0} \\left(x_{0} + 0.6047254757965975\\right) + 1.7467065232215464$"
      ],
      "text/plain": [
       "x0*(x0 + 0.6047254757965975) + 1.7467065232215464"
      ]
     },
     "metadata": {},
     "output_type": "display_data"
    },
    {
     "name": "stdout",
     "output_type": "stream",
     "text": [
      "Eq. 4 rmse: 0.3356324327218767\n"
     ]
    },
    {
     "data": {
      "text/latex": [
       "$\\displaystyle x_{0}^{2} - 0.48948415243225474 x_{2} + 3.1773933556254814$"
      ],
      "text/plain": [
       "x0**2 - 0.48948415243225474*x2 + 3.1773933556254814"
      ]
     },
     "metadata": {},
     "output_type": "display_data"
    },
    {
     "name": "stdout",
     "output_type": "stream",
     "text": [
      "Eq. 5 rmse: 0.31020946136561034\n"
     ]
    },
    {
     "data": {
      "text/latex": [
       "$\\displaystyle x_{0} \\left(x_{0} + 0.14239837971508965 x_{1} - 0.14239837971508965 x_{2}\\right) + 3.0798150292479187$"
      ],
      "text/plain": [
       "x0*(x0 + 0.14239837971508965*x1 - 0.14239837971508965*x2) + 3.0798150292479187"
      ]
     },
     "metadata": {},
     "output_type": "display_data"
    },
    {
     "name": "stdout",
     "output_type": "stream",
     "text": [
      "Eq. 6 rmse: 0.3088306751370226\n"
     ]
    },
    {
     "data": {
      "text/latex": [
       "$\\displaystyle x_{0} \\left(x_{0} + 0.12778628311865214 x_{1} - 0.16431842139928543 x_{2}\\right) + 3.0868974737584103$"
      ],
      "text/plain": [
       "x0*(x0 + 0.12778628311865214*x1 - 0.16431842139928543*x2) + 3.0868974737584103"
      ]
     },
     "metadata": {},
     "output_type": "display_data"
    },
    {
     "name": "stdout",
     "output_type": "stream",
     "text": [
      "Eq. 7 rmse: 0.30610574156462544\n"
     ]
    },
    {
     "data": {
      "text/latex": [
       "$\\displaystyle x_{0} \\left(- 0.12223347409506251 x_{0} x_{2} x_{3} + x_{0} + 0.12223347409506251 x_{1}\\right) + 3.0868974737584103$"
      ],
      "text/plain": [
       "x0*(-0.12223347409506251*x0*x2*x3 + x0 + 0.12223347409506251*x1) + 3.0868974737584103"
      ]
     },
     "metadata": {},
     "output_type": "display_data"
    },
    {
     "name": "stdout",
     "output_type": "stream",
     "text": [
      "Eq. 8 rmse: 0.30568643096480624\n"
     ]
    },
    {
     "data": {
      "text/latex": [
       "$\\displaystyle x_{0} \\left(x_{0} - 0.13627177251110387 x_{3} \\left(x_{0} x_{2} x_{3} - x_{1}\\right)\\right) + 3.092812493403979$"
      ],
      "text/plain": [
       "x0*(x0 - 0.13627177251110387*x3*(x0*x2*x3 - x1)) + 3.092812493403979"
      ]
     },
     "metadata": {},
     "output_type": "display_data"
    },
    {
     "name": "stdout",
     "output_type": "stream",
     "text": [
      "Eq. 9 rmse: 0.30348014350292674\n"
     ]
    },
    {
     "data": {
      "text/latex": [
       "$\\displaystyle x_{0} \\left(x_{0} + 0.12669443982625184 x_{1} + \\frac{0.067721770436928633 x_{2}}{2 x_{3} - 1.9730794452599858}\\right) + 3.0868974737584103$"
      ],
      "text/plain": [
       "x0*(x0 + 0.12669443982625184*x1 + 0.067721770436928633*x2/(2*x3 - 1.9730794452599858)) + 3.0868974737584103"
      ]
     },
     "metadata": {},
     "output_type": "display_data"
    },
    {
     "name": "stdout",
     "output_type": "stream",
     "text": [
      "Eq. 10 rmse: 0.30311077132113023\n"
     ]
    },
    {
     "data": {
      "text/latex": [
       "$\\displaystyle x_{0} \\left(x_{0} + 0.12778628311865214 x_{1} + \\frac{0.081064971663930885 x_{2}}{- 2 x_{2} + 2 x_{3}}\\right) + 3.0868974737584103$"
      ],
      "text/plain": [
       "x0*(x0 + 0.12778628311865214*x1 + 0.081064971663930885*x2/(-2*x2 + 2*x3)) + 3.0868974737584103"
      ]
     },
     "metadata": {},
     "output_type": "display_data"
    }
   ],
   "source": [
    "test_relation(['log_sigma0', 'Core', 'Pseudobulge','bvtc'],operator='basic',ncyclesperiteration=5000)\n",
    "# sort_out_0307 better"
   ]
  },
  {
   "cell_type": "code",
   "execution_count": 15,
   "id": "6cc63d00",
   "metadata": {
    "scrolled": true
   },
   "outputs": [
    {
     "name": "stdout",
     "output_type": "stream",
     "text": [
      "105\n"
     ]
    },
    {
     "name": "stderr",
     "output_type": "stream",
     "text": [
      "/home/zj448/miniconda3/lib/python3.9/site-packages/pysr/sr.py:1257: UserWarning: Note: it looks like you are running in Jupyter. The progress bar will be turned off.\n",
      "  warnings.warn(\n"
     ]
    },
    {
     "name": "stdout",
     "output_type": "stream",
     "text": [
      "parameters:\n",
      "x 0 : M*_sph\n",
      "x 1 : Core\n",
      "x 2 : Pseudobulge\n",
      "x 3 : bvtc\n",
      "Eq. selected rmse: 0.3098408296574855\n"
     ]
    },
    {
     "data": {
      "text/latex": [
       "$\\displaystyle x_{0} + 0.3810414131699886 x_{1} - 0.3810414131699886 x_{2} - 2.427494676428551$"
      ],
      "text/plain": [
       "x0 + 0.3810414131699886*x1 - 0.3810414131699886*x2 - 2.427494676428551"
      ]
     },
     "metadata": {},
     "output_type": "display_data"
    },
    {
     "name": "stdout",
     "output_type": "stream",
     "text": [
      "Eq. 0 rmse: 0.9105692749834977\n"
     ]
    },
    {
     "data": {
      "text/latex": [
       "$\\displaystyle 8.220426565882105$"
      ],
      "text/plain": [
       "8.220426565882105"
      ]
     },
     "metadata": {},
     "output_type": "display_data"
    },
    {
     "name": "stdout",
     "output_type": "stream",
     "text": [
      "Eq. 1 rmse: 0.3858334980071179\n"
     ]
    },
    {
     "data": {
      "text/latex": [
       "$\\displaystyle x_{0} - 2.39452686537762$"
      ],
      "text/plain": [
       "x0 - 2.39452686537762"
      ]
     },
     "metadata": {},
     "output_type": "display_data"
    },
    {
     "name": "stdout",
     "output_type": "stream",
     "text": [
      "Eq. 2 rmse: 0.35424712406161346\n"
     ]
    },
    {
     "data": {
      "text/latex": [
       "$\\displaystyle 0.758419366295583 x_{0} + 0.758419366295583 x_{1}$"
      ],
      "text/plain": [
       "0.758419366295583*x0 + 0.758419366295583*x1"
      ]
     },
     "metadata": {},
     "output_type": "display_data"
    },
    {
     "name": "stdout",
     "output_type": "stream",
     "text": [
      "Eq. 3 rmse: 0.340962585868545\n"
     ]
    },
    {
     "data": {
      "text/latex": [
       "$\\displaystyle x_{0} + 0.4297391707260535 x_{1} - 2.4929621967519924$"
      ],
      "text/plain": [
       "x0 + 0.4297391707260535*x1 - 2.4929621967519924"
      ]
     },
     "metadata": {},
     "output_type": "display_data"
    },
    {
     "name": "stdout",
     "output_type": "stream",
     "text": [
      "Eq. 4 rmse: 0.3098408296574855\n"
     ]
    },
    {
     "data": {
      "text/latex": [
       "$\\displaystyle x_{0} + 0.3810414131699886 x_{1} - 0.3810414131699886 x_{2} - 2.427494676428551$"
      ],
      "text/plain": [
       "x0 + 0.3810414131699886*x1 - 0.3810414131699886*x2 - 2.427494676428551"
      ]
     },
     "metadata": {},
     "output_type": "display_data"
    },
    {
     "name": "stdout",
     "output_type": "stream",
     "text": [
      "Eq. 5 rmse: 0.3094179745650984\n"
     ]
    },
    {
     "data": {
      "text/latex": [
       "$\\displaystyle x_{0} + 0.3520462155928171 x_{1} - 0.4202158409612245 x_{2} - 2.415269239053692$"
      ],
      "text/plain": [
       "x0 + 0.3520462155928171*x1 - 0.4202158409612245*x2 - 2.415269239053692"
      ]
     },
     "metadata": {},
     "output_type": "display_data"
    },
    {
     "name": "stdout",
     "output_type": "stream",
     "text": [
      "Eq. 6 rmse: 0.3088980900427073\n"
     ]
    },
    {
     "data": {
      "text/latex": [
       "$\\displaystyle x_{0} \\cdot \\left(0.953808880515015 - \\frac{0.4189588870707014 \\left(- x_{1} + x_{2}\\right)}{x_{0}}\\right) - 1.9397474237611976$"
      ],
      "text/plain": [
       "x0*(0.953808880515015 - 0.4189588870707014*(-x1 + x2)/x0) - 1.9397474237611976"
      ]
     },
     "metadata": {},
     "output_type": "display_data"
    },
    {
     "name": "stdout",
     "output_type": "stream",
     "text": [
      "Eq. 7 rmse: 0.30885269303093704\n"
     ]
    },
    {
     "data": {
      "text/latex": [
       "$\\displaystyle x_{0} \\cdot \\left(0.9561776928414346 - \\frac{- x_{1} + x_{2}}{2.241552172362581 x_{0} + 2.241552172362581 x_{3}}\\right) - 1.9632787906806417$"
      ],
      "text/plain": [
       "x0*(0.9561776928414346 - (-x1 + x2)/(2.241552172362581*x0 + 2.241552172362581*x3)) - 1.9632787906806417"
      ]
     },
     "metadata": {},
     "output_type": "display_data"
    },
    {
     "name": "stdout",
     "output_type": "stream",
     "text": [
      "Eq. 8 rmse: 0.3086935043514196\n"
     ]
    },
    {
     "data": {
      "text/latex": [
       "$\\displaystyle x_{0} \\cdot \\left(1.1711257755102256 - \\frac{6.301292986834431 x_{0} - 21.926352930835787}{\\left(x_{0} + x_{1}\\right) \\left(x_{0} - x_{2}\\right)}\\right)$"
      ],
      "text/plain": [
       "x0*(1.1711257755102256 - (6.301292986834431*x0 - 21.926352930835787)/((x0 + x1)*(x0 - x2)))"
      ]
     },
     "metadata": {},
     "output_type": "display_data"
    },
    {
     "name": "stdout",
     "output_type": "stream",
     "text": [
      "Eq. 9 rmse: 0.3076289665815298\n"
     ]
    },
    {
     "data": {
      "text/latex": [
       "$\\displaystyle x_{0} \\cdot \\left(0.8118377190096242 - \\frac{5.5426352194113424 \\left(- x_{1} + 0.8118377190096242 x_{2} - x_{3} + 1.6382181679479004\\right)}{x_{0}^{2}}\\right)$"
      ],
      "text/plain": [
       "x0*(0.8118377190096242 - 5.5426352194113424*(-x1 + 0.8118377190096242*x2 - x3 + 1.6382181679479004)/x0**2)"
      ]
     },
     "metadata": {},
     "output_type": "display_data"
    },
    {
     "name": "stdout",
     "output_type": "stream",
     "text": [
      "Eq. 10 rmse: 0.3066384345259323\n"
     ]
    },
    {
     "data": {
      "text/latex": [
       "$\\displaystyle x_{0} \\cdot \\left(0.9461250304641364 - \\frac{2.113641540302993 x_{0} - 5.128536688432239 x_{1} + 5.128536688432239 x_{2}}{x_{0} \\left(x_{0} + 2 x_{3}\\right)}\\right)$"
      ],
      "text/plain": [
       "x0*(0.9461250304641364 - (2.113641540302993*x0 - 5.128536688432239*x1 + 5.128536688432239*x2)/(x0*(x0 + 2*x3)))"
      ]
     },
     "metadata": {},
     "output_type": "display_data"
    }
   ],
   "source": [
    "test_relation(['M*_sph','Core','Pseudobulge','bvtc'],\n",
    "              operator='basic',ncyclesperiteration=5000,niterations=100)"
   ]
  },
  {
   "cell_type": "code",
   "execution_count": 16,
   "id": "6e79f3f2",
   "metadata": {
    "scrolled": true
   },
   "outputs": [
    {
     "name": "stdout",
     "output_type": "stream",
     "text": [
      "107\n"
     ]
    },
    {
     "name": "stderr",
     "output_type": "stream",
     "text": [
      "/home/zj448/miniconda3/lib/python3.9/site-packages/pysr/sr.py:1257: UserWarning: Note: it looks like you are running in Jupyter. The progress bar will be turned off.\n",
      "  warnings.warn(\n"
     ]
    },
    {
     "name": "stdout",
     "output_type": "stream",
     "text": [
      "parameters:\n",
      "x 0 : log_R_e_sph_eq_kpc\n",
      "x 1 : Core\n",
      "x 2 : Pseudobulge\n",
      "x 3 : bvtc\n",
      "Eq. selected rmse: 0.39393209165364523\n"
     ]
    },
    {
     "data": {
      "text/latex": [
       "$\\displaystyle x_{0} + 0.66638191376642007 x_{1} + x_{3} + 7.063105852055458$"
      ],
      "text/plain": [
       "x0 + 0.66638191376642007*x1 + x3 + 7.063105852055458"
      ]
     },
     "metadata": {},
     "output_type": "display_data"
    },
    {
     "name": "stdout",
     "output_type": "stream",
     "text": [
      "Eq. 0 rmse: 0.910374239758197\n"
     ]
    },
    {
     "data": {
      "text/latex": [
       "$\\displaystyle 8.219829399551118$"
      ],
      "text/plain": [
       "8.219829399551118"
      ]
     },
     "metadata": {},
     "output_type": "display_data"
    },
    {
     "name": "stdout",
     "output_type": "stream",
     "text": [
      "Eq. 1 rmse: 0.5675011964080852\n"
     ]
    },
    {
     "data": {
      "text/latex": [
       "$\\displaystyle x_{0} + 7.987992697745388$"
      ],
      "text/plain": [
       "x0 + 7.987992697745388"
      ]
     },
     "metadata": {},
     "output_type": "display_data"
    },
    {
     "name": "stdout",
     "output_type": "stream",
     "text": [
      "Eq. 2 rmse: 0.4354236299440383\n"
     ]
    },
    {
     "data": {
      "text/latex": [
       "$\\displaystyle x_{0} + x_{1} + 7.759141809730823$"
      ],
      "text/plain": [
       "x0 + x1 + 7.759141809730823"
      ]
     },
     "metadata": {},
     "output_type": "display_data"
    },
    {
     "name": "stdout",
     "output_type": "stream",
     "text": [
      "Eq. 3 rmse: 0.4170373891762068\n"
     ]
    },
    {
     "data": {
      "text/latex": [
       "$\\displaystyle x_{0} + x_{1} + x_{3} + 6.988508991949065$"
      ],
      "text/plain": [
       "x0 + x1 + x3 + 6.988508991949065"
      ]
     },
     "metadata": {},
     "output_type": "display_data"
    },
    {
     "name": "stdout",
     "output_type": "stream",
     "text": [
      "Eq. 4 rmse: 0.39393209165364523\n"
     ]
    },
    {
     "data": {
      "text/latex": [
       "$\\displaystyle x_{0} + 0.66638191376642007 x_{1} + x_{3} + 7.063105852055458$"
      ],
      "text/plain": [
       "x0 + 0.66638191376642007*x1 + x3 + 7.063105852055458"
      ]
     },
     "metadata": {},
     "output_type": "display_data"
    },
    {
     "name": "stdout",
     "output_type": "stream",
     "text": [
      "Eq. 5 rmse: 0.3856257162922902\n"
     ]
    },
    {
     "data": {
      "text/latex": [
       "$\\displaystyle x_{0} + 0.55999897165217833 x_{1} + x_{3}^{2} + 7.24565018649432$"
      ],
      "text/plain": [
       "x0 + 0.55999897165217833*x1 + x3**2 + 7.24565018649432"
      ]
     },
     "metadata": {},
     "output_type": "display_data"
    },
    {
     "name": "stdout",
     "output_type": "stream",
     "text": [
      "Eq. 6 rmse: 0.3833786429372061\n"
     ]
    },
    {
     "data": {
      "text/latex": [
       "$\\displaystyle 0.8811636976378824 x_{0} + 0.73239645575540806 x_{1} + x_{3}^{2} + 7.2443670785288665$"
      ],
      "text/plain": [
       "0.8811636976378824*x0 + 0.73239645575540806*x1 + x3**2 + 7.2443670785288665"
      ]
     },
     "metadata": {},
     "output_type": "display_data"
    },
    {
     "name": "stdout",
     "output_type": "stream",
     "text": [
      "Eq. 7 rmse: 0.3736387910515735\n"
     ]
    },
    {
     "data": {
      "text/latex": [
       "$\\displaystyle x_{0} + 9.059182084898547 + \\frac{x_{0} \\left(- 0.4363846068764886 x_{0} + x_{1}\\right) - 0.8773436786941344}{x_{3}}$"
      ],
      "text/plain": [
       "x0 + 9.059182084898547 + (x0*(-0.4363846068764886*x0 + x1) - 0.8773436786941344)/x3"
      ]
     },
     "metadata": {},
     "output_type": "display_data"
    },
    {
     "name": "stdout",
     "output_type": "stream",
     "text": [
      "Eq. 8 rmse: 0.357799235189431\n"
     ]
    },
    {
     "data": {
      "text/latex": [
       "$\\displaystyle x_{0} - x_{3} \\left(x_{0} \\cdot \\left(0.7056217093723781 x_{0} - x_{1}\\right) - x_{3}\\right) + x_{3} + 6.6211769946804715$"
      ],
      "text/plain": [
       "x0 - x3*(x0*(0.7056217093723781*x0 - x1) - x3) + x3 + 6.6211769946804715"
      ]
     },
     "metadata": {},
     "output_type": "display_data"
    },
    {
     "name": "stdout",
     "output_type": "stream",
     "text": [
      "Eq. 9 rmse: 0.34982966828677875\n"
     ]
    },
    {
     "data": {
      "text/latex": [
       "$\\displaystyle - 0.14396934774838785 x_{0} \\left(x_{0} + \\frac{x_{0}}{x_{0} - 0.2990362391429995}\\right) + x_{0} + x_{1} + 1.1439693477483878 x_{3} + 6.960218048101361$"
      ],
      "text/plain": [
       "-0.14396934774838785*x0*(x0 + x0/(x0 - 0.2990362391429995)) + x0 + x1 + 1.1439693477483878*x3 + 6.960218048101361"
      ]
     },
     "metadata": {},
     "output_type": "display_data"
    }
   ],
   "source": [
    "test_relation(['log_R_e_sph_eq_kpc','Core','Pseudobulge','bvtc'],\n",
    "              operator='basic',ncyclesperiteration=5000,niterations=100)"
   ]
  },
  {
   "cell_type": "code",
   "execution_count": 5,
   "id": "81caf1d0",
   "metadata": {
    "scrolled": true
   },
   "outputs": [
    {
     "name": "stdout",
     "output_type": "stream",
     "text": [
      "105\n"
     ]
    },
    {
     "name": "stderr",
     "output_type": "stream",
     "text": [
      "/home/zj448/miniconda3/lib/python3.9/site-packages/pysr/sr.py:1257: UserWarning: Note: it looks like you are running in Jupyter. The progress bar will be turned off.\n",
      "  warnings.warn(\n",
      "WARNING: method definition for OneHotArray at /home/zj448/miniconda3/share/pysr/depot/packages/MicroCollections/yJPLe/src/onehot.jl:79 declares type variable N but does not use it.\n"
     ]
    },
    {
     "name": "stdout",
     "output_type": "stream",
     "text": [
      "parameters:\n",
      "x 0 : log_B/T\n",
      "x 1 : Core\n",
      "x 2 : Pseudobulge\n",
      "x 3 : bvtc\n",
      "Eq. selected rmse: 0.4419597366206663\n"
     ]
    },
    {
     "data": {
      "text/latex": [
       "$\\displaystyle x_{0} + x_{1} + 8.396018131517273$"
      ],
      "text/plain": [
       "x0 + x1 + 8.396018131517273"
      ]
     },
     "metadata": {},
     "output_type": "display_data"
    },
    {
     "name": "stdout",
     "output_type": "stream",
     "text": [
      "Eq. 0 rmse: 0.9105692749834978\n"
     ]
    },
    {
     "data": {
      "text/latex": [
       "$\\displaystyle 8.22042656587683$"
      ],
      "text/plain": [
       "8.22042656587683"
      ]
     },
     "metadata": {},
     "output_type": "display_data"
    },
    {
     "name": "stdout",
     "output_type": "stream",
     "text": [
      "Eq. 1 rmse: 0.625671642706905\n"
     ]
    },
    {
     "data": {
      "text/latex": [
       "$\\displaystyle x_{1} + 7.991368248457607$"
      ],
      "text/plain": [
       "x1 + 7.991368248457607"
      ]
     },
     "metadata": {},
     "output_type": "display_data"
    },
    {
     "name": "stdout",
     "output_type": "stream",
     "text": [
      "Eq. 2 rmse: 0.4419597366206663\n"
     ]
    },
    {
     "data": {
      "text/latex": [
       "$\\displaystyle x_{0} + x_{1} + 8.396018131517273$"
      ],
      "text/plain": [
       "x0 + x1 + 8.396018131517273"
      ]
     },
     "metadata": {},
     "output_type": "display_data"
    },
    {
     "name": "stdout",
     "output_type": "stream",
     "text": [
      "Eq. 3 rmse: 0.4153499472675314\n"
     ]
    },
    {
     "data": {
      "text/latex": [
       "$\\displaystyle 1.4766429497890001 x_{0} + x_{1} + 8.588891645441858$"
      ],
      "text/plain": [
       "1.4766429497890001*x0 + x1 + 8.588891645441858"
      ]
     },
     "metadata": {},
     "output_type": "display_data"
    },
    {
     "name": "stdout",
     "output_type": "stream",
     "text": [
      "Eq. 4 rmse: 0.4065908328104283\n"
     ]
    },
    {
     "data": {
      "text/latex": [
       "$\\displaystyle x_{0} + x_{1} - 0.27804621598877066 x_{2} + x_{3} + 7.6648593361132935$"
      ],
      "text/plain": [
       "x0 + x1 - 0.27804621598877066*x2 + x3 + 7.6648593361132935"
      ]
     },
     "metadata": {},
     "output_type": "display_data"
    },
    {
     "name": "stdout",
     "output_type": "stream",
     "text": [
      "Eq. 5 rmse: 0.3975502237518284\n"
     ]
    },
    {
     "data": {
      "text/latex": [
       "$\\displaystyle x_{0} + x_{1} + x_{3} + 7.592839117108186 - \\frac{0.06035226198204719}{x_{2} - x_{3}}$"
      ],
      "text/plain": [
       "x0 + x1 + x3 + 7.592839117108186 - 0.06035226198204719/(x2 - x3)"
      ]
     },
     "metadata": {},
     "output_type": "display_data"
    },
    {
     "name": "stdout",
     "output_type": "stream",
     "text": [
      "Eq. 6 rmse: 0.3934595171945913\n"
     ]
    },
    {
     "data": {
      "text/latex": [
       "$\\displaystyle x_{0} + x_{1} - \\frac{x_{2}}{20.00104038200126 - 20.86974972293034 x_{3}} + x_{3} + 7.671478513825219$"
      ],
      "text/plain": [
       "x0 + x1 - x2/(20.00104038200126 - 20.86974972293034*x3) + x3 + 7.671478513825219"
      ]
     },
     "metadata": {},
     "output_type": "display_data"
    },
    {
     "name": "stdout",
     "output_type": "stream",
     "text": [
      "Eq. 7 rmse: 0.39317321749974854\n"
     ]
    },
    {
     "data": {
      "text/latex": [
       "$\\displaystyle x_{0} + x_{1} - \\frac{x_{2} x_{3}}{11.26060644995824 - 11.45508756214398 x_{3}} + x_{3} + 7.664859336117822$"
      ],
      "text/plain": [
       "x0 + x1 - x2*x3/(11.26060644995824 - 11.45508756214398*x3) + x3 + 7.664859336117822"
      ]
     },
     "metadata": {},
     "output_type": "display_data"
    },
    {
     "name": "stdout",
     "output_type": "stream",
     "text": [
      "Eq. 8 rmse: 0.3834417247269275\n"
     ]
    },
    {
     "data": {
      "text/latex": [
       "$\\displaystyle x_{0} + x_{1} - \\frac{x_{2} \\cdot \\left(0.069140870960392171 - 0.13281953021290818 x_{3}\\right)}{x_{0} + 0.4528599126230026} + x_{3} + 7.673676881480533$"
      ],
      "text/plain": [
       "x0 + x1 - x2*(0.069140870960392171 - 0.13281953021290818*x3)/(x0 + 0.4528599126230026) + x3 + 7.673676881480533"
      ]
     },
     "metadata": {},
     "output_type": "display_data"
    }
   ],
   "source": [
    "test_relation(['log_B/T','Core','Pseudobulge','bvtc'],\n",
    "              operator='basic',ncyclesperiteration=5000,niterations=100)"
   ]
  },
  {
   "cell_type": "code",
   "execution_count": 13,
   "id": "ed4be691",
   "metadata": {
    "scrolled": true
   },
   "outputs": [
    {
     "name": "stdout",
     "output_type": "stream",
     "text": [
      "104\n"
     ]
    },
    {
     "name": "stderr",
     "output_type": "stream",
     "text": [
      "/home/zj448/miniconda3/lib/python3.9/site-packages/pysr/sr.py:1257: UserWarning: Note: it looks like you are running in Jupyter. The progress bar will be turned off.\n",
      "  warnings.warn(\n"
     ]
    },
    {
     "name": "stdout",
     "output_type": "stream",
     "text": [
      "parameters:\n",
      "x 0 : logRho_soi_approx_new\n",
      "x 1 : Core\n",
      "x 2 : Pseudobulge\n",
      "x 3 : bvtc\n",
      "Eq. selected rmse: 0.39325605021962856\n"
     ]
    },
    {
     "data": {
      "text/latex": [
       "$\\displaystyle - \\frac{0.38901308362468384 x_{0}}{x_{3}} + x_{1} + 9.413411467217026$"
      ],
      "text/plain": [
       "-0.38901308362468384*x0/x3 + x1 + 9.413411467217026"
      ]
     },
     "metadata": {},
     "output_type": "display_data"
    },
    {
     "name": "stdout",
     "output_type": "stream",
     "text": [
      "Eq. 0 rmse: 0.9098375184233655\n"
     ]
    },
    {
     "data": {
      "text/latex": [
       "$\\displaystyle 8.21796960951618$"
      ],
      "text/plain": [
       "8.21796960951618"
      ]
     },
     "metadata": {},
     "output_type": "display_data"
    },
    {
     "name": "stdout",
     "output_type": "stream",
     "text": [
      "Eq. 1 rmse: 0.6229104438118788\n"
     ]
    },
    {
     "data": {
      "text/latex": [
       "$\\displaystyle x_{1} + 7.9884498304395235$"
      ],
      "text/plain": [
       "x1 + 7.9884498304395235"
      ]
     },
     "metadata": {},
     "output_type": "display_data"
    },
    {
     "name": "stdout",
     "output_type": "stream",
     "text": [
      "Eq. 2 rmse: 0.5387748197670258\n"
     ]
    },
    {
     "data": {
      "text/latex": [
       "$\\displaystyle 1.748366456423845 x_{1} + 7.817811810327907$"
      ],
      "text/plain": [
       "1.748366456423845*x1 + 7.817811810327907"
      ]
     },
     "metadata": {},
     "output_type": "display_data"
    },
    {
     "name": "stdout",
     "output_type": "stream",
     "text": [
      "Eq. 3 rmse: 0.49892364304505205\n"
     ]
    },
    {
     "data": {
      "text/latex": [
       "$\\displaystyle x_{3} + e^{x_{1}} + 6.064325606146391$"
      ],
      "text/plain": [
       "x3 + exp(x1) + 6.064325606146391"
      ]
     },
     "metadata": {},
     "output_type": "display_data"
    },
    {
     "name": "stdout",
     "output_type": "stream",
     "text": [
      "Eq. 4 rmse: 0.46623060049863135\n"
     ]
    },
    {
     "data": {
      "text/latex": [
       "$\\displaystyle x_{1} + x_{3}^{x_{0}} + 7.455619115542699$"
      ],
      "text/plain": [
       "x1 + x3**x0 + 7.455619115542699"
      ]
     },
     "metadata": {},
     "output_type": "display_data"
    },
    {
     "name": "stdout",
     "output_type": "stream",
     "text": [
      "Eq. 5 rmse: 0.4208232430049113\n"
     ]
    },
    {
     "data": {
      "text/latex": [
       "$\\displaystyle 2.838352897149728 x_{3}^{e^{x_{0}}} + 7.6787203532465576$"
      ],
      "text/plain": [
       "2.838352897149728*x3**exp(x0) + 7.6787203532465576"
      ]
     },
     "metadata": {},
     "output_type": "display_data"
    },
    {
     "name": "stdout",
     "output_type": "stream",
     "text": [
      "Eq. 6 rmse: 0.39325605021962856\n"
     ]
    },
    {
     "data": {
      "text/latex": [
       "$\\displaystyle - \\frac{0.38901308362468384 x_{0}}{x_{3}} + x_{1} + 9.413411467217026$"
      ],
      "text/plain": [
       "-0.38901308362468384*x0/x3 + x1 + 9.413411467217026"
      ]
     },
     "metadata": {},
     "output_type": "display_data"
    },
    {
     "name": "stdout",
     "output_type": "stream",
     "text": [
      "Eq. 7 rmse: 0.3639279271298053\n"
     ]
    },
    {
     "data": {
      "text/latex": [
       "$\\displaystyle x_{1} - \\left(1.2292929642769477 - x_{3}\\right) \\left(x_{0} + x_{2}\\right) + 9.30258842960089$"
      ],
      "text/plain": [
       "x1 - (1.2292929642769477 - x3)*(x0 + x2) + 9.30258842960089"
      ]
     },
     "metadata": {},
     "output_type": "display_data"
    },
    {
     "name": "stdout",
     "output_type": "stream",
     "text": [
      "Eq. 8 rmse: 0.35211005513863747\n"
     ]
    },
    {
     "data": {
      "text/latex": [
       "$\\displaystyle x_{1} - x_{2} - \\left(1.2292929642769477 - x_{3}\\right) \\left(x_{0} - x_{2}\\right) + 9.30258842960089$"
      ],
      "text/plain": [
       "x1 - x2 - (1.2292929642769477 - x3)*(x0 - x2) + 9.30258842960089"
      ]
     },
     "metadata": {},
     "output_type": "display_data"
    },
    {
     "name": "stdout",
     "output_type": "stream",
     "text": [
      "Eq. 9 rmse: 0.3269657331761246\n"
     ]
    },
    {
     "data": {
      "text/latex": [
       "$\\displaystyle - 0.5559932358229971 x_{0} + 0.5559932358229971 x_{1} - 0.5559932358229971 x_{2} + 2.555993235822997 x_{3} + 7.678516839280368$"
      ],
      "text/plain": [
       "-0.5559932358229971*x0 + 0.5559932358229971*x1 - 0.5559932358229971*x2 + 2.555993235822997*x3 + 7.678516839280368"
      ]
     },
     "metadata": {},
     "output_type": "display_data"
    },
    {
     "name": "stdout",
     "output_type": "stream",
     "text": [
      "Eq. 10 rmse: 0.32559126120904724\n"
     ]
    },
    {
     "data": {
      "text/latex": [
       "$\\displaystyle 0.26534570888814357^{x_{2}} x_{3} - 0.5569842911843649 x_{0} + 0.5569842911843649 x_{1} + 1.556984291184365 x_{3} + 7.676488213661468$"
      ],
      "text/plain": [
       "0.26534570888814357**x2*x3 - 0.5569842911843649*x0 + 0.5569842911843649*x1 + 1.556984291184365*x3 + 7.676488213661468"
      ]
     },
     "metadata": {},
     "output_type": "display_data"
    },
    {
     "name": "stdout",
     "output_type": "stream",
     "text": [
      "Eq. 11 rmse: 0.3255581282907581\n"
     ]
    },
    {
     "data": {
      "text/latex": [
       "$\\displaystyle - 0.5556957874634485 x_{0} + 0.5556957874634485 x_{1} + \\frac{0.5556957874634485 x_{2}}{x_{3} - 1.759426764396734} + 2.555695787463448 x_{3} + 7.678516839130675$"
      ],
      "text/plain": [
       "-0.5556957874634485*x0 + 0.5556957874634485*x1 + 0.5556957874634485*x2/(x3 - 1.759426764396734) + 2.555695787463448*x3 + 7.678516839130675"
      ]
     },
     "metadata": {},
     "output_type": "display_data"
    },
    {
     "name": "stdout",
     "output_type": "stream",
     "text": [
      "Eq. 12 rmse: 0.3243323090248941\n"
     ]
    },
    {
     "data": {
      "text/latex": [
       "$\\displaystyle - 0.5593377336776542 x_{0} + 0.5593377336776542 x_{1} - 0.5593377336776542 x_{2} \\left(x_{3} + 0.21225181458539596\\right)^{x_{0}} + 2.559337733677654 x_{3} + 7.675629591249629$"
      ],
      "text/plain": [
       "-0.5593377336776542*x0 + 0.5593377336776542*x1 - 0.5593377336776542*x2*(x3 + 0.21225181458539596)**x0 + 2.559337733677654*x3 + 7.675629591249629"
      ]
     },
     "metadata": {},
     "output_type": "display_data"
    }
   ],
   "source": [
    "test_relation(['logRho_soi_approx_new','Core','Pseudobulge','bvtc'],\n",
    "              operator='adv',ncyclesperiteration=5000,niterations=100)"
   ]
  },
  {
   "cell_type": "code",
   "execution_count": null,
   "id": "a35f5fe8",
   "metadata": {},
   "outputs": [],
   "source": []
  }
 ],
 "metadata": {
  "kernelspec": {
   "display_name": "Python 3 (ipykernel)",
   "language": "python",
   "name": "python3"
  },
  "language_info": {
   "codemirror_mode": {
    "name": "ipython",
    "version": 3
   },
   "file_extension": ".py",
   "mimetype": "text/x-python",
   "name": "python",
   "nbconvert_exporter": "python",
   "pygments_lexer": "ipython3",
   "version": "3.9.5"
  }
 },
 "nbformat": 4,
 "nbformat_minor": 5
}
