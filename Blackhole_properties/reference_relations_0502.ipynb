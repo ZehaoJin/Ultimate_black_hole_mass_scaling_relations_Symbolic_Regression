{
 "cells": [
  {
   "cell_type": "code",
   "execution_count": 2,
   "id": "decbc2cc",
   "metadata": {},
   "outputs": [],
   "source": [
    "import numpy as np\n",
    "import pandas as pd\n",
    "from pysr import PySRRegressor\n",
    "from IPython.display import HTML\n",
    "from matplotlib import pyplot as plt\n",
    "\n",
    "from hyperfit.linfit import LinFit\n",
    "\n",
    "import functions"
   ]
  },
  {
   "cell_type": "code",
   "execution_count": 7,
   "id": "77a17e6b",
   "metadata": {
    "scrolled": true
   },
   "outputs": [
    {
     "name": "stdout",
     "output_type": "stream",
     "text": [
      "122\n"
     ]
    },
    {
     "name": "stderr",
     "output_type": "stream",
     "text": [
      "/home/zj448/miniconda3/lib/python3.9/site-packages/pysr/sr.py:1257: UserWarning: Note: it looks like you are running in Jupyter. The progress bar will be turned off.\n",
      "  warnings.warn(\n"
     ]
    },
    {
     "name": "stdout",
     "output_type": "stream",
     "text": [
      "parameters:\n",
      "x 0 : logRho_soi_approx_new\n",
      "Eq. selected rmse: 0.7096559129166867\n"
     ]
    },
    {
     "data": {
      "text/latex": [
       "$\\displaystyle 10.517839355130159 - 0.8754763290890462 x_{0}$"
      ],
      "text/plain": [
       "10.517839355130159 - 0.8754763290890462*x0"
      ]
     },
     "metadata": {},
     "output_type": "display_data"
    },
    {
     "name": "stdout",
     "output_type": "stream",
     "text": [
      "Eq. 0 rmse: 0.941890181327581\n"
     ]
    },
    {
     "data": {
      "text/latex": [
       "$\\displaystyle 8.158220955941175$"
      ],
      "text/plain": [
       "8.158220955941175"
      ]
     },
     "metadata": {},
     "output_type": "display_data"
    },
    {
     "name": "stdout",
     "output_type": "stream",
     "text": [
      "Eq. 1 rmse: 0.7096559129166867\n"
     ]
    },
    {
     "data": {
      "text/latex": [
       "$\\displaystyle 10.517839355130159 - 0.8754763290890462 x_{0}$"
      ],
      "text/plain": [
       "10.517839355130159 - 0.8754763290890462*x0"
      ]
     },
     "metadata": {},
     "output_type": "display_data"
    },
    {
     "name": "stdout",
     "output_type": "stream",
     "text": [
      "Eq. 2 rmse: 0.7096559129166866\n"
     ]
    },
    {
     "data": {
      "text/latex": [
       "$\\displaystyle 10.517839347485205 - 0.8754763263156755 x_{0}$"
      ],
      "text/plain": [
       "10.517839347485205 - 0.8754763263156755*x0"
      ]
     },
     "metadata": {},
     "output_type": "display_data"
    },
    {
     "name": "stdout",
     "output_type": "stream",
     "text": [
      "Eq. 3 rmse: 0.7096559129166866\n"
     ]
    },
    {
     "data": {
      "text/latex": [
       "$\\displaystyle 10.517839349767357 - 0.87547632719309973 x_{0}$"
      ],
      "text/plain": [
       "10.517839349767357 - 0.87547632719309973*x0"
      ]
     },
     "metadata": {},
     "output_type": "display_data"
    },
    {
     "name": "stdout",
     "output_type": "stream",
     "text": [
      "Eq. 4 rmse: 0.7096559129166867\n"
     ]
    },
    {
     "data": {
      "text/latex": [
       "$\\displaystyle 10.517839371794451 - 0.87547633502158495 x_{0}$"
      ],
      "text/plain": [
       "10.517839371794451 - 0.87547633502158495*x0"
      ]
     },
     "metadata": {},
     "output_type": "display_data"
    },
    {
     "name": "stdout",
     "output_type": "stream",
     "text": [
      "Eq. 5 rmse: 0.7031733764337992\n"
     ]
    },
    {
     "data": {
      "text/latex": [
       "$\\displaystyle 0.007910214471297007 x_{0}^{3} - x_{0} + 10.66752265506913$"
      ],
      "text/plain": [
       "0.007910214471297007*x0**3 - x0 + 10.66752265506913"
      ]
     },
     "metadata": {},
     "output_type": "display_data"
    },
    {
     "name": "stdout",
     "output_type": "stream",
     "text": [
      "Eq. 6 rmse: 0.6503444189654729\n"
     ]
    },
    {
     "data": {
      "text/latex": [
       "$\\displaystyle - 0.96494600072142415 x_{0} + 10.785123854118957 - \\frac{0.010335679451024772}{x_{0} - 2.781275599770669}$"
      ],
      "text/plain": [
       "-0.96494600072142415*x0 + 10.785123854118957 - 0.010335679451024772/(x0 - 2.781275599770669)"
      ]
     },
     "metadata": {},
     "output_type": "display_data"
    },
    {
     "name": "stdout",
     "output_type": "stream",
     "text": [
      "Eq. 7 rmse: 0.6463548093765977\n"
     ]
    },
    {
     "data": {
      "text/latex": [
       "$\\displaystyle - 0.9623503794307677 x_{0} + 10.830096799906534 - \\frac{0.01060241423329943}{x_{0} - 2.7812755997706692}$"
      ],
      "text/plain": [
       "-0.9623503794307677*x0 + 10.830096799906534 - 0.01060241423329943/(x0 - 2.7812755997706692)"
      ]
     },
     "metadata": {},
     "output_type": "display_data"
    },
    {
     "name": "stdout",
     "output_type": "stream",
     "text": [
      "Eq. 8 rmse: 0.6435941018003426\n"
     ]
    },
    {
     "data": {
      "text/latex": [
       "$\\displaystyle - 0.9247007588615353 x_{0} + 10.785123854118957 - \\frac{0.01060241423329943}{x_{0} - 2.7812755997706692}$"
      ],
      "text/plain": [
       "-0.9247007588615353*x0 + 10.785123854118957 - 0.01060241423329943/(x0 - 2.7812755997706692)"
      ]
     },
     "metadata": {},
     "output_type": "display_data"
    }
   ],
   "source": [
    "functions.test_relation(['logRho_soi_approx_new'])"
   ]
  },
  {
   "cell_type": "code",
   "execution_count": 8,
   "id": "29ed8017",
   "metadata": {},
   "outputs": [
    {
     "name": "stderr",
     "output_type": "stream",
     "text": [
      "/home/zj448/miniconda3/lib/python3.9/site-packages/emcee/moves/red_blue.py:99: RuntimeWarning: invalid value encountered in scalar subtract\n",
      "  lnpdiff = f + nlp - state.log_prob[j]\n"
     ]
    },
    {
     "name": "stdout",
     "output_type": "stream",
     "text": [
      "[-0.93004258 10.63954454  0.74820251] [0.03811149 0.1425255  0.07356117]\n"
     ]
    },
    {
     "data": {
      "image/png": "[encoded data removed]",
      "text/plain": [
       "<Figure size 576x432 with 1 Axes>"
      ]
     },
     "metadata": {
      "needs_background": "light"
     },
     "output_type": "display_data"
    },
    {
     "name": "stdout",
     "output_type": "stream",
     "text": [
      "rmse: 0.71115737363025\n"
     ]
    },
    {
     "data": {
      "text/plain": [
       "(array([-0.93004258, 10.63954454,  0.74820251]),\n",
       " array([0.03811149, 0.1425255 , 0.07356117]))"
      ]
     },
     "execution_count": 8,
     "metadata": {},
     "output_type": "execute_result"
    }
   ],
   "source": [
    "functions.hyperfit(['logRho_soi_approx_new'],bounds = ((-0.9, 0.85),(10., 11.), (1.0e-5, 1.0)))"
   ]
  },
  {
   "cell_type": "markdown",
   "id": "88487487",
   "metadata": {},
   "source": [
    "$\\log (\\frac{{M}_{BH}}{{M}_\\odot})=-0.93 \\log \\rho_{soi} + 10.64$"
   ]
  },
  {
   "cell_type": "code",
   "execution_count": null,
   "id": "d93d1a89",
   "metadata": {},
   "outputs": [],
   "source": []
  },
  {
   "cell_type": "code",
   "execution_count": null,
   "id": "5e9cee49",
   "metadata": {},
   "outputs": [],
   "source": []
  },
  {
   "cell_type": "code",
   "execution_count": 2,
   "id": "ed8b8342",
   "metadata": {
    "scrolled": true
   },
   "outputs": [
    {
     "name": "stdout",
     "output_type": "stream",
     "text": [
      "124\n"
     ]
    },
    {
     "name": "stderr",
     "output_type": "stream",
     "text": [
      "/home/zj448/miniconda3/lib/python3.9/site-packages/pysr/sr.py:1257: UserWarning: Note: it looks like you are running in Jupyter. The progress bar will be turned off.\n",
      "  warnings.warn(\n",
      "WARNING: method definition for OneHotArray at /home/zj448/miniconda3/share/pysr/depot/packages/MicroCollections/yJPLe/src/onehot.jl:79 declares type variable N but does not use it.\n"
     ]
    },
    {
     "name": "stdout",
     "output_type": "stream",
     "text": [
      "parameters:\n",
      "x 0 : M*_sph\n",
      "Eq. selected rmse: 0.49143327089778865\n"
     ]
    },
    {
     "data": {
      "text/latex": [
       "$\\displaystyle x_{0} - 2.484832642338191$"
      ],
      "text/plain": [
       "x0 - 2.484832642338191"
      ]
     },
     "metadata": {},
     "output_type": "display_data"
    },
    {
     "name": "stdout",
     "output_type": "stream",
     "text": [
      "Eq. 0 rmse: 0.9916069688267427\n"
     ]
    },
    {
     "data": {
      "text/latex": [
       "$\\displaystyle 8.053185584335683$"
      ],
      "text/plain": [
       "8.053185584335683"
      ]
     },
     "metadata": {},
     "output_type": "display_data"
    },
    {
     "name": "stdout",
     "output_type": "stream",
     "text": [
      "Eq. 1 rmse: 0.49143327089778865\n"
     ]
    },
    {
     "data": {
      "text/latex": [
       "$\\displaystyle x_{0} - 2.484832642338191$"
      ],
      "text/plain": [
       "x0 - 2.484832642338191"
      ]
     },
     "metadata": {},
     "output_type": "display_data"
    },
    {
     "name": "stdout",
     "output_type": "stream",
     "text": [
      "Eq. 2 rmse: 0.4512509185792252\n"
     ]
    },
    {
     "data": {
      "text/latex": [
       "$\\displaystyle x_{0} - \\frac{26.10798795172897}{x_{0}}$"
      ],
      "text/plain": [
       "x0 - 26.10798795172897/x0"
      ]
     },
     "metadata": {},
     "output_type": "display_data"
    },
    {
     "name": "stdout",
     "output_type": "stream",
     "text": [
      "Eq. 3 rmse: 0.44694565965632255\n"
     ]
    },
    {
     "data": {
      "text/latex": [
       "$\\displaystyle 1.300093972081635 x_{0} - 5.6472283878522145$"
      ],
      "text/plain": [
       "1.300093972081635*x0 - 5.6472283878522145"
      ]
     },
     "metadata": {},
     "output_type": "display_data"
    },
    {
     "name": "stdout",
     "output_type": "stream",
     "text": [
      "Eq. 4 rmse: 0.4441103747057555\n"
     ]
    },
    {
     "data": {
      "text/latex": [
       "$\\displaystyle 2 x_{0} - 20.661298346336476 + \\frac{80.1689345824343}{x_{0}}$"
      ],
      "text/plain": [
       "2*x0 - 20.661298346336476 + 80.1689345824343/x0"
      ]
     },
     "metadata": {},
     "output_type": "display_data"
    },
    {
     "name": "stdout",
     "output_type": "stream",
     "text": [
      "Eq. 5 rmse: 0.4441103747057557\n"
     ]
    },
    {
     "data": {
      "text/latex": [
       "$\\displaystyle 2 x_{0} - 20.66129834664948 + \\frac{80.16893458571931}{x_{0}}$"
      ],
      "text/plain": [
       "2*x0 - 20.66129834664948 + 80.16893458571931/x0"
      ]
     },
     "metadata": {},
     "output_type": "display_data"
    },
    {
     "name": "stdout",
     "output_type": "stream",
     "text": [
      "Eq. 6 rmse: 0.4439092828071676\n"
     ]
    },
    {
     "data": {
      "text/latex": [
       "$\\displaystyle 1.996980337673746 x_{0} - 16.839892194697484 + \\frac{422.505367636677}{x_{0}^{2}}$"
      ],
      "text/plain": [
       "1.996980337673746*x0 - 16.839892194697484 + 422.505367636677/x0**2"
      ]
     },
     "metadata": {},
     "output_type": "display_data"
    },
    {
     "name": "stdout",
     "output_type": "stream",
     "text": [
      "Eq. 7 rmse: 0.4439060651284862\n"
     ]
    },
    {
     "data": {
      "text/latex": [
       "$\\displaystyle 2 x_{0} - 16.936177929967787 + \\frac{x_{0} + 418.9263274913084}{x_{0}^{2}}$"
      ],
      "text/plain": [
       "2*x0 - 16.936177929967787 + (x0 + 418.9263274913084)/x0**2"
      ]
     },
     "metadata": {},
     "output_type": "display_data"
    },
    {
     "name": "stdout",
     "output_type": "stream",
     "text": [
      "Eq. 8 rmse: 0.443905746457668\n"
     ]
    },
    {
     "data": {
      "text/latex": [
       "$\\displaystyle 1.996980337673746 x_{0} - 16.839892194697484 + \\frac{422.34594117024877}{x_{0}^{2}}$"
      ],
      "text/plain": [
       "1.996980337673746*x0 - 16.839892194697484 + 422.34594117024877/x0**2"
      ]
     },
     "metadata": {},
     "output_type": "display_data"
    },
    {
     "name": "stdout",
     "output_type": "stream",
     "text": [
      "Eq. 9 rmse: 0.4439056946503837\n"
     ]
    },
    {
     "data": {
      "text/latex": [
       "$\\displaystyle 1.996980337673746 x_{0} - 16.839892194697484 + \\frac{422.505367636677 - 0.018934380883798365 x_{0}}{x_{0}^{2}}$"
      ],
      "text/plain": [
       "1.996980337673746*x0 - 16.839892194697484 + (422.505367636677 - 0.018934380883798365*x0)/x0**2"
      ]
     },
     "metadata": {},
     "output_type": "display_data"
    }
   ],
   "source": [
    "functions.test_relation(['M*_sph'])"
   ]
  },
  {
   "cell_type": "code",
   "execution_count": 5,
   "id": "73d76ebc",
   "metadata": {},
   "outputs": [
    {
     "name": "stderr",
     "output_type": "stream",
     "text": [
      "/home/zj448/miniconda3/lib/python3.9/site-packages/emcee/moves/red_blue.py:99: RuntimeWarning: invalid value encountered in scalar subtract\n",
      "  lnpdiff = f + nlp - state.log_prob[j]\n"
     ]
    },
    {
     "name": "stdout",
     "output_type": "stream",
     "text": [
      "[ 1.31446409 -5.83301935  0.48644027] [0.02604462 0.27331155 0.04238679]\n"
     ]
    },
    {
     "data": {
      "image/png": "[encoded data removed]",
      "text/plain": [
       "<Figure size 576x432 with 1 Axes>"
      ]
     },
     "metadata": {
      "needs_background": "light"
     },
     "output_type": "display_data"
    },
    {
     "name": "stdout",
     "output_type": "stream",
     "text": [
      "rmse: 0.448371102276839\n"
     ]
    },
    {
     "data": {
      "text/plain": [
       "(array([ 1.31446409, -5.83301935,  0.48644027]),\n",
       " array([0.02604462, 0.27331155, 0.04238679]))"
      ]
     },
     "execution_count": 5,
     "metadata": {},
     "output_type": "execute_result"
    }
   ],
   "source": [
    "functions.hyperfit(['M*_sph'],bounds = ((1.2, 1.4),(-6., -5.), (1.0e-5, 1.0)))"
   ]
  },
  {
   "cell_type": "markdown",
   "id": "ad243199",
   "metadata": {},
   "source": [
    "$\\log (\\frac{{M}_{BH}}{{M}_\\odot})=1.31 \\log M^*_{sph} - 5.83$"
   ]
  },
  {
   "cell_type": "code",
   "execution_count": null,
   "id": "0eb69332",
   "metadata": {},
   "outputs": [],
   "source": []
  },
  {
   "cell_type": "code",
   "execution_count": 9,
   "id": "fa00a378",
   "metadata": {
    "scrolled": true
   },
   "outputs": [
    {
     "name": "stdout",
     "output_type": "stream",
     "text": [
      "145\n"
     ]
    },
    {
     "name": "stderr",
     "output_type": "stream",
     "text": [
      "/home/zj448/miniconda3/lib/python3.9/site-packages/pysr/sr.py:1257: UserWarning: Note: it looks like you are running in Jupyter. The progress bar will be turned off.\n",
      "  warnings.warn(\n"
     ]
    },
    {
     "name": "stdout",
     "output_type": "stream",
     "text": [
      "parameters:\n",
      "x 0 : logblum\n",
      "Eq. selected rmse: 0.9369017271334004\n"
     ]
    },
    {
     "data": {
      "text/latex": [
       "$\\displaystyle x_{0} - 2.4637190303232375$"
      ],
      "text/plain": [
       "x0 - 2.4637190303232375"
      ]
     },
     "metadata": {},
     "output_type": "display_data"
    },
    {
     "name": "stdout",
     "output_type": "stream",
     "text": [
      "Eq. 0 rmse: 0.992985178109605\n"
     ]
    },
    {
     "data": {
      "text/latex": [
       "$\\displaystyle 8.064204976134878$"
      ],
      "text/plain": [
       "8.064204976134878"
      ]
     },
     "metadata": {},
     "output_type": "display_data"
    },
    {
     "name": "stdout",
     "output_type": "stream",
     "text": [
      "Eq. 1 rmse: 0.9369017271334004\n"
     ]
    },
    {
     "data": {
      "text/latex": [
       "$\\displaystyle x_{0} - 2.4637190303232375$"
      ],
      "text/plain": [
       "x0 - 2.4637190303232375"
      ]
     },
     "metadata": {},
     "output_type": "display_data"
    },
    {
     "name": "stdout",
     "output_type": "stream",
     "text": [
      "Eq. 2 rmse: 0.936881238158748\n"
     ]
    },
    {
     "data": {
      "text/latex": [
       "$\\displaystyle x_{0} - 2.264860291336119 - \\frac{2.0916211860415284}{x_{0}}$"
      ],
      "text/plain": [
       "x0 - 2.264860291336119 - 2.0916211860415284/x0"
      ]
     },
     "metadata": {},
     "output_type": "display_data"
    },
    {
     "name": "stdout",
     "output_type": "stream",
     "text": [
      "Eq. 3 rmse: 0.9330150029597978\n"
     ]
    },
    {
     "data": {
      "text/latex": [
       "$\\displaystyle - x_{0} \\cdot \\left(19.67077388403406 - x_{0}\\right) + 104.22006750180437$"
      ],
      "text/plain": [
       "-x0*(19.67077388403406 - x0) + 104.22006750180437"
      ]
     },
     "metadata": {},
     "output_type": "display_data"
    },
    {
     "name": "stdout",
     "output_type": "stream",
     "text": [
      "Eq. 4 rmse: 0.9099681489666048\n"
     ]
    },
    {
     "data": {
      "text/latex": [
       "$\\displaystyle x_{0} - 2.441926067039836 + \\frac{0.07290992266527341}{x_{0}^{2} - 10.82518879053023 x_{0} + 2.359487997201801}$"
      ],
      "text/plain": [
       "x0 - 2.441926067039836 + 0.07290992266527341/(x0**2 - 10.82518879053023*x0 + 2.359487997201801)"
      ]
     },
     "metadata": {},
     "output_type": "display_data"
    },
    {
     "name": "stdout",
     "output_type": "stream",
     "text": [
      "Eq. 5 rmse: 0.8647605941709291\n"
     ]
    },
    {
     "data": {
      "text/latex": [
       "$\\displaystyle x_{0} - 2.5565732858883856 + \\frac{0.019558700775606498}{x_{0}^{2} - 10.82455998079464 x_{0} + 0.15527162915029097}$"
      ],
      "text/plain": [
       "x0 - 2.5565732858883856 + 0.019558700775606498/(x0**2 - 10.82455998079464*x0 + 0.15527162915029097)"
      ]
     },
     "metadata": {},
     "output_type": "display_data"
    },
    {
     "name": "stdout",
     "output_type": "stream",
     "text": [
      "Eq. 6 rmse: 0.8389312257564788\n"
     ]
    },
    {
     "data": {
      "text/latex": [
       "$\\displaystyle x_{0} - \\frac{0.3254079841245411 - \\frac{1.8606081875496294}{x_{0} - 5.722523121365955}}{x_{0}^{2} - 10.8244358706756 x_{0} + 0.15527162940151187} - 2.553885440311754$"
      ],
      "text/plain": [
       "x0 - (0.3254079841245411 - 1.8606081875496294/(x0 - 5.722523121365955))/(x0**2 - 10.8244358706756*x0 + 0.15527162940151187) - 2.553885440311754"
      ]
     },
     "metadata": {},
     "output_type": "display_data"
    }
   ],
   "source": [
    "functions.test_relation(['logblum'])"
   ]
  },
  {
   "cell_type": "code",
   "execution_count": 10,
   "id": "29d500c2",
   "metadata": {
    "scrolled": true
   },
   "outputs": [
    {
     "name": "stderr",
     "output_type": "stream",
     "text": [
      "/home/zj448/miniconda3/lib/python3.9/site-packages/emcee/moves/red_blue.py:99: RuntimeWarning: invalid value encountered in scalar subtract\n",
      "  lnpdiff = f + nlp - state.log_prob[j]\n"
     ]
    },
    {
     "name": "stdout",
     "output_type": "stream",
     "text": [
      "[  1.94161099 -12.07603801   0.96814842] [0.03188922 0.3085469  0.06603819]\n"
     ]
    },
    {
     "data": {
      "image/png": "[encoded data removed]",
      "text/plain": [
       "<Figure size 576x432 with 1 Axes>"
      ]
     },
     "metadata": {
      "needs_background": "light"
     },
     "output_type": "display_data"
    },
    {
     "name": "stdout",
     "output_type": "stream",
     "text": [
      "rmse: 1.0237529278023405\n"
     ]
    },
    {
     "data": {
      "text/plain": [
       "(array([  1.94161099, -12.07603801,   0.96814842]),\n",
       " array([0.03188922, 0.3085469 , 0.06603819]))"
      ]
     },
     "execution_count": 10,
     "metadata": {},
     "output_type": "execute_result"
    }
   ],
   "source": [
    "functions.hyperfit(['logblum'],bounds = ((-10., 10.),(-10., 10.), (1.0e-5, 1.0)))"
   ]
  },
  {
   "cell_type": "code",
   "execution_count": 11,
   "id": "7da5eb35",
   "metadata": {
    "scrolled": true
   },
   "outputs": [
    {
     "name": "stderr",
     "output_type": "stream",
     "text": [
      "/home/zj448/miniconda3/lib/python3.9/site-packages/emcee/moves/red_blue.py:99: RuntimeWarning: invalid value encountered in scalar subtract\n",
      "  lnpdiff = f + nlp - state.log_prob[j]\n"
     ]
    },
    {
     "name": "stdout",
     "output_type": "stream",
     "text": [
      "[ 1.05807425 -2.87814936  0.91713503] [0.01459428 0.12938225 0.05681961]\n"
     ]
    },
    {
     "data": {
      "image/png": "[encoded data removed]",
      "text/plain": [
       "<Figure size 576x432 with 1 Axes>"
      ]
     },
     "metadata": {
      "needs_background": "light"
     },
     "output_type": "display_data"
    },
    {
     "name": "stdout",
     "output_type": "stream",
     "text": [
      "rmse: 0.9572891492896243\n"
     ]
    },
    {
     "data": {
      "text/plain": [
       "(array([ 1.05807425, -2.87814936,  0.91713503]),\n",
       " array([0.01459428, 0.12938225, 0.05681961]))"
      ]
     },
     "execution_count": 11,
     "metadata": {},
     "output_type": "execute_result"
    }
   ],
   "source": [
    "functions.hyperfit(['logblum'],bounds = ((0.9, 1.1),(-3., 2.), (1.0e-5, 1.0)))"
   ]
  },
  {
   "cell_type": "markdown",
   "id": "e21294f2",
   "metadata": {},
   "source": [
    "$\\log (\\frac{{M}_{BH}}{{M}_\\odot})=1.94 \\log L_{B} -12.07603801$"
   ]
  },
  {
   "cell_type": "code",
   "execution_count": null,
   "id": "74e04d4c",
   "metadata": {},
   "outputs": [],
   "source": []
  },
  {
   "cell_type": "code",
   "execution_count": 12,
   "id": "338248d8",
   "metadata": {
    "scrolled": true
   },
   "outputs": [
    {
     "name": "stdout",
     "output_type": "stream",
     "text": [
      "126\n"
     ]
    },
    {
     "name": "stderr",
     "output_type": "stream",
     "text": [
      "/home/zj448/miniconda3/lib/python3.9/site-packages/pysr/sr.py:1257: UserWarning: Note: it looks like you are running in Jupyter. The progress bar will be turned off.\n",
      "  warnings.warn(\n"
     ]
    },
    {
     "name": "stdout",
     "output_type": "stream",
     "text": [
      "parameters:\n",
      "x 0 : log_R_e_sph_eq_kpc\n",
      "Eq. selected rmse: 0.5027022255679637\n"
     ]
    },
    {
     "data": {
      "text/latex": [
       "$\\displaystyle 1.7097007009360945 x_{0} - \\frac{1.6381828413600366 x_{0}}{0.15849512517737208 - 6.483553535424553 x_{0}} + 7.6118688618567215$"
      ],
      "text/plain": [
       "1.7097007009360945*x0 - 1.6381828413600366*x0/(0.15849512517737208 - 6.483553535424553*x0) + 7.6118688618567215"
      ]
     },
     "metadata": {},
     "output_type": "display_data"
    },
    {
     "name": "stdout",
     "output_type": "stream",
     "text": [
      "Eq. 0 rmse: 0.9913339028193192\n"
     ]
    },
    {
     "data": {
      "text/latex": [
       "$\\displaystyle 8.052824807509946$"
      ],
      "text/plain": [
       "8.052824807509946"
      ]
     },
     "metadata": {},
     "output_type": "display_data"
    },
    {
     "name": "stdout",
     "output_type": "stream",
     "text": [
      "Eq. 1 rmse: 0.6790465164469768\n"
     ]
    },
    {
     "data": {
      "text/latex": [
       "$\\displaystyle x_{0} + 7.873526480961149$"
      ],
      "text/plain": [
       "x0 + 7.873526480961149"
      ]
     },
     "metadata": {},
     "output_type": "display_data"
    },
    {
     "name": "stdout",
     "output_type": "stream",
     "text": [
      "Eq. 2 rmse: 0.6146662544264978\n"
     ]
    },
    {
     "data": {
      "text/latex": [
       "$\\displaystyle 1.5899750805901731 x_{0} + 7.767744937226121$"
      ],
      "text/plain": [
       "1.5899750805901731*x0 + 7.767744937226121"
      ]
     },
     "metadata": {},
     "output_type": "display_data"
    },
    {
     "name": "stdout",
     "output_type": "stream",
     "text": [
      "Eq. 3 rmse: 0.6084071333746617\n"
     ]
    },
    {
     "data": {
      "text/latex": [
       "$\\displaystyle - x_{0} \\left(- 0.2895740577690167 x_{0} - 0.4178409274864397\\right) + x_{0} + 7.720007135946387$"
      ],
      "text/plain": [
       "-x0*(-0.2895740577690167*x0 - 0.4178409274864397) + x0 + 7.720007135946387"
      ]
     },
     "metadata": {},
     "output_type": "display_data"
    },
    {
     "name": "stdout",
     "output_type": "stream",
     "text": [
      "Eq. 4 rmse: 0.5027022255679637\n"
     ]
    },
    {
     "data": {
      "text/latex": [
       "$\\displaystyle 1.7097007009360945 x_{0} - \\frac{1.6381828413600366 x_{0}}{0.15849512517737208 - 6.483553535424553 x_{0}} + 7.6118688618567215$"
      ],
      "text/plain": [
       "1.7097007009360945*x0 - 1.6381828413600366*x0/(0.15849512517737208 - 6.483553535424553*x0) + 7.6118688618567215"
      ]
     },
     "metadata": {},
     "output_type": "display_data"
    },
    {
     "name": "stdout",
     "output_type": "stream",
     "text": [
      "Eq. 5 rmse: 0.4993461635075053\n"
     ]
    },
    {
     "data": {
      "text/latex": [
       "$\\displaystyle 1.7097007009360945 x_{0} + 7.6118688618567215 - \\frac{1.6381828413600366}{- x_{0} + \\frac{0.15849512517737208 - 6.483553535424553 x_{0}}{x_{0}}}$"
      ],
      "text/plain": [
       "1.7097007009360945*x0 + 7.6118688618567215 - 1.6381828413600366/(-x0 + (0.15849512517737208 - 6.483553535424553*x0)/x0)"
      ]
     },
     "metadata": {},
     "output_type": "display_data"
    },
    {
     "name": "stdout",
     "output_type": "stream",
     "text": [
      "Eq. 6 rmse: 0.4914578280586649\n"
     ]
    },
    {
     "data": {
      "text/latex": [
       "$\\displaystyle 1.8423778059022549 x_{0} + 7.6486879992544288 + \\frac{x_{0} - 0.665882909391754}{-2.4064832262207667 + \\frac{0.06020703888466321}{x_{0}}}$"
      ],
      "text/plain": [
       "1.8423778059022549*x0 + 7.6486879992544288 + (x0 - 0.665882909391754)/(-2.4064832262207667 + 0.06020703888466321/x0)"
      ]
     },
     "metadata": {},
     "output_type": "display_data"
    }
   ],
   "source": [
    "functions.test_relation(['log_R_e_sph_eq_kpc'])"
   ]
  },
  {
   "cell_type": "code",
   "execution_count": 14,
   "id": "2e3719a4",
   "metadata": {
    "scrolled": true
   },
   "outputs": [
    {
     "name": "stderr",
     "output_type": "stream",
     "text": [
      "/home/zj448/miniconda3/lib/python3.9/site-packages/emcee/moves/red_blue.py:99: RuntimeWarning: invalid value encountered in scalar subtract\n",
      "  lnpdiff = f + nlp - state.log_prob[j]\n"
     ]
    },
    {
     "name": "stdout",
     "output_type": "stream",
     "text": [
      "[1.63073002 7.67555795 0.61297169] [0.06269901 0.09927028 0.07492202]\n"
     ]
    },
    {
     "data": {
      "image/png": "[encoded data removed]",
      "text/plain": [
       "<Figure size 576x432 with 1 Axes>"
      ]
     },
     "metadata": {
      "needs_background": "light"
     },
     "output_type": "display_data"
    },
    {
     "name": "stdout",
     "output_type": "stream",
     "text": [
      "rmse: 0.5081936007485245\n"
     ]
    },
    {
     "data": {
      "text/plain": [
       "(array([1.63073002, 7.67555795, 0.61297169]),\n",
       " array([0.06269901, 0.09927028, 0.07492202]))"
      ]
     },
     "execution_count": 14,
     "metadata": {},
     "output_type": "execute_result"
    }
   ],
   "source": [
    "functions.hyperfit(['log_R_e_sph_eq_kpc'],bounds = ((1.5, 1.7),(7.6, 7.8), (1.0e-5, 1.0)))"
   ]
  },
  {
   "cell_type": "markdown",
   "id": "4c24f1b4",
   "metadata": {},
   "source": [
    "$\\log (\\frac{{M}_{BH}}{{M}_\\odot})=1.63 \\log R_{e,sph,eq} + 7.68$"
   ]
  },
  {
   "cell_type": "code",
   "execution_count": null,
   "id": "9486670d",
   "metadata": {},
   "outputs": [],
   "source": []
  },
  {
   "cell_type": "code",
   "execution_count": 5,
   "id": "729da776",
   "metadata": {},
   "outputs": [
    {
     "name": "stdout",
     "output_type": "stream",
     "text": [
      "126\n"
     ]
    },
    {
     "name": "stderr",
     "output_type": "stream",
     "text": [
      "/home/zj448/miniconda3/lib/python3.9/site-packages/pysr/sr.py:1257: UserWarning: Note: it looks like you are running in Jupyter. The progress bar will be turned off.\n",
      "  warnings.warn(\n",
      "WARNING: method definition for OneHotArray at /home/zj448/miniconda3/share/pysr/depot/packages/MicroCollections/yJPLe/src/onehot.jl:79 declares type variable N but does not use it.\n"
     ]
    },
    {
     "name": "stdout",
     "output_type": "stream",
     "text": [
      "parameters:\n",
      "x 0 : log_R_e_sph_maj\n",
      "Eq. selected rmse: 0.6470643380201575\n"
     ]
    },
    {
     "data": {
      "text/latex": [
       "$\\displaystyle x_{0} + 7.738886523920398$"
      ],
      "text/plain": [
       "x0 + 7.738886523920398"
      ]
     },
     "metadata": {},
     "output_type": "display_data"
    },
    {
     "name": "stdout",
     "output_type": "stream",
     "text": [
      "Eq. 0 rmse: 0.9913339028193191\n"
     ]
    },
    {
     "data": {
      "text/latex": [
       "$\\displaystyle 8.052824807212737$"
      ],
      "text/plain": [
       "8.052824807212737"
      ]
     },
     "metadata": {},
     "output_type": "display_data"
    },
    {
     "name": "stdout",
     "output_type": "stream",
     "text": [
      "Eq. 1 rmse: 0.6470643380201575\n"
     ]
    },
    {
     "data": {
      "text/latex": [
       "$\\displaystyle x_{0} + 7.738886523920398$"
      ],
      "text/plain": [
       "x0 + 7.738886523920398"
      ]
     },
     "metadata": {},
     "output_type": "display_data"
    },
    {
     "name": "stdout",
     "output_type": "stream",
     "text": [
      "Eq. 2 rmse: 0.5887628724258639\n"
     ]
    },
    {
     "data": {
      "text/latex": [
       "$\\displaystyle 1.5072830040057574 x_{0} + 7.57963096834938$"
      ],
      "text/plain": [
       "1.5072830040057574*x0 + 7.57963096834938"
      ]
     },
     "metadata": {},
     "output_type": "display_data"
    }
   ],
   "source": [
    "functions.test_relation(['log_R_e_sph_maj'],maxsize=7)"
   ]
  },
  {
   "cell_type": "code",
   "execution_count": 9,
   "id": "dabc85c6",
   "metadata": {},
   "outputs": [
    {
     "name": "stderr",
     "output_type": "stream",
     "text": [
      "/home/zj448/miniconda3/lib/python3.9/site-packages/emcee/moves/red_blue.py:99: RuntimeWarning: invalid value encountered in scalar subtract\n",
      "  lnpdiff = f + nlp - state.log_prob[j]\n"
     ]
    },
    {
     "name": "stdout",
     "output_type": "stream",
     "text": [
      "[1.50980505 7.60613021 0.61764081] [0.00681028 0.02062371 0.05106884]\n"
     ]
    },
    {
     "data": {
      "image/png": "[encoded data removed]",
      "text/plain": [
       "<Figure size 800x600 with 1 Axes>"
      ]
     },
     "metadata": {},
     "output_type": "display_data"
    },
    {
     "name": "stdout",
     "output_type": "stream",
     "text": [
      "rmse: 0.5896456701246459\n"
     ]
    },
    {
     "data": {
      "text/plain": [
       "(array([1.50980505, 7.60613021, 0.61764081]),\n",
       " array([0.00681028, 0.02062371, 0.05106884]))"
      ]
     },
     "execution_count": 9,
     "metadata": {},
     "output_type": "execute_result"
    }
   ],
   "source": [
    "functions.hyperfit(['log_R_e_sph_maj'],bounds = ((1.49, 1.51),(7.57, 7.58), (1.0e-5, 1.0)))"
   ]
  },
  {
   "cell_type": "code",
   "execution_count": null,
   "id": "21fa755b",
   "metadata": {},
   "outputs": [],
   "source": []
  },
  {
   "cell_type": "code",
   "execution_count": 3,
   "id": "82473dd9",
   "metadata": {
    "scrolled": true
   },
   "outputs": [
    {
     "name": "stdout",
     "output_type": "stream",
     "text": [
      "124\n"
     ]
    },
    {
     "name": "stderr",
     "output_type": "stream",
     "text": [
      "/home/zj448/miniconda3/lib/python3.9/site-packages/pysr/sr.py:1257: UserWarning: Note: it looks like you are running in Jupyter. The progress bar will be turned off.\n",
      "  warnings.warn(\n",
      "WARNING: method definition for OneHotArray at /home/zj448/miniconda3/share/pysr/depot/packages/MicroCollections/yJPLe/src/onehot.jl:79 declares type variable N but does not use it.\n"
     ]
    },
    {
     "name": "stdout",
     "output_type": "stream",
     "text": [
      "parameters:\n",
      "x 0 : log_B/T\n",
      "Eq. selected rmse: 0.5731175720912366\n"
     ]
    },
    {
     "data": {
      "text/latex": [
       "$\\displaystyle 2.3631253166718986 x_{0} + 9.145805148892062$"
      ],
      "text/plain": [
       "2.3631253166718986*x0 + 9.145805148892062"
      ]
     },
     "metadata": {},
     "output_type": "display_data"
    },
    {
     "name": "stdout",
     "output_type": "stream",
     "text": [
      "Eq. 0 rmse: 0.9916069688267428\n"
     ]
    },
    {
     "data": {
      "text/latex": [
       "$\\displaystyle 8.05318558433331$"
      ],
      "text/plain": [
       "8.05318558433331"
      ]
     },
     "metadata": {},
     "output_type": "display_data"
    },
    {
     "name": "stdout",
     "output_type": "stream",
     "text": [
      "Eq. 1 rmse: 0.739151730418676\n"
     ]
    },
    {
     "data": {
      "text/latex": [
       "$\\displaystyle x_{0} + 8.515547676106626$"
      ],
      "text/plain": [
       "x0 + 8.515547676106626"
      ]
     },
     "metadata": {},
     "output_type": "display_data"
    },
    {
     "name": "stdout",
     "output_type": "stream",
     "text": [
      "Eq. 2 rmse: 0.5731175720912366\n"
     ]
    },
    {
     "data": {
      "text/latex": [
       "$\\displaystyle 2.3631253166718986 x_{0} + 9.145805148892062$"
      ],
      "text/plain": [
       "2.3631253166718986*x0 + 9.145805148892062"
      ]
     },
     "metadata": {},
     "output_type": "display_data"
    },
    {
     "name": "stdout",
     "output_type": "stream",
     "text": [
      "Eq. 3 rmse: 0.548205620498216\n"
     ]
    },
    {
     "data": {
      "text/latex": [
       "$\\displaystyle x_{0} \\left(x_{0} + 3.208545321836883\\right) + 9.236253190435264$"
      ],
      "text/plain": [
       "x0*(x0 + 3.208545321836883) + 9.236253190435264"
      ]
     },
     "metadata": {},
     "output_type": "display_data"
    },
    {
     "name": "stdout",
     "output_type": "stream",
     "text": [
      "Eq. 4 rmse: 0.539586314864611\n"
     ]
    },
    {
     "data": {
      "text/latex": [
       "$\\displaystyle x_{0} \\cdot \\left(1.8666994392102736 x_{0} + 4.0498708796962015\\right) + 9.30774311830671$"
      ],
      "text/plain": [
       "x0*(1.8666994392102736*x0 + 4.0498708796962015) + 9.30774311830671"
      ]
     },
     "metadata": {},
     "output_type": "display_data"
    },
    {
     "name": "stdout",
     "output_type": "stream",
     "text": [
      "Eq. 5 rmse: 0.5387352203336484\n"
     ]
    },
    {
     "data": {
      "text/latex": [
       "$\\displaystyle x_{0} \\left(x_{0} \\left(x_{0} + 3.5169609508060495\\right) + 4.719992700319245\\right) + 9.33029732253013$"
      ],
      "text/plain": [
       "x0*(x0*(x0 + 3.5169609508060495) + 4.719992700319245) + 9.33029732253013"
      ]
     },
     "metadata": {},
     "output_type": "display_data"
    },
    {
     "name": "stdout",
     "output_type": "stream",
     "text": [
      "Eq. 6 rmse: 0.5156278883290438\n"
     ]
    },
    {
     "data": {
      "text/latex": [
       "$\\displaystyle 2 x_{0} + 8.850511793935404 + \\frac{0.2956559343690635}{292.217970135502 x_{0} + 0.4065955040634652}$"
      ],
      "text/plain": [
       "2*x0 + 8.850511793935404 + 0.2956559343690635/(292.217970135502*x0 + 0.4065955040634652)"
      ]
     },
     "metadata": {},
     "output_type": "display_data"
    },
    {
     "name": "stdout",
     "output_type": "stream",
     "text": [
      "Eq. 7 rmse: 0.5155902660410077\n"
     ]
    },
    {
     "data": {
      "text/latex": [
       "$\\displaystyle 2 x_{0} + 8.850511793935404 + \\frac{0.408661821362109}{365.94899192044094 x_{0} + 0.5730901868838386}$"
      ],
      "text/plain": [
       "2*x0 + 8.850511793935404 + 0.408661821362109/(365.94899192044094*x0 + 0.5730901868838386)"
      ]
     },
     "metadata": {},
     "output_type": "display_data"
    },
    {
     "name": "stdout",
     "output_type": "stream",
     "text": [
      "Eq. 8 rmse: 0.5150617846350097\n"
     ]
    },
    {
     "data": {
      "text/latex": [
       "$\\displaystyle 1.903556869300798 x_{0} + 8.8572591799404 + \\frac{0.8831796853592945}{455.6710214248366 x_{0}^{2} + 455.6710214248366 x_{0} + 1.2576438630397981}$"
      ],
      "text/plain": [
       "1.903556869300798*x0 + 8.8572591799404 + 0.8831796853592945/(455.6710214248366*x0**2 + 455.6710214248366*x0 + 1.2576438630397981)"
      ]
     },
     "metadata": {},
     "output_type": "display_data"
    },
    {
     "name": "stdout",
     "output_type": "stream",
     "text": [
      "Eq. 9 rmse: 0.4815872432081762\n"
     ]
    },
    {
     "data": {
      "text/latex": [
       "$\\displaystyle 1.830224983950366 x_{0} + 8.8572591799404 + \\frac{0.9504458538922101}{455.6710214248366 x_{0}^{2} + 355.57844306349793 x_{0} + 1.3954894940795648}$"
      ],
      "text/plain": [
       "1.830224983950366*x0 + 8.8572591799404 + 0.9504458538922101/(455.6710214248366*x0**2 + 355.57844306349793*x0 + 1.3954894940795648)"
      ]
     },
     "metadata": {},
     "output_type": "display_data"
    },
    {
     "name": "stdout",
     "output_type": "stream",
     "text": [
      "Eq. 10 rmse: 0.47417536927063547\n"
     ]
    },
    {
     "data": {
      "text/latex": [
       "$\\displaystyle 1.830224983950366 x_{0} + 8.8572591799404 + \\frac{1.0379896755632985}{455.6710214248366 x_{0}^{2} + 354.57844306349793 x_{0} + 1.3954894940795648}$"
      ],
      "text/plain": [
       "1.830224983950366*x0 + 8.8572591799404 + 1.0379896755632985/(455.6710214248366*x0**2 + 354.57844306349793*x0 + 1.3954894940795648)"
      ]
     },
     "metadata": {},
     "output_type": "display_data"
    }
   ],
   "source": [
    "functions.test_relation(['log_B/T'])"
   ]
  },
  {
   "cell_type": "code",
   "execution_count": 5,
   "id": "d640aa18",
   "metadata": {},
   "outputs": [
    {
     "name": "stderr",
     "output_type": "stream",
     "text": [
      "/home/zj448/miniconda3/lib/python3.9/site-packages/emcee/moves/red_blue.py:99: RuntimeWarning: invalid value encountered in scalar subtract\n",
      "  lnpdiff = f + nlp - state.log_prob[j]\n"
     ]
    },
    {
     "name": "stdout",
     "output_type": "stream",
     "text": [
      "[2.40365436 9.11049    0.41357191] [0.03104336 0.06942013 0.06716488]\n"
     ]
    },
    {
     "data": {
      "image/png": "[encoded data removed]",
      "text/plain": [
       "<Figure size 576x432 with 1 Axes>"
      ]
     },
     "metadata": {
      "needs_background": "light"
     },
     "output_type": "display_data"
    },
    {
     "name": "stdout",
     "output_type": "stream",
     "text": [
      "rmse: 0.5758282941221773\n"
     ]
    },
    {
     "data": {
      "text/plain": [
       "(array([2.40365436, 9.11049   , 0.41357191]),\n",
       " array([0.03104336, 0.06942013, 0.06716488]))"
      ]
     },
     "execution_count": 5,
     "metadata": {},
     "output_type": "execute_result"
    }
   ],
   "source": [
    "functions.hyperfit(['log_B/T'],bounds = ((2.3, 2.4),(8.9, 9.3), (1.0e-5, 1.0)))"
   ]
  },
  {
   "cell_type": "markdown",
   "id": "a8b0c67b",
   "metadata": {},
   "source": [
    "$\\log (\\frac{{M}_{BH}}{{M}_\\odot})=2.40 \\log(B/T) + 9.11$"
   ]
  },
  {
   "cell_type": "code",
   "execution_count": null,
   "id": "52a903c4",
   "metadata": {},
   "outputs": [],
   "source": []
  }
 ],
 "metadata": {
  "kernelspec": {
   "display_name": "Python 3 (ipykernel)",
   "language": "python",
   "name": "python3"
  },
  "language_info": {
   "codemirror_mode": {
    "name": "ipython",
    "version": 3
   },
   "file_extension": ".py",
   "mimetype": "text/x-python",
   "name": "python",
   "nbconvert_exporter": "python",
   "pygments_lexer": "ipython3",
   "version": "3.9.16"
  }
 },
 "nbformat": 4,
 "nbformat_minor": 5
}
