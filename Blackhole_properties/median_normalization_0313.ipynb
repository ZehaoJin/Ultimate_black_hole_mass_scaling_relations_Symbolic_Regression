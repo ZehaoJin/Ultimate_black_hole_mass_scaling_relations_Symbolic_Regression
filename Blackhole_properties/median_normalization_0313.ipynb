{
 "cells": [
  {
   "cell_type": "code",
   "execution_count": null,
   "id": "2c582e5d",
   "metadata": {},
   "outputs": [],
   "source": [
    "import numpy as np\n",
    "import pandas as pd\n",
    "from pysr import PySRRegressor\n",
    "from IPython.display import HTML\n",
    "\n",
    "from hyperfit.linfit import LinFit"
   ]
  },
  {
   "cell_type": "code",
   "execution_count": 2,
   "id": "b5c0b43e",
   "metadata": {},
   "outputs": [],
   "source": [
    "df = pd.read_csv('SMBH_Data_0303.csv',header=1)"
   ]
  },
  {
   "cell_type": "code",
   "execution_count": 3,
   "id": "667bad2d",
   "metadata": {
    "scrolled": true
   },
   "outputs": [],
   "source": [
    "paras=['log_sigma0','log_B/T','logRho_soi_approx_new']\n",
    "\n",
    "paras.append('M_BH')\n",
    "stds=[]\n",
    "for para in paras:\n",
    "    stds.append(para+'_std')\n",
    "    \n",
    "df_=df[paras+stds].dropna(axis='index',how='any')\n",
    "\n",
    "normalization=np.median(10**df_[paras],axis=0)[:-1]\n",
    "normalization=np.log10(normalization)\n",
    "xs=np.array(df_[paras]).transpose()\n",
    "errs=np.array(df_[stds]).transpose()\n",
    "cov=np.zeros((len(paras),len(paras),len(df_)))\n",
    "\n",
    "for i in range(len(normalization)):\n",
    "    xs[i]=xs[i]-normalization[i]\n",
    "    \n",
    "for i in range(len(paras)):\n",
    "    cov[i,i,:]=errs[i]**2\n"
   ]
  },
  {
   "cell_type": "code",
   "execution_count": 4,
   "id": "8db1f787",
   "metadata": {},
   "outputs": [
    {
     "data": {
      "text/plain": [
       "array([ 2.2771162 , -0.35953965,  2.77884623])"
      ]
     },
     "execution_count": 4,
     "metadata": {},
     "output_type": "execute_result"
    }
   ],
   "source": [
    "normalization"
   ]
  },
  {
   "cell_type": "code",
   "execution_count": 18,
   "id": "067e9f0e",
   "metadata": {},
   "outputs": [
    {
     "data": {
      "text/plain": [
       "8.017025510950333"
      ]
     },
     "execution_count": 18,
     "metadata": {},
     "output_type": "execute_result"
    }
   ],
   "source": [
    "normalization.sum()+3.32060273"
   ]
  },
  {
   "cell_type": "code",
   "execution_count": 16,
   "id": "dada253b",
   "metadata": {},
   "outputs": [
    {
     "data": {
      "text/plain": [
       "array([1.89285000e+02, 4.36978787e-01, 6.00960915e+02])"
      ]
     },
     "execution_count": 16,
     "metadata": {},
     "output_type": "execute_result"
    }
   ],
   "source": [
    "10**normalization"
   ]
  },
  {
   "cell_type": "code",
   "execution_count": 5,
   "id": "0cc3bdaa",
   "metadata": {},
   "outputs": [
    {
     "name": "stderr",
     "output_type": "stream",
     "text": [
      "/home/zj448/miniconda3/lib/python3.9/site-packages/pysr/sr.py:1257: UserWarning: Note: it looks like you are running in Jupyter. The progress bar will be turned off.\n",
      "  warnings.warn(\n",
      "WARNING: method definition for OneHotArray at /home/zj448/miniconda3/share/pysr/depot/packages/MicroCollections/yJPLe/src/onehot.jl:79 declares type variable N but does not use it.\n"
     ]
    },
    {
     "name": "stdout",
     "output_type": "stream",
     "text": [
      "Started!\n",
      "\n",
      "Cycles per second: 1.770e+04\n",
      "Head worker occupation: 90.3%. This is high, and will prevent efficient resource usage. Increase `ncyclesperiteration` to reduce load on head worker.\n",
      "Progress: 86 / 600 total iterations (14.333%)\n",
      "==============================\n",
      "Hall of Fame:\n",
      "-----------------------------------------\n",
      "Complexity  Loss       Score     Equation\n",
      "1           8.910e-01  -1.000e-10  8.14901319516396\n",
      "3           4.812e-01  3.080e-01  (x1 + 8.23881984939505)\n",
      "5           1.741e-01  5.084e-01  ((x0 + 1.5460460630364972) / 0.18677884720635154)\n",
      "9           1.330e-01  6.733e-02  ((x1 - ((x2 * 0.52014515512662) - x0)) - -8.235311020761564)\n",
      "11          6.621e-02  3.487e-01  (((x1 - (x2 * 0.52014515512662)) + (x0 * 2.81108541384743)) - -8.235311020761564)\n",
      "13          6.188e-02  3.383e-02  (((x0 * 2.814769445104858) - ((x2 * 0.42813587369474143) + -6.661169412408039)) - (-1.601716131221296 - x1))\n",
      "19          6.039e-02  4.069e-03  ((((x0 * x0) + (x2 * 0.5844008597436072)) + x1) - (-8.238780418377264 - (((x0 * -1.2095407705652939) / -0.42399153867506945) - x2)))\n",
      "\n",
      "==============================\n",
      "Press 'q' and then <enter> to stop execution early.\n",
      "\n",
      "Cycles per second: 4.440e+04\n",
      "Head worker occupation: 58.9%. This is high, and will prevent efficient resource usage. Increase `ncyclesperiteration` to reduce load on head worker.\n",
      "Progress: 282 / 600 total iterations (47.000%)\n",
      "==============================\n",
      "Hall of Fame:\n",
      "-----------------------------------------\n",
      "Complexity  Loss       Score     Equation\n",
      "1           8.910e-01  -1.000e-10  8.14901319516396\n",
      "3           4.812e-01  3.080e-01  (x1 + 8.23881984939505)\n",
      "5           1.741e-01  5.084e-01  ((x0 + 1.5460460630364972) / 0.18677884720635154)\n",
      "7           1.283e-01  1.524e-01  (((x0 / 0.26957766067066746) + x1) - -8.324383343840505)\n",
      "9           1.277e-01  2.681e-03  (((x1 - -8.235311020761564) + x0) - (x2 / 1.5563807853506975))\n",
      "11          6.271e-02  3.555e-01  (((x1 - (x2 / 2.1944618399678206)) - -8.235311020761564) + (x0 / 0.36445547878948426))\n",
      "13          6.188e-02  6.607e-03  (((x0 * 2.814769445104858) - ((x2 * 0.42813587369474143) + -6.661169412408039)) - (-1.601716131221296 - x1))\n",
      "15          5.950e-02  1.967e-02  (((x1 - (x2 / ((0.36445547878948426 - x1) + 2.1944618399678206))) - -8.235311020761564) + (x0 / 0.36445547878948426))\n",
      "17          5.767e-02  1.554e-02  (((x1 - (x2 / (((x1 * x1) - x1) + 2.1944618399678206))) - -8.235311020761564) + (x0 / 0.3677460841933386))\n",
      "19          5.661e-02  9.317e-03  (((x1 - (x2 / ((((x1 - 0.36445547878948426) * x1) * 3.1800537396231214) + 2.1944618399678206))) - -8.235311020761564) + (x0 / 0.36445547878948426))\n",
      "21          5.529e-02  1.183e-02  (((x1 - (x2 / ((((x2 - (x1 / -0.16488487542314847)) * x1) - x1) + 2.1944618399678206))) - -8.235311020761564) + (x0 / 0.36445547878948426))\n",
      "\n",
      "==============================\n",
      "Press 'q' and then <enter> to stop execution early.\n",
      "\n",
      "Cycles per second: 4.660e+04\n",
      "Head worker occupation: 55.2%. This is high, and will prevent efficient resource usage. Increase `ncyclesperiteration` to reduce load on head worker.\n",
      "Progress: 459 / 600 total iterations (76.500%)\n",
      "==============================\n",
      "Hall of Fame:\n",
      "-----------------------------------------\n",
      "Complexity  Loss       Score     Equation\n",
      "1           8.910e-01  -1.000e-10  8.14901319516396\n",
      "3           4.812e-01  3.080e-01  (x1 + 8.23881984939505)\n",
      "5           1.741e-01  5.084e-01  ((x0 + 1.5460460630364972) / 0.18677884720635154)\n",
      "7           1.283e-01  1.524e-01  (((x0 / 0.26957766067066746) + x1) - -8.324383343840505)\n",
      "9           1.264e-01  7.599e-03  (((x1 - (x2 / 1.5795993330637255)) - -8.201467675568956) + x0)\n",
      "11          6.271e-02  3.505e-01  (((x1 - (x2 / 2.1944618399678206)) - -8.235311020761564) + (x0 / 0.36445547878948426))\n",
      "13          6.188e-02  6.607e-03  (((x0 * 2.814769445104858) - ((x2 * 0.42813587369474143) + -6.661169412408039)) - (-1.601716131221296 - x1))\n",
      "15          5.880e-02  2.559e-02  (((x1 - (x2 / ((0.30137128365054 - x1) + 2.056319633425449))) - -8.235311020761564) + (x0 / 0.36445547878948426))\n",
      "17          5.767e-02  9.621e-03  (((x1 - (x2 / (((x1 * x1) - x1) + 2.1944618399678206))) - -8.235311020761564) + (x0 / 0.3677460841933386))\n",
      "19          5.460e-02  2.742e-02  (((x1 - (x2 / (((x0 / (x2 + x2)) - x1) + 2.1944618399678206))) - -8.235311020761564) + (x0 / 0.36445547878948426))\n",
      "21          5.314e-02  1.353e-02  (((x1 - (x2 / ((((x0 / (x2 + x2)) - -0.1665820321259676) - x1) + 2.1944618399678206))) - -8.235311020761564) + (x0 / 0.3603135639662209))\n",
      "\n",
      "==============================\n",
      "Press 'q' and then <enter> to stop execution early.\n"
     ]
    },
    {
     "data": {
      "text/plain": [
       "PySRRegressor.equations_ = [\n",
       "\t    pick     score                                           equation  \\\n",
       "\t0         0.000000                                   8.14901319516396   \n",
       "\t1         0.307991                            (x1 + 8.23881984939505)   \n",
       "\t2         0.508763     ((x0 * 5.287695603825985) + 8.270979218228176)   \n",
       "\t3         0.152053  (((x0 / 0.26957766067066746) + x1) - -8.324383...   \n",
       "\t4         0.007599  (((x1 - (x2 / 1.5795993330637255)) - -8.201467...   \n",
       "\t5   >>>>  0.350543  (((x1 - (x2 / 2.1944618399678206)) - -8.235311...   \n",
       "\t6         0.006604  (((x0 * 2.814769445104858) - ((x2 * 0.42813587...   \n",
       "\t7         0.025590  (((x1 - (x2 / ((0.30137128365054 - x1) + 2.056...   \n",
       "\t8         0.009621  (((x1 - (x2 / (((x1 * x1) - x1) + 2.1944618399...   \n",
       "\t9         0.028218  (((x1 - (x2 / (((x0 / (x2 + x2)) - x1) + 2.187...   \n",
       "\t10        0.014580  (((x1 - (x2 / ((((x0 / (x2 + x2)) - -0.1541151...   \n",
       "\t\n",
       "\t        loss  complexity  \n",
       "\t0   0.891005           1  \n",
       "\t1   0.481241           3  \n",
       "\t2   0.173963           5  \n",
       "\t3   0.128347           7  \n",
       "\t4   0.126411           9  \n",
       "\t5   0.062706          11  \n",
       "\t6   0.061883          13  \n",
       "\t7   0.058795          15  \n",
       "\t8   0.057675          17  \n",
       "\t9   0.054510          19  \n",
       "\t10  0.052944          21  \n",
       "]"
      ]
     },
     "execution_count": 5,
     "metadata": {},
     "output_type": "execute_result"
    }
   ],
   "source": [
    "w = 1/errs[-1]**2\n",
    "model = PySRRegressor(\n",
    "            binary_operators=[\"+\", \"-\", \"*\", \"/\"],\n",
    "            precision=64,\n",
    "        )\n",
    "X=xs[:-1].transpose()\n",
    "y=xs[-1]\n",
    "model.fit(X=X.transpose(), y=y, weights=w)"
   ]
  },
  {
   "cell_type": "code",
   "execution_count": 8,
   "id": "7326c462",
   "metadata": {},
   "outputs": [
    {
     "name": "stdout",
     "output_type": "stream",
     "text": [
      "Eq. selected rmse: 0.25041096701950705\n"
     ]
    },
    {
     "data": {
      "text/latex": [
       "$\\displaystyle 2.7426194364975364 x_{0} + x_{1} - 0.45569259022278734 x_{2} + 8.235311020761564$"
      ],
      "text/plain": [
       "2.7426194364975364*x0 + x1 - 0.45569259022278734*x2 + 8.235311020761564"
      ]
     },
     "metadata": {},
     "output_type": "display_data"
    },
    {
     "name": "stdout",
     "output_type": "stream",
     "text": [
      "Eq. 0 rmse: 0.9439306997500191\n"
     ]
    },
    {
     "data": {
      "text/latex": [
       "$\\displaystyle 8.14901319516396$"
      ],
      "text/plain": [
       "8.14901319516396"
      ]
     },
     "metadata": {},
     "output_type": "display_data"
    },
    {
     "name": "stdout",
     "output_type": "stream",
     "text": [
      "Eq. 1 rmse: 0.6937151263478758\n"
     ]
    },
    {
     "data": {
      "text/latex": [
       "$\\displaystyle x_{1} + 8.23881984939505$"
      ],
      "text/plain": [
       "x1 + 8.23881984939505"
      ]
     },
     "metadata": {},
     "output_type": "display_data"
    },
    {
     "name": "stdout",
     "output_type": "stream",
     "text": [
      "Eq. 2 rmse: 0.4170884256852229\n"
     ]
    },
    {
     "data": {
      "text/latex": [
       "$\\displaystyle 5.287695603825985 x_{0} + 8.270979218228176$"
      ],
      "text/plain": [
       "5.287695603825985*x0 + 8.270979218228176"
      ]
     },
     "metadata": {},
     "output_type": "display_data"
    },
    {
     "name": "stdout",
     "output_type": "stream",
     "text": [
      "Eq. 3 rmse: 0.35825518216683194\n"
     ]
    },
    {
     "data": {
      "text/latex": [
       "$\\displaystyle 3.7095061864998565 x_{0} + x_{1} + 8.324383343840505$"
      ],
      "text/plain": [
       "3.7095061864998565*x0 + x1 + 8.324383343840505"
      ]
     },
     "metadata": {},
     "output_type": "display_data"
    },
    {
     "name": "stdout",
     "output_type": "stream",
     "text": [
      "Eq. 4 rmse: 0.3555431889091052\n"
     ]
    },
    {
     "data": {
      "text/latex": [
       "$\\displaystyle x_{0} + x_{1} - 0.63307193100698604 x_{2} + 8.201467675568956$"
      ],
      "text/plain": [
       "x0 + x1 - 0.63307193100698604*x2 + 8.201467675568956"
      ]
     },
     "metadata": {},
     "output_type": "display_data"
    },
    {
     "name": "stdout",
     "output_type": "stream",
     "text": [
      "Eq. 5 rmse: 0.25041096701950705\n"
     ]
    },
    {
     "data": {
      "text/latex": [
       "$\\displaystyle 2.7426194364975364 x_{0} + x_{1} - 0.45569259022278734 x_{2} + 8.235311020761564$"
      ],
      "text/plain": [
       "2.7426194364975364*x0 + x1 - 0.45569259022278734*x2 + 8.235311020761564"
      ]
     },
     "metadata": {},
     "output_type": "display_data"
    },
    {
     "name": "stdout",
     "output_type": "stream",
     "text": [
      "Eq. 6 rmse: 0.2487627247031809\n"
     ]
    },
    {
     "data": {
      "text/latex": [
       "$\\displaystyle 2.814769445104858 x_{0} + x_{1} - 0.42813587369474143 x_{2} + 8.262885543629335$"
      ],
      "text/plain": [
       "2.814769445104858*x0 + x1 - 0.42813587369474143*x2 + 8.262885543629335"
      ]
     },
     "metadata": {},
     "output_type": "display_data"
    },
    {
     "name": "stdout",
     "output_type": "stream",
     "text": [
      "Eq. 7 rmse: 0.2424776960428815\n"
     ]
    },
    {
     "data": {
      "text/latex": [
       "$\\displaystyle 2.7438193639492992 x_{0} + x_{1} - \\frac{x_{2}}{2.357690917075989 - x_{1}} + 8.235311020761564$"
      ],
      "text/plain": [
       "2.7438193639492992*x0 + x1 - x2/(2.357690917075989 - x1) + 8.235311020761564"
      ]
     },
     "metadata": {},
     "output_type": "display_data"
    },
    {
     "name": "stdout",
     "output_type": "stream",
     "text": [
      "Eq. 8 rmse: 0.24015603895488147\n"
     ]
    },
    {
     "data": {
      "text/latex": [
       "$\\displaystyle 2.719267567983839 x_{0} + x_{1} - \\frac{x_{2}}{x_{1}^{2} - x_{1} + 2.1944618399678206} + 8.235311020761564$"
      ],
      "text/plain": [
       "2.719267567983839*x0 + x1 - x2/(x1**2 - x1 + 2.1944618399678206) + 8.235311020761564"
      ]
     },
     "metadata": {},
     "output_type": "display_data"
    },
    {
     "name": "stdout",
     "output_type": "stream",
     "text": [
      "Eq. 9 rmse: 0.23347398759987054\n"
     ]
    },
    {
     "data": {
      "text/latex": [
       "$\\displaystyle 2.482935378386317 x_{0} + x_{1} - \\frac{x_{2}}{\\frac{x_{0}}{2 x_{2}} - x_{1} + 2.187914055592247} + 8.222310361089427$"
      ],
      "text/plain": [
       "2.482935378386317*x0 + x1 - x2/(x0/(2*x2) - x1 + 2.187914055592247) + 8.222310361089427"
      ]
     },
     "metadata": {},
     "output_type": "display_data"
    },
    {
     "name": "stdout",
     "output_type": "stream",
     "text": [
      "Eq. 10 rmse: 0.2300947251664599\n"
     ]
    },
    {
     "data": {
      "text/latex": [
       "$\\displaystyle 2.768333228176993 x_{0} + x_{1} - \\frac{x_{2}}{\\frac{x_{0}}{2 x_{2}} - x_{1} + 2.3479483080732584} + 8.222310362136232$"
      ],
      "text/plain": [
       "2.768333228176993*x0 + x1 - x2/(x0/(2*x2) - x1 + 2.3479483080732584) + 8.222310362136232"
      ]
     },
     "metadata": {},
     "output_type": "display_data"
    }
   ],
   "source": [
    "def rmse(y,y_pred,w):\n",
    "    return np.sqrt(np.average((y-y_pred)**2,weights=w))\n",
    "\n",
    "print('Eq. selected rmse:',rmse(y,model.predict(X),w))\n",
    "display(model.sympy())\n",
    "    \n",
    "for i in range(len(model.equations_)):\n",
    "    print('Eq.',i,'rmse:',rmse(y,model.predict(X,index=i),w))\n",
    "    display(model.sympy(index=i))"
   ]
  },
  {
   "cell_type": "code",
   "execution_count": 11,
   "id": "979bf3c5",
   "metadata": {
    "scrolled": true
   },
   "outputs": [
    {
     "name": "stdout",
     "output_type": "stream",
     "text": [
      " message: Optimization terminated successfully.\n",
      " success: True\n",
      "     fun: -207.7989974864629\n",
      "       x: [-2.021e+00 -5.724e-01  1.714e-01  5.833e-01  4.108e-02]\n",
      "     nit: 110\n",
      "    nfev: 8385\n",
      "     jac: [-7.435e-03  5.385e-02  7.824e-03  7.492e+01 -2.902e-02]\n"
     ]
    },
    {
     "name": "stderr",
     "output_type": "stream",
     "text": [
      "  0%|                                                  | 0/1000 [00:00<?, ?it/s]/home/zj448/miniconda3/lib/python3.9/site-packages/emcee/moves/red_blue.py:99: RuntimeWarning: invalid value encountered in scalar subtract\n",
      "  lnpdiff = f + nlp - state.log_prob[j]\n",
      "100%|█████████████████████████████████████| 1000/1000 [00:00<00:00, 1609.51it/s]\n"
     ]
    },
    {
     "name": "stdout",
     "output_type": "stream",
     "text": [
      "Niterations/Max Iterations:  1000 / 100000\n",
      "Integrated ACT/Min Convergence Iterations:  [40.97790914 50.3572384  41.56010014 43.90696186 53.1825317 ] / 2659.1265850963828\n"
     ]
    },
    {
     "name": "stderr",
     "output_type": "stream",
     "text": [
      "100%|█████████████████████████████████████| 1000/1000 [00:00<00:00, 1619.43it/s]\n"
     ]
    },
    {
     "name": "stdout",
     "output_type": "stream",
     "text": [
      "Niterations/Max Iterations:  2000 / 100000\n",
      "Integrated ACT/Min Convergence Iterations:  [47.84417164 49.80440152 52.01298239 60.03896231 52.93319414] / 3001.9481153258366\n"
     ]
    },
    {
     "name": "stderr",
     "output_type": "stream",
     "text": [
      "100%|█████████████████████████████████████| 1000/1000 [00:00<00:00, 1627.66it/s]\n"
     ]
    },
    {
     "name": "stdout",
     "output_type": "stream",
     "text": [
      "Niterations/Max Iterations:  3000 / 100000\n",
      "Integrated ACT/Min Convergence Iterations:  [60.08772512 56.88272467 60.34995888 66.68468905 57.07345447] / 3334.2344524772516\n"
     ]
    },
    {
     "name": "stderr",
     "output_type": "stream",
     "text": [
      "100%|█████████████████████████████████████| 1000/1000 [00:00<00:00, 1602.55it/s]\n"
     ]
    },
    {
     "name": "stdout",
     "output_type": "stream",
     "text": [
      "Niterations/Max Iterations:  4000 / 100000\n",
      "Integrated ACT/Min Convergence Iterations:  [70.45541943 59.51866956 56.38167477 76.60188118 69.48621708] / 3830.0940591865005\n"
     ]
    },
    {
     "name": "stderr",
     "output_type": "stream",
     "text": [
      "100%|█████████████████████████████████████| 1000/1000 [00:00<00:00, 1619.11it/s]\n"
     ]
    },
    {
     "name": "stdout",
     "output_type": "stream",
     "text": [
      "Niterations/Max Iterations:  5000 / 100000\n",
      "Integrated ACT/Min Convergence Iterations:  [73.24411957 64.98402276 57.55522649 76.94232306 78.44630489] / 3922.3152444271805\n"
     ]
    },
    {
     "name": "stderr",
     "output_type": "stream",
     "text": [
      "100%|█████████████████████████████████████| 1000/1000 [00:00<00:00, 1614.77it/s]\n"
     ]
    },
    {
     "name": "stdout",
     "output_type": "stream",
     "text": [
      "Niterations/Max Iterations:  6000 / 100000\n",
      "Integrated ACT/Min Convergence Iterations:  [82.54216755 65.26331166 57.96372313 79.12967105 65.66386409] / 4127.108377295032\n"
     ]
    },
    {
     "name": "stderr",
     "output_type": "stream",
     "text": [
      "100%|█████████████████████████████████████| 1000/1000 [00:00<00:00, 1612.18it/s]\n"
     ]
    },
    {
     "name": "stdout",
     "output_type": "stream",
     "text": [
      "Niterations/Max Iterations:  7000 / 100000\n",
      "Integrated ACT/Min Convergence Iterations:  [74.00214036 66.46910448 61.0436482  78.87211882 57.99079742] / 3943.6059409006907\n"
     ]
    },
    {
     "name": "stderr",
     "output_type": "stream",
     "text": [
      "100%|█████████████████████████████████████| 1000/1000 [00:00<00:00, 1626.15it/s]\n"
     ]
    },
    {
     "name": "stdout",
     "output_type": "stream",
     "text": [
      "Niterations/Max Iterations:  8000 / 100000\n",
      "Integrated ACT/Min Convergence Iterations:  [72.4442787  61.3778316  60.99118179 79.41439791 58.54143732] / 3970.7198953334882\n"
     ]
    },
    {
     "name": "stderr",
     "output_type": "stream",
     "text": [
      "100%|█████████████████████████████████████| 1000/1000 [00:00<00:00, 1621.66it/s]\n"
     ]
    },
    {
     "name": "stdout",
     "output_type": "stream",
     "text": [
      "Niterations/Max Iterations:  9000 / 100000\n",
      "Integrated ACT/Min Convergence Iterations:  [73.18059135 59.35881959 63.76193662 82.01665192 57.01922458] / 4100.832595861864\n",
      "[ 3.41032627  0.99876554 -0.2990787   8.1962883   0.1415967 ] [0.0552344  0.10043203 0.03832975 0.03500594 0.07194335]\n"
     ]
    }
   ],
   "source": [
    "bounds = ((2.0, 3.0), (0.0, 1.0), (-1.0, 0.0), (7.0, 9.0), (1.0e-5, 1.0))\n",
    "hf = LinFit(xs, cov)\n",
    "\n",
    "mcmc_samples, mcmc_lnlike = hf.emcee(bounds, verbose=True)\n",
    "print(np.mean(mcmc_samples, axis=1), np.std(mcmc_samples, axis=1))"
   ]
  },
  {
   "cell_type": "code",
   "execution_count": 12,
   "id": "e0210c47",
   "metadata": {},
   "outputs": [
    {
     "data": {
      "image/png": "[encoded data removed]",
      "text/plain": [
       "<Figure size 576x432 with 1 Axes>"
      ]
     },
     "metadata": {
      "needs_background": "light"
     },
     "output_type": "display_data"
    }
   ],
   "source": [
    "c=np.mean(mcmc_samples, axis=1)\n",
    "y=xs[-1]\n",
    "y_pred=0\n",
    "for i in range(len(c)-2):\n",
    "    y_pred+=c[i]*xs[i]\n",
    "y_pred+=c[-2]\n",
    "\n",
    "plt.figure(figsize=(8,6))\n",
    "plt.scatter(y,y_pred,label='predicted')\n",
    "plt.plot(np.linspace(y_pred.min(),y_pred.max()),np.linspace(y_pred.min(),y_pred.max()),label='f(x)=x')\n",
    "plt.xlabel(r'True $\\rm{log} M_{BH}$',fontsize=20)\n",
    "plt.ylabel(r'Predicted $\\rm{log} M_{BH}$',fontsize=20)\n",
    "plt.legend()\n",
    "plt.show()"
   ]
  },
  {
   "cell_type": "code",
   "execution_count": 13,
   "id": "a35d77c4",
   "metadata": {},
   "outputs": [
    {
     "name": "stdout",
     "output_type": "stream",
     "text": [
      "rmse: 0.2813755577121205\n"
     ]
    }
   ],
   "source": [
    "print('rmse:',np.sqrt(np.average((y-y_pred)**2,weights=w)))"
   ]
  },
  {
   "cell_type": "code",
   "execution_count": null,
   "id": "e1a8a1e2",
   "metadata": {},
   "outputs": [],
   "source": []
  },
  {
   "cell_type": "code",
   "execution_count": 19,
   "id": "826cbb5e",
   "metadata": {
    "scrolled": true
   },
   "outputs": [
    {
     "name": "stdout",
     "output_type": "stream",
     "text": [
      " message: Optimization terminated successfully.\n",
      " success: True\n",
      "     fun: -193.92111963036828\n",
      "       x: [-2.202e+00 -8.511e-01  2.408e-01  7.567e-01  2.385e-02]\n",
      "     nit: 70\n",
      "    nfev: 5373\n",
      "     jac: [-6.736e-03 -6.292e+00  2.001e-03  7.211e+01 -1.320e-02]\n"
     ]
    },
    {
     "name": "stderr",
     "output_type": "stream",
     "text": [
      "  0%|                                                  | 0/1000 [00:00<?, ?it/s]/home/zj448/miniconda3/lib/python3.9/site-packages/emcee/moves/red_blue.py:99: RuntimeWarning: invalid value encountered in scalar subtract\n",
      "  lnpdiff = f + nlp - state.log_prob[j]\n",
      "100%|█████████████████████████████████████| 1000/1000 [00:00<00:00, 1591.85it/s]\n"
     ]
    },
    {
     "name": "stdout",
     "output_type": "stream",
     "text": [
      "Niterations/Max Iterations:  1000 / 100000\n",
      "Integrated ACT/Min Convergence Iterations:  [48.94978416 61.23126625 54.06958986 52.29594653 49.6256034 ] / 3061.5633126903067\n"
     ]
    },
    {
     "name": "stderr",
     "output_type": "stream",
     "text": [
      "100%|█████████████████████████████████████| 1000/1000 [00:00<00:00, 1599.35it/s]\n"
     ]
    },
    {
     "name": "stdout",
     "output_type": "stream",
     "text": [
      "Niterations/Max Iterations:  2000 / 100000\n",
      "Integrated ACT/Min Convergence Iterations:  [52.75605635 58.6811563  61.38271879 53.96191907 63.34728823] / 3167.3644116987666\n"
     ]
    },
    {
     "name": "stderr",
     "output_type": "stream",
     "text": [
      "100%|██████████████████████████████████████| 1000/1000 [00:01<00:00, 911.96it/s]\n"
     ]
    },
    {
     "name": "stdout",
     "output_type": "stream",
     "text": [
      "Niterations/Max Iterations:  3000 / 100000\n",
      "Integrated ACT/Min Convergence Iterations:  [69.14554985 66.90617539 86.9728476  72.3604076  75.09701673] / 4348.642379955652\n"
     ]
    },
    {
     "name": "stderr",
     "output_type": "stream",
     "text": [
      "100%|██████████████████████████████████████| 1000/1000 [00:01<00:00, 927.53it/s]\n"
     ]
    },
    {
     "name": "stdout",
     "output_type": "stream",
     "text": [
      "Niterations/Max Iterations:  4000 / 100000\n",
      "Integrated ACT/Min Convergence Iterations:  [77.96372846 68.78654478 87.92712829 75.34112602 85.18851472] / 4396.356414378669\n"
     ]
    },
    {
     "name": "stderr",
     "output_type": "stream",
     "text": [
      "100%|█████████████████████████████████████| 1000/1000 [00:00<00:00, 1493.39it/s]\n"
     ]
    },
    {
     "name": "stdout",
     "output_type": "stream",
     "text": [
      "Niterations/Max Iterations:  5000 / 100000\n",
      "Integrated ACT/Min Convergence Iterations:  [92.78122706 71.99272368 82.94737227 86.90364155 80.41116002] / 4639.06135308789\n"
     ]
    },
    {
     "name": "stderr",
     "output_type": "stream",
     "text": [
      "100%|█████████████████████████████████████| 1000/1000 [00:00<00:00, 1602.46it/s]\n"
     ]
    },
    {
     "name": "stdout",
     "output_type": "stream",
     "text": [
      "Niterations/Max Iterations:  6000 / 100000\n",
      "Integrated ACT/Min Convergence Iterations:  [106.16433748  78.57752352  83.54628541 102.18721587  85.47177082] / 5308.216873973709\n"
     ]
    },
    {
     "name": "stderr",
     "output_type": "stream",
     "text": [
      "100%|██████████████████████████████████████| 1000/1000 [00:01<00:00, 852.18it/s]\n"
     ]
    },
    {
     "name": "stdout",
     "output_type": "stream",
     "text": [
      "Niterations/Max Iterations:  7000 / 100000\n",
      "Integrated ACT/Min Convergence Iterations:  [90.42651271 83.05487872 81.98862916 89.96089173 82.96801999] / 4521.32563529066\n"
     ]
    },
    {
     "name": "stderr",
     "output_type": "stream",
     "text": [
      "100%|██████████████████████████████████████| 1000/1000 [00:01<00:00, 986.12it/s]\n"
     ]
    },
    {
     "name": "stdout",
     "output_type": "stream",
     "text": [
      "Niterations/Max Iterations:  8000 / 100000\n",
      "Integrated ACT/Min Convergence Iterations:  [96.12761234 83.19562177 77.18353877 93.75291456 80.13892403] / 4806.3806171903725\n"
     ]
    },
    {
     "name": "stderr",
     "output_type": "stream",
     "text": [
      "100%|█████████████████████████████████████| 1000/1000 [00:00<00:00, 1601.65it/s]\n"
     ]
    },
    {
     "name": "stdout",
     "output_type": "stream",
     "text": [
      "Niterations/Max Iterations:  9000 / 100000\n",
      "Integrated ACT/Min Convergence Iterations:  [ 93.87526069  85.40585628  84.97219394 102.20967472  85.18233002] / 5110.483735958836\n"
     ]
    },
    {
     "name": "stderr",
     "output_type": "stream",
     "text": [
      "100%|█████████████████████████████████████| 1000/1000 [00:00<00:00, 1614.45it/s]\n"
     ]
    },
    {
     "name": "stdout",
     "output_type": "stream",
     "text": [
      "Niterations/Max Iterations:  10000 / 100000\n",
      "Integrated ACT/Min Convergence Iterations:  [ 95.34688599  87.56680684  87.19109569 101.1372878   81.46272584] / 5056.864389867342\n",
      "[ 2.85425535  1.16151575 -0.3337952   8.20260696  0.08668111] [0.03487247 0.04581018 0.02570283 0.03600486 0.05704124]\n"
     ]
    }
   ],
   "source": [
    "bounds = ((2.7, 2.8), (1.1, 1.2), (-0.4, -0.3), (7.9, 8.1), (1.0e-5, 1.0))\n",
    "hf = LinFit(xs, cov)\n",
    "\n",
    "mcmc_samples, mcmc_lnlike = hf.emcee(bounds, verbose=True)\n",
    "print(np.mean(mcmc_samples, axis=1), np.std(mcmc_samples, axis=1))"
   ]
  },
  {
   "cell_type": "code",
   "execution_count": 20,
   "id": "a180eae1",
   "metadata": {},
   "outputs": [
    {
     "data": {
      "image/png": "[encoded data removed]",
      "text/plain": [
       "<Figure size 576x432 with 1 Axes>"
      ]
     },
     "metadata": {
      "needs_background": "light"
     },
     "output_type": "display_data"
    }
   ],
   "source": [
    "c=np.mean(mcmc_samples, axis=1)\n",
    "y=xs[-1]\n",
    "y_pred=0\n",
    "for i in range(len(c)-2):\n",
    "    y_pred+=c[i]*xs[i]\n",
    "y_pred+=c[-2]\n",
    "\n",
    "plt.figure(figsize=(8,6))\n",
    "plt.scatter(y,y_pred,label='predicted')\n",
    "plt.plot(np.linspace(y_pred.min(),y_pred.max()),np.linspace(y_pred.min(),y_pred.max()),label='f(x)=x')\n",
    "plt.xlabel(r'True $\\rm{log} M_{BH}$',fontsize=20)\n",
    "plt.ylabel(r'Predicted $\\rm{log} M_{BH}$',fontsize=20)\n",
    "plt.legend()\n",
    "plt.show()"
   ]
  },
  {
   "cell_type": "code",
   "execution_count": null,
   "id": "d9e71271",
   "metadata": {},
   "outputs": [],
   "source": [
    "def plot_relation(paras,relation,obs=pd.read_csv('SMBH_Data_0303.csv',header=1)):\n",
    "    "
   ]
  },
  {
   "cell_type": "code",
   "execution_count": null,
   "id": "dc8ab1bf",
   "metadata": {},
   "outputs": [],
   "source": []
  },
  {
   "cell_type": "code",
   "execution_count": null,
   "id": "8f68f9dd",
   "metadata": {},
   "outputs": [],
   "source": []
  },
  {
   "cell_type": "code",
   "execution_count": null,
   "id": "691ced54",
   "metadata": {},
   "outputs": [],
   "source": [
    "obs = pd.read_csv('SMBH_Data_0303.csv',header=1)\n",
    "paras=['log_sigma0','log_B/T','logRho_soi_approx_new','M_BH']\n",
    "obs = obs[paras].dropna(axis='index',how='any')\n",
    "obs"
   ]
  }
 ],
 "metadata": {
  "kernelspec": {
   "display_name": "Python 3 (ipykernel)",
   "language": "python",
   "name": "python3"
  },
  "language_info": {
   "codemirror_mode": {
    "name": "ipython",
    "version": 3
   },
   "file_extension": ".py",
   "mimetype": "text/x-python",
   "name": "python",
   "nbconvert_exporter": "python",
   "pygments_lexer": "ipython3",
   "version": "3.9.16"
  }
 },
 "nbformat": 4,
 "nbformat_minor": 5
}
